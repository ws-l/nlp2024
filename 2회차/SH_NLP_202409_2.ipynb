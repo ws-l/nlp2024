{
  "nbformat": 4,
  "nbformat_minor": 0,
  "metadata": {
    "colab": {
      "provenance": []
    },
    "kernelspec": {
      "name": "python3",
      "display_name": "Python 3"
    },
    "language_info": {
      "name": "python"
    }
  },
  "cells": [
    {
      "cell_type": "markdown",
      "source": [
        "#1. DTM 특성 이해 및 활용"
      ],
      "metadata": {
        "id": "1yxbqUAHmia_"
      }
    },
    {
      "cell_type": "markdown",
      "metadata": {
        "id": "TujL6BDkm5lY"
      },
      "source": [
        "- 언어모델 VS BOW\n",
        " - 언어 모델(Language Model): 단어 시퀀스에 확률을 할당(assign), 문장의 확률 예측\n",
        "  - 통계 기반 / ANN 기반 등\n",
        "  - GPT 나 Bert, Transformer 또한 인공 신경망 모델 기반\n"
      ]
    },
    {
      "cell_type": "markdown",
      "metadata": {
        "id": "Bc5YmPE1GMg7"
      },
      "source": [
        " -  BOW(bag of words): 전통적 방식\n",
        "  - Bag of Words란 단어들의 순서는 전혀 고려하지 않고, 단어들의 출현 빈도(frequency)에만 집중하는 텍스트 데이터의 수치화\n",
        "  - 쉽게 빠른 구축\n",
        "  - 예상보다 문서의 특징을 잘 나타내어 전통적으로 여러분야에서 활용도가 높음\n",
        "  - 문맥 의미(Semantic Context) 반영 문제\n",
        "  - 희소 행렬 문제\n",
        "\n",
        "\n"
      ]
    },
    {
      "cell_type": "code",
      "execution_count": 1,
      "metadata": {
        "id": "gLQyv_l3mgK2",
        "colab": {
          "base_uri": "https://localhost:8080/",
          "height": 458
        },
        "outputId": "c10bdbb5-3740-4398-ccac-72184b8b322a"
      },
      "outputs": [
        {
          "output_type": "execute_result",
          "data": {
            "text/plain": [
              "0      게티이미지뱅크 콩나물(사진)은 대두를 발아시켜 뿌리를 자라게 한 것이다. 동의보감에...\n",
              "1      사진 한 장 없이 떠난 일지 스님 불교 현실에 대한 질타 등 생전에 연재했던 글, ...\n",
              "2      이재익의 아재음악 열전전태관(왼쪽)과 김종진. <한겨레> 자료사진 2018년을 얼마...\n",
              "3      서울대병원 제공서울대병원은 올해 1월부터 국내에서 독자적으로 개발한 인공지능 기술을...\n",
              "4      ㆍ2.1㎓ 속도 ‘엑시노스 오토 V9’ㆍ2021년 생산 차량부터 탑재2021년 생산...\n",
              "                             ...                        \n",
              "395    박정호 SK텔레콤 사장이 SK브로드밴드 사장을 겸직한 이후 첫 행보로 ‘옥수수 연합...\n",
              "396    LG전자가 세계 최초 88인치 8K OLED TV를 내놓는다. 인공지능(AI) 기술...\n",
              "397    게임은 사회악 아닌 건전한 놀이문화(지디넷코리아=이도원 기자)\"게임산업 전체의 발전...\n",
              "398    10여년 만에 매출예상치 하향…주가도 폭락(지디넷코리아=김익현 기자)최근 10년 여...\n",
              "399    [머니투데이 판교(경기)=김지영 기자] [최대주주 지분 매각설에 '긴장감' 흘러…게...\n",
              "Name: articles, Length: 400, dtype: object"
            ],
            "text/html": [
              "<div>\n",
              "<style scoped>\n",
              "    .dataframe tbody tr th:only-of-type {\n",
              "        vertical-align: middle;\n",
              "    }\n",
              "\n",
              "    .dataframe tbody tr th {\n",
              "        vertical-align: top;\n",
              "    }\n",
              "\n",
              "    .dataframe thead th {\n",
              "        text-align: right;\n",
              "    }\n",
              "</style>\n",
              "<table border=\"1\" class=\"dataframe\">\n",
              "  <thead>\n",
              "    <tr style=\"text-align: right;\">\n",
              "      <th></th>\n",
              "      <th>articles</th>\n",
              "    </tr>\n",
              "  </thead>\n",
              "  <tbody>\n",
              "    <tr>\n",
              "      <th>0</th>\n",
              "      <td>게티이미지뱅크 콩나물(사진)은 대두를 발아시켜 뿌리를 자라게 한 것이다. 동의보감에...</td>\n",
              "    </tr>\n",
              "    <tr>\n",
              "      <th>1</th>\n",
              "      <td>사진 한 장 없이 떠난 일지 스님 불교 현실에 대한 질타 등 생전에 연재했던 글, ...</td>\n",
              "    </tr>\n",
              "    <tr>\n",
              "      <th>2</th>\n",
              "      <td>이재익의 아재음악 열전전태관(왼쪽)과 김종진. &lt;한겨레&gt; 자료사진 2018년을 얼마...</td>\n",
              "    </tr>\n",
              "    <tr>\n",
              "      <th>3</th>\n",
              "      <td>서울대병원 제공서울대병원은 올해 1월부터 국내에서 독자적으로 개발한 인공지능 기술을...</td>\n",
              "    </tr>\n",
              "    <tr>\n",
              "      <th>4</th>\n",
              "      <td>ㆍ2.1㎓ 속도 ‘엑시노스 오토 V9’ㆍ2021년 생산 차량부터 탑재2021년 생산...</td>\n",
              "    </tr>\n",
              "    <tr>\n",
              "      <th>...</th>\n",
              "      <td>...</td>\n",
              "    </tr>\n",
              "    <tr>\n",
              "      <th>395</th>\n",
              "      <td>박정호 SK텔레콤 사장이 SK브로드밴드 사장을 겸직한 이후 첫 행보로 ‘옥수수 연합...</td>\n",
              "    </tr>\n",
              "    <tr>\n",
              "      <th>396</th>\n",
              "      <td>LG전자가 세계 최초 88인치 8K OLED TV를 내놓는다. 인공지능(AI) 기술...</td>\n",
              "    </tr>\n",
              "    <tr>\n",
              "      <th>397</th>\n",
              "      <td>게임은 사회악 아닌 건전한 놀이문화(지디넷코리아=이도원 기자)\"게임산업 전체의 발전...</td>\n",
              "    </tr>\n",
              "    <tr>\n",
              "      <th>398</th>\n",
              "      <td>10여년 만에 매출예상치 하향…주가도 폭락(지디넷코리아=김익현 기자)최근 10년 여...</td>\n",
              "    </tr>\n",
              "    <tr>\n",
              "      <th>399</th>\n",
              "      <td>[머니투데이 판교(경기)=김지영 기자] [최대주주 지분 매각설에 '긴장감' 흘러…게...</td>\n",
              "    </tr>\n",
              "  </tbody>\n",
              "</table>\n",
              "<p>400 rows × 1 columns</p>\n",
              "</div><br><label><b>dtype:</b> object</label>"
            ]
          },
          "metadata": {},
          "execution_count": 1
        }
      ],
      "source": [
        "import pandas as pd\n",
        "df = pd.read_csv(\"news.csv\")\n",
        "df[\"articles\"]"
      ]
    },
    {
      "cell_type": "code",
      "source": [
        "!pip install konlpy\n",
        "\n",
        "from konlpy.tag import Okt\n",
        "okt = Okt() #Kkma, Hannanum....\n",
        "okt.nouns( df[\"articles\"][0] )  #수집된 첫번째 기사에 대한 명사"
      ],
      "metadata": {
        "id": "hdQWt20RoqkM",
        "colab": {
          "base_uri": "https://localhost:8080/"
        },
        "outputId": "5eb95acc-05d2-4945-e421-7093b0c9930f"
      },
      "execution_count": 2,
      "outputs": [
        {
          "output_type": "stream",
          "name": "stdout",
          "text": [
            "Collecting konlpy\n",
            "  Downloading konlpy-0.6.0-py2.py3-none-any.whl.metadata (1.9 kB)\n",
            "Collecting JPype1>=0.7.0 (from konlpy)\n",
            "  Downloading JPype1-1.5.0-cp310-cp310-manylinux_2_17_x86_64.manylinux2014_x86_64.whl.metadata (4.9 kB)\n",
            "Requirement already satisfied: lxml>=4.1.0 in /usr/local/lib/python3.10/dist-packages (from konlpy) (4.9.4)\n",
            "Requirement already satisfied: numpy>=1.6 in /usr/local/lib/python3.10/dist-packages (from konlpy) (1.26.4)\n",
            "Requirement already satisfied: packaging in /usr/local/lib/python3.10/dist-packages (from JPype1>=0.7.0->konlpy) (24.1)\n",
            "Downloading konlpy-0.6.0-py2.py3-none-any.whl (19.4 MB)\n",
            "\u001b[2K   \u001b[90m━━━━━━━━━━━━━━━━━━━━━━━━━━━━━━━━━━━━━━━━\u001b[0m \u001b[32m19.4/19.4 MB\u001b[0m \u001b[31m28.6 MB/s\u001b[0m eta \u001b[36m0:00:00\u001b[0m\n",
            "\u001b[?25hDownloading JPype1-1.5.0-cp310-cp310-manylinux_2_17_x86_64.manylinux2014_x86_64.whl (488 kB)\n",
            "\u001b[2K   \u001b[90m━━━━━━━━━━━━━━━━━━━━━━━━━━━━━━━━━━━━━━━━\u001b[0m \u001b[32m488.6/488.6 kB\u001b[0m \u001b[31m22.1 MB/s\u001b[0m eta \u001b[36m0:00:00\u001b[0m\n",
            "\u001b[?25hInstalling collected packages: JPype1, konlpy\n",
            "Successfully installed JPype1-1.5.0 konlpy-0.6.0\n"
          ]
        },
        {
          "output_type": "execute_result",
          "data": {
            "text/plain": [
              "['게티',\n",
              " '이미지',\n",
              " '뱅크',\n",
              " '콩나물',\n",
              " '사진',\n",
              " '은',\n",
              " '대두',\n",
              " '발아',\n",
              " '뿌리',\n",
              " '것',\n",
              " '동의보감',\n",
              " '콩나물',\n",
              " '온',\n",
              " '몸',\n",
              " '근육',\n",
              " '뼈',\n",
              " '때',\n",
              " '도움',\n",
              " '제반',\n",
              " '염증',\n",
              " '억제',\n",
              " '효과',\n",
              " '콩나물',\n",
              " '식물',\n",
              " '단백질',\n",
              " '아스파라긴산',\n",
              " '은',\n",
              " '프랑',\n",
              " '과학자',\n",
              " '아스파라거스',\n",
              " '발견',\n",
              " '이름',\n",
              " '아스파라긴산',\n",
              " '암모니아',\n",
              " '대사',\n",
              " '촉진',\n",
              " '독소',\n",
              " '흡수',\n",
              " '혈액',\n",
              " '통해',\n",
              " '제거',\n",
              " '간',\n",
              " '건강',\n",
              " '도움',\n",
              " '이',\n",
              " '때문',\n",
              " '숙취',\n",
              " '해소',\n",
              " '효과',\n",
              " '또',\n",
              " '콩팥',\n",
              " '기능',\n",
              " '요산',\n",
              " '배설',\n",
              " '촉진',\n",
              " '시킴',\n",
              " '동시',\n",
              " '신경통',\n",
              " '류머티즘',\n",
              " '효과',\n",
              " '콩나물',\n",
              " '대두',\n",
              " '상태',\n",
              " '일',\n",
              " '때',\n",
              " '비타민',\n",
              " '발아',\n",
              " '과정',\n",
              " '합성',\n",
              " '비타민',\n",
              " '비타민',\n",
              " '피부',\n",
              " '면역',\n",
              " '콩나물',\n",
              " '조리',\n",
              " '과정',\n",
              " '비타민',\n",
              " '파괴',\n",
              " '때문',\n",
              " '조리',\n",
              " '섭취',\n",
              " '게',\n",
              " '정명',\n",
              " '진',\n",
              " '의학',\n",
              " '전문',\n",
              " '기자',\n",
              " '정명',\n",
              " '진',\n",
              " '기자',\n",
              " '세상',\n",
              " '모든',\n",
              " '골',\n",
              " '이야기',\n",
              " '파스',\n",
              " '보이',\n",
              " '연예',\n",
              " '뉴스',\n",
              " '스타',\n",
              " '저작권',\n",
              " '파이낸셜뉴스',\n",
              " '무단',\n",
              " '재',\n",
              " '재',\n",
              " '배포',\n",
              " '금지']"
            ]
          },
          "metadata": {},
          "execution_count": 2
        }
      ]
    },
    {
      "cell_type": "code",
      "source": [
        "def tokenizer(text):  #함수를 만드는 부분\n",
        "    # 입력 인자로 들어온 text 를 형태소 단어로 토큰화 하여 list 객체 반환\n",
        "    tokens_ko = okt.nouns(text) #nouns를 morphs로 바꾸면 명사외에도...\n",
        "    return tokens_ko"
      ],
      "metadata": {
        "id": "Ow5QJyisUxnC"
      },
      "execution_count": 3,
      "outputs": []
    },
    {
      "cell_type": "code",
      "source": [
        "from sklearn.feature_extraction.text import CountVectorizer\n",
        "from sklearn.feature_extraction.text import TfidfVectorizer\n",
        "\n",
        "tf_vect = TfidfVectorizer(tokenizer=tokenizer,\n",
        "                          #stop_words 단어를 제거\n",
        "                          stop_words=['건','악','최', '초','총','탈', '폭'],\n",
        "                          #단어들이 최소 전체의 10% 문서에서 나오는 것만 DTM에 사용\n",
        "                          min_df=0.1)\n",
        "dtm = tf_vect.fit_transform( df.articles )\n",
        "dtm"
      ],
      "metadata": {
        "colab": {
          "base_uri": "https://localhost:8080/"
        },
        "id": "l2kAWZTQ9huV",
        "outputId": "07a687a3-3606-4f14-be2e-d62359b284d8"
      },
      "execution_count": 4,
      "outputs": [
        {
          "output_type": "stream",
          "name": "stderr",
          "text": [
            "/usr/local/lib/python3.10/dist-packages/sklearn/feature_extraction/text.py:525: UserWarning: The parameter 'token_pattern' will not be used since 'tokenizer' is not None'\n",
            "  warnings.warn(\n"
          ]
        },
        {
          "output_type": "execute_result",
          "data": {
            "text/plain": [
              "<400x364 sparse matrix of type '<class 'numpy.float64'>'\n",
              "\twith 29578 stored elements in Compressed Sparse Row format>"
            ]
          },
          "metadata": {},
          "execution_count": 4
        }
      ]
    },
    {
      "cell_type": "code",
      "source": [
        "tf_vect.vocabulary_\n",
        "tf_vect.get_feature_names_out()"
      ],
      "metadata": {
        "id": "qGyG6-g_AKki",
        "colab": {
          "base_uri": "https://localhost:8080/"
        },
        "outputId": "65733832-3d5a-47d2-8b23-fec8394e572f"
      },
      "execution_count": 5,
      "outputs": [
        {
          "output_type": "execute_result",
          "data": {
            "text/plain": [
              "array(['가격', '가능성', '가운데', '가장', '가지', '가치', '각각', '간', '감소', '강조', '개',\n",
              "       '개발', '개선', '개인', '거나', '건강', '것', '게', '게임', '결과', '결정', '경우',\n",
              "       '경쟁', '경쟁력', '경제', '경험', '계속', '계획', '고', '고려', '곳', '공간', '공개',\n",
              "       '과', '과거', '과정', '관계', '관계자', '관련', '관리', '관심', '관측', '교수', '구독',\n",
              "       '국가', '국내', '국제', '규모', '규제', '그', '그동안', '글로벌', '금지', '기간', '기능',\n",
              "       '기도', '기록', '기반', '기사', '기술', '기업', '기자', '기존', '기준', '길', '김',\n",
              "       '나', '날', '내', '내용', '네이버', '년', '누구', '눈', '뉴스', '다른', '다만', '다시',\n",
              "       '다음', '단계', '달', '당시', '대부분', '대비', '대상', '대표', '대한', '대해', '더',\n",
              "       '더욱', '데', '데이터', '도', '도움', '동시', '동안', '동영상', '두', '뒤', '등',\n",
              "       '등장', '때', '때문', '또', '또한', '뜻', '라며', '로', '를', '마련', '마지막', '만',\n",
              "       '만큼', '만화', '말', '매우', '매출', '먼저', '메인', '며', '면서', '명', '명의',\n",
              "       '모델', '모두', '모든', '모바일', '모습', '목표', '못', '무단', '무엇', '문제', '문화',\n",
              "       '미국', '미디어', '미래', '및', '바', '바로', '바로가기', '반응', '발생', '발표', '방법',\n",
              "       '방송', '방식', '배', '배경', '배포', '번', '법인', '변화', '병원', '보고', '보기',\n",
              "       '보유', '보이', '본격', '볼', '부분', '분', '분석', '분야', '브랜드', '비', '비교',\n",
              "       '비롯', '뿐', '사', '사람', '사례', '사실', '사업', '사용', '사이', '사진', '사회',\n",
              "       '산업', '살', '삶', '삼성', '상태', '상황', '새', '새해', '생각', '서비스', '서울',\n",
              "       '선', '선택', '설명', '성공', '성장', '세', '세계', '세상', '센터', '소개', '속',\n",
              "       '속도', '손', '수', '수도', '수준', '스마트폰', '시', '시간', '시기', '시대', '시스템',\n",
              "       '시작', '시장', '실시간', '실제', '안', '알', '앞', '앞서', '약', '업계', '업체',\n",
              "       '여기', '여러', '역사', '역시', '역할', '연구', '영상', '영향', '예상', '예정', '오늘',\n",
              "       '오전', '온', '올해', '외', '우려', '우리', '우리나라', '운동', '운영', '위', '위치',\n",
              "       '위해', '유지', '은', '의', '의미', '이', '이름', '이번', '이상', '이야기', '이용',\n",
              "       '이유', '이후', '인공', '인기', '인수', '인식', '인터넷', '일', '일본', '일부', '입장',\n",
              "       '자리', '자신', '자체', '작년', '재', '저작권', '적용', '전', '전망', '전문', '전문가',\n",
              "       '전자', '전체', '점', '정도', '정보', '정부', '제', '제공', '제작', '제품', '조사',\n",
              "       '종합', '주', '주목', '주요', '준비', '줄', '중', '중국', '중심', '중앙', '중이',\n",
              "       '증가', '지금', '지난', '지난해', '지능', '지속', '지역', '지원', '지적', '직접', '진행',\n",
              "       '집', '집중', '차', '차례', '차지', '참여', '창', '채', '채널', '처음', '첫', '최고',\n",
              "       '최근', '최대', '최초', '추가', '추진', '출시', '치료', '커피', '코리아', '콘텐츠', '크게',\n",
              "       '통해', '투자', '팀', '판매', '페이스북', '평가', '포함', '프리미엄', '플랫폼', '하나',\n",
              "       '한국', '한편', '해', '해당', '해외', '현재', '현지', '협력', '형태', '홈페이지', '확대',\n",
              "       '확보', '확인', '환경', '환자', '활동', '활용', '회사', '효과', '후', '힘'],\n",
              "      dtype=object)"
            ]
          },
          "metadata": {},
          "execution_count": 5
        }
      ]
    },
    {
      "cell_type": "code",
      "source": [
        "df2 = pd.DataFrame(dtm.todense(), columns = tf_vect.get_feature_names_out())\n",
        "df2"
      ],
      "metadata": {
        "id": "EPdIjztX-Aj1",
        "colab": {
          "base_uri": "https://localhost:8080/",
          "height": 461
        },
        "outputId": "eccebd43-9832-4a6c-b14d-10060b27eb1c"
      },
      "execution_count": 6,
      "outputs": [
        {
          "output_type": "execute_result",
          "data": {
            "text/plain": [
              "           가격       가능성       가운데   가장        가지       가치        각각         간  \\\n",
              "0    0.000000  0.000000  0.000000  0.0  0.000000  0.00000  0.000000  0.151087   \n",
              "1    0.000000  0.000000  0.000000  0.0  0.099479  0.00000  0.000000  0.000000   \n",
              "2    0.000000  0.000000  0.000000  0.0  0.000000  0.00000  0.000000  0.000000   \n",
              "3    0.000000  0.037865  0.000000  0.0  0.000000  0.00000  0.000000  0.000000   \n",
              "4    0.000000  0.000000  0.000000  0.0  0.000000  0.00000  0.000000  0.000000   \n",
              "..        ...       ...       ...  ...       ...      ...       ...       ...   \n",
              "395  0.000000  0.000000  0.043998  0.0  0.000000  0.00000  0.050462  0.044950   \n",
              "396  0.000000  0.000000  0.000000  0.0  0.000000  0.05145  0.000000  0.000000   \n",
              "397  0.000000  0.000000  0.000000  0.0  0.035923  0.00000  0.000000  0.000000   \n",
              "398  0.053786  0.000000  0.000000  0.0  0.000000  0.00000  0.000000  0.000000   \n",
              "399  0.000000  0.000000  0.000000  0.0  0.000000  0.00000  0.000000  0.000000   \n",
              "\n",
              "           감소        강조  ...   확보   확인        환경        환자        활동  \\\n",
              "0    0.000000  0.000000  ...  0.0  0.0  0.000000  0.000000  0.000000   \n",
              "1    0.000000  0.000000  ...  0.0  0.0  0.000000  0.000000  0.000000   \n",
              "2    0.000000  0.000000  ...  0.0  0.0  0.000000  0.081761  0.160110   \n",
              "3    0.000000  0.000000  ...  0.0  0.0  0.000000  0.093729  0.045887   \n",
              "4    0.000000  0.000000  ...  0.0  0.0  0.000000  0.000000  0.000000   \n",
              "..        ...       ...  ...  ...  ...       ...       ...       ...   \n",
              "395  0.000000  0.000000  ...  0.0  0.0  0.043543  0.000000  0.000000   \n",
              "396  0.000000  0.000000  ...  0.0  0.0  0.047337  0.000000  0.000000   \n",
              "397  0.000000  0.000000  ...  0.0  0.0  0.037022  0.000000  0.000000   \n",
              "398  0.056783  0.100149  ...  0.0  0.0  0.095950  0.000000  0.000000   \n",
              "399  0.000000  0.000000  ...  0.0  0.0  0.000000  0.000000  0.000000   \n",
              "\n",
              "           활용        회사        효과         후         힘  \n",
              "0    0.000000  0.000000  0.477219  0.000000  0.000000  \n",
              "1    0.000000  0.000000  0.000000  0.000000  0.000000  \n",
              "2    0.000000  0.000000  0.000000  0.118364  0.155893  \n",
              "3    0.169115  0.036483  0.000000  0.000000  0.000000  \n",
              "4    0.000000  0.000000  0.000000  0.000000  0.000000  \n",
              "..        ...       ...       ...       ...       ...  \n",
              "395  0.046494  0.000000  0.000000  0.000000  0.000000  \n",
              "396  0.000000  0.000000  0.000000  0.000000  0.000000  \n",
              "397  0.000000  0.000000  0.000000  0.000000  0.000000  \n",
              "398  0.000000  0.000000  0.000000  0.000000  0.000000  \n",
              "399  0.000000  0.308756  0.000000  0.000000  0.000000  \n",
              "\n",
              "[400 rows x 364 columns]"
            ],
            "text/html": [
              "\n",
              "  <div id=\"df-6fec9905-13a5-4ba0-974c-a8fc545c5444\" class=\"colab-df-container\">\n",
              "    <div>\n",
              "<style scoped>\n",
              "    .dataframe tbody tr th:only-of-type {\n",
              "        vertical-align: middle;\n",
              "    }\n",
              "\n",
              "    .dataframe tbody tr th {\n",
              "        vertical-align: top;\n",
              "    }\n",
              "\n",
              "    .dataframe thead th {\n",
              "        text-align: right;\n",
              "    }\n",
              "</style>\n",
              "<table border=\"1\" class=\"dataframe\">\n",
              "  <thead>\n",
              "    <tr style=\"text-align: right;\">\n",
              "      <th></th>\n",
              "      <th>가격</th>\n",
              "      <th>가능성</th>\n",
              "      <th>가운데</th>\n",
              "      <th>가장</th>\n",
              "      <th>가지</th>\n",
              "      <th>가치</th>\n",
              "      <th>각각</th>\n",
              "      <th>간</th>\n",
              "      <th>감소</th>\n",
              "      <th>강조</th>\n",
              "      <th>...</th>\n",
              "      <th>확보</th>\n",
              "      <th>확인</th>\n",
              "      <th>환경</th>\n",
              "      <th>환자</th>\n",
              "      <th>활동</th>\n",
              "      <th>활용</th>\n",
              "      <th>회사</th>\n",
              "      <th>효과</th>\n",
              "      <th>후</th>\n",
              "      <th>힘</th>\n",
              "    </tr>\n",
              "  </thead>\n",
              "  <tbody>\n",
              "    <tr>\n",
              "      <th>0</th>\n",
              "      <td>0.000000</td>\n",
              "      <td>0.000000</td>\n",
              "      <td>0.000000</td>\n",
              "      <td>0.0</td>\n",
              "      <td>0.000000</td>\n",
              "      <td>0.00000</td>\n",
              "      <td>0.000000</td>\n",
              "      <td>0.151087</td>\n",
              "      <td>0.000000</td>\n",
              "      <td>0.000000</td>\n",
              "      <td>...</td>\n",
              "      <td>0.0</td>\n",
              "      <td>0.0</td>\n",
              "      <td>0.000000</td>\n",
              "      <td>0.000000</td>\n",
              "      <td>0.000000</td>\n",
              "      <td>0.000000</td>\n",
              "      <td>0.000000</td>\n",
              "      <td>0.477219</td>\n",
              "      <td>0.000000</td>\n",
              "      <td>0.000000</td>\n",
              "    </tr>\n",
              "    <tr>\n",
              "      <th>1</th>\n",
              "      <td>0.000000</td>\n",
              "      <td>0.000000</td>\n",
              "      <td>0.000000</td>\n",
              "      <td>0.0</td>\n",
              "      <td>0.099479</td>\n",
              "      <td>0.00000</td>\n",
              "      <td>0.000000</td>\n",
              "      <td>0.000000</td>\n",
              "      <td>0.000000</td>\n",
              "      <td>0.000000</td>\n",
              "      <td>...</td>\n",
              "      <td>0.0</td>\n",
              "      <td>0.0</td>\n",
              "      <td>0.000000</td>\n",
              "      <td>0.000000</td>\n",
              "      <td>0.000000</td>\n",
              "      <td>0.000000</td>\n",
              "      <td>0.000000</td>\n",
              "      <td>0.000000</td>\n",
              "      <td>0.000000</td>\n",
              "      <td>0.000000</td>\n",
              "    </tr>\n",
              "    <tr>\n",
              "      <th>2</th>\n",
              "      <td>0.000000</td>\n",
              "      <td>0.000000</td>\n",
              "      <td>0.000000</td>\n",
              "      <td>0.0</td>\n",
              "      <td>0.000000</td>\n",
              "      <td>0.00000</td>\n",
              "      <td>0.000000</td>\n",
              "      <td>0.000000</td>\n",
              "      <td>0.000000</td>\n",
              "      <td>0.000000</td>\n",
              "      <td>...</td>\n",
              "      <td>0.0</td>\n",
              "      <td>0.0</td>\n",
              "      <td>0.000000</td>\n",
              "      <td>0.081761</td>\n",
              "      <td>0.160110</td>\n",
              "      <td>0.000000</td>\n",
              "      <td>0.000000</td>\n",
              "      <td>0.000000</td>\n",
              "      <td>0.118364</td>\n",
              "      <td>0.155893</td>\n",
              "    </tr>\n",
              "    <tr>\n",
              "      <th>3</th>\n",
              "      <td>0.000000</td>\n",
              "      <td>0.037865</td>\n",
              "      <td>0.000000</td>\n",
              "      <td>0.0</td>\n",
              "      <td>0.000000</td>\n",
              "      <td>0.00000</td>\n",
              "      <td>0.000000</td>\n",
              "      <td>0.000000</td>\n",
              "      <td>0.000000</td>\n",
              "      <td>0.000000</td>\n",
              "      <td>...</td>\n",
              "      <td>0.0</td>\n",
              "      <td>0.0</td>\n",
              "      <td>0.000000</td>\n",
              "      <td>0.093729</td>\n",
              "      <td>0.045887</td>\n",
              "      <td>0.169115</td>\n",
              "      <td>0.036483</td>\n",
              "      <td>0.000000</td>\n",
              "      <td>0.000000</td>\n",
              "      <td>0.000000</td>\n",
              "    </tr>\n",
              "    <tr>\n",
              "      <th>4</th>\n",
              "      <td>0.000000</td>\n",
              "      <td>0.000000</td>\n",
              "      <td>0.000000</td>\n",
              "      <td>0.0</td>\n",
              "      <td>0.000000</td>\n",
              "      <td>0.00000</td>\n",
              "      <td>0.000000</td>\n",
              "      <td>0.000000</td>\n",
              "      <td>0.000000</td>\n",
              "      <td>0.000000</td>\n",
              "      <td>...</td>\n",
              "      <td>0.0</td>\n",
              "      <td>0.0</td>\n",
              "      <td>0.000000</td>\n",
              "      <td>0.000000</td>\n",
              "      <td>0.000000</td>\n",
              "      <td>0.000000</td>\n",
              "      <td>0.000000</td>\n",
              "      <td>0.000000</td>\n",
              "      <td>0.000000</td>\n",
              "      <td>0.000000</td>\n",
              "    </tr>\n",
              "    <tr>\n",
              "      <th>...</th>\n",
              "      <td>...</td>\n",
              "      <td>...</td>\n",
              "      <td>...</td>\n",
              "      <td>...</td>\n",
              "      <td>...</td>\n",
              "      <td>...</td>\n",
              "      <td>...</td>\n",
              "      <td>...</td>\n",
              "      <td>...</td>\n",
              "      <td>...</td>\n",
              "      <td>...</td>\n",
              "      <td>...</td>\n",
              "      <td>...</td>\n",
              "      <td>...</td>\n",
              "      <td>...</td>\n",
              "      <td>...</td>\n",
              "      <td>...</td>\n",
              "      <td>...</td>\n",
              "      <td>...</td>\n",
              "      <td>...</td>\n",
              "      <td>...</td>\n",
              "    </tr>\n",
              "    <tr>\n",
              "      <th>395</th>\n",
              "      <td>0.000000</td>\n",
              "      <td>0.000000</td>\n",
              "      <td>0.043998</td>\n",
              "      <td>0.0</td>\n",
              "      <td>0.000000</td>\n",
              "      <td>0.00000</td>\n",
              "      <td>0.050462</td>\n",
              "      <td>0.044950</td>\n",
              "      <td>0.000000</td>\n",
              "      <td>0.000000</td>\n",
              "      <td>...</td>\n",
              "      <td>0.0</td>\n",
              "      <td>0.0</td>\n",
              "      <td>0.043543</td>\n",
              "      <td>0.000000</td>\n",
              "      <td>0.000000</td>\n",
              "      <td>0.046494</td>\n",
              "      <td>0.000000</td>\n",
              "      <td>0.000000</td>\n",
              "      <td>0.000000</td>\n",
              "      <td>0.000000</td>\n",
              "    </tr>\n",
              "    <tr>\n",
              "      <th>396</th>\n",
              "      <td>0.000000</td>\n",
              "      <td>0.000000</td>\n",
              "      <td>0.000000</td>\n",
              "      <td>0.0</td>\n",
              "      <td>0.000000</td>\n",
              "      <td>0.05145</td>\n",
              "      <td>0.000000</td>\n",
              "      <td>0.000000</td>\n",
              "      <td>0.000000</td>\n",
              "      <td>0.000000</td>\n",
              "      <td>...</td>\n",
              "      <td>0.0</td>\n",
              "      <td>0.0</td>\n",
              "      <td>0.047337</td>\n",
              "      <td>0.000000</td>\n",
              "      <td>0.000000</td>\n",
              "      <td>0.000000</td>\n",
              "      <td>0.000000</td>\n",
              "      <td>0.000000</td>\n",
              "      <td>0.000000</td>\n",
              "      <td>0.000000</td>\n",
              "    </tr>\n",
              "    <tr>\n",
              "      <th>397</th>\n",
              "      <td>0.000000</td>\n",
              "      <td>0.000000</td>\n",
              "      <td>0.000000</td>\n",
              "      <td>0.0</td>\n",
              "      <td>0.035923</td>\n",
              "      <td>0.00000</td>\n",
              "      <td>0.000000</td>\n",
              "      <td>0.000000</td>\n",
              "      <td>0.000000</td>\n",
              "      <td>0.000000</td>\n",
              "      <td>...</td>\n",
              "      <td>0.0</td>\n",
              "      <td>0.0</td>\n",
              "      <td>0.037022</td>\n",
              "      <td>0.000000</td>\n",
              "      <td>0.000000</td>\n",
              "      <td>0.000000</td>\n",
              "      <td>0.000000</td>\n",
              "      <td>0.000000</td>\n",
              "      <td>0.000000</td>\n",
              "      <td>0.000000</td>\n",
              "    </tr>\n",
              "    <tr>\n",
              "      <th>398</th>\n",
              "      <td>0.053786</td>\n",
              "      <td>0.000000</td>\n",
              "      <td>0.000000</td>\n",
              "      <td>0.0</td>\n",
              "      <td>0.000000</td>\n",
              "      <td>0.00000</td>\n",
              "      <td>0.000000</td>\n",
              "      <td>0.000000</td>\n",
              "      <td>0.056783</td>\n",
              "      <td>0.100149</td>\n",
              "      <td>...</td>\n",
              "      <td>0.0</td>\n",
              "      <td>0.0</td>\n",
              "      <td>0.095950</td>\n",
              "      <td>0.000000</td>\n",
              "      <td>0.000000</td>\n",
              "      <td>0.000000</td>\n",
              "      <td>0.000000</td>\n",
              "      <td>0.000000</td>\n",
              "      <td>0.000000</td>\n",
              "      <td>0.000000</td>\n",
              "    </tr>\n",
              "    <tr>\n",
              "      <th>399</th>\n",
              "      <td>0.000000</td>\n",
              "      <td>0.000000</td>\n",
              "      <td>0.000000</td>\n",
              "      <td>0.0</td>\n",
              "      <td>0.000000</td>\n",
              "      <td>0.00000</td>\n",
              "      <td>0.000000</td>\n",
              "      <td>0.000000</td>\n",
              "      <td>0.000000</td>\n",
              "      <td>0.000000</td>\n",
              "      <td>...</td>\n",
              "      <td>0.0</td>\n",
              "      <td>0.0</td>\n",
              "      <td>0.000000</td>\n",
              "      <td>0.000000</td>\n",
              "      <td>0.000000</td>\n",
              "      <td>0.000000</td>\n",
              "      <td>0.308756</td>\n",
              "      <td>0.000000</td>\n",
              "      <td>0.000000</td>\n",
              "      <td>0.000000</td>\n",
              "    </tr>\n",
              "  </tbody>\n",
              "</table>\n",
              "<p>400 rows × 364 columns</p>\n",
              "</div>\n",
              "    <div class=\"colab-df-buttons\">\n",
              "\n",
              "  <div class=\"colab-df-container\">\n",
              "    <button class=\"colab-df-convert\" onclick=\"convertToInteractive('df-6fec9905-13a5-4ba0-974c-a8fc545c5444')\"\n",
              "            title=\"Convert this dataframe to an interactive table.\"\n",
              "            style=\"display:none;\">\n",
              "\n",
              "  <svg xmlns=\"http://www.w3.org/2000/svg\" height=\"24px\" viewBox=\"0 -960 960 960\">\n",
              "    <path d=\"M120-120v-720h720v720H120Zm60-500h600v-160H180v160Zm220 220h160v-160H400v160Zm0 220h160v-160H400v160ZM180-400h160v-160H180v160Zm440 0h160v-160H620v160ZM180-180h160v-160H180v160Zm440 0h160v-160H620v160Z\"/>\n",
              "  </svg>\n",
              "    </button>\n",
              "\n",
              "  <style>\n",
              "    .colab-df-container {\n",
              "      display:flex;\n",
              "      gap: 12px;\n",
              "    }\n",
              "\n",
              "    .colab-df-convert {\n",
              "      background-color: #E8F0FE;\n",
              "      border: none;\n",
              "      border-radius: 50%;\n",
              "      cursor: pointer;\n",
              "      display: none;\n",
              "      fill: #1967D2;\n",
              "      height: 32px;\n",
              "      padding: 0 0 0 0;\n",
              "      width: 32px;\n",
              "    }\n",
              "\n",
              "    .colab-df-convert:hover {\n",
              "      background-color: #E2EBFA;\n",
              "      box-shadow: 0px 1px 2px rgba(60, 64, 67, 0.3), 0px 1px 3px 1px rgba(60, 64, 67, 0.15);\n",
              "      fill: #174EA6;\n",
              "    }\n",
              "\n",
              "    .colab-df-buttons div {\n",
              "      margin-bottom: 4px;\n",
              "    }\n",
              "\n",
              "    [theme=dark] .colab-df-convert {\n",
              "      background-color: #3B4455;\n",
              "      fill: #D2E3FC;\n",
              "    }\n",
              "\n",
              "    [theme=dark] .colab-df-convert:hover {\n",
              "      background-color: #434B5C;\n",
              "      box-shadow: 0px 1px 3px 1px rgba(0, 0, 0, 0.15);\n",
              "      filter: drop-shadow(0px 1px 2px rgba(0, 0, 0, 0.3));\n",
              "      fill: #FFFFFF;\n",
              "    }\n",
              "  </style>\n",
              "\n",
              "    <script>\n",
              "      const buttonEl =\n",
              "        document.querySelector('#df-6fec9905-13a5-4ba0-974c-a8fc545c5444 button.colab-df-convert');\n",
              "      buttonEl.style.display =\n",
              "        google.colab.kernel.accessAllowed ? 'block' : 'none';\n",
              "\n",
              "      async function convertToInteractive(key) {\n",
              "        const element = document.querySelector('#df-6fec9905-13a5-4ba0-974c-a8fc545c5444');\n",
              "        const dataTable =\n",
              "          await google.colab.kernel.invokeFunction('convertToInteractive',\n",
              "                                                    [key], {});\n",
              "        if (!dataTable) return;\n",
              "\n",
              "        const docLinkHtml = 'Like what you see? Visit the ' +\n",
              "          '<a target=\"_blank\" href=https://colab.research.google.com/notebooks/data_table.ipynb>data table notebook</a>'\n",
              "          + ' to learn more about interactive tables.';\n",
              "        element.innerHTML = '';\n",
              "        dataTable['output_type'] = 'display_data';\n",
              "        await google.colab.output.renderOutput(dataTable, element);\n",
              "        const docLink = document.createElement('div');\n",
              "        docLink.innerHTML = docLinkHtml;\n",
              "        element.appendChild(docLink);\n",
              "      }\n",
              "    </script>\n",
              "  </div>\n",
              "\n",
              "\n",
              "<div id=\"df-4ffd253f-9d45-4fd6-b90a-0d20f603a7cf\">\n",
              "  <button class=\"colab-df-quickchart\" onclick=\"quickchart('df-4ffd253f-9d45-4fd6-b90a-0d20f603a7cf')\"\n",
              "            title=\"Suggest charts\"\n",
              "            style=\"display:none;\">\n",
              "\n",
              "<svg xmlns=\"http://www.w3.org/2000/svg\" height=\"24px\"viewBox=\"0 0 24 24\"\n",
              "     width=\"24px\">\n",
              "    <g>\n",
              "        <path d=\"M19 3H5c-1.1 0-2 .9-2 2v14c0 1.1.9 2 2 2h14c1.1 0 2-.9 2-2V5c0-1.1-.9-2-2-2zM9 17H7v-7h2v7zm4 0h-2V7h2v10zm4 0h-2v-4h2v4z\"/>\n",
              "    </g>\n",
              "</svg>\n",
              "  </button>\n",
              "\n",
              "<style>\n",
              "  .colab-df-quickchart {\n",
              "      --bg-color: #E8F0FE;\n",
              "      --fill-color: #1967D2;\n",
              "      --hover-bg-color: #E2EBFA;\n",
              "      --hover-fill-color: #174EA6;\n",
              "      --disabled-fill-color: #AAA;\n",
              "      --disabled-bg-color: #DDD;\n",
              "  }\n",
              "\n",
              "  [theme=dark] .colab-df-quickchart {\n",
              "      --bg-color: #3B4455;\n",
              "      --fill-color: #D2E3FC;\n",
              "      --hover-bg-color: #434B5C;\n",
              "      --hover-fill-color: #FFFFFF;\n",
              "      --disabled-bg-color: #3B4455;\n",
              "      --disabled-fill-color: #666;\n",
              "  }\n",
              "\n",
              "  .colab-df-quickchart {\n",
              "    background-color: var(--bg-color);\n",
              "    border: none;\n",
              "    border-radius: 50%;\n",
              "    cursor: pointer;\n",
              "    display: none;\n",
              "    fill: var(--fill-color);\n",
              "    height: 32px;\n",
              "    padding: 0;\n",
              "    width: 32px;\n",
              "  }\n",
              "\n",
              "  .colab-df-quickchart:hover {\n",
              "    background-color: var(--hover-bg-color);\n",
              "    box-shadow: 0 1px 2px rgba(60, 64, 67, 0.3), 0 1px 3px 1px rgba(60, 64, 67, 0.15);\n",
              "    fill: var(--button-hover-fill-color);\n",
              "  }\n",
              "\n",
              "  .colab-df-quickchart-complete:disabled,\n",
              "  .colab-df-quickchart-complete:disabled:hover {\n",
              "    background-color: var(--disabled-bg-color);\n",
              "    fill: var(--disabled-fill-color);\n",
              "    box-shadow: none;\n",
              "  }\n",
              "\n",
              "  .colab-df-spinner {\n",
              "    border: 2px solid var(--fill-color);\n",
              "    border-color: transparent;\n",
              "    border-bottom-color: var(--fill-color);\n",
              "    animation:\n",
              "      spin 1s steps(1) infinite;\n",
              "  }\n",
              "\n",
              "  @keyframes spin {\n",
              "    0% {\n",
              "      border-color: transparent;\n",
              "      border-bottom-color: var(--fill-color);\n",
              "      border-left-color: var(--fill-color);\n",
              "    }\n",
              "    20% {\n",
              "      border-color: transparent;\n",
              "      border-left-color: var(--fill-color);\n",
              "      border-top-color: var(--fill-color);\n",
              "    }\n",
              "    30% {\n",
              "      border-color: transparent;\n",
              "      border-left-color: var(--fill-color);\n",
              "      border-top-color: var(--fill-color);\n",
              "      border-right-color: var(--fill-color);\n",
              "    }\n",
              "    40% {\n",
              "      border-color: transparent;\n",
              "      border-right-color: var(--fill-color);\n",
              "      border-top-color: var(--fill-color);\n",
              "    }\n",
              "    60% {\n",
              "      border-color: transparent;\n",
              "      border-right-color: var(--fill-color);\n",
              "    }\n",
              "    80% {\n",
              "      border-color: transparent;\n",
              "      border-right-color: var(--fill-color);\n",
              "      border-bottom-color: var(--fill-color);\n",
              "    }\n",
              "    90% {\n",
              "      border-color: transparent;\n",
              "      border-bottom-color: var(--fill-color);\n",
              "    }\n",
              "  }\n",
              "</style>\n",
              "\n",
              "  <script>\n",
              "    async function quickchart(key) {\n",
              "      const quickchartButtonEl =\n",
              "        document.querySelector('#' + key + ' button');\n",
              "      quickchartButtonEl.disabled = true;  // To prevent multiple clicks.\n",
              "      quickchartButtonEl.classList.add('colab-df-spinner');\n",
              "      try {\n",
              "        const charts = await google.colab.kernel.invokeFunction(\n",
              "            'suggestCharts', [key], {});\n",
              "      } catch (error) {\n",
              "        console.error('Error during call to suggestCharts:', error);\n",
              "      }\n",
              "      quickchartButtonEl.classList.remove('colab-df-spinner');\n",
              "      quickchartButtonEl.classList.add('colab-df-quickchart-complete');\n",
              "    }\n",
              "    (() => {\n",
              "      let quickchartButtonEl =\n",
              "        document.querySelector('#df-4ffd253f-9d45-4fd6-b90a-0d20f603a7cf button');\n",
              "      quickchartButtonEl.style.display =\n",
              "        google.colab.kernel.accessAllowed ? 'block' : 'none';\n",
              "    })();\n",
              "  </script>\n",
              "</div>\n",
              "\n",
              "  <div id=\"id_e21c3d9d-1588-4895-9dba-88888b75b49d\">\n",
              "    <style>\n",
              "      .colab-df-generate {\n",
              "        background-color: #E8F0FE;\n",
              "        border: none;\n",
              "        border-radius: 50%;\n",
              "        cursor: pointer;\n",
              "        display: none;\n",
              "        fill: #1967D2;\n",
              "        height: 32px;\n",
              "        padding: 0 0 0 0;\n",
              "        width: 32px;\n",
              "      }\n",
              "\n",
              "      .colab-df-generate:hover {\n",
              "        background-color: #E2EBFA;\n",
              "        box-shadow: 0px 1px 2px rgba(60, 64, 67, 0.3), 0px 1px 3px 1px rgba(60, 64, 67, 0.15);\n",
              "        fill: #174EA6;\n",
              "      }\n",
              "\n",
              "      [theme=dark] .colab-df-generate {\n",
              "        background-color: #3B4455;\n",
              "        fill: #D2E3FC;\n",
              "      }\n",
              "\n",
              "      [theme=dark] .colab-df-generate:hover {\n",
              "        background-color: #434B5C;\n",
              "        box-shadow: 0px 1px 3px 1px rgba(0, 0, 0, 0.15);\n",
              "        filter: drop-shadow(0px 1px 2px rgba(0, 0, 0, 0.3));\n",
              "        fill: #FFFFFF;\n",
              "      }\n",
              "    </style>\n",
              "    <button class=\"colab-df-generate\" onclick=\"generateWithVariable('df2')\"\n",
              "            title=\"Generate code using this dataframe.\"\n",
              "            style=\"display:none;\">\n",
              "\n",
              "  <svg xmlns=\"http://www.w3.org/2000/svg\" height=\"24px\"viewBox=\"0 0 24 24\"\n",
              "       width=\"24px\">\n",
              "    <path d=\"M7,19H8.4L18.45,9,17,7.55,7,17.6ZM5,21V16.75L18.45,3.32a2,2,0,0,1,2.83,0l1.4,1.43a1.91,1.91,0,0,1,.58,1.4,1.91,1.91,0,0,1-.58,1.4L9.25,21ZM18.45,9,17,7.55Zm-12,3A5.31,5.31,0,0,0,4.9,8.1,5.31,5.31,0,0,0,1,6.5,5.31,5.31,0,0,0,4.9,4.9,5.31,5.31,0,0,0,6.5,1,5.31,5.31,0,0,0,8.1,4.9,5.31,5.31,0,0,0,12,6.5,5.46,5.46,0,0,0,6.5,12Z\"/>\n",
              "  </svg>\n",
              "    </button>\n",
              "    <script>\n",
              "      (() => {\n",
              "      const buttonEl =\n",
              "        document.querySelector('#id_e21c3d9d-1588-4895-9dba-88888b75b49d button.colab-df-generate');\n",
              "      buttonEl.style.display =\n",
              "        google.colab.kernel.accessAllowed ? 'block' : 'none';\n",
              "\n",
              "      buttonEl.onclick = () => {\n",
              "        google.colab.notebook.generateWithVariable('df2');\n",
              "      }\n",
              "      })();\n",
              "    </script>\n",
              "  </div>\n",
              "\n",
              "    </div>\n",
              "  </div>\n"
            ],
            "application/vnd.google.colaboratory.intrinsic+json": {
              "type": "dataframe",
              "variable_name": "df2"
            }
          },
          "metadata": {},
          "execution_count": 6
        }
      ]
    },
    {
      "cell_type": "markdown",
      "source": [
        "### 연습"
      ],
      "metadata": {
        "id": "LaVrbHNdYuNG"
      }
    },
    {
      "cell_type": "code",
      "execution_count": 7,
      "metadata": {
        "colab": {
          "base_uri": "https://localhost:8080/"
        },
        "id": "-7HGaToQhuQO",
        "outputId": "cdb3f02d-8e63-4eaa-e73c-49a88ab34df7"
      },
      "outputs": [
        {
          "output_type": "stream",
          "name": "stdout",
          "text": [
            "Requirement already satisfied: konlpy in /usr/local/lib/python3.10/dist-packages (0.6.0)\n",
            "Requirement already satisfied: JPype1>=0.7.0 in /usr/local/lib/python3.10/dist-packages (from konlpy) (1.5.0)\n",
            "Requirement already satisfied: lxml>=4.1.0 in /usr/local/lib/python3.10/dist-packages (from konlpy) (4.9.4)\n",
            "Requirement already satisfied: numpy>=1.6 in /usr/local/lib/python3.10/dist-packages (from konlpy) (1.26.4)\n",
            "Requirement already satisfied: packaging in /usr/local/lib/python3.10/dist-packages (from JPype1>=0.7.0->konlpy) (24.1)\n"
          ]
        }
      ],
      "source": [
        "!pip install konlpy #형태소분석기를 사용하기 위해 외부기능 설치\n",
        "\n",
        "import pandas as pd #자료를 읽기 위해 불러옴\n",
        "from konlpy.tag import Okt #형태소분석을 하기 위해 불러옴\n",
        "from tqdm import tqdm #진행상황 확인\n",
        "from sklearn.cluster import KMeans #Kmeans 군집기법을 사용하기 위해 불러옴"
      ]
    },
    {
      "cell_type": "code",
      "source": [
        "data = pd.read_csv(\"train_df.csv\",encoding = 'cp949')\n",
        "data.columns"
      ],
      "metadata": {
        "colab": {
          "base_uri": "https://localhost:8080/"
        },
        "id": "zjjPEfJNiOQd",
        "outputId": "4c4b92ef-47f3-416a-d6b3-22ece505cf98"
      },
      "execution_count": 8,
      "outputs": [
        {
          "output_type": "execute_result",
          "data": {
            "text/plain": [
              "Index(['IDX', '발화자', '발화문', '인텐트', '상담번호', '상담내순번'], dtype='object')"
            ]
          },
          "metadata": {},
          "execution_count": 8
        }
      ]
    },
    {
      "cell_type": "markdown",
      "source": [
        "- 주어진 데이터를 읽어서, 발화문에서 명사를 추출하여 DTM\n",
        "- 같은 상담번호의 발화문을 하나의 텍스트로 병합 후 명사 추출하여 DTM\n",
        "- DTM을 만든 후 군집 분석"
      ],
      "metadata": {
        "id": "PalZnfswEx0m"
      }
    },
    {
      "cell_type": "code",
      "source": [
        "from konlpy.tag import Okt\n",
        "okt = Okt() #open korean text 형태소분석기\n",
        "def token(text):\n",
        "    tokens_ko = okt.nouns(text) #명사만 추출\n",
        "    return tokens_ko\n",
        "\n",
        "stopwords = ['을',\n",
        "             '부터', '까지' '적', '의','가','이','은',\n",
        "             '들','는','좀','잘','걍','과','도','를','으로',\n",
        "             '자','에','와','한','하다', '점', '나']\n"
      ],
      "metadata": {
        "id": "lzuDOfhd69hW"
      },
      "execution_count": 9,
      "outputs": []
    },
    {
      "cell_type": "code",
      "source": [
        "from sklearn.feature_extraction.text import TfidfVectorizer\n",
        "\n",
        "tfidf_vect = TfidfVectorizer(tokenizer=token,\n",
        "                             stop_words=stopwords,\n",
        "                             min_df=5 )\n",
        "tfidf_vect.fit_transform(data['발화문'])"
      ],
      "metadata": {
        "id": "U5e7fGcX69qh",
        "colab": {
          "base_uri": "https://localhost:8080/"
        },
        "outputId": "2484ca42-237a-4d56-a761-bdb3ff7072c9"
      },
      "execution_count": 10,
      "outputs": [
        {
          "output_type": "stream",
          "name": "stderr",
          "text": [
            "/usr/local/lib/python3.10/dist-packages/sklearn/feature_extraction/text.py:525: UserWarning: The parameter 'token_pattern' will not be used since 'tokenizer' is not None'\n",
            "  warnings.warn(\n",
            "/usr/local/lib/python3.10/dist-packages/sklearn/feature_extraction/text.py:408: UserWarning: Your stop_words may be inconsistent with your preprocessing. Tokenizing the stop words generated tokens ['지적'] not in stop_words.\n",
            "  warnings.warn(\n"
          ]
        },
        {
          "output_type": "execute_result",
          "data": {
            "text/plain": [
              "<29360x1981 sparse matrix of type '<class 'numpy.float64'>'\n",
              "\twith 199455 stored elements in Compressed Sparse Row format>"
            ]
          },
          "metadata": {},
          "execution_count": 10
        }
      ]
    },
    {
      "cell_type": "code",
      "source": [
        "data[0:2].발화문.values.tolist()"
      ],
      "metadata": {
        "id": "ySGASclfBL2q",
        "colab": {
          "base_uri": "https://localhost:8080/"
        },
        "outputId": "c8f72ecf-08b4-496c-b42b-ee7438202633"
      },
      "execution_count": 11,
      "outputs": [
        {
          "output_type": "execute_result",
          "data": {
            "text/plain": [
              "['혹시 플라워 스마트 톡 케이스 블루로 바꿀 수 있나요?', '현재 배송 중으로 교환이 어렵습니다.']"
            ]
          },
          "metadata": {},
          "execution_count": 11
        }
      ]
    },
    {
      "cell_type": "code",
      "source": [
        "def func1(x):\n",
        "  x2 = x.values.tolist()\n",
        "  tmp = \"\"\n",
        "  for i in x2:\n",
        "    tmp = tmp+i+\" \"\n",
        "  return tmp"
      ],
      "metadata": {
        "id": "s4P0SOMX8VPn"
      },
      "execution_count": 12,
      "outputs": []
    },
    {
      "cell_type": "code",
      "source": [
        "data.groupby(\"상담번호\")[\"발화문\"].head()\n",
        "data.groupby(\"상담번호\")[\"발화문\"].apply(func1)"
      ],
      "metadata": {
        "id": "hRW2NGAEBqwd",
        "colab": {
          "base_uri": "https://localhost:8080/",
          "height": 489
        },
        "outputId": "3764754c-4b3d-4bce-f349-6f0e24b356d6"
      },
      "execution_count": 13,
      "outputs": [
        {
          "output_type": "execute_result",
          "data": {
            "text/plain": [
              "상담번호\n",
              "111       아이패드 반품하려는데 반품신청은 어디서 하나요? 공식홈페이지에서 반품신청 해주시면 ...\n",
              "112                     아이패드 반품신청 어디서 해요? 공식홈페이지에서 신청해주세요. \n",
              "113        아이패드 반품신청 어디서 하는지 알 수 있을까요? 공식 홈페이지에서 해주시면 됩니다. \n",
              "114           아이패드 반품은 어디서 신청하죠? 공식 홈페이지에서 반품신청 진행해주시면 돼요. \n",
              "115              아이패드 반품 어디서 하는지 알려주세요. 공식 홈페이지에서 해주시면 돼요. \n",
              "                                ...                        \n",
              "422167    그것도 모르고 제가 문제가 있는 줄 알았습니다 교환 요청해야 하나요? 상품 불량으로...\n",
              "422204    온도조절기 때문에 반품 신청했는데 혹시 온도조절기만 교환받을 수는 없는지요? 반품건...\n",
              "422216        15일에 가져갔어요 정확히 언제 환불 처리되나요? 사이트에 반품 접수 바랍니다. \n",
              "422291    아니고 온으로 해도 따뜻해지지가 않아서 교환 요청하니까 무조건 상품은 멀쩡하니 환불...\n",
              "422302    오늘 받아서 켜봤는데 두 개의 전원 중 한 개가 깜박거리면서 온도안 올라갑니 다급히...\n",
              "Name: 발화문, Length: 14639, dtype: object"
            ],
            "text/html": [
              "<div>\n",
              "<style scoped>\n",
              "    .dataframe tbody tr th:only-of-type {\n",
              "        vertical-align: middle;\n",
              "    }\n",
              "\n",
              "    .dataframe tbody tr th {\n",
              "        vertical-align: top;\n",
              "    }\n",
              "\n",
              "    .dataframe thead th {\n",
              "        text-align: right;\n",
              "    }\n",
              "</style>\n",
              "<table border=\"1\" class=\"dataframe\">\n",
              "  <thead>\n",
              "    <tr style=\"text-align: right;\">\n",
              "      <th></th>\n",
              "      <th>발화문</th>\n",
              "    </tr>\n",
              "    <tr>\n",
              "      <th>상담번호</th>\n",
              "      <th></th>\n",
              "    </tr>\n",
              "  </thead>\n",
              "  <tbody>\n",
              "    <tr>\n",
              "      <th>111</th>\n",
              "      <td>아이패드 반품하려는데 반품신청은 어디서 하나요? 공식홈페이지에서 반품신청 해주시면 ...</td>\n",
              "    </tr>\n",
              "    <tr>\n",
              "      <th>112</th>\n",
              "      <td>아이패드 반품신청 어디서 해요? 공식홈페이지에서 신청해주세요.</td>\n",
              "    </tr>\n",
              "    <tr>\n",
              "      <th>113</th>\n",
              "      <td>아이패드 반품신청 어디서 하는지 알 수 있을까요? 공식 홈페이지에서 해주시면 됩니다.</td>\n",
              "    </tr>\n",
              "    <tr>\n",
              "      <th>114</th>\n",
              "      <td>아이패드 반품은 어디서 신청하죠? 공식 홈페이지에서 반품신청 진행해주시면 돼요.</td>\n",
              "    </tr>\n",
              "    <tr>\n",
              "      <th>115</th>\n",
              "      <td>아이패드 반품 어디서 하는지 알려주세요. 공식 홈페이지에서 해주시면 돼요.</td>\n",
              "    </tr>\n",
              "    <tr>\n",
              "      <th>...</th>\n",
              "      <td>...</td>\n",
              "    </tr>\n",
              "    <tr>\n",
              "      <th>422167</th>\n",
              "      <td>그것도 모르고 제가 문제가 있는 줄 알았습니다 교환 요청해야 하나요? 상품 불량으로...</td>\n",
              "    </tr>\n",
              "    <tr>\n",
              "      <th>422204</th>\n",
              "      <td>온도조절기 때문에 반품 신청했는데 혹시 온도조절기만 교환받을 수는 없는지요? 반품건...</td>\n",
              "    </tr>\n",
              "    <tr>\n",
              "      <th>422216</th>\n",
              "      <td>15일에 가져갔어요 정확히 언제 환불 처리되나요? 사이트에 반품 접수 바랍니다.</td>\n",
              "    </tr>\n",
              "    <tr>\n",
              "      <th>422291</th>\n",
              "      <td>아니고 온으로 해도 따뜻해지지가 않아서 교환 요청하니까 무조건 상품은 멀쩡하니 환불...</td>\n",
              "    </tr>\n",
              "    <tr>\n",
              "      <th>422302</th>\n",
              "      <td>오늘 받아서 켜봤는데 두 개의 전원 중 한 개가 깜박거리면서 온도안 올라갑니 다급히...</td>\n",
              "    </tr>\n",
              "  </tbody>\n",
              "</table>\n",
              "<p>14639 rows × 1 columns</p>\n",
              "</div><br><label><b>dtype:</b> object</label>"
            ]
          },
          "metadata": {},
          "execution_count": 13
        }
      ]
    },
    {
      "cell_type": "code",
      "source": [
        "data1 = data.groupby(\"상담번호\")[\"발화문\"].apply(func1).reset_index().set_index(\"상담번호\")\n",
        "data1.head()#.iloc[10,0]"
      ],
      "metadata": {
        "id": "SIyn4T-t-pE5",
        "colab": {
          "base_uri": "https://localhost:8080/",
          "height": 237
        },
        "outputId": "ca04d8ab-21b9-49ce-da56-18e859b0dc35"
      },
      "execution_count": 14,
      "outputs": [
        {
          "output_type": "execute_result",
          "data": {
            "text/plain": [
              "                                                    발화문\n",
              "상담번호                                                   \n",
              "111   아이패드 반품하려는데 반품신청은 어디서 하나요? 공식홈페이지에서 반품신청 해주시면 ...\n",
              "112                 아이패드 반품신청 어디서 해요? 공식홈페이지에서 신청해주세요. \n",
              "113    아이패드 반품신청 어디서 하는지 알 수 있을까요? 공식 홈페이지에서 해주시면 됩니다. \n",
              "114       아이패드 반품은 어디서 신청하죠? 공식 홈페이지에서 반품신청 진행해주시면 돼요. \n",
              "115          아이패드 반품 어디서 하는지 알려주세요. 공식 홈페이지에서 해주시면 돼요. "
            ],
            "text/html": [
              "\n",
              "  <div id=\"df-50c894fb-1814-41b9-920c-d407e165e701\" class=\"colab-df-container\">\n",
              "    <div>\n",
              "<style scoped>\n",
              "    .dataframe tbody tr th:only-of-type {\n",
              "        vertical-align: middle;\n",
              "    }\n",
              "\n",
              "    .dataframe tbody tr th {\n",
              "        vertical-align: top;\n",
              "    }\n",
              "\n",
              "    .dataframe thead th {\n",
              "        text-align: right;\n",
              "    }\n",
              "</style>\n",
              "<table border=\"1\" class=\"dataframe\">\n",
              "  <thead>\n",
              "    <tr style=\"text-align: right;\">\n",
              "      <th></th>\n",
              "      <th>발화문</th>\n",
              "    </tr>\n",
              "    <tr>\n",
              "      <th>상담번호</th>\n",
              "      <th></th>\n",
              "    </tr>\n",
              "  </thead>\n",
              "  <tbody>\n",
              "    <tr>\n",
              "      <th>111</th>\n",
              "      <td>아이패드 반품하려는데 반품신청은 어디서 하나요? 공식홈페이지에서 반품신청 해주시면 ...</td>\n",
              "    </tr>\n",
              "    <tr>\n",
              "      <th>112</th>\n",
              "      <td>아이패드 반품신청 어디서 해요? 공식홈페이지에서 신청해주세요.</td>\n",
              "    </tr>\n",
              "    <tr>\n",
              "      <th>113</th>\n",
              "      <td>아이패드 반품신청 어디서 하는지 알 수 있을까요? 공식 홈페이지에서 해주시면 됩니다.</td>\n",
              "    </tr>\n",
              "    <tr>\n",
              "      <th>114</th>\n",
              "      <td>아이패드 반품은 어디서 신청하죠? 공식 홈페이지에서 반품신청 진행해주시면 돼요.</td>\n",
              "    </tr>\n",
              "    <tr>\n",
              "      <th>115</th>\n",
              "      <td>아이패드 반품 어디서 하는지 알려주세요. 공식 홈페이지에서 해주시면 돼요.</td>\n",
              "    </tr>\n",
              "  </tbody>\n",
              "</table>\n",
              "</div>\n",
              "    <div class=\"colab-df-buttons\">\n",
              "\n",
              "  <div class=\"colab-df-container\">\n",
              "    <button class=\"colab-df-convert\" onclick=\"convertToInteractive('df-50c894fb-1814-41b9-920c-d407e165e701')\"\n",
              "            title=\"Convert this dataframe to an interactive table.\"\n",
              "            style=\"display:none;\">\n",
              "\n",
              "  <svg xmlns=\"http://www.w3.org/2000/svg\" height=\"24px\" viewBox=\"0 -960 960 960\">\n",
              "    <path d=\"M120-120v-720h720v720H120Zm60-500h600v-160H180v160Zm220 220h160v-160H400v160Zm0 220h160v-160H400v160ZM180-400h160v-160H180v160Zm440 0h160v-160H620v160ZM180-180h160v-160H180v160Zm440 0h160v-160H620v160Z\"/>\n",
              "  </svg>\n",
              "    </button>\n",
              "\n",
              "  <style>\n",
              "    .colab-df-container {\n",
              "      display:flex;\n",
              "      gap: 12px;\n",
              "    }\n",
              "\n",
              "    .colab-df-convert {\n",
              "      background-color: #E8F0FE;\n",
              "      border: none;\n",
              "      border-radius: 50%;\n",
              "      cursor: pointer;\n",
              "      display: none;\n",
              "      fill: #1967D2;\n",
              "      height: 32px;\n",
              "      padding: 0 0 0 0;\n",
              "      width: 32px;\n",
              "    }\n",
              "\n",
              "    .colab-df-convert:hover {\n",
              "      background-color: #E2EBFA;\n",
              "      box-shadow: 0px 1px 2px rgba(60, 64, 67, 0.3), 0px 1px 3px 1px rgba(60, 64, 67, 0.15);\n",
              "      fill: #174EA6;\n",
              "    }\n",
              "\n",
              "    .colab-df-buttons div {\n",
              "      margin-bottom: 4px;\n",
              "    }\n",
              "\n",
              "    [theme=dark] .colab-df-convert {\n",
              "      background-color: #3B4455;\n",
              "      fill: #D2E3FC;\n",
              "    }\n",
              "\n",
              "    [theme=dark] .colab-df-convert:hover {\n",
              "      background-color: #434B5C;\n",
              "      box-shadow: 0px 1px 3px 1px rgba(0, 0, 0, 0.15);\n",
              "      filter: drop-shadow(0px 1px 2px rgba(0, 0, 0, 0.3));\n",
              "      fill: #FFFFFF;\n",
              "    }\n",
              "  </style>\n",
              "\n",
              "    <script>\n",
              "      const buttonEl =\n",
              "        document.querySelector('#df-50c894fb-1814-41b9-920c-d407e165e701 button.colab-df-convert');\n",
              "      buttonEl.style.display =\n",
              "        google.colab.kernel.accessAllowed ? 'block' : 'none';\n",
              "\n",
              "      async function convertToInteractive(key) {\n",
              "        const element = document.querySelector('#df-50c894fb-1814-41b9-920c-d407e165e701');\n",
              "        const dataTable =\n",
              "          await google.colab.kernel.invokeFunction('convertToInteractive',\n",
              "                                                    [key], {});\n",
              "        if (!dataTable) return;\n",
              "\n",
              "        const docLinkHtml = 'Like what you see? Visit the ' +\n",
              "          '<a target=\"_blank\" href=https://colab.research.google.com/notebooks/data_table.ipynb>data table notebook</a>'\n",
              "          + ' to learn more about interactive tables.';\n",
              "        element.innerHTML = '';\n",
              "        dataTable['output_type'] = 'display_data';\n",
              "        await google.colab.output.renderOutput(dataTable, element);\n",
              "        const docLink = document.createElement('div');\n",
              "        docLink.innerHTML = docLinkHtml;\n",
              "        element.appendChild(docLink);\n",
              "      }\n",
              "    </script>\n",
              "  </div>\n",
              "\n",
              "\n",
              "<div id=\"df-ec6feaa7-2bb7-4231-b31c-55e4515a2991\">\n",
              "  <button class=\"colab-df-quickchart\" onclick=\"quickchart('df-ec6feaa7-2bb7-4231-b31c-55e4515a2991')\"\n",
              "            title=\"Suggest charts\"\n",
              "            style=\"display:none;\">\n",
              "\n",
              "<svg xmlns=\"http://www.w3.org/2000/svg\" height=\"24px\"viewBox=\"0 0 24 24\"\n",
              "     width=\"24px\">\n",
              "    <g>\n",
              "        <path d=\"M19 3H5c-1.1 0-2 .9-2 2v14c0 1.1.9 2 2 2h14c1.1 0 2-.9 2-2V5c0-1.1-.9-2-2-2zM9 17H7v-7h2v7zm4 0h-2V7h2v10zm4 0h-2v-4h2v4z\"/>\n",
              "    </g>\n",
              "</svg>\n",
              "  </button>\n",
              "\n",
              "<style>\n",
              "  .colab-df-quickchart {\n",
              "      --bg-color: #E8F0FE;\n",
              "      --fill-color: #1967D2;\n",
              "      --hover-bg-color: #E2EBFA;\n",
              "      --hover-fill-color: #174EA6;\n",
              "      --disabled-fill-color: #AAA;\n",
              "      --disabled-bg-color: #DDD;\n",
              "  }\n",
              "\n",
              "  [theme=dark] .colab-df-quickchart {\n",
              "      --bg-color: #3B4455;\n",
              "      --fill-color: #D2E3FC;\n",
              "      --hover-bg-color: #434B5C;\n",
              "      --hover-fill-color: #FFFFFF;\n",
              "      --disabled-bg-color: #3B4455;\n",
              "      --disabled-fill-color: #666;\n",
              "  }\n",
              "\n",
              "  .colab-df-quickchart {\n",
              "    background-color: var(--bg-color);\n",
              "    border: none;\n",
              "    border-radius: 50%;\n",
              "    cursor: pointer;\n",
              "    display: none;\n",
              "    fill: var(--fill-color);\n",
              "    height: 32px;\n",
              "    padding: 0;\n",
              "    width: 32px;\n",
              "  }\n",
              "\n",
              "  .colab-df-quickchart:hover {\n",
              "    background-color: var(--hover-bg-color);\n",
              "    box-shadow: 0 1px 2px rgba(60, 64, 67, 0.3), 0 1px 3px 1px rgba(60, 64, 67, 0.15);\n",
              "    fill: var(--button-hover-fill-color);\n",
              "  }\n",
              "\n",
              "  .colab-df-quickchart-complete:disabled,\n",
              "  .colab-df-quickchart-complete:disabled:hover {\n",
              "    background-color: var(--disabled-bg-color);\n",
              "    fill: var(--disabled-fill-color);\n",
              "    box-shadow: none;\n",
              "  }\n",
              "\n",
              "  .colab-df-spinner {\n",
              "    border: 2px solid var(--fill-color);\n",
              "    border-color: transparent;\n",
              "    border-bottom-color: var(--fill-color);\n",
              "    animation:\n",
              "      spin 1s steps(1) infinite;\n",
              "  }\n",
              "\n",
              "  @keyframes spin {\n",
              "    0% {\n",
              "      border-color: transparent;\n",
              "      border-bottom-color: var(--fill-color);\n",
              "      border-left-color: var(--fill-color);\n",
              "    }\n",
              "    20% {\n",
              "      border-color: transparent;\n",
              "      border-left-color: var(--fill-color);\n",
              "      border-top-color: var(--fill-color);\n",
              "    }\n",
              "    30% {\n",
              "      border-color: transparent;\n",
              "      border-left-color: var(--fill-color);\n",
              "      border-top-color: var(--fill-color);\n",
              "      border-right-color: var(--fill-color);\n",
              "    }\n",
              "    40% {\n",
              "      border-color: transparent;\n",
              "      border-right-color: var(--fill-color);\n",
              "      border-top-color: var(--fill-color);\n",
              "    }\n",
              "    60% {\n",
              "      border-color: transparent;\n",
              "      border-right-color: var(--fill-color);\n",
              "    }\n",
              "    80% {\n",
              "      border-color: transparent;\n",
              "      border-right-color: var(--fill-color);\n",
              "      border-bottom-color: var(--fill-color);\n",
              "    }\n",
              "    90% {\n",
              "      border-color: transparent;\n",
              "      border-bottom-color: var(--fill-color);\n",
              "    }\n",
              "  }\n",
              "</style>\n",
              "\n",
              "  <script>\n",
              "    async function quickchart(key) {\n",
              "      const quickchartButtonEl =\n",
              "        document.querySelector('#' + key + ' button');\n",
              "      quickchartButtonEl.disabled = true;  // To prevent multiple clicks.\n",
              "      quickchartButtonEl.classList.add('colab-df-spinner');\n",
              "      try {\n",
              "        const charts = await google.colab.kernel.invokeFunction(\n",
              "            'suggestCharts', [key], {});\n",
              "      } catch (error) {\n",
              "        console.error('Error during call to suggestCharts:', error);\n",
              "      }\n",
              "      quickchartButtonEl.classList.remove('colab-df-spinner');\n",
              "      quickchartButtonEl.classList.add('colab-df-quickchart-complete');\n",
              "    }\n",
              "    (() => {\n",
              "      let quickchartButtonEl =\n",
              "        document.querySelector('#df-ec6feaa7-2bb7-4231-b31c-55e4515a2991 button');\n",
              "      quickchartButtonEl.style.display =\n",
              "        google.colab.kernel.accessAllowed ? 'block' : 'none';\n",
              "    })();\n",
              "  </script>\n",
              "</div>\n",
              "\n",
              "    </div>\n",
              "  </div>\n"
            ],
            "application/vnd.google.colaboratory.intrinsic+json": {
              "type": "dataframe",
              "variable_name": "data1",
              "summary": "{\n  \"name\": \"data1\",\n  \"rows\": 14639,\n  \"fields\": [\n    {\n      \"column\": \"\\uc0c1\\ub2f4\\ubc88\\ud638\",\n      \"properties\": {\n        \"dtype\": \"number\",\n        \"std\": 127012,\n        \"min\": 111,\n        \"max\": 422302,\n        \"num_unique_values\": 14639,\n        \"samples\": [\n          137441,\n          137859,\n          358479\n        ],\n        \"semantic_type\": \"\",\n        \"description\": \"\"\n      }\n    },\n    {\n      \"column\": \"\\ubc1c\\ud654\\ubb38\",\n      \"properties\": {\n        \"dtype\": \"string\",\n        \"num_unique_values\": 14607,\n        \"samples\": [\n          \"\\uc561\\uc815 \\uac15\\ud654\\uc720\\ub9ac\\uac00 \\uc6d0\\ub798 \\uc774\\ub807\\uac8c \\uc57d\\ud55c\\uc9c0 \\uc5ec?\\uc790\\ub3d9\\ucc28\\uc758 \\uc790 \\uc606 \\ud50c\\ub77c\\uc2a4\\ud2f1\\uc5d0 \\uc0b4\\uc9dd \\ub5a8\\uc5b4 \\ub294\\ub370 \\uc561\\uc815 \\uc606 \\ubd80\\ubd84 \\uae68\\uc9c0\\uace0 \\uae08\\uc774 \\ucb49 \\uac14\\ub124 \\uc5ec\\uc8fc\\ubb38\\ud558\\uba74\\uc11c \\uc5ec\\uc790\\uce5c\\uad6c \\uac15\\ud654\\uc720\\ub9ac\\uae4c\\uc9c0 \\uac19\\uc774 \\uc8fc\\ubb38 \\ud587 \\uc5c7\\ub294\\ub370 1\\uc8fc\\uc77c \\uc9c0\\ub098\\ub3c4\\ub85d \\uae30\\ud3ec\\ub3c4 \\ube60\\uc9c0\\uc9c0 \\uc54a\\uace0 \\ud488\\uc9c8\\uc774 \\ubc18\\ud488\\uc774\\ub098 \\uad50\\ud658\\ub41c\\ub2e4\\uba74 \\ud558\\uace0 \\uc2f6\\ub124\\uc694 \\ud574\\ub2f9 \\uc0c1\\ud488\\uc740 \\ud68c\\uc218 \\uc5c6\\uc774 \\uae08\\uc77c \\uc0c8 \\uc0c1\\ud488\\uc73c\\ub85c \\uad50\\ud658\\ucd9c\\uace0\\ub3c4\\uc640 \\ub4dc\\ub9ac\\uaca0\\uc2b5\\ub2c8\\ub2e4. \",\n          \"\\ubc18\\ud488 \\uc2e0\\uccad\\ud588\\ub294\\ub370 \\ud0dd\\ubc30\\uae30\\uc0ac\\ub2d8\\uc774 \\uac00\\uc838\\uac00\\uc2dc\\uace0 \\ub098\\uc11c \\ud0dd\\ubc30\\ube44\\ubcf4\\ub0b4\\uba74 \\ub418\\ub098\\uc694? \\uc0c1\\ud488\\uacfc \\ud568\\uaed8 \\ubc30\\uc1a1\\ube44 \\ub3d9\\ubd09\\ud574\\uc11c \\ubcf4\\ub0b4\\uc8fc\\uc2dc\\uac70\\ub098 \\uacc4\\uc88c \\uc785\\uae08 \\uc6d0\\ud558\\uc2dc\\uba74 \\uacc4\\uc88c\\ubc88\\ud638 \\uc548\\ub0b4\\ub4dc\\ub9ac\\uaca0\\uc2b5\\ub2c8\\ub2e4. \",\n          \"\\uc88b\\uc740 \\uc0c1\\ud488 \\ud310\\ub9e4\\ud558\\uc168\\uc73c\\uba74 \\uc88b\\uaca0\\uc2b5\\ub2c8\\ub2e4 \\uc9c0\\uc815 \\ud0dd\\ubc30\\uac00 \\uc5c6\\ub2e4\\uace0 \\ub098\\uc624\\ub294\\ub370 \\uc6b0\\uccb4\\uad6d \\ud0dd\\ubc30\\ub85c \\ubcf4\\ub0b4\\uba74 \\ub429\\ub2c8\\uae4c? \\uc6b0\\uccb4\\uad6d \\ud0dd\\ubc30\\ub85c \\ubcf4\\ub0b4\\uc8fc\\uc138\\uc694. \\uc0ac\\uc6a9\\ubc95\\uc774\\ub098 \\ub2e4\\ub978 \\ubd80\\ubd84\\uc774 \\uc5b4\\ub824\\uc6b0\\uc2dc\\ub2e4\\uba74 \\ubc18\\ud488 \\uc811\\uc218\\ud558\\uc2e0 \\ud6c4 \\ubb3c\\uac74 \\ubcf4\\ub0b4\\uc8fc\\uc2dc\\uba74 \\ub418\\uc138\\uc694. \"\n        ],\n        \"semantic_type\": \"\",\n        \"description\": \"\"\n      }\n    }\n  ]\n}"
            }
          },
          "metadata": {},
          "execution_count": 14
        }
      ]
    },
    {
      "cell_type": "code",
      "source": [
        "data1[\"발화문\"] = data1.발화문.replace(\"[^\\s&^가-힣]\",\" \", regex=True)"
      ],
      "metadata": {
        "id": "pOXdakgysatu"
      },
      "execution_count": 15,
      "outputs": []
    },
    {
      "cell_type": "code",
      "source": [
        "from sklearn.feature_extraction.text import TfidfVectorizer\n",
        "\n",
        "tfidf_vect2 = TfidfVectorizer(tokenizer=token,\n",
        "                             stop_words=stopwords,\n",
        "                             min_df=5 )\n",
        "tfidf_vect2.fit_transform(data1['발화문'])\n"
      ],
      "metadata": {
        "id": "hpR2WiF-opie",
        "colab": {
          "base_uri": "https://localhost:8080/"
        },
        "outputId": "8afbde4c-267b-40b9-bcbf-2b347df2e62d"
      },
      "execution_count": 16,
      "outputs": [
        {
          "output_type": "stream",
          "name": "stderr",
          "text": [
            "/usr/local/lib/python3.10/dist-packages/sklearn/feature_extraction/text.py:525: UserWarning: The parameter 'token_pattern' will not be used since 'tokenizer' is not None'\n",
            "  warnings.warn(\n",
            "/usr/local/lib/python3.10/dist-packages/sklearn/feature_extraction/text.py:408: UserWarning: Your stop_words may be inconsistent with your preprocessing. Tokenizing the stop words generated tokens ['지적'] not in stop_words.\n",
            "  warnings.warn(\n"
          ]
        },
        {
          "output_type": "execute_result",
          "data": {
            "text/plain": [
              "<14639x1951 sparse matrix of type '<class 'numpy.float64'>'\n",
              "\twith 184256 stored elements in Compressed Sparse Row format>"
            ]
          },
          "metadata": {},
          "execution_count": 16
        }
      ]
    },
    {
      "cell_type": "markdown",
      "source": [
        "#2. 자연어처리와 머신러닝1 : 분류"
      ],
      "metadata": {
        "id": "4MadqdxbmtCq"
      }
    },
    {
      "cell_type": "markdown",
      "source": [
        "- 분류 모형"
      ],
      "metadata": {
        "id": "NBYhumn6Y4Lm"
      }
    },
    {
      "cell_type": "code",
      "source": [
        "from sklearn.datasets import load_digits\n",
        "mnist = load_digits()\n",
        "mnist.keys()"
      ],
      "metadata": {
        "colab": {
          "base_uri": "https://localhost:8080/"
        },
        "id": "xRQqMdf3BoUu",
        "outputId": "110d113f-d51d-4cf2-d238-f401ba1ab3ef"
      },
      "execution_count": 17,
      "outputs": [
        {
          "output_type": "execute_result",
          "data": {
            "text/plain": [
              "dict_keys(['data', 'target', 'frame', 'feature_names', 'target_names', 'images', 'DESCR'])"
            ]
          },
          "metadata": {},
          "execution_count": 17
        }
      ]
    },
    {
      "cell_type": "code",
      "source": [
        "from sklearn.datasets import load_digits\n",
        "mnist = load_digits()\n",
        "mnist.keys()\n",
        "\n",
        "#1. 전처리\n",
        "X = mnist.data\n",
        "y = mnist.target\n",
        "X.shape\n",
        "y.shape"
      ],
      "metadata": {
        "colab": {
          "base_uri": "https://localhost:8080/"
        },
        "id": "QOctvAg1D_wN",
        "outputId": "9d9386c8-3fe2-495c-9e03-8c2d09cedad6"
      },
      "execution_count": 18,
      "outputs": [
        {
          "output_type": "execute_result",
          "data": {
            "text/plain": [
              "(1797,)"
            ]
          },
          "metadata": {},
          "execution_count": 18
        }
      ]
    },
    {
      "cell_type": "code",
      "source": [
        "import pandas as pd\n",
        "pd.DataFrame(X).isnull().mean()\n",
        "X_scaled = X/255\n",
        "\n",
        "from sklearn.model_selection import train_test_split\n",
        "X_train, X_test, y_train, y_test = train_test_split( X_scaled, y, test_size=0.2)\n"
      ],
      "metadata": {
        "id": "ov05bQydEOVQ"
      },
      "execution_count": 19,
      "outputs": []
    },
    {
      "cell_type": "code",
      "source": [
        "#1. DT\n",
        "from sklearn.tree import DecisionTreeClassifier\n",
        "model1 = DecisionTreeClassifier().fit(X_train, y_train)\n",
        "pred1 = model1.predict(X_test)\n",
        "\n",
        "from sklearn.metrics import classification_report\n",
        "print(classification_report( pred1, y_test))"
      ],
      "metadata": {
        "colab": {
          "base_uri": "https://localhost:8080/"
        },
        "id": "LlesppRsE1wn",
        "outputId": "d0879e9f-09b6-4e6d-f651-58367417e634"
      },
      "execution_count": 20,
      "outputs": [
        {
          "output_type": "stream",
          "name": "stdout",
          "text": [
            "              precision    recall  f1-score   support\n",
            "\n",
            "           0       0.92      0.97      0.94        34\n",
            "           1       0.79      0.79      0.79        39\n",
            "           2       0.78      0.78      0.78        36\n",
            "           3       0.82      0.68      0.75        41\n",
            "           4       0.85      0.81      0.83        42\n",
            "           5       0.84      0.84      0.84        31\n",
            "           6       0.89      0.92      0.90        36\n",
            "           7       0.79      0.89      0.84        38\n",
            "           8       0.71      0.74      0.73        27\n",
            "           9       0.83      0.83      0.83        36\n",
            "\n",
            "    accuracy                           0.82       360\n",
            "   macro avg       0.82      0.83      0.82       360\n",
            "weighted avg       0.83      0.82      0.82       360\n",
            "\n"
          ]
        }
      ]
    },
    {
      "cell_type": "markdown",
      "source": [
        "- 여러 분류모형 비교"
      ],
      "metadata": {
        "id": "u-DuPtc2bKpG"
      }
    },
    {
      "cell_type": "code",
      "execution_count": 21,
      "metadata": {
        "colab": {
          "base_uri": "https://localhost:8080/"
        },
        "id": "Ye5TDh89C_Wx",
        "outputId": "bfe4e8de-b5e3-4d14-a332-8de8c2dc9a46"
      },
      "outputs": [
        {
          "output_type": "stream",
          "name": "stdout",
          "text": [
            "NB 0.8972222222222223\n",
            "DT 0.8277777777777777\n",
            "RF 0.9777777777777777\n",
            "KNN 0.9861111111111112\n",
            "SVM 0.9833333333333333\n",
            "ANN 0.7916666666666666\n"
          ]
        },
        {
          "output_type": "stream",
          "name": "stderr",
          "text": [
            "/usr/local/lib/python3.10/dist-packages/sklearn/neural_network/_multilayer_perceptron.py:691: ConvergenceWarning: Stochastic Optimizer: Maximum iterations (200) reached and the optimization hasn't converged yet.\n",
            "  warnings.warn(\n"
          ]
        }
      ],
      "source": [
        "from sklearn.naive_bayes import MultinomialNB\n",
        "from sklearn.tree import DecisionTreeClassifier\n",
        "from sklearn.ensemble import RandomForestClassifier\n",
        "from sklearn.neighbors import KNeighborsClassifier\n",
        "from sklearn.svm import SVC\n",
        "from sklearn.neural_network import MLPClassifier\n",
        "import numpy as np\n",
        "\n",
        "#NB\n",
        "clf = MultinomialNB().fit(X_train, y_train)\n",
        "predicted = clf.predict(X_test)\n",
        "print('NB', np.mean(predicted == y_test))\n",
        "\n",
        "#DT\n",
        "dt1 = DecisionTreeClassifier().fit(X_train, y_train)\n",
        "pred = dt1.predict( X_test)\n",
        "print('DT', np.mean( pred == y_test ))\n",
        "\n",
        "#RF\n",
        "rf = RandomForestClassifier(n_estimators=300, random_state=42).fit(X_train, y_train)\n",
        "predicted = rf.predict(X_test)\n",
        "print('RF', np.mean( predicted == y_test ))\n",
        "\n",
        "#KNN\n",
        "knn = KNeighborsClassifier().fit(X_train, y_train)  #k=5\n",
        "predicted = knn.predict(X_test)\n",
        "print('KNN', np.mean( predicted == y_test ))\n",
        "\n",
        "#SVM\n",
        "svm = SVC().fit(X_train, y_train)\n",
        "predicted = svm.predict(X_test)\n",
        "print('SVM', np.mean( predicted == y_test ))\n",
        "\n",
        "#ANN\n",
        "mlp = MLPClassifier(hidden_layer_sizes=(24,12,6)).fit(X_train,y_train)\n",
        "predictions = mlp.predict(X_test)\n",
        "print('ANN',np.mean( predictions == y_test ))"
      ]
    },
    {
      "cell_type": "code",
      "source": [
        "from sklearn import model_selection\n",
        "from sklearn import metrics\n",
        "\n",
        "param_grid = {\n",
        "    \"max_depth\":[1,3,5,7,9]\n",
        "}\n",
        "#declaring GridSearchCV model\n",
        "grid1 = model_selection.GridSearchCV(\n",
        "    estimator = model1, #모형\n",
        "    param_grid = param_grid,  #\n",
        "    scoring = 'accuracy', #정분류율\n",
        "    verbose = 10,\n",
        "    n_jobs = 1,\n",
        "    cv = 5      #k-fold CV, k값.\n",
        ")\n",
        "#fitting values to the gridsearchcv model\n",
        "grid1.fit(X_train,y_train)\n",
        "\n",
        "#printing the best possible values to enhance accuracy\n",
        "print(grid1.best_params_)\n",
        "print(grid1.best_estimator_)\n",
        "#printing the best score\n",
        "print(grid1.best_score_)\n"
      ],
      "metadata": {
        "id": "OB-HbDPYF3m7",
        "colab": {
          "base_uri": "https://localhost:8080/"
        },
        "outputId": "d3fa928b-f439-4444-f0e8-73086fec4603"
      },
      "execution_count": 22,
      "outputs": [
        {
          "output_type": "stream",
          "name": "stdout",
          "text": [
            "Fitting 5 folds for each of 5 candidates, totalling 25 fits\n",
            "[CV 1/5; 1/5] START max_depth=1.................................................\n",
            "[CV 1/5; 1/5] END ..................max_depth=1;, score=0.198 total time=   0.0s\n",
            "[CV 2/5; 1/5] START max_depth=1.................................................\n",
            "[CV 2/5; 1/5] END ..................max_depth=1;, score=0.201 total time=   0.0s\n",
            "[CV 3/5; 1/5] START max_depth=1.................................................\n",
            "[CV 3/5; 1/5] END ..................max_depth=1;, score=0.202 total time=   0.0s\n",
            "[CV 4/5; 1/5] START max_depth=1.................................................\n",
            "[CV 4/5; 1/5] END ..................max_depth=1;, score=0.199 total time=   0.0s\n",
            "[CV 5/5; 1/5] START max_depth=1.................................................\n",
            "[CV 5/5; 1/5] END ..................max_depth=1;, score=0.199 total time=   0.0s\n",
            "[CV 1/5; 2/5] START max_depth=3.................................................\n",
            "[CV 1/5; 2/5] END ..................max_depth=3;, score=0.455 total time=   0.0s\n",
            "[CV 2/5; 2/5] START max_depth=3.................................................\n",
            "[CV 2/5; 2/5] END ..................max_depth=3;, score=0.479 total time=   0.3s\n",
            "[CV 3/5; 2/5] START max_depth=3.................................................\n",
            "[CV 3/5; 2/5] END ..................max_depth=3;, score=0.474 total time=   0.0s\n",
            "[CV 4/5; 2/5] START max_depth=3.................................................\n",
            "[CV 4/5; 2/5] END ..................max_depth=3;, score=0.467 total time=   0.0s\n",
            "[CV 5/5; 2/5] START max_depth=3.................................................\n",
            "[CV 5/5; 2/5] END ..................max_depth=3;, score=0.477 total time=   0.0s\n",
            "[CV 1/5; 3/5] START max_depth=5.................................................\n",
            "[CV 1/5; 3/5] END ..................max_depth=5;, score=0.639 total time=   0.0s\n",
            "[CV 2/5; 3/5] START max_depth=5.................................................\n",
            "[CV 2/5; 3/5] END ..................max_depth=5;, score=0.670 total time=   0.0s\n",
            "[CV 3/5; 3/5] START max_depth=5.................................................\n",
            "[CV 3/5; 3/5] END ..................max_depth=5;, score=0.645 total time=   0.0s\n",
            "[CV 4/5; 3/5] START max_depth=5.................................................\n",
            "[CV 4/5; 3/5] END ..................max_depth=5;, score=0.655 total time=   0.0s\n",
            "[CV 5/5; 3/5] START max_depth=5.................................................\n",
            "[CV 5/5; 3/5] END ..................max_depth=5;, score=0.690 total time=   0.0s\n",
            "[CV 1/5; 4/5] START max_depth=7.................................................\n",
            "[CV 1/5; 4/5] END ..................max_depth=7;, score=0.795 total time=   0.0s\n",
            "[CV 2/5; 4/5] START max_depth=7.................................................\n",
            "[CV 2/5; 4/5] END ..................max_depth=7;, score=0.844 total time=   0.0s\n",
            "[CV 3/5; 4/5] START max_depth=7.................................................\n",
            "[CV 3/5; 4/5] END ..................max_depth=7;, score=0.808 total time=   0.0s\n",
            "[CV 4/5; 4/5] START max_depth=7.................................................\n",
            "[CV 4/5; 4/5] END ..................max_depth=7;, score=0.770 total time=   0.0s\n",
            "[CV 5/5; 4/5] START max_depth=7.................................................\n",
            "[CV 5/5; 4/5] END ..................max_depth=7;, score=0.843 total time=   0.0s\n",
            "[CV 1/5; 5/5] START max_depth=9.................................................\n",
            "[CV 1/5; 5/5] END ..................max_depth=9;, score=0.823 total time=   0.0s\n",
            "[CV 2/5; 5/5] START max_depth=9.................................................\n",
            "[CV 2/5; 5/5] END ..................max_depth=9;, score=0.861 total time=   0.0s\n",
            "[CV 3/5; 5/5] START max_depth=9.................................................\n",
            "[CV 3/5; 5/5] END ..................max_depth=9;, score=0.836 total time=   0.0s\n",
            "[CV 4/5; 5/5] START max_depth=9.................................................\n",
            "[CV 4/5; 5/5] END ..................max_depth=9;, score=0.822 total time=   0.0s\n",
            "[CV 5/5; 5/5] START max_depth=9.................................................\n",
            "[CV 5/5; 5/5] END ..................max_depth=9;, score=0.854 total time=   0.0s\n",
            "{'max_depth': 9}\n",
            "DecisionTreeClassifier(max_depth=9)\n",
            "0.8392445799457995\n"
          ]
        }
      ]
    },
    {
      "cell_type": "markdown",
      "source": [
        "- 문헌 분류"
      ],
      "metadata": {
        "id": "9RKHdmlUyk4P"
      }
    },
    {
      "cell_type": "code",
      "source": [
        "!unzip news_small.zip\n",
        "#!unzip news.zip"
      ],
      "metadata": {
        "id": "bt3hN8eda67N",
        "colab": {
          "base_uri": "https://localhost:8080/"
        },
        "outputId": "c76973bd-1c73-4593-d461-512ea255492f"
      },
      "execution_count": 23,
      "outputs": [
        {
          "output_type": "stream",
          "name": "stdout",
          "text": [
            "Archive:  news_small.zip\n",
            "  inflating: 103/103_1.txt           \n",
            "  inflating: 103/103_10.txt          \n",
            "  inflating: 103/103_100.txt         \n",
            "  inflating: 103/103_101.txt         \n",
            "  inflating: 103/103_102.txt         \n",
            "  inflating: 103/103_103.txt         \n",
            "  inflating: 103/103_104.txt         \n",
            "  inflating: 103/103_105.txt         \n",
            "  inflating: 103/103_106.txt         \n",
            "  inflating: 103/103_107.txt         \n",
            "  inflating: 103/103_108.txt         \n",
            "  inflating: 103/103_109.txt         \n",
            "  inflating: 103/103_11.txt          \n",
            "  inflating: 103/103_110.txt         \n",
            "  inflating: 103/103_111.txt         \n",
            "  inflating: 103/103_112.txt         \n",
            "  inflating: 103/103_113.txt         \n",
            "  inflating: 103/103_114.txt         \n",
            "  inflating: 103/103_115.txt         \n",
            "  inflating: 103/103_116.txt         \n",
            "  inflating: 103/103_117.txt         \n",
            "  inflating: 103/103_118.txt         \n",
            "  inflating: 103/103_119.txt         \n",
            "  inflating: 103/103_12.txt          \n",
            "  inflating: 103/103_120.txt         \n",
            "  inflating: 103/103_121.txt         \n",
            "  inflating: 103/103_122.txt         \n",
            "  inflating: 103/103_123.txt         \n",
            "  inflating: 103/103_124.txt         \n",
            "  inflating: 103/103_125.txt         \n",
            "  inflating: 103/103_126.txt         \n",
            "  inflating: 103/103_127.txt         \n",
            "  inflating: 103/103_128.txt         \n",
            "  inflating: 103/103_129.txt         \n",
            "  inflating: 103/103_13.txt          \n",
            "  inflating: 103/103_130.txt         \n",
            "  inflating: 103/103_131.txt         \n",
            "  inflating: 103/103_132.txt         \n",
            "  inflating: 103/103_133.txt         \n",
            "  inflating: 103/103_134.txt         \n",
            "  inflating: 103/103_135.txt         \n",
            "  inflating: 103/103_136.txt         \n",
            "  inflating: 103/103_137.txt         \n",
            "  inflating: 103/103_138.txt         \n",
            "  inflating: 103/103_139.txt         \n",
            "  inflating: 103/103_14.txt          \n",
            "  inflating: 103/103_140.txt         \n",
            "  inflating: 103/103_141.txt         \n",
            "  inflating: 103/103_142.txt         \n",
            "  inflating: 103/103_143.txt         \n",
            "  inflating: 103/103_144.txt         \n",
            "  inflating: 103/103_145.txt         \n",
            "  inflating: 103/103_146.txt         \n",
            "  inflating: 103/103_147.txt         \n",
            "  inflating: 103/103_148.txt         \n",
            "  inflating: 103/103_149.txt         \n",
            "  inflating: 103/103_15.txt          \n",
            "  inflating: 103/103_150.txt         \n",
            "  inflating: 103/103_151.txt         \n",
            "  inflating: 103/103_152.txt         \n",
            "  inflating: 103/103_153.txt         \n",
            "  inflating: 103/103_154.txt         \n",
            "  inflating: 103/103_155.txt         \n",
            "  inflating: 103/103_156.txt         \n",
            "  inflating: 103/103_157.txt         \n",
            "  inflating: 103/103_158.txt         \n",
            "  inflating: 103/103_159.txt         \n",
            "  inflating: 103/103_16.txt          \n",
            "  inflating: 103/103_160.txt         \n",
            "  inflating: 103/103_161.txt         \n",
            "  inflating: 103/103_162.txt         \n",
            "  inflating: 103/103_163.txt         \n",
            "  inflating: 103/103_164.txt         \n",
            "  inflating: 103/103_165.txt         \n",
            "  inflating: 103/103_166.txt         \n",
            "  inflating: 103/103_167.txt         \n",
            "  inflating: 103/103_168.txt         \n",
            "  inflating: 103/103_169.txt         \n",
            "  inflating: 103/103_17.txt          \n",
            "  inflating: 103/103_170.txt         \n",
            "  inflating: 103/103_171.txt         \n",
            "  inflating: 103/103_172.txt         \n",
            "  inflating: 103/103_173.txt         \n",
            "  inflating: 103/103_174.txt         \n",
            "  inflating: 103/103_175.txt         \n",
            "  inflating: 103/103_176.txt         \n",
            "  inflating: 103/103_177.txt         \n",
            "  inflating: 103/103_178.txt         \n",
            "  inflating: 103/103_179.txt         \n",
            "  inflating: 103/103_18.txt          \n",
            "  inflating: 103/103_180.txt         \n",
            "  inflating: 103/103_181.txt         \n",
            "  inflating: 103/103_182.txt         \n",
            "  inflating: 103/103_183.txt         \n",
            "  inflating: 103/103_184.txt         \n",
            "  inflating: 103/103_185.txt         \n",
            "  inflating: 103/103_186.txt         \n",
            "  inflating: 103/103_187.txt         \n",
            "  inflating: 103/103_188.txt         \n",
            "  inflating: 103/103_189.txt         \n",
            "  inflating: 103/103_19.txt          \n",
            "  inflating: 103/103_190.txt         \n",
            "  inflating: 103/103_191.txt         \n",
            "  inflating: 103/103_192.txt         \n",
            "  inflating: 103/103_193.txt         \n",
            "  inflating: 103/103_194.txt         \n",
            "  inflating: 103/103_195.txt         \n",
            "  inflating: 103/103_196.txt         \n",
            "  inflating: 103/103_197.txt         \n",
            "  inflating: 103/103_198.txt         \n",
            "  inflating: 103/103_199.txt         \n",
            "  inflating: 103/103_2.txt           \n",
            "  inflating: 103/103_20.txt          \n",
            "  inflating: 103/103_200.txt         \n",
            "  inflating: 103/103_21.txt          \n",
            "  inflating: 103/103_22.txt          \n",
            "  inflating: 103/103_23.txt          \n",
            "  inflating: 103/103_24.txt          \n",
            "  inflating: 103/103_25.txt          \n",
            "  inflating: 103/103_26.txt          \n",
            "  inflating: 103/103_27.txt          \n",
            "  inflating: 103/103_28.txt          \n",
            "  inflating: 103/103_29.txt          \n",
            "  inflating: 103/103_3.txt           \n",
            "  inflating: 103/103_30.txt          \n",
            "  inflating: 103/103_31.txt          \n",
            "  inflating: 103/103_32.txt          \n",
            "  inflating: 103/103_33.txt          \n",
            "  inflating: 103/103_34.txt          \n",
            "  inflating: 103/103_35.txt          \n",
            "  inflating: 103/103_36.txt          \n",
            "  inflating: 103/103_37.txt          \n",
            "  inflating: 103/103_38.txt          \n",
            "  inflating: 103/103_39.txt          \n",
            "  inflating: 103/103_4.txt           \n",
            "  inflating: 103/103_40.txt          \n",
            "  inflating: 103/103_41.txt          \n",
            "  inflating: 103/103_42.txt          \n",
            "  inflating: 103/103_43.txt          \n",
            "  inflating: 103/103_44.txt          \n",
            "  inflating: 103/103_45.txt          \n",
            "  inflating: 103/103_46.txt          \n",
            "  inflating: 103/103_47.txt          \n",
            "  inflating: 103/103_48.txt          \n",
            "  inflating: 103/103_49.txt          \n",
            "  inflating: 103/103_5.txt           \n",
            "  inflating: 103/103_50.txt          \n",
            "  inflating: 103/103_51.txt          \n",
            "  inflating: 103/103_52.txt          \n",
            "  inflating: 103/103_53.txt          \n",
            "  inflating: 103/103_54.txt          \n",
            "  inflating: 103/103_55.txt          \n",
            "  inflating: 103/103_56.txt          \n",
            "  inflating: 103/103_57.txt          \n",
            "  inflating: 103/103_58.txt          \n",
            "  inflating: 103/103_59.txt          \n",
            "  inflating: 103/103_6.txt           \n",
            "  inflating: 103/103_60.txt          \n",
            "  inflating: 103/103_61.txt          \n",
            "  inflating: 103/103_62.txt          \n",
            "  inflating: 103/103_63.txt          \n",
            "  inflating: 103/103_64.txt          \n",
            "  inflating: 103/103_65.txt          \n",
            "  inflating: 103/103_66.txt          \n",
            "  inflating: 103/103_67.txt          \n",
            "  inflating: 103/103_68.txt          \n",
            "  inflating: 103/103_69.txt          \n",
            "  inflating: 103/103_7.txt           \n",
            "  inflating: 103/103_70.txt          \n",
            "  inflating: 103/103_71.txt          \n",
            "  inflating: 103/103_72.txt          \n",
            "  inflating: 103/103_73.txt          \n",
            "  inflating: 103/103_74.txt          \n",
            "  inflating: 103/103_75.txt          \n",
            "  inflating: 103/103_76.txt          \n",
            "  inflating: 103/103_77.txt          \n",
            "  inflating: 103/103_78.txt          \n",
            "  inflating: 103/103_79.txt          \n",
            "  inflating: 103/103_8.txt           \n",
            "  inflating: 103/103_80.txt          \n",
            "  inflating: 103/103_81.txt          \n",
            "  inflating: 103/103_82.txt          \n",
            "  inflating: 103/103_83.txt          \n",
            "  inflating: 103/103_84.txt          \n",
            "  inflating: 103/103_85.txt          \n",
            "  inflating: 103/103_86.txt          \n",
            "  inflating: 103/103_87.txt          \n",
            "  inflating: 103/103_88.txt          \n",
            "  inflating: 103/103_89.txt          \n",
            "  inflating: 103/103_9.txt           \n",
            "  inflating: 103/103_90.txt          \n",
            "  inflating: 103/103_91.txt          \n",
            "  inflating: 103/103_92.txt          \n",
            "  inflating: 103/103_93.txt          \n",
            "  inflating: 103/103_94.txt          \n",
            "  inflating: 103/103_95.txt          \n",
            "  inflating: 103/103_96.txt          \n",
            "  inflating: 103/103_97.txt          \n",
            "  inflating: 103/103_98.txt          \n",
            "  inflating: 103/103_99.txt          \n",
            "  inflating: 105/105_1.txt           \n",
            "  inflating: 105/105_10.txt          \n",
            "  inflating: 105/105_100.txt         \n",
            "  inflating: 105/105_101.txt         \n",
            "  inflating: 105/105_102.txt         \n",
            "  inflating: 105/105_103.txt         \n",
            "  inflating: 105/105_104.txt         \n",
            "  inflating: 105/105_105.txt         \n",
            "  inflating: 105/105_106.txt         \n",
            "  inflating: 105/105_107.txt         \n",
            "  inflating: 105/105_108.txt         \n",
            "  inflating: 105/105_109.txt         \n",
            "  inflating: 105/105_11.txt          \n",
            "  inflating: 105/105_110.txt         \n",
            "  inflating: 105/105_111.txt         \n",
            "  inflating: 105/105_112.txt         \n",
            "  inflating: 105/105_113.txt         \n",
            "  inflating: 105/105_114.txt         \n",
            "  inflating: 105/105_115.txt         \n",
            "  inflating: 105/105_116.txt         \n",
            "  inflating: 105/105_117.txt         \n",
            "  inflating: 105/105_118.txt         \n",
            "  inflating: 105/105_119.txt         \n",
            "  inflating: 105/105_12.txt          \n",
            "  inflating: 105/105_120.txt         \n",
            "  inflating: 105/105_121.txt         \n",
            "  inflating: 105/105_122.txt         \n",
            "  inflating: 105/105_123.txt         \n",
            "  inflating: 105/105_124.txt         \n",
            "  inflating: 105/105_125.txt         \n",
            "  inflating: 105/105_126.txt         \n",
            "  inflating: 105/105_127.txt         \n",
            "  inflating: 105/105_128.txt         \n",
            "  inflating: 105/105_129.txt         \n",
            "  inflating: 105/105_13.txt          \n",
            "  inflating: 105/105_130.txt         \n",
            "  inflating: 105/105_131.txt         \n",
            "  inflating: 105/105_132.txt         \n",
            "  inflating: 105/105_133.txt         \n",
            "  inflating: 105/105_134.txt         \n",
            "  inflating: 105/105_135.txt         \n",
            "  inflating: 105/105_136.txt         \n",
            "  inflating: 105/105_137.txt         \n",
            "  inflating: 105/105_138.txt         \n",
            "  inflating: 105/105_139.txt         \n",
            "  inflating: 105/105_14.txt          \n",
            "  inflating: 105/105_140.txt         \n",
            "  inflating: 105/105_141.txt         \n",
            "  inflating: 105/105_142.txt         \n",
            "  inflating: 105/105_143.txt         \n",
            "  inflating: 105/105_144.txt         \n",
            "  inflating: 105/105_145.txt         \n",
            "  inflating: 105/105_146.txt         \n",
            "  inflating: 105/105_147.txt         \n",
            "  inflating: 105/105_148.txt         \n",
            "  inflating: 105/105_149.txt         \n",
            "  inflating: 105/105_15.txt          \n",
            "  inflating: 105/105_150.txt         \n",
            "  inflating: 105/105_151.txt         \n",
            "  inflating: 105/105_152.txt         \n",
            "  inflating: 105/105_153.txt         \n",
            "  inflating: 105/105_154.txt         \n",
            "  inflating: 105/105_155.txt         \n",
            "  inflating: 105/105_156.txt         \n",
            "  inflating: 105/105_157.txt         \n",
            "  inflating: 105/105_158.txt         \n",
            "  inflating: 105/105_159.txt         \n",
            "  inflating: 105/105_16.txt          \n",
            "  inflating: 105/105_160.txt         \n",
            "  inflating: 105/105_161.txt         \n",
            "  inflating: 105/105_162.txt         \n",
            "  inflating: 105/105_163.txt         \n",
            "  inflating: 105/105_164.txt         \n",
            "  inflating: 105/105_165.txt         \n",
            "  inflating: 105/105_166.txt         \n",
            "  inflating: 105/105_167.txt         \n",
            "  inflating: 105/105_168.txt         \n",
            "  inflating: 105/105_169.txt         \n",
            "  inflating: 105/105_17.txt          \n",
            "  inflating: 105/105_170.txt         \n",
            "  inflating: 105/105_171.txt         \n",
            "  inflating: 105/105_172.txt         \n",
            "  inflating: 105/105_173.txt         \n",
            "  inflating: 105/105_174.txt         \n",
            "  inflating: 105/105_175.txt         \n",
            "  inflating: 105/105_176.txt         \n",
            "  inflating: 105/105_177.txt         \n",
            "  inflating: 105/105_178.txt         \n",
            "  inflating: 105/105_179.txt         \n",
            "  inflating: 105/105_18.txt          \n",
            "  inflating: 105/105_180.txt         \n",
            "  inflating: 105/105_181.txt         \n",
            "  inflating: 105/105_182.txt         \n",
            "  inflating: 105/105_183.txt         \n",
            "  inflating: 105/105_184.txt         \n",
            "  inflating: 105/105_185.txt         \n",
            "  inflating: 105/105_186.txt         \n",
            "  inflating: 105/105_187.txt         \n",
            "  inflating: 105/105_188.txt         \n",
            "  inflating: 105/105_189.txt         \n",
            "  inflating: 105/105_19.txt          \n",
            "  inflating: 105/105_190.txt         \n",
            "  inflating: 105/105_191.txt         \n",
            "  inflating: 105/105_192.txt         \n",
            "  inflating: 105/105_193.txt         \n",
            "  inflating: 105/105_194.txt         \n",
            "  inflating: 105/105_195.txt         \n",
            "  inflating: 105/105_196.txt         \n",
            "  inflating: 105/105_197.txt         \n",
            "  inflating: 105/105_198.txt         \n",
            "  inflating: 105/105_199.txt         \n",
            "  inflating: 105/105_2.txt           \n",
            "  inflating: 105/105_20.txt          \n",
            "  inflating: 105/105_200.txt         \n",
            "  inflating: 105/105_21.txt          \n",
            "  inflating: 105/105_22.txt          \n",
            "  inflating: 105/105_23.txt          \n",
            "  inflating: 105/105_24.txt          \n",
            "  inflating: 105/105_25.txt          \n",
            "  inflating: 105/105_26.txt          \n",
            "  inflating: 105/105_27.txt          \n",
            "  inflating: 105/105_28.txt          \n",
            "  inflating: 105/105_29.txt          \n",
            "  inflating: 105/105_3.txt           \n",
            "  inflating: 105/105_30.txt          \n",
            "  inflating: 105/105_31.txt          \n",
            "  inflating: 105/105_32.txt          \n",
            "  inflating: 105/105_33.txt          \n",
            "  inflating: 105/105_34.txt          \n",
            "  inflating: 105/105_35.txt          \n",
            "  inflating: 105/105_36.txt          \n",
            "  inflating: 105/105_37.txt          \n",
            "  inflating: 105/105_38.txt          \n",
            "  inflating: 105/105_39.txt          \n",
            "  inflating: 105/105_4.txt           \n",
            "  inflating: 105/105_40.txt          \n",
            "  inflating: 105/105_41.txt          \n",
            "  inflating: 105/105_42.txt          \n",
            "  inflating: 105/105_43.txt          \n",
            "  inflating: 105/105_44.txt          \n",
            "  inflating: 105/105_45.txt          \n",
            "  inflating: 105/105_46.txt          \n",
            "  inflating: 105/105_47.txt          \n",
            "  inflating: 105/105_48.txt          \n",
            "  inflating: 105/105_49.txt          \n",
            "  inflating: 105/105_5.txt           \n",
            "  inflating: 105/105_50.txt          \n",
            "  inflating: 105/105_51.txt          \n",
            "  inflating: 105/105_52.txt          \n",
            "  inflating: 105/105_53.txt          \n",
            "  inflating: 105/105_54.txt          \n",
            "  inflating: 105/105_55.txt          \n",
            "  inflating: 105/105_56.txt          \n",
            "  inflating: 105/105_57.txt          \n",
            "  inflating: 105/105_58.txt          \n",
            "  inflating: 105/105_59.txt          \n",
            "  inflating: 105/105_6.txt           \n",
            "  inflating: 105/105_60.txt          \n",
            "  inflating: 105/105_61.txt          \n",
            "  inflating: 105/105_62.txt          \n",
            "  inflating: 105/105_63.txt          \n",
            "  inflating: 105/105_64.txt          \n",
            "  inflating: 105/105_65.txt          \n",
            "  inflating: 105/105_66.txt          \n",
            "  inflating: 105/105_67.txt          \n",
            "  inflating: 105/105_68.txt          \n",
            "  inflating: 105/105_69.txt          \n",
            "  inflating: 105/105_7.txt           \n",
            "  inflating: 105/105_70.txt          \n",
            "  inflating: 105/105_71.txt          \n",
            "  inflating: 105/105_72.txt          \n",
            "  inflating: 105/105_73.txt          \n",
            "  inflating: 105/105_74.txt          \n",
            "  inflating: 105/105_75.txt          \n",
            "  inflating: 105/105_76.txt          \n",
            "  inflating: 105/105_77.txt          \n",
            "  inflating: 105/105_78.txt          \n",
            "  inflating: 105/105_79.txt          \n",
            "  inflating: 105/105_8.txt           \n",
            "  inflating: 105/105_80.txt          \n",
            "  inflating: 105/105_81.txt          \n",
            "  inflating: 105/105_82.txt          \n",
            "  inflating: 105/105_83.txt          \n",
            "  inflating: 105/105_84.txt          \n",
            "  inflating: 105/105_85.txt          \n",
            "  inflating: 105/105_86.txt          \n",
            "  inflating: 105/105_87.txt          \n",
            "  inflating: 105/105_88.txt          \n",
            "  inflating: 105/105_89.txt          \n",
            "  inflating: 105/105_9.txt           \n",
            "  inflating: 105/105_90.txt          \n",
            "  inflating: 105/105_91.txt          \n",
            "  inflating: 105/105_92.txt          \n",
            "  inflating: 105/105_93.txt          \n",
            "  inflating: 105/105_94.txt          \n",
            "  inflating: 105/105_95.txt          \n",
            "  inflating: 105/105_96.txt          \n",
            "  inflating: 105/105_97.txt          \n",
            "  inflating: 105/105_98.txt          \n",
            "  inflating: 105/105_99.txt          \n"
          ]
        }
      ]
    },
    {
      "cell_type": "code",
      "source": [
        "import os\n",
        "import pandas as pd\n",
        "\n",
        "files1 = os.listdir('103')   #압축이 풀린 103폴더의 파일들을 읽음\n",
        "files2 = os.listdir('105')   #압축이 풀린 105폴더의 파일들을 읽음\n"
      ],
      "metadata": {
        "id": "7Hyus-Ae_edv"
      },
      "execution_count": 24,
      "outputs": []
    },
    {
      "cell_type": "code",
      "source": [
        "y = []\n",
        "x = []\n",
        "\n",
        "#txt파일을 읽어서 파일 내용을 x라는 리스트에 추가\n",
        "def add_file(path):\n",
        "    with open(path, \"r\", encoding=\"utf-8\") as f:\n",
        "        s = f.read()\n",
        "        x.append(s)"
      ],
      "metadata": {
        "id": "8guqyYBLt5e8"
      },
      "execution_count": 25,
      "outputs": []
    },
    {
      "cell_type": "code",
      "source": [
        "#반복문, 똑같은 작업을 여러 대상에 적용\n",
        "for f in files1:  #파일갯수만큼 반복\n",
        "     add_file(\"103/\"+f) #103폴더 신문기사가 X에 추가\n",
        "     y.append(0)#103폴더 신문기사만큼 y에 0값을 추가, 0은 103을 나타내는 범주\n",
        "\n",
        "for f in files2:\n",
        "     add_file(\"105/\"+f)\n",
        "     y.append(1)  #105를 나타내는 범주 1"
      ],
      "metadata": {
        "id": "ihpJqPx5ukp3"
      },
      "execution_count": 26,
      "outputs": []
    },
    {
      "cell_type": "code",
      "source": [
        "len(y)"
      ],
      "metadata": {
        "colab": {
          "base_uri": "https://localhost:8080/"
        },
        "id": "EetU1_nCvrqY",
        "outputId": "fd69ff0d-74e7-48e3-bffa-68b34a0a6c46"
      },
      "execution_count": 27,
      "outputs": [
        {
          "output_type": "execute_result",
          "data": {
            "text/plain": [
              "400"
            ]
          },
          "metadata": {},
          "execution_count": 27
        }
      ]
    },
    {
      "cell_type": "code",
      "source": [
        "x[0]"
      ],
      "metadata": {
        "id": "LDATsgxEMfkl",
        "colab": {
          "base_uri": "https://localhost:8080/",
          "height": 236
        },
        "outputId": "08509e0d-92be-4c00-fd66-b269cd38c23d"
      },
      "execution_count": 28,
      "outputs": [
        {
          "output_type": "execute_result",
          "data": {
            "text/plain": [
              "\"이번 남쪽여행의 마지막 지점은 통영이었다. 서울에서 KTX로 여수로 이동해, 역전에서 렌터카를 받고, 여수 향일암-순천 선암사–남해 보리암을 보고 그 옆 동네 통영에 도착한 것이다. 바다, 섬, 높은 산, 암자, 항구, 시장, 억센 현지 말투, 그리고 충무공 이순신…. 남해안 동쪽여행을 하며 매일 머릿속을 맴돈 단어들이었다. 통영 또한 마찬가지였다. 다른 점이 있다면, 이곳에는 유난히 걸출한 예술가들이 많이 태어났다는 점. 소설, 그림, 조각, 음악, 음식 등 통영은 물론 한국을 대표하는 인물들이 그들이다. 예인이 많다는 것은 이곳에 무언가 뜨거운 불덩어리가 있다는 뜻일까? 통영 항구, 산, 거리에서 마주친 보통 사람들에게서도 무언가 범상치 않은 열기가 느껴지곤 했다. 물론 기분 탓이겠지만. ▶맨 먼저 찾아간 곳 ‘봄날의 책방’ 출판사 ‘남해의 봄날’에서 운영하는 서점이다. 서울에서 직장생활 하던 사람이 남쪽 끝 통영에 내려와 출판사를 차리고 책을 내고 서점과 게스트하우스를 열었다. 대도시를 떠나는 사람들의 이야기가 더 이상 이슈가 되지 않는 지금, 이는 평범해 보이지만 사실 특별한 일이다. 막상 실천하려면 백만 가지의 번잡함이 발목을 붙잡기 때문이다. 남해의 봄날이 2012년 첫번째 출판물을 세상에 냈을 때, 그 일상적이면서도 문학적이며, 듣고 보니 누구나 쉽게 떠올릴 수 있는 어떤 풍경을 연상케 하는 출판사 이름에 무작정 응원을 보냈던 사람 중 하나로서의 그 출판사에서 운영하는 ‘봄날의 책방’을 서둘러 찾은 게 이상한 일은 아니다. 『작은 책방, 우리 책 쫌 팝니다!』(백창화 김병록), 『우리가 사랑한 빵집, 성심당』(김태훈), 『통영 예술 기행』(통영길문화연대), 『동전 하나로도 행복했던 구멍가게의 날들』(이미경), 『로컬의 미래』(헬레나 노르베리 호지), 『마녀체력』(이영미), 『할머니의 행복 레시피』(나카무라 유) 등은 읽었거나, 읽고 싶었으나 게으름을 부린 ‘남해의 봄날’의 책들이다. 개인적이고 매우 어줍잖은 느낌이지만, 남해의 봄날에서 펴낸 책들은 소소하지만 비범한 그 무엇을 이야기하고 있다는 공통점이 있는 것 같고, 출판사라면 당연히 그런 색깔이 필요하다고 생각해 왔다. 통영시 봉수1길, 골목 안쪽에 있는 ‘봄날의 책방’은 기대했던 것 이상으로 잘 생겼다. 지붕이 높은 가옥이 주는 따스함에 몇 날 며칠 강행한 여독이 스르르 풀리는 기분이다. 마당의 나무도, 벽 색깔도, 벽화들도, 벽화 속 인물들도 모두 참 잘 생겼다. 봄날의 책방은 외관에서 느낀 것 그대로 주택을 개조한 서점이었다. 이 집을 짓고 산 분이 누군지는 모르겠으나, 방도 많고 널찍한 걸로 보아 꽤 반듯한 삶을 사신 것 같았다. 현관으로 들어서니 긴 복도가 있고, 거실과 안방이었음직한 공간이 왼쪽에 열려있고 오른쪽으로는 조그만 방들이 나란히 있다. 모두 책을 진열해 둔 공간들이며, 방 마다 주제가 있어서 그에 맞는 책들이 전시되어 있다. 오른쪽 첫째 문으로 들어가면 ‘책읽는 부엌’과 ‘작가의 방’이 있다. 작가의 방은 통영에서 태어나고 자란, 또는 통영을 사랑한 문인들을 돌아가면서 소개하는 방이다. 내가 들어갔을 땐 ‘통영을 사랑한 작가들 김춘수, 백석’이 그 방에 있었다. 전시 안내에 따르면, 김춘수는 통영이 고향인데, 일본 유학 중 릴케의 시를 읽고 문학의 길에 들어섰고, 해방 후 귀향, 청마 유치환을 만나 문화 운동을 펼쳤다고 한다. 김춘수와 유치환이 그 옛날 강구안을 걸으며 나눴을 문학과 사랑과 꽃의 이야기가 소근소근 들리는 듯 했다. 꽃미남 시인 백석의 통영 인연은 ‘란’(예명)이라는 여성에서 시작되었다. 당시 24세로 조선일보 기자였던 백석은 직장 동료이자 친구 A로부터 이화여고 학생이었던 ‘란’을 소개받았고, 첫 눈에 반했다. ‘란’에 대한 뜨거운 감정을 숨길 수 없었던 백석은 그녀를 만나기 위해 몇 차례 통영을 찾았고, 그녀의 부모에게 인사를 겸한 청혼까지 했으나 끝내 그녀를 만나지 못했고 결혼 승낙도 받지 못했다. 오히려 ‘란’에게 결혼 가락지를 끼워준 주인공은 ‘란’을 백석에게 소개했던 신문사 동료 A였다. ‘란’의 부모가 백석의 ‘란’에 대한 청혼을 받아들이지 않은 이유는, ‘백석의 친모가 기생 출신’이라는 사실을 A를 통해 알았기 때문인 것으로 전해진다. 강구안 인근 ‘충렬사’ 근처에 있는 백석의 시비에는 백석이 ‘란’이 보고싶어 통영까지 왔다 끝내 만나지 못하고 충렬사 계단에 앉아 쓴 ‘통영2’가 각인되어 있다. 전해지기로, ‘란’은 백석의 첫사랑이었다. 이 방에는 김춘수의 명작 ‘꽃’이 수록된 시집 『그는 나에게로 와서 꽃이 되었다』와 백석의 시집들, 평전 등이 전시되어 있다. ‘책읽는 부엌’은 봄날의 책방 바로 옆에 있는 ‘전혁림 미술관’의 부엌을 본 따 꾸민 방이라고 한다. 전혁림의 타일아트, 전영근의 도자기 등 예술 작품들과 리빙, 푸드, 환경 등 생활 관련 서적들이 꽂혀있다. 복도 맨 안쪽 ‘예술가의 방’에서는 미술, 음악, 디자인, 공예 등 예술 서적들을 만날 수 있다. ‘봄날의 책방’은 요즘 거의 완벽하게 부활한 동네서점, 독립서점, 일인서점 등 주인장을 빼닮은 작은 책방의 특징을 모두 갖고 있었다. 서가 분류가 그렇고 주제가 확실하다는 면 또한 그렇다. 계산대가 있는 홀은 ‘봄날의 서가’로 ‘남해의 봄날’ 출판사에서 발행한 책들이 모여 있다. 책 한 권 출판하는 일이 생명을 빚는 일과 같다고 하던데, ‘길지 않은 시간에 굉장히 많은 책을 냈구나!’하는 응원과 함께 눈에 띄는 책 몇 권을 손에 쥐고 말았다. 아직 표지도 펼치지 못한 책들이 집구석에 수두룩인데, 이렇게 아름다운 서점에 오니 새로운 숙제가 또 생기게 된 것이다. 바쁠 것 없다. 천천히 다 읽어내면 나 또한 조금 더 자라겠지.‘바다책방’은 셀렉트북 공간이자 아트숍이다. 봄날의 책방이 좋아하는 책, 친한 이웃들이 서로 추천하고 공감한 책들이 이 방에 꽂혀 있다. 에코백, 파우치, 달력, 엽서, 방석, 쿠션 등 상품들도 예술과 문학의 옷을 입고 있다. 개인적으로 애정하는 캐나다 화가 모드 루이스의 프린트 액자들도 눈에 띄었다. ‘블라인드 시 카드’는 흥미로운 문학 상품이었다. 말 그대로 봉투를 사서, 뚜껑을 열고, 그 안에 들어있는 카드를 꺼내면 카드에 그림과 시가 담겨 있는 방식이다. 봄날의 책방은 ‘블라인드 시 카드’를 ‘운명 같은 시 한 편’이라고 표현했고, 그것이 궁금했던 나 또한 눈길 가는 봉투 하나를 집어 들고 계산을 한 뒤 가방에 넣었다. 여행을 모두 마치고 집으로 돌아와 툇마루에 앉아 마당을 오가는 고양이들을 바라보며 봉투를 열어 카드를 꺼낸 나는 피식, 웃고 말았다. 카드에는 박경리 시 ‘들고양이들’이 들어있었다. 우리 집 마당에도 대여섯 마리의 길냥이들이 매일 출퇴근 하며 사료와 물을 먹곤 하는데, 괜찮다고 그렇게 말을 해도 나만 보면 후다닥 달아나는 녀석들인데, 시에도 그런 이야기가 써 있다니!‘수삼 년 / 겨울이면 / 뒷부엌에 연탄 피워주고 / 국 끓여 밥 말아주었는데 / 여남은 마리나 되는 들고양이들은 / 나만 보면 / 밥 먹다가도 달아난다 // 이놈의 짐승들아! / 어찌 그리 은혜도 모르니 / 하다가 웃었다 / 들고양이들은 / 늘 죄의식에 사로잡혀 / 그러는 것 같다.’‘블라인드 시 카드’에 몰래 들어와 있는 시인들로는 박경리 외에도 김춘수, 백석, 김소월, 윤동주, 이상, 김상옥 등이 있다. ‘봄날의 책방’ 2층에는 숙박 시설 ‘북스테이’도 있다. 몹시 당기는 공간이지만 아무나 예약할 수는 없다. 봄날의 책방 우수 회원이어야만 하며 그들이 정한 몇 가지 요건을 갖춰야 그 방에 누울 수 있다. 나 또한 자격이 되지 않아 ‘구경 부탁’조차 할 수 없었지만, 봄날의 책방 사이트에 본 그 방들은 조선시대 명품 공예 브랜드 ‘통영 12공방’의 역사를 이어온 장인들의 작품으로 꾸며졌다고 한다. ‘봄날의 책방’은 로컬의 깃발이기도 하다. 무엇이든 배우고 공유할 수 있는 ‘원데이 클래스’에서는 프랑스 알자스 지역의 빵과 와인을 배우고 현지 이야기도 들은 ‘알자스의 맛’, 이미경 작가의 ‘펜드로잉’, ‘미담 캘리그라피’ 등 문화 강좌가 열렸고, 앞으로도 색다른 주제의 클래스가 열릴 예정이다. 작가 초청 북토크 행사에는 김훈, 표창원, 김연수 등이 다녀갔다. 후암동 등 서울의 독립서점에서 흔히 볼 수 있는 풍경이지만, 통영의 작은 서점에서 열리는 만남들이 유난히 각별해 보이는 것은, 이런 일들이 로컬의 미래를 보여주는 광경이기 때문이다. 그런 뜻에서 ‘남해의 봄날’, ‘봄날의 책방’은 출판사, 서점을 플랫폼으로 하는 문화 네트워트라 할 만하다. ‘봄날의 책방’은 통영시 봉수1길 6-1에 위치하며 월요일은 오후 2시부터 오후 6시까지, 수요일부터 일요일까지는 오전 10시30분부터 오후 6시30분까지 문을 연다. 점심시간에는 문이 닫히며 화요일마다 휴무다. ▶동피랑 언덕에 오르는 이유 통영의 중심은 역시 강구안이다. 고깃배가 쉴새 없이 들락거리고 항구 바로 앞의 서호시장 등 오래 전 통영과 오늘의 통영이 하나의 시간 하나의 공간 안에서 이어지고 있는 곳이 강구안인 것이다. 통영시에는 수많은 지역과 갈 곳과 섬들이 흩어져 있지만 그 모든 것을 보여주는 곳은 바로 강구안이고, 그 모습을 내려다 볼 수 있는 곳이 동피랑이다. 그래서 통영 여행은 동피랑에서 시작하는 게 맞다. 동피랑은 ‘동쪽 벼랑’ 즉, 동쪽에 있는 산동네라는 뜻을 갖고 있다. 세계의 모든 어촌에는 항구와 시장과 주택지가 존재한다. 특별한 이유가 없는 한 주택은 해수면과 조금이라도 더 높게 올라간 지역에 위치한다. 희한하게도 어항이 발달한 지역은 꼭 항구 바로 앞에 솟은 산이 있고, 그곳에 다닥다닥 집들이 붙어 있다. 동피랑 역시 서피랑과 더불어 강구안을 내려다 볼 수 있는 산동네들이 모여 있다. 동호동, 정량동, 태평동, 중앙동 일대가 바로 동피랑을 이루고 있는 마을들이다. 동피랑은 이순신 장군이 설치한 통제영의 동포루가 있던 자리로 일찌감치 통영 사람들이 옹기종기 모여 살아온 삶의 터전이었다. 알려진 대로 동피랑은 통영시의 ‘도시 개선 사업’의 대상이었다. 이순신 장군이 세운 동포루를 복원하고 오래된 집들을 철거, 공원으로 만드는 게 통영시의 계획이었다. 그러자 마을 철거를 안타까워한 통영의 시민단체들이 반대 운동과 함께 마을 벽화 작업을 실시했고, ‘벽화마을 동피랑’이 전국에 알려지면서 이곳은 금세 여행 명소가 되었다. 마을에 사는 사람들은 몰려드는 관광객들로 일상의 피해를 보기 일쑤였지만 오래된 마을의 온기를 유지하겠다는 희망으로 인내했다고 전해진다. 결국 통영시청도 공원화 계획을 대폭 축소, 마을 정상에 동포루를 복원하기 위한 최소한의 철거 작업만 하고 사업을 마무리 했다. 동피랑은 사실 벽화와 카페 몇 곳, 동피랑점방, 그리고 골목 꼭대기의 ‘동포루’가 전부이다. 그저 오래된 마을과 골목을 천천히 걷고 동포루에 올라 강구안을 오가는 배들과 가까운 바다에 떠 있는 섬들을 물끄러미 바라보고 시장 근처에서 바삐 움직이는 사람들 모습에서 살아있음을 느끼면 그만이다. 동피랑은 도보여행지이다. 자동차를 몰고 올라갈 수 있고, 시간대와 운이 맞으면 주차도 가능하지만 강구안 일대의 공영주차장에 차를 세운 뒤 언덕을 오르는 게 방문자의 예의이자 여유로운 여행을 위한 현명한 방법이다. 서피랑 공원 사진 통영시청, 서피랑에서본 통영항. 사진 통영시청 ▶구도심의 변화, 서피랑 서피랑의 공식 명칭은 ‘서피랑공원’이다. 동피랑이 마을을 보존하며 명소가 된 것과 달리 서피랑은 통영사람들에게나 알려졌지 전국적으로는 무명에 가까운 곳이었고 지금도 그곳을 찾는 사람들이 많지는 않다. 하지만 서피랑은 동피랑 못지 않은 전망을 지닌 동산이다. 서피랑은 동피랑과 함께 통영 구도심의 대표적인 달동네였다. 하지만 동피랑이 서민들이 모여 사는 순수 마을이었던 것과 달리 서피랑은 해방 후 집창촌이 들어서는 바람에 출입 경계 지역으로 오랜 세월 외면당했다. 2000년대에 들어 집창촌은 흔적도 없이 정비되었고 언덕 일대는 공원으로 조성되었다. ‘윤이상과 함께 학교 가는 길’, ‘박경리 문학동네 골목길 투어’, ‘99계단과 음악 정원’, ‘보이소 반갑습니데이! 인사 거리’, ‘뚝지먼당 98계단’, ‘피아노 계단’ 등이 있고 정상에는 ‘서포루’가 복원되어 통영을 한눈에 내려다 볼 수 있는 공간까지 마련되었다. ▶통영케이블카와 미륵산 유시민 작가가 극찬한 통영케이블카를 나도 타 보았다. 케이블카는 역시 바다를 끼고 있는 도시에서 타는 게 제 맛이다. 고도가 높아지며 점점 넓어지는 통영의 풍경을 보는 기분이 짜릿하다. 맨 먼저 보이는 장면은 왼쪽 거제대교로 부산에서 거제를 거쳐 통영으로 들어오는 사람들이 꼭 지나게 되는 다리이다. 다음에 나타나는 곳은 통영에 머무는 동안 매일 오가며 밥도 먹고 회도 먹었던 강구안 일대 항구 풍경이다. 케이블카 순환 지점인 해발 461m 미륵산 8부 능선까지의 길이는 1975m로 우리나라에서 제일 긴 케이블이다. 케이블카에서 내려 미륵산 정상까지 오르는 시간은 10분 남짓? 그야말로 순식간에 정상에 오르게 되는데, 정상에서는 한산도 등 통영앞바다의 대부분의 섬들을 조망할 수 있으며, 화산 분화구에 논과 밭이 얽혀있는 모양의 야솟골, 한산대첩승전지, 봉수대, 통영병꽃나무 등 미륵산에서만 볼 수 있는 자연과 유적도 볼 수 있다. 케이블카의 운행시간은 9:30~16:00(동절기)이고 요금은 대인 왕복 1만1000원이다. 주소 통영시 발개로 205 ▶통영 시내 가볼 만한 여행지 ▷해저터널 1931년 일본이 통영 본토와 미륵도를 연결할 목적으로 만든 동양 최초의 길이 461m 해저터널이다. 해방 뒤에도 통영과 미륵도를 연결하는 주요 연결로로 이용되었으나 충무교와 통영대교가 개통되면서 지금은 도보 여행지로만 24시간 개방되고 있다. ▷서호시장 강구안 근처에는 두 곳이 대형 전통 시장이 있다. 중앙시장과 서호시장이 그곳들. 서호시장은 오전이 북적거리고 중앙시장은 오후에 활기를 띄는데, 이유는 어선의 입항, 해산물 유통과 관련 있는 것으로 알려져 있다. 서호시장은 특히 새벽에 일을 하는 부두 노동자들이 아침 식사를 하려고 몰리는 곳이라 해장에 좋은 밥집들이 밀집해 있고 그 중에는 전국적으로 소문난 식당들도 더러 있다. 물론 싱싱한 해산물, 건어물, 어구 가게 등도 있어서, 통영 현지인, 식당 상인은 물론 여행자들이 집으로 돌아가는 길에 들려 쇼핑하는 필수 코스다. ▷청마유치환거리 ‘오늘도 나는/ 에메랄드빛 하늘이 환히 내다뵈는/ 우체국 창문 앞에 와서 너에게 편지를 쓴다./ 중략/ 그리운 이여, 그러면 안녕!/ 설령 이것이 이 세상 마지막 인사가 될지라도/ 사랑하였으므로 나는 진정 행복하였네라’. 청마 유치환 거리는 청마가 사랑하는 여인에게 20년 동안 5000통의 러브레터를 보낸 통영중앙우체국까지 이어진다. 우체국 앞에는 동상과 함께 ‘행복’ 시비가 있다. ▷박경리 기념관 통영에서 태어나 통영에 묻힌 박경리는 고향을 떠나 있을 때도 여러 작품에 통영을 소환했다. 대하소설 『토지』에서 조병수가 소목장이로 다시 태어난 곳, 『김약국의 딸들』 역시 통영이 배경이다. 통영에는 선생의 생가 터와 기념공원, 기념관이 남아 있다. ▷김춘수 선생 유품전시관 『꽃』, 『샤갈의 마을에 내리는 눈』, 『꽃을 위한 서시』 등 그의 대표작들과 육필 강의 노트, 펜, 침대, 시계, 화장품까지 전시되어 있는 공간이다. ▷윤이상기념관 세계적인 작곡가 윤이상(1917∼1995년)과 그의 음악을 주제로 한 곳으로 윤이상 기념 공원 안에 위치한다. 전시관에는 선생의 베를린 유품, 독일 정부에서 수여한 훈장과 괴테 메달을 비롯한 사무집기, 생전 연주하던 바이올린, 소형 태극기와 사진 500여 점이 전시되어 있다. [글과 사진 이영근(여행작가)] [본 기사는 매일경제 Citylife 제661호 (19.01.08) 기사입니다]▶매경 뉴스레터 '매콤달콤'을 지금 구독하세요▶뉴스 이상의 무궁무진한 프리미엄 읽을거리[ⓒ 매일경제 & mk.co.kr, 무단전재 및 재배포 금지]\""
            ],
            "application/vnd.google.colaboratory.intrinsic+json": {
              "type": "string"
            }
          },
          "metadata": {},
          "execution_count": 28
        }
      ]
    },
    {
      "cell_type": "code",
      "source": [
        "df = pd.DataFrame( {'label':y, 'articles':x })"
      ],
      "metadata": {
        "id": "iskunXAwBRkA"
      },
      "execution_count": 29,
      "outputs": []
    },
    {
      "cell_type": "code",
      "source": [
        "df.head()"
      ],
      "metadata": {
        "id": "p5Emr8rLwAkD",
        "colab": {
          "base_uri": "https://localhost:8080/",
          "height": 206
        },
        "outputId": "7632d58f-db08-4680-d1fa-744e919ce4be"
      },
      "execution_count": 30,
      "outputs": [
        {
          "output_type": "execute_result",
          "data": {
            "text/plain": [
              "   label                                           articles\n",
              "0      0  이번 남쪽여행의 마지막 지점은 통영이었다. 서울에서 KTX로 여수로 이동해, 역전에...\n",
              "1      0  동영상 뉴스\\n\\t\\t\\n\\t\\n\\n\\n\\n\\t\\n\\t한국인이 매운 음식을 못 먹으...\n",
              "2      0  2년간 누적 등록 대수 890대(지디넷코리아=조재환 기자)테슬라 차량의 지난해 국내...\n",
              "3      0  경제와 문화의 가교 한경[ 김희경 기자 ] 스위스 중부에 있는 할빌 마을에서 지난 ...\n",
              "4      0  간송미술관[아시아경제 박병희 기자] 간송미술관이 5년 만에 다시 일반에 문을 연다...."
            ],
            "text/html": [
              "\n",
              "  <div id=\"df-68321c69-99ab-40d7-96d8-a2a98cc9f4b0\" class=\"colab-df-container\">\n",
              "    <div>\n",
              "<style scoped>\n",
              "    .dataframe tbody tr th:only-of-type {\n",
              "        vertical-align: middle;\n",
              "    }\n",
              "\n",
              "    .dataframe tbody tr th {\n",
              "        vertical-align: top;\n",
              "    }\n",
              "\n",
              "    .dataframe thead th {\n",
              "        text-align: right;\n",
              "    }\n",
              "</style>\n",
              "<table border=\"1\" class=\"dataframe\">\n",
              "  <thead>\n",
              "    <tr style=\"text-align: right;\">\n",
              "      <th></th>\n",
              "      <th>label</th>\n",
              "      <th>articles</th>\n",
              "    </tr>\n",
              "  </thead>\n",
              "  <tbody>\n",
              "    <tr>\n",
              "      <th>0</th>\n",
              "      <td>0</td>\n",
              "      <td>이번 남쪽여행의 마지막 지점은 통영이었다. 서울에서 KTX로 여수로 이동해, 역전에...</td>\n",
              "    </tr>\n",
              "    <tr>\n",
              "      <th>1</th>\n",
              "      <td>0</td>\n",
              "      <td>동영상 뉴스\\n\\t\\t\\n\\t\\n\\n\\n\\n\\t\\n\\t한국인이 매운 음식을 못 먹으...</td>\n",
              "    </tr>\n",
              "    <tr>\n",
              "      <th>2</th>\n",
              "      <td>0</td>\n",
              "      <td>2년간 누적 등록 대수 890대(지디넷코리아=조재환 기자)테슬라 차량의 지난해 국내...</td>\n",
              "    </tr>\n",
              "    <tr>\n",
              "      <th>3</th>\n",
              "      <td>0</td>\n",
              "      <td>경제와 문화의 가교 한경[ 김희경 기자 ] 스위스 중부에 있는 할빌 마을에서 지난 ...</td>\n",
              "    </tr>\n",
              "    <tr>\n",
              "      <th>4</th>\n",
              "      <td>0</td>\n",
              "      <td>간송미술관[아시아경제 박병희 기자] 간송미술관이 5년 만에 다시 일반에 문을 연다....</td>\n",
              "    </tr>\n",
              "  </tbody>\n",
              "</table>\n",
              "</div>\n",
              "    <div class=\"colab-df-buttons\">\n",
              "\n",
              "  <div class=\"colab-df-container\">\n",
              "    <button class=\"colab-df-convert\" onclick=\"convertToInteractive('df-68321c69-99ab-40d7-96d8-a2a98cc9f4b0')\"\n",
              "            title=\"Convert this dataframe to an interactive table.\"\n",
              "            style=\"display:none;\">\n",
              "\n",
              "  <svg xmlns=\"http://www.w3.org/2000/svg\" height=\"24px\" viewBox=\"0 -960 960 960\">\n",
              "    <path d=\"M120-120v-720h720v720H120Zm60-500h600v-160H180v160Zm220 220h160v-160H400v160Zm0 220h160v-160H400v160ZM180-400h160v-160H180v160Zm440 0h160v-160H620v160ZM180-180h160v-160H180v160Zm440 0h160v-160H620v160Z\"/>\n",
              "  </svg>\n",
              "    </button>\n",
              "\n",
              "  <style>\n",
              "    .colab-df-container {\n",
              "      display:flex;\n",
              "      gap: 12px;\n",
              "    }\n",
              "\n",
              "    .colab-df-convert {\n",
              "      background-color: #E8F0FE;\n",
              "      border: none;\n",
              "      border-radius: 50%;\n",
              "      cursor: pointer;\n",
              "      display: none;\n",
              "      fill: #1967D2;\n",
              "      height: 32px;\n",
              "      padding: 0 0 0 0;\n",
              "      width: 32px;\n",
              "    }\n",
              "\n",
              "    .colab-df-convert:hover {\n",
              "      background-color: #E2EBFA;\n",
              "      box-shadow: 0px 1px 2px rgba(60, 64, 67, 0.3), 0px 1px 3px 1px rgba(60, 64, 67, 0.15);\n",
              "      fill: #174EA6;\n",
              "    }\n",
              "\n",
              "    .colab-df-buttons div {\n",
              "      margin-bottom: 4px;\n",
              "    }\n",
              "\n",
              "    [theme=dark] .colab-df-convert {\n",
              "      background-color: #3B4455;\n",
              "      fill: #D2E3FC;\n",
              "    }\n",
              "\n",
              "    [theme=dark] .colab-df-convert:hover {\n",
              "      background-color: #434B5C;\n",
              "      box-shadow: 0px 1px 3px 1px rgba(0, 0, 0, 0.15);\n",
              "      filter: drop-shadow(0px 1px 2px rgba(0, 0, 0, 0.3));\n",
              "      fill: #FFFFFF;\n",
              "    }\n",
              "  </style>\n",
              "\n",
              "    <script>\n",
              "      const buttonEl =\n",
              "        document.querySelector('#df-68321c69-99ab-40d7-96d8-a2a98cc9f4b0 button.colab-df-convert');\n",
              "      buttonEl.style.display =\n",
              "        google.colab.kernel.accessAllowed ? 'block' : 'none';\n",
              "\n",
              "      async function convertToInteractive(key) {\n",
              "        const element = document.querySelector('#df-68321c69-99ab-40d7-96d8-a2a98cc9f4b0');\n",
              "        const dataTable =\n",
              "          await google.colab.kernel.invokeFunction('convertToInteractive',\n",
              "                                                    [key], {});\n",
              "        if (!dataTable) return;\n",
              "\n",
              "        const docLinkHtml = 'Like what you see? Visit the ' +\n",
              "          '<a target=\"_blank\" href=https://colab.research.google.com/notebooks/data_table.ipynb>data table notebook</a>'\n",
              "          + ' to learn more about interactive tables.';\n",
              "        element.innerHTML = '';\n",
              "        dataTable['output_type'] = 'display_data';\n",
              "        await google.colab.output.renderOutput(dataTable, element);\n",
              "        const docLink = document.createElement('div');\n",
              "        docLink.innerHTML = docLinkHtml;\n",
              "        element.appendChild(docLink);\n",
              "      }\n",
              "    </script>\n",
              "  </div>\n",
              "\n",
              "\n",
              "<div id=\"df-0ab47c13-b495-48fa-becb-3018365e6bb0\">\n",
              "  <button class=\"colab-df-quickchart\" onclick=\"quickchart('df-0ab47c13-b495-48fa-becb-3018365e6bb0')\"\n",
              "            title=\"Suggest charts\"\n",
              "            style=\"display:none;\">\n",
              "\n",
              "<svg xmlns=\"http://www.w3.org/2000/svg\" height=\"24px\"viewBox=\"0 0 24 24\"\n",
              "     width=\"24px\">\n",
              "    <g>\n",
              "        <path d=\"M19 3H5c-1.1 0-2 .9-2 2v14c0 1.1.9 2 2 2h14c1.1 0 2-.9 2-2V5c0-1.1-.9-2-2-2zM9 17H7v-7h2v7zm4 0h-2V7h2v10zm4 0h-2v-4h2v4z\"/>\n",
              "    </g>\n",
              "</svg>\n",
              "  </button>\n",
              "\n",
              "<style>\n",
              "  .colab-df-quickchart {\n",
              "      --bg-color: #E8F0FE;\n",
              "      --fill-color: #1967D2;\n",
              "      --hover-bg-color: #E2EBFA;\n",
              "      --hover-fill-color: #174EA6;\n",
              "      --disabled-fill-color: #AAA;\n",
              "      --disabled-bg-color: #DDD;\n",
              "  }\n",
              "\n",
              "  [theme=dark] .colab-df-quickchart {\n",
              "      --bg-color: #3B4455;\n",
              "      --fill-color: #D2E3FC;\n",
              "      --hover-bg-color: #434B5C;\n",
              "      --hover-fill-color: #FFFFFF;\n",
              "      --disabled-bg-color: #3B4455;\n",
              "      --disabled-fill-color: #666;\n",
              "  }\n",
              "\n",
              "  .colab-df-quickchart {\n",
              "    background-color: var(--bg-color);\n",
              "    border: none;\n",
              "    border-radius: 50%;\n",
              "    cursor: pointer;\n",
              "    display: none;\n",
              "    fill: var(--fill-color);\n",
              "    height: 32px;\n",
              "    padding: 0;\n",
              "    width: 32px;\n",
              "  }\n",
              "\n",
              "  .colab-df-quickchart:hover {\n",
              "    background-color: var(--hover-bg-color);\n",
              "    box-shadow: 0 1px 2px rgba(60, 64, 67, 0.3), 0 1px 3px 1px rgba(60, 64, 67, 0.15);\n",
              "    fill: var(--button-hover-fill-color);\n",
              "  }\n",
              "\n",
              "  .colab-df-quickchart-complete:disabled,\n",
              "  .colab-df-quickchart-complete:disabled:hover {\n",
              "    background-color: var(--disabled-bg-color);\n",
              "    fill: var(--disabled-fill-color);\n",
              "    box-shadow: none;\n",
              "  }\n",
              "\n",
              "  .colab-df-spinner {\n",
              "    border: 2px solid var(--fill-color);\n",
              "    border-color: transparent;\n",
              "    border-bottom-color: var(--fill-color);\n",
              "    animation:\n",
              "      spin 1s steps(1) infinite;\n",
              "  }\n",
              "\n",
              "  @keyframes spin {\n",
              "    0% {\n",
              "      border-color: transparent;\n",
              "      border-bottom-color: var(--fill-color);\n",
              "      border-left-color: var(--fill-color);\n",
              "    }\n",
              "    20% {\n",
              "      border-color: transparent;\n",
              "      border-left-color: var(--fill-color);\n",
              "      border-top-color: var(--fill-color);\n",
              "    }\n",
              "    30% {\n",
              "      border-color: transparent;\n",
              "      border-left-color: var(--fill-color);\n",
              "      border-top-color: var(--fill-color);\n",
              "      border-right-color: var(--fill-color);\n",
              "    }\n",
              "    40% {\n",
              "      border-color: transparent;\n",
              "      border-right-color: var(--fill-color);\n",
              "      border-top-color: var(--fill-color);\n",
              "    }\n",
              "    60% {\n",
              "      border-color: transparent;\n",
              "      border-right-color: var(--fill-color);\n",
              "    }\n",
              "    80% {\n",
              "      border-color: transparent;\n",
              "      border-right-color: var(--fill-color);\n",
              "      border-bottom-color: var(--fill-color);\n",
              "    }\n",
              "    90% {\n",
              "      border-color: transparent;\n",
              "      border-bottom-color: var(--fill-color);\n",
              "    }\n",
              "  }\n",
              "</style>\n",
              "\n",
              "  <script>\n",
              "    async function quickchart(key) {\n",
              "      const quickchartButtonEl =\n",
              "        document.querySelector('#' + key + ' button');\n",
              "      quickchartButtonEl.disabled = true;  // To prevent multiple clicks.\n",
              "      quickchartButtonEl.classList.add('colab-df-spinner');\n",
              "      try {\n",
              "        const charts = await google.colab.kernel.invokeFunction(\n",
              "            'suggestCharts', [key], {});\n",
              "      } catch (error) {\n",
              "        console.error('Error during call to suggestCharts:', error);\n",
              "      }\n",
              "      quickchartButtonEl.classList.remove('colab-df-spinner');\n",
              "      quickchartButtonEl.classList.add('colab-df-quickchart-complete');\n",
              "    }\n",
              "    (() => {\n",
              "      let quickchartButtonEl =\n",
              "        document.querySelector('#df-0ab47c13-b495-48fa-becb-3018365e6bb0 button');\n",
              "      quickchartButtonEl.style.display =\n",
              "        google.colab.kernel.accessAllowed ? 'block' : 'none';\n",
              "    })();\n",
              "  </script>\n",
              "</div>\n",
              "\n",
              "    </div>\n",
              "  </div>\n"
            ],
            "application/vnd.google.colaboratory.intrinsic+json": {
              "type": "dataframe",
              "variable_name": "df",
              "summary": "{\n  \"name\": \"df\",\n  \"rows\": 400,\n  \"fields\": [\n    {\n      \"column\": \"label\",\n      \"properties\": {\n        \"dtype\": \"number\",\n        \"std\": 0,\n        \"min\": 0,\n        \"max\": 1,\n        \"num_unique_values\": 2,\n        \"samples\": [\n          1,\n          0\n        ],\n        \"semantic_type\": \"\",\n        \"description\": \"\"\n      }\n    },\n    {\n      \"column\": \"articles\",\n      \"properties\": {\n        \"dtype\": \"string\",\n        \"num_unique_values\": 400,\n        \"samples\": [\n          \"\\uc5c5\\uacc4 \\\"\\ud150\\uc13c\\ud2b8 \\ub9e4\\uac01 \\ucd94\\uc9c4\\ud588\\ub2e4\\uac00 \\uacb0\\ub82c\\ub41c \\uac83\\uc73c\\ub85c \\uc54c\\ub824\\uc838\\\"[\\uc774\\ub370\\uc77c\\ub9ac \\uae40\\ud61c\\ubbf8 \\uae30\\uc790] \\ud55c\\uad6d \\ucd5c\\ub300 \\uac8c\\uc784\\uc0ac \\ub125\\uc2a8 \\ucc3d\\uc5c5\\uc790\\uc778 \\uae40\\uc815\\uc8fc NXC \\ub300\\ud45c\\uac00 \\uc9c0\\uc8fc\\uc0ac\\uc778 NXC \\uc9c0\\ubd84 \\ub9e4\\uac01\\uc5d0 \\ub098\\uc120 \\uac83\\uc740 \\uc624\\ub798 \\uc804\\ubd80\\ud130 \\uac8c\\uc784 \\uc0b0\\uc5c5\\uc5d0 \\ub300\\ud55c \\uad00\\uc2ec\\uc774 \\ub5a8\\uc5b4\\uc84c\\uae30 \\ub54c\\ubb38\\uc778 \\uac83\\uc73c\\ub85c \\ubcf4\\uc778\\ub2e4. \\uc5ec\\uae30\\uc5d0 \\ucd5c\\uadfc \\uc77c\\ub828\\uc758 \\uc7ac\\ud310\\uc744 \\uacaa\\uc73c\\uba74\\uc11c \\ub354\\ub354\\uc6b1 \\ud765\\ubbf8\\ub97c \\uc783\\uc740 \\uac83\\uc73c\\ub85c \\uc804\\ud574\\uc84c\\ub2e4.3\\uc77c \\uc5c5\\uacc4\\uc5d0 \\ub530\\ub974\\uba74 \\uae40 \\ub300\\ud45c\\ub294 \\uc9c0\\uc8fc\\uc0ac\\uc778 NXC \\uc9c0\\ubd84 \\uc804\\ub7c9\\uc778 98.64%\\ub97c \\ub9e4\\ubb3c\\ub85c \\ub0b4\\ub1a8\\ub2e4. \\uae40 \\ub300\\ud45c \\uc9c0\\ubd84 67.49%\\uc640 \\ubd80\\uc778 \\uc720\\uc815\\ud604 NXC \\uac10\\uc0ac \\uc9c0\\ubd84 29.43%, \\uae40 \\ub300\\ud45c \\uac1c\\uc778\\ud68c\\uc0ac\\uc778 \\uc640\\uc774\\uc988\\ud0a4\\uc988\\uac00 \\ubcf4\\uc720\\ud55c 1.72%\\ub97c \\ubcf4\\ub450 \\ub0b4\\ub193\\uc740 \\uac83\\uc774\\ub2e4. \\ub9e4\\uac01 \\uc8fc\\uad00\\uc0ac\\ub294 \\ub3c4\\uc774\\uce58\\uc99d\\uad8c\\uacfc \\ubaa8\\uac74\\uc2a4\\ud0e0\\ub9ac\\ub2e4.\\uc5c5\\uacc4\\uc5d0\\uc11c\\ub294 \\uae40 \\ub300\\ud45c\\uac00 \\ub125\\uc2a8\\uc744 \\ub9e4\\ubb3c\\ub85c \\ub0b4\\ub193\\uc558\\ub2e4\\ub294 \\uc598\\uae30\\uac00 \\uc9c0\\ub09c\\ud574\\ubd80\\ud130 \\uc788\\uc5c8\\uc73c\\uba70, \\uac8c\\uc784\\uc5d0 \\ud765\\ubbf8\\ub97c \\uc783\\uc740\\uc9c0 \\uc624\\ub798\\uc600\\ub2e4\\ub294 \\ub9d0\\uc774 \\uc804\\ud574\\uc9c4\\ub2e4. \\uc9c0\\ub09c 2014\\ub144 \\ubc15\\uc9c0\\uc6d0 \\ub300\\ud45c\\ub97c \\uc120\\uc784\\ud588\\uc744 \\ub54c\\ubd80\\ud130 \\ub125\\uc2a8 \\uacbd\\uc601\\uc5d0\\ub294 \\uad00\\uc2ec\\uc744 \\ub04a\\uc5c8\\ub2e4\\ub294 \\uac83\\uc774\\ub2e4. \\uace0\\uae09 \\uc720\\ubaa8\\ucc28 \\ube0c\\ub79c\\ub4dc \\uc2a4\\ud1a0\\ucf00\\uc640 \\uac00\\uc0c1\\ud654\\ud3d0 \\uac70\\ub798\\uc18c\\ub97c \\uc778\\uc218\\ud558\\ub294 \\ub4f1 \\ube44\\uac8c\\uc784\\uc5c5\\uc885\\uc73c\\ub85c \\ubc1c\\uc744 \\ub113\\ud78c \\uac83\\uc774 \\uadf8 \\ubc29\\uc99d\\uc774\\ub77c\\ub294 \\uc124\\uba85\\uc774\\ub2e4.\\ub610 \\uace0\\uad50 \\ub3d9\\ucc3d\\uc778 \\uc9c4\\uacbd\\uc900 \\uc804 \\uac80\\uc0ac\\uc7a5\\uc5d0\\uac8c \\ub125\\uc2a8 \\ube44\\uc0c1\\uc7a5 \\uc8fc\\uc2dd 4\\uc5b52500\\ub9cc\\uc6d0 \\uc5b4\\uce58\\ub97c \\uc900 \\ud610\\uc758\\ub85c \\uac80\\ucc30 \\uc870\\uc0ac\\uc640 \\uc7ac\\ud310\\uc744 \\uacaa\\uc73c\\uba74\\uc11c \\uac8c\\uc784\\uc5d0 \\ub300\\ud55c \\uad00\\uc2ec\\uc740 \\ub354 \\ub5a8\\uc5b4\\uc84c\\uc744 \\uac83\\uc73c\\ub85c \\ucd94\\uce21\\ub418\\uace0 \\uc788\\ub2e4. \\uc5c5\\uacc4 \\uad00\\uacc4\\uc790\\ub294 \\u201cNXC\\uc758 \\uc9c0\\ubd84 \\uac00\\uce58\\uac00 10\\uc870\\uc6d0\\uc5d0 \\uc774\\ub974\\ub294 \\ub9cc\\ud07c \\uc791\\ub144\\uc5d0 \\uc911\\uad6d \\ud150\\uc13c\\ud2b8\\uc5d0 \\uc778\\uc218\\uc758\\ud5a5\\uc744 \\ud0c0\\uc9c4\\ud588\\ub2e4\\uac00 \\uacb0\\ub82c\\ub410\\ub2e4\\ub294 \\ub9d0\\uc774 \\uc788\\uc5c8\\ub2e4\\u201d\\uace0 \\uc804\\ud588\\ub2e4.\\uc774\\uc5d0 \\ub300\\ud574 NXC \\uce21\\uc740 \\u201c\\uc9c0\\uae08\\uc73c\\ub85c\\uc11c\\ub294 \\uc0ac\\uc2e4 \\uc5ec\\ubd80\\ub97c \\ud655\\uc778\\ud574\\uc904 \\uc218 \\uc5c6\\ub2e4\\u201d\\ub294 \\uc785\\uc7a5\\uc744 \\ub0b4\\ub1a8\\ub2e4. \\ub125\\uc2a8 \\uadf8\\ub8f9\\uc740 \\uae40\\uc815\\uc8fc \\ub300\\ud45c\\u2192NXC\\u2192\\ub125\\uc2a8 \\uc77c\\ubcf8\\ubc95\\uc778\\u2192\\ub125\\uc2a8\\ucf54\\ub9ac\\uc544\\ub85c \\uc774\\uc5b4\\uc9c0\\ub294 \\uc9c0\\ubc30\\uad6c\\uc870\\ub97c \\uac16\\uace0 \\uc788\\ub2e4.[\\uc774\\ub370\\uc77c\\ub9ac \\ubc29\\uc778\\uad8c \\uae30\\uc790] \\u2018\\uc9c4\\uacbd\\uc900 \\uc8fc\\uc2dd \\ub1cc\\ubb3c \\uc758\\ud639\\u2019\\uc744 \\ubc1b\\uace0 \\uc788\\ub294 \\ub125\\uc2a8 \\ucc3d\\uc5c5\\uc8fc \\uae40\\uc815\\uc8fc NXC(\\ub125\\uc2a8\\uc9c0\\uc8fc\\ud68c\\uc0ac) \\ud68c\\uc7a5\\uc774 2016\\ub144 7\\uc6d413\\uc77c \\uc624\\ud6c4 \\uc11c\\uc6b8 \\uc11c\\ucd08\\uad6c \\uc11c\\uc6b8\\uc911\\uc559\\uc9c0\\uac80\\uc5d0 \\ud53c\\uc758\\uc790 \\uc2e0\\ubd84\\uc73c\\ub85c \\ucd9c\\uc11d\\ud588\\uc744 \\ub2f9\\uc2dc \\ubaa8\\uc2b5.\\uae40\\ud61c\\ubbf8 (pinnster@edaily.co.kr)\\ub124\\uc774\\ubc84\\uc5d0\\uc11c \\uc774\\ub370\\uc77c\\ub9ac [\\uad6c\\ub3c5\\ud558\\uae30\\u25b6]\\ube61\\uce68\\ud574\\uc18c! \\uccad\\ucd98\\ub258\\uc6b0\\uc2a4~ [\\uc2a4\\ub0c5\\ud0c0\\uc784\\u25b6]\\uff1c\\u24d2\\uc885\\ud569 \\uacbd\\uc81c\\uc815\\ubcf4 \\ubbf8\\ub514\\uc5b4 \\uc774\\ub370\\uc77c\\ub9ac - \\ubb34\\ub2e8\\uc804\\uc7ac & \\uc7ac\\ubc30\\ud3ec \\uae08\\uc9c0\\uff1e\",\n          \"\\u7f8e \\\"\\uc815\\uac70\\uc7a5 \\uac74\\uc124\\\" \\u4e2d \\\"\\uc6b0\\uc8fc\\uad74\\uae30\\\"\\u65e5\\u00b7\\ub7ec\\u00b7\\uc720\\ub7fd\\u00b7\\u5370 \\ub3c4 \\uacf5\\ub7b5 \\uac00\\uc18d\\ud654'\\ub2ec \\uc120\\uc810' \\uace8\\ub4e0\\ud0c0\\uc784 10\\ub144 \\ub0a8\\uc544\\ud55c\\uad6d\\ub9cc \\uc815\\uad8c\\ub530\\ub77c \\uc815\\ucc45 '\\uac08\\uc9c0\\uc790'\\uc911\\uad6d\\uc758 \\ub2ec \\ud0d0\\uc0ac\\uc120 \\u2018\\ucc3d\\uc5b4 4\\ud638\\u2019\\uac00 3\\uc77c \\ucd2c\\uc601\\ud55c \\ub2ec \\ub4b7\\uba74 \\uc0ac\\uc9c4 \\uc18d\\uc5d0 \\uac70\\ub300\\ud55c \\ud06c\\ub808\\uc774\\ud130\\uac00 \\uc704\\uc6a9\\uc744 \\ub4dc\\ub7ec\\ub0b4\\uace0 \\uc788\\ub2e4. \\uc544\\ub798 \\uc0ac\\uc9c4\\uc740 \\u2018\\ucc3d\\uc5b4 4\\ud638\\u2019\\uc758 \\ucc29\\ub959 \\uc774\\ubbf8\\uc9c0. /\\uc0ac\\uc9c4\\uc81c\\uacf5=\\uc911\\uad6d\\uad6d\\uac00\\ud56d\\ucc9c\\uad6d[\\uc11c\\uc6b8\\uacbd\\uc81c] \\uc624\\ub294 7\\uc6d421\\uc77c \\ubbf8\\uad6d\\uc758 \\uc544\\ud3f4\\ub85c11\\ud638 \\uc120\\uc7a5 \\ub2d0 \\uc554\\uc2a4\\ud2b8\\ub871\\uc774 \\uc0ac\\uc0c1 \\ucd5c\\ucd08\\ub85c \\ub2ec\\uc5d0 \\ucc29\\ub959\\ud55c \\uc9c0 50\\uc8fc\\ub144\\uc744 \\ub9de\\uc544 \\uc6b0\\uc8fc\\ud328\\uad8c \\uacbd\\uc7c1\\uc774 \\uac00\\uc5f4\\ub418\\uace0 \\uc788\\ub2e4. \\uc62c\\ud574\\ub294 \\uc18c\\ub828 \\ub8e8\\ub0982\\ud638\\uc758 \\ub2ec \\ud45c\\uba74 \\ucda9\\ub3cc, \\ub8e8\\ub0983\\ud638\\uc758 \\ub2ec \\ub4b7\\uba74 \\uc0ac\\uc9c4 \\uc804\\uc1a1\\uc774 \\uc774\\ub904\\uc9c4 \\uc9c0 60\\ub144\\uc774 \\ub418\\ub294 \\ud574\\uc774\\uae30\\ub3c4 \\ud558\\ub2e4.\\uc9c0\\ub09c 1970\\ub144\\ub300 \\uc911\\ubc18\\uae4c\\uc9c0 15\\ub144\\uac00\\ub7c9 \\ubbf8\\uad6d\\uacfc \\uc18c\\ub828\\uc774 \\uccb4\\uc81c\\uacbd\\uc7c1\\uc744 \\uc704\\ud574 \\ub2ec\\uacfc \\ud654\\uc131 \\ud0d0\\uc0ac\\uc5d0 \\uc62c\\uc778\\ud588\\ub358 \\uc5ed\\uc0ac\\uac00 \\uc774\\uc81c\\ub294 \\ubbf8\\uad6d\\uacfc \\uc911\\uad6d\\uc758 \\ud328\\uad8c\\uad6c\\ub3c4\\ub85c \\uc7ac\\ud3b8\\ub418\\ub294 \\uc591\\uc0c1\\uc774\\ub2e4. \\ubbf8\\uad6d\\uc740 \\uc62c\\ud574 \\ubbfc\\uac04\\uae30\\uc5c5 \\uc8fc\\ub3c4\\ub85c \\ub2ec \\ucc29\\ub959\\uc120\\uc744 \\ubcf4\\ub0b4\\uace0 2024\\ub144\\ubd80\\ud130 \\uad6d\\uc81c\\uacf5\\uc870\\ub85c \\ub2ec\\uc5d0 \\uc6b0\\uc8fc\\uc815\\uac70\\uc7a5\\uc744 \\uac74\\uc124\\ud558\\ub294 \\ub4f1 \\ub2ec\\uc5d0\\uc11c\\uc758 \\uae30\\ub4dd\\uad8c\\uc744 \\uc9c0\\ud0a4\\uaca0\\ub2e4\\ub294 \\uad6c\\uc0c1\\uc744 \\uac00\\uc84c\\ub2e4. \\ub7ec\\uc2dc\\uc544\\u00b7\\uc720\\ub7fd\\u00b7\\uc77c\\ubcf8\\u00b7\\uc778\\ub3c4 \\ub4f1 \\ub2e4\\ub978 \\uc6b0\\uc8fc\\uac15\\uad6d\\uc758 \\ub2ec \\uacf5\\ub7b5\\ub3c4 \\ubb34\\uc12d\\ub2e4. \\uc778\\ub3c4\\ub294 \\uc774\\ub2ec \\ub2ec \\ucc29\\ub959\\uc120\\uc744 \\ubc1c\\uc0ac\\ud558\\uace0 \\uc218\\ub144 \\ub0b4 \\uc0ac\\ub78c\\uc744 \\ud0dc\\uc6cc \\ubcf4\\ub0b4\\uae30\\ub85c \\ud588\\ub2e4. \\uc77c\\ubcf8\\uacfc \\ub7ec\\uc2dc\\uc544\\ub3c4 2030\\ub144\\uae4c\\uc9c0 \\ub2ec\\uc5d0 \\uc0ac\\ub78c\\uc744 \\ubcf4\\ub0bc \\uacc4\\ud68d\\uc774\\uace0 \\uc720\\ub7fd\\uc740 \\uc720\\uc778\\uae30\\uc9c0\\ub97c \\uac74\\uc124\\ud558\\uae30\\ub85c \\ud588\\ub2e4. \\ud5c8\\ud658\\uc77c \\ucda9\\ub0a8\\ub300 \\ud56d\\uacf5\\uc6b0\\uc8fc\\uacf5\\ud559\\uacfc \\uad50\\uc218\\ub294 \\u201c15\\uc138\\uae30 \\ub300\\ud56d\\ud574\\uc2dc\\ub300\\uc5d0 \\uc720\\ub7fd\\uc774 \\uacbd\\uc7c1\\uc801\\uc73c\\ub85c \\uc544\\uba54\\ub9ac\\uce74 \\ub4f1\\uc744 \\ud0d0\\ud5d8\\ud574 \\uc2dd\\ubbfc\\uc9c0\\ub97c \\ub9cc\\ub4e0 \\uac83\\ucc98\\ub7fc \\uc55e\\uc73c\\ub85c \\ub2ec\\uc744 \\ud5a5\\ud55c \\uace8\\ub4e0\\ud0c0\\uc784\\uc774 10\\ub144 \\uc815\\ub3c4\\ubc16\\uc5d0 \\ub0a8\\uc9c0 \\uc54a\\uc558\\ub2e4\\u201d\\uace0 \\ub9d0\\ud588\\ub2e4. \\uc9c0\\ub09c\\ud574 \\uae00\\ub85c\\ubc8c \\ucee8\\uc124\\ud305\\uc0ac\\uc778 \\uc720\\ub85c\\ucee8\\uc124\\ud2b8\\ub294 2027\\ub144\\uae4c\\uc9c0 \\uac01\\uad6d\\uc774 50\\uc5ec\\uae30\\uc758 \\ub2ec \\ud0d0\\uc0ac\\uc120\\uc744 \\ubc1c\\uc0ac\\ud560 \\uc608\\uc815\\uc774\\uba70 \\uc774 \\uc911 \\ubbf8\\uad6d\\u00b7\\uc911\\uad6d\\u00b7\\ub7ec\\uc2dc\\uc544\\u00b7\\uc720\\ub7fd \\ub4f1 \\ubbfc\\uac04\\ud0d0\\uc0ac\\uc120\\uc774 30\\uc5ec\\uae30\\uc5d0 \\ub2ec\\ud560 \\uac83\\uc774\\ub77c\\uace0 \\ubd84\\uc11d\\ud588\\ub2e4.\\u25b2\\uc11c\\uc6b8\\uacbd\\uc81c\\uc378 \\uc601\\uc0c1\\uc73c\\ub85c \\ub274\\uc2a4\\ub97c \\uc7ac\\ubbf8\\uc788\\uac8c \\ubcf4\\uae30\\u25b2\\ud558\\uc9c0\\ub9cc \\uc6b0\\ub9ac\\ub098\\ub77c\\ub294 \\ub2ec \\ud0d0\\uc0ac\\uc77c\\uc815\\uc774 \\uc815\\uad8c\\uc5d0 \\ub530\\ub77c \\uac08\\uc9c0\\uc790 \\ud589\\ubcf4\\ub97c \\ubcf4\\uc774\\uba70 \\ub2a6\\ucdb0\\uc84c\\ub2e4. \\ub178\\ubb34\\ud604 \\uc815\\ubd80\\ub294 \\ub2ec \\ucc29\\ub959\\uc120 \\ubc1c\\uc0ac\\uc2dc\\uae30\\ub97c 2025\\ub144\\uc73c\\ub85c \\uc7a1\\uc558\\ub294\\ub370 \\ubc15\\uadfc\\ud61c \\uc815\\ubd80\\uac00 \\ub300\\uc120\\uacf5\\uc57d\\uc73c\\ub85c \\ub2ec \\uada4\\ub3c4\\uc120\\uacfc \\ucc29\\ub959\\uc120 \\ubc1c\\uc0ac\\uc2dc\\uae30\\ub97c 2018\\ub144\\uacfc 2020\\ub144\\uc73c\\ub85c \\uc55e\\ub2f9\\uacbc\\uace0 \\ubb38\\uc7ac\\uc778 \\uc815\\ubd80\\ub294 \\u201c\\ube44\\ud604\\uc2e4\\uc801\\u201d\\uc774\\ub77c\\uba70 \\ud55c\\ucc38 \\ub2a6\\ucdc4\\ub2e4. \\uc790\\uccb4 \\ub85c\\ucf13\\uc73c\\ub85c 2030\\ub144\\uae4c\\uc9c0 \\ub2ec \\ucc29\\ub959\\uc120\\uc744 \\ubcf4\\ub0b4\\uae30\\ub85c \\ud588\\uc73c\\ub098 \\uad6c\\uccb4\\uc801\\uc778 \\uacc4\\ud68d\\uc774 \\ubd80\\uc871\\ud558\\ub2e4. \\ub0b4\\ub144\\uc5d0 \\uc2a4\\ud398\\uc774\\uc2a4X \\ubc1c\\uc0ac\\uccb4\\ub85c \\ub2ec \\uada4\\ub3c4\\uc120\\uc744 \\ubcf4\\ub0bc \\uc608\\uc815\\uc774\\ub098 \\uc2e4\\uc9c8\\uc801\\uc778 \\uc6b0\\uc8fc\\ud0d0\\uc0ac\\uc640\\ub294 \\uac70\\ub9ac\\uac00 \\uc788\\ub2e4. \\ud0c1\\ubbfc\\uc81c KAIST \\ud56d\\uacf5\\uc6b0\\uc8fc\\uacf5\\ud559\\uacfc \\uad50\\uc218\\ub294 \\u201c\\uc815\\ubd80\\uac00 \\uc6b0\\uc8fc\\ud0d0\\uc0ac\\uc5d0 \\ud22c\\uc790\\ub3c4 \\ub9ce\\uc774 \\ud558\\uc9c0 \\uc54a\\uace0 \\ubd80\\ucc98 \\uac04 \\ubc25\\uadf8\\ub987 \\uc2f8\\uc6c0\\uc73c\\ub85c \\uc758\\uc0ac\\uacb0\\uc815\\ub3c4 \\ub290\\ub9ac\\ub2e4\\u201d\\uba70 \\u201c\\uc815\\uad8c\\uc5d0 \\uc0c1\\uad00\\uc5c6\\uc774 \\uae38\\uac8c \\ubcf4\\uba70 \\ub2ec \\ud0d0\\uc0ac \\ub4f1\\uc5d0 \\uacfc\\uac10\\ud788 \\ubca0\\ud305\\ud558\\uace0 \\uad6d\\uc81c\\ud611\\ub825\\uacfc \\ubbfc\\uac04\\uc73c\\ub85c\\uc758 \\uae30\\uc220\\uc774\\uc804\\uc744 \\uac00\\uc18d\\ud654\\ud574\\uc57c \\ud55c\\ub2e4\\u201d\\uace0 \\uac15\\uc870\\ud588\\ub2e4. /\\uace0\\uad11\\ubcf8\\uc120\\uc784\\uae30\\uc790 \\ubbfc\\ubcd1\\uad8c\\uae30\\uc790 kbgo@sedaily.com[\\uc11c\\uc6b8\\uacbd\\uc81c \\ubc14\\ub85c\\uac00\\uae30]Telegram\\uc73c\\ub85c \\uc11c\\uc6b8\\uacbd\\uc81c \\ub274\\uc2a4\\ub97c \\uc2e4\\uc2dc\\uac04\\uc73c\\ub85c \\ubc1b\\uc544\\ubcf4\\uc138\\uc694 [\\ubc14\\ub85c\\uac00\\uae30\\u25b6]\\ud504\\ub9ac\\ubbf8\\uc5c4 \\ubbf8\\ub514\\uc5b4 Signal\\uc774 \\ud22c\\uc790\\uc758 \\ubc14\\ub978 \\uae38\\uc744 \\uc548\\ub0b4\\ud569\\ub2c8\\ub2e4 [\\ubc14\\ub85c\\uac00\\uae30\\u25b6]\\uc800\\uc791\\uad8c\\uc790 \\u24d2 \\uc11c\\uc6b8\\uacbd\\uc81c, \\ubb34\\ub2e8 \\uc804\\uc7ac \\ubc0f \\uc7ac\\ubc30\\ud3ec \\uae08\\uc9c0\"\n        ],\n        \"semantic_type\": \"\",\n        \"description\": \"\"\n      }\n    }\n  ]\n}"
            }
          },
          "metadata": {},
          "execution_count": 30
        }
      ]
    },
    {
      "cell_type": "markdown",
      "source": [
        "2. 데이터 파티셔닝"
      ],
      "metadata": {
        "id": "FaIsuDNlyoR7"
      }
    },
    {
      "cell_type": "code",
      "source": [
        "print( df['label'].value_counts( ) )  #label 컬럼의 범주별 빈도\n",
        "print( df.info() )"
      ],
      "metadata": {
        "id": "g-ayYQXGb-9l",
        "colab": {
          "base_uri": "https://localhost:8080/"
        },
        "outputId": "bde54621-9f90-4ae6-a052-e76e5413734a"
      },
      "execution_count": 31,
      "outputs": [
        {
          "output_type": "stream",
          "name": "stdout",
          "text": [
            "label\n",
            "0    200\n",
            "1    200\n",
            "Name: count, dtype: int64\n",
            "<class 'pandas.core.frame.DataFrame'>\n",
            "RangeIndex: 400 entries, 0 to 399\n",
            "Data columns (total 2 columns):\n",
            " #   Column    Non-Null Count  Dtype \n",
            "---  ------    --------------  ----- \n",
            " 0   label     400 non-null    int64 \n",
            " 1   articles  400 non-null    object\n",
            "dtypes: int64(1), object(1)\n",
            "memory usage: 6.4+ KB\n",
            "None\n"
          ]
        }
      ]
    },
    {
      "cell_type": "code",
      "source": [
        "from sklearn.model_selection import train_test_split\n",
        "\n",
        "train_df, test_df = train_test_split( df, test_size=0.2)"
      ],
      "metadata": {
        "id": "mmdly--bCQ9S"
      },
      "execution_count": 33,
      "outputs": []
    },
    {
      "cell_type": "code",
      "source": [
        "train_df.shape"
      ],
      "metadata": {
        "colab": {
          "base_uri": "https://localhost:8080/"
        },
        "id": "IasfEawMKdpH",
        "outputId": "7ee6dd57-2c9f-42cc-ecc1-54f96abf5701"
      },
      "execution_count": 34,
      "outputs": [
        {
          "output_type": "execute_result",
          "data": {
            "text/plain": [
              "(320, 2)"
            ]
          },
          "metadata": {},
          "execution_count": 34
        }
      ]
    },
    {
      "cell_type": "markdown",
      "source": [
        "3. 토크나이저 만들기 (명사만 추출)"
      ],
      "metadata": {
        "id": "C_0CwfM1y4Wm"
      }
    },
    {
      "cell_type": "code",
      "source": [
        "!pip install konlpy\n",
        "from konlpy.tag import Okt\n",
        "\n",
        "morphs = Okt()\n",
        "def token(text):\n",
        "    tokens_ko = morphs.nouns(text)\n",
        "    return tokens_ko\n"
      ],
      "metadata": {
        "id": "r4_j8Djlb_AH",
        "colab": {
          "base_uri": "https://localhost:8080/"
        },
        "outputId": "586a096a-f90c-4ce3-ed3f-f1960415cc38"
      },
      "execution_count": 32,
      "outputs": [
        {
          "output_type": "stream",
          "name": "stdout",
          "text": [
            "Requirement already satisfied: konlpy in /usr/local/lib/python3.10/dist-packages (0.6.0)\n",
            "Requirement already satisfied: JPype1>=0.7.0 in /usr/local/lib/python3.10/dist-packages (from konlpy) (1.5.0)\n",
            "Requirement already satisfied: lxml>=4.1.0 in /usr/local/lib/python3.10/dist-packages (from konlpy) (4.9.4)\n",
            "Requirement already satisfied: numpy>=1.6 in /usr/local/lib/python3.10/dist-packages (from konlpy) (1.26.4)\n",
            "Requirement already satisfied: packaging in /usr/local/lib/python3.10/dist-packages (from JPype1>=0.7.0->konlpy) (24.1)\n"
          ]
        }
      ]
    },
    {
      "cell_type": "markdown",
      "source": [
        "4. Tfidf로 DTM 만들기"
      ],
      "metadata": {
        "id": "CjjStRoyy-xa"
      }
    },
    {
      "cell_type": "code",
      "source": [
        "from sklearn.feature_extraction.text import TfidfVectorizer\n",
        "import numpy as np\n",
        "tfidf_vect = TfidfVectorizer(tokenizer=token, min_df=10)\n",
        "tfidf_vect.fit(train_df['articles'])  #train의 명사를 뽑은 것까지"
      ],
      "metadata": {
        "id": "_8j0QiXtb_EW",
        "colab": {
          "base_uri": "https://localhost:8080/",
          "height": 131
        },
        "outputId": "324044ba-c2c8-48e8-f29d-8a00cda914b1"
      },
      "execution_count": 35,
      "outputs": [
        {
          "output_type": "stream",
          "name": "stderr",
          "text": [
            "/usr/local/lib/python3.10/dist-packages/sklearn/feature_extraction/text.py:525: UserWarning: The parameter 'token_pattern' will not be used since 'tokenizer' is not None'\n",
            "  warnings.warn(\n"
          ]
        },
        {
          "output_type": "execute_result",
          "data": {
            "text/plain": [
              "TfidfVectorizer(min_df=10, tokenizer=<function token at 0x7fe8cb60d900>)"
            ],
            "text/html": [
              "<style>#sk-container-id-1 {color: black;}#sk-container-id-1 pre{padding: 0;}#sk-container-id-1 div.sk-toggleable {background-color: white;}#sk-container-id-1 label.sk-toggleable__label {cursor: pointer;display: block;width: 100%;margin-bottom: 0;padding: 0.3em;box-sizing: border-box;text-align: center;}#sk-container-id-1 label.sk-toggleable__label-arrow:before {content: \"▸\";float: left;margin-right: 0.25em;color: #696969;}#sk-container-id-1 label.sk-toggleable__label-arrow:hover:before {color: black;}#sk-container-id-1 div.sk-estimator:hover label.sk-toggleable__label-arrow:before {color: black;}#sk-container-id-1 div.sk-toggleable__content {max-height: 0;max-width: 0;overflow: hidden;text-align: left;background-color: #f0f8ff;}#sk-container-id-1 div.sk-toggleable__content pre {margin: 0.2em;color: black;border-radius: 0.25em;background-color: #f0f8ff;}#sk-container-id-1 input.sk-toggleable__control:checked~div.sk-toggleable__content {max-height: 200px;max-width: 100%;overflow: auto;}#sk-container-id-1 input.sk-toggleable__control:checked~label.sk-toggleable__label-arrow:before {content: \"▾\";}#sk-container-id-1 div.sk-estimator input.sk-toggleable__control:checked~label.sk-toggleable__label {background-color: #d4ebff;}#sk-container-id-1 div.sk-label input.sk-toggleable__control:checked~label.sk-toggleable__label {background-color: #d4ebff;}#sk-container-id-1 input.sk-hidden--visually {border: 0;clip: rect(1px 1px 1px 1px);clip: rect(1px, 1px, 1px, 1px);height: 1px;margin: -1px;overflow: hidden;padding: 0;position: absolute;width: 1px;}#sk-container-id-1 div.sk-estimator {font-family: monospace;background-color: #f0f8ff;border: 1px dotted black;border-radius: 0.25em;box-sizing: border-box;margin-bottom: 0.5em;}#sk-container-id-1 div.sk-estimator:hover {background-color: #d4ebff;}#sk-container-id-1 div.sk-parallel-item::after {content: \"\";width: 100%;border-bottom: 1px solid gray;flex-grow: 1;}#sk-container-id-1 div.sk-label:hover label.sk-toggleable__label {background-color: #d4ebff;}#sk-container-id-1 div.sk-serial::before {content: \"\";position: absolute;border-left: 1px solid gray;box-sizing: border-box;top: 0;bottom: 0;left: 50%;z-index: 0;}#sk-container-id-1 div.sk-serial {display: flex;flex-direction: column;align-items: center;background-color: white;padding-right: 0.2em;padding-left: 0.2em;position: relative;}#sk-container-id-1 div.sk-item {position: relative;z-index: 1;}#sk-container-id-1 div.sk-parallel {display: flex;align-items: stretch;justify-content: center;background-color: white;position: relative;}#sk-container-id-1 div.sk-item::before, #sk-container-id-1 div.sk-parallel-item::before {content: \"\";position: absolute;border-left: 1px solid gray;box-sizing: border-box;top: 0;bottom: 0;left: 50%;z-index: -1;}#sk-container-id-1 div.sk-parallel-item {display: flex;flex-direction: column;z-index: 1;position: relative;background-color: white;}#sk-container-id-1 div.sk-parallel-item:first-child::after {align-self: flex-end;width: 50%;}#sk-container-id-1 div.sk-parallel-item:last-child::after {align-self: flex-start;width: 50%;}#sk-container-id-1 div.sk-parallel-item:only-child::after {width: 0;}#sk-container-id-1 div.sk-dashed-wrapped {border: 1px dashed gray;margin: 0 0.4em 0.5em 0.4em;box-sizing: border-box;padding-bottom: 0.4em;background-color: white;}#sk-container-id-1 div.sk-label label {font-family: monospace;font-weight: bold;display: inline-block;line-height: 1.2em;}#sk-container-id-1 div.sk-label-container {text-align: center;}#sk-container-id-1 div.sk-container {/* jupyter's `normalize.less` sets `[hidden] { display: none; }` but bootstrap.min.css set `[hidden] { display: none !important; }` so we also need the `!important` here to be able to override the default hidden behavior on the sphinx rendered scikit-learn.org. See: https://github.com/scikit-learn/scikit-learn/issues/21755 */display: inline-block !important;position: relative;}#sk-container-id-1 div.sk-text-repr-fallback {display: none;}</style><div id=\"sk-container-id-1\" class=\"sk-top-container\"><div class=\"sk-text-repr-fallback\"><pre>TfidfVectorizer(min_df=10, tokenizer=&lt;function token at 0x7fe8cb60d900&gt;)</pre><b>In a Jupyter environment, please rerun this cell to show the HTML representation or trust the notebook. <br />On GitHub, the HTML representation is unable to render, please try loading this page with nbviewer.org.</b></div><div class=\"sk-container\" hidden><div class=\"sk-item\"><div class=\"sk-estimator sk-toggleable\"><input class=\"sk-toggleable__control sk-hidden--visually\" id=\"sk-estimator-id-1\" type=\"checkbox\" checked><label for=\"sk-estimator-id-1\" class=\"sk-toggleable__label sk-toggleable__label-arrow\">TfidfVectorizer</label><div class=\"sk-toggleable__content\"><pre>TfidfVectorizer(min_df=10, tokenizer=&lt;function token at 0x7fe8cb60d900&gt;)</pre></div></div></div></div></div>"
            ]
          },
          "metadata": {},
          "execution_count": 35
        }
      ]
    },
    {
      "cell_type": "code",
      "source": [
        "tfidf_matrix_train = tfidf_vect.transform(train_df['articles'])\n",
        "tfidf_matrix_test = tfidf_vect.transform(test_df['articles'])"
      ],
      "metadata": {
        "id": "_WKWkWkK0VVj"
      },
      "execution_count": 36,
      "outputs": []
    },
    {
      "cell_type": "markdown",
      "source": [
        "5.  모델링"
      ],
      "metadata": {
        "id": "NTSThQy8zHXx"
      }
    },
    {
      "cell_type": "code",
      "source": [
        "#RF 이용하여 감성 분석 Classification 수행.\n",
        "from sklearn.ensemble import RandomForestClassifier\n",
        "from sklearn.metrics import accuracy_score\n",
        "\n",
        "#n_estimators: RF에 들어가는 tree의 개수\n",
        "rf = RandomForestClassifier(random_state=0, n_estimators=1000)\n",
        "rf.fit(tfidf_matrix_train , train_df['label']  )  #모델링\n",
        "preds1 = rf.predict(tfidf_matrix_test) #테스트셋으로 감성예측\n",
        "print('Accuracy: ',accuracy_score(test_df['label'],preds1))#정답율"
      ],
      "metadata": {
        "colab": {
          "base_uri": "https://localhost:8080/"
        },
        "id": "qyRlHeKUI19z",
        "outputId": "adfe0504-6832-42b5-95af-56839e13bc66"
      },
      "execution_count": 37,
      "outputs": [
        {
          "output_type": "stream",
          "name": "stdout",
          "text": [
            "Accuracy:  0.875\n"
          ]
        }
      ]
    },
    {
      "cell_type": "markdown",
      "source": [
        "다른 모형과 비교"
      ],
      "metadata": {
        "id": "PbfpAV7yLTIy"
      }
    },
    {
      "cell_type": "code",
      "source": [
        "from sklearn.naive_bayes import MultinomialNB\n",
        "from sklearn import tree\n",
        "from sklearn.linear_model import LogisticRegression\n",
        "\n",
        "from sklearn.metrics import accuracy_score\n",
        "from sklearn.metrics import confusion_matrix\n",
        "\n",
        "dt1 = tree.DecisionTreeClassifier()\n",
        "dt1 = dt1.fit(tfidf_matrix_train , train_df['label'])\n",
        "dt1.feature_importances_\n",
        "preds2 = dt1.predict( tfidf_matrix_test )\n",
        "print('Accuracy: ',accuracy_score(test_df['label'],preds2))#정답율\n",
        "\n",
        "clf = MultinomialNB().fit(tfidf_matrix_train , train_df['label'])\n",
        "preds3 = clf.predict(tfidf_matrix_test)\n",
        "print('Accuracy: ',accuracy_score(test_df['label'],preds3))#정답율\n",
        "\n",
        "lr_clf = LogisticRegression()\n",
        "lr_clf.fit(tfidf_matrix_train , train_df['label'])\n",
        "preds4 = lr_clf.predict(tfidf_matrix_test)\n",
        "print('Accuracy: ',accuracy_score(test_df['label'],preds4))#정답율\n"
      ],
      "metadata": {
        "colab": {
          "base_uri": "https://localhost:8080/"
        },
        "id": "jmo8UqI2I2II",
        "outputId": "dfa0cc28-9e4e-4f76-fb07-3c5a426cf9fe"
      },
      "execution_count": 38,
      "outputs": [
        {
          "output_type": "stream",
          "name": "stdout",
          "text": [
            "Accuracy:  0.7625\n",
            "Accuracy:  0.9375\n",
            "Accuracy:  0.95\n"
          ]
        }
      ]
    },
    {
      "cell_type": "markdown",
      "source": [
        "#3. 감성 분석의 활용"
      ],
      "metadata": {
        "id": "_-D05DkSmyFm"
      }
    },
    {
      "cell_type": "code",
      "source": [
        "!pip install konlpy"
      ],
      "metadata": {
        "id": "l69-sBa85Q1l",
        "colab": {
          "base_uri": "https://localhost:8080/"
        },
        "outputId": "551af36e-70d4-4170-85b2-61428f4d0178"
      },
      "execution_count": 39,
      "outputs": [
        {
          "output_type": "stream",
          "name": "stdout",
          "text": [
            "Requirement already satisfied: konlpy in /usr/local/lib/python3.10/dist-packages (0.6.0)\n",
            "Requirement already satisfied: JPype1>=0.7.0 in /usr/local/lib/python3.10/dist-packages (from konlpy) (1.5.0)\n",
            "Requirement already satisfied: lxml>=4.1.0 in /usr/local/lib/python3.10/dist-packages (from konlpy) (4.9.4)\n",
            "Requirement already satisfied: numpy>=1.6 in /usr/local/lib/python3.10/dist-packages (from konlpy) (1.26.4)\n",
            "Requirement already satisfied: packaging in /usr/local/lib/python3.10/dist-packages (from JPype1>=0.7.0->konlpy) (24.1)\n"
          ]
        }
      ]
    },
    {
      "cell_type": "code",
      "source": [
        "!wget https://github.com/rickiepark/python-machine-learning-book-3rd-edition/raw/master/ch08/ratings_train.txt -O ratings_train.txt\n",
        "!wget https://github.com/rickiepark/python-machine-learning-book-3rd-edition/raw/master/ch08/ratings_test.txt -O ratings_test.txt"
      ],
      "metadata": {
        "id": "Mb531Sfv5Q1m",
        "colab": {
          "base_uri": "https://localhost:8080/"
        },
        "outputId": "d2fc20f8-e742-4c5f-bb6b-84151b2c03a6"
      },
      "execution_count": 40,
      "outputs": [
        {
          "output_type": "stream",
          "name": "stdout",
          "text": [
            "--2024-09-05 14:39:02--  https://github.com/rickiepark/python-machine-learning-book-3rd-edition/raw/master/ch08/ratings_train.txt\n",
            "Resolving github.com (github.com)... 140.82.114.3\n",
            "Connecting to github.com (github.com)|140.82.114.3|:443... connected.\n",
            "HTTP request sent, awaiting response... 302 Found\n",
            "Location: https://raw.githubusercontent.com/rickiepark/python-machine-learning-book-3rd-edition/master/ch08/ratings_train.txt [following]\n",
            "--2024-09-05 14:39:03--  https://raw.githubusercontent.com/rickiepark/python-machine-learning-book-3rd-edition/master/ch08/ratings_train.txt\n",
            "Resolving raw.githubusercontent.com (raw.githubusercontent.com)... 185.199.110.133, 185.199.108.133, 185.199.111.133, ...\n",
            "Connecting to raw.githubusercontent.com (raw.githubusercontent.com)|185.199.110.133|:443... connected.\n",
            "HTTP request sent, awaiting response... 200 OK\n",
            "Length: 14628807 (14M) [text/plain]\n",
            "Saving to: ‘ratings_train.txt’\n",
            "\n",
            "ratings_train.txt   100%[===================>]  13.95M  --.-KB/s    in 0.1s    \n",
            "\n",
            "2024-09-05 14:39:03 (138 MB/s) - ‘ratings_train.txt’ saved [14628807/14628807]\n",
            "\n",
            "--2024-09-05 14:39:03--  https://github.com/rickiepark/python-machine-learning-book-3rd-edition/raw/master/ch08/ratings_test.txt\n",
            "Resolving github.com (github.com)... 140.82.114.4\n",
            "Connecting to github.com (github.com)|140.82.114.4|:443... connected.\n",
            "HTTP request sent, awaiting response... 302 Found\n",
            "Location: https://raw.githubusercontent.com/rickiepark/python-machine-learning-book-3rd-edition/master/ch08/ratings_test.txt [following]\n",
            "--2024-09-05 14:39:05--  https://raw.githubusercontent.com/rickiepark/python-machine-learning-book-3rd-edition/master/ch08/ratings_test.txt\n",
            "Resolving raw.githubusercontent.com (raw.githubusercontent.com)... 185.199.110.133, 185.199.108.133, 185.199.111.133, ...\n",
            "Connecting to raw.githubusercontent.com (raw.githubusercontent.com)|185.199.110.133|:443... connected.\n",
            "HTTP request sent, awaiting response... 200 OK\n",
            "Length: 4893335 (4.7M) [application/octet-stream]\n",
            "Saving to: ‘ratings_test.txt’\n",
            "\n",
            "ratings_test.txt    100%[===================>]   4.67M  --.-KB/s    in 0.1s    \n",
            "\n",
            "2024-09-05 14:39:05 (39.5 MB/s) - ‘ratings_test.txt’ saved [4893335/4893335]\n",
            "\n"
          ]
        }
      ]
    },
    {
      "cell_type": "code",
      "source": [
        "from sklearn.model_selection import train_test_split\n",
        "import pandas as pd\n",
        "\n",
        "train_df = pd.read_csv('ratings_train.txt', sep='\\t')#탭으로 값이 구분된 파일\n",
        "print(train_df.shape)\n",
        "train_df = train_df.iloc[0:1500, :]\n",
        "\n",
        "train, test = train_test_split( train_df, test_size=0.2)\n",
        "train_df.head(7)"
      ],
      "metadata": {
        "id": "oeTxJU825Q1n",
        "colab": {
          "base_uri": "https://localhost:8080/",
          "height": 287
        },
        "outputId": "f42b99ff-57df-4231-bd6c-6338ef69fdec"
      },
      "execution_count": 41,
      "outputs": [
        {
          "output_type": "stream",
          "name": "stdout",
          "text": [
            "(150000, 3)\n"
          ]
        },
        {
          "output_type": "execute_result",
          "data": {
            "text/plain": [
              "         id                                           document  label\n",
              "0   9976970                                아 더빙.. 진짜 짜증나네요 목소리      0\n",
              "1   3819312                  흠...포스터보고 초딩영화줄....오버연기조차 가볍지 않구나      1\n",
              "2  10265843                                  너무재밓었다그래서보는것을추천한다      0\n",
              "3   9045019                      교도소 이야기구먼 ..솔직히 재미는 없다..평점 조정      0\n",
              "4   6483659  사이몬페그의 익살스런 연기가 돋보였던 영화!스파이더맨에서 늙어보이기만 했던 커스틴 ...      1\n",
              "5   5403919      막 걸음마 뗀 3세부터 초등학교 1학년생인 8살용영화.ㅋㅋㅋ...별반개도 아까움.      0\n",
              "6   7797314                              원작의 긴장감을 제대로 살려내지못했다.      0"
            ],
            "text/html": [
              "\n",
              "  <div id=\"df-4c634e8d-767c-43d5-b650-226ceec5cca1\" class=\"colab-df-container\">\n",
              "    <div>\n",
              "<style scoped>\n",
              "    .dataframe tbody tr th:only-of-type {\n",
              "        vertical-align: middle;\n",
              "    }\n",
              "\n",
              "    .dataframe tbody tr th {\n",
              "        vertical-align: top;\n",
              "    }\n",
              "\n",
              "    .dataframe thead th {\n",
              "        text-align: right;\n",
              "    }\n",
              "</style>\n",
              "<table border=\"1\" class=\"dataframe\">\n",
              "  <thead>\n",
              "    <tr style=\"text-align: right;\">\n",
              "      <th></th>\n",
              "      <th>id</th>\n",
              "      <th>document</th>\n",
              "      <th>label</th>\n",
              "    </tr>\n",
              "  </thead>\n",
              "  <tbody>\n",
              "    <tr>\n",
              "      <th>0</th>\n",
              "      <td>9976970</td>\n",
              "      <td>아 더빙.. 진짜 짜증나네요 목소리</td>\n",
              "      <td>0</td>\n",
              "    </tr>\n",
              "    <tr>\n",
              "      <th>1</th>\n",
              "      <td>3819312</td>\n",
              "      <td>흠...포스터보고 초딩영화줄....오버연기조차 가볍지 않구나</td>\n",
              "      <td>1</td>\n",
              "    </tr>\n",
              "    <tr>\n",
              "      <th>2</th>\n",
              "      <td>10265843</td>\n",
              "      <td>너무재밓었다그래서보는것을추천한다</td>\n",
              "      <td>0</td>\n",
              "    </tr>\n",
              "    <tr>\n",
              "      <th>3</th>\n",
              "      <td>9045019</td>\n",
              "      <td>교도소 이야기구먼 ..솔직히 재미는 없다..평점 조정</td>\n",
              "      <td>0</td>\n",
              "    </tr>\n",
              "    <tr>\n",
              "      <th>4</th>\n",
              "      <td>6483659</td>\n",
              "      <td>사이몬페그의 익살스런 연기가 돋보였던 영화!스파이더맨에서 늙어보이기만 했던 커스틴 ...</td>\n",
              "      <td>1</td>\n",
              "    </tr>\n",
              "    <tr>\n",
              "      <th>5</th>\n",
              "      <td>5403919</td>\n",
              "      <td>막 걸음마 뗀 3세부터 초등학교 1학년생인 8살용영화.ㅋㅋㅋ...별반개도 아까움.</td>\n",
              "      <td>0</td>\n",
              "    </tr>\n",
              "    <tr>\n",
              "      <th>6</th>\n",
              "      <td>7797314</td>\n",
              "      <td>원작의 긴장감을 제대로 살려내지못했다.</td>\n",
              "      <td>0</td>\n",
              "    </tr>\n",
              "  </tbody>\n",
              "</table>\n",
              "</div>\n",
              "    <div class=\"colab-df-buttons\">\n",
              "\n",
              "  <div class=\"colab-df-container\">\n",
              "    <button class=\"colab-df-convert\" onclick=\"convertToInteractive('df-4c634e8d-767c-43d5-b650-226ceec5cca1')\"\n",
              "            title=\"Convert this dataframe to an interactive table.\"\n",
              "            style=\"display:none;\">\n",
              "\n",
              "  <svg xmlns=\"http://www.w3.org/2000/svg\" height=\"24px\" viewBox=\"0 -960 960 960\">\n",
              "    <path d=\"M120-120v-720h720v720H120Zm60-500h600v-160H180v160Zm220 220h160v-160H400v160Zm0 220h160v-160H400v160ZM180-400h160v-160H180v160Zm440 0h160v-160H620v160ZM180-180h160v-160H180v160Zm440 0h160v-160H620v160Z\"/>\n",
              "  </svg>\n",
              "    </button>\n",
              "\n",
              "  <style>\n",
              "    .colab-df-container {\n",
              "      display:flex;\n",
              "      gap: 12px;\n",
              "    }\n",
              "\n",
              "    .colab-df-convert {\n",
              "      background-color: #E8F0FE;\n",
              "      border: none;\n",
              "      border-radius: 50%;\n",
              "      cursor: pointer;\n",
              "      display: none;\n",
              "      fill: #1967D2;\n",
              "      height: 32px;\n",
              "      padding: 0 0 0 0;\n",
              "      width: 32px;\n",
              "    }\n",
              "\n",
              "    .colab-df-convert:hover {\n",
              "      background-color: #E2EBFA;\n",
              "      box-shadow: 0px 1px 2px rgba(60, 64, 67, 0.3), 0px 1px 3px 1px rgba(60, 64, 67, 0.15);\n",
              "      fill: #174EA6;\n",
              "    }\n",
              "\n",
              "    .colab-df-buttons div {\n",
              "      margin-bottom: 4px;\n",
              "    }\n",
              "\n",
              "    [theme=dark] .colab-df-convert {\n",
              "      background-color: #3B4455;\n",
              "      fill: #D2E3FC;\n",
              "    }\n",
              "\n",
              "    [theme=dark] .colab-df-convert:hover {\n",
              "      background-color: #434B5C;\n",
              "      box-shadow: 0px 1px 3px 1px rgba(0, 0, 0, 0.15);\n",
              "      filter: drop-shadow(0px 1px 2px rgba(0, 0, 0, 0.3));\n",
              "      fill: #FFFFFF;\n",
              "    }\n",
              "  </style>\n",
              "\n",
              "    <script>\n",
              "      const buttonEl =\n",
              "        document.querySelector('#df-4c634e8d-767c-43d5-b650-226ceec5cca1 button.colab-df-convert');\n",
              "      buttonEl.style.display =\n",
              "        google.colab.kernel.accessAllowed ? 'block' : 'none';\n",
              "\n",
              "      async function convertToInteractive(key) {\n",
              "        const element = document.querySelector('#df-4c634e8d-767c-43d5-b650-226ceec5cca1');\n",
              "        const dataTable =\n",
              "          await google.colab.kernel.invokeFunction('convertToInteractive',\n",
              "                                                    [key], {});\n",
              "        if (!dataTable) return;\n",
              "\n",
              "        const docLinkHtml = 'Like what you see? Visit the ' +\n",
              "          '<a target=\"_blank\" href=https://colab.research.google.com/notebooks/data_table.ipynb>data table notebook</a>'\n",
              "          + ' to learn more about interactive tables.';\n",
              "        element.innerHTML = '';\n",
              "        dataTable['output_type'] = 'display_data';\n",
              "        await google.colab.output.renderOutput(dataTable, element);\n",
              "        const docLink = document.createElement('div');\n",
              "        docLink.innerHTML = docLinkHtml;\n",
              "        element.appendChild(docLink);\n",
              "      }\n",
              "    </script>\n",
              "  </div>\n",
              "\n",
              "\n",
              "<div id=\"df-2b9acf37-70ea-4828-9d0e-9c366da3ecde\">\n",
              "  <button class=\"colab-df-quickchart\" onclick=\"quickchart('df-2b9acf37-70ea-4828-9d0e-9c366da3ecde')\"\n",
              "            title=\"Suggest charts\"\n",
              "            style=\"display:none;\">\n",
              "\n",
              "<svg xmlns=\"http://www.w3.org/2000/svg\" height=\"24px\"viewBox=\"0 0 24 24\"\n",
              "     width=\"24px\">\n",
              "    <g>\n",
              "        <path d=\"M19 3H5c-1.1 0-2 .9-2 2v14c0 1.1.9 2 2 2h14c1.1 0 2-.9 2-2V5c0-1.1-.9-2-2-2zM9 17H7v-7h2v7zm4 0h-2V7h2v10zm4 0h-2v-4h2v4z\"/>\n",
              "    </g>\n",
              "</svg>\n",
              "  </button>\n",
              "\n",
              "<style>\n",
              "  .colab-df-quickchart {\n",
              "      --bg-color: #E8F0FE;\n",
              "      --fill-color: #1967D2;\n",
              "      --hover-bg-color: #E2EBFA;\n",
              "      --hover-fill-color: #174EA6;\n",
              "      --disabled-fill-color: #AAA;\n",
              "      --disabled-bg-color: #DDD;\n",
              "  }\n",
              "\n",
              "  [theme=dark] .colab-df-quickchart {\n",
              "      --bg-color: #3B4455;\n",
              "      --fill-color: #D2E3FC;\n",
              "      --hover-bg-color: #434B5C;\n",
              "      --hover-fill-color: #FFFFFF;\n",
              "      --disabled-bg-color: #3B4455;\n",
              "      --disabled-fill-color: #666;\n",
              "  }\n",
              "\n",
              "  .colab-df-quickchart {\n",
              "    background-color: var(--bg-color);\n",
              "    border: none;\n",
              "    border-radius: 50%;\n",
              "    cursor: pointer;\n",
              "    display: none;\n",
              "    fill: var(--fill-color);\n",
              "    height: 32px;\n",
              "    padding: 0;\n",
              "    width: 32px;\n",
              "  }\n",
              "\n",
              "  .colab-df-quickchart:hover {\n",
              "    background-color: var(--hover-bg-color);\n",
              "    box-shadow: 0 1px 2px rgba(60, 64, 67, 0.3), 0 1px 3px 1px rgba(60, 64, 67, 0.15);\n",
              "    fill: var(--button-hover-fill-color);\n",
              "  }\n",
              "\n",
              "  .colab-df-quickchart-complete:disabled,\n",
              "  .colab-df-quickchart-complete:disabled:hover {\n",
              "    background-color: var(--disabled-bg-color);\n",
              "    fill: var(--disabled-fill-color);\n",
              "    box-shadow: none;\n",
              "  }\n",
              "\n",
              "  .colab-df-spinner {\n",
              "    border: 2px solid var(--fill-color);\n",
              "    border-color: transparent;\n",
              "    border-bottom-color: var(--fill-color);\n",
              "    animation:\n",
              "      spin 1s steps(1) infinite;\n",
              "  }\n",
              "\n",
              "  @keyframes spin {\n",
              "    0% {\n",
              "      border-color: transparent;\n",
              "      border-bottom-color: var(--fill-color);\n",
              "      border-left-color: var(--fill-color);\n",
              "    }\n",
              "    20% {\n",
              "      border-color: transparent;\n",
              "      border-left-color: var(--fill-color);\n",
              "      border-top-color: var(--fill-color);\n",
              "    }\n",
              "    30% {\n",
              "      border-color: transparent;\n",
              "      border-left-color: var(--fill-color);\n",
              "      border-top-color: var(--fill-color);\n",
              "      border-right-color: var(--fill-color);\n",
              "    }\n",
              "    40% {\n",
              "      border-color: transparent;\n",
              "      border-right-color: var(--fill-color);\n",
              "      border-top-color: var(--fill-color);\n",
              "    }\n",
              "    60% {\n",
              "      border-color: transparent;\n",
              "      border-right-color: var(--fill-color);\n",
              "    }\n",
              "    80% {\n",
              "      border-color: transparent;\n",
              "      border-right-color: var(--fill-color);\n",
              "      border-bottom-color: var(--fill-color);\n",
              "    }\n",
              "    90% {\n",
              "      border-color: transparent;\n",
              "      border-bottom-color: var(--fill-color);\n",
              "    }\n",
              "  }\n",
              "</style>\n",
              "\n",
              "  <script>\n",
              "    async function quickchart(key) {\n",
              "      const quickchartButtonEl =\n",
              "        document.querySelector('#' + key + ' button');\n",
              "      quickchartButtonEl.disabled = true;  // To prevent multiple clicks.\n",
              "      quickchartButtonEl.classList.add('colab-df-spinner');\n",
              "      try {\n",
              "        const charts = await google.colab.kernel.invokeFunction(\n",
              "            'suggestCharts', [key], {});\n",
              "      } catch (error) {\n",
              "        console.error('Error during call to suggestCharts:', error);\n",
              "      }\n",
              "      quickchartButtonEl.classList.remove('colab-df-spinner');\n",
              "      quickchartButtonEl.classList.add('colab-df-quickchart-complete');\n",
              "    }\n",
              "    (() => {\n",
              "      let quickchartButtonEl =\n",
              "        document.querySelector('#df-2b9acf37-70ea-4828-9d0e-9c366da3ecde button');\n",
              "      quickchartButtonEl.style.display =\n",
              "        google.colab.kernel.accessAllowed ? 'block' : 'none';\n",
              "    })();\n",
              "  </script>\n",
              "</div>\n",
              "\n",
              "    </div>\n",
              "  </div>\n"
            ],
            "application/vnd.google.colaboratory.intrinsic+json": {
              "type": "dataframe",
              "variable_name": "train_df",
              "summary": "{\n  \"name\": \"train_df\",\n  \"rows\": 1500,\n  \"fields\": [\n    {\n      \"column\": \"id\",\n      \"properties\": {\n        \"dtype\": \"number\",\n        \"std\": 2937944,\n        \"min\": 11633,\n        \"max\": 10275296,\n        \"num_unique_values\": 1500,\n        \"samples\": [\n          4520600,\n          5500063,\n          4655750\n        ],\n        \"semantic_type\": \"\",\n        \"description\": \"\"\n      }\n    },\n    {\n      \"column\": \"document\",\n      \"properties\": {\n        \"dtype\": \"string\",\n        \"num_unique_values\": 1496,\n        \"samples\": [\n          \"\\uad1c\\ucc2e\\uc740\\uc601\\ud654,,\\uc601\\ud654\\ub3c4\\uad1c\\ucc2e\\uc558\\uc9c0\\ub9cc \\ub098\\uc601\\uc5b8\\ub2c8\\uc644\\uc804\\uba38\\uc2ef\\uace0\\uc608\\ubee4\\uc74c\\u3160\\u3160\",\n          \"\\uc5b4\\ucc98\\uad6c\\ub2c8\\uc5c6\\ub294 \\uc561\\uc158\\ub4e4...\\uc870\\uc7a1\\ud55c \\uc904\\uac70\\ub9ac...\\uc131\\ub8e1\\ub9de\\ub098?\",\n          \"\\uc7a5\\uc120\\uc6b0 \\uc5ec\\uc804\\ud788 \\uc4f0\\ub808\\uae30\"\n        ],\n        \"semantic_type\": \"\",\n        \"description\": \"\"\n      }\n    },\n    {\n      \"column\": \"label\",\n      \"properties\": {\n        \"dtype\": \"number\",\n        \"std\": 0,\n        \"min\": 0,\n        \"max\": 1,\n        \"num_unique_values\": 2,\n        \"samples\": [\n          1,\n          0\n        ],\n        \"semantic_type\": \"\",\n        \"description\": \"\"\n      }\n    }\n  ]\n}"
            }
          },
          "metadata": {},
          "execution_count": 41
        }
      ]
    },
    {
      "cell_type": "code",
      "source": [
        "from konlpy.tag import Okt\n",
        "twitter = Okt() #open korean text 형태소분석기\n",
        "def tw_tokenizer(text):\n",
        "    tokens_ko = twitter.morphs(text) #명사만 추출\n",
        "    return tokens_ko"
      ],
      "metadata": {
        "id": "BN8N-a8p5Q1o"
      },
      "execution_count": 42,
      "outputs": []
    },
    {
      "cell_type": "code",
      "source": [
        "from sklearn.feature_extraction.text import TfidfVectorizer\n",
        "\n",
        "tfidf_vect = TfidfVectorizer(tokenizer=tw_tokenizer, min_df=5 )\n",
        "tfidf_vect.fit(train['document'])  #train의 명사를 뽑은 것까지\n",
        "tfidf_matrix_train = tfidf_vect.transform(train['document'])\n",
        "tfidf_matrix_test = tfidf_vect.transform(test['document'])\n"
      ],
      "metadata": {
        "id": "2UpAfEkd5Q1o",
        "colab": {
          "base_uri": "https://localhost:8080/"
        },
        "outputId": "15544a71-f328-4b2a-f3b0-0444904b646c"
      },
      "execution_count": 43,
      "outputs": [
        {
          "output_type": "stream",
          "name": "stderr",
          "text": [
            "/usr/local/lib/python3.10/dist-packages/sklearn/feature_extraction/text.py:525: UserWarning: The parameter 'token_pattern' will not be used since 'tokenizer' is not None'\n",
            "  warnings.warn(\n"
          ]
        }
      ]
    },
    {
      "cell_type": "code",
      "source": [
        "tfidf_vect.vocabulary_.keys()"
      ],
      "metadata": {
        "id": "e_2fjoN8uDdM",
        "colab": {
          "base_uri": "https://localhost:8080/"
        },
        "outputId": "4f58e175-0487-4978-a668-795cb01e13d1"
      },
      "execution_count": 44,
      "outputs": [
        {
          "output_type": "execute_result",
          "data": {
            "text/plain": [
              "dict_keys(['에서', '보기', '엔', '돈', '솔직히', 'ㅜㅜ', '별', '점', '10', '모든', '배우', '들', '이', '연기력', '굿', '~~', '최고', '의', '드라마', '원작', '을', '안', '사람', '은', '진짜', '보면서', '..', '특히', '에', '재밌음', '영화', '가', '좀', '소재', '도', '좋고', '몰입', '기', '대', '이상', '못', '한', '연기', '는', '다', '잘', '게', '대체', '무슨', '내용', '이야', ';;', '작가', '별로', '내', '임', '그냥', '기대', '하고', '하면', '답', '없다', '제일', '이영화', '점수', '0', ',', '하는게', '더', '감동', '적', '사랑', '감독', '하는', '말', '안되는', '생각', '...', '왜', '문제', '고', '처럼', '엉망', '이다', '.', '어느', '것', '하나', '를', '난', '거', 'ㅋㅋ', '이건', '정말', '캐스팅', '과', '하', '지', '않은', '!!', '으로', '만든', '야', '!', '대한', '스릴', '?', '아직도', '인생', '라', '그런', '건', '할', '뿐', '몇', '재밌게', '본', ';', '평점', '이딴', '한국', '라니', '너무', '없는', '스토리', '여자', '때', '웃음', '나옴', '냐', '이유', '알바', '저', '만', '-', '좋아하는', '정신', '세계', '이후', '마지막', '장면', '줄', '알', '아', '여기', '나', '했던', '에게', '이라고', '감정', '한다', '^^', '3', '4', '와', '기분', '그래도', '시간', '꽤', '결말', '가지', '수', '!!!', '없이', '공감', '있는', '인간', '성', '않는', '별루', '머', '이런', 'ㅋ', '지금', '대박', '실망', '매력', '남자', '그', '속', '참', '포스터', '현실', '화', '전', '재미없다', '완전', '했는데', '....', '함', '보지', '마세요', '했다', '봐라', '보다', '처음', 'ㅠㅠ', '절대', '아닌', '수작', '이라', '뭔', '모르겠다', '같은', '걸', '5', '뭐', '극장판', '중', '가장', '어떻게', '미화', '이나', '사회', '자', '한테', '싶은', '그리고', '표현', '님', '주는', '라서', '볼', '데', '재밌는데', '정도', '로', '이라는', '액션', '있고', '재미있게', '다시', '조금', '이야기', '그저', '이랑', '눈물', '놈', '아까운', '참고', '있음', '일본', '였음', '였다', '봤습니다', '작품', '또', '개인', 'ㅇ', '막장', '라면', '가슴', '좋은', '주인공', '부터', '너', '~', '연출', '인지', '인', '움', '(', '구', ')', '보면', '당시', '서', '된', 'ㅋㅋㅋ', '개연', '나름', '???', '.....', '슬픔', '여배우', '여', '인상', '영', '최악', '어릴', '조폭', '나이', '갈수록', '친구', '라고', '의미', '한번', '반전', '쓰레기', '짜증', '아주', '전개', '력', '추억', '추천', '요', '가요', '분', '알았는데', '전부', '번', '봐도', '보고', '끌', '지만', '주', '연', '기억', '남', '랑', 'ㅋㅋㅋㅋ', '아깝다', '노력', '한국영', '장르', '2', '극장', '봤던', '밖에', '개', 'oo', '네', '없고', '않고', '이제', 'ㅡㅡ', '면', '근데', '코', '보는데', '눈', '마음', '짱', '잼', 'ㅎ', '아직', '역시', '뭘', '도안', '아까워', '장난', '끝', '까지', '봤는데', '하게', '만드는', '입니다', '재미', '두', '일', '에도', '나도', '되고', '싶다', '멋진', '용', '했음', '먹고', '아니다', '티비', '손', '많이', '듯', '이해', '한마디', '제', '이네', '작', '해서', '진심', '물', '구성', '봤어요', '보니', '같다', '개봉', '니까', '하지', '없음', '이렇게', '허', '이고', 'ㅎㅎ', '보는', '내내', '감', 'ㅠ', '설정', '??', '넘', '후', '나오는', '에는', '스릴러', '제발', '요즘', \"'\", '딱', '건지', '명작', '여운', '남는', '옛날', '사건', '욕', '순간', '극', '전혀', '중국', '코미디', '수준', '다른', '8', '캐릭터', '애니', '엉', '그만', '다운', '초반', '느낌', '로맨스', '많은', '인데', '상', '영상', '봤다', '상황', '라는', '되는', '지루하다', '해', '그래서', '꼭', '키', '1', '합니다', '쯤', '자체', '만화', '자신', '삶', '대해', '음악', '나오고', '등', '더빙', '모습', '그렇게', '하기', '어', '하지만', '류', '또한', '지루해', '재밌고', '가족', '급', '아니라', '하려고', '차라리', '시청률', '시', '애', '평생', '시리즈', 'ost', '씨', '좋았어요', '판', '집', '후회', '보세요', '이란', '뭔가', '위해', '우리', '화면', '이리', ',,', '인가', '니', '관객', '책', '재밌어요', '중간', 'tv', '이에요', '소리', '위', '재밌다', '90년', '오랜', '제목', '아니', '결국', '긴장감', '년', '좀비', '날', '건가', '봤지만', '귀여운', '졸작'])"
            ]
          },
          "metadata": {},
          "execution_count": 44
        }
      ]
    },
    {
      "cell_type": "code",
      "source": [
        "#RF 이용하여 감성 분석 Classification 수행.\n",
        "from sklearn.ensemble import RandomForestClassifier\n",
        "from sklearn.metrics import accuracy_score\n",
        "\n",
        "#n_estimators: RF에 들어가는 tree의 개수\n",
        "rf = RandomForestClassifier(random_state=0, n_estimators=500)\n",
        "rf.fit(tfidf_matrix_train , train['label']  )  #모델링\n",
        "preds1 = rf.predict(tfidf_matrix_test) #테스트셋으로 감성예측\n",
        "print('Accuracy: ',accuracy_score(test['label'],preds1))#정답율"
      ],
      "metadata": {
        "colab": {
          "base_uri": "https://localhost:8080/"
        },
        "id": "i241ZoebKUa_",
        "outputId": "ca28718a-db65-40d5-aca3-814a3b54ee76"
      },
      "execution_count": 45,
      "outputs": [
        {
          "output_type": "stream",
          "name": "stdout",
          "text": [
            "Accuracy:  0.6933333333333334\n"
          ]
        }
      ]
    },
    {
      "cell_type": "code",
      "source": [
        "from sklearn.metrics import classification_report\n",
        "print(classification_report(test['label'],preds1))"
      ],
      "metadata": {
        "colab": {
          "base_uri": "https://localhost:8080/"
        },
        "id": "qHxbmY0DMyPs",
        "outputId": "619179cc-1773-430a-cc7f-2da8ebd172f3"
      },
      "execution_count": 46,
      "outputs": [
        {
          "output_type": "stream",
          "name": "stdout",
          "text": [
            "              precision    recall  f1-score   support\n",
            "\n",
            "           0       0.66      0.79      0.72       150\n",
            "           1       0.74      0.59      0.66       150\n",
            "\n",
            "    accuracy                           0.69       300\n",
            "   macro avg       0.70      0.69      0.69       300\n",
            "weighted avg       0.70      0.69      0.69       300\n",
            "\n"
          ]
        }
      ]
    },
    {
      "cell_type": "markdown",
      "source": [
        "#4. 자연어처리와 머신러닝2: 문헌유사도와 군집"
      ],
      "metadata": {
        "id": "GIlfy7aA6rOe"
      }
    },
    {
      "cell_type": "markdown",
      "source": [
        " - 용어 빈도 탐색색"
      ],
      "metadata": {
        "id": "vWfQSyu6bvSn"
      }
    },
    {
      "cell_type": "code",
      "source": [
        "words = str( list( tfidf_vect.vocabulary_.keys() ) )\n",
        "words"
      ],
      "metadata": {
        "colab": {
          "base_uri": "https://localhost:8080/",
          "height": 163
        },
        "id": "NCiDfWZsVe3G",
        "outputId": "0aab5972-e23a-4dc4-e4d4-caa827d8e678"
      },
      "execution_count": 47,
      "outputs": [
        {
          "output_type": "execute_result",
          "data": {
            "text/plain": [
              "'[\\'에서\\', \\'보기\\', \\'엔\\', \\'돈\\', \\'솔직히\\', \\'ㅜㅜ\\', \\'별\\', \\'점\\', \\'10\\', \\'모든\\', \\'배우\\', \\'들\\', \\'이\\', \\'연기력\\', \\'굿\\', \\'~~\\', \\'최고\\', \\'의\\', \\'드라마\\', \\'원작\\', \\'을\\', \\'안\\', \\'사람\\', \\'은\\', \\'진짜\\', \\'보면서\\', \\'..\\', \\'특히\\', \\'에\\', \\'재밌음\\', \\'영화\\', \\'가\\', \\'좀\\', \\'소재\\', \\'도\\', \\'좋고\\', \\'몰입\\', \\'기\\', \\'대\\', \\'이상\\', \\'못\\', \\'한\\', \\'연기\\', \\'는\\', \\'다\\', \\'잘\\', \\'게\\', \\'대체\\', \\'무슨\\', \\'내용\\', \\'이야\\', \\';;\\', \\'작가\\', \\'별로\\', \\'내\\', \\'임\\', \\'그냥\\', \\'기대\\', \\'하고\\', \\'하면\\', \\'답\\', \\'없다\\', \\'제일\\', \\'이영화\\', \\'점수\\', \\'0\\', \\',\\', \\'하는게\\', \\'더\\', \\'감동\\', \\'적\\', \\'사랑\\', \\'감독\\', \\'하는\\', \\'말\\', \\'안되는\\', \\'생각\\', \\'...\\', \\'왜\\', \\'문제\\', \\'고\\', \\'처럼\\', \\'엉망\\', \\'이다\\', \\'.\\', \\'어느\\', \\'것\\', \\'하나\\', \\'를\\', \\'난\\', \\'거\\', \\'ㅋㅋ\\', \\'이건\\', \\'정말\\', \\'캐스팅\\', \\'과\\', \\'하\\', \\'지\\', \\'않은\\', \\'!!\\', \\'으로\\', \\'만든\\', \\'야\\', \\'!\\', \\'대한\\', \\'스릴\\', \\'?\\', \\'아직도\\', \\'인생\\', \\'라\\', \\'그런\\', \\'건\\', \\'할\\', \\'뿐\\', \\'몇\\', \\'재밌게\\', \\'본\\', \\';\\', \\'평점\\', \\'이딴\\', \\'한국\\', \\'라니\\', \\'너무\\', \\'없는\\', \\'스토리\\', \\'여자\\', \\'때\\', \\'웃음\\', \\'나옴\\', \\'냐\\', \\'이유\\', \\'알바\\', \\'저\\', \\'만\\', \\'-\\', \\'좋아하는\\', \\'정신\\', \\'세계\\', \\'이후\\', \\'마지막\\', \\'장면\\', \\'줄\\', \\'알\\', \\'아\\', \\'여기\\', \\'나\\', \\'했던\\', \\'에게\\', \\'이라고\\', \\'감정\\', \\'한다\\', \\'^^\\', \\'3\\', \\'4\\', \\'와\\', \\'기분\\', \\'그래도\\', \\'시간\\', \\'꽤\\', \\'결말\\', \\'가지\\', \\'수\\', \\'!!!\\', \\'없이\\', \\'공감\\', \\'있는\\', \\'인간\\', \\'성\\', \\'않는\\', \\'별루\\', \\'머\\', \\'이런\\', \\'ㅋ\\', \\'지금\\', \\'대박\\', \\'실망\\', \\'매력\\', \\'남자\\', \\'그\\', \\'속\\', \\'참\\', \\'포스터\\', \\'현실\\', \\'화\\', \\'전\\', \\'재미없다\\', \\'완전\\', \\'했는데\\', \\'....\\', \\'함\\', \\'보지\\', \\'마세요\\', \\'했다\\', \\'봐라\\', \\'보다\\', \\'처음\\', \\'ㅠㅠ\\', \\'절대\\', \\'아닌\\', \\'수작\\', \\'이라\\', \\'뭔\\', \\'모르겠다\\', \\'같은\\', \\'걸\\', \\'5\\', \\'뭐\\', \\'극장판\\', \\'중\\', \\'가장\\', \\'어떻게\\', \\'미화\\', \\'이나\\', \\'사회\\', \\'자\\', \\'한테\\', \\'싶은\\', \\'그리고\\', \\'표현\\', \\'님\\', \\'주는\\', \\'라서\\', \\'볼\\', \\'데\\', \\'재밌는데\\', \\'정도\\', \\'로\\', \\'이라는\\', \\'액션\\', \\'있고\\', \\'재미있게\\', \\'다시\\', \\'조금\\', \\'이야기\\', \\'그저\\', \\'이랑\\', \\'눈물\\', \\'놈\\', \\'아까운\\', \\'참고\\', \\'있음\\', \\'일본\\', \\'였음\\', \\'였다\\', \\'봤습니다\\', \\'작품\\', \\'또\\', \\'개인\\', \\'ㅇ\\', \\'막장\\', \\'라면\\', \\'가슴\\', \\'좋은\\', \\'주인공\\', \\'부터\\', \\'너\\', \\'~\\', \\'연출\\', \\'인지\\', \\'인\\', \\'움\\', \\'(\\', \\'구\\', \\')\\', \\'보면\\', \\'당시\\', \\'서\\', \\'된\\', \\'ㅋㅋㅋ\\', \\'개연\\', \\'나름\\', \\'???\\', \\'.....\\', \\'슬픔\\', \\'여배우\\', \\'여\\', \\'인상\\', \\'영\\', \\'최악\\', \\'어릴\\', \\'조폭\\', \\'나이\\', \\'갈수록\\', \\'친구\\', \\'라고\\', \\'의미\\', \\'한번\\', \\'반전\\', \\'쓰레기\\', \\'짜증\\', \\'아주\\', \\'전개\\', \\'력\\', \\'추억\\', \\'추천\\', \\'요\\', \\'가요\\', \\'분\\', \\'알았는데\\', \\'전부\\', \\'번\\', \\'봐도\\', \\'보고\\', \\'끌\\', \\'지만\\', \\'주\\', \\'연\\', \\'기억\\', \\'남\\', \\'랑\\', \\'ㅋㅋㅋㅋ\\', \\'아깝다\\', \\'노력\\', \\'한국영\\', \\'장르\\', \\'2\\', \\'극장\\', \\'봤던\\', \\'밖에\\', \\'개\\', \\'oo\\', \\'네\\', \\'없고\\', \\'않고\\', \\'이제\\', \\'ㅡㅡ\\', \\'면\\', \\'근데\\', \\'코\\', \\'보는데\\', \\'눈\\', \\'마음\\', \\'짱\\', \\'잼\\', \\'ㅎ\\', \\'아직\\', \\'역시\\', \\'뭘\\', \\'도안\\', \\'아까워\\', \\'장난\\', \\'끝\\', \\'까지\\', \\'봤는데\\', \\'하게\\', \\'만드는\\', \\'입니다\\', \\'재미\\', \\'두\\', \\'일\\', \\'에도\\', \\'나도\\', \\'되고\\', \\'싶다\\', \\'멋진\\', \\'용\\', \\'했음\\', \\'먹고\\', \\'아니다\\', \\'티비\\', \\'손\\', \\'많이\\', \\'듯\\', \\'이해\\', \\'한마디\\', \\'제\\', \\'이네\\', \\'작\\', \\'해서\\', \\'진심\\', \\'물\\', \\'구성\\', \\'봤어요\\', \\'보니\\', \\'같다\\', \\'개봉\\', \\'니까\\', \\'하지\\', \\'없음\\', \\'이렇게\\', \\'허\\', \\'이고\\', \\'ㅎㅎ\\', \\'보는\\', \\'내내\\', \\'감\\', \\'ㅠ\\', \\'설정\\', \\'??\\', \\'넘\\', \\'후\\', \\'나오는\\', \\'에는\\', \\'스릴러\\', \\'제발\\', \\'요즘\\', \"\\'\", \\'딱\\', \\'건지\\', \\'명작\\', \\'여운\\', \\'남는\\', \\'옛날\\', \\'사건\\', \\'욕\\', \\'순간\\', \\'극\\', \\'전혀\\', \\'중국\\', \\'코미디\\', \\'수준\\', \\'다른\\', \\'8\\', \\'캐릭터\\', \\'애니\\', \\'엉\\', \\'그만\\', \\'다운\\', \\'초반\\', \\'느낌\\', \\'로맨스\\', \\'많은\\', \\'인데\\', \\'상\\', \\'영상\\', \\'봤다\\', \\'상황\\', \\'라는\\', \\'되는\\', \\'지루하다\\', \\'해\\', \\'그래서\\', \\'꼭\\', \\'키\\', \\'1\\', \\'합니다\\', \\'쯤\\', \\'자체\\', \\'만화\\', \\'자신\\', \\'삶\\', \\'대해\\', \\'음악\\', \\'나오고\\', \\'등\\', \\'더빙\\', \\'모습\\', \\'그렇게\\', \\'하기\\', \\'어\\', \\'하지만\\', \\'류\\', \\'또한\\', \\'지루해\\', \\'재밌고\\', \\'가족\\', \\'급\\', \\'아니라\\', \\'하려고\\', \\'차라리\\', \\'시청률\\', \\'시\\', \\'애\\', \\'평생\\', \\'시리즈\\', \\'ost\\', \\'씨\\', \\'좋았어요\\', \\'판\\', \\'집\\', \\'후회\\', \\'보세요\\', \\'이란\\', \\'뭔가\\', \\'위해\\', \\'우리\\', \\'화면\\', \\'이리\\', \\',,\\', \\'인가\\', \\'니\\', \\'관객\\', \\'책\\', \\'재밌어요\\', \\'중간\\', \\'tv\\', \\'이에요\\', \\'소리\\', \\'위\\', \\'재밌다\\', \\'90년\\', \\'오랜\\', \\'제목\\', \\'아니\\', \\'결국\\', \\'긴장감\\', \\'년\\', \\'좀비\\', \\'날\\', \\'건가\\', \\'봤지만\\', \\'귀여운\\', \\'졸작\\']'"
            ],
            "application/vnd.google.colaboratory.intrinsic+json": {
              "type": "string"
            }
          },
          "metadata": {},
          "execution_count": 47
        }
      ]
    },
    {
      "cell_type": "markdown",
      "source": [
        " - colab에 폰트 파일을 업로드"
      ],
      "metadata": {
        "id": "PyY3cB5ZWDqx"
      }
    },
    {
      "cell_type": "code",
      "source": [
        "!unzip malgun.zip"
      ],
      "metadata": {
        "colab": {
          "base_uri": "https://localhost:8080/"
        },
        "id": "tQhGVYHI3RSi",
        "outputId": "6cfbb81c-ac57-434a-eec9-82bf17dbb9c4"
      },
      "execution_count": 48,
      "outputs": [
        {
          "output_type": "stream",
          "name": "stdout",
          "text": [
            "Archive:  malgun.zip\n",
            "  inflating: malgun.ttf              \n"
          ]
        }
      ]
    },
    {
      "cell_type": "code",
      "source": [
        "from wordcloud import WordCloud\n",
        "import matplotlib.pyplot as plt\n",
        "\n",
        "#malgun.ttf를 업로드\n",
        "wordcloud = WordCloud(font_path='malgun.ttf', background_color = \"black\", width = 800, height = 600).generate(words)\n",
        "plt.figure(figsize = (15, 10))\n",
        "plt.imshow(wordcloud)\n",
        "plt.axis(\"off\")\n",
        "plt.show()\n"
      ],
      "metadata": {
        "colab": {
          "base_uri": "https://localhost:8080/",
          "height": 807
        },
        "id": "gqRgRKdyRNaX",
        "outputId": "6435b9b1-f929-4021-db28-944a85b95df2"
      },
      "execution_count": 49,
      "outputs": [
        {
          "output_type": "display_data",
          "data": {
            "text/plain": [
              "<Figure size 1500x1000 with 1 Axes>"
            ],
            "image/png": "[encoded data removed]"
          },
          "metadata": {}
        }
      ]
    },
    {
      "cell_type": "markdown",
      "source": [
        " - 유사도 계산해보기"
      ],
      "metadata": {
        "id": "O4AParpVWCkp"
      }
    },
    {
      "cell_type": "code",
      "source": [
        "tfidf_matrix_train"
      ],
      "metadata": {
        "colab": {
          "base_uri": "https://localhost:8080/"
        },
        "id": "kf5zIhrtV99Z",
        "outputId": "94df9e79-8016-4bb3-db6d-14904e09919c"
      },
      "execution_count": 50,
      "outputs": [
        {
          "output_type": "execute_result",
          "data": {
            "text/plain": [
              "<1200x503 sparse matrix of type '<class 'numpy.float64'>'\n",
              "\twith 9307 stored elements in Compressed Sparse Row format>"
            ]
          },
          "metadata": {},
          "execution_count": 50
        }
      ]
    },
    {
      "cell_type": "code",
      "source": [
        "from sklearn.metrics.pairwise import cosine_similarity\n",
        "print(cosine_similarity(tfidf_matrix_train[30,:] , tfidf_matrix_train[100,:]))\n",
        "print(train_df.document[30])\n",
        "print(train_df.document[100])\n",
        "\n",
        "print(cosine_similarity(tfidf_matrix_train[30,:] , tfidf_matrix_train[30,:]))"
      ],
      "metadata": {
        "colab": {
          "base_uri": "https://localhost:8080/"
        },
        "id": "FFMUG2zXSL3r",
        "outputId": "2f8c1baa-acb5-40ab-fc32-32c752d50abf"
      },
      "execution_count": 51,
      "outputs": [
        {
          "output_type": "stream",
          "name": "stdout",
          "text": [
            "[[0.0429937]]\n",
            "엄포스의 위력을 다시 한번 깨닫게 해준 적.남 꽃검사님도 연기 정말 좋았어요! 완전 명품드라마!\n",
            "신카이 마코토의 작화와,미유와 하나카나가 연기를 잘해줘서 더대박이였다.\n",
            "[[1.]]\n"
          ]
        }
      ]
    },
    {
      "cell_type": "code",
      "source": [
        "from sklearn.metrics.pairwise import euclidean_distances\n",
        "euclidean_distances(tfidf_matrix_train[30,:] , tfidf_matrix_train[100,:])\n",
        "#euclidean_distances(tfidf_matrix_train[100,:] , tfidf_matrix_train[100,:])\n",
        "euclidean_distances(tfidf_matrix_train[30,:] , tfidf_matrix_train)"
      ],
      "metadata": {
        "id": "OlraLNPTSeLY",
        "colab": {
          "base_uri": "https://localhost:8080/"
        },
        "outputId": "a8b5494f-96bd-4f2d-e6cc-ea358965ad86"
      },
      "execution_count": 52,
      "outputs": [
        {
          "output_type": "execute_result",
          "data": {
            "text/plain": [
              "array([[1.41421356, 1.41421356, 1.32411233, ..., 1.41421356, 1.31360958,\n",
              "        1.41421356]])"
            ]
          },
          "metadata": {},
          "execution_count": 52
        }
      ]
    },
    {
      "cell_type": "code",
      "source": [
        "from sklearn.metrics import jaccard_score\n",
        "import numpy as np\n",
        "\n",
        "binary = np.array( [ [0,1,1,1,1], [1, 1, 1, 1,0]])\n",
        "\n",
        "jaccard_score(binary[0,:] , binary[1,:])"
      ],
      "metadata": {
        "colab": {
          "base_uri": "https://localhost:8080/"
        },
        "id": "lTbpZlmMSeOq",
        "outputId": "6b0c93f6-189c-4975-f544-3b0ea5656c06"
      },
      "execution_count": 53,
      "outputs": [
        {
          "output_type": "execute_result",
          "data": {
            "text/plain": [
              "0.6"
            ]
          },
          "metadata": {},
          "execution_count": 53
        }
      ]
    },
    {
      "cell_type": "markdown",
      "source": [
        " - 군집분석: k-means"
      ],
      "metadata": {
        "id": "xpg7WAqBWGVR"
      }
    },
    {
      "cell_type": "code",
      "source": [
        "from sklearn.cluster import KMeans\n",
        "\n",
        "# 5개 집합으로 군집화 수행. 예제를 위해 동일한 클러스터링 결과 도출용 random_state=0\n",
        "km_cluster = KMeans(n_clusters=4)\n",
        "km_cluster.fit(tfidf_matrix_train)  #DTM을 입력으로 넣음"
      ],
      "metadata": {
        "id": "YRXb8TPFRNkp",
        "colab": {
          "base_uri": "https://localhost:8080/",
          "height": 131
        },
        "outputId": "e96f892d-06df-4c4d-9a4c-1bbf05c061fc"
      },
      "execution_count": 54,
      "outputs": [
        {
          "output_type": "stream",
          "name": "stderr",
          "text": [
            "/usr/local/lib/python3.10/dist-packages/sklearn/cluster/_kmeans.py:1416: FutureWarning: The default value of `n_init` will change from 10 to 'auto' in 1.4. Set the value of `n_init` explicitly to suppress the warning\n",
            "  super()._check_params_vs_input(X, default_n_init=10)\n"
          ]
        },
        {
          "output_type": "execute_result",
          "data": {
            "text/plain": [
              "KMeans(n_clusters=4)"
            ],
            "text/html": [
              "<style>#sk-container-id-2 {color: black;}#sk-container-id-2 pre{padding: 0;}#sk-container-id-2 div.sk-toggleable {background-color: white;}#sk-container-id-2 label.sk-toggleable__label {cursor: pointer;display: block;width: 100%;margin-bottom: 0;padding: 0.3em;box-sizing: border-box;text-align: center;}#sk-container-id-2 label.sk-toggleable__label-arrow:before {content: \"▸\";float: left;margin-right: 0.25em;color: #696969;}#sk-container-id-2 label.sk-toggleable__label-arrow:hover:before {color: black;}#sk-container-id-2 div.sk-estimator:hover label.sk-toggleable__label-arrow:before {color: black;}#sk-container-id-2 div.sk-toggleable__content {max-height: 0;max-width: 0;overflow: hidden;text-align: left;background-color: #f0f8ff;}#sk-container-id-2 div.sk-toggleable__content pre {margin: 0.2em;color: black;border-radius: 0.25em;background-color: #f0f8ff;}#sk-container-id-2 input.sk-toggleable__control:checked~div.sk-toggleable__content {max-height: 200px;max-width: 100%;overflow: auto;}#sk-container-id-2 input.sk-toggleable__control:checked~label.sk-toggleable__label-arrow:before {content: \"▾\";}#sk-container-id-2 div.sk-estimator input.sk-toggleable__control:checked~label.sk-toggleable__label {background-color: #d4ebff;}#sk-container-id-2 div.sk-label input.sk-toggleable__control:checked~label.sk-toggleable__label {background-color: #d4ebff;}#sk-container-id-2 input.sk-hidden--visually {border: 0;clip: rect(1px 1px 1px 1px);clip: rect(1px, 1px, 1px, 1px);height: 1px;margin: -1px;overflow: hidden;padding: 0;position: absolute;width: 1px;}#sk-container-id-2 div.sk-estimator {font-family: monospace;background-color: #f0f8ff;border: 1px dotted black;border-radius: 0.25em;box-sizing: border-box;margin-bottom: 0.5em;}#sk-container-id-2 div.sk-estimator:hover {background-color: #d4ebff;}#sk-container-id-2 div.sk-parallel-item::after {content: \"\";width: 100%;border-bottom: 1px solid gray;flex-grow: 1;}#sk-container-id-2 div.sk-label:hover label.sk-toggleable__label {background-color: #d4ebff;}#sk-container-id-2 div.sk-serial::before {content: \"\";position: absolute;border-left: 1px solid gray;box-sizing: border-box;top: 0;bottom: 0;left: 50%;z-index: 0;}#sk-container-id-2 div.sk-serial {display: flex;flex-direction: column;align-items: center;background-color: white;padding-right: 0.2em;padding-left: 0.2em;position: relative;}#sk-container-id-2 div.sk-item {position: relative;z-index: 1;}#sk-container-id-2 div.sk-parallel {display: flex;align-items: stretch;justify-content: center;background-color: white;position: relative;}#sk-container-id-2 div.sk-item::before, #sk-container-id-2 div.sk-parallel-item::before {content: \"\";position: absolute;border-left: 1px solid gray;box-sizing: border-box;top: 0;bottom: 0;left: 50%;z-index: -1;}#sk-container-id-2 div.sk-parallel-item {display: flex;flex-direction: column;z-index: 1;position: relative;background-color: white;}#sk-container-id-2 div.sk-parallel-item:first-child::after {align-self: flex-end;width: 50%;}#sk-container-id-2 div.sk-parallel-item:last-child::after {align-self: flex-start;width: 50%;}#sk-container-id-2 div.sk-parallel-item:only-child::after {width: 0;}#sk-container-id-2 div.sk-dashed-wrapped {border: 1px dashed gray;margin: 0 0.4em 0.5em 0.4em;box-sizing: border-box;padding-bottom: 0.4em;background-color: white;}#sk-container-id-2 div.sk-label label {font-family: monospace;font-weight: bold;display: inline-block;line-height: 1.2em;}#sk-container-id-2 div.sk-label-container {text-align: center;}#sk-container-id-2 div.sk-container {/* jupyter's `normalize.less` sets `[hidden] { display: none; }` but bootstrap.min.css set `[hidden] { display: none !important; }` so we also need the `!important` here to be able to override the default hidden behavior on the sphinx rendered scikit-learn.org. See: https://github.com/scikit-learn/scikit-learn/issues/21755 */display: inline-block !important;position: relative;}#sk-container-id-2 div.sk-text-repr-fallback {display: none;}</style><div id=\"sk-container-id-2\" class=\"sk-top-container\"><div class=\"sk-text-repr-fallback\"><pre>KMeans(n_clusters=4)</pre><b>In a Jupyter environment, please rerun this cell to show the HTML representation or trust the notebook. <br />On GitHub, the HTML representation is unable to render, please try loading this page with nbviewer.org.</b></div><div class=\"sk-container\" hidden><div class=\"sk-item\"><div class=\"sk-estimator sk-toggleable\"><input class=\"sk-toggleable__control sk-hidden--visually\" id=\"sk-estimator-id-2\" type=\"checkbox\" checked><label for=\"sk-estimator-id-2\" class=\"sk-toggleable__label sk-toggleable__label-arrow\">KMeans</label><div class=\"sk-toggleable__content\"><pre>KMeans(n_clusters=4)</pre></div></div></div></div></div>"
            ]
          },
          "metadata": {},
          "execution_count": 54
        }
      ]
    },
    {
      "cell_type": "code",
      "source": [
        "for i in range(3,15):\n",
        " print(i, KMeans(n_clusters=i).fit(tfidf_matrix_train).inertia_)"
      ],
      "metadata": {
        "colab": {
          "base_uri": "https://localhost:8080/"
        },
        "id": "dBbQ41_GcCC0",
        "outputId": "dc3279dc-6bb3-4d69-d398-039b2d5ed89f"
      },
      "execution_count": 55,
      "outputs": [
        {
          "output_type": "stream",
          "name": "stdout",
          "text": [
            "3 1095.9013558053325\n",
            "4 1086.5253080954537\n",
            "5 1077.9448227967962\n",
            "6 1067.4475877503148\n",
            "7 1059.8644131052138\n",
            "8 1056.616950416114\n",
            "9 1045.1122942347015\n",
            "10 1038.0267422961367\n",
            "11 1033.8898205201092\n",
            "12 1028.0306266658863\n",
            "13 1020.4234358000913\n",
            "14 1015.5569180651871\n"
          ]
        }
      ]
    },
    {
      "cell_type": "code",
      "source": [
        "cluster_label = km_cluster.labels_\n",
        "cluster_label\n",
        "\n",
        "cluster_centers = km_cluster.cluster_centers_#각 군집이 갖는 38개 단어 tfidf의 평균\n",
        "#군집별 특성을 확인\n",
        "cluster_centers\n",
        "\n",
        "np.argmax( cluster_centers[1,:])  #군집별로 평균 tfidf가 가장 높은 단어를 확인\n"
      ],
      "metadata": {
        "colab": {
          "base_uri": "https://localhost:8080/"
        },
        "id": "3-WdfhU3ZVTd",
        "outputId": "27192485-5740-4177-8d3d-14b03c8fd632"
      },
      "execution_count": 56,
      "outputs": [
        {
          "output_type": "execute_result",
          "data": {
            "text/plain": [
              "343"
            ]
          },
          "metadata": {},
          "execution_count": 56
        }
      ]
    },
    {
      "cell_type": "code",
      "source": [
        "cluster_label = km_cluster.labels_\n",
        "cluster_label #각각의 document가 몇번 군집인지를 알려주는 결과\n",
        "\n",
        "cluster_centers = km_cluster.cluster_centers_#각 군집이 갖는 38개 단어 tfidf의 평균\n",
        "#군집별 특성을 확인\n",
        "np.argmax( cluster_centers[1,:])  #군집별로 평균 tfidf가 가장 높은 단어를 확인\n",
        "\n",
        "#print(cluster_centers)\n",
        "np.argmax( cluster_centers[1,:])  #군집별로 평균 tfidf가 가장 높은 단어를 확인\n"
      ],
      "metadata": {
        "id": "TyTwLPTbZNGX",
        "colab": {
          "base_uri": "https://localhost:8080/"
        },
        "outputId": "9a9788a6-a214-4381-990c-c6b723ae1a90"
      },
      "execution_count": 57,
      "outputs": [
        {
          "output_type": "execute_result",
          "data": {
            "text/plain": [
              "343"
            ]
          },
          "metadata": {},
          "execution_count": 57
        }
      ]
    },
    {
      "cell_type": "code",
      "source": [
        "print( train_df.document[0])\n",
        "print( train_df.document[2])"
      ],
      "metadata": {
        "colab": {
          "base_uri": "https://localhost:8080/"
        },
        "id": "lNIbMXunxxTy",
        "outputId": "c5777fad-205f-450e-eeb1-14a342b4b230"
      },
      "execution_count": 58,
      "outputs": [
        {
          "output_type": "stream",
          "name": "stdout",
          "text": [
            "아 더빙.. 진짜 짜증나네요 목소리\n",
            "너무재밓었다그래서보는것을추천한다\n"
          ]
        }
      ]
    },
    {
      "cell_type": "code",
      "source": [
        "train['cluster_label'] = cluster_label\n",
        "train.head()"
      ],
      "metadata": {
        "id": "CkbNmGOvRNnW",
        "colab": {
          "base_uri": "https://localhost:8080/",
          "height": 206
        },
        "outputId": "81b918a3-5119-433a-dd5d-c3b422305b21"
      },
      "execution_count": 59,
      "outputs": [
        {
          "output_type": "execute_result",
          "data": {
            "text/plain": [
              "           id                                           document  label  \\\n",
              "832   3674831           영화관에서 보기엔 돈아까웠다;;;;;....... 솔직히 재미없었다 ㅜㅜ      0   \n",
              "123   7469033                                            별점10점가자      1   \n",
              "1030  8626168                             모든배우들이 연기력이 굿 ~~최고의드라마      1   \n",
              "1126  7505936               원작 소설을 안읽은 사람들은 진짜 보면서 답답합니다.. 특히 엔딩      0   \n",
              "320   9182989  2009년에 만들어진것치곤 재밌음 영화가 길어서 좀 다듬었으면 ..소재도 좋고 몰입...      1   \n",
              "\n",
              "      cluster_label  \n",
              "832               0  \n",
              "123               0  \n",
              "1030              1  \n",
              "1126              0  \n",
              "320               0  "
            ],
            "text/html": [
              "\n",
              "  <div id=\"df-c34c8ce5-cd51-45a6-bb7d-f8c703b69a74\" class=\"colab-df-container\">\n",
              "    <div>\n",
              "<style scoped>\n",
              "    .dataframe tbody tr th:only-of-type {\n",
              "        vertical-align: middle;\n",
              "    }\n",
              "\n",
              "    .dataframe tbody tr th {\n",
              "        vertical-align: top;\n",
              "    }\n",
              "\n",
              "    .dataframe thead th {\n",
              "        text-align: right;\n",
              "    }\n",
              "</style>\n",
              "<table border=\"1\" class=\"dataframe\">\n",
              "  <thead>\n",
              "    <tr style=\"text-align: right;\">\n",
              "      <th></th>\n",
              "      <th>id</th>\n",
              "      <th>document</th>\n",
              "      <th>label</th>\n",
              "      <th>cluster_label</th>\n",
              "    </tr>\n",
              "  </thead>\n",
              "  <tbody>\n",
              "    <tr>\n",
              "      <th>832</th>\n",
              "      <td>3674831</td>\n",
              "      <td>영화관에서 보기엔 돈아까웠다;;;;;....... 솔직히 재미없었다 ㅜㅜ</td>\n",
              "      <td>0</td>\n",
              "      <td>0</td>\n",
              "    </tr>\n",
              "    <tr>\n",
              "      <th>123</th>\n",
              "      <td>7469033</td>\n",
              "      <td>별점10점가자</td>\n",
              "      <td>1</td>\n",
              "      <td>0</td>\n",
              "    </tr>\n",
              "    <tr>\n",
              "      <th>1030</th>\n",
              "      <td>8626168</td>\n",
              "      <td>모든배우들이 연기력이 굿 ~~최고의드라마</td>\n",
              "      <td>1</td>\n",
              "      <td>1</td>\n",
              "    </tr>\n",
              "    <tr>\n",
              "      <th>1126</th>\n",
              "      <td>7505936</td>\n",
              "      <td>원작 소설을 안읽은 사람들은 진짜 보면서 답답합니다.. 특히 엔딩</td>\n",
              "      <td>0</td>\n",
              "      <td>0</td>\n",
              "    </tr>\n",
              "    <tr>\n",
              "      <th>320</th>\n",
              "      <td>9182989</td>\n",
              "      <td>2009년에 만들어진것치곤 재밌음 영화가 길어서 좀 다듬었으면 ..소재도 좋고 몰입...</td>\n",
              "      <td>1</td>\n",
              "      <td>0</td>\n",
              "    </tr>\n",
              "  </tbody>\n",
              "</table>\n",
              "</div>\n",
              "    <div class=\"colab-df-buttons\">\n",
              "\n",
              "  <div class=\"colab-df-container\">\n",
              "    <button class=\"colab-df-convert\" onclick=\"convertToInteractive('df-c34c8ce5-cd51-45a6-bb7d-f8c703b69a74')\"\n",
              "            title=\"Convert this dataframe to an interactive table.\"\n",
              "            style=\"display:none;\">\n",
              "\n",
              "  <svg xmlns=\"http://www.w3.org/2000/svg\" height=\"24px\" viewBox=\"0 -960 960 960\">\n",
              "    <path d=\"M120-120v-720h720v720H120Zm60-500h600v-160H180v160Zm220 220h160v-160H400v160Zm0 220h160v-160H400v160ZM180-400h160v-160H180v160Zm440 0h160v-160H620v160ZM180-180h160v-160H180v160Zm440 0h160v-160H620v160Z\"/>\n",
              "  </svg>\n",
              "    </button>\n",
              "\n",
              "  <style>\n",
              "    .colab-df-container {\n",
              "      display:flex;\n",
              "      gap: 12px;\n",
              "    }\n",
              "\n",
              "    .colab-df-convert {\n",
              "      background-color: #E8F0FE;\n",
              "      border: none;\n",
              "      border-radius: 50%;\n",
              "      cursor: pointer;\n",
              "      display: none;\n",
              "      fill: #1967D2;\n",
              "      height: 32px;\n",
              "      padding: 0 0 0 0;\n",
              "      width: 32px;\n",
              "    }\n",
              "\n",
              "    .colab-df-convert:hover {\n",
              "      background-color: #E2EBFA;\n",
              "      box-shadow: 0px 1px 2px rgba(60, 64, 67, 0.3), 0px 1px 3px 1px rgba(60, 64, 67, 0.15);\n",
              "      fill: #174EA6;\n",
              "    }\n",
              "\n",
              "    .colab-df-buttons div {\n",
              "      margin-bottom: 4px;\n",
              "    }\n",
              "\n",
              "    [theme=dark] .colab-df-convert {\n",
              "      background-color: #3B4455;\n",
              "      fill: #D2E3FC;\n",
              "    }\n",
              "\n",
              "    [theme=dark] .colab-df-convert:hover {\n",
              "      background-color: #434B5C;\n",
              "      box-shadow: 0px 1px 3px 1px rgba(0, 0, 0, 0.15);\n",
              "      filter: drop-shadow(0px 1px 2px rgba(0, 0, 0, 0.3));\n",
              "      fill: #FFFFFF;\n",
              "    }\n",
              "  </style>\n",
              "\n",
              "    <script>\n",
              "      const buttonEl =\n",
              "        document.querySelector('#df-c34c8ce5-cd51-45a6-bb7d-f8c703b69a74 button.colab-df-convert');\n",
              "      buttonEl.style.display =\n",
              "        google.colab.kernel.accessAllowed ? 'block' : 'none';\n",
              "\n",
              "      async function convertToInteractive(key) {\n",
              "        const element = document.querySelector('#df-c34c8ce5-cd51-45a6-bb7d-f8c703b69a74');\n",
              "        const dataTable =\n",
              "          await google.colab.kernel.invokeFunction('convertToInteractive',\n",
              "                                                    [key], {});\n",
              "        if (!dataTable) return;\n",
              "\n",
              "        const docLinkHtml = 'Like what you see? Visit the ' +\n",
              "          '<a target=\"_blank\" href=https://colab.research.google.com/notebooks/data_table.ipynb>data table notebook</a>'\n",
              "          + ' to learn more about interactive tables.';\n",
              "        element.innerHTML = '';\n",
              "        dataTable['output_type'] = 'display_data';\n",
              "        await google.colab.output.renderOutput(dataTable, element);\n",
              "        const docLink = document.createElement('div');\n",
              "        docLink.innerHTML = docLinkHtml;\n",
              "        element.appendChild(docLink);\n",
              "      }\n",
              "    </script>\n",
              "  </div>\n",
              "\n",
              "\n",
              "<div id=\"df-9d07a105-8c73-4c2a-9e7a-a1eb49fdab4f\">\n",
              "  <button class=\"colab-df-quickchart\" onclick=\"quickchart('df-9d07a105-8c73-4c2a-9e7a-a1eb49fdab4f')\"\n",
              "            title=\"Suggest charts\"\n",
              "            style=\"display:none;\">\n",
              "\n",
              "<svg xmlns=\"http://www.w3.org/2000/svg\" height=\"24px\"viewBox=\"0 0 24 24\"\n",
              "     width=\"24px\">\n",
              "    <g>\n",
              "        <path d=\"M19 3H5c-1.1 0-2 .9-2 2v14c0 1.1.9 2 2 2h14c1.1 0 2-.9 2-2V5c0-1.1-.9-2-2-2zM9 17H7v-7h2v7zm4 0h-2V7h2v10zm4 0h-2v-4h2v4z\"/>\n",
              "    </g>\n",
              "</svg>\n",
              "  </button>\n",
              "\n",
              "<style>\n",
              "  .colab-df-quickchart {\n",
              "      --bg-color: #E8F0FE;\n",
              "      --fill-color: #1967D2;\n",
              "      --hover-bg-color: #E2EBFA;\n",
              "      --hover-fill-color: #174EA6;\n",
              "      --disabled-fill-color: #AAA;\n",
              "      --disabled-bg-color: #DDD;\n",
              "  }\n",
              "\n",
              "  [theme=dark] .colab-df-quickchart {\n",
              "      --bg-color: #3B4455;\n",
              "      --fill-color: #D2E3FC;\n",
              "      --hover-bg-color: #434B5C;\n",
              "      --hover-fill-color: #FFFFFF;\n",
              "      --disabled-bg-color: #3B4455;\n",
              "      --disabled-fill-color: #666;\n",
              "  }\n",
              "\n",
              "  .colab-df-quickchart {\n",
              "    background-color: var(--bg-color);\n",
              "    border: none;\n",
              "    border-radius: 50%;\n",
              "    cursor: pointer;\n",
              "    display: none;\n",
              "    fill: var(--fill-color);\n",
              "    height: 32px;\n",
              "    padding: 0;\n",
              "    width: 32px;\n",
              "  }\n",
              "\n",
              "  .colab-df-quickchart:hover {\n",
              "    background-color: var(--hover-bg-color);\n",
              "    box-shadow: 0 1px 2px rgba(60, 64, 67, 0.3), 0 1px 3px 1px rgba(60, 64, 67, 0.15);\n",
              "    fill: var(--button-hover-fill-color);\n",
              "  }\n",
              "\n",
              "  .colab-df-quickchart-complete:disabled,\n",
              "  .colab-df-quickchart-complete:disabled:hover {\n",
              "    background-color: var(--disabled-bg-color);\n",
              "    fill: var(--disabled-fill-color);\n",
              "    box-shadow: none;\n",
              "  }\n",
              "\n",
              "  .colab-df-spinner {\n",
              "    border: 2px solid var(--fill-color);\n",
              "    border-color: transparent;\n",
              "    border-bottom-color: var(--fill-color);\n",
              "    animation:\n",
              "      spin 1s steps(1) infinite;\n",
              "  }\n",
              "\n",
              "  @keyframes spin {\n",
              "    0% {\n",
              "      border-color: transparent;\n",
              "      border-bottom-color: var(--fill-color);\n",
              "      border-left-color: var(--fill-color);\n",
              "    }\n",
              "    20% {\n",
              "      border-color: transparent;\n",
              "      border-left-color: var(--fill-color);\n",
              "      border-top-color: var(--fill-color);\n",
              "    }\n",
              "    30% {\n",
              "      border-color: transparent;\n",
              "      border-left-color: var(--fill-color);\n",
              "      border-top-color: var(--fill-color);\n",
              "      border-right-color: var(--fill-color);\n",
              "    }\n",
              "    40% {\n",
              "      border-color: transparent;\n",
              "      border-right-color: var(--fill-color);\n",
              "      border-top-color: var(--fill-color);\n",
              "    }\n",
              "    60% {\n",
              "      border-color: transparent;\n",
              "      border-right-color: var(--fill-color);\n",
              "    }\n",
              "    80% {\n",
              "      border-color: transparent;\n",
              "      border-right-color: var(--fill-color);\n",
              "      border-bottom-color: var(--fill-color);\n",
              "    }\n",
              "    90% {\n",
              "      border-color: transparent;\n",
              "      border-bottom-color: var(--fill-color);\n",
              "    }\n",
              "  }\n",
              "</style>\n",
              "\n",
              "  <script>\n",
              "    async function quickchart(key) {\n",
              "      const quickchartButtonEl =\n",
              "        document.querySelector('#' + key + ' button');\n",
              "      quickchartButtonEl.disabled = true;  // To prevent multiple clicks.\n",
              "      quickchartButtonEl.classList.add('colab-df-spinner');\n",
              "      try {\n",
              "        const charts = await google.colab.kernel.invokeFunction(\n",
              "            'suggestCharts', [key], {});\n",
              "      } catch (error) {\n",
              "        console.error('Error during call to suggestCharts:', error);\n",
              "      }\n",
              "      quickchartButtonEl.classList.remove('colab-df-spinner');\n",
              "      quickchartButtonEl.classList.add('colab-df-quickchart-complete');\n",
              "    }\n",
              "    (() => {\n",
              "      let quickchartButtonEl =\n",
              "        document.querySelector('#df-9d07a105-8c73-4c2a-9e7a-a1eb49fdab4f button');\n",
              "      quickchartButtonEl.style.display =\n",
              "        google.colab.kernel.accessAllowed ? 'block' : 'none';\n",
              "    })();\n",
              "  </script>\n",
              "</div>\n",
              "\n",
              "    </div>\n",
              "  </div>\n"
            ],
            "application/vnd.google.colaboratory.intrinsic+json": {
              "type": "dataframe",
              "variable_name": "train",
              "summary": "{\n  \"name\": \"train\",\n  \"rows\": 1200,\n  \"fields\": [\n    {\n      \"column\": \"id\",\n      \"properties\": {\n        \"dtype\": \"number\",\n        \"std\": 2959480,\n        \"min\": 23929,\n        \"max\": 10275296,\n        \"num_unique_values\": 1200,\n        \"samples\": [\n          9466607,\n          6714986,\n          4550608\n        ],\n        \"semantic_type\": \"\",\n        \"description\": \"\"\n      }\n    },\n    {\n      \"column\": \"document\",\n      \"properties\": {\n        \"dtype\": \"string\",\n        \"num_unique_values\": 1198,\n        \"samples\": [\n          \"\\uc7ac\\ubc0c\\uac8c \\ubd24\\uc2b5\\ub2c8\\ub2e4,, \\uadf8\\uc800 \\ubb38\\ud5cc\\uc5d0 \\uc801\\ud78c \\ubb38\\ub780\\ud55c \\uc0ac\\ub3c4\\uc138\\uc790\\uac00 \\uc544\\ub2cc, \\uc815\\uc870\\uc758 \\uc544\\ubc84\\uc9c0\\ub85c\\uc11c \\uadf8 \\uadf8\\ub987\\uc774 \\uc5b4\\ub290 \\uc815\\ub3c4\\uc600\\ub294\\uc9c0 \\uc798 \\ubcf4\\uc5ec\\uc900 \\uc791\\ud488\\uc774 \\uc544\\ub2c8\\uc5c8\\ub098 \\uc2f6\\ub124\\uc694 \\uc2dc\\ub098\\ub9ac\\uc624\\ub3c4 \\uc2dc\\ub098\\ub9ac\\uc624\\uc9c0\\ub9cc \\ubc30\\uc6b0\\ub4e4 \\uc5f0\\uae30\\uac00 \\uc77c\\ud488\\uc774\\uc5c8\\uc2b5\\ub2c8\\ub2e4\",\n          \"\\uc88b\\uad6c\\ub098\",\n          \"\\ud48d\\uc815\\uc815\\uc740 \\uc5b4\\ucf00\\ub41c\\uac70\\uc9c0\\u314b\\u314b\\u314b\\uacfc\\ub3c4\\ud55c \\uc555\\ucd95\\uc73c\\ub85c \\uac1c\\uc5f0\\uc131\\uc5c6\\uc9c0\\ub9cc...\\ubc30\\uc6b0\\ub4e4\\uc774 \\ud638\\ud654\\ub85c\\uc6cc\\uc11c...\"\n        ],\n        \"semantic_type\": \"\",\n        \"description\": \"\"\n      }\n    },\n    {\n      \"column\": \"label\",\n      \"properties\": {\n        \"dtype\": \"number\",\n        \"std\": 0,\n        \"min\": 0,\n        \"max\": 1,\n        \"num_unique_values\": 2,\n        \"samples\": [\n          1,\n          0\n        ],\n        \"semantic_type\": \"\",\n        \"description\": \"\"\n      }\n    },\n    {\n      \"column\": \"cluster_label\",\n      \"properties\": {\n        \"dtype\": \"int32\",\n        \"num_unique_values\": 4,\n        \"samples\": [\n          1,\n          3\n        ],\n        \"semantic_type\": \"\",\n        \"description\": \"\"\n      }\n    }\n  ]\n}"
            }
          },
          "metadata": {},
          "execution_count": 59
        }
      ]
    },
    {
      "cell_type": "code",
      "source": [
        "from sklearn.cluster import KMeans\n",
        "\n",
        "# 3개의 집합으로 군집화\n",
        "km_cluster = KMeans(n_clusters=3) #군집의 갯수 지정\n",
        "km_cluster.fit(tfidf_matrix_train)\n",
        "cluster_label = km_cluster.labels_\n",
        "\n",
        "\n",
        "# 소속 클러스터를 cluster_label 컬럼으로 할당하고 cluster_label 값으로 정렬\n",
        "train['cluster_label'] = cluster_label\n",
        "train.sort_values(by='cluster_label')"
      ],
      "metadata": {
        "colab": {
          "base_uri": "https://localhost:8080/",
          "height": 480
        },
        "id": "KqZN8HOsSBSR",
        "outputId": "26acedad-e64a-43a0-a4cf-feb46ff7e016"
      },
      "execution_count": 60,
      "outputs": [
        {
          "output_type": "stream",
          "name": "stderr",
          "text": [
            "/usr/local/lib/python3.10/dist-packages/sklearn/cluster/_kmeans.py:1416: FutureWarning: The default value of `n_init` will change from 10 to 'auto' in 1.4. Set the value of `n_init` explicitly to suppress the warning\n",
            "  super()._check_params_vs_input(X, default_n_init=10)\n"
          ]
        },
        {
          "output_type": "execute_result",
          "data": {
            "text/plain": [
              "            id                                           document  label  \\\n",
              "518    9869002  조잡하고 유치한 저예산 3류 B급 영화다.. 스토리에 깊이감도 없고 전체적으로 루즈하다.      0   \n",
              "786   10155376  진짜 언제 90분이 지나갔는지 모를정도로 몰입해서보고 정말 너무 재미있게 봄... ...      1   \n",
              "1158   3576721                                             목포.. 붹      0   \n",
              "111    2304429          왕짜증.....아주 전개를 짬뽕으로 믹스했구나...음향만 무섭게하네..하아      0   \n",
              "1361   4675153    이런 영화를 볼 수 있어서 ... ㅠㅠ 이제 정말 아픔이 없었으면 좋겠는데 말이죠..      1   \n",
              "...        ...                                                ...    ...   \n",
              "1079   8744028  잘 만들었다. 중국의 현실을 꾸밈없이 보여 주는 영화이다. 영화 내내 중국에 와 있...      1   \n",
              "969    3889736           본지 수OO이 지나도 아직도 생생함. 고양이 귀신의 복수가 진짜 무서웠지      1   \n",
              "381    9673595                          진짜 어마어마한 여운을 주는 멜로 영화에요.ㅎ      1   \n",
              "1461   8454757  한편의 영화에 너무도 많은걸 하려구 한거 같은데 결국 이것도 저것도 아닌 영화가 되...      0   \n",
              "175    8570013  이 영화 머임????내가 왜 받아 봤을까? 그것이 알고싶다....이 영화는 배우들과...      0   \n",
              "\n",
              "      cluster_label  \n",
              "518               0  \n",
              "786               0  \n",
              "1158              0  \n",
              "111               0  \n",
              "1361              0  \n",
              "...             ...  \n",
              "1079              2  \n",
              "969               2  \n",
              "381               2  \n",
              "1461              2  \n",
              "175               2  \n",
              "\n",
              "[1200 rows x 4 columns]"
            ],
            "text/html": [
              "\n",
              "  <div id=\"df-6526f78c-01e1-4d5f-99cc-c4a1b5623154\" class=\"colab-df-container\">\n",
              "    <div>\n",
              "<style scoped>\n",
              "    .dataframe tbody tr th:only-of-type {\n",
              "        vertical-align: middle;\n",
              "    }\n",
              "\n",
              "    .dataframe tbody tr th {\n",
              "        vertical-align: top;\n",
              "    }\n",
              "\n",
              "    .dataframe thead th {\n",
              "        text-align: right;\n",
              "    }\n",
              "</style>\n",
              "<table border=\"1\" class=\"dataframe\">\n",
              "  <thead>\n",
              "    <tr style=\"text-align: right;\">\n",
              "      <th></th>\n",
              "      <th>id</th>\n",
              "      <th>document</th>\n",
              "      <th>label</th>\n",
              "      <th>cluster_label</th>\n",
              "    </tr>\n",
              "  </thead>\n",
              "  <tbody>\n",
              "    <tr>\n",
              "      <th>518</th>\n",
              "      <td>9869002</td>\n",
              "      <td>조잡하고 유치한 저예산 3류 B급 영화다.. 스토리에 깊이감도 없고 전체적으로 루즈하다.</td>\n",
              "      <td>0</td>\n",
              "      <td>0</td>\n",
              "    </tr>\n",
              "    <tr>\n",
              "      <th>786</th>\n",
              "      <td>10155376</td>\n",
              "      <td>진짜 언제 90분이 지나갔는지 모를정도로 몰입해서보고 정말 너무 재미있게 봄... ...</td>\n",
              "      <td>1</td>\n",
              "      <td>0</td>\n",
              "    </tr>\n",
              "    <tr>\n",
              "      <th>1158</th>\n",
              "      <td>3576721</td>\n",
              "      <td>목포.. 붹</td>\n",
              "      <td>0</td>\n",
              "      <td>0</td>\n",
              "    </tr>\n",
              "    <tr>\n",
              "      <th>111</th>\n",
              "      <td>2304429</td>\n",
              "      <td>왕짜증.....아주 전개를 짬뽕으로 믹스했구나...음향만 무섭게하네..하아</td>\n",
              "      <td>0</td>\n",
              "      <td>0</td>\n",
              "    </tr>\n",
              "    <tr>\n",
              "      <th>1361</th>\n",
              "      <td>4675153</td>\n",
              "      <td>이런 영화를 볼 수 있어서 ... ㅠㅠ 이제 정말 아픔이 없었으면 좋겠는데 말이죠..</td>\n",
              "      <td>1</td>\n",
              "      <td>0</td>\n",
              "    </tr>\n",
              "    <tr>\n",
              "      <th>...</th>\n",
              "      <td>...</td>\n",
              "      <td>...</td>\n",
              "      <td>...</td>\n",
              "      <td>...</td>\n",
              "    </tr>\n",
              "    <tr>\n",
              "      <th>1079</th>\n",
              "      <td>8744028</td>\n",
              "      <td>잘 만들었다. 중국의 현실을 꾸밈없이 보여 주는 영화이다. 영화 내내 중국에 와 있...</td>\n",
              "      <td>1</td>\n",
              "      <td>2</td>\n",
              "    </tr>\n",
              "    <tr>\n",
              "      <th>969</th>\n",
              "      <td>3889736</td>\n",
              "      <td>본지 수OO이 지나도 아직도 생생함. 고양이 귀신의 복수가 진짜 무서웠지</td>\n",
              "      <td>1</td>\n",
              "      <td>2</td>\n",
              "    </tr>\n",
              "    <tr>\n",
              "      <th>381</th>\n",
              "      <td>9673595</td>\n",
              "      <td>진짜 어마어마한 여운을 주는 멜로 영화에요.ㅎ</td>\n",
              "      <td>1</td>\n",
              "      <td>2</td>\n",
              "    </tr>\n",
              "    <tr>\n",
              "      <th>1461</th>\n",
              "      <td>8454757</td>\n",
              "      <td>한편의 영화에 너무도 많은걸 하려구 한거 같은데 결국 이것도 저것도 아닌 영화가 되...</td>\n",
              "      <td>0</td>\n",
              "      <td>2</td>\n",
              "    </tr>\n",
              "    <tr>\n",
              "      <th>175</th>\n",
              "      <td>8570013</td>\n",
              "      <td>이 영화 머임????내가 왜 받아 봤을까? 그것이 알고싶다....이 영화는 배우들과...</td>\n",
              "      <td>0</td>\n",
              "      <td>2</td>\n",
              "    </tr>\n",
              "  </tbody>\n",
              "</table>\n",
              "<p>1200 rows × 4 columns</p>\n",
              "</div>\n",
              "    <div class=\"colab-df-buttons\">\n",
              "\n",
              "  <div class=\"colab-df-container\">\n",
              "    <button class=\"colab-df-convert\" onclick=\"convertToInteractive('df-6526f78c-01e1-4d5f-99cc-c4a1b5623154')\"\n",
              "            title=\"Convert this dataframe to an interactive table.\"\n",
              "            style=\"display:none;\">\n",
              "\n",
              "  <svg xmlns=\"http://www.w3.org/2000/svg\" height=\"24px\" viewBox=\"0 -960 960 960\">\n",
              "    <path d=\"M120-120v-720h720v720H120Zm60-500h600v-160H180v160Zm220 220h160v-160H400v160Zm0 220h160v-160H400v160ZM180-400h160v-160H180v160Zm440 0h160v-160H620v160ZM180-180h160v-160H180v160Zm440 0h160v-160H620v160Z\"/>\n",
              "  </svg>\n",
              "    </button>\n",
              "\n",
              "  <style>\n",
              "    .colab-df-container {\n",
              "      display:flex;\n",
              "      gap: 12px;\n",
              "    }\n",
              "\n",
              "    .colab-df-convert {\n",
              "      background-color: #E8F0FE;\n",
              "      border: none;\n",
              "      border-radius: 50%;\n",
              "      cursor: pointer;\n",
              "      display: none;\n",
              "      fill: #1967D2;\n",
              "      height: 32px;\n",
              "      padding: 0 0 0 0;\n",
              "      width: 32px;\n",
              "    }\n",
              "\n",
              "    .colab-df-convert:hover {\n",
              "      background-color: #E2EBFA;\n",
              "      box-shadow: 0px 1px 2px rgba(60, 64, 67, 0.3), 0px 1px 3px 1px rgba(60, 64, 67, 0.15);\n",
              "      fill: #174EA6;\n",
              "    }\n",
              "\n",
              "    .colab-df-buttons div {\n",
              "      margin-bottom: 4px;\n",
              "    }\n",
              "\n",
              "    [theme=dark] .colab-df-convert {\n",
              "      background-color: #3B4455;\n",
              "      fill: #D2E3FC;\n",
              "    }\n",
              "\n",
              "    [theme=dark] .colab-df-convert:hover {\n",
              "      background-color: #434B5C;\n",
              "      box-shadow: 0px 1px 3px 1px rgba(0, 0, 0, 0.15);\n",
              "      filter: drop-shadow(0px 1px 2px rgba(0, 0, 0, 0.3));\n",
              "      fill: #FFFFFF;\n",
              "    }\n",
              "  </style>\n",
              "\n",
              "    <script>\n",
              "      const buttonEl =\n",
              "        document.querySelector('#df-6526f78c-01e1-4d5f-99cc-c4a1b5623154 button.colab-df-convert');\n",
              "      buttonEl.style.display =\n",
              "        google.colab.kernel.accessAllowed ? 'block' : 'none';\n",
              "\n",
              "      async function convertToInteractive(key) {\n",
              "        const element = document.querySelector('#df-6526f78c-01e1-4d5f-99cc-c4a1b5623154');\n",
              "        const dataTable =\n",
              "          await google.colab.kernel.invokeFunction('convertToInteractive',\n",
              "                                                    [key], {});\n",
              "        if (!dataTable) return;\n",
              "\n",
              "        const docLinkHtml = 'Like what you see? Visit the ' +\n",
              "          '<a target=\"_blank\" href=https://colab.research.google.com/notebooks/data_table.ipynb>data table notebook</a>'\n",
              "          + ' to learn more about interactive tables.';\n",
              "        element.innerHTML = '';\n",
              "        dataTable['output_type'] = 'display_data';\n",
              "        await google.colab.output.renderOutput(dataTable, element);\n",
              "        const docLink = document.createElement('div');\n",
              "        docLink.innerHTML = docLinkHtml;\n",
              "        element.appendChild(docLink);\n",
              "      }\n",
              "    </script>\n",
              "  </div>\n",
              "\n",
              "\n",
              "<div id=\"df-55bb7fa6-d589-409d-a2da-8f12683b9adb\">\n",
              "  <button class=\"colab-df-quickchart\" onclick=\"quickchart('df-55bb7fa6-d589-409d-a2da-8f12683b9adb')\"\n",
              "            title=\"Suggest charts\"\n",
              "            style=\"display:none;\">\n",
              "\n",
              "<svg xmlns=\"http://www.w3.org/2000/svg\" height=\"24px\"viewBox=\"0 0 24 24\"\n",
              "     width=\"24px\">\n",
              "    <g>\n",
              "        <path d=\"M19 3H5c-1.1 0-2 .9-2 2v14c0 1.1.9 2 2 2h14c1.1 0 2-.9 2-2V5c0-1.1-.9-2-2-2zM9 17H7v-7h2v7zm4 0h-2V7h2v10zm4 0h-2v-4h2v4z\"/>\n",
              "    </g>\n",
              "</svg>\n",
              "  </button>\n",
              "\n",
              "<style>\n",
              "  .colab-df-quickchart {\n",
              "      --bg-color: #E8F0FE;\n",
              "      --fill-color: #1967D2;\n",
              "      --hover-bg-color: #E2EBFA;\n",
              "      --hover-fill-color: #174EA6;\n",
              "      --disabled-fill-color: #AAA;\n",
              "      --disabled-bg-color: #DDD;\n",
              "  }\n",
              "\n",
              "  [theme=dark] .colab-df-quickchart {\n",
              "      --bg-color: #3B4455;\n",
              "      --fill-color: #D2E3FC;\n",
              "      --hover-bg-color: #434B5C;\n",
              "      --hover-fill-color: #FFFFFF;\n",
              "      --disabled-bg-color: #3B4455;\n",
              "      --disabled-fill-color: #666;\n",
              "  }\n",
              "\n",
              "  .colab-df-quickchart {\n",
              "    background-color: var(--bg-color);\n",
              "    border: none;\n",
              "    border-radius: 50%;\n",
              "    cursor: pointer;\n",
              "    display: none;\n",
              "    fill: var(--fill-color);\n",
              "    height: 32px;\n",
              "    padding: 0;\n",
              "    width: 32px;\n",
              "  }\n",
              "\n",
              "  .colab-df-quickchart:hover {\n",
              "    background-color: var(--hover-bg-color);\n",
              "    box-shadow: 0 1px 2px rgba(60, 64, 67, 0.3), 0 1px 3px 1px rgba(60, 64, 67, 0.15);\n",
              "    fill: var(--button-hover-fill-color);\n",
              "  }\n",
              "\n",
              "  .colab-df-quickchart-complete:disabled,\n",
              "  .colab-df-quickchart-complete:disabled:hover {\n",
              "    background-color: var(--disabled-bg-color);\n",
              "    fill: var(--disabled-fill-color);\n",
              "    box-shadow: none;\n",
              "  }\n",
              "\n",
              "  .colab-df-spinner {\n",
              "    border: 2px solid var(--fill-color);\n",
              "    border-color: transparent;\n",
              "    border-bottom-color: var(--fill-color);\n",
              "    animation:\n",
              "      spin 1s steps(1) infinite;\n",
              "  }\n",
              "\n",
              "  @keyframes spin {\n",
              "    0% {\n",
              "      border-color: transparent;\n",
              "      border-bottom-color: var(--fill-color);\n",
              "      border-left-color: var(--fill-color);\n",
              "    }\n",
              "    20% {\n",
              "      border-color: transparent;\n",
              "      border-left-color: var(--fill-color);\n",
              "      border-top-color: var(--fill-color);\n",
              "    }\n",
              "    30% {\n",
              "      border-color: transparent;\n",
              "      border-left-color: var(--fill-color);\n",
              "      border-top-color: var(--fill-color);\n",
              "      border-right-color: var(--fill-color);\n",
              "    }\n",
              "    40% {\n",
              "      border-color: transparent;\n",
              "      border-right-color: var(--fill-color);\n",
              "      border-top-color: var(--fill-color);\n",
              "    }\n",
              "    60% {\n",
              "      border-color: transparent;\n",
              "      border-right-color: var(--fill-color);\n",
              "    }\n",
              "    80% {\n",
              "      border-color: transparent;\n",
              "      border-right-color: var(--fill-color);\n",
              "      border-bottom-color: var(--fill-color);\n",
              "    }\n",
              "    90% {\n",
              "      border-color: transparent;\n",
              "      border-bottom-color: var(--fill-color);\n",
              "    }\n",
              "  }\n",
              "</style>\n",
              "\n",
              "  <script>\n",
              "    async function quickchart(key) {\n",
              "      const quickchartButtonEl =\n",
              "        document.querySelector('#' + key + ' button');\n",
              "      quickchartButtonEl.disabled = true;  // To prevent multiple clicks.\n",
              "      quickchartButtonEl.classList.add('colab-df-spinner');\n",
              "      try {\n",
              "        const charts = await google.colab.kernel.invokeFunction(\n",
              "            'suggestCharts', [key], {});\n",
              "      } catch (error) {\n",
              "        console.error('Error during call to suggestCharts:', error);\n",
              "      }\n",
              "      quickchartButtonEl.classList.remove('colab-df-spinner');\n",
              "      quickchartButtonEl.classList.add('colab-df-quickchart-complete');\n",
              "    }\n",
              "    (() => {\n",
              "      let quickchartButtonEl =\n",
              "        document.querySelector('#df-55bb7fa6-d589-409d-a2da-8f12683b9adb button');\n",
              "      quickchartButtonEl.style.display =\n",
              "        google.colab.kernel.accessAllowed ? 'block' : 'none';\n",
              "    })();\n",
              "  </script>\n",
              "</div>\n",
              "\n",
              "    </div>\n",
              "  </div>\n"
            ],
            "application/vnd.google.colaboratory.intrinsic+json": {
              "type": "dataframe",
              "summary": "{\n  \"name\": \"train\",\n  \"rows\": 1200,\n  \"fields\": [\n    {\n      \"column\": \"id\",\n      \"properties\": {\n        \"dtype\": \"number\",\n        \"std\": 2959480,\n        \"min\": 23929,\n        \"max\": 10275296,\n        \"num_unique_values\": 1200,\n        \"samples\": [\n          403718,\n          10254587,\n          917164\n        ],\n        \"semantic_type\": \"\",\n        \"description\": \"\"\n      }\n    },\n    {\n      \"column\": \"document\",\n      \"properties\": {\n        \"dtype\": \"string\",\n        \"num_unique_values\": 1198,\n        \"samples\": [\n          \"\\uadf8\\ub798\\ub3c4 9.0\\uc740 \\ub118 \\ud6c4\\ud558\\uad70\\uc5ec. \\ud3c9\\uc810 7.2\",\n          \"\\ud639\\uc2dc \\uac10\\ub3c5\\uc774 \\ucc9c\\uc7ac\\uac00 \\uc544\\ub2d0\\uae4c\\ud558\\ub294 \\ub9d0\\ub3c4\\uc548\\ub418\\ub294 \\uc0dd\\uac01\\ub3c4 \\ud574\\ubcf8\\ub2e4...\\uc65c, \\uc218\\ub2a5\\ubb38\\uc81c \\uc798 \\ud480\\uace0 \\uc77c\\ubd80\\ub7ec \\uc624\\ub2f5\\ub9cc \\ucc0d\\uc5b4\\uc11c 0\\uc810 \\ub9de\\ub294 \\uc804\\uad6d 1\\ub4f1\\ucc98\\ub7fc..\\uc774 \\uc601\\ud654\\ub294 \\ub180\\ub77c\\uc6b0\\ub9ac\\ub9cc\\ud07c \\ub0b4\\uc801, \\uc678\\uc801\\uc778 \\uce21\\uba74\\uc5d0\\uc11c \\uc5c9\\ub9dd\\uc9c4\\ucc3d\\uc774\\ub2e4. \\uc5b4\\ub290 \\uac83 \\ud558\\ub098 \\uc815\\ub2f5\\uc744 \\ucc0d\\uc5b4\\uc11c \\ud3ec\\uc778\\ud2b8\\ub97c \\uc62c\\ub9b0 \\uac83\\uc774 \\uc5c6\\ub2e4.\",\n          \"\\ubaa8\\ub4e0\\uac8c 2%\\uc529 \\ub2e4 \\ubd80\\uc871\\ud588\\ub2e4...\\uc544\\ub2c8..50%\\uc529...\"\n        ],\n        \"semantic_type\": \"\",\n        \"description\": \"\"\n      }\n    },\n    {\n      \"column\": \"label\",\n      \"properties\": {\n        \"dtype\": \"number\",\n        \"std\": 0,\n        \"min\": 0,\n        \"max\": 1,\n        \"num_unique_values\": 2,\n        \"samples\": [\n          1,\n          0\n        ],\n        \"semantic_type\": \"\",\n        \"description\": \"\"\n      }\n    },\n    {\n      \"column\": \"cluster_label\",\n      \"properties\": {\n        \"dtype\": \"int32\",\n        \"num_unique_values\": 3,\n        \"samples\": [\n          0,\n          1\n        ],\n        \"semantic_type\": \"\",\n        \"description\": \"\"\n      }\n    }\n  ]\n}"
            }
          },
          "metadata": {},
          "execution_count": 60
        }
      ]
    },
    {
      "cell_type": "code",
      "source": [
        "cluster_centers = km_cluster.cluster_centers_\n",
        "print('cluster_centers shape :',cluster_centers.shape)\n",
        "print(cluster_centers)"
      ],
      "metadata": {
        "colab": {
          "base_uri": "https://localhost:8080/"
        },
        "id": "XmH4lAScSBVP",
        "outputId": "79e3838f-4f40-481e-e18c-05dd578577a1"
      },
      "execution_count": 61,
      "outputs": [
        {
          "output_type": "stream",
          "name": "stdout",
          "text": [
            "cluster_centers shape : (3, 503)\n",
            "[[0.00977513 0.01043814 0.         ... 0.00454117 0.         0.        ]\n",
            " [0.02078591 0.01264756 0.01032174 ... 0.00167403 0.00337142 0.00102943]\n",
            " [0.00956547 0.00552549 0.         ... 0.00142107 0.00385643 0.00331912]]\n"
          ]
        }
      ]
    },
    {
      "cell_type": "markdown",
      "source": [
        "- Hierarchical Clustering"
      ],
      "metadata": {
        "id": "sJ9f8daT7I_o"
      }
    },
    {
      "cell_type": "code",
      "source": [
        "from sklearn.cluster import AgglomerativeClustering\n",
        "hclust = AgglomerativeClustering(linkage='ward', n_clusters=10)\n",
        "#linkage ward, complete, average, 기본값은 ward (ward는 거리가 euclidean에서 가능)\n",
        "hclust.fit(np.asarray(tfidf_matrix_train.todense()))\n",
        "hclust.labels_\t#각 자료에 대한 클러스터 결과"
      ],
      "metadata": {
        "id": "fYebl6F55y5f",
        "colab": {
          "base_uri": "https://localhost:8080/"
        },
        "outputId": "737289a4-af19-40a9-8273-7fbeb53f371d"
      },
      "execution_count": 62,
      "outputs": [
        {
          "output_type": "execute_result",
          "data": {
            "text/plain": [
              "array([1, 6, 1, ..., 9, 1, 1])"
            ]
          },
          "metadata": {},
          "execution_count": 62
        }
      ]
    },
    {
      "cell_type": "markdown",
      "source": [
        "#5. 웹수집과 자연어처리"
      ],
      "metadata": {
        "id": "-8IXtmhqWH88"
      }
    },
    {
      "cell_type": "markdown",
      "source": [
        " - 수집대상 뉴스 검색 및 제목 저장"
      ],
      "metadata": {
        "id": "4SYI8vb6yG5Y"
      }
    },
    {
      "cell_type": "code",
      "source": [
        "from bs4 import BeautifulSoup\n",
        "import urllib\n",
        "import numpy as np\n",
        "import pandas as pd\n",
        "import time\n",
        "\n",
        "#----------------------------------------------#\n",
        "#변경할 부분\n",
        "startdate = \"2023.04.01\"\n",
        "enddate = \"2023.04.02\"\n",
        "searchword = \"전기차\" #검색어\n",
        "#----------------------------------------------#\n",
        "\n",
        "base_url = \"https://search.naver.com/search.naver?where=news&sm=tab_pge&query\"+urllib.parse.urlencode([('',searchword)], doseq=True)+\"&sort=1&photo=3&field=0&pd=3&ds=\"+startdate+\"&de=\"+enddate+\"&mynews=1&office_type=0&office_section_code=0&news_office_checked=&nso=so:dd,p:from\"+startdate.replace(\".\", \"\")+\"to\"+enddate.replace(\".\", \"\")+\",a:all&mynews=0&start=\"\n",
        "titles = [ ]\n",
        "urls = [ ]\n",
        "i=1\n",
        "\n",
        "while True:\n",
        " try:\n",
        "    time.sleep(0.45)\n",
        "    url = base_url+str(i)\n",
        "    html = urllib.request.urlopen(url).read()\n",
        "    soup = BeautifulSoup(html, 'html.parser')\n",
        "    t_news = soup.select('a.news_tit')  #클래스 표시\n",
        "    t_len = len(t_news)\n",
        "\n",
        "    if t_len <1:\n",
        "        break\n",
        "\n",
        "    for j in np.arange(t_len)+1:\n",
        "            try:\n",
        "                titles.append(soup.select('a.news_tit')[j].text)\n",
        "                urls.append(soup.select('a.info')[j]['href'])\n",
        "            except Exception as e:\n",
        "                continue\n",
        "    i=i+10\n",
        "\n",
        " except Exception as e:\n",
        "    continue\n",
        "\n",
        "result = pd.DataFrame({\"Url\": urls, \"Title\":titles})\n",
        "result.Url[0] #1행 출력"
      ],
      "metadata": {
        "colab": {
          "base_uri": "https://localhost:8080/",
          "height": 35
        },
        "id": "DDtrZy-A4t1U",
        "outputId": "b8942393-4f70-40f4-db40-08149f5748c2"
      },
      "execution_count": 63,
      "outputs": [
        {
          "output_type": "execute_result",
          "data": {
            "text/plain": [
              "'https://n.news.naver.com/mnews/article/022/0003798643?sid=110'"
            ],
            "application/vnd.google.colaboratory.intrinsic+json": {
              "type": "string"
            }
          },
          "metadata": {},
          "execution_count": 63
        }
      ]
    },
    {
      "cell_type": "code",
      "source": [
        "\"news.naver.com\" in result.Url[0]"
      ],
      "metadata": {
        "colab": {
          "base_uri": "https://localhost:8080/"
        },
        "id": "6n8kTOG42bZZ",
        "outputId": "e4e7b68b-e3f8-4b59-a97f-da89fa638bca"
      },
      "execution_count": 64,
      "outputs": [
        {
          "output_type": "execute_result",
          "data": {
            "text/plain": [
              "True"
            ]
          },
          "metadata": {},
          "execution_count": 64
        }
      ]
    },
    {
      "cell_type": "markdown",
      "source": [
        " - 본문 수집"
      ],
      "metadata": {
        "id": "1PFFIKQUyUpF"
      }
    },
    {
      "cell_type": "code",
      "source": [
        "articles = []\n",
        "dates = []\n",
        "\n",
        "for i in result.Url:\n",
        "   try:\n",
        "    if( \"news.naver.com\" in i ):\n",
        "     print(i)\n",
        "     time.sleep(0.45)\n",
        "     html = urllib.request.urlopen(i).read()\n",
        "     soup = BeautifulSoup(html, 'html.parser')\n",
        "     news = soup.select('article#dic_area')[0].text #태그 뒤 id는 #, class는 .\n",
        "     news_date = soup.select('span.media_end_head_info_datestamp_time._ARTICLE_DATE_TIME')[0].text  #네이버 뉴스의 날짜 시간 부분 지정\n",
        "     articles.append(news)\n",
        "     dates.append(news_date.split()[0])\n",
        "   except Exception as e:\n",
        "    print(e)\n",
        "    continue\n"
      ],
      "metadata": {
        "id": "RpxuhJDuyGD7",
        "colab": {
          "base_uri": "https://localhost:8080/"
        },
        "outputId": "603646c9-6b9f-4241-8702-3793340a48b7"
      },
      "execution_count": 65,
      "outputs": [
        {
          "output_type": "stream",
          "name": "stdout",
          "text": [
            "https://n.news.naver.com/mnews/article/022/0003798643?sid=110\n",
            "https://n.news.naver.com/mnews/article/032/0003214807?sid=101\n",
            "https://n.news.naver.com/mnews/article/014/0004990601?sid=101\n",
            "https://n.news.naver.com/mnews/article/014/0004990590?sid=004\n",
            "https://n.news.naver.com/mnews/article/014/0004990585?sid=101\n",
            "https://n.news.naver.com/mnews/article/014/0004990511?sid=102\n",
            "https://n.news.naver.com/mnews/article/022/0003798569?sid=101\n",
            "https://n.news.naver.com/mnews/article/015/0004827699?sid=101\n",
            "https://n.news.naver.com/mnews/article/015/0004827693?sid=104\n",
            "https://n.news.naver.com/mnews/article/015/0004827686?sid=101\n",
            "https://n.news.naver.com/mnews/article/009/0005110510?sid=101\n",
            "https://n.news.naver.com/mnews/article/009/0005110501?sid=103\n",
            "https://n.news.naver.com/mnews/article/009/0005110502?sid=104\n",
            "https://n.news.naver.com/mnews/article/009/0005110500?sid=100\n",
            "https://n.news.naver.com/mnews/article/009/0005110493?sid=101\n",
            "https://n.news.naver.com/mnews/article/011/0004174234?sid=101\n",
            "https://n.news.naver.com/mnews/article/009/0005110378?sid=103\n",
            "https://n.news.naver.com/mnews/article/030/0003088202?sid=105\n",
            "https://n.news.naver.com/mnews/article/030/0003088198?sid=105\n",
            "https://n.news.naver.com/mnews/article/030/0003088188?sid=103\n",
            "https://n.news.naver.com/mnews/article/030/0003088143?sid=103\n",
            "https://n.news.naver.com/mnews/article/030/0003088123?sid=100\n",
            "https://n.news.naver.com/mnews/article/029/0002792320?sid=103\n",
            "https://n.news.naver.com/mnews/article/030/0003088119?sid=103\n",
            "https://n.news.naver.com/mnews/article/029/0002792303?sid=103\n",
            "https://n.news.naver.com/mnews/article/020/0003488833?sid=105\n",
            "https://n.news.naver.com/mnews/article/353/0000044615?sid=101\n",
            "https://n.news.naver.com/mnews/article/015/0004827510?sid=101\n"
          ]
        }
      ]
    },
    {
      "cell_type": "code",
      "source": [
        "# 수집된 내용을 표로 정리하기, news컬럼, date컬럼\n",
        "df = pd.DataFrame({'news':articles, 'date':dates})\n",
        "df"
      ],
      "metadata": {
        "id": "pbrwdRK05FeV",
        "colab": {
          "base_uri": "https://localhost:8080/",
          "height": 927
        },
        "outputId": "aacc1899-f269-4431-fb94-44c85b33a851"
      },
      "execution_count": 66,
      "outputs": [
        {
          "output_type": "execute_result",
          "data": {
            "text/plain": [
              "                                                 news         date\n",
              "0   \\nK배터리 공정 변경 없이 보조금 받아2년 후 中 핵심광물 수입 막힐 우려자원수입...  2023.04.02.\n",
              "1   \\n미 재무부, IRA 세부 지침 공개미국 정부가 전기차 보조금을 주는 인플레이션감...  2023.04.02.\n",
              "2   \\n삼성·현대차·SK 등 84개국 교섭총리 만나 부산엑스포 지지 요청LG 등 광화문...  2023.04.02.\n",
              "3   \\n\\n\\n\\n\\n 파이낸셜뉴스는 매년 문화콘텐츠를 주제로 한 글로벌 포럼을 개최한...  2023.04.02.\n",
              "4   \\n전기차에 안드로이드 오토 장착'미래차 청사진'애플 견제 동시에구글 어시스턴트 구...  2023.04.02.\n",
              "5   \\n지역 내 충전시설 905기 확충  【파이낸셜뉴스 인천=한갑수 기자】 인천시는 전...  2023.04.02.\n",
              "6   \\n반도체 3월 수출액 34.5% 급감IT기업들 1분기 ‘어닝쇼크’ 예고국제통화기금...  2023.04.02.\n",
              "7   \\nKB 금융매니저미국 기준금리 인하에 대한 기대감에 잠시 반등하던 증시가 최근 금...  2023.04.02.\n",
              "8   \\n상하이 당서기때부터 인연대외개방 맞물려 딜 성사 촉각일론 머스크 테슬라 최고경영...  2023.04.02.\n",
              "9   \\n\\t\\t\\t자동차 부품회사 LS오토모티브가 엄정우 전략사업본부장을 새 대표이사로...  2023.04.02.\n",
              "10  \\n에코프로비엠 올 주가 140%, 엘앤에프 69% 급등IRA 세부지침 발표 뒤 '...  2023.04.02.\n",
              "11  \\n'북미서 최종조립' 규정 유지…현대차그룹 대응책 부심리스·렌탈시장은 예외 인정대...  2023.04.02.\n",
              "12  \\n美日 핵심광물 협정으로FTA 지위 부여해 보조금법안주도 조 맨친 민주의원\"美외 ...  2023.04.02.\n",
              "13  \\n'경제안보 최일선' 재외공관장 4인에게 듣는 전략◆ 매경 특별좌담 ◆\\n\\n\\n...  2023.04.02.\n",
              "14  \\n2차전지 소재 대장주 과열논란\\n\\n\\n\\n미국 정부의 전기차 보조금 지급 세부...  2023.04.02.\n",
              "15  \\n[서경이 만난 사람-한화진 환경부 장관]◆대담=이상훈 경제부장환경·경제·사회 조...  2023.04.02.\n",
              "16  \\n토마스 클라인 벤츠코리아 사장한국인 고급 자동차 취향 뚜렷세계 첫 마이바흐센터 ...  2023.04.02.\n",
              "17  \\n\\t\\t\\t국산 배터리 장비가 일본 시장에 침투하고 있다. 성능과 가격 경쟁력에...  2023.04.02.\n",
              "18  \\n\\t\\t\\tLG마그나 이파워트레인(LG마그나)이 올해 설립 2년 만에 연 매출 ...  2023.04.02.\n",
              "19  \\n\\t\\t\\t제너럴모터스(GM)와 LG가 협력해 개발한 캐딜락의 차세대 전기 스포...  2023.04.02.\n",
              "20  \\n\\t\\t\\t기아의 첫 대형 플래그십 전기 스포츠유틸리티차(SUV) 'EV9'에 ...  2023.04.02.\n",
              "21  \\n\\t\\t\\t# 저출산·고령화 문제는 대한민국 미래를 위협하는 가장 큰 위기 요인...  2023.04.02.\n",
              "22  \\n\\n\\n\\n\\n아이오닉 5. 현대자동차 제공    현대자동차와 기아가 미국 시장...  2023.04.02.\n",
              "23  \\n\\t\\t\\t현대자동차그룹은 지난 1일 부산세계박람회 유치 홍보영상 '부산 시민들...  2023.04.02.\n",
              "24  \\n쏘나타 8세대, 완전변경급 20일 사전계약쌍용차·기아·벤츠·BMW도 잇달아 선봬...  2023.04.02.\n",
              "25  \\n‘첨단 방열 소재’ 세계시장 노리는 소울머티리얼 50여 년 쓰인 알루미나 대체할...  2023.04.01.\n",
              "26  \\n  \\n\\n\\n\\n조 바이든 미국 대통령과 낸시 펠로시 당시 하원의장이 지난해 ...  2023.04.01.\n",
              "27  \\n美 IRA 세부지침 발표한대당 최대 7500弗 보조금'광물 40%·부품 50%'...  2023.04.01."
            ],
            "text/html": [
              "\n",
              "  <div id=\"df-59aceba9-2d5b-46e4-ab9f-5ff7b429680d\" class=\"colab-df-container\">\n",
              "    <div>\n",
              "<style scoped>\n",
              "    .dataframe tbody tr th:only-of-type {\n",
              "        vertical-align: middle;\n",
              "    }\n",
              "\n",
              "    .dataframe tbody tr th {\n",
              "        vertical-align: top;\n",
              "    }\n",
              "\n",
              "    .dataframe thead th {\n",
              "        text-align: right;\n",
              "    }\n",
              "</style>\n",
              "<table border=\"1\" class=\"dataframe\">\n",
              "  <thead>\n",
              "    <tr style=\"text-align: right;\">\n",
              "      <th></th>\n",
              "      <th>news</th>\n",
              "      <th>date</th>\n",
              "    </tr>\n",
              "  </thead>\n",
              "  <tbody>\n",
              "    <tr>\n",
              "      <th>0</th>\n",
              "      <td>\\nK배터리 공정 변경 없이 보조금 받아2년 후 中 핵심광물 수입 막힐 우려자원수입...</td>\n",
              "      <td>2023.04.02.</td>\n",
              "    </tr>\n",
              "    <tr>\n",
              "      <th>1</th>\n",
              "      <td>\\n미 재무부, IRA 세부 지침 공개미국 정부가 전기차 보조금을 주는 인플레이션감...</td>\n",
              "      <td>2023.04.02.</td>\n",
              "    </tr>\n",
              "    <tr>\n",
              "      <th>2</th>\n",
              "      <td>\\n삼성·현대차·SK 등 84개국 교섭총리 만나 부산엑스포 지지 요청LG 등 광화문...</td>\n",
              "      <td>2023.04.02.</td>\n",
              "    </tr>\n",
              "    <tr>\n",
              "      <th>3</th>\n",
              "      <td>\\n\\n\\n\\n\\n 파이낸셜뉴스는 매년 문화콘텐츠를 주제로 한 글로벌 포럼을 개최한...</td>\n",
              "      <td>2023.04.02.</td>\n",
              "    </tr>\n",
              "    <tr>\n",
              "      <th>4</th>\n",
              "      <td>\\n전기차에 안드로이드 오토 장착'미래차 청사진'애플 견제 동시에구글 어시스턴트 구...</td>\n",
              "      <td>2023.04.02.</td>\n",
              "    </tr>\n",
              "    <tr>\n",
              "      <th>5</th>\n",
              "      <td>\\n지역 내 충전시설 905기 확충  【파이낸셜뉴스 인천=한갑수 기자】 인천시는 전...</td>\n",
              "      <td>2023.04.02.</td>\n",
              "    </tr>\n",
              "    <tr>\n",
              "      <th>6</th>\n",
              "      <td>\\n반도체 3월 수출액 34.5% 급감IT기업들 1분기 ‘어닝쇼크’ 예고국제통화기금...</td>\n",
              "      <td>2023.04.02.</td>\n",
              "    </tr>\n",
              "    <tr>\n",
              "      <th>7</th>\n",
              "      <td>\\nKB 금융매니저미국 기준금리 인하에 대한 기대감에 잠시 반등하던 증시가 최근 금...</td>\n",
              "      <td>2023.04.02.</td>\n",
              "    </tr>\n",
              "    <tr>\n",
              "      <th>8</th>\n",
              "      <td>\\n상하이 당서기때부터 인연대외개방 맞물려 딜 성사 촉각일론 머스크 테슬라 최고경영...</td>\n",
              "      <td>2023.04.02.</td>\n",
              "    </tr>\n",
              "    <tr>\n",
              "      <th>9</th>\n",
              "      <td>\\n\\t\\t\\t자동차 부품회사 LS오토모티브가 엄정우 전략사업본부장을 새 대표이사로...</td>\n",
              "      <td>2023.04.02.</td>\n",
              "    </tr>\n",
              "    <tr>\n",
              "      <th>10</th>\n",
              "      <td>\\n에코프로비엠 올 주가 140%, 엘앤에프 69% 급등IRA 세부지침 발표 뒤 '...</td>\n",
              "      <td>2023.04.02.</td>\n",
              "    </tr>\n",
              "    <tr>\n",
              "      <th>11</th>\n",
              "      <td>\\n'북미서 최종조립' 규정 유지…현대차그룹 대응책 부심리스·렌탈시장은 예외 인정대...</td>\n",
              "      <td>2023.04.02.</td>\n",
              "    </tr>\n",
              "    <tr>\n",
              "      <th>12</th>\n",
              "      <td>\\n美日 핵심광물 협정으로FTA 지위 부여해 보조금법안주도 조 맨친 민주의원\"美외 ...</td>\n",
              "      <td>2023.04.02.</td>\n",
              "    </tr>\n",
              "    <tr>\n",
              "      <th>13</th>\n",
              "      <td>\\n'경제안보 최일선' 재외공관장 4인에게 듣는 전략◆ 매경 특별좌담 ◆\\n\\n\\n...</td>\n",
              "      <td>2023.04.02.</td>\n",
              "    </tr>\n",
              "    <tr>\n",
              "      <th>14</th>\n",
              "      <td>\\n2차전지 소재 대장주 과열논란\\n\\n\\n\\n미국 정부의 전기차 보조금 지급 세부...</td>\n",
              "      <td>2023.04.02.</td>\n",
              "    </tr>\n",
              "    <tr>\n",
              "      <th>15</th>\n",
              "      <td>\\n[서경이 만난 사람-한화진 환경부 장관]◆대담=이상훈 경제부장환경·경제·사회 조...</td>\n",
              "      <td>2023.04.02.</td>\n",
              "    </tr>\n",
              "    <tr>\n",
              "      <th>16</th>\n",
              "      <td>\\n토마스 클라인 벤츠코리아 사장한국인 고급 자동차 취향 뚜렷세계 첫 마이바흐센터 ...</td>\n",
              "      <td>2023.04.02.</td>\n",
              "    </tr>\n",
              "    <tr>\n",
              "      <th>17</th>\n",
              "      <td>\\n\\t\\t\\t국산 배터리 장비가 일본 시장에 침투하고 있다. 성능과 가격 경쟁력에...</td>\n",
              "      <td>2023.04.02.</td>\n",
              "    </tr>\n",
              "    <tr>\n",
              "      <th>18</th>\n",
              "      <td>\\n\\t\\t\\tLG마그나 이파워트레인(LG마그나)이 올해 설립 2년 만에 연 매출 ...</td>\n",
              "      <td>2023.04.02.</td>\n",
              "    </tr>\n",
              "    <tr>\n",
              "      <th>19</th>\n",
              "      <td>\\n\\t\\t\\t제너럴모터스(GM)와 LG가 협력해 개발한 캐딜락의 차세대 전기 스포...</td>\n",
              "      <td>2023.04.02.</td>\n",
              "    </tr>\n",
              "    <tr>\n",
              "      <th>20</th>\n",
              "      <td>\\n\\t\\t\\t기아의 첫 대형 플래그십 전기 스포츠유틸리티차(SUV) 'EV9'에 ...</td>\n",
              "      <td>2023.04.02.</td>\n",
              "    </tr>\n",
              "    <tr>\n",
              "      <th>21</th>\n",
              "      <td>\\n\\t\\t\\t# 저출산·고령화 문제는 대한민국 미래를 위협하는 가장 큰 위기 요인...</td>\n",
              "      <td>2023.04.02.</td>\n",
              "    </tr>\n",
              "    <tr>\n",
              "      <th>22</th>\n",
              "      <td>\\n\\n\\n\\n\\n아이오닉 5. 현대자동차 제공    현대자동차와 기아가 미국 시장...</td>\n",
              "      <td>2023.04.02.</td>\n",
              "    </tr>\n",
              "    <tr>\n",
              "      <th>23</th>\n",
              "      <td>\\n\\t\\t\\t현대자동차그룹은 지난 1일 부산세계박람회 유치 홍보영상 '부산 시민들...</td>\n",
              "      <td>2023.04.02.</td>\n",
              "    </tr>\n",
              "    <tr>\n",
              "      <th>24</th>\n",
              "      <td>\\n쏘나타 8세대, 완전변경급 20일 사전계약쌍용차·기아·벤츠·BMW도 잇달아 선봬...</td>\n",
              "      <td>2023.04.02.</td>\n",
              "    </tr>\n",
              "    <tr>\n",
              "      <th>25</th>\n",
              "      <td>\\n‘첨단 방열 소재’ 세계시장 노리는 소울머티리얼 50여 년 쓰인 알루미나 대체할...</td>\n",
              "      <td>2023.04.01.</td>\n",
              "    </tr>\n",
              "    <tr>\n",
              "      <th>26</th>\n",
              "      <td>\\n  \\n\\n\\n\\n조 바이든 미국 대통령과 낸시 펠로시 당시 하원의장이 지난해 ...</td>\n",
              "      <td>2023.04.01.</td>\n",
              "    </tr>\n",
              "    <tr>\n",
              "      <th>27</th>\n",
              "      <td>\\n美 IRA 세부지침 발표한대당 최대 7500弗 보조금'광물 40%·부품 50%'...</td>\n",
              "      <td>2023.04.01.</td>\n",
              "    </tr>\n",
              "  </tbody>\n",
              "</table>\n",
              "</div>\n",
              "    <div class=\"colab-df-buttons\">\n",
              "\n",
              "  <div class=\"colab-df-container\">\n",
              "    <button class=\"colab-df-convert\" onclick=\"convertToInteractive('df-59aceba9-2d5b-46e4-ab9f-5ff7b429680d')\"\n",
              "            title=\"Convert this dataframe to an interactive table.\"\n",
              "            style=\"display:none;\">\n",
              "\n",
              "  <svg xmlns=\"http://www.w3.org/2000/svg\" height=\"24px\" viewBox=\"0 -960 960 960\">\n",
              "    <path d=\"M120-120v-720h720v720H120Zm60-500h600v-160H180v160Zm220 220h160v-160H400v160Zm0 220h160v-160H400v160ZM180-400h160v-160H180v160Zm440 0h160v-160H620v160ZM180-180h160v-160H180v160Zm440 0h160v-160H620v160Z\"/>\n",
              "  </svg>\n",
              "    </button>\n",
              "\n",
              "  <style>\n",
              "    .colab-df-container {\n",
              "      display:flex;\n",
              "      gap: 12px;\n",
              "    }\n",
              "\n",
              "    .colab-df-convert {\n",
              "      background-color: #E8F0FE;\n",
              "      border: none;\n",
              "      border-radius: 50%;\n",
              "      cursor: pointer;\n",
              "      display: none;\n",
              "      fill: #1967D2;\n",
              "      height: 32px;\n",
              "      padding: 0 0 0 0;\n",
              "      width: 32px;\n",
              "    }\n",
              "\n",
              "    .colab-df-convert:hover {\n",
              "      background-color: #E2EBFA;\n",
              "      box-shadow: 0px 1px 2px rgba(60, 64, 67, 0.3), 0px 1px 3px 1px rgba(60, 64, 67, 0.15);\n",
              "      fill: #174EA6;\n",
              "    }\n",
              "\n",
              "    .colab-df-buttons div {\n",
              "      margin-bottom: 4px;\n",
              "    }\n",
              "\n",
              "    [theme=dark] .colab-df-convert {\n",
              "      background-color: #3B4455;\n",
              "      fill: #D2E3FC;\n",
              "    }\n",
              "\n",
              "    [theme=dark] .colab-df-convert:hover {\n",
              "      background-color: #434B5C;\n",
              "      box-shadow: 0px 1px 3px 1px rgba(0, 0, 0, 0.15);\n",
              "      filter: drop-shadow(0px 1px 2px rgba(0, 0, 0, 0.3));\n",
              "      fill: #FFFFFF;\n",
              "    }\n",
              "  </style>\n",
              "\n",
              "    <script>\n",
              "      const buttonEl =\n",
              "        document.querySelector('#df-59aceba9-2d5b-46e4-ab9f-5ff7b429680d button.colab-df-convert');\n",
              "      buttonEl.style.display =\n",
              "        google.colab.kernel.accessAllowed ? 'block' : 'none';\n",
              "\n",
              "      async function convertToInteractive(key) {\n",
              "        const element = document.querySelector('#df-59aceba9-2d5b-46e4-ab9f-5ff7b429680d');\n",
              "        const dataTable =\n",
              "          await google.colab.kernel.invokeFunction('convertToInteractive',\n",
              "                                                    [key], {});\n",
              "        if (!dataTable) return;\n",
              "\n",
              "        const docLinkHtml = 'Like what you see? Visit the ' +\n",
              "          '<a target=\"_blank\" href=https://colab.research.google.com/notebooks/data_table.ipynb>data table notebook</a>'\n",
              "          + ' to learn more about interactive tables.';\n",
              "        element.innerHTML = '';\n",
              "        dataTable['output_type'] = 'display_data';\n",
              "        await google.colab.output.renderOutput(dataTable, element);\n",
              "        const docLink = document.createElement('div');\n",
              "        docLink.innerHTML = docLinkHtml;\n",
              "        element.appendChild(docLink);\n",
              "      }\n",
              "    </script>\n",
              "  </div>\n",
              "\n",
              "\n",
              "<div id=\"df-7713f283-13dd-435b-a830-5d2400e348bb\">\n",
              "  <button class=\"colab-df-quickchart\" onclick=\"quickchart('df-7713f283-13dd-435b-a830-5d2400e348bb')\"\n",
              "            title=\"Suggest charts\"\n",
              "            style=\"display:none;\">\n",
              "\n",
              "<svg xmlns=\"http://www.w3.org/2000/svg\" height=\"24px\"viewBox=\"0 0 24 24\"\n",
              "     width=\"24px\">\n",
              "    <g>\n",
              "        <path d=\"M19 3H5c-1.1 0-2 .9-2 2v14c0 1.1.9 2 2 2h14c1.1 0 2-.9 2-2V5c0-1.1-.9-2-2-2zM9 17H7v-7h2v7zm4 0h-2V7h2v10zm4 0h-2v-4h2v4z\"/>\n",
              "    </g>\n",
              "</svg>\n",
              "  </button>\n",
              "\n",
              "<style>\n",
              "  .colab-df-quickchart {\n",
              "      --bg-color: #E8F0FE;\n",
              "      --fill-color: #1967D2;\n",
              "      --hover-bg-color: #E2EBFA;\n",
              "      --hover-fill-color: #174EA6;\n",
              "      --disabled-fill-color: #AAA;\n",
              "      --disabled-bg-color: #DDD;\n",
              "  }\n",
              "\n",
              "  [theme=dark] .colab-df-quickchart {\n",
              "      --bg-color: #3B4455;\n",
              "      --fill-color: #D2E3FC;\n",
              "      --hover-bg-color: #434B5C;\n",
              "      --hover-fill-color: #FFFFFF;\n",
              "      --disabled-bg-color: #3B4455;\n",
              "      --disabled-fill-color: #666;\n",
              "  }\n",
              "\n",
              "  .colab-df-quickchart {\n",
              "    background-color: var(--bg-color);\n",
              "    border: none;\n",
              "    border-radius: 50%;\n",
              "    cursor: pointer;\n",
              "    display: none;\n",
              "    fill: var(--fill-color);\n",
              "    height: 32px;\n",
              "    padding: 0;\n",
              "    width: 32px;\n",
              "  }\n",
              "\n",
              "  .colab-df-quickchart:hover {\n",
              "    background-color: var(--hover-bg-color);\n",
              "    box-shadow: 0 1px 2px rgba(60, 64, 67, 0.3), 0 1px 3px 1px rgba(60, 64, 67, 0.15);\n",
              "    fill: var(--button-hover-fill-color);\n",
              "  }\n",
              "\n",
              "  .colab-df-quickchart-complete:disabled,\n",
              "  .colab-df-quickchart-complete:disabled:hover {\n",
              "    background-color: var(--disabled-bg-color);\n",
              "    fill: var(--disabled-fill-color);\n",
              "    box-shadow: none;\n",
              "  }\n",
              "\n",
              "  .colab-df-spinner {\n",
              "    border: 2px solid var(--fill-color);\n",
              "    border-color: transparent;\n",
              "    border-bottom-color: var(--fill-color);\n",
              "    animation:\n",
              "      spin 1s steps(1) infinite;\n",
              "  }\n",
              "\n",
              "  @keyframes spin {\n",
              "    0% {\n",
              "      border-color: transparent;\n",
              "      border-bottom-color: var(--fill-color);\n",
              "      border-left-color: var(--fill-color);\n",
              "    }\n",
              "    20% {\n",
              "      border-color: transparent;\n",
              "      border-left-color: var(--fill-color);\n",
              "      border-top-color: var(--fill-color);\n",
              "    }\n",
              "    30% {\n",
              "      border-color: transparent;\n",
              "      border-left-color: var(--fill-color);\n",
              "      border-top-color: var(--fill-color);\n",
              "      border-right-color: var(--fill-color);\n",
              "    }\n",
              "    40% {\n",
              "      border-color: transparent;\n",
              "      border-right-color: var(--fill-color);\n",
              "      border-top-color: var(--fill-color);\n",
              "    }\n",
              "    60% {\n",
              "      border-color: transparent;\n",
              "      border-right-color: var(--fill-color);\n",
              "    }\n",
              "    80% {\n",
              "      border-color: transparent;\n",
              "      border-right-color: var(--fill-color);\n",
              "      border-bottom-color: var(--fill-color);\n",
              "    }\n",
              "    90% {\n",
              "      border-color: transparent;\n",
              "      border-bottom-color: var(--fill-color);\n",
              "    }\n",
              "  }\n",
              "</style>\n",
              "\n",
              "  <script>\n",
              "    async function quickchart(key) {\n",
              "      const quickchartButtonEl =\n",
              "        document.querySelector('#' + key + ' button');\n",
              "      quickchartButtonEl.disabled = true;  // To prevent multiple clicks.\n",
              "      quickchartButtonEl.classList.add('colab-df-spinner');\n",
              "      try {\n",
              "        const charts = await google.colab.kernel.invokeFunction(\n",
              "            'suggestCharts', [key], {});\n",
              "      } catch (error) {\n",
              "        console.error('Error during call to suggestCharts:', error);\n",
              "      }\n",
              "      quickchartButtonEl.classList.remove('colab-df-spinner');\n",
              "      quickchartButtonEl.classList.add('colab-df-quickchart-complete');\n",
              "    }\n",
              "    (() => {\n",
              "      let quickchartButtonEl =\n",
              "        document.querySelector('#df-7713f283-13dd-435b-a830-5d2400e348bb button');\n",
              "      quickchartButtonEl.style.display =\n",
              "        google.colab.kernel.accessAllowed ? 'block' : 'none';\n",
              "    })();\n",
              "  </script>\n",
              "</div>\n",
              "\n",
              "  <div id=\"id_2b8ceacf-d637-40d9-b81d-3dc638e75f56\">\n",
              "    <style>\n",
              "      .colab-df-generate {\n",
              "        background-color: #E8F0FE;\n",
              "        border: none;\n",
              "        border-radius: 50%;\n",
              "        cursor: pointer;\n",
              "        display: none;\n",
              "        fill: #1967D2;\n",
              "        height: 32px;\n",
              "        padding: 0 0 0 0;\n",
              "        width: 32px;\n",
              "      }\n",
              "\n",
              "      .colab-df-generate:hover {\n",
              "        background-color: #E2EBFA;\n",
              "        box-shadow: 0px 1px 2px rgba(60, 64, 67, 0.3), 0px 1px 3px 1px rgba(60, 64, 67, 0.15);\n",
              "        fill: #174EA6;\n",
              "      }\n",
              "\n",
              "      [theme=dark] .colab-df-generate {\n",
              "        background-color: #3B4455;\n",
              "        fill: #D2E3FC;\n",
              "      }\n",
              "\n",
              "      [theme=dark] .colab-df-generate:hover {\n",
              "        background-color: #434B5C;\n",
              "        box-shadow: 0px 1px 3px 1px rgba(0, 0, 0, 0.15);\n",
              "        filter: drop-shadow(0px 1px 2px rgba(0, 0, 0, 0.3));\n",
              "        fill: #FFFFFF;\n",
              "      }\n",
              "    </style>\n",
              "    <button class=\"colab-df-generate\" onclick=\"generateWithVariable('df')\"\n",
              "            title=\"Generate code using this dataframe.\"\n",
              "            style=\"display:none;\">\n",
              "\n",
              "  <svg xmlns=\"http://www.w3.org/2000/svg\" height=\"24px\"viewBox=\"0 0 24 24\"\n",
              "       width=\"24px\">\n",
              "    <path d=\"M7,19H8.4L18.45,9,17,7.55,7,17.6ZM5,21V16.75L18.45,3.32a2,2,0,0,1,2.83,0l1.4,1.43a1.91,1.91,0,0,1,.58,1.4,1.91,1.91,0,0,1-.58,1.4L9.25,21ZM18.45,9,17,7.55Zm-12,3A5.31,5.31,0,0,0,4.9,8.1,5.31,5.31,0,0,0,1,6.5,5.31,5.31,0,0,0,4.9,4.9,5.31,5.31,0,0,0,6.5,1,5.31,5.31,0,0,0,8.1,4.9,5.31,5.31,0,0,0,12,6.5,5.46,5.46,0,0,0,6.5,12Z\"/>\n",
              "  </svg>\n",
              "    </button>\n",
              "    <script>\n",
              "      (() => {\n",
              "      const buttonEl =\n",
              "        document.querySelector('#id_2b8ceacf-d637-40d9-b81d-3dc638e75f56 button.colab-df-generate');\n",
              "      buttonEl.style.display =\n",
              "        google.colab.kernel.accessAllowed ? 'block' : 'none';\n",
              "\n",
              "      buttonEl.onclick = () => {\n",
              "        google.colab.notebook.generateWithVariable('df');\n",
              "      }\n",
              "      })();\n",
              "    </script>\n",
              "  </div>\n",
              "\n",
              "    </div>\n",
              "  </div>\n"
            ],
            "application/vnd.google.colaboratory.intrinsic+json": {
              "type": "dataframe",
              "variable_name": "df",
              "summary": "{\n  \"name\": \"df\",\n  \"rows\": 28,\n  \"fields\": [\n    {\n      \"column\": \"news\",\n      \"properties\": {\n        \"dtype\": \"string\",\n        \"num_unique_values\": 28,\n        \"samples\": [\n          \"\\n\\t\\t\\t\\uc790\\ub3d9\\ucc28 \\ubd80\\ud488\\ud68c\\uc0ac LS\\uc624\\ud1a0\\ubaa8\\ud2f0\\ube0c\\uac00 \\uc5c4\\uc815\\uc6b0 \\uc804\\ub7b5\\uc0ac\\uc5c5\\ubcf8\\ubd80\\uc7a5\\uc744 \\uc0c8 \\ub300\\ud45c\\uc774\\uc0ac\\ub85c \\uc120\\uc784\\ud588\\ub2e4.LS\\uc624\\ud1a0\\ubaa8\\ud2f0\\ube0c\\ub294 \\uc9c0\\ub09c\\ub2ec 28\\uc77c \\uc815\\uae30 \\uc774\\uc0ac\\ud68c\\ub97c \\uc5f4\\uace0 \\uc774\\ub7f0 \\ub0b4\\uc6a9\\uc758 \\uc2e0\\uaddc \\ub300\\ud45c\\uc774\\uc0ac \\uc120\\uc784\\uc548\\uc744 \\uc758\\uacb0\\ud588\\ub2e4\\uace0 2\\uc77c \\ubc1c\\ud45c\\ud588\\ub2e4. \\uc774\\uc0ac\\ud68c\\ub294 \\uc774\\uc640 \\ud568\\uaed8 2022\\ub144 \\uc7ac\\ubb34\\uc81c\\ud45c\\uc640 \\uc774\\uc0ac \\ubcf4\\uc218\\ud55c\\ub3c4 \\uc2b9\\uc778\\uc548\\ub3c4 \\uc6d0\\uc548\\ub300\\ub85c \\uc758\\uacb0\\ud588\\ub2e4.LS\\uc624\\ud1a0\\ubaa8\\ud2f0\\ube0c\\ub294 \\uc9c0\\ub09c\\ud574 \\uc5f0\\uacb0 \\uae30\\uc900 \\ub9e4\\ucd9c 1\\uc870579\\uc5b5\\uc6d0, \\uc601\\uc5c5\\uc774\\uc775\\uc740 283\\uc5b5\\uc6d0\\uc744 \\uae30\\ub85d\\ud588\\ub2e4. \\uac01\\uac01 \\uc804\\ub144 \\ub300\\ube44 17%, 45.1% \\uc99d\\uac00\\ud55c \\uaddc\\ubaa8\\ub2e4. \\ud68c\\uc0ac \\uad00\\uacc4\\uc790\\ub294 \\u201c\\uce5c\\ud658\\uacbd \\uc804\\uae30\\ucc28 \\ubd80\\ud488 \\uc911\\uc2ec\\uc73c\\ub85c \\uc2dc\\uc7a5\\uc744 \\ud655\\ub300\\ud574 \\uae00\\ub85c\\ubc8c \\uacbd\\uc7c1\\ub825\\uc744 \\ud655\\ubcf4\\ud560 \\ubc29\\uce68\\u201d\\uc774\\ub77c\\uace0 \\ub9d0\\ud588\\ub2e4.\\n\",\n          \"\\n\\u2018\\ucca8\\ub2e8 \\ubc29\\uc5f4 \\uc18c\\uc7ac\\u2019 \\uc138\\uacc4\\uc2dc\\uc7a5 \\ub178\\ub9ac\\ub294 \\uc18c\\uc6b8\\uba38\\ud2f0\\ub9ac\\uc5bc 50\\uc5ec \\ub144 \\uc4f0\\uc778 \\uc54c\\ub8e8\\ubbf8\\ub098 \\ub300\\uccb4\\ud560 \\ubc29\\uc5f4 \\uc131\\ub2a5 \\uc88b\\uc740 \\ub9c8\\uadf8\\ub124\\uc2dc\\uc544 \\uac1c\\ubc1c\\uc138\\uacc4 \\uccab \\u2018\\uc800\\uc628 \\uc18c\\uacb0\\u2019 \\uc591\\uc0b0 \\uccb4\\uc81c \\uac16\\ucdb0\\u2026 \\ud55c\\uad6d\\uc7ac\\ub8cc\\u784f \\uae30\\uc220\\uc5d0 \\uc591\\uc0b0\\uae30\\uc220 \\ub354\\ud574\\uad6d\\ub0b4\\uc678 \\uc720\\uba85 \\uae30\\uc5c5 \\uc131\\ub2a5\\uc2dc\\ud5d8 \\ud1b5\\uacfc\\u2026 \\uc804\\uae30\\ucc28-\\ud1b5\\uc2e0\\uae30\\uae30 \\ub4f1\\uc5d0 \\ud544\\uc218 \\uc18c\\uc7ac\\n\\n\\n\\n\\uc815\\uc778\\ucca0 \\uc18c\\uc6b8\\uba38\\ud2f0\\ub9ac\\uc5bc \\ub300\\ud45c\\ub294 \\uc9c0\\ub09c\\ub2ec 27\\uc77c \\ubcf8\\uc0ac\\uc5d0\\uc11c \\uac00\\uc9c4 \\uc778\\ud130\\ubdf0\\uc5d0\\uc11c \\u201c\\uc138\\uacc4\\uc801\\uc73c\\ub85c 1970\\ub144\\ub300 \\ucd08\\ubc18\\ubd80\\ud130 \\uc4f0\\uc5ec \\uc624\\ub358 \\ub300\\ud45c\\uc801\\uc778 \\ubc29\\uc5f4  \\uc18c\\uc7ac\\ub97c \\ub300\\uccb4\\ud560 \\uc218 \\uc788\\ub294 \\uc0c8 \\uc18c\\uc7ac\\ub97c \\uc62c\\ud574\\ubd80\\ud130 \\uc6b0\\ub9ac\\uac00 \\ubcf8\\uaca9 \\uc591\\uc0b0\\ud55c\\ub2e4\\u201d\\uace0 \\ud588\\ub2e4. \\uc591\\ud68c\\uc131 \\uae30\\uc790 yohan@donga.com\\uc804\\uae30\\ucc28\\uc758 \\uae09\\uc18d \\ucda9\\uc804 \\uc131\\ub2a5\\uc744 \\ub192\\uc774\\uac70\\ub098 \\uc8fc\\ud589\\uac70\\ub9ac\\ub97c \\ub298\\ub9ac\\ub824\\uba74 \\ubc30\\ud130\\ub9ac \\uc5f4\\uc744 \\uc548\\uc815\\uc801\\uc73c\\ub85c \\uad00\\ub9ac\\ud558\\ub294 \\uac83\\uc774 \\ud544\\uc218\\ub2e4. \\uae09\\uc18d \\ucda9\\uc804\\uc744 \\ud558\\uba74 \\ubc30\\ud130\\ub9ac\\uc5d0\\uc11c \\uc5f4\\uc774 \\ub354 \\ub9ce\\uc774 \\ubc1c\\uc0dd\\ud558\\ub294\\ub370 \\uc774\\ub97c \\ube68\\ub9ac \\ubc30\\ucd9c\\ud558\\ub294 \\uac83\\uc774 \\uad00\\uac74\\uc774\\ub2e4. \\uc8fc\\ud589\\uac70\\ub9ac \\uc5f0\\uc7a5\\uc5d0\\ub3c4 \\ubc30\\ud130\\ub9ac \\uc628\\ub3c4\\uac00 \\ud070 \\uc601\\ud5a5\\uc744 \\ubbf8\\uce5c\\ub2e4. \\uc628\\ub3c4\\uac00 \\ub108\\ubb34 \\ub192\\uac70\\ub098 \\ub0ae\\uc73c\\uba74 \\ubc30\\ud130\\ub9ac \\uc131\\ub2a5\\uc774 \\ud06c\\uac8c \\ub5a8\\uc5b4\\uc9c4\\ub2e4. \\uc804\\uae30\\ucc28\\uc5d0 \\uc4f0\\uc774\\ub294 \\uc5ec\\ub7ec \\uc18c\\uc7ac\\uc640 \\ubd80\\ud488 \\uc911\\uc5d0\\uc11c \\ubc30\\ud130\\ub9ac \\uc5f4 \\uad00\\ub9ac \\ubd80\\ubb38\\uc758 \\uac1c\\ubc1c \\uacbd\\uc7c1\\uc774 \\ub728\\uac70\\uc6b4 \\ubc30\\uacbd\\uc774\\ub2e4. \\uacbd\\ubd81 \\uacbd\\uc0b0\\uc2dc\\uc5d0 \\uc788\\ub294 \\uc18c\\uc6b8\\uba38\\ud2f0\\ub9ac\\uc5bc(\\ub300\\ud45c\\uc774\\uc0ac \\uc815\\uc778\\ucca0)\\uc740 \\ub192\\uc740 \\uc5f4\\uc804\\ub3c4\\uc131\\uc744 \\uac16\\ub294 \\ucca8\\ub2e8 \\ubc29\\uc5f4(\\u653e\\u71b1) \\uc18c\\uc7ac\\ub97c \\uac1c\\ubc1c\\ud558\\ub294 \\uc2a4\\ud0c0\\ud2b8\\uc5c5\\uc774\\ub2e4. \\uc880 \\ub354 \\uc815\\ud655\\ud788\\ub294 \\ubc29\\uc5f4 \\uc131\\ub2a5\\uc774 \\uc88b\\uc740 \\ubd84\\ub9d0 \\ud615\\ud0dc\\uc758 \\ubc29\\uc5f4 \\ud544\\ub7ec(\\ucda9\\uc804\\uc7ac)\\ub2e4. \\ubc29\\uc5f4 \\uc18c\\uc7ac\\ub294 \\ubc30\\ud130\\ub9ac\\ubfd0\\ub9cc \\uc544\\ub2c8\\ub77c \\uc5f4\\uc774 \\ub098\\ub294 \\uc804\\uc790 \\ubd80\\ud488 \\uc5b4\\ub514\\uc5d0\\ub4e0 \\uc4f0\\uc778\\ub2e4. \\uc138\\uacc4 \\uc0b0\\uc5c5\\uacc4\\ub294 \\uc9c0\\ub09c 50\\uc5ec \\ub144\\uac04 \\uc54c\\ub8e8\\ubbf8\\ub098(\\uc0b0\\ud654\\uc54c\\ub8e8\\ubbf8\\ub284)\\ub97c \\uc8fc\\uc6d0\\ub8cc\\ub85c \\ud55c \\ubc29\\uc5f4 \\ud544\\ub7ec\\ub97c \\uc368 \\uc654\\ub294\\ub370, \\uc18c\\uc6b8\\uba38\\ud2f0\\ub9ac\\uc5bc\\uc774 \\uc138\\uacc4\\uc5d0\\uc11c \\ucc98\\uc74c\\uc73c\\ub85c \\ub9c8\\uadf8\\ub124\\uc2dc\\uc544(\\uc0b0\\ud654\\ub9c8\\uadf8\\ub124\\uc298)\\ub97c \\ud65c\\uc6a9\\ud55c \\ubc29\\uc5f4 \\uc18c\\uc7ac\\uc758 \\uc0c1\\uc6a9\\ud654\\ub97c \\uc55e\\ub450\\uace0 \\uc788\\ub2e4. \\ub9c8\\uadf8\\ub124\\uc2dc\\uc544\\ub294 \\uc54c\\ub8e8\\ubbf8\\ub098\\ubcf4\\ub2e4 \\uc5f4\\uc804\\ub3c4\\uc131\\uc774 2\\ubc30\\uac00\\ub7c9 \\ub192\\uace0, \\ubb34\\uac8c\\ub294 \\ub354 \\uac00\\ubcbc\\uc6cc \\uc804\\uae30\\ucc28\\uc5d0 \\uc4f0\\uae30\\uc5d0 \\uc88b\\ub2e4. \\ub9c8\\uadf8\\ub124\\uc2dc\\uc544\\ub294 \\uc2b5\\uae30\\uc5d0 \\ucde8\\uc57d\\ud574 \\uc0c1\\uc6a9\\ud654\\uc5d0 \\uc5b4\\ub824\\uc6c0\\uc774 \\uc788\\uc5c8\\ub2e4. \\uc77c\\ubcf8\\uc758 \\ud654\\ud559\\u00b7\\uc18c\\uc7ac \\uae30\\uc5c5\\ub4e4\\uc774 \\uc55e\\uc11c \\uac1c\\ubc1c\\uc5d0 \\ub098\\uc130\\uc9c0\\ub9cc \\uacb0\\uc2b9\\uc120\\uc5d0\\ub294 \\uc18c\\uc6b8\\uba38\\ud2f0\\ub9ac\\uc5bc\\uc774 \\uba3c\\uc800 \\ub4e4\\uc5b4\\uc11c\\uace0 \\uc788\\ub2e4. \\uc81c\\ud488\\uc740 \\ud3c9\\uade0 \\uc9c0\\ub984\\uc774 \\uac01\\uac01 100, 60, 20, 3\\u03bcm(\\ub9c8\\uc774\\ud06c\\ub85c\\ubbf8\\ud130\\u00b71\\u03bcm\\ub294 100\\ub9cc\\ubd84\\uc758 1m)\\uc778 \\ud558\\uc580 \\uc138\\ub77c\\ubbf9 \\uc785\\uc790\\ub4e4\\uc774\\ub2e4. \\uc774 \\uc791\\uc740 \\uc785\\uc790\\uc758 \\uc591\\uc0b0\\uc744 \\uc704\\ud574 \\uc9c0\\uae08 10\\uba85\\uc758 \\uc784\\uc9c1\\uc6d0\\uc774 \\ub6f0\\uace0 \\uc788\\ub2e4.\\u25cf\\ucca8\\ub2e8 \\u2018\\ub9c8\\uc774\\ud06c\\ub85c \\uc138\\ub77c\\ubbf9\\u2019\\uc18c\\uc7ac\\ub294 \\uc804\\uccb4 \\uc0c1\\ud488\\uc5d0\\uc11c \\ub208\\uc5d0 \\uc798 \\ubcf4\\uc774\\uc9c0 \\uc54a\\ub294 \\uacf3\\uc5d0 \\uc788\\uc9c0\\ub9cc \\uc0c1\\ud488 \\uc804\\uccb4\\uc758 \\uc644\\uc131\\ub3c4\\ub97c \\uc88c\\uc6b0\\ud558\\ub294 \\uacbd\\uc6b0\\uac00 \\ub9ce\\ub2e4. \\uc77c\\ubcf8\\uc774 \\uc790\\uad6d \\ucca8\\ub2e8 \\uc18c\\uc7ac\\uc758 \\uc218\\ucd9c \\uae08\\uc9c0\\ub97c \\uc678\\uad50\\uc801\\uc778 \\uce74\\ub4dc\\ub85c \\ud65c\\uc6a9\\ud560 \\uc218 \\uc788\\uc5c8\\ub358 \\uac83\\ub3c4 \\uc774\\ub7f0 \\ud2b9\\uc131 \\ub54c\\ubb38\\uc774\\ub2e4. \\uc18c\\uc6b8\\uba38\\ud2f0\\ub9ac\\uc5bc\\uc774 \\ub9cc\\ub4e0 \\ubc29\\uc5f4 \\uc18c\\uc7ac\\ub294 \\uc804\\uae30\\ucc28\\uc758 \\ubc30\\ud130\\ub9ac \\ubaa8\\ub4c8\\uacfc \\ud558\\ubd80 \\ub0c9\\uac01 \\ubaa8\\ub4c8 \\uc0ac\\uc774\\uc5d0 \\ub4e4\\uc5b4\\uac00\\ub294 \\uc7ac\\ub8cc\\ub2e4. \\ubc30\\ud130\\ub9ac\\uc5d0\\uc11c \\ub09c \\uc5f4\\uc744 \\ub0c9\\uac01 \\uc7a5\\uce58\\ub85c \\uc81c\\ub300\\ub85c \\uc804\\ub2ec\\ud558\\ub824\\uba74 \\uc5f4\\uc804\\ub3c4\\uc131\\uc774 \\uc88b\\uc740 \\ubb3c\\uc9c8\\uc744 \\uc8fc\\uc6d0\\ub8cc\\ub85c \\ud55c \\u2018\\uc5f4\\uacc4\\uba74\\uc18c\\uc7ac\\u2019\\ub85c \\ube48\\ud2c8\\uc5c6\\uc774 \\ucc44\\uc6cc \\uc918\\uc57c \\ud55c\\ub2e4. \\uc18c\\uc6b8\\uba38\\ud2f0\\ub9ac\\uc5bc\\uc758 \\ub9c8\\uadf8\\ub124\\uc2dc\\uc544\\ub294 \\ubb3d\\uc740 \\uce58\\uc57d \\uac19\\uc740 \\uc810\\uc131\\uc744 \\uac00\\uc9c4 \\uc5f4\\uacc4\\uba74\\uc18c\\uc7ac\\uc758 \\uc8fc\\uc6d0\\ub8cc\\ub85c \\uc4f0\\uc778\\ub2e4. \\n\\n\\n\\n\\uc18c\\uc6b8\\uba38\\ud2f0\\ub9ac\\uc5bc\\uc758 \\ub9c8\\uadf8\\ub124\\uc2dc\\uc544 \\uc81c\\ud488\\ub4e4\\uc5d0\\ub294 \\uc5d1\\uc2dc\\uc54c(ExiAl)\\uc774\\ub77c\\ub294 \\uc774\\ub984\\uc774 \\ubd99\\uc5c8\\ub2e4. \\uae30\\uc874 \\uc54c\\ub8e8\\ubbf8\\ub098\\ub97c \\ub300\\uccb4\\ud558\\uaca0\\ub2e4\\ub294 \\uc758\\uc9c0\\uac00 \\ub2f4\\uacbc\\ub2e4. \\uc81c\\ud488 \\uc774\\ub984\\uc758 \\uc22b\\uc790\\ub294 \\ubd84\\ub9d0 \\uc9c0\\ub984\\uc744 \\ub9c8\\uc774\\ud06c\\ub85c\\ubbf8\\ud130 \\ub2e8\\uc704\\ub85c \\ud45c\\ud604\\ud55c \\uac83\\uc774\\ub2e4.\\u00a0\\uc18c\\uc6b8\\uba38\\ud2f0\\ub9ac\\uc5bc\\uc740 \\uc790\\uc0ac \\ub9c8\\uadf8\\ub124\\uc2dc\\uc544 \\uc81c\\ud488\\uc5d0 \\u2018\\uc5d1\\uc2dc\\uc54c(ExiAl)\\u2019\\uc774\\ub77c\\ub294 \\uc774\\ub984\\uc744 \\ubd99\\uc5ec \\uc2dc\\ub9ac\\uc988\\ub85c \\ub0b4\\ub1a8\\ub2e4. \\u2018\\uc5d1\\uc2dc\\ud2b8 \\uc54c\\ub8e8\\ubbf8\\ub098(Exit Alumina)\\u2019\\ub77c\\ub294 \\uc758\\ubbf8\\ub85c \\uae30\\uc874 \\uc54c\\ub8e8\\ubbf8\\ub098\\ub97c \\ub300\\uccb4\\ud558\\uaca0\\ub2e4\\ub294 \\uc758\\uc9c0\\uac00 \\uc77d\\ud78c\\ub2e4. \\n\\n\\n\\n\\u2460 \\uacbd\\uc7c1\\uc0ac\\uac00 \\uac1c\\ubc1c \\uc911\\uc778 \\ub9c8\\uadf8\\ub124\\uc2dc\\uc544\\uc758 \\uc804\\uc790\\ud604\\ubbf8\\uacbd \\uc0ac\\uc9c4. \\ud45c\\uba74\\uc774 \\uac70\\uce5c \\uac83\\uc740 \\uc218\\ubd84\\uacfc \\ubc18\\uc751\\ud588\\uae30 \\ub54c\\ubb38\\uc774\\ub2e4. \\ubaa8\\uc591\\ub3c4 \\uad6c\\ud615\\uc774 \\uc544\\ub2cc \\ud0c0\\uc6d0\\ud615\\uc5d0  \\uac00\\uae5d\\ub2e4. \\ubaa8\\ub450 \\ud488\\uc9c8\\uc744 \\ub5a8\\uc5b4\\ub728\\ub9ac\\ub294 \\uc694\\uc18c\\ub2e4. \\u2461 \\uc18c\\uc6b8\\uba38\\ud2f0\\ub9ac\\uc5bc\\uc758 \\uc5d1\\uc2dc\\uc54c \\uc0ac\\uc9c4. \\ud45c\\uba74\\uc774 \\uc2b5\\uae30\\uc640 \\ubc18\\uc751\\ud558\\uc9c0 \\uc54a\\uc544 \\ub9e4\\ub048\\ud558\\uace0, \\ubaa8\\uc591\\uc740 \\uad6c\\ud615\\uc5d0  \\uac00\\uae5d\\ub2e4. \\uc18c\\uc6b8\\uba38\\ud2f0\\ub9ac\\uc5bc \\uc81c\\uacf5\\uc5d1\\uc2dc\\uc54c\\uc758 \\uc5f4\\uc804\\ub3c4\\uc728\\uc740 55W/m\\u00b7K\\ub85c \\uae30\\uc874 \\uc54c\\ub8e8\\ubbf8\\ub098\\ubcf4\\ub2e4 2\\ubc30\\uac00\\ub7c9 \\ub192\\ub2e4. \\ubb34\\uc5c7\\ubcf4\\ub2e4 \\uc5d1\\uc2dc\\uc54c\\uc740 \\uc2b5\\uae30\\uc5d0 \\uac70\\uc758 \\uc601\\ud5a5\\uc744 \\ubc1b\\uc9c0 \\uc54a\\ub294\\ub2e4. \\ub9c8\\uadf8\\ub124\\uc2dc\\uc544\\ub294 \\uc5f4\\uc804\\ub3c4\\uc131\\uc774 \\uc54c\\ub8e8\\ubbf8\\ub098\\ubcf4\\ub2e4 \\uc88b\\ub2e4\\ub294 \\uc810\\uc740 \\uc54c\\ub824\\uc838 \\uc788\\uc5c8\\uc9c0\\ub9cc \\uc2b5\\uae30\\uc5d0 \\uc57d\\ud558\\ub2e4\\ub294 \\uac83\\uc774 \\ud070 \\ub2e8\\uc810\\uc774\\uc5c8\\ub2e4. \\uc54c\\uac31\\uc774\\ub4e4\\uc758 \\ud45c\\uba74\\uc774 \\uc2b5\\uae30\\ub85c \\uc778\\ud574 \\ubcc0\\uc9c8\\ub418\\uba74 \\uc5f4\\uc804\\ub3c4\\uc131\\uc774 \\ud06c\\uac8c \\ub5a8\\uc5b4\\uc838 \\ubc29\\uc5f4 \\uc18c\\uc7ac\\ub85c\\uc11c \\uae30\\ub2a5\\uc744 \\ubabb \\ud55c\\ub2e4. \\uc815\\uc778\\ucca0 \\ub300\\ud45c\\uc774\\uc0ac(49)\\ub294 \\u201c\\uc77c\\ubcf8 \\uae30\\uc5c5\\ub4e4\\uc740 \\uc544\\uc9c1 \\uc2b5\\uae30\\uc5d0 \\ucde8\\uc57d\\ud55c \\ubb38\\uc81c\\ub97c \\uc81c\\ub300\\ub85c \\ud574\\uacb0\\ud558\\uc9c0 \\ubabb\\ud558\\uace0 \\uc788\\ub2e4\\u201d\\uace0 \\ud588\\ub2e4. \\uc5d1\\uc2dc\\uc54c\\uc740 \\ub610 \\uc81c\\uc870\\uacf5\\uc815\\uc5d0\\uc11c \\ud544\\uc694\\ud55c \\ucd5c\\uace0 \\uc628\\ub3c4\\uac00 \\uae30\\uc874 \\ub9c8\\uadf8\\ub124\\uc2dc\\uc544 \\uc81c\\uc870 \\ub54c\\uc5d0 \\ube44\\ud574 300\\ub3c4\\ub098 \\ub0ae\\ub2e4(\\uc800\\uc628 \\uc18c\\uacb0 \\uae30\\uc220). \\uadf8\\ub9cc\\ud07c \\uc81c\\uc870\\ube44\\uc6a9\\uc744 \\ub0ae\\ucd9c \\uc218 \\uc788\\ub2e4. \\uba38\\ub9ac\\uce74\\ub77d \\uad75\\uae30\\ubcf4\\ub2e4 \\uc791\\uc740 \\uc9c0\\ub984\\uc744 \\uac00\\uc9c4 \\uc54c\\uac31\\uc774\\ub4e4\\uc774 \\uc5bc\\ub9c8\\ub098 \\uacf5\\ucc98\\ub7fc \\ub465\\uadfc \\ud615\\ud0dc\\ub97c \\uac16\\ucd94\\uace0 \\uc788\\ub294\\uc9c0\\ub3c4 \\uc911\\uc694\\ud55c\\ub370, \\uc5d1\\uc2dc\\uc54c\\uc740 \\ub2e8\\uc704 \\ubd80\\ud53c\\ub2f9 98% \\uc774\\uc0c1\\uc758 \\uc54c\\uac31\\uc774\\ub4e4\\uc774 \\uad6c\\ud615\\uc744 \\uac16\\ucd94\\uace0 \\uc788\\ub2e4. \\uc815 \\ub300\\ud45c\\ub294 \\u201c\\uc791\\uc740 \\uc54c\\uac31\\uc774 \\uc785\\uc790\\ub4e4\\uc774 \\uad6c\\ud615\\uc744 \\ub760\\uc9c0 \\uc54a\\uc73c\\uba74 \\uc774 \\uc54c\\uac31\\uc774\\ub4e4\\uc744 \\uc8fc\\uc6d0\\ub8cc\\ub85c \\ub9cc\\ub4dc\\ub294 \\uc5f4\\uacc4\\uba74\\uc18c\\uc7ac\\uc758 \\uc810\\uc131\\uc774 \\uc548\\uc815\\uc801\\uc73c\\ub85c \\ub098\\uc624\\uc9c0 \\uc54a\\uace0, \\uc774\\ub294 \\ubc30\\ud130\\ub9ac\\ub97c \\ub9cc\\ub4e4 \\ub54c \\uc5f4\\uacc4\\uba74\\uc18c\\uc7ac\\ub97c \\uc8fc\\uc785\\ud558\\ub294 \\uacf5\\uc815\\uc744 \\ubc29\\ud574\\ud558\\uac8c \\ub41c\\ub2e4\\u201d\\uace0 \\ud588\\ub2e4.\\u25cf\\ud55c\\uad6d\\uc7ac\\ub8cc\\uc5f0\\uad6c\\uc6d0 \\ud2b9\\ud5c8\\uae30\\uc220 \\uc774\\uc804\\ubc1b\\uc544 \\ucc3d\\uc5c5\\n\\n\\n\\n\\uc815 \\ub300\\ud45c\\ub294 2012\\ub144 \\uc601\\ub0a8\\ub300\\uc5d0\\uc11c \\ubb34\\uae30\\uc7ac\\ub8cc\\uacf5\\ud559\\uc73c\\ub85c \\ubc15\\uc0ac\\ud559\\uc704\\ub97c \\ubc1b\\uc558\\ub2e4. \\uc774\\ud6c4 \\uc138\\ub77c\\ubbf9 \\uc81c\\uc870 \\uc804\\ubb38 \\uae30\\uc5c5\\uc778 \\uc138\\ub77c\\ud2b8\\ub799\\uc5d0\\uc11c \\uae30\\uc220\\uc5f0\\uad6c\\uc18c\\uc7a5\\uc73c\\ub85c \\uc138\\ub77c\\ubbf9 \\uacf5\\uc815 \\uae30\\uc220\\uc744 10\\ub144 \\uac00\\uae4c\\uc774 \\uac1c\\ubc1c\\ud588\\ub2e4. \\uc5c5\\ubb34 \\ud30c\\ud2b8\\ub108 \\uc911\\uc5d0\\ub294 \\uc815\\ubd80 \\ucd9c\\uc5f0 \\uc5f0\\uad6c\\uae30\\uad00\\uc778 \\ud55c\\uad6d\\uc7ac\\ub8cc\\uc5f0\\uad6c\\uc6d0\\uc774 \\uc788\\uc5c8\\ub2e4. \\ud55c\\uad6d\\uc7ac\\ub8cc\\uc5f0\\uad6c\\uc6d0\\uc740 \\uc2b5\\uae30\\uc5d0 \\uac15\\ud55c \\uc0c8\\ub85c\\uc6b4 \\ub9c8\\uadf8\\ub124\\uc2dc\\uc544 \\uc81c\\uc870 \\uae30\\uc220\\uc744 \\uac1c\\ubc1c\\ud588\\ub2e4. \\ub300\\uae30\\uc5c5\\uc5d0 \\uc774 \\uae30\\uc220\\uc744 \\ud314\\uae30 \\uc704\\ud574 \\ub9c8\\uadf8\\ub124\\uc2dc\\uc544 \\uc0d8\\ud50c\\uc758 \\uc81c\\uc870\\ub97c \\uc815 \\ub300\\ud45c\\uc5d0\\uac8c \\uc758\\ub8b0\\ud588\\ub2e4. \\uc774\\ud6c4 \\ub300\\uae30\\uc5c5\\uc73c\\ub85c\\uc758 \\uae30\\uc220 \\ud310\\ub9e4\\ub294 \\uc870\\uac74\\uc774 \\ub9de\\uc9c0 \\uc54a\\uc544 \\ucc28\\uc9c8\\uc744 \\ube5a\\uc5c8\\ub2e4. \\ud55c\\uad6d\\uc7ac\\ub8cc\\uc5f0\\uad6c\\uc6d0\\uc740 \\uc138\\ub77c\\ubbf9 \\uacf5\\uc815 \\uc804\\ubb38\\uac00\\uc778 \\uc815 \\ub300\\ud45c\\uc5d0\\uac8c \\uc0ac\\uc5c5\\ud654\\ub97c \\uc81c\\uc548\\ud588\\uace0, \\uc815 \\ub300\\ud45c\\uac00 \\uace0\\uc2ec \\ub05d\\uc5d0 \\uc218\\ub77d\\ud558\\uba74\\uc11c 2021\\ub144 \\uc18c\\uc6b8\\uba38\\ud2f0\\ub9ac\\uc5bc\\uc774 \\uc124\\ub9bd\\ub410\\ub2e4. \\ud55c\\uad6d\\uc7ac\\ub8cc\\uc5f0\\uad6c\\uc6d0\\uc740 \\ud2b9\\ud5c8 \\uae30\\uc220\\uc744 \\ucd9c\\uc790\\ud588\\ub2e4. \\uc815 \\ub300\\ud45c\\ub294 \\uc774 \\uae30\\uc220\\uc5d0 \\ub300\\ud55c \\ub3c5\\uc810\\uc801\\uc778 \\uad8c\\ud55c\\uc744 \\uac16\\uace0, \\uc790\\ubcf8\\uc744 \\ub04c\\uc5b4\\ub4e4\\uc774\\uace0 \\uc591\\uc0b0\\uc744 \\uc704\\ud55c \\uacf5\\uc815 \\uae30\\uc220\\uc744 \\uac1c\\ubc1c\\ud558\\ub294 \\ub4f1 \\uc0ac\\uc5c5\\ud654\\ub97c \\uc8fc\\ub3c4\\uc801\\uc73c\\ub85c \\uc774\\ub04c\\uace0 \\uc788\\ub2e4. \\ub9c8\\uadf8\\ub124\\uc2dc\\uc544 \\uc81c\\uc870 \\uacf5\\uc815 \\uc911 \\uc54c\\ucf54\\uc62c\\uc744 \\uc6a9\\ub9e4\\ub85c \\uc0ac\\uc6a9\\ud558\\ub358 \\uacfc\\uc815\\uc744 \\ubb3c\\ub85c \\ubc14\\uafb8\\uace0, \\uacfc\\ub9bd\\ud654 \\uacf5\\uc815\\uc744 \\ucd5c\\uc801\\ud654\\ud588\\ub2e4. \\ub355\\ubd84\\uc5d0 \\ub9c8\\uadf8\\ub124\\uc2dc\\uc544 \\ubd84\\ub9d0\\uc744 \\uac70\\uc758 \\ub2e4 \\uacf5\\ucc98\\ub7fc \\ub465\\uae00\\uac8c \\ub9cc\\ub4e4 \\uc218 \\uc788\\uc5c8\\ub2e4. \\uae30\\uc874\\ubcf4\\ub2e4 \\uacf5\\uc815\\uc744 \\ud558\\ub098 \\uc904\\uc774\\uace0, \\ub354 \\ub0ae\\uc740 \\uc628\\ub3c4\\uc5d0\\uc11c \\uc81c\\uc870\\ud568\\uc73c\\ub85c\\uc368 \\uc81c\\uc870 \\ub2e8\\uac00\\ub97c \\ub0ae\\ucd94\\uace0 \\uc81c\\uc870 \\uacfc\\uc815\\uc758 \\uce5c\\ud658\\uacbd\\uc131\\ub3c4 \\ub192\\uc600\\ub2e4. \\uc815 \\ub300\\ud45c\\ub294 \\u201c\\uc138\\ub77c\\ubbf9\\uc744 \\uc624\\ub798 \\uc5f0\\uad6c\\ud558\\uace0 \\uc81c\\uc870\\ud55c \\uacbd\\ud5d8\\uc73c\\ub85c \\ubcfc \\ub54c, \\ub0b4\\uc2b5 \\ubb38\\uc81c\\ub97c \\ud574\\uacb0\\ud55c \\ud55c\\uad6d\\uc7ac\\ub8cc\\uc5f0\\uad6c\\uc6d0\\uc758 \\uc0c8 \\ub9c8\\uadf8\\ub124\\uc2dc\\uc544\\ub97c \\uacbd\\uc81c\\uc801\\uc73c\\ub85c \\uc0dd\\uc0b0\\ud55c \\uae30\\uc220\\uc744 \\uac1c\\ubc1c\\ud574 1970\\ub144\\ub300 \\ucd08\\ubd80\\ud130 \\uc4f0\\uc5ec \\uc628 \\uc54c\\ub8e8\\ubbf8\\ub098\\uc758 \\uc81c\\uc870\\ub2e8\\uac00\\ub9cc\\ud07c \\ub0ae\\ucd94\\ub294 \\uac83\\uc740 \\ub3c4\\uc804\\ud574\\ubcfc \\ub9cc\\ud55c \\ubaa9\\ud45c\\uc600\\ub2e4\\u201d\\uba70 \\u201c\\uc544\\uc9c1 \\uc81c\\uc870 \\ub2e8\\uac00\\ub97c \\ub354 \\ub0ae\\ucd94\\uae30\\ub294 \\ud574\\uc57c \\ud558\\uc9c0\\ub9cc \\uc790\\ubcf8\\uc744 \\ud22c\\uc785\\ud574 \\ub300\\ub7c9 \\uc0dd\\uc0b0\\uc744 \\ud560 \\uc218 \\uc788\\uc73c\\uba74 \\ubaa9\\ud45c\\ub97c \\ub2ec\\uc131\\ud560 \\uc218 \\uc788\\uc744 \\uac83\\uc73c\\ub85c \\uc608\\uc0c1\\ud55c\\ub2e4\\u201d\\uace0 \\ud588\\ub2e4. \\uadf8\\ub294 \\uc774\\uc5b4 \\u201c\\uc138\\uacc4\\uc801\\uc778 \\ubd80\\ud488\\uae30\\uc5c5\\ub4e4 5\\uacf3\\uc758 \\uc131\\ub2a5 \\uc778\\uc99d \\uc2dc\\ud5d8\\uc744 \\ud1b5\\uacfc\\ud588\\ub2e4\\u201d\\uace0 \\ud588\\ub2e4. \\uc774 \\uc0ac\\uc5c5\\uc774 \\uc131\\uacf5\\ud558\\uba74 \\uc815 \\ub300\\ud45c\\ubfd0\\ub9cc \\uc544\\ub2c8\\ub77c \\ud55c\\uad6d\\uc7ac\\ub8cc\\uc5f0\\uad6c\\uc6d0\\uacfc \\uae30\\uc220\\uc744 \\uac1c\\ubc1c\\ud55c \\uc5f0\\uad6c\\uc6d0\\ub4e4\\uc5d0\\uac8c\\ub3c4 \\uc218\\uc775\\uc774 \\ubc30\\ubd84\\ub41c\\ub2e4. \\uc815 \\ub300\\ud45c\\ub294 \\u201c\\ud55c\\uad6d\\uc7ac\\ub8cc\\uc5f0\\uad6c\\uc6d0\\uc744 \\ube44\\ub86f\\ud55c \\ub9ce\\uc740 \\uc815\\ubd80 \\ucd9c\\uc5f0 \\uc5f0\\uad6c\\uae30\\uad00\\ub4e4\\uc740 \\uc0ac\\uc5c5\\ud654\\uac00 \\uac00\\ub2a5\\ud55c \\ubcf4\\uc720 \\uae30\\uc220\\ub4e4\\uc744 \\uc18c\\uac1c\\ud558\\ub294 \\ud589\\uc0ac\\ub4e4\\uc744 \\ub9ce\\uc774 \\uc5f0\\ub2e4\\u201d\\uba70 \\u201c\\uc815\\ubd80\\uac00 \\ub9ce\\uc740 \\uc608\\uc0b0\\uc744 \\ub4e4\\uc5ec \\uac1c\\ubc1c\\ud55c \\uae30\\uc220\\uc744 \\ud65c\\uc6a9\\ud574 \\ucc3d\\uc5c5\\uc744 \\ud558\\ub294 \\ubc29\\uc548\\uc744 \\uc608\\ube44 \\ucc3d\\uc5c5\\uc790\\ub4e4\\uc774 \\uc0dd\\uac01\\ud574 \\ubcfc \\ub9cc\\ud558\\ub2e4\\u201d\\uace0 \\ud588\\ub2e4.\\u25cf\\u201c\\uc62c\\ud574 \\ud558\\ubc18\\uae30 \\ucd94\\uac00 \\ud22c\\uc790\\ubc1b\\uc544 \\uc124\\ube44 \\uc99d\\uc124 \\uacc4\\ud68d\\u201d\\uc18c\\uc6b8\\uba38\\ud2f0\\ub9ac\\uc5bc\\uc758 \\ub2f9\\uba74\\ud55c \\uacfc\\uc81c\\ub294 \\ub300\\ub7c9 \\uc0dd\\uc0b0 \\uccb4\\uc81c \\uad6c\\ucd95\\uc774\\ub2e4. \\ud604\\uc7ac\\ub294 \\uacbd\\ubd81\\ud14c\\ud06c\\ub178\\ud30c\\ud06c\\uc5d0 \\uc788\\ub294 830m\\u00b2(\\uc57d 250\\ud3c9) \\uaddc\\ubaa8\\uc758 \\uacf5\\uc7a5\\uc5d0 \\uc6d4 9t\\uc758 \\uc0dd\\uc0b0 \\ub2a5\\ub825\\uc744 \\uac16\\ucd94\\uace0 \\uc788\\ub2e4. \\uc791\\ub144 \\ud558\\ubc18\\uae30 \\ud22c\\uc790\\ubc1b\\uc740 \\uc7ac\\uc6d0\\uc744 \\ud65c\\uc6a9\\ud574 \\uc5f0\\ub9d0\\uc5d0\\ub294 \\uc6d4 40t\\uc758 \\uc0dd\\uc0b0 \\ub2a5\\ub825\\uc744 \\uac16\\ucd94\\ub294 \\uac83\\uc774 \\ubaa9\\ud45c\\ub2e4. \\ucc3d\\uc5c5 1\\ub144 6\\uac1c\\uc6d4 \\ub9cc\\uc5d0 \\uc591\\uc0b0 \\uae30\\uc220\\uc744 \\uac1c\\ubc1c\\ud558\\uace0 \\uc18c\\uaddc\\ubaa8 \\uc591\\uc0b0 \\uccb4\\uc81c\\uae4c\\uc9c0 \\uac16\\ucd94\\uace0 \\ub369\\uce58\\ub97c \\ud0a4\\uc6b0\\ub824\\uace0 \\ud558\\uace0 \\uc788\\ub294 \\uac83\\uc774\\ub2e4. \\uc774\\ub294 \\uc18c\\uc6b8\\uba38\\ud2f0\\ub9ac\\uc5bc\\uc758 \\ub2a5\\ub825\\uc744 \\ubbff\\uace0 57\\uc5b5 \\uc6d0\\uc744 \\ud22c\\uc790\\ud55c \\uae30\\uad00\\ub4e4\\uc774 \\uc788\\uc5c8\\uae30\\uc5d0 \\uac00\\ub2a5\\ud588\\ub2e4. \\ud55c\\uad6d\\uc7ac\\ub8cc\\uc5f0\\uad6c\\uc6d0 10\\uc5b5 \\uc6d0(\\uae30\\uc220 \\ucd9c\\uc790), \\uae30\\uc220\\ubcf4\\uc99d\\uae30\\uae08\\uc774 20\\uc5b5 \\uc6d0\\uc744 \\ud22c\\uc790\\ud55c \\uac83\\uc744 \\ube44\\ub86f\\ud574 \\ubc30\\ud130\\ub9ac \\uc804\\ubb38 \\uae30\\uc5c5 \\uadf8\\ub8f9\\uc778 \\uc5d0\\ucf54\\ud504\\ub85c\\uadf8\\ub8f9\\uc758 \\ucc3d\\ud22c\\uc0ac \\uc544\\uc774\\uc2a4\\ud018\\uc5b4\\ubca4\\ucc98\\uc2a4\\uac00 20\\uc5b5 \\uc6d0\\uc744 \\ud22c\\uc790\\ud588\\ub2e4. \\uc62c\\ud574 \\ud558\\ubc18\\uae30 \\ucd94\\uac00 \\ud22c\\uc790 \\uc720\\uce58\\ub3c4 \\uacc4\\ud68d \\uc911\\uc774\\ub2e4. \\uc18c\\uc6b8\\uba38\\ud2f0\\ub9ac\\uc5bc\\uc740 \\ud55c\\uad6d\\uc7ac\\ub8cc\\uc5f0\\uad6c\\uc6d0\\uacfc \\ud611\\uc5c5\\ud574 \\ub9c8\\uadf8\\ub124\\uc2dc\\uc544\\uc758 \\uc804\\ub3c4\\uc131\\uc740 \\ub192\\uc774\\uace0, \\ubb34\\uac8c\\ub294 \\ub354 \\uac00\\ubccd\\uac8c \\ud558\\ub294 \\uc5f0\\uad6c\\ub3c4 \\uc9c4\\ud589 \\uc911\\uc774\\ub2e4. \\ud6c4\\uc18d \\uc5f0\\uad6c\\uac1c\\ubc1c\\uc5d0\\uc11c\\ub3c4 \\uc5f0\\uad6c\\uc6d0\\uc758 \\uace0\\uae09 \\uc778\\ub825\\uacfc \\uc7a5\\ube44\\ub97c \\ud65c\\uc6a9\\ud560 \\uc218 \\uc788\\ub2e4\\ub294 \\uac83\\uc774 \\uc5f0\\uad6c\\uc6d0\\uc73c\\ub85c\\ubd80\\ud130 \\uae30\\uc220 \\uc774\\uc804\\uc744 \\ubc1b\\uc740 \\uae30\\uc5c5\\uc758 \\uc7a5\\uc810\\uc774\\ub2e4.  \\uc18c\\uc6b8\\uba38\\ud2f0\\ub9ac\\uc5bc\\uc740 2025\\ub144\\uc774\\uba74 \\uc804\\uae30\\ucc28\\uc5d0 \\uc4f0\\uc77c \\uc5f4\\uacc4\\uba74\\uc18c\\uc7ac\\uc6a9 \\ubc29\\uc5f4 \\uc18c\\uc7ac \\uc2dc\\uc7a5\\uc774 9\\uc8707000\\uc5b5 \\uc6d0\\uc5d0 \\ub2ec\\ud560 \\uac83\\uc73c\\ub85c \\uc804\\ub9dd\\ud558\\uace0 \\uc788\\ub2e4. \\uc804\\uae30\\ucc28 \\ud310\\ub9e4\\ub7c9\\uc744 \\ubc14\\ud0d5\\uc73c\\ub85c \\ud55c \\ucd94\\uc0b0\\uc774\\ub2e4. \\uc815 \\ub300\\ud45c\\ub294 \\u201c\\uc804\\uae30\\ucc28 \\ubc30\\ud130\\ub9ac\\ubfd0\\ub9cc \\uc544\\ub2c8\\ub77c \\uc2a4\\ub9c8\\ud2b8\\ud3f0\\uc774\\ub098 \\ucef4\\ud4e8\\ud130 \\ub4f1\\uc5d0 \\ub4e4\\uc5b4\\uac00\\ub294 \\ubc18\\ub3c4\\uccb4\\uc5d0\\ub3c4 \\uc4f0\\uc77c \\uc218 \\uc788\\ub294 \\uc18c\\uc7ac\\uc5ec\\uc11c \\uc218\\uc694\\ub294 \\uc9c0\\uc18d\\uc801\\uc73c\\ub85c \\ub298\\uc5b4\\ub0a0 \\uac83\\uc73c\\ub85c \\ubcf4\\uace0 \\uc788\\ub2e4\\u201d\\uace0 \\ud588\\ub2e4.\\n\",\n          \"\\n\\uc0c1\\ud558\\uc774 \\ub2f9\\uc11c\\uae30\\ub54c\\ubd80\\ud130 \\uc778\\uc5f0\\ub300\\uc678\\uac1c\\ubc29 \\ub9de\\ubb3c\\ub824 \\ub51c \\uc131\\uc0ac \\ucd09\\uac01\\uc77c\\ub860 \\uba38\\uc2a4\\ud06c \\ud14c\\uc2ac\\ub77c \\ucd5c\\uace0\\uacbd\\uc601\\uc790(CEO)\\uac00 \\uc774\\ub974\\uba74 \\uc774\\ub2ec \\uc911\\uad6d\\uc744 \\ubc29\\ubb38\\ud574 \\uc11c\\uc5f4 2\\uc704 \\ub9ac\\ucc3d \\ucd1d\\ub9ac\\uc640 \\uba74\\ub2f4\\ud558\\ub294 \\ubc29\\uc548\\uc744 \\uacc4\\ud68d\\ud558\\uace0 \\uc788\\ub2e4\\uace0 \\uc9c0\\ub09c\\ub2ec 31\\uc77c \\ub85c\\uc774\\ud130\\ud1b5\\uc2e0\\uc774 \\uc18c\\uc2dd\\ud1b5\\uc744 \\uc778\\uc6a9\\ud574 \\ubcf4\\ub3c4\\ud588\\ub2e4.\\uba38\\uc2a4\\ud06c\\uc758 \\uc911\\uad6d \\ubc29\\ubb38\\uc774 \\uc131\\uc0ac\\ub418\\uba74 2020\\ub144 1\\uc6d4 \\uc774\\ud6c4 3\\ub144\\uc5ec \\ub9cc\\uc73c\\ub85c \\ucf54\\ub85c\\ub09819 \\ud655\\uc0b0 \\ud6c4 \\ucc98\\uc74c\\uc774\\ub2e4. \\uc2dc\\uc9c4\\ud551 \\uad6d\\uac00\\uc8fc\\uc11d\\uc758 \\u2018\\ubcf5\\uc2ec\\u2019\\uc73c\\ub85c \\ud1b5\\ud558\\ub294 \\ub9ac \\ucd1d\\ub9ac\\ub294 \\ub300\\ud45c\\uc801\\uc778 \\ub300\\uc678 \\uac1c\\ubc29\\ub860\\uc790\\ub77c\\ub294 \\uc810\\uc5d0\\uc11c \\uc774\\ubc88 \\ub9cc\\ub0a8\\uc758 \\uc131\\uc0ac \\uc5ec\\ubd80\\uac00 \\uc8fc\\ubaa9\\ub41c\\ub2e4. \\ub9ac \\ucd1d\\ub9ac\\ub294 2017~2022\\ub144 \\uc0c1\\ud558\\uc774 \\ub2f9\\uc11c\\uae30\\ub97c \\uc9c0\\ub0b4\\uba74\\uc11c \\ud14c\\uc2ac\\ub77c\\uc758 \\uacf5\\uc7a5 \\uc124\\ub9bd \\ud5c8\\uac00\\ub97c \\uc8fc\\ub3c4\\ud588\\ub2e4. \\ud14c\\uc2ac\\ub77c\\ub294 2020\\ub144\\ubd80\\ud130 \\uc0c1\\ud558\\uc774 \\uacf5\\uc7a5\\uc5d0\\uc11c \\uc804\\uae30\\ucc28 \\uc591\\uc0b0\\uc5d0 \\ub4e4\\uc5b4\\uac14\\uace0, \\uc911\\uad6d\\uc740 \\ud14c\\uc2ac\\ub77c\\uc758 \\ucd5c\\ub300 \\uc804\\uae30\\ucc28 \\uc218\\uc785\\uad6d\\uc73c\\ub85c \\ubd80\\uc0c1\\ud588\\ub2e4. \\ub9ac \\ucd1d\\ub9ac\\ub294 \\uc9c0\\ub09c\\ub2ec \\ucde8\\uc784 \\uc774\\ud6c4 \\uc678\\uc790 \\uc720\\uce58\\uc640 \\uad50\\uc5ed \\ud65c\\uc131\\ud654 \\ub4f1 \\ub300\\uc678 \\uac1c\\ubc29\\uc744 \\uac15\\uc870\\ud558\\uba74\\uc11c \\uc911\\uad6d \\uacbd\\uc81c \\uc0b4\\ub9ac\\uae30\\uc5d0 \\uc8fc\\ub825\\ud558\\uace0 \\uc788\\ub2e4.\\ud55c\\ud3b8 \\uc6d4\\uc2a4\\ud2b8\\ub9ac\\ud2b8\\uc800\\ub110(WSJ)\\uc740 1\\uc77c(\\ud604\\uc9c0\\uc2dc\\uac04) \\uba38\\uc2a4\\ud06c\\uac00 \\uc9c1\\uc6d0\\ub4e4\\uc5d0\\uac8c \\u2018\\ud2b8\\uc704\\ud130 2.0\\u2019 \\uacc4\\ud68d\\uc744 \\uc124\\uba85\\ud558\\uba74\\uc11c \\u201c\\ud2b8\\uc704\\ud130\\uac00 2500\\uc5b5\\ub2ec\\ub7ec(\\uc57d 327\\uc8705000\\uc5b5\\uc6d0) \\uc774\\uc0c1\\uc758 \\uac00\\uce58\\ub97c \\uc9c0\\ub2cc \\ud68c\\uc0ac\\uac00 \\ub420 \\uac83\\u201d\\uc774\\ub77c\\uace0 \\ub9d0\\ud588\\ub2e4\\uace0 \\ubcf4\\ub3c4\\ud588\\ub2e4. \\uba38\\uc2a4\\ud06c\\uc758 \\uc778\\uc218 \\uc774\\ud6c4 \\ube44\\uc0c1\\uc7a5\\uc0ac\\uac00 \\ub41c \\ud2b8\\uc704\\ud130\\uc758 \\uae30\\uc5c5\\uac00\\uce58\\ub294 200\\uc5b5\\ub2ec\\ub7ec(\\uc57d 26\\uc8702000\\uc5b5\\uc6d0)\\ub85c \\ucd94\\uc815\\ub41c\\ub2e4.WSJ\\ub294 \\uba38\\uc2a4\\ud06c\\uac00 \\ud2b8\\uc704\\ud130\\ub97c \\ud1b5\\ud574 \\uc0ac\\uc6a9\\uc790\\ub4e4\\uc774 \\ub3c8\\uc744 \\ubcf4\\ub0b4\\uace0 \\uc608\\uae08\\ud560 \\uc218 \\uc788\\ub294 \\ub514\\uc9c0\\ud138 \\uc740\\ud589\\uc744 \\uad6c\\uc0c1 \\uc911\\uc778 \\uac83\\uc73c\\ub85c \\ubcf4\\uc778\\ub2e4\\uace0 \\uc804\\ud588\\ub2e4. \\uc911\\uad6d \\ud150\\uc13c\\ud2b8\\uc758 \\ubaa8\\ubc14\\uc77c \\uba54\\uc2e0\\uc800 \\uc704\\ucc57\\uacfc \\ube44\\uc2b7\\ud55c \\ud615\\ud0dc\\uc758 \\u2018\\uc288\\ud37c\\uc571\\u2019 \\ud0c4\\uc0dd\\uc744 \\uafc8\\uafb8\\uace0 \\uc788\\ub2e4\\ub294 \\uac83\\uc774\\ub2e4.\\n\"\n        ],\n        \"semantic_type\": \"\",\n        \"description\": \"\"\n      }\n    },\n    {\n      \"column\": \"date\",\n      \"properties\": {\n        \"dtype\": \"object\",\n        \"num_unique_values\": 2,\n        \"samples\": [\n          \"2023.04.01.\",\n          \"2023.04.02.\"\n        ],\n        \"semantic_type\": \"\",\n        \"description\": \"\"\n      }\n    }\n  ]\n}"
            }
          },
          "metadata": {},
          "execution_count": 66
        }
      ]
    },
    {
      "cell_type": "markdown",
      "source": [
        " - NLP 및 데이터셋 만들기"
      ],
      "metadata": {
        "id": "G6sqzVbx2V4E"
      }
    },
    {
      "cell_type": "code",
      "source": [
        "!pip install konlpy\n",
        "\n",
        "from konlpy.tag import Okt\n",
        "okt=Okt()\n",
        "def tokenizer(text):  #함수를 만드는 부분\n",
        "    # 입력 인자로 들어온 text 를 형태소 단어로 토큰화 하여 list 객체 반환\n",
        "    tokens_ko = okt.nouns(text) #nouns를 morphs로 바꾸면 명사외에도...\n",
        "    return tokens_ko\n"
      ],
      "metadata": {
        "colab": {
          "base_uri": "https://localhost:8080/"
        },
        "outputId": "669ffeb8-5607-4327-94fe-546cc9457711",
        "id": "_1JLBUA2We9w"
      },
      "execution_count": 67,
      "outputs": [
        {
          "output_type": "stream",
          "name": "stdout",
          "text": [
            "Requirement already satisfied: konlpy in /usr/local/lib/python3.10/dist-packages (0.6.0)\n",
            "Requirement already satisfied: JPype1>=0.7.0 in /usr/local/lib/python3.10/dist-packages (from konlpy) (1.5.0)\n",
            "Requirement already satisfied: lxml>=4.1.0 in /usr/local/lib/python3.10/dist-packages (from konlpy) (4.9.4)\n",
            "Requirement already satisfied: numpy>=1.6 in /usr/local/lib/python3.10/dist-packages (from konlpy) (1.26.4)\n",
            "Requirement already satisfied: packaging in /usr/local/lib/python3.10/dist-packages (from JPype1>=0.7.0->konlpy) (24.1)\n"
          ]
        }
      ]
    },
    {
      "cell_type": "code",
      "source": [
        "from sklearn.feature_extraction.text import CountVectorizer\n",
        "from sklearn.feature_extraction.text import TfidfVectorizer\n",
        "\n",
        "tf_vect = TfidfVectorizer(tokenizer=tokenizer,\n",
        "                          stop_words=['건','악','최', '초','총',  '탈', '폭'],\n",
        "                          min_df=0.1)\n",
        "dtm = tf_vect.fit_transform( df.news )\n",
        "dtm\n"
      ],
      "metadata": {
        "colab": {
          "base_uri": "https://localhost:8080/"
        },
        "outputId": "f85da6b4-ae2c-4cbe-b40a-753fe2b32341",
        "id": "ARdfmMvyWe9w"
      },
      "execution_count": 68,
      "outputs": [
        {
          "output_type": "stream",
          "name": "stderr",
          "text": [
            "/usr/local/lib/python3.10/dist-packages/sklearn/feature_extraction/text.py:525: UserWarning: The parameter 'token_pattern' will not be used since 'tokenizer' is not None'\n",
            "  warnings.warn(\n"
          ]
        },
        {
          "output_type": "execute_result",
          "data": {
            "text/plain": [
              "<28x608 sparse matrix of type '<class 'numpy.float64'>'\n",
              "\twith 3358 stored elements in Compressed Sparse Row format>"
            ]
          },
          "metadata": {},
          "execution_count": 68
        }
      ]
    }
  ]
}