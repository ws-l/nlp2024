{
  "nbformat": 4,
  "nbformat_minor": 0,
  "metadata": {
    "colab": {
      "provenance": []
    },
    "kernelspec": {
      "name": "python3",
      "display_name": "Python 3"
    },
    "language_info": {
      "name": "python"
    }
  },
  "cells": [
    {
      "cell_type": "markdown",
      "source": [
        "# 1. 토픽모델링: sklearn"
      ],
      "metadata": {
        "id": "9HZAMHXzxfbU"
      }
    },
    {
      "cell_type": "code",
      "metadata": {
        "id": "iBNk3E1t8TVR",
        "colab": {
          "base_uri": "https://localhost:8080/"
        },
        "outputId": "5e495c1d-5040-4856-d662-c7c00cd01e4d"
      },
      "source": [
        "from sklearn.datasets import fetch_20newsgroups\n",
        "from sklearn.feature_extraction.text import CountVectorizer\n",
        "from sklearn.decomposition import LatentDirichletAllocation\n",
        "\n",
        "# 모토사이클, 야구, 그래픽스, 윈도우즈, 중동, 기독교, 의학, 우주 주제를 추출.\n",
        "cats = ['rec.motorcycles', 'rec.sport.baseball', 'comp.graphics', 'comp.windows.x',\n",
        "        'talk.politics.mideast', 'soc.religion.christian', 'sci.electronics', 'sci.med'  ]\n",
        "\n",
        "# 위에서 cats 변수로 기재된 category만 추출. featch_20newsgroups( )의 categories에 cats 입력\n",
        "news_df= fetch_20newsgroups(subset='all',remove=('headers', 'footers', 'quotes'),\n",
        "                            categories=cats, random_state=0)\n",
        "\n",
        "#LDA 는 Count기반의 Vectorizer만 적용합니다.\n",
        "count_vect = CountVectorizer(max_df=0.95, max_features=1000, min_df=2, stop_words='english', ngram_range=(1,2))\n",
        "feat_vect = count_vect.fit_transform(news_df.data)\n",
        "print('CountVectorizer Shape:', feat_vect.shape)"
      ],
      "execution_count": null,
      "outputs": [
        {
          "output_type": "stream",
          "name": "stdout",
          "text": [
            "CountVectorizer Shape: (7862, 1000)\n"
          ]
        }
      ]
    },
    {
      "cell_type": "code",
      "source": [
        "count_vect.get_feature_names_out()"
      ],
      "metadata": {
        "id": "MQ2skR6u2o3A"
      },
      "execution_count": null,
      "outputs": []
    },
    {
      "cell_type": "markdown",
      "metadata": {
        "id": "nK_1gGTNRrNZ"
      },
      "source": [
        "- LDA 객체 생성 후 Count 피처 벡터화 객체로 LDA 수행"
      ]
    },
    {
      "cell_type": "code",
      "metadata": {
        "id": "liZg-ukF8TaK",
        "colab": {
          "base_uri": "https://localhost:8080/",
          "height": 74
        },
        "outputId": "5fa9b719-4eba-4e6c-96c3-7a9ca5fe2291"
      },
      "source": [
        "lda = LatentDirichletAllocation(n_components=8, random_state=0)\n",
        "lda.fit(feat_vect)"
      ],
      "execution_count": null,
      "outputs": [
        {
          "output_type": "execute_result",
          "data": {
            "text/plain": [
              "LatentDirichletAllocation(n_components=8, random_state=0)"
            ],
            "text/html": [
              "<style>#sk-container-id-2 {color: black;background-color: white;}#sk-container-id-2 pre{padding: 0;}#sk-container-id-2 div.sk-toggleable {background-color: white;}#sk-container-id-2 label.sk-toggleable__label {cursor: pointer;display: block;width: 100%;margin-bottom: 0;padding: 0.3em;box-sizing: border-box;text-align: center;}#sk-container-id-2 label.sk-toggleable__label-arrow:before {content: \"▸\";float: left;margin-right: 0.25em;color: #696969;}#sk-container-id-2 label.sk-toggleable__label-arrow:hover:before {color: black;}#sk-container-id-2 div.sk-estimator:hover label.sk-toggleable__label-arrow:before {color: black;}#sk-container-id-2 div.sk-toggleable__content {max-height: 0;max-width: 0;overflow: hidden;text-align: left;background-color: #f0f8ff;}#sk-container-id-2 div.sk-toggleable__content pre {margin: 0.2em;color: black;border-radius: 0.25em;background-color: #f0f8ff;}#sk-container-id-2 input.sk-toggleable__control:checked~div.sk-toggleable__content {max-height: 200px;max-width: 100%;overflow: auto;}#sk-container-id-2 input.sk-toggleable__control:checked~label.sk-toggleable__label-arrow:before {content: \"▾\";}#sk-container-id-2 div.sk-estimator input.sk-toggleable__control:checked~label.sk-toggleable__label {background-color: #d4ebff;}#sk-container-id-2 div.sk-label input.sk-toggleable__control:checked~label.sk-toggleable__label {background-color: #d4ebff;}#sk-container-id-2 input.sk-hidden--visually {border: 0;clip: rect(1px 1px 1px 1px);clip: rect(1px, 1px, 1px, 1px);height: 1px;margin: -1px;overflow: hidden;padding: 0;position: absolute;width: 1px;}#sk-container-id-2 div.sk-estimator {font-family: monospace;background-color: #f0f8ff;border: 1px dotted black;border-radius: 0.25em;box-sizing: border-box;margin-bottom: 0.5em;}#sk-container-id-2 div.sk-estimator:hover {background-color: #d4ebff;}#sk-container-id-2 div.sk-parallel-item::after {content: \"\";width: 100%;border-bottom: 1px solid gray;flex-grow: 1;}#sk-container-id-2 div.sk-label:hover label.sk-toggleable__label {background-color: #d4ebff;}#sk-container-id-2 div.sk-serial::before {content: \"\";position: absolute;border-left: 1px solid gray;box-sizing: border-box;top: 0;bottom: 0;left: 50%;z-index: 0;}#sk-container-id-2 div.sk-serial {display: flex;flex-direction: column;align-items: center;background-color: white;padding-right: 0.2em;padding-left: 0.2em;position: relative;}#sk-container-id-2 div.sk-item {position: relative;z-index: 1;}#sk-container-id-2 div.sk-parallel {display: flex;align-items: stretch;justify-content: center;background-color: white;position: relative;}#sk-container-id-2 div.sk-item::before, #sk-container-id-2 div.sk-parallel-item::before {content: \"\";position: absolute;border-left: 1px solid gray;box-sizing: border-box;top: 0;bottom: 0;left: 50%;z-index: -1;}#sk-container-id-2 div.sk-parallel-item {display: flex;flex-direction: column;z-index: 1;position: relative;background-color: white;}#sk-container-id-2 div.sk-parallel-item:first-child::after {align-self: flex-end;width: 50%;}#sk-container-id-2 div.sk-parallel-item:last-child::after {align-self: flex-start;width: 50%;}#sk-container-id-2 div.sk-parallel-item:only-child::after {width: 0;}#sk-container-id-2 div.sk-dashed-wrapped {border: 1px dashed gray;margin: 0 0.4em 0.5em 0.4em;box-sizing: border-box;padding-bottom: 0.4em;background-color: white;}#sk-container-id-2 div.sk-label label {font-family: monospace;font-weight: bold;display: inline-block;line-height: 1.2em;}#sk-container-id-2 div.sk-label-container {text-align: center;}#sk-container-id-2 div.sk-container {/* jupyter's `normalize.less` sets `[hidden] { display: none; }` but bootstrap.min.css set `[hidden] { display: none !important; }` so we also need the `!important` here to be able to override the default hidden behavior on the sphinx rendered scikit-learn.org. See: https://github.com/scikit-learn/scikit-learn/issues/21755 */display: inline-block !important;position: relative;}#sk-container-id-2 div.sk-text-repr-fallback {display: none;}</style><div id=\"sk-container-id-2\" class=\"sk-top-container\"><div class=\"sk-text-repr-fallback\"><pre>LatentDirichletAllocation(n_components=8, random_state=0)</pre><b>In a Jupyter environment, please rerun this cell to show the HTML representation or trust the notebook. <br />On GitHub, the HTML representation is unable to render, please try loading this page with nbviewer.org.</b></div><div class=\"sk-container\" hidden><div class=\"sk-item\"><div class=\"sk-estimator sk-toggleable\"><input class=\"sk-toggleable__control sk-hidden--visually\" id=\"sk-estimator-id-2\" type=\"checkbox\" checked><label for=\"sk-estimator-id-2\" class=\"sk-toggleable__label sk-toggleable__label-arrow\">LatentDirichletAllocation</label><div class=\"sk-toggleable__content\"><pre>LatentDirichletAllocation(n_components=8, random_state=0)</pre></div></div></div></div></div>"
            ]
          },
          "metadata": {},
          "execution_count": 152
        }
      ]
    },
    {
      "cell_type": "markdown",
      "metadata": {
        "id": "Xn_FLpPSRvtM"
      },
      "source": [
        "- 각 토픽 모델링 주제별 단어들의 연관도 확인\n",
        " - ida 객체의 componets_ 속성은 주제별로 개별 단어들의 연관도 정규화 숫자\n",
        " - shape는 주제 개수 X 피쳐 단어 개수\n",
        " - componets_ 에 들어 있는 숫자 값은 각 주제별로 단어가 나타난 횟수를 정규화 하여 나타냄.\n",
        " - 숫자가 클 수록 토픽에서 단어가 차지하는 비중이 높음"
      ]
    },
    {
      "cell_type": "code",
      "metadata": {
        "id": "73V2Oqno8Td-",
        "colab": {
          "base_uri": "https://localhost:8080/"
        },
        "outputId": "1e0bb579-e947-4fb2-841e-044f4c9ba40a"
      },
      "source": [
        "print(lda.components_.shape)\n",
        "lda.components_"
      ],
      "execution_count": null,
      "outputs": [
        {
          "output_type": "stream",
          "name": "stdout",
          "text": [
            "(8, 1000)\n"
          ]
        },
        {
          "output_type": "execute_result",
          "data": {
            "text/plain": [
              "array([[ 36.099, 135.627,  21.575, ...,  30.291,  86.683,  67.929],\n",
              "       [  0.125,  14.44 ,   0.125, ..., 181.507,   0.125,  93.959],\n",
              "       [334.763,   0.125, 146.743, ...,   0.125,  36.369,   0.125],\n",
              "       ...,\n",
              "       [ 36.02 ,  20.864,   4.296, ...,  14.506,   8.339,  15.569],\n",
              "       [  0.125,   0.125,   0.125, ...,  91.728,   0.125,  37.458],\n",
              "       [ 54.926,   4.47 ,   9.885, ...,  48.705,   0.125,   0.125]])"
            ]
          },
          "metadata": {},
          "execution_count": 153
        }
      ]
    },
    {
      "cell_type": "markdown",
      "metadata": {
        "id": "YDky2kDDSpfD"
      },
      "source": [
        "- 각 토픽별 중심 단어 확인"
      ]
    },
    {
      "cell_type": "code",
      "metadata": {
        "id": "HMD1OpGMRWzH",
        "colab": {
          "base_uri": "https://localhost:8080/"
        },
        "outputId": "a9b7dcd3-f79e-46b6-dccf-c151ac4bee41"
      },
      "source": [
        "def display_topics(model, feature_names, no_top_words):\n",
        "    for topic_index, topic in enumerate(model.components_):\n",
        "        print('Topic #',topic_index)\n",
        "\n",
        "        # components_ array에서 가장 값이 큰 순으로 정렬했을 때, 그 값의 array index를 반환.\n",
        "        topic_word_indexes = topic.argsort()[::-1]\n",
        "        top_indexes=topic_word_indexes[:no_top_words]\n",
        "\n",
        "        # top_indexes대상인 index별로 feature_names에 해당하는 word feature 추출 후 join으로 concat\n",
        "        feature_concat = ' '.join([feature_names[i] for i in top_indexes])\n",
        "        print(feature_concat)\n",
        "\n",
        "# CountVectorizer객체내의 전체 word들의 명칭을 get_features_names( )를 통해 추출\n",
        "feature_names = count_vect.get_feature_names_out()\n",
        "\n",
        "# Topic별 가장 연관도가 높은 word를 15개만 추출\n",
        "display_topics(lda, feature_names, 15)"
      ],
      "execution_count": null,
      "outputs": [
        {
          "output_type": "stream",
          "name": "stdout",
          "text": [
            "Topic # 0\n",
            "year 10 game medical health team 12 20 disease cancer 1993 games years patients good\n",
            "Topic # 1\n",
            "don just like know people said think time ve didn right going say ll way\n",
            "Topic # 2\n",
            "image file jpeg program gif images output format files color entry 00 use bit 03\n",
            "Topic # 3\n",
            "like know don think use does just good time book read information people used post\n",
            "Topic # 4\n",
            "armenian israel armenians jews turkish people israeli jewish government war dos dos turkey arab armenia 000\n",
            "Topic # 5\n",
            "edu com available graphics ftp data pub motif mail widget software mit information version sun\n",
            "Topic # 6\n",
            "god people jesus church believe christ does christian say think christians bible faith sin life\n",
            "Topic # 7\n",
            "use dos thanks windows using window does display help like problem server need know run\n"
          ]
        }
      ]
    },
    {
      "cell_type": "markdown",
      "metadata": {
        "id": "G6L4hEu8T8Hg"
      },
      "source": [
        "- 개별 문서별 토픽 분포 확인\n",
        " - ida객체의 transform()을 수행하면 개별 문서별 토픽 분호를 변환"
      ]
    },
    {
      "cell_type": "code",
      "metadata": {
        "id": "9ZA02QnxRW2R",
        "colab": {
          "base_uri": "https://localhost:8080/"
        },
        "outputId": "29725c3d-e4aa-4863-abd4-dcef28417181"
      },
      "source": [
        "doc_topics = lda.transform(feat_vect)\n",
        "print(doc_topics.shape)\n",
        "print(doc_topics[:3])"
      ],
      "execution_count": null,
      "outputs": [
        {
          "output_type": "stream",
          "name": "stdout",
          "text": [
            "(7862, 8)\n",
            "[[0.014 0.014 0.014 0.482 0.014 0.014 0.014 0.434]\n",
            " [0.278 0.182 0.002 0.53  0.002 0.002 0.002 0.002]\n",
            " [0.005 0.222 0.005 0.005 0.005 0.005 0.005 0.746]]\n"
          ]
        }
      ]
    },
    {
      "cell_type": "markdown",
      "metadata": {
        "id": "HrheAnQuVGxT"
      },
      "source": [
        "- 개별 문서별 토픽 분포도를 출력\n",
        " - 20Newsgroup으로 만들어진 문서명을 출력\n",
        " - featch_20newsgopurs()으로 만들어진 데이터의 filename속성은 모든 문서의 문서명\n",
        " - filenames 속성은 절대 디렉토리를 가지는 문서명을 가지고 있으므로 '\\'로 분할하여 맨 마지막 두번째 부터 파일명확인"
      ]
    },
    {
      "cell_type": "code",
      "metadata": {
        "id": "yDqSRHPFRW5i",
        "colab": {
          "base_uri": "https://localhost:8080/"
        },
        "outputId": "24a09403-e40d-4113-a0bd-7c70ef6b675e"
      },
      "source": [
        "def get_filename_list(newsdata):\n",
        "  filename_list = []\n",
        "\n",
        "  for file in newsdata.filenames:\n",
        "    filenames_temp = file.split('\\\\')[-2:]\n",
        "    filename = '.'.join(filenames_temp)\n",
        "    filename_list.append(filename)\n",
        "  return filename_list\n",
        "filename_list = get_filename_list(news_df)\n",
        "print('filename 개수',len(filename_list), 'filename list 10개만',filename_list[:10])"
      ],
      "execution_count": null,
      "outputs": [
        {
          "output_type": "stream",
          "name": "stdout",
          "text": [
            "filename 개수 7862 filename list 10개만 ['/root/scikit_learn_data/20news_home/20news-bydate-train/soc.religion.christian/20630', '/root/scikit_learn_data/20news_home/20news-bydate-test/sci.med/59422', '/root/scikit_learn_data/20news_home/20news-bydate-test/comp.graphics/38765', '/root/scikit_learn_data/20news_home/20news-bydate-test/comp.graphics/38810', '/root/scikit_learn_data/20news_home/20news-bydate-test/sci.med/59449', '/root/scikit_learn_data/20news_home/20news-bydate-train/comp.graphics/38461', '/root/scikit_learn_data/20news_home/20news-bydate-train/comp.windows.x/66959', '/root/scikit_learn_data/20news_home/20news-bydate-train/rec.motorcycles/104487', '/root/scikit_learn_data/20news_home/20news-bydate-train/sci.electronics/53875', '/root/scikit_learn_data/20news_home/20news-bydate-train/sci.electronics/53617']\n"
          ]
        }
      ]
    },
    {
      "cell_type": "markdown",
      "metadata": {
        "id": "63A-XcZfc9NH"
      },
      "source": [
        "- DataFrame으로 생성하여 문서별 토픽 분포도 확인"
      ]
    },
    {
      "cell_type": "code",
      "metadata": {
        "id": "mhrZ5F9Dc1XZ",
        "colab": {
          "base_uri": "https://localhost:8080/",
          "height": 407
        },
        "outputId": "03d030e2-2e77-4dea-cd15-024f61e5db6e"
      },
      "source": [
        "import pandas as pd\n",
        "\n",
        "topic_names = ['Topic \\ '+ str(i) for i in range(0,8)]\n",
        "doc_topic_df = pd.DataFrame(data = doc_topics, columns = topic_names,index = filename_list)\n",
        "doc_topic_df.head(10)"
      ],
      "execution_count": null,
      "outputs": [
        {
          "output_type": "execute_result",
          "data": {
            "text/plain": [
              "                                                    Topic \\ 0  Topic \\ 1  \\\n",
              "/root/scikit_learn_data/20news_home/20news-byda...   0.013897   0.013944   \n",
              "/root/scikit_learn_data/20news_home/20news-byda...   0.277504   0.181518   \n",
              "/root/scikit_learn_data/20news_home/20news-byda...   0.005445   0.221666   \n",
              "/root/scikit_learn_data/20news_home/20news-byda...   0.005439   0.005441   \n",
              "/root/scikit_learn_data/20news_home/20news-byda...   0.006584   0.552000   \n",
              "/root/scikit_learn_data/20news_home/20news-byda...   0.008342   0.008352   \n",
              "/root/scikit_learn_data/20news_home/20news-byda...   0.372861   0.041667   \n",
              "/root/scikit_learn_data/20news_home/20news-byda...   0.225351   0.674669   \n",
              "/root/scikit_learn_data/20news_home/20news-byda...   0.008944   0.836686   \n",
              "/root/scikit_learn_data/20news_home/20news-byda...   0.041733   0.041720   \n",
              "\n",
              "                                                    Topic \\ 2  Topic \\ 3  \\\n",
              "/root/scikit_learn_data/20news_home/20news-byda...   0.013891   0.482218   \n",
              "/root/scikit_learn_data/20news_home/20news-byda...   0.002121   0.530372   \n",
              "/root/scikit_learn_data/20news_home/20news-byda...   0.005445   0.005445   \n",
              "/root/scikit_learn_data/20news_home/20news-byda...   0.005449   0.578959   \n",
              "/root/scikit_learn_data/20news_home/20news-byda...   0.006587   0.408485   \n",
              "/root/scikit_learn_data/20news_home/20news-byda...   0.182622   0.767314   \n",
              "/root/scikit_learn_data/20news_home/20news-byda...   0.377020   0.041668   \n",
              "/root/scikit_learn_data/20news_home/20news-byda...   0.004814   0.075920   \n",
              "/root/scikit_learn_data/20news_home/20news-byda...   0.008932   0.008941   \n",
              "/root/scikit_learn_data/20news_home/20news-byda...   0.708081   0.041742   \n",
              "\n",
              "                                                    Topic \\ 4  Topic \\ 5  \\\n",
              "/root/scikit_learn_data/20news_home/20news-byda...   0.013979   0.013892   \n",
              "/root/scikit_learn_data/20news_home/20news-byda...   0.002121   0.002121   \n",
              "/root/scikit_learn_data/20news_home/20news-byda...   0.005440   0.005442   \n",
              "/root/scikit_learn_data/20news_home/20news-byda...   0.005440   0.388387   \n",
              "/root/scikit_learn_data/20news_home/20news-byda...   0.006585   0.006585   \n",
              "/root/scikit_learn_data/20news_home/20news-byda...   0.008335   0.008341   \n",
              "/root/scikit_learn_data/20news_home/20news-byda...   0.041703   0.041703   \n",
              "/root/scikit_learn_data/20news_home/20news-byda...   0.004812   0.004812   \n",
              "/root/scikit_learn_data/20news_home/20news-byda...   0.008935   0.109691   \n",
              "/root/scikit_learn_data/20news_home/20news-byda...   0.041671   0.041669   \n",
              "\n",
              "                                                    Topic \\ 6  Topic \\ 7  \n",
              "/root/scikit_learn_data/20news_home/20news-byda...   0.013935   0.434244  \n",
              "/root/scikit_learn_data/20news_home/20news-byda...   0.002121   0.002121  \n",
              "/root/scikit_learn_data/20news_home/20news-byda...   0.005442   0.745675  \n",
              "/root/scikit_learn_data/20news_home/20news-byda...   0.005442   0.005442  \n",
              "/root/scikit_learn_data/20news_home/20news-byda...   0.006588   0.006585  \n",
              "/root/scikit_learn_data/20news_home/20news-byda...   0.008343   0.008351  \n",
              "/root/scikit_learn_data/20news_home/20news-byda...   0.041667   0.041711  \n",
              "/root/scikit_learn_data/20news_home/20news-byda...   0.004812   0.004810  \n",
              "/root/scikit_learn_data/20news_home/20news-byda...   0.008932   0.008938  \n",
              "/root/scikit_learn_data/20news_home/20news-byda...   0.041699   0.041686  "
            ],
            "text/html": [
              "\n",
              "\n",
              "  <div id=\"df-ea12b89e-9bf4-4650-abf9-6264a97a1aed\">\n",
              "    <div class=\"colab-df-container\">\n",
              "      <div>\n",
              "<style scoped>\n",
              "    .dataframe tbody tr th:only-of-type {\n",
              "        vertical-align: middle;\n",
              "    }\n",
              "\n",
              "    .dataframe tbody tr th {\n",
              "        vertical-align: top;\n",
              "    }\n",
              "\n",
              "    .dataframe thead th {\n",
              "        text-align: right;\n",
              "    }\n",
              "</style>\n",
              "<table border=\"1\" class=\"dataframe\">\n",
              "  <thead>\n",
              "    <tr style=\"text-align: right;\">\n",
              "      <th></th>\n",
              "      <th>Topic \\ 0</th>\n",
              "      <th>Topic \\ 1</th>\n",
              "      <th>Topic \\ 2</th>\n",
              "      <th>Topic \\ 3</th>\n",
              "      <th>Topic \\ 4</th>\n",
              "      <th>Topic \\ 5</th>\n",
              "      <th>Topic \\ 6</th>\n",
              "      <th>Topic \\ 7</th>\n",
              "    </tr>\n",
              "  </thead>\n",
              "  <tbody>\n",
              "    <tr>\n",
              "      <th>/root/scikit_learn_data/20news_home/20news-bydate-train/soc.religion.christian/20630</th>\n",
              "      <td>0.013897</td>\n",
              "      <td>0.013944</td>\n",
              "      <td>0.013891</td>\n",
              "      <td>0.482218</td>\n",
              "      <td>0.013979</td>\n",
              "      <td>0.013892</td>\n",
              "      <td>0.013935</td>\n",
              "      <td>0.434244</td>\n",
              "    </tr>\n",
              "    <tr>\n",
              "      <th>/root/scikit_learn_data/20news_home/20news-bydate-test/sci.med/59422</th>\n",
              "      <td>0.277504</td>\n",
              "      <td>0.181518</td>\n",
              "      <td>0.002121</td>\n",
              "      <td>0.530372</td>\n",
              "      <td>0.002121</td>\n",
              "      <td>0.002121</td>\n",
              "      <td>0.002121</td>\n",
              "      <td>0.002121</td>\n",
              "    </tr>\n",
              "    <tr>\n",
              "      <th>/root/scikit_learn_data/20news_home/20news-bydate-test/comp.graphics/38765</th>\n",
              "      <td>0.005445</td>\n",
              "      <td>0.221666</td>\n",
              "      <td>0.005445</td>\n",
              "      <td>0.005445</td>\n",
              "      <td>0.005440</td>\n",
              "      <td>0.005442</td>\n",
              "      <td>0.005442</td>\n",
              "      <td>0.745675</td>\n",
              "    </tr>\n",
              "    <tr>\n",
              "      <th>/root/scikit_learn_data/20news_home/20news-bydate-test/comp.graphics/38810</th>\n",
              "      <td>0.005439</td>\n",
              "      <td>0.005441</td>\n",
              "      <td>0.005449</td>\n",
              "      <td>0.578959</td>\n",
              "      <td>0.005440</td>\n",
              "      <td>0.388387</td>\n",
              "      <td>0.005442</td>\n",
              "      <td>0.005442</td>\n",
              "    </tr>\n",
              "    <tr>\n",
              "      <th>/root/scikit_learn_data/20news_home/20news-bydate-test/sci.med/59449</th>\n",
              "      <td>0.006584</td>\n",
              "      <td>0.552000</td>\n",
              "      <td>0.006587</td>\n",
              "      <td>0.408485</td>\n",
              "      <td>0.006585</td>\n",
              "      <td>0.006585</td>\n",
              "      <td>0.006588</td>\n",
              "      <td>0.006585</td>\n",
              "    </tr>\n",
              "    <tr>\n",
              "      <th>/root/scikit_learn_data/20news_home/20news-bydate-train/comp.graphics/38461</th>\n",
              "      <td>0.008342</td>\n",
              "      <td>0.008352</td>\n",
              "      <td>0.182622</td>\n",
              "      <td>0.767314</td>\n",
              "      <td>0.008335</td>\n",
              "      <td>0.008341</td>\n",
              "      <td>0.008343</td>\n",
              "      <td>0.008351</td>\n",
              "    </tr>\n",
              "    <tr>\n",
              "      <th>/root/scikit_learn_data/20news_home/20news-bydate-train/comp.windows.x/66959</th>\n",
              "      <td>0.372861</td>\n",
              "      <td>0.041667</td>\n",
              "      <td>0.377020</td>\n",
              "      <td>0.041668</td>\n",
              "      <td>0.041703</td>\n",
              "      <td>0.041703</td>\n",
              "      <td>0.041667</td>\n",
              "      <td>0.041711</td>\n",
              "    </tr>\n",
              "    <tr>\n",
              "      <th>/root/scikit_learn_data/20news_home/20news-bydate-train/rec.motorcycles/104487</th>\n",
              "      <td>0.225351</td>\n",
              "      <td>0.674669</td>\n",
              "      <td>0.004814</td>\n",
              "      <td>0.075920</td>\n",
              "      <td>0.004812</td>\n",
              "      <td>0.004812</td>\n",
              "      <td>0.004812</td>\n",
              "      <td>0.004810</td>\n",
              "    </tr>\n",
              "    <tr>\n",
              "      <th>/root/scikit_learn_data/20news_home/20news-bydate-train/sci.electronics/53875</th>\n",
              "      <td>0.008944</td>\n",
              "      <td>0.836686</td>\n",
              "      <td>0.008932</td>\n",
              "      <td>0.008941</td>\n",
              "      <td>0.008935</td>\n",
              "      <td>0.109691</td>\n",
              "      <td>0.008932</td>\n",
              "      <td>0.008938</td>\n",
              "    </tr>\n",
              "    <tr>\n",
              "      <th>/root/scikit_learn_data/20news_home/20news-bydate-train/sci.electronics/53617</th>\n",
              "      <td>0.041733</td>\n",
              "      <td>0.041720</td>\n",
              "      <td>0.708081</td>\n",
              "      <td>0.041742</td>\n",
              "      <td>0.041671</td>\n",
              "      <td>0.041669</td>\n",
              "      <td>0.041699</td>\n",
              "      <td>0.041686</td>\n",
              "    </tr>\n",
              "  </tbody>\n",
              "</table>\n",
              "</div>\n",
              "      <button class=\"colab-df-convert\" onclick=\"convertToInteractive('df-ea12b89e-9bf4-4650-abf9-6264a97a1aed')\"\n",
              "              title=\"Convert this dataframe to an interactive table.\"\n",
              "              style=\"display:none;\">\n",
              "\n",
              "  <svg xmlns=\"http://www.w3.org/2000/svg\" height=\"24px\"viewBox=\"0 0 24 24\"\n",
              "       width=\"24px\">\n",
              "    <path d=\"M0 0h24v24H0V0z\" fill=\"none\"/>\n",
              "    <path d=\"M18.56 5.44l.94 2.06.94-2.06 2.06-.94-2.06-.94-.94-2.06-.94 2.06-2.06.94zm-11 1L8.5 8.5l.94-2.06 2.06-.94-2.06-.94L8.5 2.5l-.94 2.06-2.06.94zm10 10l.94 2.06.94-2.06 2.06-.94-2.06-.94-.94-2.06-.94 2.06-2.06.94z\"/><path d=\"M17.41 7.96l-1.37-1.37c-.4-.4-.92-.59-1.43-.59-.52 0-1.04.2-1.43.59L10.3 9.45l-7.72 7.72c-.78.78-.78 2.05 0 2.83L4 21.41c.39.39.9.59 1.41.59.51 0 1.02-.2 1.41-.59l7.78-7.78 2.81-2.81c.8-.78.8-2.07 0-2.86zM5.41 20L4 18.59l7.72-7.72 1.47 1.35L5.41 20z\"/>\n",
              "  </svg>\n",
              "      </button>\n",
              "\n",
              "\n",
              "\n",
              "    <div id=\"df-801ab06f-7014-4531-bd96-9dcc32d85fab\">\n",
              "      <button class=\"colab-df-quickchart\" onclick=\"quickchart('df-801ab06f-7014-4531-bd96-9dcc32d85fab')\"\n",
              "              title=\"Suggest charts.\"\n",
              "              style=\"display:none;\">\n",
              "\n",
              "<svg xmlns=\"http://www.w3.org/2000/svg\" height=\"24px\"viewBox=\"0 0 24 24\"\n",
              "     width=\"24px\">\n",
              "    <g>\n",
              "        <path d=\"M19 3H5c-1.1 0-2 .9-2 2v14c0 1.1.9 2 2 2h14c1.1 0 2-.9 2-2V5c0-1.1-.9-2-2-2zM9 17H7v-7h2v7zm4 0h-2V7h2v10zm4 0h-2v-4h2v4z\"/>\n",
              "    </g>\n",
              "</svg>\n",
              "      </button>\n",
              "    </div>\n",
              "\n",
              "<style>\n",
              "  .colab-df-quickchart {\n",
              "    background-color: #E8F0FE;\n",
              "    border: none;\n",
              "    border-radius: 50%;\n",
              "    cursor: pointer;\n",
              "    display: none;\n",
              "    fill: #1967D2;\n",
              "    height: 32px;\n",
              "    padding: 0 0 0 0;\n",
              "    width: 32px;\n",
              "  }\n",
              "\n",
              "  .colab-df-quickchart:hover {\n",
              "    background-color: #E2EBFA;\n",
              "    box-shadow: 0px 1px 2px rgba(60, 64, 67, 0.3), 0px 1px 3px 1px rgba(60, 64, 67, 0.15);\n",
              "    fill: #174EA6;\n",
              "  }\n",
              "\n",
              "  [theme=dark] .colab-df-quickchart {\n",
              "    background-color: #3B4455;\n",
              "    fill: #D2E3FC;\n",
              "  }\n",
              "\n",
              "  [theme=dark] .colab-df-quickchart:hover {\n",
              "    background-color: #434B5C;\n",
              "    box-shadow: 0px 1px 3px 1px rgba(0, 0, 0, 0.15);\n",
              "    filter: drop-shadow(0px 1px 2px rgba(0, 0, 0, 0.3));\n",
              "    fill: #FFFFFF;\n",
              "  }\n",
              "</style>\n",
              "\n",
              "    <script>\n",
              "      async function quickchart(key) {\n",
              "        const containerElement = document.querySelector('#' + key);\n",
              "        const charts = await google.colab.kernel.invokeFunction(\n",
              "            'suggestCharts', [key], {});\n",
              "      }\n",
              "    </script>\n",
              "\n",
              "      <script>\n",
              "\n",
              "function displayQuickchartButton(domScope) {\n",
              "  let quickchartButtonEl =\n",
              "    domScope.querySelector('#df-801ab06f-7014-4531-bd96-9dcc32d85fab button.colab-df-quickchart');\n",
              "  quickchartButtonEl.style.display =\n",
              "    google.colab.kernel.accessAllowed ? 'block' : 'none';\n",
              "}\n",
              "\n",
              "        displayQuickchartButton(document);\n",
              "      </script>\n",
              "      <style>\n",
              "    .colab-df-container {\n",
              "      display:flex;\n",
              "      flex-wrap:wrap;\n",
              "      gap: 12px;\n",
              "    }\n",
              "\n",
              "    .colab-df-convert {\n",
              "      background-color: #E8F0FE;\n",
              "      border: none;\n",
              "      border-radius: 50%;\n",
              "      cursor: pointer;\n",
              "      display: none;\n",
              "      fill: #1967D2;\n",
              "      height: 32px;\n",
              "      padding: 0 0 0 0;\n",
              "      width: 32px;\n",
              "    }\n",
              "\n",
              "    .colab-df-convert:hover {\n",
              "      background-color: #E2EBFA;\n",
              "      box-shadow: 0px 1px 2px rgba(60, 64, 67, 0.3), 0px 1px 3px 1px rgba(60, 64, 67, 0.15);\n",
              "      fill: #174EA6;\n",
              "    }\n",
              "\n",
              "    [theme=dark] .colab-df-convert {\n",
              "      background-color: #3B4455;\n",
              "      fill: #D2E3FC;\n",
              "    }\n",
              "\n",
              "    [theme=dark] .colab-df-convert:hover {\n",
              "      background-color: #434B5C;\n",
              "      box-shadow: 0px 1px 3px 1px rgba(0, 0, 0, 0.15);\n",
              "      filter: drop-shadow(0px 1px 2px rgba(0, 0, 0, 0.3));\n",
              "      fill: #FFFFFF;\n",
              "    }\n",
              "  </style>\n",
              "\n",
              "      <script>\n",
              "        const buttonEl =\n",
              "          document.querySelector('#df-ea12b89e-9bf4-4650-abf9-6264a97a1aed button.colab-df-convert');\n",
              "        buttonEl.style.display =\n",
              "          google.colab.kernel.accessAllowed ? 'block' : 'none';\n",
              "\n",
              "        async function convertToInteractive(key) {\n",
              "          const element = document.querySelector('#df-ea12b89e-9bf4-4650-abf9-6264a97a1aed');\n",
              "          const dataTable =\n",
              "            await google.colab.kernel.invokeFunction('convertToInteractive',\n",
              "                                                     [key], {});\n",
              "          if (!dataTable) return;\n",
              "\n",
              "          const docLinkHtml = 'Like what you see? Visit the ' +\n",
              "            '<a target=\"_blank\" href=https://colab.research.google.com/notebooks/data_table.ipynb>data table notebook</a>'\n",
              "            + ' to learn more about interactive tables.';\n",
              "          element.innerHTML = '';\n",
              "          dataTable['output_type'] = 'display_data';\n",
              "          await google.colab.output.renderOutput(dataTable, element);\n",
              "          const docLink = document.createElement('div');\n",
              "          docLink.innerHTML = docLinkHtml;\n",
              "          element.appendChild(docLink);\n",
              "        }\n",
              "      </script>\n",
              "    </div>\n",
              "  </div>\n"
            ]
          },
          "metadata": {},
          "execution_count": 159
        }
      ]
    }
  ]
}