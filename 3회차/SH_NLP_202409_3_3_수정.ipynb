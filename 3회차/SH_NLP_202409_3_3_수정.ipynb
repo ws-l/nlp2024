{
  "nbformat": 4,
  "nbformat_minor": 0,
  "metadata": {
    "colab": {
      "provenance": []
    },
    "kernelspec": {
      "name": "python3",
      "display_name": "Python 3"
    },
    "language_info": {
      "name": "python"
    }
  },
  "cells": [
    {
      "cell_type": "markdown",
      "source": [
        "1.  data_sent_new.csv로 대분류 감성 분류 모형을 개발 (model1)\n",
        "- 모형 튜닝 사용\n",
        "- 파티셔닝을 통한 성능 파악\n",
        "- vect1 : Vectorizer,\n",
        "\n",
        "2.  seoul-120-text.csv로 질문 분류 컬럼에 대한 분류 모형 (model2)\n",
        "- 모형 튜닝 사용\n",
        "- 파티셔닝을 통한 성능 파악\n",
        "- vect2 :  Vectorizer,\n",
        "\n",
        "3. train_df의 질문 내용에 대해서 1과 2의 모형 예측을 각각 수행\n",
        "- dtm = vect1.transform(텍스트 )\n",
        "- dtm = vect2.transform(텍스트 )\n",
        "- 00개에 대해서만 적용\n",
        "- 데이터프레임에 예측 결과를 컬럼으로 추가\n",
        "\n",
        "4. 3에서 부정적인 질문(또는 특정 범주의 질문들)으로 부터 토픽 발견\n",
        "- 최적의 토픽 개수 탐색\n",
        "- 해석\n",
        "\n",
        "5. 발견된 토픽에 대해서, 관련성이 높은 키워드로 뉴스를 수집하여 토픽 모델링\n",
        "- 최적의 토픽 개수\n",
        "- 해석\n",
        "\n",
        "6. 1~5에 대해서 보고서 스타일로 결과 정리\n",
        "- gpt로 초안 ppt 생성\n",
        "- 모형에 대한 설명, 분석 결과 해석 등을 추가\n"
      ],
      "metadata": {
        "id": "MGmSpH1e4QTm"
      }
    },
    {
      "cell_type": "code",
      "execution_count": null,
      "metadata": {
        "id": "cCX5D-pm4PpZ"
      },
      "outputs": [],
      "source": []
    }
  ]
}