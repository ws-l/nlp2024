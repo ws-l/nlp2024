{
  "nbformat": 4,
  "nbformat_minor": 0,
  "metadata": {
    "colab": {
      "provenance": []
    },
    "kernelspec": {
      "name": "python3",
      "display_name": "Python 3"
    },
    "language_info": {
      "name": "python"
    }
  },
  "cells": [
    {
      "cell_type": "markdown",
      "source": [
        "1.  data_sent_new.csv로 대분류 감성 분류 모형을 개발 (model1)\n",
        "- 모형 튜닝 사용\n",
        "- 파티셔닝을 통한 성능 파악\n",
        "- vect1 : Vectorizer,\n",
        "\n",
        "2.  seoul-120-text.csv로 질문 분류 컬럼에 대한 분류 모형 (model2)\n",
        "- 모형 튜닝 사용\n",
        "- 파티셔닝을 통한 성능 파악\n",
        "- vect2 :  Vectorizer,\n",
        "\n",
        "3. train_df의 질문 내용에 대해서 1과 2의 모형 예측을 각각 수행\n",
        "- dtm = vect1.transform(텍스트 )\n",
        "- dtm = vect2.transform(텍스트 )\n",
        "- 00개에 대해서만 적용\n",
        "- 데이터프레임에 예측 결과를 컬럼으로 추가\n",
        "\n",
        "4. 3에서 부정적인 질문(또는 특정 범주의 질문들)으로 부터 토픽 발견\n",
        "- 최적의 토픽 개수 탐색\n",
        "- 해석\n",
        "\n",
        "5. 발견된 토픽에 대해서, 관련성이 높은 키워드로 뉴스를 수집하여 토픽 모델링\n",
        "- 최적의 토픽 개수\n",
        "- 해석\n",
        "\n",
        "6. 1~5에 대해서 보고서 스타일로 결과 정리\n",
        "- gpt로 초안 ppt 생성\n",
        "- 모형에 대한 설명, 분석 결과 해석 등을 추가\n"
      ],
      "metadata": {
        "id": "MGmSpH1e4QTm"
      }
    },
    {
      "cell_type": "code",
      "source": [
        "!pip install konlpy\n",
        "!pip install pyLDAvis"
      ],
      "metadata": {
        "colab": {
          "base_uri": "https://localhost:8080/"
        },
        "id": "YXV5sVFFcr01",
        "outputId": "ec5b358d-e91b-4568-85cc-32b4a7416674"
      },
      "execution_count": 3,
      "outputs": [
        {
          "output_type": "stream",
          "name": "stdout",
          "text": [
            "Collecting konlpy\n",
            "  Downloading konlpy-0.6.0-py2.py3-none-any.whl.metadata (1.9 kB)\n",
            "Collecting JPype1>=0.7.0 (from konlpy)\n",
            "  Downloading JPype1-1.5.0-cp310-cp310-manylinux_2_17_x86_64.manylinux2014_x86_64.whl.metadata (4.9 kB)\n",
            "Requirement already satisfied: lxml>=4.1.0 in /usr/local/lib/python3.10/dist-packages (from konlpy) (4.9.4)\n",
            "Requirement already satisfied: numpy>=1.6 in /usr/local/lib/python3.10/dist-packages (from konlpy) (1.26.4)\n",
            "Requirement already satisfied: packaging in /usr/local/lib/python3.10/dist-packages (from JPype1>=0.7.0->konlpy) (24.1)\n",
            "Downloading konlpy-0.6.0-py2.py3-none-any.whl (19.4 MB)\n",
            "\u001b[2K   \u001b[90m━━━━━━━━━━━━━━━━━━━━━━━━━━━━━━━━━━━━━━━━\u001b[0m \u001b[32m19.4/19.4 MB\u001b[0m \u001b[31m58.8 MB/s\u001b[0m eta \u001b[36m0:00:00\u001b[0m\n",
            "\u001b[?25hDownloading JPype1-1.5.0-cp310-cp310-manylinux_2_17_x86_64.manylinux2014_x86_64.whl (488 kB)\n",
            "\u001b[2K   \u001b[90m━━━━━━━━━━━━━━━━━━━━━━━━━━━━━━━━━━━━━━━━\u001b[0m \u001b[32m488.6/488.6 kB\u001b[0m \u001b[31m27.0 MB/s\u001b[0m eta \u001b[36m0:00:00\u001b[0m\n",
            "\u001b[?25hInstalling collected packages: JPype1, konlpy\n",
            "Successfully installed JPype1-1.5.0 konlpy-0.6.0\n",
            "Collecting pyLDAvis\n",
            "  Downloading pyLDAvis-3.4.1-py3-none-any.whl.metadata (4.2 kB)\n",
            "Requirement already satisfied: numpy>=1.24.2 in /usr/local/lib/python3.10/dist-packages (from pyLDAvis) (1.26.4)\n",
            "Requirement already satisfied: scipy in /usr/local/lib/python3.10/dist-packages (from pyLDAvis) (1.13.1)\n",
            "Requirement already satisfied: pandas>=2.0.0 in /usr/local/lib/python3.10/dist-packages (from pyLDAvis) (2.1.4)\n",
            "Requirement already satisfied: joblib>=1.2.0 in /usr/local/lib/python3.10/dist-packages (from pyLDAvis) (1.4.2)\n",
            "Requirement already satisfied: jinja2 in /usr/local/lib/python3.10/dist-packages (from pyLDAvis) (3.1.4)\n",
            "Requirement already satisfied: numexpr in /usr/local/lib/python3.10/dist-packages (from pyLDAvis) (2.10.1)\n",
            "Collecting funcy (from pyLDAvis)\n",
            "  Downloading funcy-2.0-py2.py3-none-any.whl.metadata (5.9 kB)\n",
            "Requirement already satisfied: scikit-learn>=1.0.0 in /usr/local/lib/python3.10/dist-packages (from pyLDAvis) (1.3.2)\n",
            "Requirement already satisfied: gensim in /usr/local/lib/python3.10/dist-packages (from pyLDAvis) (4.3.3)\n",
            "Requirement already satisfied: setuptools in /usr/local/lib/python3.10/dist-packages (from pyLDAvis) (71.0.4)\n",
            "Requirement already satisfied: python-dateutil>=2.8.2 in /usr/local/lib/python3.10/dist-packages (from pandas>=2.0.0->pyLDAvis) (2.8.2)\n",
            "Requirement already satisfied: pytz>=2020.1 in /usr/local/lib/python3.10/dist-packages (from pandas>=2.0.0->pyLDAvis) (2024.1)\n",
            "Requirement already satisfied: tzdata>=2022.1 in /usr/local/lib/python3.10/dist-packages (from pandas>=2.0.0->pyLDAvis) (2024.1)\n",
            "Requirement already satisfied: threadpoolctl>=2.0.0 in /usr/local/lib/python3.10/dist-packages (from scikit-learn>=1.0.0->pyLDAvis) (3.5.0)\n",
            "Requirement already satisfied: smart-open>=1.8.1 in /usr/local/lib/python3.10/dist-packages (from gensim->pyLDAvis) (7.0.4)\n",
            "Requirement already satisfied: MarkupSafe>=2.0 in /usr/local/lib/python3.10/dist-packages (from jinja2->pyLDAvis) (2.1.5)\n",
            "Requirement already satisfied: six>=1.5 in /usr/local/lib/python3.10/dist-packages (from python-dateutil>=2.8.2->pandas>=2.0.0->pyLDAvis) (1.16.0)\n",
            "Requirement already satisfied: wrapt in /usr/local/lib/python3.10/dist-packages (from smart-open>=1.8.1->gensim->pyLDAvis) (1.16.0)\n",
            "Downloading pyLDAvis-3.4.1-py3-none-any.whl (2.6 MB)\n",
            "\u001b[2K   \u001b[90m━━━━━━━━━━━━━━━━━━━━━━━━━━━━━━━━━━━━━━━━\u001b[0m \u001b[32m2.6/2.6 MB\u001b[0m \u001b[31m18.1 MB/s\u001b[0m eta \u001b[36m0:00:00\u001b[0m\n",
            "\u001b[?25hDownloading funcy-2.0-py2.py3-none-any.whl (30 kB)\n",
            "Installing collected packages: funcy, pyLDAvis\n",
            "Successfully installed funcy-2.0 pyLDAvis-3.4.1\n"
          ]
        }
      ]
    },
    {
      "cell_type": "code",
      "source": [
        "from konlpy.tag import Okt\n",
        "import pandas as pd\n",
        "import numpy as np\n",
        "from sklearn.feature_extraction.text import CountVectorizer\n",
        "from sklearn.feature_extraction.text import TfidfVectorizer\n",
        "from sklearn.model_selection import GridSearchCV, train_test_split\n",
        "from sklearn.tree import DecisionTreeClassifier\n",
        "from sklearn.metrics import classification_report"
      ],
      "metadata": {
        "id": "VzmYBvSfcwEG"
      },
      "execution_count": 25,
      "outputs": []
    },
    {
      "cell_type": "markdown",
      "source": [
        "###1번"
      ],
      "metadata": {
        "id": "nQZDh7QoewEn"
      }
    },
    {
      "cell_type": "code",
      "execution_count": 6,
      "metadata": {
        "id": "cCX5D-pm4PpZ",
        "colab": {
          "base_uri": "https://localhost:8080/",
          "height": 206
        },
        "outputId": "86981bf4-b2b8-4517-ceae-ee8b35d4df65"
      },
      "outputs": [
        {
          "output_type": "execute_result",
          "data": {
            "text/plain": [
              "    연령 감정_대분류   감정_소분류                                           sentence\n",
              "0   청년     기쁨     신이 난  아내가 드디어 출산하게 되어서 정말 신이 나. 아 지금 정말 신이 나. 아기가 점점...\n",
              "1   노년     불안  스트레스 받는  당뇨랑 합병증 때문에 먹어야 할 약이 열 가지가 넘어가니까 스트레스야. 건강할 때 ...\n",
              "2  청소년     당황       당황  고등학교에 올라오니 중학교 때보다 수업이 갑자기 어려워져서 당황스러워. 아직 학기 ...\n",
              "3   노년     기쁨     신이 난  재취업이 돼서 받게 된 첫 월급으로 온 가족이 외식을 할 예정이야. 너무 행복해. ...\n",
              "4   노년     기쁨       안도  빚을 드디어 다 갚게 되어서 이제야 안도감이 들어. 빚도 다 갚았으니 당분간은 아무..."
            ],
            "text/html": [
              "\n",
              "  <div id=\"df-db210970-f1fa-4313-8faa-0ff97e13cc8c\" class=\"colab-df-container\">\n",
              "    <div>\n",
              "<style scoped>\n",
              "    .dataframe tbody tr th:only-of-type {\n",
              "        vertical-align: middle;\n",
              "    }\n",
              "\n",
              "    .dataframe tbody tr th {\n",
              "        vertical-align: top;\n",
              "    }\n",
              "\n",
              "    .dataframe thead th {\n",
              "        text-align: right;\n",
              "    }\n",
              "</style>\n",
              "<table border=\"1\" class=\"dataframe\">\n",
              "  <thead>\n",
              "    <tr style=\"text-align: right;\">\n",
              "      <th></th>\n",
              "      <th>연령</th>\n",
              "      <th>감정_대분류</th>\n",
              "      <th>감정_소분류</th>\n",
              "      <th>sentence</th>\n",
              "    </tr>\n",
              "  </thead>\n",
              "  <tbody>\n",
              "    <tr>\n",
              "      <th>0</th>\n",
              "      <td>청년</td>\n",
              "      <td>기쁨</td>\n",
              "      <td>신이 난</td>\n",
              "      <td>아내가 드디어 출산하게 되어서 정말 신이 나. 아 지금 정말 신이 나. 아기가 점점...</td>\n",
              "    </tr>\n",
              "    <tr>\n",
              "      <th>1</th>\n",
              "      <td>노년</td>\n",
              "      <td>불안</td>\n",
              "      <td>스트레스 받는</td>\n",
              "      <td>당뇨랑 합병증 때문에 먹어야 할 약이 열 가지가 넘어가니까 스트레스야. 건강할 때 ...</td>\n",
              "    </tr>\n",
              "    <tr>\n",
              "      <th>2</th>\n",
              "      <td>청소년</td>\n",
              "      <td>당황</td>\n",
              "      <td>당황</td>\n",
              "      <td>고등학교에 올라오니 중학교 때보다 수업이 갑자기 어려워져서 당황스러워. 아직 학기 ...</td>\n",
              "    </tr>\n",
              "    <tr>\n",
              "      <th>3</th>\n",
              "      <td>노년</td>\n",
              "      <td>기쁨</td>\n",
              "      <td>신이 난</td>\n",
              "      <td>재취업이 돼서 받게 된 첫 월급으로 온 가족이 외식을 할 예정이야. 너무 행복해. ...</td>\n",
              "    </tr>\n",
              "    <tr>\n",
              "      <th>4</th>\n",
              "      <td>노년</td>\n",
              "      <td>기쁨</td>\n",
              "      <td>안도</td>\n",
              "      <td>빚을 드디어 다 갚게 되어서 이제야 안도감이 들어. 빚도 다 갚았으니 당분간은 아무...</td>\n",
              "    </tr>\n",
              "  </tbody>\n",
              "</table>\n",
              "</div>\n",
              "    <div class=\"colab-df-buttons\">\n",
              "\n",
              "  <div class=\"colab-df-container\">\n",
              "    <button class=\"colab-df-convert\" onclick=\"convertToInteractive('df-db210970-f1fa-4313-8faa-0ff97e13cc8c')\"\n",
              "            title=\"Convert this dataframe to an interactive table.\"\n",
              "            style=\"display:none;\">\n",
              "\n",
              "  <svg xmlns=\"http://www.w3.org/2000/svg\" height=\"24px\" viewBox=\"0 -960 960 960\">\n",
              "    <path d=\"M120-120v-720h720v720H120Zm60-500h600v-160H180v160Zm220 220h160v-160H400v160Zm0 220h160v-160H400v160ZM180-400h160v-160H180v160Zm440 0h160v-160H620v160ZM180-180h160v-160H180v160Zm440 0h160v-160H620v160Z\"/>\n",
              "  </svg>\n",
              "    </button>\n",
              "\n",
              "  <style>\n",
              "    .colab-df-container {\n",
              "      display:flex;\n",
              "      gap: 12px;\n",
              "    }\n",
              "\n",
              "    .colab-df-convert {\n",
              "      background-color: #E8F0FE;\n",
              "      border: none;\n",
              "      border-radius: 50%;\n",
              "      cursor: pointer;\n",
              "      display: none;\n",
              "      fill: #1967D2;\n",
              "      height: 32px;\n",
              "      padding: 0 0 0 0;\n",
              "      width: 32px;\n",
              "    }\n",
              "\n",
              "    .colab-df-convert:hover {\n",
              "      background-color: #E2EBFA;\n",
              "      box-shadow: 0px 1px 2px rgba(60, 64, 67, 0.3), 0px 1px 3px 1px rgba(60, 64, 67, 0.15);\n",
              "      fill: #174EA6;\n",
              "    }\n",
              "\n",
              "    .colab-df-buttons div {\n",
              "      margin-bottom: 4px;\n",
              "    }\n",
              "\n",
              "    [theme=dark] .colab-df-convert {\n",
              "      background-color: #3B4455;\n",
              "      fill: #D2E3FC;\n",
              "    }\n",
              "\n",
              "    [theme=dark] .colab-df-convert:hover {\n",
              "      background-color: #434B5C;\n",
              "      box-shadow: 0px 1px 3px 1px rgba(0, 0, 0, 0.15);\n",
              "      filter: drop-shadow(0px 1px 2px rgba(0, 0, 0, 0.3));\n",
              "      fill: #FFFFFF;\n",
              "    }\n",
              "  </style>\n",
              "\n",
              "    <script>\n",
              "      const buttonEl =\n",
              "        document.querySelector('#df-db210970-f1fa-4313-8faa-0ff97e13cc8c button.colab-df-convert');\n",
              "      buttonEl.style.display =\n",
              "        google.colab.kernel.accessAllowed ? 'block' : 'none';\n",
              "\n",
              "      async function convertToInteractive(key) {\n",
              "        const element = document.querySelector('#df-db210970-f1fa-4313-8faa-0ff97e13cc8c');\n",
              "        const dataTable =\n",
              "          await google.colab.kernel.invokeFunction('convertToInteractive',\n",
              "                                                    [key], {});\n",
              "        if (!dataTable) return;\n",
              "\n",
              "        const docLinkHtml = 'Like what you see? Visit the ' +\n",
              "          '<a target=\"_blank\" href=https://colab.research.google.com/notebooks/data_table.ipynb>data table notebook</a>'\n",
              "          + ' to learn more about interactive tables.';\n",
              "        element.innerHTML = '';\n",
              "        dataTable['output_type'] = 'display_data';\n",
              "        await google.colab.output.renderOutput(dataTable, element);\n",
              "        const docLink = document.createElement('div');\n",
              "        docLink.innerHTML = docLinkHtml;\n",
              "        element.appendChild(docLink);\n",
              "      }\n",
              "    </script>\n",
              "  </div>\n",
              "\n",
              "\n",
              "<div id=\"df-373f8734-041c-44bd-a553-7f7e67d16878\">\n",
              "  <button class=\"colab-df-quickchart\" onclick=\"quickchart('df-373f8734-041c-44bd-a553-7f7e67d16878')\"\n",
              "            title=\"Suggest charts\"\n",
              "            style=\"display:none;\">\n",
              "\n",
              "<svg xmlns=\"http://www.w3.org/2000/svg\" height=\"24px\"viewBox=\"0 0 24 24\"\n",
              "     width=\"24px\">\n",
              "    <g>\n",
              "        <path d=\"M19 3H5c-1.1 0-2 .9-2 2v14c0 1.1.9 2 2 2h14c1.1 0 2-.9 2-2V5c0-1.1-.9-2-2-2zM9 17H7v-7h2v7zm4 0h-2V7h2v10zm4 0h-2v-4h2v4z\"/>\n",
              "    </g>\n",
              "</svg>\n",
              "  </button>\n",
              "\n",
              "<style>\n",
              "  .colab-df-quickchart {\n",
              "      --bg-color: #E8F0FE;\n",
              "      --fill-color: #1967D2;\n",
              "      --hover-bg-color: #E2EBFA;\n",
              "      --hover-fill-color: #174EA6;\n",
              "      --disabled-fill-color: #AAA;\n",
              "      --disabled-bg-color: #DDD;\n",
              "  }\n",
              "\n",
              "  [theme=dark] .colab-df-quickchart {\n",
              "      --bg-color: #3B4455;\n",
              "      --fill-color: #D2E3FC;\n",
              "      --hover-bg-color: #434B5C;\n",
              "      --hover-fill-color: #FFFFFF;\n",
              "      --disabled-bg-color: #3B4455;\n",
              "      --disabled-fill-color: #666;\n",
              "  }\n",
              "\n",
              "  .colab-df-quickchart {\n",
              "    background-color: var(--bg-color);\n",
              "    border: none;\n",
              "    border-radius: 50%;\n",
              "    cursor: pointer;\n",
              "    display: none;\n",
              "    fill: var(--fill-color);\n",
              "    height: 32px;\n",
              "    padding: 0;\n",
              "    width: 32px;\n",
              "  }\n",
              "\n",
              "  .colab-df-quickchart:hover {\n",
              "    background-color: var(--hover-bg-color);\n",
              "    box-shadow: 0 1px 2px rgba(60, 64, 67, 0.3), 0 1px 3px 1px rgba(60, 64, 67, 0.15);\n",
              "    fill: var(--button-hover-fill-color);\n",
              "  }\n",
              "\n",
              "  .colab-df-quickchart-complete:disabled,\n",
              "  .colab-df-quickchart-complete:disabled:hover {\n",
              "    background-color: var(--disabled-bg-color);\n",
              "    fill: var(--disabled-fill-color);\n",
              "    box-shadow: none;\n",
              "  }\n",
              "\n",
              "  .colab-df-spinner {\n",
              "    border: 2px solid var(--fill-color);\n",
              "    border-color: transparent;\n",
              "    border-bottom-color: var(--fill-color);\n",
              "    animation:\n",
              "      spin 1s steps(1) infinite;\n",
              "  }\n",
              "\n",
              "  @keyframes spin {\n",
              "    0% {\n",
              "      border-color: transparent;\n",
              "      border-bottom-color: var(--fill-color);\n",
              "      border-left-color: var(--fill-color);\n",
              "    }\n",
              "    20% {\n",
              "      border-color: transparent;\n",
              "      border-left-color: var(--fill-color);\n",
              "      border-top-color: var(--fill-color);\n",
              "    }\n",
              "    30% {\n",
              "      border-color: transparent;\n",
              "      border-left-color: var(--fill-color);\n",
              "      border-top-color: var(--fill-color);\n",
              "      border-right-color: var(--fill-color);\n",
              "    }\n",
              "    40% {\n",
              "      border-color: transparent;\n",
              "      border-right-color: var(--fill-color);\n",
              "      border-top-color: var(--fill-color);\n",
              "    }\n",
              "    60% {\n",
              "      border-color: transparent;\n",
              "      border-right-color: var(--fill-color);\n",
              "    }\n",
              "    80% {\n",
              "      border-color: transparent;\n",
              "      border-right-color: var(--fill-color);\n",
              "      border-bottom-color: var(--fill-color);\n",
              "    }\n",
              "    90% {\n",
              "      border-color: transparent;\n",
              "      border-bottom-color: var(--fill-color);\n",
              "    }\n",
              "  }\n",
              "</style>\n",
              "\n",
              "  <script>\n",
              "    async function quickchart(key) {\n",
              "      const quickchartButtonEl =\n",
              "        document.querySelector('#' + key + ' button');\n",
              "      quickchartButtonEl.disabled = true;  // To prevent multiple clicks.\n",
              "      quickchartButtonEl.classList.add('colab-df-spinner');\n",
              "      try {\n",
              "        const charts = await google.colab.kernel.invokeFunction(\n",
              "            'suggestCharts', [key], {});\n",
              "      } catch (error) {\n",
              "        console.error('Error during call to suggestCharts:', error);\n",
              "      }\n",
              "      quickchartButtonEl.classList.remove('colab-df-spinner');\n",
              "      quickchartButtonEl.classList.add('colab-df-quickchart-complete');\n",
              "    }\n",
              "    (() => {\n",
              "      let quickchartButtonEl =\n",
              "        document.querySelector('#df-373f8734-041c-44bd-a553-7f7e67d16878 button');\n",
              "      quickchartButtonEl.style.display =\n",
              "        google.colab.kernel.accessAllowed ? 'block' : 'none';\n",
              "    })();\n",
              "  </script>\n",
              "</div>\n",
              "\n",
              "    </div>\n",
              "  </div>\n"
            ],
            "application/vnd.google.colaboratory.intrinsic+json": {
              "type": "dataframe",
              "variable_name": "df1",
              "summary": "{\n  \"name\": \"df1\",\n  \"rows\": 69218,\n  \"fields\": [\n    {\n      \"column\": \"\\uc5f0\\ub839\",\n      \"properties\": {\n        \"dtype\": \"category\",\n        \"num_unique_values\": 4,\n        \"samples\": [\n          \"\\ub178\\ub144\",\n          \"\\uc911\\ub144\",\n          \"\\uccad\\ub144\"\n        ],\n        \"semantic_type\": \"\",\n        \"description\": \"\"\n      }\n    },\n    {\n      \"column\": \"\\uac10\\uc815_\\ub300\\ubd84\\ub958\",\n      \"properties\": {\n        \"dtype\": \"category\",\n        \"num_unique_values\": 8,\n        \"samples\": [\n          \"\\ubd88\\uc548\",\n          \"\\uc0c1\\ucc98\",\n          \"\\uae30\\uc068\"\n        ],\n        \"semantic_type\": \"\",\n        \"description\": \"\"\n      }\n    },\n    {\n      \"column\": \"\\uac10\\uc815_\\uc18c\\ubd84\\ub958\",\n      \"properties\": {\n        \"dtype\": \"category\",\n        \"num_unique_values\": 58,\n        \"samples\": [\n          \"\\uc2e0\\uc774 \\ub09c\",\n          \"\\uc6b0\\uc6b8\\ud55c\",\n          \"\\uc5b5\\uc6b8\\ud55c\"\n        ],\n        \"semantic_type\": \"\",\n        \"description\": \"\"\n      }\n    },\n    {\n      \"column\": \"sentence\",\n      \"properties\": {\n        \"dtype\": \"string\",\n        \"num_unique_values\": 40851,\n        \"samples\": [\n          \"\\uc81c\\uc77c \\uce5c\\ud55c \\uce5c\\uad6c\\uac00 \\uc54c\\uace0 \\ubcf4\\ub2c8 \\uad34\\ub86d\\ud798\\uc744 \\ub2f9\\ud558\\uace0 \\uc788\\uc5c8\\ub294\\ub370 \\uadf8\\uac78 \\ubab0\\ub790\\ub2e4\\ub294 \\uac8c \\ub108\\ubb34 \\ubd80\\ub044\\ub7ec\\uc6cc. \\ub0b4\\uac00 \\ub354 \\uc798 \\uc54c\\uc544 \\uc92c\\uc5b4\\uc57c \\ud588\\ub294\\ub370 \\uadf8 \\uce5c\\uad6c\\uc5d0\\uac8c \\ub108\\ubb34 \\ubbf8\\uc548\\ud574\\uc11c \\ub098 \\uc790\\uc2e0\\uc5d0\\uac8c \\ud654\\uac00 \\ub098. \\uc77c\\ub2e8 \\uce5c\\uad6c\\uac00 \\uad34\\ub86d\\ud798\\uc744 \\ub2f9\\ud558\\uc9c0 \\ubabb\\ud558\\uac8c \\uac19\\uc774 \\uc788\\uc5b4\\uc918\\uc57c\\uaca0\\uc5b4. \",\n          \"\\uc606\\uc9d1 \\ud560\\uba38\\ub2c8\\uac00 \\ud070\\uc77c\\uc774 \\ub09c \\uc904 \\uc54c\\uc558\\ub294\\ub370 \\ub0a0\\uc774 \\ub354\\uc6cc\\uc11c \\uc7a0\\uc2dc \\uae30\\uc808\\ud55c \\uac83\\uc774\\ub77c \\ud558\\ub2c8 \\ub2e4\\ud589\\uc774\\uc57c. \\uc606\\uc9d1 \\ud560\\uba38\\ub2c8\\uac00 \\uc6b0\\ub9ac \\uc9d1 \\uc55e\\uc5d0\\uc11c \\uc4f0\\ub7ec\\uc838\\uc788\\uc5b4\\uc11c \\uc5bc\\ub9c8\\ub098 \\ub180\\ub790\\ub294\\uc9c0 \\ubab0\\ub77c. \\uc606\\uc9d1 \\ud560\\uba38\\ub2c8\\ub098 \\ub098\\ub098 \\ub098\\uc774\\uac00 \\uc788\\uc5b4\\uc11c \\ud56d\\uc0c1 \\uac74\\uac15\\uc744 \\uc2e0\\uacbd \\uc4f8 \\uc218\\ubc16\\uc5d0 \\uc5c6\\uc5b4. \",\n          \"\\ud68c\\uc0ac \\uc790\\uae08\\ub09c \\ub54c\\ubb38\\uc5d0 \\ub124 \\ub2ec\\uc9f8 \\uc6d4\\uae09\\uc774 \\ub4e4\\uc5b4\\uc624\\uc9c0 \\uc54a\\uc544 \\uc0dd\\ud65c\\uc774 \\ud798\\ub4e4\\uace0 \\ud654\\uac00 \\ub098. \\ub124 \\ub2ec\\uc9f8 \\ub4e4\\uc5b4\\uc624\\uc9c0 \\uc54a\\uc544 \\uc138\\uae08\\ub3c4 \\ubabb \\ub0b4\\uace0 \\uc788\\uc73c\\ub2c8 \\ub354\\uc6b1 \\uc88c\\uc808\\uc2a4\\ub7ec\\uc6cc. \\uce5c\\uad6c\\ub4e4\\uc5d0\\uac8c \\ub3c8\\uc744 \\ube4c\\ub824\\uc57c \\ud560 \\uac83 \\uac19\\uc544. \"\n        ],\n        \"semantic_type\": \"\",\n        \"description\": \"\"\n      }\n    }\n  ]\n}"
            }
          },
          "metadata": {},
          "execution_count": 6
        }
      ],
      "source": [
        "df1 = pd.read_csv(\"data_sent_new.csv\", encoding=\"cp949\")\n",
        "df1.head()"
      ]
    },
    {
      "cell_type": "code",
      "source": [
        "df1.감정_대분류.value_counts()\n",
        "df1_2 = df1.query(\"(감정_대분류=='불안') or (감정_대분류=='당황')\")\n",
        "df1_2 = df1_2.sample(2000)"
      ],
      "metadata": {
        "id": "7frTAdN0dQ1D"
      },
      "execution_count": 28,
      "outputs": []
    },
    {
      "cell_type": "code",
      "source": [
        "okt = Okt()\n",
        "def token(text):\n",
        "    return okt.nouns(text)\n",
        "\n",
        "vect1 = CountVectorizer(tokenizer=token)\n",
        "dtm1 = vect1.fit_transform(df1_2[\"sentence\"])\n"
      ],
      "metadata": {
        "colab": {
          "base_uri": "https://localhost:8080/"
        },
        "id": "NKd_I9TwcqS4",
        "outputId": "6a33bbe5-153f-47a9-b735-8f156941c532"
      },
      "execution_count": 29,
      "outputs": [
        {
          "output_type": "stream",
          "name": "stderr",
          "text": [
            "/usr/local/lib/python3.10/dist-packages/sklearn/feature_extraction/text.py:525: UserWarning: The parameter 'token_pattern' will not be used since 'tokenizer' is not None'\n",
            "  warnings.warn(\n"
          ]
        }
      ]
    },
    {
      "cell_type": "code",
      "source": [
        "X_train1, X_test1, y_train1, y_test1 = train_test_split( dtm1, df1_2.감정_대분류)\n",
        "dt1 = DecisionTreeClassifier()\n",
        "dt1.fit(X_train1, y_train1)\n",
        "pred1 = dt1.predict(X_test1)\n",
        "print(classification_report(y_test1, pred1))\n"
      ],
      "metadata": {
        "colab": {
          "base_uri": "https://localhost:8080/"
        },
        "id": "2PH6ZPxIeT4u",
        "outputId": "bcfe0e57-91e2-4123-e150-5bfb4763b471"
      },
      "execution_count": 37,
      "outputs": [
        {
          "output_type": "stream",
          "name": "stdout",
          "text": [
            "              precision    recall  f1-score   support\n",
            "\n",
            "          당황       0.62      0.64      0.63       230\n",
            "          불안       0.69      0.67      0.68       270\n",
            "\n",
            "    accuracy                           0.66       500\n",
            "   macro avg       0.65      0.66      0.65       500\n",
            "weighted avg       0.66      0.66      0.66       500\n",
            "\n"
          ]
        }
      ]
    },
    {
      "cell_type": "markdown",
      "source": [
        "###2번"
      ],
      "metadata": {
        "id": "1jX_w_qlezRt"
      }
    },
    {
      "cell_type": "code",
      "execution_count": 32,
      "metadata": {
        "colab": {
          "base_uri": "https://localhost:8080/",
          "height": 206
        },
        "outputId": "44967bb6-b2ae-4003-f825-d7a2ffe086c8",
        "id": "obOHpgDzfaG5"
      },
      "outputs": [
        {
          "output_type": "execute_result",
          "data": {
            "text/plain": [
              "     번호  분류                           제목  \\\n",
              "0  2645  복지                  아빠 육아휴직 장려금   \n",
              "1  2644  경제            [서울산업진흥원] 서울메이드란?   \n",
              "2  2643  환경                    (강북구) 정비중   \n",
              "3  2642  복지  광진맘택시 운영(임산부,영아 양육가정 전용 택시)   \n",
              "4  2641  복지               마포 뇌병변장애인 비전센터   \n",
              "\n",
              "                                                  내용      내용번호  \n",
              "0     업무개요  남성근로자의 육아휴직을 장려하고 양육에 따른 경제적 부담을 완화함으...  23522464  \n",
              "1   서울의 감성을 담은 다양하고 새로운 경험을 제공하기 위해 만들어진 라이프스타일 플...  23194045  \n",
              "2  업무개요  투명 폐트병을 교환 보상하므로 수거율을 높이고 폐기물을 감량하여 환경 보...  23032485  \n",
              "3  업무개요 교통약자인 임산부와 영아가정 주민이 병원 진료를 받으러 갈 떄 쾌적하고 안...  22904492  \n",
              "4    마포뇌병변장애인 비전센터 운영   구분 내용  목적  학령기 이후 갈 곳이 없는...  22477798  "
            ],
            "text/html": [
              "\n",
              "  <div id=\"df-a94e760c-6c5f-4e6f-bf91-3804a5c651e4\" class=\"colab-df-container\">\n",
              "    <div>\n",
              "<style scoped>\n",
              "    .dataframe tbody tr th:only-of-type {\n",
              "        vertical-align: middle;\n",
              "    }\n",
              "\n",
              "    .dataframe tbody tr th {\n",
              "        vertical-align: top;\n",
              "    }\n",
              "\n",
              "    .dataframe thead th {\n",
              "        text-align: right;\n",
              "    }\n",
              "</style>\n",
              "<table border=\"1\" class=\"dataframe\">\n",
              "  <thead>\n",
              "    <tr style=\"text-align: right;\">\n",
              "      <th></th>\n",
              "      <th>번호</th>\n",
              "      <th>분류</th>\n",
              "      <th>제목</th>\n",
              "      <th>내용</th>\n",
              "      <th>내용번호</th>\n",
              "    </tr>\n",
              "  </thead>\n",
              "  <tbody>\n",
              "    <tr>\n",
              "      <th>0</th>\n",
              "      <td>2645</td>\n",
              "      <td>복지</td>\n",
              "      <td>아빠 육아휴직 장려금</td>\n",
              "      <td>업무개요  남성근로자의 육아휴직을 장려하고 양육에 따른 경제적 부담을 완화함으...</td>\n",
              "      <td>23522464</td>\n",
              "    </tr>\n",
              "    <tr>\n",
              "      <th>1</th>\n",
              "      <td>2644</td>\n",
              "      <td>경제</td>\n",
              "      <td>[서울산업진흥원] 서울메이드란?</td>\n",
              "      <td>서울의 감성을 담은 다양하고 새로운 경험을 제공하기 위해 만들어진 라이프스타일 플...</td>\n",
              "      <td>23194045</td>\n",
              "    </tr>\n",
              "    <tr>\n",
              "      <th>2</th>\n",
              "      <td>2643</td>\n",
              "      <td>환경</td>\n",
              "      <td>(강북구) 정비중</td>\n",
              "      <td>업무개요  투명 폐트병을 교환 보상하므로 수거율을 높이고 폐기물을 감량하여 환경 보...</td>\n",
              "      <td>23032485</td>\n",
              "    </tr>\n",
              "    <tr>\n",
              "      <th>3</th>\n",
              "      <td>2642</td>\n",
              "      <td>복지</td>\n",
              "      <td>광진맘택시 운영(임산부,영아 양육가정 전용 택시)</td>\n",
              "      <td>업무개요 교통약자인 임산부와 영아가정 주민이 병원 진료를 받으러 갈 떄 쾌적하고 안...</td>\n",
              "      <td>22904492</td>\n",
              "    </tr>\n",
              "    <tr>\n",
              "      <th>4</th>\n",
              "      <td>2641</td>\n",
              "      <td>복지</td>\n",
              "      <td>마포 뇌병변장애인 비전센터</td>\n",
              "      <td>마포뇌병변장애인 비전센터 운영   구분 내용  목적  학령기 이후 갈 곳이 없는...</td>\n",
              "      <td>22477798</td>\n",
              "    </tr>\n",
              "  </tbody>\n",
              "</table>\n",
              "</div>\n",
              "    <div class=\"colab-df-buttons\">\n",
              "\n",
              "  <div class=\"colab-df-container\">\n",
              "    <button class=\"colab-df-convert\" onclick=\"convertToInteractive('df-a94e760c-6c5f-4e6f-bf91-3804a5c651e4')\"\n",
              "            title=\"Convert this dataframe to an interactive table.\"\n",
              "            style=\"display:none;\">\n",
              "\n",
              "  <svg xmlns=\"http://www.w3.org/2000/svg\" height=\"24px\" viewBox=\"0 -960 960 960\">\n",
              "    <path d=\"M120-120v-720h720v720H120Zm60-500h600v-160H180v160Zm220 220h160v-160H400v160Zm0 220h160v-160H400v160ZM180-400h160v-160H180v160Zm440 0h160v-160H620v160ZM180-180h160v-160H180v160Zm440 0h160v-160H620v160Z\"/>\n",
              "  </svg>\n",
              "    </button>\n",
              "\n",
              "  <style>\n",
              "    .colab-df-container {\n",
              "      display:flex;\n",
              "      gap: 12px;\n",
              "    }\n",
              "\n",
              "    .colab-df-convert {\n",
              "      background-color: #E8F0FE;\n",
              "      border: none;\n",
              "      border-radius: 50%;\n",
              "      cursor: pointer;\n",
              "      display: none;\n",
              "      fill: #1967D2;\n",
              "      height: 32px;\n",
              "      padding: 0 0 0 0;\n",
              "      width: 32px;\n",
              "    }\n",
              "\n",
              "    .colab-df-convert:hover {\n",
              "      background-color: #E2EBFA;\n",
              "      box-shadow: 0px 1px 2px rgba(60, 64, 67, 0.3), 0px 1px 3px 1px rgba(60, 64, 67, 0.15);\n",
              "      fill: #174EA6;\n",
              "    }\n",
              "\n",
              "    .colab-df-buttons div {\n",
              "      margin-bottom: 4px;\n",
              "    }\n",
              "\n",
              "    [theme=dark] .colab-df-convert {\n",
              "      background-color: #3B4455;\n",
              "      fill: #D2E3FC;\n",
              "    }\n",
              "\n",
              "    [theme=dark] .colab-df-convert:hover {\n",
              "      background-color: #434B5C;\n",
              "      box-shadow: 0px 1px 3px 1px rgba(0, 0, 0, 0.15);\n",
              "      filter: drop-shadow(0px 1px 2px rgba(0, 0, 0, 0.3));\n",
              "      fill: #FFFFFF;\n",
              "    }\n",
              "  </style>\n",
              "\n",
              "    <script>\n",
              "      const buttonEl =\n",
              "        document.querySelector('#df-a94e760c-6c5f-4e6f-bf91-3804a5c651e4 button.colab-df-convert');\n",
              "      buttonEl.style.display =\n",
              "        google.colab.kernel.accessAllowed ? 'block' : 'none';\n",
              "\n",
              "      async function convertToInteractive(key) {\n",
              "        const element = document.querySelector('#df-a94e760c-6c5f-4e6f-bf91-3804a5c651e4');\n",
              "        const dataTable =\n",
              "          await google.colab.kernel.invokeFunction('convertToInteractive',\n",
              "                                                    [key], {});\n",
              "        if (!dataTable) return;\n",
              "\n",
              "        const docLinkHtml = 'Like what you see? Visit the ' +\n",
              "          '<a target=\"_blank\" href=https://colab.research.google.com/notebooks/data_table.ipynb>data table notebook</a>'\n",
              "          + ' to learn more about interactive tables.';\n",
              "        element.innerHTML = '';\n",
              "        dataTable['output_type'] = 'display_data';\n",
              "        await google.colab.output.renderOutput(dataTable, element);\n",
              "        const docLink = document.createElement('div');\n",
              "        docLink.innerHTML = docLinkHtml;\n",
              "        element.appendChild(docLink);\n",
              "      }\n",
              "    </script>\n",
              "  </div>\n",
              "\n",
              "\n",
              "<div id=\"df-f02674f2-a511-4602-802a-9ecd272077d8\">\n",
              "  <button class=\"colab-df-quickchart\" onclick=\"quickchart('df-f02674f2-a511-4602-802a-9ecd272077d8')\"\n",
              "            title=\"Suggest charts\"\n",
              "            style=\"display:none;\">\n",
              "\n",
              "<svg xmlns=\"http://www.w3.org/2000/svg\" height=\"24px\"viewBox=\"0 0 24 24\"\n",
              "     width=\"24px\">\n",
              "    <g>\n",
              "        <path d=\"M19 3H5c-1.1 0-2 .9-2 2v14c0 1.1.9 2 2 2h14c1.1 0 2-.9 2-2V5c0-1.1-.9-2-2-2zM9 17H7v-7h2v7zm4 0h-2V7h2v10zm4 0h-2v-4h2v4z\"/>\n",
              "    </g>\n",
              "</svg>\n",
              "  </button>\n",
              "\n",
              "<style>\n",
              "  .colab-df-quickchart {\n",
              "      --bg-color: #E8F0FE;\n",
              "      --fill-color: #1967D2;\n",
              "      --hover-bg-color: #E2EBFA;\n",
              "      --hover-fill-color: #174EA6;\n",
              "      --disabled-fill-color: #AAA;\n",
              "      --disabled-bg-color: #DDD;\n",
              "  }\n",
              "\n",
              "  [theme=dark] .colab-df-quickchart {\n",
              "      --bg-color: #3B4455;\n",
              "      --fill-color: #D2E3FC;\n",
              "      --hover-bg-color: #434B5C;\n",
              "      --hover-fill-color: #FFFFFF;\n",
              "      --disabled-bg-color: #3B4455;\n",
              "      --disabled-fill-color: #666;\n",
              "  }\n",
              "\n",
              "  .colab-df-quickchart {\n",
              "    background-color: var(--bg-color);\n",
              "    border: none;\n",
              "    border-radius: 50%;\n",
              "    cursor: pointer;\n",
              "    display: none;\n",
              "    fill: var(--fill-color);\n",
              "    height: 32px;\n",
              "    padding: 0;\n",
              "    width: 32px;\n",
              "  }\n",
              "\n",
              "  .colab-df-quickchart:hover {\n",
              "    background-color: var(--hover-bg-color);\n",
              "    box-shadow: 0 1px 2px rgba(60, 64, 67, 0.3), 0 1px 3px 1px rgba(60, 64, 67, 0.15);\n",
              "    fill: var(--button-hover-fill-color);\n",
              "  }\n",
              "\n",
              "  .colab-df-quickchart-complete:disabled,\n",
              "  .colab-df-quickchart-complete:disabled:hover {\n",
              "    background-color: var(--disabled-bg-color);\n",
              "    fill: var(--disabled-fill-color);\n",
              "    box-shadow: none;\n",
              "  }\n",
              "\n",
              "  .colab-df-spinner {\n",
              "    border: 2px solid var(--fill-color);\n",
              "    border-color: transparent;\n",
              "    border-bottom-color: var(--fill-color);\n",
              "    animation:\n",
              "      spin 1s steps(1) infinite;\n",
              "  }\n",
              "\n",
              "  @keyframes spin {\n",
              "    0% {\n",
              "      border-color: transparent;\n",
              "      border-bottom-color: var(--fill-color);\n",
              "      border-left-color: var(--fill-color);\n",
              "    }\n",
              "    20% {\n",
              "      border-color: transparent;\n",
              "      border-left-color: var(--fill-color);\n",
              "      border-top-color: var(--fill-color);\n",
              "    }\n",
              "    30% {\n",
              "      border-color: transparent;\n",
              "      border-left-color: var(--fill-color);\n",
              "      border-top-color: var(--fill-color);\n",
              "      border-right-color: var(--fill-color);\n",
              "    }\n",
              "    40% {\n",
              "      border-color: transparent;\n",
              "      border-right-color: var(--fill-color);\n",
              "      border-top-color: var(--fill-color);\n",
              "    }\n",
              "    60% {\n",
              "      border-color: transparent;\n",
              "      border-right-color: var(--fill-color);\n",
              "    }\n",
              "    80% {\n",
              "      border-color: transparent;\n",
              "      border-right-color: var(--fill-color);\n",
              "      border-bottom-color: var(--fill-color);\n",
              "    }\n",
              "    90% {\n",
              "      border-color: transparent;\n",
              "      border-bottom-color: var(--fill-color);\n",
              "    }\n",
              "  }\n",
              "</style>\n",
              "\n",
              "  <script>\n",
              "    async function quickchart(key) {\n",
              "      const quickchartButtonEl =\n",
              "        document.querySelector('#' + key + ' button');\n",
              "      quickchartButtonEl.disabled = true;  // To prevent multiple clicks.\n",
              "      quickchartButtonEl.classList.add('colab-df-spinner');\n",
              "      try {\n",
              "        const charts = await google.colab.kernel.invokeFunction(\n",
              "            'suggestCharts', [key], {});\n",
              "      } catch (error) {\n",
              "        console.error('Error during call to suggestCharts:', error);\n",
              "      }\n",
              "      quickchartButtonEl.classList.remove('colab-df-spinner');\n",
              "      quickchartButtonEl.classList.add('colab-df-quickchart-complete');\n",
              "    }\n",
              "    (() => {\n",
              "      let quickchartButtonEl =\n",
              "        document.querySelector('#df-f02674f2-a511-4602-802a-9ecd272077d8 button');\n",
              "      quickchartButtonEl.style.display =\n",
              "        google.colab.kernel.accessAllowed ? 'block' : 'none';\n",
              "    })();\n",
              "  </script>\n",
              "</div>\n",
              "\n",
              "    </div>\n",
              "  </div>\n"
            ],
            "application/vnd.google.colaboratory.intrinsic+json": {
              "type": "dataframe",
              "variable_name": "df2",
              "summary": "{\n  \"name\": \"df2\",\n  \"rows\": 2645,\n  \"fields\": [\n    {\n      \"column\": \"\\ubc88\\ud638\",\n      \"properties\": {\n        \"dtype\": \"number\",\n        \"std\": 763,\n        \"min\": 1,\n        \"max\": 2645,\n        \"num_unique_values\": 2645,\n        \"samples\": [\n          1755,\n          241,\n          1608\n        ],\n        \"semantic_type\": \"\",\n        \"description\": \"\"\n      }\n    },\n    {\n      \"column\": \"\\ubd84\\ub958\",\n      \"properties\": {\n        \"dtype\": \"category\",\n        \"num_unique_values\": 10,\n        \"samples\": [\n          \"\\uac74\\uac15\",\n          \"\\uacbd\\uc81c\",\n          \"\\uc8fc\\ud0dd\\ub3c4\\uc2dc\\uacc4\\ud68d\"\n        ],\n        \"semantic_type\": \"\",\n        \"description\": \"\"\n      }\n    },\n    {\n      \"column\": \"\\uc81c\\ubaa9\",\n      \"properties\": {\n        \"dtype\": \"string\",\n        \"num_unique_values\": 2638,\n        \"samples\": [\n          \"\\uc0ac\\ud68c\\ub2e8\\uccb4\\ubcf4\\uc870\\uae08 \\uc9c0\\uc6d0\\uc2ec\\uc758\\uc704\\uc6d0\\ud68c\\ub294 \\uc5b4\\ub5bb\\uac8c \\uad6c\\uc131\\ub418\\ub098\\uc694?\",\n          \"\\uacbd\\uc758\\uc81c2\\ub179\\uc9c0\\uc870\\uc131\\uc0ac\\uc5c5 \\uc138\\uc785\\uc790 \\ubcf4\\uc0c1\\uc740 \\uc644\\ub8cc\\ub418\\uc5c8\\ub098\\uc694?\",\n          \"\\uc6b0\\uc218\\ud604\\uc7a5 \\uad00\\uacc4\\uc790 \\uc2dc\\uc0c1\\uad00\\ub828 \\ubb38\\uc758\"\n        ],\n        \"semantic_type\": \"\",\n        \"description\": \"\"\n      }\n    },\n    {\n      \"column\": \"\\ub0b4\\uc6a9\",\n      \"properties\": {\n        \"dtype\": \"string\",\n        \"num_unique_values\": 2619,\n        \"samples\": [\n          \"                                                                                                          \\uc5c5\\ubb34\\uac1c\\uc694   \\uc11c\\uc6b8\\uc2dc\\uc5d0\\uc11c\\ub294 \\ubcf4\\uc721\\uad50\\uc9c1\\uc6d0 \\ubc0f \\uc77c\\ubc18\\uc2dc\\ubbfc\\uc5d0 \\ub300\\ud574 \\ub2e4\\uc591\\ud558\\uace0 \\uc804\\ubb38\\ud654\\ub41c \\ubcf4\\uc721\\uc815\\ubcf4\\ub97c \\uc81c\\uacf5\\ud558\\uace0 \\uc0c1\\ub2f4\\uacfc \\uad50\\uc721\\uc744 \\ud1b5\\ud574 \\ubcf4\\uc721\\uc11c\\ube44\\uc2a4  \\uc218\\uc900\\uc744 \\ud5a5\\uc0c1\\uc2dc\\ud0a4\\uae30 \\uc704\\ud558\\uc5ec \\uc721\\uc544\\uc885\\ud569\\uc9c0\\uc6d0\\uc13c\\ud130\\ub97c \\uc124\\uce58 \\uc6b4\\uc601\\ud558\\uace0 \\uc788\\uc74c   \\uc5c5\\ubb34\\uc124\\uba85    \\uc11c\\uc6b8\\ud2b9\\ubcc4\\uc2dc\\uc721\\uc544\\uc885\\ud569\\uc9c0\\uc6d0\\uc13c\\ud130   \\ud648\\ud398\\uc774\\uc9c0                   \\ub300\\ud45c\\ubc88\\ud638       \\uc11c\\uc6b8\\ud2b9\\ubcc4\\uc2dc\\uc721\\uc544\\uc885\\ud569\\uc9c0\\uc6d0\\uc13c\\ud130 \\uc774\\uc6a9\\uc548\\ub0b4                                  \\uad6c\\ubd84   \\ub0b4 \\uc6a9      \\uc13c\\ud130\\uac15\\uc88c    \\uad50\\uc721\\ub0b4\\uc6a9  \\ubcf4\\uc721\\ud604\\uc7a5\\uc5d0 \\uc801\\uc6a9 \\uac00\\ub2a5\\ud55c \\uc2e4\\ubb34\\uc704\\uc8fc\\uc758 \\uad50\\uc721 \\ubc0f \\ubd80\\ubaa8\\uad50\\uc721 \\uc81c\\uacf5   \\uc11c\\uc6b8\\ud2b9\\ubcc4\\uc2dc\\uc721\\uc544\\uc885\\ud569\\uc9c0\\uc6d0\\uc13c\\ud130 \\ud648\\ud398\\uc774\\uc9c0                 \\uc815\\ubcf4\\ub9c8\\ub2f9  \\uad50\\uc721\\uc2e0\\uccad  \\uc2e0\\uccad\\ubc29\\ubc95  \\uc628\\ub77c\\uc778 \\uc2e0\\uccad      \\uc0c1\\ub2f4\\uc2e4    \\uc5b4\\ub9b0\\uc774\\uc9d1 \\uc774\\uc6a9 \\uc721\\uc544 \\uc5b4\\ub9b0\\uc774\\uc9d1 \\uc124\\uce58 \\ubc0f \\uc6b4\\uc601 \\ud2b9\\uc218\\uc544\\ub3d9\\uc0c1\\ub2f4   \\uc774\\uc6a9\\ubc29\\ubc95  \\uc628\\ub77c\\uc778 \\uc774\\uba54\\uc77c \\uc804\\ud654 \\ubc29\\ubb38\\uc0c1\\ub2f4    \\ubc29\\ubb38\\uc0c1\\ub2f4\\uc2dc \\uc0c1\\ub2f4\\uc2e0\\uccad\\uc11c\\ub97c \\uc791\\uc131\\ud558\\uc5ec \\uc774\\uba54\\uc77c             \\ub85c \\ubc1c\\uc1a1 \\ud6c4 \\uc0c1\\ub2f4\\uc77c \\uc870\\uc815    \\uc0c1\\ub2f4\\uc2e0\\uccad\\uc11c \\ub2e4\\uc6b4\\ub85c\\ub4dc \\uacbd\\ub85c  \\uc11c\\uc6b8\\ud2b9\\ubcc4\\uc2dc\\uc721\\uc544\\uc885\\ud569\\uc9c0\\uc6d0\\uc13c\\ud130 \\ud648\\ud398\\uc774\\uc9c0                 \\uc13c\\ud130\\uc18c\\uac1c     \\uc774\\uc6a9\\uc548\\ub0b4  \\uc0c1\\ub2f4\\uc2e4  \\ubc29\\ubb38\\uc0c1\\ub2f4 \\uc2e0\\uccad\\uc11c \\ub2e4\\uc6b4\\ub85c\\ub4dc \\ubd80\\ubaa8 \\uad50\\uc721\\uad50\\uc9c1\\uc6d0      \\uad50\\uc721\\uc2e4    \\uc774\\uc6a9\\ub300\\uc0c1  \\ubcf4\\uc721\\uad00\\ub828 \\uae30\\uad00 \\ubcf4\\uc721\\uad00\\ub828 \\ub2e8\\uccb4\\ub9cc \\uc774\\uc6a9\\uac00\\ub2a5 \\uc774\\uc775\\uc744 \\ubaa9\\uc801\\uc73c\\ub85c \\ud558\\ub294 \\ub2e8\\uccb4 \\ub300\\uc5ec \\ubd88\\uac00   \\uc774\\uc6a9\\uc2dc\\uac04  \\ud3c9\\uc77c     \\uc2e0\\uccad\\ubc29\\ubc95     \\uc0ac\\uc804\\uc5d0 \\ub300\\uc5ec \\uac00\\ub2a5\\ud55c\\uc9c0 \\uc804\\ud654   \\ub85c \\ud655\\uc778 \\ud6c4 \\uc0ac\\uc6a9 \\uc77c\\uc8fc\\uc77c \\uc804\\uae4c\\uc9c0 \\uc2e0\\uccad\\uc11c\\ub97c    \\uc73c\\ub85c \\uc81c\\ucd9c    \\ucde8\\uc18c \\ubc0f \\ubcc0\\uacbd\\uc740 \\uc77c\\uc804 \\uae4c\\uc9c0 \\uac00\\ub2a5    \\uc2e0\\uccad\\uc11c \\ub2e4\\uc6b4\\ub85c\\ub4dc \\uacbd\\ub85c  \\uc11c\\uc6b8\\ud2b9\\ubcc4\\uc2dc\\uc721\\uc544\\uc885\\ud569\\uc9c0\\uc6d0\\uc13c\\ud130 \\ud648\\ud398\\uc774\\uc9c0                 \\uc13c\\ud130\\uc18c\\uac1c     \\uc774\\uc6a9\\uc548\\ub0b4  \\uad50\\uc721\\uc2e4  \\uad50\\uc721\\uc2e4\\ub300\\uc5ec\\uc2e0\\uccad\\uc11c \\ub2e4\\uc6b4\\ub85c\\ub4dc  \\uc774\\uc6a9\\ub8cc    \\uad50\\uc721\\uc2e4 \\ub300\\uc5ec\\ube44  \\uc6d0 \\uae30\\ubcf8 \\uc2dc\\uac04 \\uae30\\uc900  \\ubd84\\ub2f9 \\uc6d0 \\uc529 \\ucd94\\uac00\\ube44\\uc6a9 \\ubc1c\\uc0dd    \\uae30\\uc790\\uc7ac \\ud504\\ub85c\\uc81d\\ud130 \\uc0ac\\uc6a9  \\uc6d0      \\uc815\\ubcf4\\uc2e4    \\ub3c4\\uc11c \\ubc0f \\uc790\\ub8cc\\uc758 \\uc5f4\\ub78c  \\uc790\\ub8cc \\uc5f4\\ub78c\\uc774 \\uc5b4\\ub824\\uc6b4 \\uacbd\\uc6b0\\uac00 \\uc788\\uc5b4 \\uc774\\uc6a9 \\uac00\\ub2a5\\uc5ec\\ubd80 \\ud655\\uc778 \\ud6c4 \\ubc29\\ubb38 \\uc548\\ub0b4   \\uc774\\uc6a9\\uc2dc\\uac04  \\ud3c9\\uc77c        \\uc7a5\\ub09c\\uac10\\ub3c4\\uc11c\\uad00    \\uc774\\uc6a9\\ub0b4\\uc6a9  \\uc7a5\\ub09c\\uac10 \\ubb34\\ub8cc\\ub300\\uc5ec \\uc790\\uc720\\ub180\\uc774\\uc2e4 \\uc6b4\\uc601 \\uc7a5\\ub09c\\uac10 \\uad50\\ud658\\uc0ac\\uc5c5 \\ubd80\\ubaa8\\ubaa8\\uc784 \\uc591\\uc721\\uc0c1\\ub2f4   \\uc704\\uce58  \\ud638\\uc120 \\uc744\\uc9c0\\ub85c\\uc785\\uad6c\\uc5ed \\ub0b4  \\uc11c\\uc6b8\\ud2b9\\ubcc4\\uc2dc\\uc721\\uc544\\uc885\\ud569\\uc9c0\\uc6d0\\uc13c\\ud130\\uc640 \\ub2e4\\ub978 \\uacf3\\uc5d0 \\uc704\\uce58\\ud568   \\uc11c\\uc6b8\\uc2dc \\uc5c5\\ubb34\\ub9e4\\ub274\\uc5bc \\ub179\\uc0c9\\uc7a5\\ub09c\\uac10\\ub3c4\\uc11c\\uad00 \\ud0a4\\uc988\\ubc45\\ud06c \\uc774\\uc6a9\\uc548\\ub0b4 \\ucc38\\uc870      \\uc804\\uc790\\ucc45\\ub3c4\\uc11c\\uad00    \\uc774\\uc6a9\\ub300\\uc0c1  \\uc11c\\uc6b8\\ud2b9\\ubcc4\\uc2dc\\uc721\\uc544\\uc885\\ud569\\uc9c0\\uc6d0\\uc13c\\ud130 \\ud648\\ud398\\uc774\\uc9c0 \\ud68c\\uc6d0\\uc774\\uba74 \\ub204\\uad6c\\ub098 \\uc774\\uc6a9\\uac00\\ub2a5   \\uc774\\uc6a9\\ub0b4\\uc6a9  \\uc601\\uc720\\uc544 \\ubc0f \\uc131\\uc778\\uc744 \\uc704\\ud55c \\uc804\\uc790\\ucc45 \\uc5ec\\uad8c\\uacfc \\ub3d9\\ud654\\uad00\\ub828 \\uc0c9\\uce60\\ud558\\uae30   \\uc774\\uc6a9\\ubc29\\ubc95  \\uc11c\\uc6b8\\ud2b9\\ubcc4\\uc2dc\\uc721\\uc544\\uc885\\ud569\\uc9c0\\uc6d0\\uc13c\\ud130 \\ud648\\ud398\\uc774\\uc9c0 \\ub85c\\uadf8\\uc778 \\ud6c4 \\uc774\\uc6a9\\uac00\\ub2a5      \\uc11c\\uc6b8\\uc2dc \\uc5b4\\ub9b0\\uc774\\uc9d1 \\uc544\\ub3d9\\uc778\\uad8c \\ud559\\ub300\\uc608\\ubc29 \\uc0c1\\ub2f4\\uc804\\ud654  \\ucd9c\\ubc94                    \\uad6c\\ubd84  \\ub0b4\\uc6a9   \\uc0c1\\ub2f4\\uc804\\ud654   \\ucf54\\ub4dc   \\uc11c\\uc6b8\\uc2dc \\uc5b4\\ub9b0\\uc774\\uc9d1 \\uc544\\ub3d9\\uc778\\uad8c \\ud559\\ub300\\uc608\\ubc29 \\uc0c1\\ub2f4\\uc804\\ud654   \\uad00\\ud560 \\uc721\\uc544\\uc885\\ud569\\uc9c0\\uc6d0\\uc13c\\ud130 \\ub0b4 \\uc804\\ubb38 \\uc544\\ub3d9\\uc778\\uad8c \\uc0c1\\ub2f4\\uc0ac \\uc5f0\\uacb0                  \\ubc88  \\ub3d9\\ub0a8\\uad8c  \\ubc88  \\ub3d9\\ubd81\\uad8c  \\ubc88  \\ub3c4\\uc2ec\\uad8c  \\ubc88  \\uc11c\\ub0a8\\uad8c  \\ubc88  \\uc11c\\ubd81\\uad8c  \\ubc88    \\uc11c\\ucd08\\uad6c  \\uac15\\ub0a8\\uad6c  \\uc1a1\\ud30c\\uad6c  \\uac15\\ub3d9\\uad6c    \\ub3c4\\ubd09\\uad6c  \\ub3d9\\ub300\\ubb38   \\ub178\\uc6d0\\uad6c  \\uc131\\ub3d9\\uad6c   \\uac15\\ubd81\\uad6c  \\uad11\\uc9c4\\uad6c   \\uc131\\ubd81\\uad6c  \\uc911\\ub791\\uad6c    \\uc885\\ub85c\\uad6c   \\uc911\\uad6c    \\uc6a9\\uc0b0\\uad6c    \\uac15\\uc11c\\uad6c  \\uae08\\ucc9c\\uad6c   \\uc591\\ucc9c\\uad6c  \\ub3d9\\uc791\\uad6c   \\uad6c\\ub85c\\uad6c  \\uad00\\uc545\\uad6c   \\uc601\\ub4f1\\ud3ec   \\uc740\\ud3c9\\uad6c  \\uc11c\\ub300\\ubb38  \\ub9c8\\ud3ec\\uad6c  \\uc11c\\uc6b8\\uc2dc \\uc721\\uc544\\uc885\\ud569\\uc9c0\\uc6d0\\uc13c\\ud130       \\uc544\\ub3d9\\uc778\\uad8c \\uc0c1\\ub2f4\\uc0ac \\uc5ed\\ud560    \\uc804\\ubb38\\uc0c1\\ub2f4  \\uc804\\ud654\\uc0c1\\ub2f4\\uacfc \\uc628\\ub77c\\uc778 \\uc0c1\\ub2f4 \\ud544\\uc694\\uc2dc \\uc5b4\\ub9b0\\uc774\\uc9d1 \\ub4f1 \\ud604\\uc7a5\\uc744 \\ucc3e\\uc544\\uac00\\ub294 \\uc0c1\\ub2f4\\uc73c\\ub85c \\uc9c4\\ud589   \\uc18c\\uadf8\\ub8f9\\uad50\\uc721  \\uc9c0\\uc5ed\\ubcc4 \\uc5b4\\ub9b0\\uc774\\uc9d1 \\ubcf4\\uc721\\uad50\\uc0ac\\ub4e4\\uacfc \\uba85 \\uc774\\ub0b4\\uc758 \\uc18c\\uadf8\\ub8f9\\uad50\\uc721\\uc744 \\uc218\\uc2dc\\ub85c \\uc2e4\\uc2dc  \\uc5b4\\ub9b0\\uc774\\uc9d1 \\ubcf4\\uc721\\uad50\\uc0ac\\ub4e4\\uc774 \\uc544\\ub3d9\\uacfc\\uc758    \\uae0d\\uc815\\uc801 \\uad00\\uacc4\\ud615\\uc131   \\ud6c8\\uc721\\uac00\\uc774\\ub4dc \\uad50\\uc721 \\uc6d4\\uc911 \\ubc30\\ud3ec\\uc608\\uc815  \\ud6c8\\uc721 \\uac00\\uc774\\ub4dc\\ubd81\\uc758 \\uc8fc\\uc694 \\ub0b4\\uc6a9\\uc744 \\ubcf4\\uc721\\uad50\\uc0ac\\ub4e4\\uc5d0\\uac8c \\ube60\\ub974\\uac8c \\uc804\\ud30c\\ud574 \\uc2e4\\ucc9c\\ub418\\ub3c4\\ub85d \\ud560 \\uc608\\uc815   \\uc544\\ub3d9\\ud559\\ub300\\uc2e0\\uace0  \\uc544\\ub3d9\\ud559\\ub300\\uac00 \\uc758\\uc2ec\\ub420 \\uacbd\\uc6b0 \\uc544\\ub3d9\\ud559\\ub300 \\uc2e0\\uace0 \\uc548\\ub0b4 \\ubc0f \\uc544\\ub3d9\\ubcf4\\ud638\\uc804\\ubb38\\uae30\\uad00\\uacfc\\uacfc \\uae34\\ubc00\\ud788 \\ud611\\uc870\\ud558\\uc5ec \\uc870\\uae30 \\ud574\\uacb0\\ub418\\ub3c4\\ub85d \\uc9c0\\uc6d0   \\uae30\\ud0c0   \\uc778\\uad8c\\ubcf4\\ud638 \\ubc0f \\ud559\\ub300\\uc608\\ubc29\\uc744 \\uc704\\ud55c \\uc0c1\\ub2f4\\uc740 \\uc544\\ub3d9\\uc778\\uad8c\\uc0c1\\ub2f4\\uc804\\ud654 \\uc774\\ub098 \\uc544\\ub3d9\\ud559\\ub300\\uc2e0\\uace0\\ub294 \\uacbd\\ucc30\\uccad  \\uad00\\ud560 \\uc544\\ub3d9\\ubcf4\\ud638\\uc804\\ubb38\\uae30\\uad00\\uc784     \\uc704\\uce58 \\ubc0f \\uc8fc\\uc18c  \\uad50\\ud1b5\\ud3b8    \\uc8fc\\uc18c  \\uc11c\\uc6b8\\ud2b9\\ubcc4\\uc2dc \\uc911\\uad6c \\uc11c\\uc18c\\ubb38\\ub85c\\uae38  \\uc11c\\uc18c\\ubb38\\ub3d9 \\ubc88\\uc9c0  \\uce35 \\uc11c\\uc6b8\\ud2b9\\ubcc4\\uc2dc\\uc721\\uc544\\uc885\\ud569\\uc9c0\\uc6d0\\uc13c\\ud130    \\uad50\\ud1b5\\ud3b8   \\uc9c0\\ud558\\ucca0 \\ud638\\uc120 \\uc2dc\\uccad\\uc5ed \\ubc88 \\ucd9c\\uad6c\\ub85c \\ub098\\uc640 \\uc0c1\\uc5c5\\ub4f1\\uae30\\uc18c \\ubc29\\ud5a5\\uc73c\\ub85c  \\uc62c\\ub77c\\uc624\\uba74 \\uc624\\ub978\\ucabd\\uc5d0 \\uc704\\uce58\\ud568   \\uad00\\ub828     \\uc790\\uce58\\uad6c\\uacf5\\ud1b5 \\uc721\\uc544\\uc885\\ud569\\uc9c0\\uc6d0\\uc13c\\ud130 \\uad6c \\ubcf4\\uc721\\uc815\\ubcf4\\uc13c\\ud130  \\uc601\\uc720\\uc544\\ud50c\\ub77c\\uc790   \\uae30\\ud0c0\\uc0ac\\ud56d    \\uc11c\\uc6b8\\ud2b9\\ubcc4\\uc2dc\\uc721\\uc544\\uc885\\ud569\\uc9c0\\uc6d0\\uc13c\\ud130 \\ud648\\ud398\\uc774\\uc9c0 \\uc624\\ub958 \\ubc0f \\uc544\\uc774\\ub514 \\ube44\\ubc00\\ubc88\\ud638 \\uad00\\ub828 \\ubb38\\uc758\\ucc98      \\uc804\\uad6d \\ucd5c\\ucd08 \\uc5b4\\ub9b0\\uc774\\uc9d1 \\ub3cc\\ubd04 \\uc548\\ub0b4\\uc11c \\ubc1c\\uac04 \\uad8c    \\uc81c \\uad8c  \\uc120\\uc0dd\\ub2d8 \\uc544\\uc774 \\uc5c4\\ub9c8\\uc544\\ube60 \\ud568\\uaed8 \\ubc30\\uc6cc\\uc694 \\uc720\\uc544\\ub97c \\uc874\\uc911\\ud558\\ub294 \\ud6c8\\uc721 \\uc774\\ud574\\ud558\\uae30    \\uc601\\uc720\\uc544\\ub97c \\uc874\\uc911\\ud558\\ub294 \\ud6c8\\uc721\\uc758 \\uc6d0\\ub9ac\\uc640 \\ubc29\\ubc95\\uc744 \\uc81c\\uc2dc\\ud558\\uace0 \\uad50\\uc0ac \\ub0b4\\uba74\\uc758 \\uc870\\uc808\\ub2a5\\ub825\\uc744 \\ud0a4\\uc6b0\\ub294 \\ubc29\\ubc95 \\ubd80\\ubaa8\\uc640 \\uc18c\\ud1b5 \\ud611\\ub825\\ud558\\ub294 \\ubc29\\ubc95 \\ub4f1 \\uc81c\\uc2dc   \\uc81c \\uad8c  \\uc120\\uc0dd\\ub2d8 \\uc544\\uc774 \\uc5c4\\ub9c8\\uc544\\ube60 \\ud568\\uaed8 \\ubc30\\uc6cc\\uc694 \\uc601\\uc720\\uc544\\ub97c \\uc874\\uc911\\ud558\\ub294 \\ud6c8\\uc721 \\uc2e4\\ucc9c\\ud558\\uae30     \\uac08\\ub4f1\\uc0c1\\ud669\\uc5d0 \\ub300\\ud55c \\uc601\\uc720\\uc544 \\uad50\\uc0ac\\uc758 \\ub9c8\\uc74c\\uc744 \\uc774\\ud574\\ud558\\uace0 \\uc804\\ubb38\\uac00\\uc758 \\uc870\\uc5b8\\uacfc \\uc2e4\\ucc9c\\ubc29\\ubc95 \\ubc0f \\uac00\\uc815\\uacfc\\uc758 \\ud611\\ub825\\ubc29\\ubc95\\uc744 \\uad6c\\uccb4\\uc801\\uc73c\\ub85c \\uc81c\\uc2dc   \\ub2e4\\uc6b4\\ub85c\\ub4dc \\uacbd\\ub85c  \\uc11c\\uc6b8\\uc2dc\\uc721\\uc544\\uc885\\ud569\\uc9c0\\uc6d0\\uc13c\\ud130                 \\uc815\\ubcf4\\ub9c8\\ub2f9  \\uc790\\ub8cc\\uc2e4  \\uc804\\uc790\\ucc45      \\uc120\\uc0dd\\ub2d8 \\uac80\\uc0c9                                \\uc11c\\uc6b8\\uc2dc \\ubcf4\\uc721\\uc11c\\ube44\\uc2a4 \\uc774\\uc6a9 \\uc2a4\\ud1a0\\ub9ac\\ud154\\ub9c1 \\uacf5\\ubaa8\\uc804   \\uad6c\\ubd84  \\ub0b4\\uc6a9   \\uacf5\\ubaa8\\uae30\\uac04   \\ub144 \\uc6d4 \\uc77c  \\uc6d4 \\uc77c \\uac1c\\uc6d4    \\uacf5\\ubaa8\\ub300\\uc0c1   \\uc11c\\uc6b8\\uc2dc \\ubcf4\\uc721\\uc11c\\ube44\\uc2a4 \\uc774\\uc6a9\\ubd80\\ubaa8 \\ubcf4\\uc721\\uad50\\uc9c1\\uc6d0 \\ub4f1 \\uc2dc\\ubbfc   \\uc811\\uc218\\ubc29\\ubc95    \\uc774\\uba54\\uc77c               \\uc790\\uc720 \\uc591\\uc2dd\\uc758 \\uc0b0\\ubb38\\ud615 \\uc5d0\\uc138\\uc774 \\ud615\\ud0dc \\uc790 \\uc774\\ub0b4    \\uacf5\\ubaa8\\ub0b4\\uc6a9    \\uc11c\\uc6b8\\uc2dc \\ubcf4\\uc721\\uc11c\\ube44\\uc2a4 \\uc774\\uc6a9 \\ud6c4 \\ub098\\ud0c0\\ub09c \\uae0d\\uc815\\uc801\\uc778 \\ud6a8\\uacfc \\uac00\\uc871\\uad00\\uacc4\\uc5d0\\uc11c\\uc758 \\ubcc0\\ud654 \\uc0dd\\ud65c\\uc5d0 \\ub3c4\\uc6c0\\uc774 \\ub418\\uc5c8\\ub358 \\uc0ac\\ub840 \\ub4f1   \\uad6d\\uacf5\\ub9bd\\uc5b4\\ub9b0\\uc774\\uc9d1 \\uc774\\uc6a9\\uc0ac\\ub840  \\uad6d\\uacf5\\ub9bd\\uc5b4\\ub9b0\\uc774\\uc9d1\\uc73c\\ub85c \\uc804\\ud658 \\ud6c4 \\uae0d\\uc815\\uc801\\uc778 \\ubcc0\\ud654\\uc0ac\\ub840 \\uc721\\uc544\\ubd80\\ub2f4\\uc744 \\uc904\\uc778 \\uc0ac\\ub840 \\ub4f1   \\uc5f4\\ub9b0\\uc5b4\\ub9b0\\uc774\\uc9d1 \\ucc38\\uc5ec\\ub85c \\uc5b4\\ub9b0\\uc774\\uc9d1\\uacfc \\uae0d\\uc815\\uc801\\uc778 \\uad00\\uacc4\\ub97c \\uc774\\ub8ec \\uc0ac\\ub840   \\uc544\\uc774\\uc870\\uc544 \\uc11c\\uc6b8 \\ucee8\\uc124\\ud305 \\ubcf4\\uc721\\uc11c\\ube44\\uc2a4\\uc9c0\\uc6d0\\uc13c\\ud130 \\ubcf4\\uc721\\uad50\\uc0ac \\uc778\\ub825\\ud480 \\uc774\\uc6a9\\uc0ac\\ub840   \\uc6b0\\ub9ac\\ub3d9\\ub124 \\ubcf4\\uc721\\ubc18\\uc7a5 \\uc774\\uc6a9\\uc0ac\\ub840   \\ubd80\\ubaa8\\uad50\\uc721 \\uc544\\uc774\\uc870\\uc544 \\uc544\\ube60\\uad50\\uc2e4 \\ub4f1 \\uc774\\uc6a9 \\ud6c4 \\uae0d\\uc815\\uc801\\uc778 \\uac00\\uc871\\uad00\\uacc4 \\ubcc0\\ud654 \\uc0ac\\ub840   \\uc5b4\\ub9b0\\uc774\\uc9d1\\uc744 \\uc774\\uc6a9\\ud558\\uba74\\uc11c \\ubcf4\\uc721\\uad50\\uc0ac\\uc5d0\\uac8c \\uace0\\ub9c8\\uc6c0\\uc744 \\ub290\\ub080 \\uc0ac\\ub840   \\uae30\\ud0c0 \\uc5b4\\ub9b0\\uc774\\uc9d1\\uc744 \\uc774\\uc6a9\\ud558\\uba74\\uc11c \\uc788\\uc5c8\\ub358 \\uac10\\ub3d9\\uc801\\uc778 \\uc774\\uc6a9\\uc0ac\\ub840   \\ub2f9\\uc120\\ubc1c\\ud45c    \\ub144 \\uc6d4 \\uc77c \\uc218 \\uc608\\uc815  \\uc11c\\uc6b8\\uc2dc\\uc721\\uc544\\uc885\\ud569\\uc9c0\\uc6d0\\uc13c\\ud130 \\ud648\\ud398\\uc774\\uc9c0 \\ube14\\ub85c\\uadf8 \\uac8c\\uc7ac \\ubc0f \\ub2f9\\uc120\\uc790 \\uac1c\\ubcc4 \\uc548\\ub0b4   \\ub2f9\\uc120\\uc791 \\uc2dc\\uc0c1  \\ucd1d \\uba85 \\ub9cc\\uc6d0    \\uae08\\uc0c1 \\uba85 \\uac01 \\ub9cc\\uc6d0  \\uc740\\uc0c1 \\uba85 \\uac01 \\ub9cc\\uc6d0  \\ub3d9\\uc0c1 \\uba85 \\uac01 \\ub9cc\\uc6d0  \\uc7a5\\ub824\\uc0c1 \\uba85 \\uac01 \\ub9cc\\uc6d0    \\uc2dc\\uc0c1\\uaddc\\ubaa8\\ub294 \\uc811\\uc218\\uc0c1\\ud669\\uc5d0 \\ub530\\ub77c \\ubcc0\\ub3d9\\uac00\\ub2a5   \\uae30\\ud0c0\\uc0ac\\ud56d    \\uc778 \\uac1c \\uc791\\ud488\\uae4c\\uc9c0 \\uc751\\ubaa8 \\uac00\\ub2a5   \\ud0c0 \\uacf5\\ubaa8\\uc804 \\ub2f9\\uc120\\uc791\\uc774\\uac70\\ub098 \\ud45c\\uc808 \\ub4f1 \\uc800\\uc791\\uad8c \\uad00\\ub828 \\ubb38\\uc81c\\uac00 \\uc788\\ub294 \\uac83\\uc73c\\ub85c \\ud310\\uba85\\ub420 \\uacbd\\uc6b0 \\ud574\\ub2f9 \\uc791\\ud488\\uc740 \\uc2ec\\uc0ac\\uc5d0\\uc11c \\uc81c\\uc678    \\ub2f9\\uc120 \\ud6c4\\uc5d0\\ub3c4 \\ub2f9\\uc120 \\ucde8\\uc18c   \\ub2f9\\uc120\\uc791\\uc758 \\uc9c0\\uc801\\uc7ac\\uc0b0\\uad8c\\uc740 \\uc11c\\uc6b8\\uc2dc \\ubc0f \\uc11c\\uc6b8\\uc2dc\\uc721\\uc544\\uc885\\ud569\\uc9c0\\uc6d0\\uc13c\\ud130\\uc5d0 \\uadc0\\uc18d\\ub418\\uba70 \\ud64d\\ubcf4\\ubb3c\\ub85c \\uc81c\\uc791 \\ud65c\\uc6a9   \\uc2dc\\uc0c1\\uc2dd\\uc740 \\ubcc4\\ub3c4\\ub85c \\uc2dc\\ud589\\ud558\\uc9c0 \\uc54a\\uc73c\\uba70 \\uc2ec\\uc0ac\\uc704\\uc6d0 \\uba85\\ub2e8 \\ubc0f \\uc2ec\\uc0ac\\uacfc\\uc815\\uc740 \\ube44\\uacf5\\uac1c   \\ubb38\\uc758   \\uc11c\\uc6b8\\uc2dc\\uc721\\uc544\\uc885\\ud569\\uc9c0\\uc6d0\\uc13c\\ud130           \",\n          \"\\u3147 \\uac1c\\uad00\\uc77c  \\ub144 \\uc6d4 \\uc77c\\u3147 \\uc704  \\uce58  \\uc1a1\\ud30c\\uad6c\\uccad \\ubcc4\\uad00 \\ud589\\ubcf5\\ub098\\ub214\\uc77c\\uc790\\ub9ac\\uc13c\\ud130 \\uce35\\u3147 \\uaddc  \\ubaa8   \\uac15\\uc758\\uc2e4 \\uc0c1\\ub2f4\\uc2e4 \\ud734\\uac8c\\uc2e4 \\u3147 \\uc6b4\\uc601\\uc2dc\\uac04  \\ud654 \\ud1a0\\uc694\\uc77c     \\ub9e4\\uc8fc \\uc6d4\\uc694\\uc77c \\ubc0f \\uc77c\\uc694\\uc77c \\uacf5\\ud734\\uc77c \\ud3ec\\ud568 \\uc740 \\ud734\\uad00\\uc77c  \\uc2e0\\uccad\\ubc29\\ubc95\\u3147 \\uc0c1\\ub2f4 \\ubc0f \\ud504\\ub85c\\uadf8\\ub7a8 \\uc608\\uc57d  \\ubc29\\ubb38\\uc744 \\ud1b5\\ud55c \\ud504\\ub85c\\uadf8\\ub7a8 \\ucc38\\uc5ec\\u3147 \\uc804\\ud654\\ubc88\\ud638  \\uc1a1\\ud30c\\uad6c\\uc790\\uae30\\uc8fc\\ub3c4\\ud559\\uc2b5\\uad00   \",\n          \"\\uc774\\uc2dd\\uacf5\\uc0ac\\uc2dc \\uac74\\uc124\\uacf5\\uc0ac \\ud45c\\uc900\\ud488\\uc148\\uc5d0 \\uc758\\uac70 \\ubfcc\\ub9ac\\ubd84\\uc744 \\uc0b4\\ub9ac\\uc9c0 \\uc54a\\uc73c\\ubbc0\\ub85c  \\uac10\\ud574\\uc57c \\ud569\\ub2c8\\ub2e4    \"\n        ],\n        \"semantic_type\": \"\",\n        \"description\": \"\"\n      }\n    },\n    {\n      \"column\": \"\\ub0b4\\uc6a9\\ubc88\\ud638\",\n      \"properties\": {\n        \"dtype\": \"number\",\n        \"std\": 2586622,\n        \"min\": 2894089,\n        \"max\": 23734948,\n        \"num_unique_values\": 2645,\n        \"samples\": [\n          2896062,\n          2894196,\n          2897323\n        ],\n        \"semantic_type\": \"\",\n        \"description\": \"\"\n      }\n    }\n  ]\n}"
            }
          },
          "metadata": {},
          "execution_count": 32
        }
      ],
      "source": [
        "df2 = pd.read_csv(\"seoul-120-text.csv\")\n",
        "df2.head()"
      ]
    },
    {
      "cell_type": "code",
      "source": [
        "df2.분류.value_counts()\n",
        "df2_2 = df2.query(\"(분류=='복지') or (분류=='경제')\")\n",
        "df2_2 = df2_2.sample(1000)"
      ],
      "metadata": {
        "id": "T9-dcZJbfaG6"
      },
      "execution_count": 34,
      "outputs": []
    },
    {
      "cell_type": "code",
      "source": [
        "okt = Okt()\n",
        "def token(text):\n",
        "    return okt.nouns(text)\n",
        "\n",
        "vect2 = CountVectorizer(tokenizer=token)\n",
        "dtm2 = vect2.fit_transform(df2_2[\"내용\"])\n"
      ],
      "metadata": {
        "colab": {
          "base_uri": "https://localhost:8080/"
        },
        "outputId": "31c72c99-8e3c-4e46-93c7-61a9a616b63f",
        "id": "VrtrE8j5faG7"
      },
      "execution_count": 35,
      "outputs": [
        {
          "output_type": "stream",
          "name": "stderr",
          "text": [
            "/usr/local/lib/python3.10/dist-packages/sklearn/feature_extraction/text.py:525: UserWarning: The parameter 'token_pattern' will not be used since 'tokenizer' is not None'\n",
            "  warnings.warn(\n"
          ]
        }
      ]
    },
    {
      "cell_type": "code",
      "source": [
        "X_train2, X_test2, y_train2, y_test2 = train_test_split( dtm2, df2_2.분류)\n",
        "dt2 = DecisionTreeClassifier()\n",
        "dt2.fit(X_train2, y_train2)\n",
        "pred2 = dt2.predict(X_test2)\n",
        "print(classification_report(y_test2, pred2))\n"
      ],
      "metadata": {
        "colab": {
          "base_uri": "https://localhost:8080/"
        },
        "outputId": "10325678-9999-45af-88ff-d3c8102eb892",
        "id": "mJ46DvCzfaG7"
      },
      "execution_count": 36,
      "outputs": [
        {
          "output_type": "stream",
          "name": "stdout",
          "text": [
            "              precision    recall  f1-score   support\n",
            "\n",
            "          경제       0.91      0.95      0.93       191\n",
            "          복지       0.80      0.69      0.75        59\n",
            "\n",
            "    accuracy                           0.89       250\n",
            "   macro avg       0.86      0.82      0.84       250\n",
            "weighted avg       0.88      0.89      0.89       250\n",
            "\n"
          ]
        }
      ]
    },
    {
      "cell_type": "markdown",
      "source": [
        "###3번"
      ],
      "metadata": {
        "id": "3o6gq29CgCRq"
      }
    },
    {
      "cell_type": "code",
      "source": [
        "df3 = pd.read_csv(\"train_df.csv\", encoding=\"cp949\")\n",
        "df3.head()"
      ],
      "metadata": {
        "colab": {
          "base_uri": "https://localhost:8080/",
          "height": 206
        },
        "id": "1mduA9XJe1an",
        "outputId": "1a6dbc23-5411-44f5-9578-ff2b018586a3"
      },
      "execution_count": 40,
      "outputs": [
        {
          "output_type": "execute_result",
          "data": {
            "text/plain": [
              "     IDX 발화자                                                발화문  \\\n",
              "0  28414   c                     혹시 플라워 스마트 톡 케이스 블루로 바꿀 수 있나요?   \n",
              "1  28415   s                               현재 배송 중으로 교환이 어렵습니다.   \n",
              "2  28416   c  USB1.0 속도 밖에 나오질 않네요리더 기만 교환 바랍니다. 불량 리더기도 택배로...   \n",
              "3  28417   s                           네.리더기만 불량이 여교환 문의해주셨는데요.   \n",
              "4  28418   c        빨리 챙겨서 보내주시기 바랍니다 아니면 다시 1개는 교환으로 보내야 하는지요?   \n",
              "\n",
              "              인텐트    상담번호  상담내순번  \n",
              "0  교환|반품|환불_일반_요청  389321      1  \n",
              "1  교환|반품|환불_일반_요청  389321      2  \n",
              "2  교환|반품|환불_일반_요청  179614      1  \n",
              "3  교환|반품|환불_일반_요청  179614      2  \n",
              "4  교환|반품|환불_일반_요청  325053      1  "
            ],
            "text/html": [
              "\n",
              "  <div id=\"df-d4562c20-a2a2-4c6a-a5e1-36a23425efc4\" class=\"colab-df-container\">\n",
              "    <div>\n",
              "<style scoped>\n",
              "    .dataframe tbody tr th:only-of-type {\n",
              "        vertical-align: middle;\n",
              "    }\n",
              "\n",
              "    .dataframe tbody tr th {\n",
              "        vertical-align: top;\n",
              "    }\n",
              "\n",
              "    .dataframe thead th {\n",
              "        text-align: right;\n",
              "    }\n",
              "</style>\n",
              "<table border=\"1\" class=\"dataframe\">\n",
              "  <thead>\n",
              "    <tr style=\"text-align: right;\">\n",
              "      <th></th>\n",
              "      <th>IDX</th>\n",
              "      <th>발화자</th>\n",
              "      <th>발화문</th>\n",
              "      <th>인텐트</th>\n",
              "      <th>상담번호</th>\n",
              "      <th>상담내순번</th>\n",
              "    </tr>\n",
              "  </thead>\n",
              "  <tbody>\n",
              "    <tr>\n",
              "      <th>0</th>\n",
              "      <td>28414</td>\n",
              "      <td>c</td>\n",
              "      <td>혹시 플라워 스마트 톡 케이스 블루로 바꿀 수 있나요?</td>\n",
              "      <td>교환|반품|환불_일반_요청</td>\n",
              "      <td>389321</td>\n",
              "      <td>1</td>\n",
              "    </tr>\n",
              "    <tr>\n",
              "      <th>1</th>\n",
              "      <td>28415</td>\n",
              "      <td>s</td>\n",
              "      <td>현재 배송 중으로 교환이 어렵습니다.</td>\n",
              "      <td>교환|반품|환불_일반_요청</td>\n",
              "      <td>389321</td>\n",
              "      <td>2</td>\n",
              "    </tr>\n",
              "    <tr>\n",
              "      <th>2</th>\n",
              "      <td>28416</td>\n",
              "      <td>c</td>\n",
              "      <td>USB1.0 속도 밖에 나오질 않네요리더 기만 교환 바랍니다. 불량 리더기도 택배로...</td>\n",
              "      <td>교환|반품|환불_일반_요청</td>\n",
              "      <td>179614</td>\n",
              "      <td>1</td>\n",
              "    </tr>\n",
              "    <tr>\n",
              "      <th>3</th>\n",
              "      <td>28417</td>\n",
              "      <td>s</td>\n",
              "      <td>네.리더기만 불량이 여교환 문의해주셨는데요.</td>\n",
              "      <td>교환|반품|환불_일반_요청</td>\n",
              "      <td>179614</td>\n",
              "      <td>2</td>\n",
              "    </tr>\n",
              "    <tr>\n",
              "      <th>4</th>\n",
              "      <td>28418</td>\n",
              "      <td>c</td>\n",
              "      <td>빨리 챙겨서 보내주시기 바랍니다 아니면 다시 1개는 교환으로 보내야 하는지요?</td>\n",
              "      <td>교환|반품|환불_일반_요청</td>\n",
              "      <td>325053</td>\n",
              "      <td>1</td>\n",
              "    </tr>\n",
              "  </tbody>\n",
              "</table>\n",
              "</div>\n",
              "    <div class=\"colab-df-buttons\">\n",
              "\n",
              "  <div class=\"colab-df-container\">\n",
              "    <button class=\"colab-df-convert\" onclick=\"convertToInteractive('df-d4562c20-a2a2-4c6a-a5e1-36a23425efc4')\"\n",
              "            title=\"Convert this dataframe to an interactive table.\"\n",
              "            style=\"display:none;\">\n",
              "\n",
              "  <svg xmlns=\"http://www.w3.org/2000/svg\" height=\"24px\" viewBox=\"0 -960 960 960\">\n",
              "    <path d=\"M120-120v-720h720v720H120Zm60-500h600v-160H180v160Zm220 220h160v-160H400v160Zm0 220h160v-160H400v160ZM180-400h160v-160H180v160Zm440 0h160v-160H620v160ZM180-180h160v-160H180v160Zm440 0h160v-160H620v160Z\"/>\n",
              "  </svg>\n",
              "    </button>\n",
              "\n",
              "  <style>\n",
              "    .colab-df-container {\n",
              "      display:flex;\n",
              "      gap: 12px;\n",
              "    }\n",
              "\n",
              "    .colab-df-convert {\n",
              "      background-color: #E8F0FE;\n",
              "      border: none;\n",
              "      border-radius: 50%;\n",
              "      cursor: pointer;\n",
              "      display: none;\n",
              "      fill: #1967D2;\n",
              "      height: 32px;\n",
              "      padding: 0 0 0 0;\n",
              "      width: 32px;\n",
              "    }\n",
              "\n",
              "    .colab-df-convert:hover {\n",
              "      background-color: #E2EBFA;\n",
              "      box-shadow: 0px 1px 2px rgba(60, 64, 67, 0.3), 0px 1px 3px 1px rgba(60, 64, 67, 0.15);\n",
              "      fill: #174EA6;\n",
              "    }\n",
              "\n",
              "    .colab-df-buttons div {\n",
              "      margin-bottom: 4px;\n",
              "    }\n",
              "\n",
              "    [theme=dark] .colab-df-convert {\n",
              "      background-color: #3B4455;\n",
              "      fill: #D2E3FC;\n",
              "    }\n",
              "\n",
              "    [theme=dark] .colab-df-convert:hover {\n",
              "      background-color: #434B5C;\n",
              "      box-shadow: 0px 1px 3px 1px rgba(0, 0, 0, 0.15);\n",
              "      filter: drop-shadow(0px 1px 2px rgba(0, 0, 0, 0.3));\n",
              "      fill: #FFFFFF;\n",
              "    }\n",
              "  </style>\n",
              "\n",
              "    <script>\n",
              "      const buttonEl =\n",
              "        document.querySelector('#df-d4562c20-a2a2-4c6a-a5e1-36a23425efc4 button.colab-df-convert');\n",
              "      buttonEl.style.display =\n",
              "        google.colab.kernel.accessAllowed ? 'block' : 'none';\n",
              "\n",
              "      async function convertToInteractive(key) {\n",
              "        const element = document.querySelector('#df-d4562c20-a2a2-4c6a-a5e1-36a23425efc4');\n",
              "        const dataTable =\n",
              "          await google.colab.kernel.invokeFunction('convertToInteractive',\n",
              "                                                    [key], {});\n",
              "        if (!dataTable) return;\n",
              "\n",
              "        const docLinkHtml = 'Like what you see? Visit the ' +\n",
              "          '<a target=\"_blank\" href=https://colab.research.google.com/notebooks/data_table.ipynb>data table notebook</a>'\n",
              "          + ' to learn more about interactive tables.';\n",
              "        element.innerHTML = '';\n",
              "        dataTable['output_type'] = 'display_data';\n",
              "        await google.colab.output.renderOutput(dataTable, element);\n",
              "        const docLink = document.createElement('div');\n",
              "        docLink.innerHTML = docLinkHtml;\n",
              "        element.appendChild(docLink);\n",
              "      }\n",
              "    </script>\n",
              "  </div>\n",
              "\n",
              "\n",
              "<div id=\"df-1856ff6b-5d8a-4c53-ba32-39b5484735a6\">\n",
              "  <button class=\"colab-df-quickchart\" onclick=\"quickchart('df-1856ff6b-5d8a-4c53-ba32-39b5484735a6')\"\n",
              "            title=\"Suggest charts\"\n",
              "            style=\"display:none;\">\n",
              "\n",
              "<svg xmlns=\"http://www.w3.org/2000/svg\" height=\"24px\"viewBox=\"0 0 24 24\"\n",
              "     width=\"24px\">\n",
              "    <g>\n",
              "        <path d=\"M19 3H5c-1.1 0-2 .9-2 2v14c0 1.1.9 2 2 2h14c1.1 0 2-.9 2-2V5c0-1.1-.9-2-2-2zM9 17H7v-7h2v7zm4 0h-2V7h2v10zm4 0h-2v-4h2v4z\"/>\n",
              "    </g>\n",
              "</svg>\n",
              "  </button>\n",
              "\n",
              "<style>\n",
              "  .colab-df-quickchart {\n",
              "      --bg-color: #E8F0FE;\n",
              "      --fill-color: #1967D2;\n",
              "      --hover-bg-color: #E2EBFA;\n",
              "      --hover-fill-color: #174EA6;\n",
              "      --disabled-fill-color: #AAA;\n",
              "      --disabled-bg-color: #DDD;\n",
              "  }\n",
              "\n",
              "  [theme=dark] .colab-df-quickchart {\n",
              "      --bg-color: #3B4455;\n",
              "      --fill-color: #D2E3FC;\n",
              "      --hover-bg-color: #434B5C;\n",
              "      --hover-fill-color: #FFFFFF;\n",
              "      --disabled-bg-color: #3B4455;\n",
              "      --disabled-fill-color: #666;\n",
              "  }\n",
              "\n",
              "  .colab-df-quickchart {\n",
              "    background-color: var(--bg-color);\n",
              "    border: none;\n",
              "    border-radius: 50%;\n",
              "    cursor: pointer;\n",
              "    display: none;\n",
              "    fill: var(--fill-color);\n",
              "    height: 32px;\n",
              "    padding: 0;\n",
              "    width: 32px;\n",
              "  }\n",
              "\n",
              "  .colab-df-quickchart:hover {\n",
              "    background-color: var(--hover-bg-color);\n",
              "    box-shadow: 0 1px 2px rgba(60, 64, 67, 0.3), 0 1px 3px 1px rgba(60, 64, 67, 0.15);\n",
              "    fill: var(--button-hover-fill-color);\n",
              "  }\n",
              "\n",
              "  .colab-df-quickchart-complete:disabled,\n",
              "  .colab-df-quickchart-complete:disabled:hover {\n",
              "    background-color: var(--disabled-bg-color);\n",
              "    fill: var(--disabled-fill-color);\n",
              "    box-shadow: none;\n",
              "  }\n",
              "\n",
              "  .colab-df-spinner {\n",
              "    border: 2px solid var(--fill-color);\n",
              "    border-color: transparent;\n",
              "    border-bottom-color: var(--fill-color);\n",
              "    animation:\n",
              "      spin 1s steps(1) infinite;\n",
              "  }\n",
              "\n",
              "  @keyframes spin {\n",
              "    0% {\n",
              "      border-color: transparent;\n",
              "      border-bottom-color: var(--fill-color);\n",
              "      border-left-color: var(--fill-color);\n",
              "    }\n",
              "    20% {\n",
              "      border-color: transparent;\n",
              "      border-left-color: var(--fill-color);\n",
              "      border-top-color: var(--fill-color);\n",
              "    }\n",
              "    30% {\n",
              "      border-color: transparent;\n",
              "      border-left-color: var(--fill-color);\n",
              "      border-top-color: var(--fill-color);\n",
              "      border-right-color: var(--fill-color);\n",
              "    }\n",
              "    40% {\n",
              "      border-color: transparent;\n",
              "      border-right-color: var(--fill-color);\n",
              "      border-top-color: var(--fill-color);\n",
              "    }\n",
              "    60% {\n",
              "      border-color: transparent;\n",
              "      border-right-color: var(--fill-color);\n",
              "    }\n",
              "    80% {\n",
              "      border-color: transparent;\n",
              "      border-right-color: var(--fill-color);\n",
              "      border-bottom-color: var(--fill-color);\n",
              "    }\n",
              "    90% {\n",
              "      border-color: transparent;\n",
              "      border-bottom-color: var(--fill-color);\n",
              "    }\n",
              "  }\n",
              "</style>\n",
              "\n",
              "  <script>\n",
              "    async function quickchart(key) {\n",
              "      const quickchartButtonEl =\n",
              "        document.querySelector('#' + key + ' button');\n",
              "      quickchartButtonEl.disabled = true;  // To prevent multiple clicks.\n",
              "      quickchartButtonEl.classList.add('colab-df-spinner');\n",
              "      try {\n",
              "        const charts = await google.colab.kernel.invokeFunction(\n",
              "            'suggestCharts', [key], {});\n",
              "      } catch (error) {\n",
              "        console.error('Error during call to suggestCharts:', error);\n",
              "      }\n",
              "      quickchartButtonEl.classList.remove('colab-df-spinner');\n",
              "      quickchartButtonEl.classList.add('colab-df-quickchart-complete');\n",
              "    }\n",
              "    (() => {\n",
              "      let quickchartButtonEl =\n",
              "        document.querySelector('#df-1856ff6b-5d8a-4c53-ba32-39b5484735a6 button');\n",
              "      quickchartButtonEl.style.display =\n",
              "        google.colab.kernel.accessAllowed ? 'block' : 'none';\n",
              "    })();\n",
              "  </script>\n",
              "</div>\n",
              "\n",
              "    </div>\n",
              "  </div>\n"
            ],
            "application/vnd.google.colaboratory.intrinsic+json": {
              "type": "dataframe",
              "variable_name": "df3",
              "summary": "{\n  \"name\": \"df3\",\n  \"rows\": 29360,\n  \"fields\": [\n    {\n      \"column\": \"IDX\",\n      \"properties\": {\n        \"dtype\": \"number\",\n        \"std\": 252049,\n        \"min\": 28414,\n        \"max\": 742995,\n        \"num_unique_values\": 29360,\n        \"samples\": [\n          106462,\n          105817,\n          670962\n        ],\n        \"semantic_type\": \"\",\n        \"description\": \"\"\n      }\n    },\n    {\n      \"column\": \"\\ubc1c\\ud654\\uc790\",\n      \"properties\": {\n        \"dtype\": \"category\",\n        \"num_unique_values\": 2,\n        \"samples\": [\n          \"s\",\n          \"c\"\n        ],\n        \"semantic_type\": \"\",\n        \"description\": \"\"\n      }\n    },\n    {\n      \"column\": \"\\ubc1c\\ud654\\ubb38\",\n      \"properties\": {\n        \"dtype\": \"string\",\n        \"num_unique_values\": 28603,\n        \"samples\": [\n          \"\\uc624\\ubc30\\uc1a1\\ub41c \\ucf00\\uc774\\ube14\\uc740 \\uc800\\ud76c \\ucabd\\uc5d0\\uc11c \\uc8fc\\ubb38 \\ub2f9\\uc2dc \\ubc30\\uc1a1\\uc9c0\\ub85c \\uc218\\uac70\\uc694\\uccad\\ud558\\uaca0\\uc2b5\\ub2c8\\ub2e4. \\uc81c\\ud488 \\uac04\\ub2e8\\ud788 \\ud3ec\\uc7a5\\ud558\\uc2dc\\uc5b4\\ud0dd\\ubc30\\uae30\\uc0ac\\ub2d8 \\ubc29\\ubb38 \\uc2dc \\uc804\\ub2ec\\ubd80\\ud0c1\\ub4dc\\ub9ac\\uba70 \\uc8fc\\ubb38\\ud574 \\uc8fc\\uc2e0 \\ucf00\\uc774\\ube14\\uc740 \\uae08\\uc77c \\uc7ac\\ubc1c\\uc1a1\\ud558\\ub3c4\\ub85d \\ud558\\uaca0\\uc2b5\\ub2c8\\ub2e4.\",\n          \"\\ubc29\\uae08 \\uc804\\uc5d0 \\uc0b0 \\ub85c\\ubd07\\uccad\\uc18c\\uae30 \\uc0c9\\uae54 \\ub2e4\\ub978 \\uac78\\ub85c \\ubc14\\uafc0 \\uc218 \\uc788\\uc744\\uae4c\\uc694?\"\n        ],\n        \"semantic_type\": \"\",\n        \"description\": \"\"\n      }\n    },\n    {\n      \"column\": \"\\uc778\\ud150\\ud2b8\",\n      \"properties\": {\n        \"dtype\": \"category\",\n        \"num_unique_values\": 16,\n        \"samples\": [\n          \"\\uad50\\ud658|\\ubc18\\ud488|\\ud658\\ubd88_\\uc77c\\ubc18_\\uc694\\uccad\",\n          \"\\uad50\\ud658|\\ubc18\\ud488|\\ud658\\ubd88_\\uc2dc\\uac04_\\ud655\\uc778\"\n        ],\n        \"semantic_type\": \"\",\n        \"description\": \"\"\n      }\n    },\n    {\n      \"column\": \"\\uc0c1\\ub2f4\\ubc88\\ud638\",\n      \"properties\": {\n        \"dtype\": \"number\",\n        \"std\": 127281,\n        \"min\": 111,\n        \"max\": 422302,\n        \"num_unique_values\": 14639,\n        \"samples\": [\n          84532,\n          322233\n        ],\n        \"semantic_type\": \"\",\n        \"description\": \"\"\n      }\n    },\n    {\n      \"column\": \"\\uc0c1\\ub2f4\\ub0b4\\uc21c\\ubc88\",\n      \"properties\": {\n        \"dtype\": \"number\",\n        \"std\": 11,\n        \"min\": 1,\n        \"max\": 530,\n        \"num_unique_values\": 94,\n        \"samples\": [\n          436,\n          47\n        ],\n        \"semantic_type\": \"\",\n        \"description\": \"\"\n      }\n    }\n  ]\n}"
            }
          },
          "metadata": {},
          "execution_count": 40
        }
      ]
    },
    {
      "cell_type": "code",
      "source": [
        "df3_1 = df3.query(\"발화자=='s'\").sample(50)"
      ],
      "metadata": {
        "id": "dgFkP4A_e1dd"
      },
      "execution_count": 41,
      "outputs": []
    },
    {
      "cell_type": "code",
      "source": [
        "dtm3_1 = vect1.transform(df3_1[\"발화문\"])\n",
        "dtm3_2 = vect2.transform(df3_1[\"발화문\"])"
      ],
      "metadata": {
        "id": "-_3RKfNQe1gD"
      },
      "execution_count": 44,
      "outputs": []
    },
    {
      "cell_type": "code",
      "source": [
        "pred3_1 = dt1.predict(dtm3_1)\n",
        "pred3_2 = dt2.predict(dtm3_2)"
      ],
      "metadata": {
        "id": "pqmBfq0vggWl"
      },
      "execution_count": 46,
      "outputs": []
    },
    {
      "cell_type": "code",
      "source": [
        "pred3_1"
      ],
      "metadata": {
        "colab": {
          "base_uri": "https://localhost:8080/"
        },
        "id": "vP2VWEmpglBm",
        "outputId": "7b108189-24ca-4680-fde9-056e5bec2a5a"
      },
      "execution_count": 47,
      "outputs": [
        {
          "output_type": "execute_result",
          "data": {
            "text/plain": [
              "array(['불안', '불안', '불안', '불안', '불안', '불안', '불안', '불안', '당황', '불안', '불안',\n",
              "       '불안', '불안', '당황', '불안', '불안', '불안', '불안', '불안', '불안', '불안', '불안',\n",
              "       '불안', '불안', '불안', '불안', '불안', '불안', '불안', '불안', '불안', '불안', '불안',\n",
              "       '불안', '불안', '불안', '불안', '불안', '불안', '불안', '불안', '불안', '불안', '불안',\n",
              "       '불안', '불안', '불안', '불안', '당황', '불안'], dtype=object)"
            ]
          },
          "metadata": {},
          "execution_count": 47
        }
      ]
    },
    {
      "cell_type": "code",
      "source": [
        "pred3_2"
      ],
      "metadata": {
        "colab": {
          "base_uri": "https://localhost:8080/"
        },
        "id": "Plq4aIXEgmuO",
        "outputId": "8cb17cbf-43aa-4c59-a958-c5dbe04a9dbe"
      },
      "execution_count": 48,
      "outputs": [
        {
          "output_type": "execute_result",
          "data": {
            "text/plain": [
              "array(['경제', '경제', '경제', '경제', '경제', '경제', '경제', '경제', '경제', '경제', '경제',\n",
              "       '경제', '경제', '경제', '경제', '경제', '경제', '경제', '경제', '경제', '경제', '경제',\n",
              "       '경제', '경제', '경제', '경제', '경제', '경제', '경제', '경제', '경제', '경제', '경제',\n",
              "       '경제', '경제', '경제', '경제', '경제', '경제', '경제', '경제', '경제', '경제', '경제',\n",
              "       '경제', '경제', '경제', '경제', '복지', '경제'], dtype=object)"
            ]
          },
          "metadata": {},
          "execution_count": 48
        }
      ]
    },
    {
      "cell_type": "code",
      "source": [
        "df3_1[\"모형1예측\"] = pred3_1\n",
        "df3_1[\"모형2예측\"] = pred3_2\n",
        "df3_1.head()"
      ],
      "metadata": {
        "colab": {
          "base_uri": "https://localhost:8080/",
          "height": 206
        },
        "id": "2tA02-0Wgp5h",
        "outputId": "dd56d49b-8d24-4e2b-f120-76027c527308"
      },
      "execution_count": 51,
      "outputs": [
        {
          "output_type": "execute_result",
          "data": {
            "text/plain": [
              "          IDX 발화자                                                발화문  \\\n",
              "15014  539675   s                            네, 환불 신청서  작성 부탁드리겠습니다.   \n",
              "21176  648709   s  반송하신 상품 아직 업체 입고 중으로 확인됩니다. 입고 확인 후 환불 처리 진행하겠...   \n",
              "3376   106243   s  기존 주문건환 불완료 진행되었으며 본사 발주건은 4/2 설치 예정으로 조회되어 기존...   \n",
              "22456  649989   s  제품 수거가 아직 진행되지 않은 상태입니다. 담당 부서 입고 확인되는 대로 처리해드...   \n",
              "153     28567   s    고객님의 제품은 금일 재발송 처리 처리 및 안내드린 대로 수거 진행하도록 하겠습니다.   \n",
              "\n",
              "                  인텐트    상담번호  상담내순번 모형1예측 모형2예측  \n",
              "15014  교환|반품|환불_방법_요청   81905      2    불안    경제  \n",
              "21176  교환|반품|환불_시간_질문  322344      2    불안    경제  \n",
              "3376   교환|반품|환불_일반_질문  191548      2    불안    경제  \n",
              "22456  교환|반품|환불_시간_질문  148661      2    불안    경제  \n",
              "153    교환|반품|환불_일반_요청  197708      2    불안    경제  "
            ],
            "text/html": [
              "\n",
              "  <div id=\"df-31ed8b9a-5c24-4396-b46f-e6a386396d78\" class=\"colab-df-container\">\n",
              "    <div>\n",
              "<style scoped>\n",
              "    .dataframe tbody tr th:only-of-type {\n",
              "        vertical-align: middle;\n",
              "    }\n",
              "\n",
              "    .dataframe tbody tr th {\n",
              "        vertical-align: top;\n",
              "    }\n",
              "\n",
              "    .dataframe thead th {\n",
              "        text-align: right;\n",
              "    }\n",
              "</style>\n",
              "<table border=\"1\" class=\"dataframe\">\n",
              "  <thead>\n",
              "    <tr style=\"text-align: right;\">\n",
              "      <th></th>\n",
              "      <th>IDX</th>\n",
              "      <th>발화자</th>\n",
              "      <th>발화문</th>\n",
              "      <th>인텐트</th>\n",
              "      <th>상담번호</th>\n",
              "      <th>상담내순번</th>\n",
              "      <th>모형1예측</th>\n",
              "      <th>모형2예측</th>\n",
              "    </tr>\n",
              "  </thead>\n",
              "  <tbody>\n",
              "    <tr>\n",
              "      <th>15014</th>\n",
              "      <td>539675</td>\n",
              "      <td>s</td>\n",
              "      <td>네, 환불 신청서  작성 부탁드리겠습니다.</td>\n",
              "      <td>교환|반품|환불_방법_요청</td>\n",
              "      <td>81905</td>\n",
              "      <td>2</td>\n",
              "      <td>불안</td>\n",
              "      <td>경제</td>\n",
              "    </tr>\n",
              "    <tr>\n",
              "      <th>21176</th>\n",
              "      <td>648709</td>\n",
              "      <td>s</td>\n",
              "      <td>반송하신 상품 아직 업체 입고 중으로 확인됩니다. 입고 확인 후 환불 처리 진행하겠...</td>\n",
              "      <td>교환|반품|환불_시간_질문</td>\n",
              "      <td>322344</td>\n",
              "      <td>2</td>\n",
              "      <td>불안</td>\n",
              "      <td>경제</td>\n",
              "    </tr>\n",
              "    <tr>\n",
              "      <th>3376</th>\n",
              "      <td>106243</td>\n",
              "      <td>s</td>\n",
              "      <td>기존 주문건환 불완료 진행되었으며 본사 발주건은 4/2 설치 예정으로 조회되어 기존...</td>\n",
              "      <td>교환|반품|환불_일반_질문</td>\n",
              "      <td>191548</td>\n",
              "      <td>2</td>\n",
              "      <td>불안</td>\n",
              "      <td>경제</td>\n",
              "    </tr>\n",
              "    <tr>\n",
              "      <th>22456</th>\n",
              "      <td>649989</td>\n",
              "      <td>s</td>\n",
              "      <td>제품 수거가 아직 진행되지 않은 상태입니다. 담당 부서 입고 확인되는 대로 처리해드...</td>\n",
              "      <td>교환|반품|환불_시간_질문</td>\n",
              "      <td>148661</td>\n",
              "      <td>2</td>\n",
              "      <td>불안</td>\n",
              "      <td>경제</td>\n",
              "    </tr>\n",
              "    <tr>\n",
              "      <th>153</th>\n",
              "      <td>28567</td>\n",
              "      <td>s</td>\n",
              "      <td>고객님의 제품은 금일 재발송 처리 처리 및 안내드린 대로 수거 진행하도록 하겠습니다.</td>\n",
              "      <td>교환|반품|환불_일반_요청</td>\n",
              "      <td>197708</td>\n",
              "      <td>2</td>\n",
              "      <td>불안</td>\n",
              "      <td>경제</td>\n",
              "    </tr>\n",
              "  </tbody>\n",
              "</table>\n",
              "</div>\n",
              "    <div class=\"colab-df-buttons\">\n",
              "\n",
              "  <div class=\"colab-df-container\">\n",
              "    <button class=\"colab-df-convert\" onclick=\"convertToInteractive('df-31ed8b9a-5c24-4396-b46f-e6a386396d78')\"\n",
              "            title=\"Convert this dataframe to an interactive table.\"\n",
              "            style=\"display:none;\">\n",
              "\n",
              "  <svg xmlns=\"http://www.w3.org/2000/svg\" height=\"24px\" viewBox=\"0 -960 960 960\">\n",
              "    <path d=\"M120-120v-720h720v720H120Zm60-500h600v-160H180v160Zm220 220h160v-160H400v160Zm0 220h160v-160H400v160ZM180-400h160v-160H180v160Zm440 0h160v-160H620v160ZM180-180h160v-160H180v160Zm440 0h160v-160H620v160Z\"/>\n",
              "  </svg>\n",
              "    </button>\n",
              "\n",
              "  <style>\n",
              "    .colab-df-container {\n",
              "      display:flex;\n",
              "      gap: 12px;\n",
              "    }\n",
              "\n",
              "    .colab-df-convert {\n",
              "      background-color: #E8F0FE;\n",
              "      border: none;\n",
              "      border-radius: 50%;\n",
              "      cursor: pointer;\n",
              "      display: none;\n",
              "      fill: #1967D2;\n",
              "      height: 32px;\n",
              "      padding: 0 0 0 0;\n",
              "      width: 32px;\n",
              "    }\n",
              "\n",
              "    .colab-df-convert:hover {\n",
              "      background-color: #E2EBFA;\n",
              "      box-shadow: 0px 1px 2px rgba(60, 64, 67, 0.3), 0px 1px 3px 1px rgba(60, 64, 67, 0.15);\n",
              "      fill: #174EA6;\n",
              "    }\n",
              "\n",
              "    .colab-df-buttons div {\n",
              "      margin-bottom: 4px;\n",
              "    }\n",
              "\n",
              "    [theme=dark] .colab-df-convert {\n",
              "      background-color: #3B4455;\n",
              "      fill: #D2E3FC;\n",
              "    }\n",
              "\n",
              "    [theme=dark] .colab-df-convert:hover {\n",
              "      background-color: #434B5C;\n",
              "      box-shadow: 0px 1px 3px 1px rgba(0, 0, 0, 0.15);\n",
              "      filter: drop-shadow(0px 1px 2px rgba(0, 0, 0, 0.3));\n",
              "      fill: #FFFFFF;\n",
              "    }\n",
              "  </style>\n",
              "\n",
              "    <script>\n",
              "      const buttonEl =\n",
              "        document.querySelector('#df-31ed8b9a-5c24-4396-b46f-e6a386396d78 button.colab-df-convert');\n",
              "      buttonEl.style.display =\n",
              "        google.colab.kernel.accessAllowed ? 'block' : 'none';\n",
              "\n",
              "      async function convertToInteractive(key) {\n",
              "        const element = document.querySelector('#df-31ed8b9a-5c24-4396-b46f-e6a386396d78');\n",
              "        const dataTable =\n",
              "          await google.colab.kernel.invokeFunction('convertToInteractive',\n",
              "                                                    [key], {});\n",
              "        if (!dataTable) return;\n",
              "\n",
              "        const docLinkHtml = 'Like what you see? Visit the ' +\n",
              "          '<a target=\"_blank\" href=https://colab.research.google.com/notebooks/data_table.ipynb>data table notebook</a>'\n",
              "          + ' to learn more about interactive tables.';\n",
              "        element.innerHTML = '';\n",
              "        dataTable['output_type'] = 'display_data';\n",
              "        await google.colab.output.renderOutput(dataTable, element);\n",
              "        const docLink = document.createElement('div');\n",
              "        docLink.innerHTML = docLinkHtml;\n",
              "        element.appendChild(docLink);\n",
              "      }\n",
              "    </script>\n",
              "  </div>\n",
              "\n",
              "\n",
              "<div id=\"df-d7c49fef-44b5-4f8f-a969-cfa5c907d8f5\">\n",
              "  <button class=\"colab-df-quickchart\" onclick=\"quickchart('df-d7c49fef-44b5-4f8f-a969-cfa5c907d8f5')\"\n",
              "            title=\"Suggest charts\"\n",
              "            style=\"display:none;\">\n",
              "\n",
              "<svg xmlns=\"http://www.w3.org/2000/svg\" height=\"24px\"viewBox=\"0 0 24 24\"\n",
              "     width=\"24px\">\n",
              "    <g>\n",
              "        <path d=\"M19 3H5c-1.1 0-2 .9-2 2v14c0 1.1.9 2 2 2h14c1.1 0 2-.9 2-2V5c0-1.1-.9-2-2-2zM9 17H7v-7h2v7zm4 0h-2V7h2v10zm4 0h-2v-4h2v4z\"/>\n",
              "    </g>\n",
              "</svg>\n",
              "  </button>\n",
              "\n",
              "<style>\n",
              "  .colab-df-quickchart {\n",
              "      --bg-color: #E8F0FE;\n",
              "      --fill-color: #1967D2;\n",
              "      --hover-bg-color: #E2EBFA;\n",
              "      --hover-fill-color: #174EA6;\n",
              "      --disabled-fill-color: #AAA;\n",
              "      --disabled-bg-color: #DDD;\n",
              "  }\n",
              "\n",
              "  [theme=dark] .colab-df-quickchart {\n",
              "      --bg-color: #3B4455;\n",
              "      --fill-color: #D2E3FC;\n",
              "      --hover-bg-color: #434B5C;\n",
              "      --hover-fill-color: #FFFFFF;\n",
              "      --disabled-bg-color: #3B4455;\n",
              "      --disabled-fill-color: #666;\n",
              "  }\n",
              "\n",
              "  .colab-df-quickchart {\n",
              "    background-color: var(--bg-color);\n",
              "    border: none;\n",
              "    border-radius: 50%;\n",
              "    cursor: pointer;\n",
              "    display: none;\n",
              "    fill: var(--fill-color);\n",
              "    height: 32px;\n",
              "    padding: 0;\n",
              "    width: 32px;\n",
              "  }\n",
              "\n",
              "  .colab-df-quickchart:hover {\n",
              "    background-color: var(--hover-bg-color);\n",
              "    box-shadow: 0 1px 2px rgba(60, 64, 67, 0.3), 0 1px 3px 1px rgba(60, 64, 67, 0.15);\n",
              "    fill: var(--button-hover-fill-color);\n",
              "  }\n",
              "\n",
              "  .colab-df-quickchart-complete:disabled,\n",
              "  .colab-df-quickchart-complete:disabled:hover {\n",
              "    background-color: var(--disabled-bg-color);\n",
              "    fill: var(--disabled-fill-color);\n",
              "    box-shadow: none;\n",
              "  }\n",
              "\n",
              "  .colab-df-spinner {\n",
              "    border: 2px solid var(--fill-color);\n",
              "    border-color: transparent;\n",
              "    border-bottom-color: var(--fill-color);\n",
              "    animation:\n",
              "      spin 1s steps(1) infinite;\n",
              "  }\n",
              "\n",
              "  @keyframes spin {\n",
              "    0% {\n",
              "      border-color: transparent;\n",
              "      border-bottom-color: var(--fill-color);\n",
              "      border-left-color: var(--fill-color);\n",
              "    }\n",
              "    20% {\n",
              "      border-color: transparent;\n",
              "      border-left-color: var(--fill-color);\n",
              "      border-top-color: var(--fill-color);\n",
              "    }\n",
              "    30% {\n",
              "      border-color: transparent;\n",
              "      border-left-color: var(--fill-color);\n",
              "      border-top-color: var(--fill-color);\n",
              "      border-right-color: var(--fill-color);\n",
              "    }\n",
              "    40% {\n",
              "      border-color: transparent;\n",
              "      border-right-color: var(--fill-color);\n",
              "      border-top-color: var(--fill-color);\n",
              "    }\n",
              "    60% {\n",
              "      border-color: transparent;\n",
              "      border-right-color: var(--fill-color);\n",
              "    }\n",
              "    80% {\n",
              "      border-color: transparent;\n",
              "      border-right-color: var(--fill-color);\n",
              "      border-bottom-color: var(--fill-color);\n",
              "    }\n",
              "    90% {\n",
              "      border-color: transparent;\n",
              "      border-bottom-color: var(--fill-color);\n",
              "    }\n",
              "  }\n",
              "</style>\n",
              "\n",
              "  <script>\n",
              "    async function quickchart(key) {\n",
              "      const quickchartButtonEl =\n",
              "        document.querySelector('#' + key + ' button');\n",
              "      quickchartButtonEl.disabled = true;  // To prevent multiple clicks.\n",
              "      quickchartButtonEl.classList.add('colab-df-spinner');\n",
              "      try {\n",
              "        const charts = await google.colab.kernel.invokeFunction(\n",
              "            'suggestCharts', [key], {});\n",
              "      } catch (error) {\n",
              "        console.error('Error during call to suggestCharts:', error);\n",
              "      }\n",
              "      quickchartButtonEl.classList.remove('colab-df-spinner');\n",
              "      quickchartButtonEl.classList.add('colab-df-quickchart-complete');\n",
              "    }\n",
              "    (() => {\n",
              "      let quickchartButtonEl =\n",
              "        document.querySelector('#df-d7c49fef-44b5-4f8f-a969-cfa5c907d8f5 button');\n",
              "      quickchartButtonEl.style.display =\n",
              "        google.colab.kernel.accessAllowed ? 'block' : 'none';\n",
              "    })();\n",
              "  </script>\n",
              "</div>\n",
              "\n",
              "    </div>\n",
              "  </div>\n"
            ],
            "application/vnd.google.colaboratory.intrinsic+json": {
              "type": "dataframe",
              "variable_name": "df3_1",
              "summary": "{\n  \"name\": \"df3_1\",\n  \"rows\": 50,\n  \"fields\": [\n    {\n      \"column\": \"IDX\",\n      \"properties\": {\n        \"dtype\": \"number\",\n        \"std\": 268795,\n        \"min\": 28567,\n        \"max\": 671093,\n        \"num_unique_values\": 50,\n        \"samples\": [\n          669717,\n          308159,\n          665003\n        ],\n        \"semantic_type\": \"\",\n        \"description\": \"\"\n      }\n    },\n    {\n      \"column\": \"\\ubc1c\\ud654\\uc790\",\n      \"properties\": {\n        \"dtype\": \"category\",\n        \"num_unique_values\": 1,\n        \"samples\": [\n          \"s\"\n        ],\n        \"semantic_type\": \"\",\n        \"description\": \"\"\n      }\n    },\n    {\n      \"column\": \"\\ubc1c\\ud654\\ubb38\",\n      \"properties\": {\n        \"dtype\": \"string\",\n        \"num_unique_values\": 50,\n        \"samples\": [\n          \"\\ubc18\\ud488 \\uc811\\uc218\\ub418\\uc5c8\\uc73c\\uba70 \\uc81c\\ud488 \\uc218\\uac70\\ub420 \\uc218 \\uc788\\ub3c4\\ub85d \\ud68c\\uc218 \\uc811\\uc218\\uc694\\uccad\\ud558\\uc600\\uc2b5\\ub2c8\\ub2e4. \\ubc1b\\uc73c\\uc2e0 \\uadf8\\ub300\\ub85c \\ubaa8\\ub450 \\uc7ac\\ud3ec\\uc7a5\\ud558\\uc154\\uc11c \\uae30\\uc0ac\\ub2d8 \\uc218\\uac70 \\ubc29\\ubb38 \\uc2dc \\uc81c\\ud488 \\uc804\\ub2ec\\ubd80\\ud0c1\\ub4dc\\ub9ac\\uba70 \\uc218\\uac70\\uc811\\uc218 \\ud6c4 5\\uc77c \\ub0b4\\uc218\\uac70 \\uc608\\uc815\\uc778 \\uc810\\uc2dc \\uac04 \\uc591\\ud574\\ubd80\\ud0c1\\ub4dc\\ub9bd\\ub2c8\\ub2e4.\"\n        ],\n        \"semantic_type\": \"\",\n        \"description\": \"\"\n      }\n    },\n    {\n      \"column\": \"\\uc778\\ud150\\ud2b8\",\n      \"properties\": {\n        \"dtype\": \"category\",\n        \"num_unique_values\": 7,\n        \"samples\": [\n          \"\\uad50\\ud658|\\ubc18\\ud488|\\ud658\\ubd88_\\ubc29\\ubc95_\\uc694\\uccad\"\n        ],\n        \"semantic_type\": \"\",\n        \"description\": \"\"\n      }\n    },\n    {\n      \"column\": \"\\uc0c1\\ub2f4\\ubc88\\ud638\",\n      \"properties\": {\n        \"dtype\": \"number\",\n        \"std\": 105834,\n        \"min\": 59401,\n        \"max\": 419993,\n        \"num_unique_values\": 50,\n        \"samples\": [\n          168216\n        ],\n        \"semantic_type\": \"\",\n        \"description\": \"\"\n      }\n    },\n    {\n      \"column\": \"\\uc0c1\\ub2f4\\ub0b4\\uc21c\\ubc88\",\n      \"properties\": {\n        \"dtype\": \"number\",\n        \"std\": 0,\n        \"min\": 2,\n        \"max\": 2,\n        \"num_unique_values\": 1,\n        \"samples\": [\n          2\n        ],\n        \"semantic_type\": \"\",\n        \"description\": \"\"\n      }\n    },\n    {\n      \"column\": \"\\ubaa8\\ud6151\\uc608\\uce21\",\n      \"properties\": {\n        \"dtype\": \"category\",\n        \"num_unique_values\": 2,\n        \"samples\": [\n          \"\\ub2f9\\ud669\"\n        ],\n        \"semantic_type\": \"\",\n        \"description\": \"\"\n      }\n    },\n    {\n      \"column\": \"\\ubaa8\\ud6152\\uc608\\uce21\",\n      \"properties\": {\n        \"dtype\": \"category\",\n        \"num_unique_values\": 2,\n        \"samples\": [\n          \"\\ubcf5\\uc9c0\"\n        ],\n        \"semantic_type\": \"\",\n        \"description\": \"\"\n      }\n    }\n  ]\n}"
            }
          },
          "metadata": {},
          "execution_count": 51
        }
      ]
    },
    {
      "cell_type": "markdown",
      "source": [
        "###4번"
      ],
      "metadata": {
        "id": "_O5AfUKDg2Q_"
      }
    },
    {
      "cell_type": "code",
      "source": [
        "!pip install tqdm #진행상태를 알려주는 기능 제공"
      ],
      "metadata": {
        "colab": {
          "base_uri": "https://localhost:8080/"
        },
        "id": "sp6FuRdljRs-",
        "outputId": "6b78d3ea-6aed-4d9d-fc64-964c7cd31146"
      },
      "execution_count": 55,
      "outputs": [
        {
          "output_type": "stream",
          "name": "stdout",
          "text": [
            "Requirement already satisfied: tqdm in /usr/local/lib/python3.10/dist-packages (4.66.5)\n"
          ]
        }
      ]
    },
    {
      "cell_type": "code",
      "source": [
        "from gensim import corpora\n",
        "from tqdm import tqdm\n",
        "import pyLDAvis\n",
        "import pyLDAvis.gensim_models\n",
        "from gensim.models.ldamodel import LdaModel\n",
        "from gensim.models.coherencemodel import CoherenceModel\n",
        "import gensim"
      ],
      "metadata": {
        "colab": {
          "base_uri": "https://localhost:8080/"
        },
        "id": "HiwZM3f7jG5O",
        "outputId": "3f25b085-ad01-4ae5-c658-666626dc5537"
      },
      "execution_count": 79,
      "outputs": [
        {
          "output_type": "stream",
          "name": "stderr",
          "text": [
            "/usr/local/lib/python3.10/dist-packages/ipykernel/ipkernel.py:283: DeprecationWarning: `should_run_async` will not call `transform_cell` automatically in the future. Please pass the result to `transformed_cell` argument and any exception that happen during thetransform in `preprocessing_exc_tuple` in IPython 7.17 and above.\n",
            "  and should_run_async(code)\n"
          ]
        }
      ]
    },
    {
      "cell_type": "code",
      "source": [
        "df4 = df3_1.query(\"모형1예측=='불안'\")"
      ],
      "metadata": {
        "colab": {
          "base_uri": "https://localhost:8080/"
        },
        "id": "La5B1O4Ji5b4",
        "outputId": "aa1f620f-afc4-4a12-d092-89d109488462"
      },
      "execution_count": 80,
      "outputs": [
        {
          "output_type": "stream",
          "name": "stderr",
          "text": [
            "/usr/local/lib/python3.10/dist-packages/ipykernel/ipkernel.py:283: DeprecationWarning: `should_run_async` will not call `transform_cell` automatically in the future. Please pass the result to `transformed_cell` argument and any exception that happen during thetransform in `preprocessing_exc_tuple` in IPython 7.17 and above.\n",
            "  and should_run_async(code)\n"
          ]
        }
      ]
    },
    {
      "cell_type": "code",
      "source": [
        "train_data = df4.dropna(how = 'any') # Null 값이 존재하는 행 제거\n",
        "train_data['발화문'] = train_data['발화문'].str.replace(\"[^ㄱ-ㅎㅏ-ㅣ가-힣A-Za-z ]\",\"\", regex=True)"
      ],
      "metadata": {
        "id": "Kkvvmdsy8K0L",
        "colab": {
          "base_uri": "https://localhost:8080/"
        },
        "outputId": "dcaa84dc-bd5f-4952-a4cc-b8cd0ec27f7b"
      },
      "execution_count": 81,
      "outputs": [
        {
          "output_type": "stream",
          "name": "stderr",
          "text": [
            "/usr/local/lib/python3.10/dist-packages/ipykernel/ipkernel.py:283: DeprecationWarning: `should_run_async` will not call `transform_cell` automatically in the future. Please pass the result to `transformed_cell` argument and any exception that happen during thetransform in `preprocessing_exc_tuple` in IPython 7.17 and above.\n",
            "  and should_run_async(code)\n"
          ]
        }
      ]
    },
    {
      "cell_type": "code",
      "source": [
        "#값을 저장할 비어있는 리스트를 만듬.\n",
        "tokenized_data4 = []\n",
        "\n",
        "# 불용어 정의\n",
        "stopwords = ['을', 'ㅋㅋ',\n",
        "             '부터', '까지' '적', '의','가','이','은',\n",
        "             '들','는','좀','잘','걍','과','도','를','으로',\n",
        "             '자','에','와','한','하다', '점', '나']\n",
        "\n",
        "# 형태소 분석기 OKT를 사용한 토큰화 작업 (다소 시간 소요)\n",
        "okt = Okt()\n",
        "\n",
        "for sentence in tqdm(train_data['발화문']): #리뷰 각각에 대해서 아래작업 반복\n",
        "    tokenized_sentence = okt.nouns(sentence)  #각 리뷰에서 명사만 뽑아서 리스트\n",
        "    #위에서 명사만 추출한 결과에서, 각 명사가 stopwords인지 체크하고\n",
        "    #stopwords 아닌 명사만 사용함\n",
        "    stopwords_removed_sentence = [word for word in tokenized_sentence if not word in stopwords] # 불용어 제거\n",
        "    tokenized_data4.append(stopwords_removed_sentence)\n",
        "\n",
        "len(tokenized_data4)"
      ],
      "metadata": {
        "colab": {
          "base_uri": "https://localhost:8080/"
        },
        "id": "nJdDH5YU9Tjn",
        "outputId": "83012a70-317f-4a2c-80a1-482fb5060bf6"
      },
      "execution_count": 82,
      "outputs": [
        {
          "output_type": "stream",
          "name": "stderr",
          "text": [
            "/usr/local/lib/python3.10/dist-packages/ipykernel/ipkernel.py:283: DeprecationWarning: `should_run_async` will not call `transform_cell` automatically in the future. Please pass the result to `transformed_cell` argument and any exception that happen during thetransform in `preprocessing_exc_tuple` in IPython 7.17 and above.\n",
            "  and should_run_async(code)\n",
            "100%|██████████| 47/47 [00:00<00:00, 268.94it/s]\n"
          ]
        },
        {
          "output_type": "execute_result",
          "data": {
            "text/plain": [
              "47"
            ]
          },
          "metadata": {},
          "execution_count": 82
        }
      ]
    },
    {
      "cell_type": "code",
      "source": [
        "dictionary4 = corpora.Dictionary(tokenized_data4) #사전 구성\n",
        "corpus4 = [dictionary4.doc2bow(text) for text in tokenized_data4]"
      ],
      "metadata": {
        "id": "s0tWuLZkVqJl",
        "colab": {
          "base_uri": "https://localhost:8080/"
        },
        "outputId": "da6c8c1e-25ad-4d28-c259-443466e0ec59"
      },
      "execution_count": 83,
      "outputs": [
        {
          "output_type": "stream",
          "name": "stderr",
          "text": [
            "/usr/local/lib/python3.10/dist-packages/ipykernel/ipkernel.py:283: DeprecationWarning: `should_run_async` will not call `transform_cell` automatically in the future. Please pass the result to `transformed_cell` argument and any exception that happen during thetransform in `preprocessing_exc_tuple` in IPython 7.17 and above.\n",
            "  and should_run_async(code)\n"
          ]
        }
      ]
    },
    {
      "cell_type": "code",
      "source": [
        "NUM_TOPICS = 3\n",
        "ldamodel4 = gensim.models.ldamodel.LdaModel(corpus4, num_topics = NUM_TOPICS,\n",
        "                                           id2word=dictionary4, passes=15)"
      ],
      "metadata": {
        "id": "GBHWShWAWMsQ",
        "colab": {
          "base_uri": "https://localhost:8080/"
        },
        "outputId": "23bb62ed-0ef8-4a95-b4ba-2d66f535a1d1"
      },
      "execution_count": 84,
      "outputs": [
        {
          "output_type": "stream",
          "name": "stderr",
          "text": [
            "/usr/local/lib/python3.10/dist-packages/ipykernel/ipkernel.py:283: DeprecationWarning: `should_run_async` will not call `transform_cell` automatically in the future. Please pass the result to `transformed_cell` argument and any exception that happen during thetransform in `preprocessing_exc_tuple` in IPython 7.17 and above.\n",
            "  and should_run_async(code)\n"
          ]
        }
      ]
    },
    {
      "cell_type": "code",
      "source": [
        "#각 토픽의 출현확률이 높은 단어를 지정된 갯수만큼 반환\n",
        "topics4 = ldamodel4.print_topics(num_words=15)\n",
        "#위 내용을 출력\n",
        "for topic in topics4:\n",
        "    print(topic)"
      ],
      "metadata": {
        "id": "Kt3S4JR19H0Q",
        "colab": {
          "base_uri": "https://localhost:8080/"
        },
        "outputId": "4feba195-ff86-4406-a88a-6468ad857ead"
      },
      "execution_count": 85,
      "outputs": [
        {
          "output_type": "stream",
          "name": "stdout",
          "text": [
            "(0, '0.051*\"반품\" + 0.050*\"제품\" + 0.050*\"환불\" + 0.037*\"처리\" + 0.020*\"교환\" + 0.016*\"고객\" + 0.015*\"주문\" + 0.015*\"결제\" + 0.011*\"해당\" + 0.011*\"문제\" + 0.011*\"금일\" + 0.011*\"충전\" + 0.011*\"때문\" + 0.011*\"및\" + 0.011*\"출고\"')\n",
            "(1, '0.043*\"확인\" + 0.037*\"교환\" + 0.031*\"제품\" + 0.023*\"일\" + 0.023*\"택배\" + 0.019*\"처리\" + 0.019*\"접수\" + 0.017*\"경우\" + 0.017*\"사용\" + 0.016*\"주시\" + 0.012*\"중\" + 0.012*\"주문\" + 0.012*\"빛\" + 0.012*\"필름\" + 0.012*\"세탁기\"')\n",
            "(2, '0.040*\"진행\" + 0.038*\"확인\" + 0.032*\"환불\" + 0.025*\"후\" + 0.024*\"상품\" + 0.022*\"처리\" + 0.021*\"교환\" + 0.019*\"접수\" + 0.015*\"건\" + 0.015*\"사진\" + 0.015*\"첨부\" + 0.015*\"것\" + 0.015*\"일\" + 0.014*\"저희\" + 0.014*\"쪽\"')\n"
          ]
        },
        {
          "output_type": "stream",
          "name": "stderr",
          "text": [
            "/usr/local/lib/python3.10/dist-packages/ipykernel/ipkernel.py:283: DeprecationWarning: `should_run_async` will not call `transform_cell` automatically in the future. Please pass the result to `transformed_cell` argument and any exception that happen during thetransform in `preprocessing_exc_tuple` in IPython 7.17 and above.\n",
            "  and should_run_async(code)\n"
          ]
        }
      ]
    },
    {
      "cell_type": "code",
      "source": [
        "pyLDAvis.enable_notebook()\n",
        "vis4 = pyLDAvis.gensim_models.prepare(ldamodel4, corpus4, dictionary4, sort_topics=True)\n",
        "pyLDAvis.display(vis4)"
      ],
      "metadata": {
        "colab": {
          "base_uri": "https://localhost:8080/",
          "height": 916
        },
        "id": "uzVe1els_fuR",
        "outputId": "0a961d52-a481-4f89-b3e4-bb1fa3f8b651"
      },
      "execution_count": 86,
      "outputs": [
        {
          "output_type": "stream",
          "name": "stderr",
          "text": [
            "/usr/local/lib/python3.10/dist-packages/ipykernel/ipkernel.py:283: DeprecationWarning: `should_run_async` will not call `transform_cell` automatically in the future. Please pass the result to `transformed_cell` argument and any exception that happen during thetransform in `preprocessing_exc_tuple` in IPython 7.17 and above.\n",
            "  and should_run_async(code)\n"
          ]
        },
        {
          "output_type": "execute_result",
          "data": {
            "text/plain": [
              "<IPython.core.display.HTML object>"
            ],
            "text/html": [
              "\n",
              "<link rel=\"stylesheet\" type=\"text/css\" href=\"https://cdn.jsdelivr.net/gh/bmabey/pyLDAvis@3.4.0/pyLDAvis/js/ldavis.v1.0.0.css\">\n",
              "\n",
              "\n",
              "<div id=\"ldavis_el4351388952340696969253969092\" style=\"background-color:white;\"></div>\n",
              "<script type=\"text/javascript\">\n",
              "\n",
              "var ldavis_el4351388952340696969253969092_data = {\"mdsDat\": {\"x\": [0.06402186810416793, -0.11280785558380485, 0.04878598747963692], \"y\": [0.0755141372134866, 0.007119852825069784, -0.08263399003855636], \"topics\": [1, 2, 3], \"cluster\": [1, 1, 1], \"Freq\": [36.0680489992765, 34.36465160856944, 29.567299392154062]}, \"tinfo\": {\"Term\": [\"\\ubc18\\ud488\", \"\\uc81c\\ud488\", \"\\ud655\\uc778\", \"\\ud658\\ubd88\", \"\\ud0dd\\ubc30\", \"\\uc0c1\\ud488\", \"\\uc9c4\\ud589\", \"\\uc77c\", \"\\ud6c4\", \"\\uc0ac\\uc6a9\", \"\\uac74\", \"\\uc0ac\\uc9c4\", \"\\ucca8\\ubd80\", \"\\uc8fc\\uc2dc\", \"\\ube5b\", \"\\ud544\\ub984\", \"\\uc138\\ud0c1\\uae30\", \"\\uae30\\uc0ac\", \"\\uacb0\\uc81c\", \"\\uae30\\uc900\", \"\\ubaa8\\ub450\", \"\\uace0\\uac1d\", \"\\uac83\", \"\\uc644\\ub8cc\", \"\\ucda9\\uc804\", \"\\ub54c\\ubb38\", \"\\ubc0f\", \"\\ucd9c\\uace0\", \"\\ud30c\\uc190\", \"\\uc218\\ub2e8\", \"\\uc0c1\\ud488\", \"\\uac74\", \"\\uc0ac\\uc9c4\", \"\\ucca8\\ubd80\", \"\\ubc1c\\uc8fc\", \"\\uae30\\uc874\", \"\\ub538\", \"\\uc18c\\ub9ac\", \"\\uc0c1\\ud0dc\", \"\\ud658\", \"\\uc800\\ud76c\", \"\\ucabd\", \"\\uc9c4\\ud589\", \"\\ud6c4\", \"\\uc124\\uce58\", \"\\uc608\\uc815\", \"\\ucde8\\uc18c\", \"\\ubd88\", \"\\ubcf8\\uc0ac\", \"\\ubb38\\uac74\", \"\\uc870\\ud68c\", \"\\ucc38\\uace0\", \"\\uba85\", \"\\uce74\\ud1a1\", \"\\uc811\", \"\\uc0ac\\uc774\\ud2b8\", \"\\uc778\\uba85\", \"\\uc218\\ucde8\", \"\\uae30\\uc7ac\", \"\\ucd9c\\uc7a5\", \"\\uac83\", \"\\ud655\\uc778\", \"\\ub124\", \"\\ud658\\ubd88\", \"\\uc811\\uc218\", \"\\uc77c\", \"\\uc7ac\", \"\\uc644\\ub8cc\", \"\\ucc98\\ub9ac\", \"\\uad50\\ud658\", \"\\ubc14\\ub85c\", \"\\uc548\", \"\\uc2dc\", \"\\ubc18\\ud488\", \"\\uc8fc\\uc2dc\", \"\\uc8fc\\ubb38\", \"\\ubc18\\ud488\", \"\\ucda9\\uc804\", \"\\ub54c\\ubb38\", \"\\ubc0f\", \"\\ucd9c\\uace0\", \"\\ud30c\\uc190\", \"\\uc218\\ub2e8\", \"\\uc790\\ub3d9\", \"\\uacb0\\uc81c\", \"\\uc2e0\\uccad\", \"\\uc218\", \"\\uace0\\uac1d\", \"\\ud504\\ub86c\", \"\\uc791\\ub3d9\", \"\\uc804\\uc555\", \"\\ub2ec\\ub77c\", \"\\uc81c\\ub300\\ub85c\", \"\\ucd9c\\ub825\", \"\\ubbf8\\ub2c8\", \"\\uc815\\uc0c1\", \"\\uc815\\uaca9\\ucd9c\\ub825\", \"\\ub178\\ud2b8\\ubd81\", \"\\uac00\\uc2b5\\uae30\", \"\\uad00\\ub9ac\", \"\\uace0\\uc720\", \"\\ud6c4\\uc6d0\", \"\\uc8fc\\uc2e0\", \"\\ubc88\\ud638\", \"\\uc2dc\\ub9ac\\uc5bc\", \"\\uc601\\uc5c5\\uc77c\", \"\\uc81c\\ud488\", \"\\ud658\\ubd88\", \"\\ucc98\\ub9ac\", \"\\uae08\\uc77c\", \"\\ud574\\ub2f9\", \"\\ubb38\\uc81c\", \"\\uad6c\\ub9e4\", \"\\uc8fc\\ubb38\", \"\\uad50\\ud658\", \"\\uc548\", \"\\ubc14\\ub85c\", \"\\uc2dc\", \"\\ub300\\ub85c\", \"\\uc811\\uc218\", \"\\uc218\\uac70\", \"\\uc9c4\\ud589\", \"\\uc0ac\\uc6a9\", \"\\ubb38\\uc758\", \"\\ud0dd\\ubc30\", \"\\ube5b\", \"\\ud544\\ub984\", \"\\uc138\\ud0c1\\uae30\", \"\\uae30\\uc0ac\", \"\\uae30\\uc900\", \"\\ubaa8\\ub450\", \"\\uac70\", \"\\uc9c1\\uc811\", \"\\ub3c4\\ucc29\", \"\\uc557\", \"\\ud130\\ubbf8\\ub110\", \"\\uc0ac\\ubb34\\uc2e4\", \"\\ucee4\\ubc84\", \"\\ud604\\uc0c1\", \"\\ucd2c\\uc601\", \"\\ub864\", \"\\ub4dc\\ub837\\uc73c\", \"\\uae30\\ubcf8\", \"\\ud3c9\\uc77c\", \"\\uc0c1\", \"\\ubcc0\\uacbd\", \"\\ub4f1\", \"\\ub3d9\\uc77c\", \"\\uc0ac\\uc720\", \"\\uc0c9\\uc0c1\", \"\\ubc30\\uc1a1\", \"\\uc774\\uc5b4\\ud3f0\", \"\\uc18c\\uc694\", \"\\uc798\\ubabb\", \"\\uc0ac\\uc6a9\", \"\\uc8fc\\uc2dc\", \"\\uc77c\", \"\\ud655\\uc778\", \"\\uacbd\\uc6b0\", \"\\uad50\\ud658\", \"\\uc9c0\\uc5f0\", \"\\uc81c\\ud488\", \"\\uc911\", \"\\uc811\\uc218\", \"\\uc644\\ub8cc\", \"\\ucc98\\ub9ac\", \"\\uc8fc\\ubb38\", \"\\uc2dc\", \"\\ud6c4\", \"\\uc9c4\\ud589\", \"\\uc815\\ub3c4\", \"\\ubd88\\ub7c9\", \"\\uae30\\uac04\", \"\\ub0b4\\uc77c\", \"\\ub0b4\", \"\\ucc28\\uac10\", \"\\uc218\\uac70\"], \"Freq\": [8.0, 11.0, 11.0, 12.0, 3.0, 4.0, 8.0, 5.0, 5.0, 3.0, 2.0, 2.0, 2.0, 3.0, 1.0, 1.0, 1.0, 1.0, 2.0, 1.0, 1.0, 3.0, 3.0, 3.0, 2.0, 2.0, 2.0, 2.0, 2.0, 2.0, 3.664237757228761, 2.3271556336733887, 2.327130684974811, 2.327059524482277, 1.6290611373828283, 1.6290544749462763, 1.6284297652040503, 1.6284256543389437, 1.624380988336009, 1.5598001480359702, 2.0654911314193947, 2.0631533249594924, 6.117258724702653, 3.8219492542398386, 0.9307851251347184, 0.9307849833807493, 0.930783991102965, 0.9307838493489957, 0.9307823609323193, 0.9307818647934271, 0.9307798802378584, 0.9307411814042692, 0.9307402600034694, 0.9307402600034694, 0.9307399764955311, 0.9307372831701164, 0.9307372122931318, 0.9307333849359637, 0.9305788731095451, 0.9305731320737929, 2.2983405955860317, 5.8087329118054685, 1.6473988560993194, 4.8394623636821485, 2.9578408727166368, 2.259263845914949, 1.646598796697204, 1.631262718278338, 3.299122058782788, 3.222805407373403, 1.1950579712988163, 1.1764346892113893, 1.1521304750546528, 1.2787860872333978, 1.0704930175346887, 1.0821933192747522, 7.373383061581436, 1.602727477429492, 1.6023922602252028, 1.6023236500963636, 1.6021837286525105, 1.6021388889620094, 1.6019873524176047, 1.6019673636399114, 2.117487394501837, 1.5788210343676088, 1.5077557974141806, 2.2887825755376943, 0.9157432388068226, 0.9157399298537585, 0.9157391194979061, 0.9157389169089429, 0.9157389169089429, 0.9157387143199799, 0.9157379039641275, 0.9157372961972381, 0.9157366884303488, 0.9157358780744963, 0.9157298004056031, 0.9156378925460066, 0.9156354614784492, 0.9156264125047637, 0.915623171081354, 0.9156165531752258, 0.9156002109988685, 0.9155900815507131, 7.323008640608135, 7.294493838872784, 5.299909875085785, 1.6047374300621389, 1.6169253171420135, 1.605289012279027, 1.493591992647461, 2.1410202635157494, 2.9590357345234874, 1.3609191818943294, 1.3426648358438455, 1.5390129784134674, 1.1087279994109285, 1.516180121796747, 1.109091984247979, 1.1592422742984285, 0.9515811588509402, 0.9224134804171473, 2.8105385179844484, 1.5167184208087547, 1.5167078461678505, 1.5165797884285477, 1.5165392329376068, 1.5111484901733092, 1.5105716493222212, 0.8665956568683634, 0.8665921707230103, 0.8665907181624466, 0.8665892656018828, 0.8665888007825023, 0.8665842106911208, 0.8665811312627256, 0.8665739846647518, 0.8665704404169762, 0.866567883910384, 0.8665460955019273, 0.8665389489039534, 0.8665388908015309, 0.8665340683004592, 0.8665326738423179, 0.8665322090229375, 0.8665308145647963, 0.8665294782090777, 0.8665279675460913, 0.8665236679668225, 0.8665033902213521, 0.866503157811662, 0.8665006013050697, 2.1326082832256015, 2.036868970623302, 2.8777360613520906, 5.39050849533001, 2.177346218951243, 4.601159195809514, 1.4798519688806557, 3.853580657499817, 1.5243337891276918, 2.3125115113998658, 1.51468634668245, 2.314777041059981, 1.5171181654759067, 1.3715850767472528, 1.3982886015372362, 1.0089654173036413, 0.8892541491027567, 0.8690185278887472, 0.8689728593846221, 0.8685090858478186, 0.8680636726765413, 0.8680267776382213, 0.8672257195385084], \"Total\": [8.0, 11.0, 11.0, 12.0, 3.0, 4.0, 8.0, 5.0, 5.0, 3.0, 2.0, 2.0, 2.0, 3.0, 1.0, 1.0, 1.0, 1.0, 2.0, 1.0, 1.0, 3.0, 3.0, 3.0, 2.0, 2.0, 2.0, 2.0, 2.0, 2.0, 4.168799376912626, 2.7732488199456045, 2.773242848495895, 2.773238214508992, 2.0749815895985924, 2.074981315736542, 2.074940605961933, 2.074940593002755, 2.0748885385776186, 2.0738407746766283, 2.7574513801620646, 2.757382089013482, 8.285466416304722, 5.478363206638175, 1.3767063991538775, 1.3767062517237347, 1.3767064374155833, 1.3767062873403952, 1.376706237439956, 1.3767062037153757, 1.37670615472122, 1.3767041250128624, 1.3767040850569119, 1.3767041958751463, 1.3767040677717515, 1.3767040350854973, 1.376704050592631, 1.3767038912880465, 1.376696313531595, 1.3766960606262502, 3.423120733645593, 11.467077623589361, 2.7621926454179824, 12.42725136324857, 6.78653250591325, 5.369257635726479, 3.413026099493466, 3.3754064568304285, 10.913808974928555, 10.783000337706405, 2.7549020802727995, 2.7545979139113954, 4.062728530215373, 8.935344232906989, 3.3367418897492422, 4.740331748266408, 8.935344232906989, 2.0524016928156033, 2.052390937070371, 2.0523899843803592, 2.0523859034261482, 2.0524079738919947, 2.0523721017056946, 2.0523708900991267, 2.7301733128900767, 2.052649646568728, 2.0473361048122207, 3.3901462497067527, 1.3654198042565808, 1.3654196059517871, 1.3654196078957002, 1.3654196878893354, 1.3654197127219296, 1.3654197021594805, 1.3654196846331037, 1.365419632341316, 1.3654195646982188, 1.3654197424015335, 1.3654195000163, 1.3654136649684652, 1.3654136663823144, 1.36541303195291, 1.3654130219192169, 1.3654126838105982, 1.3654117161122867, 1.3654162914188313, 11.464902146749461, 12.42725136324857, 10.913808974928555, 2.702647820426379, 2.750391028349833, 2.750582185384589, 2.7452891539951088, 4.740331748266408, 10.783000337706405, 2.7545979139113954, 2.7549020802727995, 4.062728530215373, 2.060456388398167, 6.78653250591325, 2.7105893723083225, 8.285466416304722, 3.3177831854584174, 2.7142077780074993, 3.279478051756678, 1.9787348035015493, 1.9787354058175335, 1.978743319249435, 1.978745536587105, 1.979055642870458, 1.979085593272564, 1.3285970210586902, 1.328597188133849, 1.3285973651283451, 1.3285974979490143, 1.328597514605085, 1.3285977588498392, 1.3285978981046123, 1.328598333308522, 1.328598602121483, 1.3285986790879067, 1.3286005620591959, 1.3286010523482918, 1.3286011409830918, 1.3286005344522576, 1.3286006628666902, 1.3286007056480749, 1.3286008415562582, 1.3286008516094643, 1.3286010115766111, 1.3286021842705855, 1.3286022357895475, 1.3286036426710617, 1.3286024350227286, 3.3177831854584174, 3.3367418897492422, 5.369257635726479, 11.467077623589361, 4.0133550215677385, 10.783000337706405, 2.6791799639795117, 11.464902146749461, 3.3634088993124553, 6.78653250591325, 3.3754064568304285, 10.913808974928555, 4.740331748266408, 4.062728530215373, 5.478363206638175, 8.285466416304722, 2.0251610742017423, 2.0266661026260495, 2.026669361949001, 2.015456449948906, 2.0154771119956014, 2.0162147458950814, 2.7105893723083225], \"Category\": [\"Default\", \"Default\", \"Default\", \"Default\", \"Default\", \"Default\", \"Default\", \"Default\", \"Default\", \"Default\", \"Default\", \"Default\", \"Default\", \"Default\", \"Default\", \"Default\", \"Default\", \"Default\", \"Default\", \"Default\", \"Default\", \"Default\", \"Default\", \"Default\", \"Default\", \"Default\", \"Default\", \"Default\", \"Default\", \"Default\", \"Topic1\", \"Topic1\", \"Topic1\", \"Topic1\", \"Topic1\", \"Topic1\", \"Topic1\", \"Topic1\", \"Topic1\", \"Topic1\", \"Topic1\", \"Topic1\", \"Topic1\", \"Topic1\", \"Topic1\", \"Topic1\", \"Topic1\", \"Topic1\", \"Topic1\", \"Topic1\", \"Topic1\", \"Topic1\", \"Topic1\", \"Topic1\", \"Topic1\", \"Topic1\", \"Topic1\", \"Topic1\", \"Topic1\", \"Topic1\", \"Topic1\", \"Topic1\", \"Topic1\", \"Topic1\", \"Topic1\", \"Topic1\", \"Topic1\", \"Topic1\", \"Topic1\", \"Topic1\", \"Topic1\", \"Topic1\", \"Topic1\", \"Topic1\", \"Topic1\", \"Topic1\", \"Topic2\", \"Topic2\", \"Topic2\", \"Topic2\", \"Topic2\", \"Topic2\", \"Topic2\", \"Topic2\", \"Topic2\", \"Topic2\", \"Topic2\", \"Topic2\", \"Topic2\", \"Topic2\", \"Topic2\", \"Topic2\", \"Topic2\", \"Topic2\", \"Topic2\", \"Topic2\", \"Topic2\", \"Topic2\", \"Topic2\", \"Topic2\", \"Topic2\", \"Topic2\", \"Topic2\", \"Topic2\", \"Topic2\", \"Topic2\", \"Topic2\", \"Topic2\", \"Topic2\", \"Topic2\", \"Topic2\", \"Topic2\", \"Topic2\", \"Topic2\", \"Topic2\", \"Topic2\", \"Topic2\", \"Topic2\", \"Topic2\", \"Topic2\", \"Topic2\", \"Topic2\", \"Topic2\", \"Topic2\", \"Topic3\", \"Topic3\", \"Topic3\", \"Topic3\", \"Topic3\", \"Topic3\", \"Topic3\", \"Topic3\", \"Topic3\", \"Topic3\", \"Topic3\", \"Topic3\", \"Topic3\", \"Topic3\", \"Topic3\", \"Topic3\", \"Topic3\", \"Topic3\", \"Topic3\", \"Topic3\", \"Topic3\", \"Topic3\", \"Topic3\", \"Topic3\", \"Topic3\", \"Topic3\", \"Topic3\", \"Topic3\", \"Topic3\", \"Topic3\", \"Topic3\", \"Topic3\", \"Topic3\", \"Topic3\", \"Topic3\", \"Topic3\", \"Topic3\", \"Topic3\", \"Topic3\", \"Topic3\", \"Topic3\", \"Topic3\", \"Topic3\", \"Topic3\", \"Topic3\", \"Topic3\", \"Topic3\", \"Topic3\", \"Topic3\", \"Topic3\", \"Topic3\", \"Topic3\", \"Topic3\"], \"logprob\": [30.0, 29.0, 28.0, 27.0, 26.0, 25.0, 24.0, 23.0, 22.0, 21.0, 20.0, 19.0, 18.0, 17.0, 16.0, 15.0, 14.0, 13.0, 12.0, 11.0, 10.0, 9.0, 8.0, 7.0, 6.0, 5.0, 4.0, 3.0, 2.0, 1.0, -3.7266, -4.1806, -4.1806, -4.1806, -4.5372, -4.5372, -4.5376, -4.5376, -4.5401, -4.5807, -4.2999, -4.301, -3.2141, -3.6845, -5.097, -5.097, -5.097, -5.097, -5.097, -5.097, -5.097, -5.097, -5.097, -5.097, -5.097, -5.097, -5.097, -5.097, -5.0972, -5.0972, -4.1931, -3.2659, -4.526, -3.4484, -3.9408, -4.2102, -4.5265, -4.5359, -3.8316, -3.855, -4.847, -4.8628, -4.8836, -4.7793, -4.9571, -4.9463, -2.979, -4.5052, -4.5054, -4.5054, -4.5055, -4.5055, -4.5056, -4.5056, -4.2266, -4.5202, -4.5662, -4.1488, -5.0649, -5.0649, -5.0649, -5.0649, -5.0649, -5.0649, -5.0649, -5.0649, -5.0649, -5.0649, -5.0649, -5.065, -5.065, -5.065, -5.065, -5.065, -5.065, -5.0651, -2.9858, -2.9897, -3.3092, -4.5039, -4.4963, -4.5036, -4.5757, -4.2156, -3.892, -4.6687, -4.6822, -4.5457, -4.8737, -4.5607, -4.8733, -4.8291, -5.0265, -5.0576, -3.7931, -4.41, -4.41, -4.41, -4.4101, -4.4136, -4.414, -4.9697, -4.9697, -4.9697, -4.9697, -4.9697, -4.9697, -4.9697, -4.9697, -4.9697, -4.9697, -4.9697, -4.9698, -4.9698, -4.9698, -4.9698, -4.9698, -4.9698, -4.9698, -4.9698, -4.9698, -4.9698, -4.9698, -4.9698, -4.0692, -4.1151, -3.7695, -3.1419, -4.0484, -3.3002, -4.4346, -3.4775, -4.4049, -3.9882, -4.4113, -3.9872, -4.4097, -4.5105, -4.4913, -4.8176, -4.9439, -4.9669, -4.9669, -4.9675, -4.968, -4.968, -4.969], \"loglift\": [30.0, 29.0, 28.0, 27.0, 26.0, 25.0, 24.0, 23.0, 22.0, 21.0, 20.0, 19.0, 18.0, 17.0, 16.0, 15.0, 14.0, 13.0, 12.0, 11.0, 10.0, 9.0, 8.0, 7.0, 6.0, 5.0, 4.0, 3.0, 2.0, 1.0, 0.8908, 0.8444, 0.8444, 0.8444, 0.7778, 0.7778, 0.7774, 0.7774, 0.775, 0.7349, 0.7308, 0.7297, 0.7164, 0.6597, 0.6283, 0.6283, 0.6283, 0.6283, 0.6283, 0.6283, 0.6283, 0.6283, 0.6283, 0.6283, 0.6283, 0.6283, 0.6283, 0.6283, 0.6281, 0.6281, 0.6214, 0.3396, 0.5029, 0.0767, 0.1893, 0.1541, 0.2909, 0.2926, -0.1766, -0.188, 0.1846, 0.169, -0.2405, -0.9243, -0.1171, -0.4574, 0.876, 0.8208, 0.8206, 0.8206, 0.8205, 0.8205, 0.8204, 0.8204, 0.814, 0.8057, 0.7622, 0.6753, 0.6687, 0.6687, 0.6687, 0.6687, 0.6687, 0.6687, 0.6687, 0.6687, 0.6687, 0.6687, 0.6686, 0.6685, 0.6685, 0.6685, 0.6685, 0.6685, 0.6685, 0.6685, 0.6199, 0.5354, 0.3458, 0.5469, 0.5369, 0.5296, 0.4594, 0.2733, -0.225, 0.363, 0.3494, 0.0974, 0.4484, -0.4306, 0.1745, -0.8986, -0.1808, -0.0111, 1.0642, 0.9526, 0.9526, 0.9525, 0.9525, 0.9488, 0.9484, 0.7912, 0.7912, 0.7912, 0.7912, 0.7912, 0.7912, 0.7912, 0.7912, 0.7912, 0.7912, 0.7911, 0.7911, 0.7911, 0.7911, 0.7911, 0.7911, 0.7911, 0.7911, 0.7911, 0.7911, 0.7911, 0.7911, 0.7911, 0.7766, 0.7249, 0.5948, 0.4637, 0.607, 0.3668, 0.6249, 0.1282, 0.4271, 0.1419, 0.4172, -0.3322, 0.0792, 0.1326, -0.1471, -0.8871, 0.3955, 0.3717, 0.3717, 0.3767, 0.3762, 0.3757, 0.0789]}, \"token.table\": {\"Topic\": [2, 3, 1, 1, 3, 2, 1, 2, 3, 2, 3, 2, 2, 1, 2, 3, 1, 2, 2, 3, 1, 3, 3, 3, 1, 1, 3, 2, 3, 2, 3, 1, 2, 2, 2, 1, 2, 3, 3, 3, 3, 1, 2, 3, 1, 3, 1, 1, 2, 3, 1, 2, 2, 2, 1, 2, 1, 2, 1, 3, 2, 3, 1, 1, 1, 3, 3, 3, 2, 3, 3, 1, 1, 3, 1, 1, 3, 1, 3, 1, 3, 2, 1, 2, 3, 2, 1, 1, 2, 3, 2, 2, 1, 2, 3, 2, 1, 1, 3, 3, 1, 1, 3, 2, 2, 3, 1, 2, 3, 1, 2, 1, 1, 2, 3, 2, 1, 3, 2, 2, 2, 3, 1, 1, 2, 3, 1, 3, 2, 1, 2, 3, 1, 3, 3, 1, 2, 3, 1, 2, 3, 1, 1, 2, 3, 1, 3, 2, 2, 1, 2, 1, 1, 3, 3, 3, 2, 3, 2, 3, 1, 2, 3, 1, 3, 1, 1, 2, 1, 3, 2], \"Freq\": [0.7323756545062248, 0.752673673167769, 0.7211758229610384, 0.5842621851873795, 0.29213109259368975, 0.732554226706898, 0.24916808870035365, 0.24916808870035365, 0.4983361774007073, 0.5899450503567508, 0.2949725251783754, 0.732378783529768, 0.7323787842881266, 0.27821570120048, 0.27821570120048, 0.46369283533413336, 0.36426035433999376, 0.36426035433999376, 0.7400150270724037, 0.37000751353620187, 0.49342039642733, 0.49342039642733, 0.7526713893779535, 1.010741382871066, 0.7263766091119486, 0.9638641007666489, 1.0105830056901097, 0.49616043469224097, 0.49616043469224097, 0.496165521227388, 0.496165521227388, 0.7240624593355814, 0.3620312296677907, 0.7323755244970866, 0.7323755537360086, 0.4853293695662332, 0.4853293695662332, 0.7526734782462842, 0.752671508794657, 0.752671667133801, 0.7526715857886079, 0.9638830115201342, 0.9744732174927867, 0.752672733866112, 0.7263725086997623, 1.010567712078007, 0.7263713908612146, 0.3684316315437355, 0.3684316315437355, 0.3684316315437355, 0.3635593967391958, 0.7271187934783916, 0.7323755554825664, 0.9744736698292862, 0.3629893080994649, 0.3629893080994649, 0.11191510633884824, 0.7834057443719377, 0.963863973553087, 0.7526707481284242, 0.73237931056067, 0.7526716100248841, 0.7263713730676071, 0.7263713467393693, 0.493421189955391, 0.493421189955391, 1.0107468653509404, 0.752673255196287, 0.30140607270026604, 0.6028121454005321, 0.7526715030993711, 0.7263725350655321, 0.7211773758236595, 0.752671682773536, 0.963907199261433, 0.9595088749419173, 0.7526714124756911, 0.7263712877448664, 1.0107425154863583, 0.9638830175401288, 0.75266992192613, 0.976879172549657, 0.3689234563582774, 0.3689234563582774, 0.3689234563582774, 0.974482160587659, 0.7263726109355283, 0.24613999989484606, 0.4922799997896921, 0.24613999989484606, 0.7323798296145303, 0.9743503979567391, 0.3630293898611317, 0.3630293898611317, 0.7526734030010762, 0.7323773755188464, 0.726371365531266, 0.5925212342806379, 0.5925212342806379, 0.7526707189422503, 0.726372526883704, 0.3724909728101347, 0.5587364592152021, 0.9744827358681758, 0.7323755976851778, 0.7526706060740381, 0.585990244931565, 0.2929951224657825, 0.2929951224657825, 0.7253074394669665, 0.7323755966425133, 0.7263725178197072, 0.4420519606125862, 0.2947013070750575, 0.2947013070750575, 0.7323756198125205, 0.4937878832152499, 0.4937878832152499, 0.7323755835305205, 0.7323755404164521, 0.6105590706663507, 0.34889089752362895, 0.7263714167112864, 0.21095569953847873, 0.42191139907695746, 0.42191139907695746, 0.29969354329505854, 0.5993870865901171, 0.7323791292061984, 0.2973174032465749, 0.2973174032465749, 0.5946348064931498, 0.3732485362852046, 0.3732485362852046, 0.7526735785167531, 0.7241595944668582, 0.12069326574447636, 0.12069326574447636, 0.7253256659527902, 0.49597891397032634, 0.49597891397032634, 0.7263724876183233, 0.27488111683937905, 0.4581351947322984, 0.18325407789291936, 0.7211785808865699, 0.7526727774688439, 0.9744756074680215, 0.7323755460818745, 0.7263767425506443, 0.9744681107021913, 0.7263712675574076, 0.7263724502301803, 0.752673176306095, 0.9147797157517266, 0.752673393565125, 0.9744651284936234, 0.7526713391650823, 0.7323754913196546, 1.010746557685251, 0.36358466475945983, 0.7271693295189197, 0.7526729297558014, 0.5232370615209905, 0.4360308846008254, 0.9643941928530447, 0.4023415841403698, 0.5632782177965177, 0.7301450906272825, 0.18253627265682063, 0.7323791238243342], \"Term\": [\"\\uac00\\uc2b5\\uae30\", \"\\uac70\", \"\\uac74\", \"\\uac83\", \"\\uac83\", \"\\uacb0\\uc81c\", \"\\uacbd\\uc6b0\", \"\\uacbd\\uc6b0\", \"\\uacbd\\uc6b0\", \"\\uace0\\uac1d\", \"\\uace0\\uac1d\", \"\\uace0\\uc720\", \"\\uad00\\ub9ac\", \"\\uad50\\ud658\", \"\\uad50\\ud658\", \"\\uad50\\ud658\", \"\\uad6c\\ub9e4\", \"\\uad6c\\ub9e4\", \"\\uae08\\uc77c\", \"\\uae08\\uc77c\", \"\\uae30\\uac04\", \"\\uae30\\uac04\", \"\\uae30\\ubcf8\", \"\\uae30\\uc0ac\", \"\\uae30\\uc7ac\", \"\\uae30\\uc874\", \"\\uae30\\uc900\", \"\\ub0b4\", \"\\ub0b4\", \"\\ub0b4\\uc77c\", \"\\ub0b4\\uc77c\", \"\\ub124\", \"\\ub124\", \"\\ub178\\ud2b8\\ubd81\", \"\\ub2ec\\ub77c\", \"\\ub300\\ub85c\", \"\\ub300\\ub85c\", \"\\ub3c4\\ucc29\", \"\\ub3d9\\uc77c\", \"\\ub4dc\\ub837\\uc73c\", \"\\ub4f1\", \"\\ub538\", \"\\ub54c\\ubb38\", \"\\ub864\", \"\\uba85\", \"\\ubaa8\\ub450\", \"\\ubb38\\uac74\", \"\\ubb38\\uc758\", \"\\ubb38\\uc758\", \"\\ubb38\\uc758\", \"\\ubb38\\uc81c\", \"\\ubb38\\uc81c\", \"\\ubbf8\\ub2c8\", \"\\ubc0f\", \"\\ubc14\\ub85c\", \"\\ubc14\\ub85c\", \"\\ubc18\\ud488\", \"\\ubc18\\ud488\", \"\\ubc1c\\uc8fc\", \"\\ubc30\\uc1a1\", \"\\ubc88\\ud638\", \"\\ubcc0\\uacbd\", \"\\ubcf8\\uc0ac\", \"\\ubd88\", \"\\ubd88\\ub7c9\", \"\\ubd88\\ub7c9\", \"\\ube5b\", \"\\uc0ac\\ubb34\\uc2e4\", \"\\uc0ac\\uc6a9\", \"\\uc0ac\\uc6a9\", \"\\uc0ac\\uc720\", \"\\uc0ac\\uc774\\ud2b8\", \"\\uc0ac\\uc9c4\", \"\\uc0c1\", \"\\uc0c1\\ud0dc\", \"\\uc0c1\\ud488\", \"\\uc0c9\\uc0c1\", \"\\uc124\\uce58\", \"\\uc138\\ud0c1\\uae30\", \"\\uc18c\\ub9ac\", \"\\uc18c\\uc694\", \"\\uc218\", \"\\uc218\\uac70\", \"\\uc218\\uac70\", \"\\uc218\\uac70\", \"\\uc218\\ub2e8\", \"\\uc218\\ucde8\", \"\\uc2dc\", \"\\uc2dc\", \"\\uc2dc\", \"\\uc2dc\\ub9ac\\uc5bc\", \"\\uc2e0\\uccad\", \"\\uc548\", \"\\uc548\", \"\\uc557\", \"\\uc601\\uc5c5\\uc77c\", \"\\uc608\\uc815\", \"\\uc644\\ub8cc\", \"\\uc644\\ub8cc\", \"\\uc774\\uc5b4\\ud3f0\", \"\\uc778\\uba85\", \"\\uc77c\", \"\\uc77c\", \"\\uc790\\ub3d9\", \"\\uc791\\ub3d9\", \"\\uc798\\ubabb\", \"\\uc7ac\", \"\\uc7ac\", \"\\uc7ac\", \"\\uc800\\ud76c\", \"\\uc804\\uc555\", \"\\uc811\", \"\\uc811\\uc218\", \"\\uc811\\uc218\", \"\\uc811\\uc218\", \"\\uc815\\uaca9\\ucd9c\\ub825\", \"\\uc815\\ub3c4\", \"\\uc815\\ub3c4\", \"\\uc815\\uc0c1\", \"\\uc81c\\ub300\\ub85c\", \"\\uc81c\\ud488\", \"\\uc81c\\ud488\", \"\\uc870\\ud68c\", \"\\uc8fc\\ubb38\", \"\\uc8fc\\ubb38\", \"\\uc8fc\\ubb38\", \"\\uc8fc\\uc2dc\", \"\\uc8fc\\uc2dc\", \"\\uc8fc\\uc2e0\", \"\\uc911\", \"\\uc911\", \"\\uc911\", \"\\uc9c0\\uc5f0\", \"\\uc9c0\\uc5f0\", \"\\uc9c1\\uc811\", \"\\uc9c4\\ud589\", \"\\uc9c4\\ud589\", \"\\uc9c4\\ud589\", \"\\ucabd\", \"\\ucc28\\uac10\", \"\\ucc28\\uac10\", \"\\ucc38\\uace0\", \"\\ucc98\\ub9ac\", \"\\ucc98\\ub9ac\", \"\\ucc98\\ub9ac\", \"\\ucca8\\ubd80\", \"\\ucd2c\\uc601\", \"\\ucd9c\\uace0\", \"\\ucd9c\\ub825\", \"\\ucd9c\\uc7a5\", \"\\ucda9\\uc804\", \"\\ucde8\\uc18c\", \"\\uce74\\ud1a1\", \"\\ucee4\\ubc84\", \"\\ud0dd\\ubc30\", \"\\ud130\\ubbf8\\ub110\", \"\\ud30c\\uc190\", \"\\ud3c9\\uc77c\", \"\\ud504\\ub86c\", \"\\ud544\\ub984\", \"\\ud574\\ub2f9\", \"\\ud574\\ub2f9\", \"\\ud604\\uc0c1\", \"\\ud655\\uc778\", \"\\ud655\\uc778\", \"\\ud658\", \"\\ud658\\ubd88\", \"\\ud658\\ubd88\", \"\\ud6c4\", \"\\ud6c4\", \"\\ud6c4\\uc6d0\"]}, \"R\": 30, \"lambda.step\": 0.01, \"plot.opts\": {\"xlab\": \"PC1\", \"ylab\": \"PC2\"}, \"topic.order\": [3, 1, 2]};\n",
              "\n",
              "function LDAvis_load_lib(url, callback){\n",
              "  var s = document.createElement('script');\n",
              "  s.src = url;\n",
              "  s.async = true;\n",
              "  s.onreadystatechange = s.onload = callback;\n",
              "  s.onerror = function(){console.warn(\"failed to load library \" + url);};\n",
              "  document.getElementsByTagName(\"head\")[0].appendChild(s);\n",
              "}\n",
              "\n",
              "if(typeof(LDAvis) !== \"undefined\"){\n",
              "   // already loaded: just create the visualization\n",
              "   !function(LDAvis){\n",
              "       new LDAvis(\"#\" + \"ldavis_el4351388952340696969253969092\", ldavis_el4351388952340696969253969092_data);\n",
              "   }(LDAvis);\n",
              "}else if(typeof define === \"function\" && define.amd){\n",
              "   // require.js is available: use it to load d3/LDAvis\n",
              "   require.config({paths: {d3: \"https://d3js.org/d3.v5\"}});\n",
              "   require([\"d3\"], function(d3){\n",
              "      window.d3 = d3;\n",
              "      LDAvis_load_lib(\"https://cdn.jsdelivr.net/gh/bmabey/pyLDAvis@3.4.0/pyLDAvis/js/ldavis.v3.0.0.js\", function(){\n",
              "        new LDAvis(\"#\" + \"ldavis_el4351388952340696969253969092\", ldavis_el4351388952340696969253969092_data);\n",
              "      });\n",
              "    });\n",
              "}else{\n",
              "    // require.js not available: dynamically load d3 & LDAvis\n",
              "    LDAvis_load_lib(\"https://d3js.org/d3.v5.js\", function(){\n",
              "         LDAvis_load_lib(\"https://cdn.jsdelivr.net/gh/bmabey/pyLDAvis@3.4.0/pyLDAvis/js/ldavis.v3.0.0.js\", function(){\n",
              "                 new LDAvis(\"#\" + \"ldavis_el4351388952340696969253969092\", ldavis_el4351388952340696969253969092_data);\n",
              "            })\n",
              "         });\n",
              "}\n",
              "</script>"
            ]
          },
          "metadata": {},
          "execution_count": 86
        }
      ]
    },
    {
      "cell_type": "code",
      "source": [
        "coherence_values4 = []\n",
        "model_list4 = []\n",
        "iters = [3,4,5,6]\n",
        "for num_topics in iters:\n",
        "     model4 = LdaModel(corpus=corpus4, id2word=dictionary4, num_topics=num_topics)\n",
        "     model_list4.append(model4)\n",
        "     coherencemodel4 = CoherenceModel(model=model4, texts=tokenized_data4, dictionary=dictionary4, coherence='c_v')\n",
        "     coherence_values4.append(coherencemodel4.get_coherence())\n",
        "\n",
        "for i in range(0, len(iters)):\n",
        "  print(model_list4[i], coherence_values4[i])  #topic num별로 coherence 가 높은 것을 찾기"
      ],
      "metadata": {
        "id": "1Lrya84gAGs4",
        "colab": {
          "base_uri": "https://localhost:8080/"
        },
        "outputId": "35490ae9-aa2d-4d1a-934a-953ba7a31877"
      },
      "execution_count": 87,
      "outputs": [
        {
          "output_type": "stream",
          "name": "stderr",
          "text": [
            "/usr/local/lib/python3.10/dist-packages/ipykernel/ipkernel.py:283: DeprecationWarning: `should_run_async` will not call `transform_cell` automatically in the future. Please pass the result to `transformed_cell` argument and any exception that happen during thetransform in `preprocessing_exc_tuple` in IPython 7.17 and above.\n",
            "  and should_run_async(code)\n",
            "WARNING:gensim.models.ldamodel:too few updates, training might not converge; consider increasing the number of passes or iterations to improve accuracy\n",
            "WARNING:gensim.models.ldamodel:too few updates, training might not converge; consider increasing the number of passes or iterations to improve accuracy\n",
            "WARNING:gensim.models.ldamodel:too few updates, training might not converge; consider increasing the number of passes or iterations to improve accuracy\n",
            "WARNING:gensim.models.ldamodel:too few updates, training might not converge; consider increasing the number of passes or iterations to improve accuracy\n"
          ]
        },
        {
          "output_type": "stream",
          "name": "stdout",
          "text": [
            "LdaModel<num_terms=199, num_topics=3, decay=0.5, chunksize=2000> 0.4172162910766753\n",
            "LdaModel<num_terms=199, num_topics=4, decay=0.5, chunksize=2000> 0.44642768926585197\n",
            "LdaModel<num_terms=199, num_topics=5, decay=0.5, chunksize=2000> 0.38398373312139267\n",
            "LdaModel<num_terms=199, num_topics=6, decay=0.5, chunksize=2000> 0.3598216130381957\n"
          ]
        }
      ]
    },
    {
      "cell_type": "code",
      "source": [
        "topics = model_list[0].get_document_topics(corpus)\n",
        "df4['topics'] = topics\n",
        "df4.topics.head()"
      ],
      "metadata": {
        "id": "WZanPDf7nb77",
        "colab": {
          "base_uri": "https://localhost:8080/",
          "height": 406
        },
        "outputId": "84b971fe-e3f0-4bdb-b14e-5eb1c2363cba"
      },
      "execution_count": 88,
      "outputs": [
        {
          "output_type": "stream",
          "name": "stderr",
          "text": [
            "/usr/local/lib/python3.10/dist-packages/ipykernel/ipkernel.py:283: DeprecationWarning: `should_run_async` will not call `transform_cell` automatically in the future. Please pass the result to `transformed_cell` argument and any exception that happen during thetransform in `preprocessing_exc_tuple` in IPython 7.17 and above.\n",
            "  and should_run_async(code)\n",
            "<ipython-input-88-69706b9c63ce>:2: SettingWithCopyWarning: \n",
            "A value is trying to be set on a copy of a slice from a DataFrame.\n",
            "Try using .loc[row_indexer,col_indexer] = value instead\n",
            "\n",
            "See the caveats in the documentation: https://pandas.pydata.org/pandas-docs/stable/user_guide/indexing.html#returning-a-view-versus-a-copy\n",
            "  df4['topics'] = topics\n"
          ]
        },
        {
          "output_type": "execute_result",
          "data": {
            "text/plain": [
              "15014    [(0, 0.068093956), (1, 0.8630584), (2, 0.06884...\n",
              "21176    [(0, 0.93036133), (1, 0.034251843), (2, 0.0353...\n",
              "3376     [(0, 0.020191094), (1, 0.95935935), (2, 0.0204...\n",
              "22456    [(0, 0.03704165), (1, 0.035928078), (2, 0.9270...\n",
              "153      [(0, 0.9347803), (1, 0.03046328), (2, 0.034756...\n",
              "Name: topics, dtype: object"
            ],
            "text/html": [
              "<div>\n",
              "<style scoped>\n",
              "    .dataframe tbody tr th:only-of-type {\n",
              "        vertical-align: middle;\n",
              "    }\n",
              "\n",
              "    .dataframe tbody tr th {\n",
              "        vertical-align: top;\n",
              "    }\n",
              "\n",
              "    .dataframe thead th {\n",
              "        text-align: right;\n",
              "    }\n",
              "</style>\n",
              "<table border=\"1\" class=\"dataframe\">\n",
              "  <thead>\n",
              "    <tr style=\"text-align: right;\">\n",
              "      <th></th>\n",
              "      <th>topics</th>\n",
              "    </tr>\n",
              "  </thead>\n",
              "  <tbody>\n",
              "    <tr>\n",
              "      <th>15014</th>\n",
              "      <td>[(0, 0.068093956), (1, 0.8630584), (2, 0.06884...</td>\n",
              "    </tr>\n",
              "    <tr>\n",
              "      <th>21176</th>\n",
              "      <td>[(0, 0.93036133), (1, 0.034251843), (2, 0.0353...</td>\n",
              "    </tr>\n",
              "    <tr>\n",
              "      <th>3376</th>\n",
              "      <td>[(0, 0.020191094), (1, 0.95935935), (2, 0.0204...</td>\n",
              "    </tr>\n",
              "    <tr>\n",
              "      <th>22456</th>\n",
              "      <td>[(0, 0.03704165), (1, 0.035928078), (2, 0.9270...</td>\n",
              "    </tr>\n",
              "    <tr>\n",
              "      <th>153</th>\n",
              "      <td>[(0, 0.9347803), (1, 0.03046328), (2, 0.034756...</td>\n",
              "    </tr>\n",
              "  </tbody>\n",
              "</table>\n",
              "</div><br><label><b>dtype:</b> object</label>"
            ]
          },
          "metadata": {},
          "execution_count": 88
        }
      ]
    },
    {
      "cell_type": "code",
      "source": [
        "def get_max(doc):\n",
        "    idx,l = zip(*doc)\n",
        "    return idx[np.argmax(l)]\n",
        "\n",
        "df4[\"topic\"] = df4.topics.apply(get_max)\n",
        "df4.topic.value_counts()"
      ],
      "metadata": {
        "colab": {
          "base_uri": "https://localhost:8080/",
          "height": 374
        },
        "id": "VRNMpoQSo4Jp",
        "outputId": "f404b6d7-c5ab-4b48-d5f8-f77df411894e"
      },
      "execution_count": 89,
      "outputs": [
        {
          "output_type": "stream",
          "name": "stderr",
          "text": [
            "/usr/local/lib/python3.10/dist-packages/ipykernel/ipkernel.py:283: DeprecationWarning: `should_run_async` will not call `transform_cell` automatically in the future. Please pass the result to `transformed_cell` argument and any exception that happen during thetransform in `preprocessing_exc_tuple` in IPython 7.17 and above.\n",
            "  and should_run_async(code)\n",
            "<ipython-input-89-a74fbaf46310>:5: SettingWithCopyWarning: \n",
            "A value is trying to be set on a copy of a slice from a DataFrame.\n",
            "Try using .loc[row_indexer,col_indexer] = value instead\n",
            "\n",
            "See the caveats in the documentation: https://pandas.pydata.org/pandas-docs/stable/user_guide/indexing.html#returning-a-view-versus-a-copy\n",
            "  df4[\"topic\"] = df4.topics.apply(get_max)\n"
          ]
        },
        {
          "output_type": "execute_result",
          "data": {
            "text/plain": [
              "topic\n",
              "2    18\n",
              "1    15\n",
              "0    14\n",
              "Name: count, dtype: int64"
            ],
            "text/html": [
              "<div>\n",
              "<style scoped>\n",
              "    .dataframe tbody tr th:only-of-type {\n",
              "        vertical-align: middle;\n",
              "    }\n",
              "\n",
              "    .dataframe tbody tr th {\n",
              "        vertical-align: top;\n",
              "    }\n",
              "\n",
              "    .dataframe thead th {\n",
              "        text-align: right;\n",
              "    }\n",
              "</style>\n",
              "<table border=\"1\" class=\"dataframe\">\n",
              "  <thead>\n",
              "    <tr style=\"text-align: right;\">\n",
              "      <th></th>\n",
              "      <th>count</th>\n",
              "    </tr>\n",
              "    <tr>\n",
              "      <th>topic</th>\n",
              "      <th></th>\n",
              "    </tr>\n",
              "  </thead>\n",
              "  <tbody>\n",
              "    <tr>\n",
              "      <th>2</th>\n",
              "      <td>18</td>\n",
              "    </tr>\n",
              "    <tr>\n",
              "      <th>1</th>\n",
              "      <td>15</td>\n",
              "    </tr>\n",
              "    <tr>\n",
              "      <th>0</th>\n",
              "      <td>14</td>\n",
              "    </tr>\n",
              "  </tbody>\n",
              "</table>\n",
              "</div><br><label><b>dtype:</b> int64</label>"
            ]
          },
          "metadata": {},
          "execution_count": 89
        }
      ]
    },
    {
      "cell_type": "markdown",
      "source": [
        "- 해석\n",
        " - (0): 진행, 처리, 사용 등의 단어는 아마도 제품 처리 과정이나 절차와 관련된 주제를 나타냅니다.\n",
        " - (1): 제품, 교환, 환불 등의 단어는 제품의 교환, 환불과 같은 고객 서비스 관련 문제를 다루는 주제를 반영하는 것 같습니다.\n",
        " - (2): 확인, 처리, 환불, 반품 등의 단어는 주문 후 제품 확인 및 처리 과정에 대한 주제를 나타내는 것처럼 보입니다."
      ],
      "metadata": {
        "id": "XWVaSOFEkcLE"
      }
    },
    {
      "cell_type": "markdown",
      "source": [
        "###5번"
      ],
      "metadata": {
        "id": "4Vo0k0BMkSmw"
      }
    },
    {
      "cell_type": "code",
      "source": [
        "from bs4 import BeautifulSoup\n",
        "from lxml import etree\n",
        "from urllib import parse\n",
        "import requests\n",
        "import urllib.request\n",
        "import urllib.parse\n",
        "import numpy as np\n",
        "import pandas as pd\n",
        "import time"
      ],
      "metadata": {
        "colab": {
          "base_uri": "https://localhost:8080/"
        },
        "id": "Jx5_xZoVk_MD",
        "outputId": "dde855ba-48b2-44b9-ef52-a9c0a058c407"
      },
      "execution_count": 90,
      "outputs": [
        {
          "output_type": "stream",
          "name": "stderr",
          "text": [
            "/usr/local/lib/python3.10/dist-packages/ipykernel/ipkernel.py:283: DeprecationWarning: `should_run_async` will not call `transform_cell` automatically in the future. Please pass the result to `transformed_cell` argument and any exception that happen during thetransform in `preprocessing_exc_tuple` in IPython 7.17 and above.\n",
            "  and should_run_async(code)\n"
          ]
        }
      ]
    },
    {
      "cell_type": "code",
      "source": [
        "#----------------------------------------------#\n",
        "#변경할 부분\n",
        "startdate = \"2024.04.01\"\n",
        "enddate = \"2024.04.20\"\n",
        "searchword = \"반품\" #검색어\n",
        "#----------------------------------------------#\n",
        "\n",
        "base_url = \"https://search.naver.com/search.naver?where=news&sm=tab_pge&query\"+urllib.parse.urlencode([('',searchword)], doseq=True)+\"&sort=1&photo=3&field=0&pd=3&ds=\"+startdate+\"&de=\"+enddate+\"&mynews=1&office_type=0&office_section_code=0&news_office_checked=&nso=so:dd,p:from\"+startdate.replace(\".\", \"\")+\"to\"+enddate.replace(\".\", \"\")+\",a:all&mynews=0&start=\"\n",
        "titles = [ ]\n",
        "urls = [ ]\n",
        "i=1\n",
        "\n",
        "while True:\n",
        " try:\n",
        "    time.sleep(0.15)\n",
        "    url = base_url+str(i)\n",
        "    html = urllib.request.urlopen(url).read()\n",
        "    soup = BeautifulSoup(html, 'html.parser')\n",
        "    t_news = soup.select('a.news_tit')  #클래스 표시\n",
        "    t_len = len(t_news)\n",
        "    print(t_news)\n",
        "\n",
        "    if t_len <1:\n",
        "        break\n",
        "\n",
        "    for j in np.arange(t_len)+1:\n",
        "            try:\n",
        "                titles.append(soup.select('a.news_tit')[j].text)\n",
        "                urls.append(soup.select('a.info')[j]['href'])\n",
        "            except Exception as e:\n",
        "                continue\n",
        "    i=i+10\n",
        "\n",
        " except Exception as e:\n",
        "    continue\n",
        "\n",
        "result = pd.DataFrame({\"Url\": urls, \"Title\":titles})\n",
        "result.shape"
      ],
      "metadata": {
        "colab": {
          "base_uri": "https://localhost:8080/"
        },
        "outputId": "9872f11e-fe9b-4ee7-a5ed-ddf088eca835",
        "id": "Z7ne4swF5VIg"
      },
      "execution_count": 133,
      "outputs": [
        {
          "output_type": "stream",
          "name": "stderr",
          "text": [
            "/usr/local/lib/python3.10/dist-packages/ipykernel/ipkernel.py:283: DeprecationWarning: `should_run_async` will not call `transform_cell` automatically in the future. Please pass the result to `transformed_cell` argument and any exception that happen during thetransform in `preprocessing_exc_tuple` in IPython 7.17 and above.\n",
            "  and should_run_async(code)\n"
          ]
        },
        {
          "output_type": "stream",
          "name": "stdout",
          "text": [
            "[<a class=\"news_tit\" href=\"https://www.chosun.com/economy/tech_it/2024/04/19/QAZTQNZXEVBWFIHNJFLSQYQGFU/?utm_source=naver&amp;utm_medium=referral&amp;utm_campaign=naver-news\" onclick=\"return goOtherCR(this, 'a=nws*e.tit&amp;r=1&amp;i=880000ED_000000000000000003829267&amp;g=023.0003829267&amp;u='+urlencode(this.href));\" target=\"_blank\" title=\"네이버도 ‘당일 배송’ 불붙은 고객 쟁탈전\">네이버도 ‘당일 배송’ 불붙은 고객 쟁탈전 </a>, <a class=\"news_tit\" href=\"https://www.khan.co.kr/economy/economy-general/article/202404182151015\" onclick=\"return goOtherCR(this, 'a=nws*e.tit&amp;r=2&amp;i=8800006B_000000000000000003291557&amp;g=032.0003291557&amp;u='+urlencode(this.href));\" target=\"_blank\" title=\"네이버, 수도권 당일·일요배송…멤버십 인상 쿠팡 빈틈 공략\">네이버, 수도권 당일·일요배송…멤버십 인상 쿠팡 빈틈 공략 </a>, <a class=\"news_tit\" href=\"http://www.fnnews.com/news/202404181818161899\" onclick=\"return goOtherCR(this, 'a=nws*j.tit&amp;r=3&amp;i=880000FF_000000000000000005173425&amp;g=014.0005173425&amp;u='+urlencode(this.href));\" target=\"_blank\" title=\"해외 사업자 규제 실효성 의문… 중국과 통상마찰 가능성도 [中 플랫폼 파상공세 대응 나섰다]\">해외 사업자 규제 실효성 의문… 중국과 통상마찰 가능성도 [中 플랫폼... </a>, <a class=\"news_tit\" href=\"https://www.hankyung.com/article/2024041811471\" onclick=\"return goOtherCR(this, 'a=nws*e.tit&amp;r=4&amp;i=88000107_000000000000000004974559&amp;g=015.0004974559&amp;u='+urlencode(this.href));\" target=\"_blank\" title='\"쿠팡 잡자\"…네이버도 당일배송'>\"쿠팡 잡자\"…네이버도 당일배송 </a>, <a class=\"news_tit\" href=\"https://www.mk.co.kr/article/10994314\" onclick=\"return goOtherCR(this, 'a=nws*e.tit&amp;r=5&amp;i=880000BC_000000000000000005290552&amp;g=009.0005290552&amp;u='+urlencode(this.href));\" target=\"_blank\" title=\"쿠팡 잡는다 … 네이버도 당일배송\">쿠팡 잡는다 … 네이버도 당일배송 </a>, <a class=\"news_tit\" href=\"https://www.mk.co.kr/article/10994253\" onclick=\"return goOtherCR(this, 'a=nws*e.tit&amp;r=6&amp;i=880000BC_000000000000000005290512&amp;g=009.0005290512&amp;u='+urlencode(this.href));\" target=\"_blank\" title=\"쿠팡, 멤버십 혜택 더 늘린다\">쿠팡, 멤버십 혜택 더 늘린다 </a>, <a class=\"news_tit\" href=\"https://www.etnews.com/20240418000304\" onclick=\"return goOtherCR(this, 'a=nws*e.tit&amp;r=7&amp;i=880000EA_000000000000000003199400&amp;g=030.0003199400&amp;u='+urlencode(this.href));\" target=\"_blank\" title=\"[사설] C커머스로 기울어진 운동장\">[사설] C커머스로 기울어진 운동장 </a>, <a class=\"news_tit\" href=\"https://www.dt.co.kr/contents.html?article_no=2024041802109931078005&amp;ref=naver\" onclick=\"return goOtherCR(this, 'a=nws*j.tit&amp;r=8&amp;i=880000AD_000000000000000002868498&amp;g=029.0002868498&amp;u='+urlencode(this.href));\" target=\"_blank\" title='\"쿠팡 게 섰거라\"… 네이버 `당일배송` 시작했다'>\"쿠팡 게 섰거라\"… 네이버 `당일배송` 시작했다 </a>, <a class=\"news_tit\" href=\"https://www.hani.co.kr/arti/economy/economy_general/1137139.html\" onclick=\"return goOtherCR(this, 'a=nws*e.tit&amp;r=9&amp;i=88000103_000000000000000002685907&amp;g=028.0002685907&amp;u='+urlencode(this.href));\" target=\"_blank\" title=\"멤버십 58% 올린 쿠팡, 해지 방어에 쩔쩔\">멤버십 58% 올린 쿠팡, 해지 방어에 쩔쩔 </a>, <a class=\"news_tit\" href=\"https://view.asiae.co.kr/article/2024041810183904891\" onclick=\"return goOtherCR(this, 'a=nws*j.tit&amp;r=10&amp;i=88000385_000000000000000005407357&amp;g=277.0005407357&amp;u='+urlencode(this.href));\" target=\"_blank\" title=\"국내 e커머스 '투 톱'… 쿠팡 vs 네이버 '전면전'\">국내 e커머스 '투 톱'… 쿠팡 vs 네이버 '전면전' </a>]\n",
            "[<a class=\"news_tit\" href=\"https://www.chosun.com/economy/market_trend/2024/04/18/OHN4EYGP5ND33PML6XUE6BFFWE/?utm_source=naver&amp;utm_medium=referral&amp;utm_campaign=naver-news\" onclick=\"return goOtherCR(this, 'a=nws*j.tit&amp;r=11&amp;i=880000ED_000000000000000003828954&amp;g=023.0003828954&amp;u='+urlencode(this.href));\" target=\"_blank\" title=\"자신있게 58% 올렸는데 경쟁자는 파격할인...쿠팡이 당황했다\">자신있게 58% 올렸는데 경쟁자는 파격할인...쿠팡이 당황했다 </a>, <a class=\"news_tit\" href=\"https://www.dt.co.kr/contents.html?article_no=2024041802100232102001&amp;ref=naver\" onclick=\"return goOtherCR(this, 'a=nws*e.tit&amp;r=12&amp;i=880000AD_000000000000000002868269&amp;g=029.0002868269&amp;u='+urlencode(this.href));\" target=\"_blank\" title='\"반값 월회비·3개월 무료\"… 탈쿠팡 고객 잡아라'>\"반값 월회비·3개월 무료\"… 탈쿠팡 고객 잡아라 </a>, <a class=\"news_tit\" href=\"http://www.fnnews.com/news/202404161828275723\" onclick=\"return goOtherCR(this, 'a=nws*e.tit&amp;r=13&amp;i=880000FF_000000000000000005172216&amp;g=014.0005172216&amp;u='+urlencode(this.href));\" target=\"_blank\" title=\"[차이나 톡] 시진핑의 승부수\">[차이나 톡] 시진핑의 승부수 </a>, <a class=\"news_tit\" href=\"http://news.heraldcorp.com/view.php?ud=20240416050459\" onclick=\"return goOtherCR(this, 'a=nws*e.tit&amp;r=14&amp;i=8800010E_000000000000000002295562&amp;g=016.0002295562&amp;u='+urlencode(this.href));\" target=\"_blank\" title=\"쿠팡 멤버십, 이유있는 ‘7890원’\">쿠팡 멤버십, 이유있는 ‘7890원’ </a>, <a class=\"news_tit\" href=\"http://www.edaily.co.kr/news/newspath.asp?newsid=01341526638856776\" onclick=\"return goOtherCR(this, 'a=nws*e.tit&amp;r=15&amp;i=880000E7_000000000000000005716058&amp;g=018.0005716058&amp;u='+urlencode(this.href));\" target=\"_blank\" title=\"[기자수첩]쿠팡의 요금 인상이 아쉬운 이유\">[기자수첩]쿠팡의 요금 인상이 아쉬운 이유 </a>, <a class=\"news_tit\" href=\"https://www.kmib.co.kr/article/view.asp?arcid=1713167769&amp;code=11151400&amp;cp=nv\" onclick=\"return goOtherCR(this, 'a=nws*e.tit&amp;r=16&amp;i=8800006F_000000000000000001688884&amp;g=005.0001688884&amp;u='+urlencode(this.href));\" target=\"_blank\" title=\"“쿠팡 위기가 우리 기회”… 네이버는 무료가입·G마켓은 인하\">“쿠팡 위기가 우리 기회”… 네이버는 무료가입·G마켓은 인하 </a>, <a class=\"news_tit\" href=\"https://www.donga.com/news/Economy/article/all/20240415/124492188/1\" onclick=\"return goOtherCR(this, 'a=nws*e.tit&amp;r=17&amp;i=880000A9_000000000000000003559204&amp;g=020.0003559204&amp;u='+urlencode(this.href));\" target=\"_blank\" title=\"中 ‘알테쉬’ 초저가 공세에… 네이버 “3개월 무료 배송”\">中 ‘알테쉬’ 초저가 공세에… 네이버 “3개월 무료 배송” </a>, <a class=\"news_tit\" href=\"https://www.imaeil.com/page/view/2024041517580761592\" onclick=\"return goOtherCR(this, 'a=nws*e.tit&amp;r=18&amp;i=880000C1_000000000000000000872975&amp;g=088.0000872975&amp;u='+urlencode(this.href));\" target=\"_blank\" title=\"[야고부] 구독(購讀) 경제 시대\">[야고부] 구독(購讀) 경제 시대 </a>, <a class=\"news_tit\" href=\"https://www.hankyung.com/article/202404152244i\" onclick=\"return goOtherCR(this, 'a=nws*j.tit&amp;r=19&amp;i=88000107_000000000000000004973078&amp;g=015.0004973078&amp;u='+urlencode(this.href));\" target=\"_blank\" title=\"쿠팡 '멤버십 요금' 올리자…네이버 '공짜 혜택' 늘렸다\">쿠팡 '멤버십 요금' 올리자…네이버 '공짜 혜택' 늘렸다 </a>, <a class=\"news_tit\" href=\"http://news.mt.co.kr/mtview.php?no=2024041514572928785\" onclick=\"return goOtherCR(this, 'a=nws*j.tit&amp;r=20&amp;i=880000C2_000000000000000005025631&amp;g=008.0005025631&amp;u='+urlencode(this.href));\" target=\"_blank\" title='쿠팡 가격 올리자…\"공짜로 써보세요\" 탈퇴 회원 잡으려는 경쟁사들'>쿠팡 가격 올리자…\"공짜로 써보세요\" 탈퇴 회원 잡으려는 경쟁사들 </a>]\n",
            "[<a class=\"news_tit\" href=\"https://www.kmib.co.kr/article/view.asp?arcid=1713083857&amp;code=11151400&amp;cp=nv\" onclick=\"return goOtherCR(this, 'a=nws*e.tit&amp;r=21&amp;i=8800006F_000000000000000001688572&amp;g=005.0001688572&amp;u='+urlencode(this.href));\" target=\"_blank\" title=\"“쿠팡, 이거 너무한 거 아냐” 멤버십 기습인상 시끌\">“쿠팡, 이거 너무한 거 아냐” 멤버십 기습인상 시끌 </a>, <a class=\"news_tit\" href=\"https://www.busan.com/view/busan/view.php?code=2024041418082723783\" onclick=\"return goOtherCR(this, 'a=nws*j.tit&amp;r=22&amp;i=880000CE_000000000000000001265155&amp;g=082.0001265155&amp;u='+urlencode(this.href));\" target=\"_blank\" title='쿠팡 와우 7890원… \"탈퇴 vs 유지\" 팽팽'>쿠팡 와우 7890원… \"탈퇴 vs 유지\" 팽팽 </a>, <a class=\"news_tit\" href=\"https://www.mk.co.kr/article/10990052\" onclick=\"return goOtherCR(this, 'a=nws*e.tit&amp;r=23&amp;i=880000BC_000000000000000005287949&amp;g=009.0005287949&amp;u='+urlencode(this.href));\" target=\"_blank\" title=\"신세계유니버스, 연회비 3만→4900원 인하\">신세계유니버스, 연회비 3만→4900원 인하 </a>, <a class=\"news_tit\" href=\"https://www.etnews.com/20240412000113\" onclick=\"return goOtherCR(this, 'a=nws*j.tit&amp;r=24&amp;i=880000EA_000000000000000003197607&amp;g=030.0003197607&amp;u='+urlencode(this.href));\" target=\"_blank\" title=\"알리·테무 'C커머스 공습' 1년만에 국내 매출 1조 찍었다\">알리·테무 'C커머스 공습' 1년만에 국내 매출 1조 찍었다 </a>, <a class=\"news_tit\" href=\"https://www.etnews.com/20240414000039\" onclick=\"return goOtherCR(this, 'a=nws*e.tit&amp;r=25&amp;i=880000EA_000000000000000003197609&amp;g=030.0003197609&amp;u='+urlencode(this.href));\" target=\"_blank\" title=\"[C커머스발 유통전쟁] 〈1〉알·테·쉬 돌풍에 휘청이는 K커머스\">[C커머스발 유통전쟁] 〈1〉알·테·쉬 돌풍에 휘청이는 K커머스 </a>, <a class=\"news_tit\" href=\"https://www.hani.co.kr/arti/economy/economy_general/1136485.html\" onclick=\"return goOtherCR(this, 'a=nws*j.tit&amp;r=26&amp;i=88000103_000000000000000002685259&amp;g=028.0002685259&amp;u='+urlencode(this.href));\" target=\"_blank\" title=\"총선 끝나자 회비 올린 쿠팡, 주가 11% 뛰었다…‘이참에 끊을까’\">총선 끝나자 회비 올린 쿠팡, 주가 11% 뛰었다…‘이참에 끊을까’ </a>, <a class=\"news_tit\" href=\"http://www.segye.com/newsView/20240412522703?OutUrl=naver\" onclick=\"return goOtherCR(this, 'a=nws*j.tit&amp;r=27&amp;i=880000D2_000000000000000003923778&amp;g=022.0003923778&amp;u='+urlencode(this.href));\" target=\"_blank\" title=\"쿠팡, 와우멤버십 월 7890원 기습 인상\">쿠팡, 와우멤버십 월 7890원 기습 인상 </a>, <a class=\"news_tit\" href=\"https://www.hankookilbo.com/News/Read/A2024041214560001807?did=NA\" onclick=\"return goOtherCR(this, 'a=nws*j.tit&amp;r=28&amp;i=88156f75_000000000000000000795757&amp;g=469.0000795757&amp;u='+urlencode(this.href));\" target=\"_blank\" title=\"쿠팡 와우 멤버십 요금 7,890원으로 올려...‘알테쉬’ 공격적 투자 의식했나\">쿠팡 와우 멤버십 요금 7,890원으로 올려...‘알테쉬’ 공격적 투자 의식... </a>, <a class=\"news_tit\" href=\"https://www.donga.com/news/Economy/article/all/20240412/124456426/1\" onclick=\"return goOtherCR(this, 'a=nws*j.tit&amp;r=29&amp;i=880000A9_000000000000000003558800&amp;g=020.0003558800&amp;u='+urlencode(this.href));\" target=\"_blank\" title=\"쿠팡, ‘무료 배달’ 보름만에 와우멤버십 58% 인상… 회원들 “비용전가”\">쿠팡, ‘무료 배달’ 보름만에 와우멤버십 58% 인상… 회원들 “비용전... </a>, <a class=\"news_tit\" href=\"https://www.hankyung.com/article/2024041275821\" onclick=\"return goOtherCR(this, 'a=nws*j.tit&amp;r=30&amp;i=88000107_000000000000000004972319&amp;g=015.0004972319&amp;u='+urlencode(this.href));\" target=\"_blank\" title=\"[천자칼럼] 쿠팡의 구독료 배짱 인상\">[천자칼럼] 쿠팡의 구독료 배짱 인상 </a>]\n",
            "[<a class=\"news_tit\" href=\"https://www.chosun.com/economy/market_trend/2024/04/12/ZJHMUGW5GFDKXBK2YYRSZN4NFQ/?utm_source=naver&amp;utm_medium=referral&amp;utm_campaign=naver-news\" onclick=\"return goOtherCR(this, 'a=nws*j.tit&amp;r=31&amp;i=880000ED_000000000000000003828032&amp;g=023.0003828032&amp;u='+urlencode(this.href));\" target=\"_blank\" title=\"쿠팡, 中 ‘알테쉬’ 출혈경쟁 비용을 회원에게 떠넘겼다\">쿠팡, 中 ‘알테쉬’ 출혈경쟁 비용을 회원에게 떠넘겼다 </a>, <a class=\"news_tit\" href=\"https://www.sedaily.com/NewsView/2D7VUYMHN8\" onclick=\"return goOtherCR(this, 'a=nws*j.tit&amp;r=32&amp;i=88000108_000000000000000004327037&amp;g=011.0004327037&amp;u='+urlencode(this.href));\" target=\"_blank\" title='쿠팡 멤버십 인상, 1년이면 10만원…\"해지할래요\" vs \"그래도 혜택 많아\"'>쿠팡 멤버십 인상, 1년이면 10만원…\"해지할래요\" vs \"그래도 혜택 많아... </a>, <a class=\"news_tit\" href=\"https://www.hankyung.com/article/2024041277231\" onclick=\"return goOtherCR(this, 'a=nws*j.tit&amp;r=33&amp;i=88000107_000000000000000004972221&amp;g=015.0004972221&amp;u='+urlencode(this.href));\" target=\"_blank\" title='\"멤버십 요금 올려도 혜택 더 커\"…쿠팡의 자신감 통할까'>\"멤버십 요금 올려도 혜택 더 커\"…쿠팡의 자신감 통할까 </a>, <a class=\"news_tit\" href=\"https://www.mk.co.kr/article/10989182\" onclick=\"return goOtherCR(this, 'a=nws*j.tit&amp;r=34&amp;i=880000BC_000000000000000005287500&amp;g=009.0005287500&amp;u='+urlencode(this.href));\" target=\"_blank\" title='쿠팡 멤버십 58% 인상 …\"부담된다\" vs \"여전히 저렴\"'>쿠팡 멤버십 58% 인상 …\"부담된다\" vs \"여전히 저렴\" </a>, <a class=\"news_tit\" href=\"https://www.munhwa.com/news/view.html?no=2024041201071307205001\" onclick=\"return goOtherCR(this, 'a=nws*e.tit&amp;r=35&amp;i=880000C4_000000000000000002631777&amp;g=021.0002631777&amp;u='+urlencode(this.href));\" target=\"_blank\" title=\"쿠팡 요금인상 수익만 연간 4872억…‘수익성 방어’ 포석\">쿠팡 요금인상 수익만 연간 4872억…‘수익성 방어’ 포석 </a>, <a class=\"news_tit\" href=\"https://www.munhwa.com/news/view.html?no=2024041201070107025001\" onclick=\"return goOtherCR(this, 'a=nws*j.tit&amp;r=36&amp;i=880000C4_000000000000000002631752&amp;g=021.0002631752&amp;u='+urlencode(this.href));\" target=\"_blank\" title=\"쿠팡, 와우 멤버십 月 4990원 → 7890원 ‘논란’\">쿠팡, 와우 멤버십 月 4990원 → 7890원 ‘논란’ </a>, <a class=\"news_tit\" href=\"https://www.hani.co.kr/arti/opinion/column/1136275.html\" onclick=\"return goOtherCR(this, 'a=nws*e.tit&amp;r=37&amp;i=88000103_000000000000000002685043&amp;g=028.0002685043&amp;u='+urlencode(this.href));\" target=\"_blank\" title=\"읽지 마, 연결되지 마 [김소민의 그.래.도]\">읽지 마, 연결되지 마 [김소민의 그.래.도] </a>, <a class=\"news_tit\" href=\"https://www.donga.com/news/Opinion/article/all/20240411/124419729/1\" onclick=\"return goOtherCR(this, 'a=nws*e.tit&amp;r=38&amp;i=880000A9_000000000000000003558364&amp;g=020.0003558364&amp;u='+urlencode(this.href));\" target=\"_blank\" title=\"中 쇼핑몰서 韓 제품 더 싸게 산다니[내 생각은/김관택]\">中 쇼핑몰서 韓 제품 더 싸게 산다니[내 생각은/김관택] </a>, <a class=\"news_tit\" href=\"https://www.hankyung.com/article/2024041018811\" onclick=\"return goOtherCR(this, 'a=nws*e.tit&amp;r=39&amp;i=88000107_000000000000000004971053&amp;g=015.0004971053&amp;u='+urlencode(this.href));\" target=\"_blank\" title=\"C커머스, 셀러·바이어 쓸어간다…사수 나선 K커머스\">C커머스, 셀러·바이어 쓸어간다…사수 나선 K커머스 </a>, <a class=\"news_tit\" href=\"http://www.fnnews.com/news/202404101925569159\" onclick=\"return goOtherCR(this, 'a=nws*e.tit&amp;r=40&amp;i=880000FF_000000000000000005169565&amp;g=014.0005169565&amp;u='+urlencode(this.href));\" target=\"_blank\" title=\"이통3사, 구형 단말에 공시지원금 확대\">이통3사, 구형 단말에 공시지원금 확대 </a>]\n",
            "[<a class=\"news_tit\" href=\"https://www.kyeonggi.com/article/20240408580439\" onclick=\"return goOtherCR(this, 'a=nws*e.tit&amp;r=41&amp;i=8822bt6d_000000000000000000038668&amp;g=666.0000038668&amp;u='+urlencode(this.href));\" target=\"_blank\" title=\"[지지대] 중국 ‘알테쉬’의 공습\">[지지대] 중국 ‘알테쉬’의 공습 </a>, <a class=\"news_tit\" href=\"https://www.mk.co.kr/article/10985558\" onclick=\"return goOtherCR(this, 'a=nws*e.tit&amp;r=42&amp;i=880000BC_000000000000000005285275&amp;g=009.0005285275&amp;u='+urlencode(this.href));\" target=\"_blank\" title=\"美 유통공룡, 유료회원에 사활\">美 유통공룡, 유료회원에 사활 </a>, <a class=\"news_tit\" href=\"http://news.heraldcorp.com/view.php?ud=20240408050433\" onclick=\"return goOtherCR(this, 'a=nws*e.tit&amp;r=43&amp;i=8800010E_000000000000000002292085&amp;g=016.0002292085&amp;u='+urlencode(this.href));\" target=\"_blank\" title=\"알리 공습에 이커머스 ‘셀러모시기’ 경쟁\">알리 공습에 이커머스 ‘셀러모시기’ 경쟁 </a>, <a class=\"news_tit\" href=\"https://www.hankyung.com/article/2024040755061\" onclick=\"return goOtherCR(this, 'a=nws*j.tit&amp;r=44&amp;i=88000107_000000000000000004969757&amp;g=015.0004969757&amp;u='+urlencode(this.href));\" target=\"_blank\" title='日서 대박난 K아동복…\"한세 전략 브랜드로\"'>日서 대박난 K아동복…\"한세 전략 브랜드로\" </a>, <a class=\"news_tit\" href=\"https://view.asiae.co.kr/article/2024040310084082746\" onclick=\"return goOtherCR(this, 'a=nws*j.tit&amp;r=45&amp;i=88000385_000000000000000005402010&amp;g=277.0005402010&amp;u='+urlencode(this.href));\" target=\"_blank\" title='\"이 가격 어떻게 이기나\" 中 저가공습에 소상공인은 속수무책'>\"이 가격 어떻게 이기나\" 中 저가공습에 소상공인은 속수무책 </a>, <a class=\"news_tit\" href=\"http://news.mt.co.kr/mtview.php?no=2024040413263081909\" onclick=\"return goOtherCR(this, 'a=nws*e.tit&amp;r=46&amp;i=880000C2_000000000000000005021813&amp;g=008.0005021813&amp;u='+urlencode(this.href));\" target=\"_blank\" title=\"[청계광장]테무가 쏘아올린 해외 사업자 규제 집행력 논란\">[청계광장]테무가 쏘아올린 해외 사업자 규제 집행력 논란 </a>, <a class=\"news_tit\" href=\"https://www.etnews.com/20240404000211\" onclick=\"return goOtherCR(this, 'a=nws*e.tit&amp;r=47&amp;i=880000EA_000000000000000003195300&amp;g=030.0003195300&amp;u='+urlencode(this.href));\" target=\"_blank\" title=\"C커머스 대항마 '아성다이소', e커머스 강화 '잰걸음'\">C커머스 대항마 '아성다이소', e커머스 강화 '잰걸음' </a>, <a class=\"news_tit\" href=\"http://news.mt.co.kr/mtview.php?no=2024040314373559010\" onclick=\"return goOtherCR(this, 'a=nws*e.tit&amp;r=48&amp;i=880000C2_000000000000000005021055&amp;g=008.0005021055&amp;u='+urlencode(this.href));\" target=\"_blank\" title=\"&quot;알리보다 테무가 더 무서워&quot;...美·유럽 평정한 '테무' 韓본격 상륙\">\"알리보다 테무가 더 무서워\"...美·유럽 평정한 '테무' 韓본격 상륙 </a>, <a class=\"news_tit\" href=\"https://www.dt.co.kr/contents.html?article_no=2024040302109919002004&amp;ref=naver\" onclick=\"return goOtherCR(this, 'a=nws*e.tit&amp;r=49&amp;i=880000AD_000000000000000002865266&amp;g=029.0002865266&amp;u='+urlencode(this.href));\" target=\"_blank\" title=\"中 커피서 발기부전 치료제... 식약처 판매중단·회수조치\">中 커피서 발기부전 치료제... 식약처 판매중단·회수조치 </a>, <a class=\"news_tit\" href=\"https://www.hankookilbo.com/News/Read/A2024040209360005515?did=NA\" onclick=\"return goOtherCR(this, 'a=nws*j.tit&amp;r=50&amp;i=88156f75_000000000000000000793982&amp;g=469.0000793982&amp;u='+urlencode(this.href));\" target=\"_blank\" title=\"[르포] 시장 상인도 &quot;마트에서 장 봐요&quot;...대형마트 집중 지원이 '가격 역전' 불렀다\">[르포] 시장 상인도 \"마트에서 장 봐요\"...대형마트 집중 지원이 '가격 ... </a>]\n",
            "[<a class=\"news_tit\" href=\"https://www.mk.co.kr/article/10980697\" onclick=\"return goOtherCR(this, 'a=nws*e.tit&amp;r=51&amp;i=880000BC_000000000000000005282271&amp;g=009.0005282271&amp;u='+urlencode(this.href));\" target=\"_blank\" title=\"한국기업 현지진출 '판' 깔아준 日 재계\">한국기업 현지진출 '판' 깔아준 日 재계 </a>, <a class=\"news_tit\" href=\"http://www.fnnews.com/news/202404011801200695\" onclick=\"return goOtherCR(this, 'a=nws*e.tit&amp;r=52&amp;i=880000FF_000000000000000005165131&amp;g=014.0005165131&amp;u='+urlencode(this.href));\" target=\"_blank\" title=\"쿠팡, 올해는 中企 900곳 판로개척 지원\">쿠팡, 올해는 中企 900곳 판로개척 지원 </a>]\n",
            "[]\n"
          ]
        },
        {
          "output_type": "execute_result",
          "data": {
            "text/plain": [
              "(46, 2)"
            ]
          },
          "metadata": {},
          "execution_count": 133
        }
      ]
    },
    {
      "cell_type": "markdown",
      "source": [
        " - 본문 수집"
      ],
      "metadata": {
        "id": "_B-frm6_5VIh"
      }
    },
    {
      "cell_type": "code",
      "source": [
        "articles = []\n",
        "dates = []\n",
        "\n",
        "for i in result.Url:\n",
        "   try:\n",
        "    if( \"news.naver.com\" in i ):\n",
        "     print(i)\n",
        "     time.sleep(0.15)\n",
        "     html = urllib.request.urlopen(i).read()\n",
        "     soup = BeautifulSoup(html, 'html.parser')\n",
        "     news = soup.select('article#dic_area')[0].text #태그 뒤 id는 #, class는 .\n",
        "     news_date = soup.select('span.media_end_head_info_datestamp_time._ARTICLE_DATE_TIME')[0].text  #네이버 뉴스의 날짜 시간 부분 지정\n",
        "     articles.append(news)\n",
        "     dates.append(news_date.split()[0])\n",
        "   except Exception as e:\n",
        "    print(e)\n",
        "    continue\n",
        "\n"
      ],
      "metadata": {
        "colab": {
          "base_uri": "https://localhost:8080/"
        },
        "outputId": "3f7062af-6fe6-428e-f3e8-276554ef8f91",
        "id": "FUSIQuA25VIh"
      },
      "execution_count": 134,
      "outputs": [
        {
          "output_type": "stream",
          "name": "stdout",
          "text": [
            "https://n.news.naver.com/mnews/article/023/0003829267?sid=105\n"
          ]
        },
        {
          "output_type": "stream",
          "name": "stderr",
          "text": [
            "/usr/local/lib/python3.10/dist-packages/ipykernel/ipkernel.py:283: DeprecationWarning: `should_run_async` will not call `transform_cell` automatically in the future. Please pass the result to `transformed_cell` argument and any exception that happen during thetransform in `preprocessing_exc_tuple` in IPython 7.17 and above.\n",
            "  and should_run_async(code)\n"
          ]
        },
        {
          "output_type": "stream",
          "name": "stdout",
          "text": [
            "https://n.news.naver.com/mnews/article/032/0003291557?sid=101\n",
            "https://n.news.naver.com/mnews/article/014/0005173425?sid=105\n",
            "https://n.news.naver.com/mnews/article/015/0004974559?sid=101\n",
            "https://n.news.naver.com/mnews/article/009/0005290552?sid=103\n",
            "https://n.news.naver.com/mnews/article/023/0003828954?sid=101\n",
            "https://n.news.naver.com/mnews/article/029/0002868269?sid=101\n",
            "https://n.news.naver.com/mnews/article/014/0005172216?sid=110\n",
            "https://n.news.naver.com/mnews/article/016/0002295562?sid=101\n",
            "https://n.news.naver.com/mnews/article/018/0005716058?sid=101\n",
            "https://n.news.naver.com/mnews/article/005/0001688572?sid=101\n",
            "https://n.news.naver.com/mnews/article/082/0001265155?sid=101\n",
            "https://n.news.naver.com/mnews/article/009/0005287949?sid=101\n",
            "https://n.news.naver.com/mnews/article/030/0003197607?sid=101\n",
            "https://n.news.naver.com/mnews/article/030/0003197609?sid=101\n",
            "https://n.news.naver.com/mnews/article/023/0003828032?sid=101\n",
            "https://n.news.naver.com/mnews/article/011/0004327037?sid=101\n",
            "https://n.news.naver.com/mnews/article/015/0004972221?sid=101\n",
            "https://n.news.naver.com/mnews/article/009/0005287500?sid=101\n",
            "https://n.news.naver.com/mnews/article/021/0002631777?sid=101\n",
            "https://n.news.naver.com/mnews/article/666/0000038668?sid=110\n",
            "https://n.news.naver.com/mnews/article/009/0005285275?sid=103\n",
            "https://n.news.naver.com/mnews/article/016/0002292085?sid=101\n",
            "https://n.news.naver.com/mnews/article/015/0004969757?sid=101\n",
            "https://n.news.naver.com/mnews/article/277/0005402010?sid=102\n",
            "https://n.news.naver.com/mnews/article/009/0005282271?sid=104\n"
          ]
        }
      ]
    },
    {
      "cell_type": "code",
      "source": [
        "# 수집된 내용을 표로 정리하기, news컬럼, date컬럼\n",
        "df5 = pd.DataFrame({'news':articles, 'date':dates})\n",
        "df5"
      ],
      "metadata": {
        "id": "7o0ING0F5VIi",
        "colab": {
          "base_uri": "https://localhost:8080/",
          "height": 921
        },
        "outputId": "197201c7-bccb-49fb-a42f-4dfa22f782de"
      },
      "execution_count": 135,
      "outputs": [
        {
          "output_type": "stream",
          "name": "stderr",
          "text": [
            "/usr/local/lib/python3.10/dist-packages/ipykernel/ipkernel.py:283: DeprecationWarning: `should_run_async` will not call `transform_cell` automatically in the future. Please pass the result to `transformed_cell` argument and any exception that happen during thetransform in `preprocessing_exc_tuple` in IPython 7.17 and above.\n",
            "  and should_run_async(code)\n"
          ]
        },
        {
          "output_type": "execute_result",
          "data": {
            "text/plain": [
              "                                                 news         date\n",
              "0   \\n수도권만 대상, 내년 지역 확대\\t\\t\\t\\t\\t\\t\\t네이버가 수도권에서 라면...  2024.04.19.\n",
              "1   \\n‘도착보장’ 앞세워 영토 확장…네이버플러스 이용자엔 3개월간 무료네이버가 물류 ...  2024.04.18.\n",
              "2   \\n'알테쉬' 개인정보 유출 우려국내법 위반 확인 쉽지 않지만글로벌 업체 처벌사례도...  2024.04.18.\n",
              "3   \\n수도권부터 도입…내년 확대일요배송·무료 반품 등 지원네이버가 물류 솔루션 ‘네이...  2024.04.18.\n",
              "4   \\n이커머스 멤버십 강화 '속도전'네이버가 전자상거래(이커머스) 물류 서비스인 '네...  2024.04.18.\n",
              "5   \\n\\n\\n\\n\\n서울 시내의 쿠팡 캠프에서 배송 기사들이 배송준비 작업을 하고 있...  2024.04.18.\n",
              "6   \\n업계, 140만명 겨냥 정책 펼쳐국내 이커머스(전자상거래) 1위 업체인 쿠팡의 ...  2024.04.17.\n",
              "7   \\n\\n\\n\\n\\n이석우 베이징특파원·대기자 \"18위안(3430원) 맞아요?\" 베이...  2024.04.16.\n",
              "8   \\n와우 회원에 월 8만원 혜택쿠플 콘텐츠·특가 행사도 강화‘8만원’. 쿠팡 ‘와우...  2024.04.16.\n",
              "9   \\n와우요금 4980원→7890원 인상에 ‘시끌’무료배달 추진하더니 결국 소비자 전...  2024.04.16.\n",
              "10  \\n월 4990→7890원… 58.1% 인상  “시장 장악한 플랫폼의 전형” 반발 ...  2024.04.15.\n",
              "11  \\n월 회비 58% 인상 발표모기업 주가 10% 상승멤버십 탈퇴 여부 이슈로\\n\\n...  2024.04.14.\n",
              "12  \\nG마켓 통한 가입 고객 대상5월 한달간 80% 할인 행사이마트·스타벅스 등 6개...  2024.04.14.\n",
              "13  \\n\\n\\n\\n\\n알리익스프레스 CI\\n\\n\\n\\n테무 CI알리익스프레스와 테무 등...  2024.04.14.\n",
              "14  \\n\\n\\n\\n\\n〈사진=알리익스프레스〉# 알리익스프레스·테무 등 중국계 e커머스(...  2024.04.14.\n",
              "15  \\n멤버십 요금 단번에 58% 인상\\n\\n\\n\\n서울 시내의 한 쿠팡 캠프에서 배송...  2024.04.12.\n",
              "16  \\n■월 7890원 '58% 인상' 논란알테쉬 대응 수조원 자금 필요한데영업이익률은...  2024.04.12.\n",
              "17  \\n와우 멤버십 58% 전격 인상\"회원 1인당 年 87만원 이득\" VS \"혜택 늘었...  2024.04.12.\n",
              "18  \\n한달 4990원서 7890원으로中기업 공세에 수익성 방어연간 4900억원 추가 ...  2024.04.12.\n",
              "19  \\n\\n\\n\\n\\n■ 와우멤버십 요금 논란유통가 가격인상 신호탄 우려알리·테무 대응...  2024.04.12.\n",
              "20  \\n이연섭 논설위원 \\n\\n\\n\\n “백만장자처럼 쇼핑하라.”   중국 해외 직구 ...  2024.04.09.\n",
              "21  \\n아마존·월마트·타깃…배송·할인 혜택 유치 경쟁미국 대형 유통사들이 '유료 회원제...  2024.04.08.\n",
              "22  \\n알리, 국내 판매자 육성 행보국내 업체들 지원 강화 움직임전통시장·소상공인 입점...  2024.04.08.\n",
              "23  \\n김지원 한세엠케이 대표모이몰른 日 백화점서 러브콜회사도 5년 만에 흑자전환'의류...  2024.04.07.\n",
              "24  \\n알리·테무 등 중국 이커머스 국내 이용자 급증상인들 “기존 온라인 시장과 급이 ...  2024.04.05.\n",
              "25  \\n한경협, 日게이단렌 손잡고도쿄서 스타트업 협력포럼한일 미래기금 사업 일환로톡·뤼...  2024.04.02."
            ],
            "text/html": [
              "\n",
              "  <div id=\"df-2ba2c0e5-6c09-4dfa-83e8-6e37834e08a5\" class=\"colab-df-container\">\n",
              "    <div>\n",
              "<style scoped>\n",
              "    .dataframe tbody tr th:only-of-type {\n",
              "        vertical-align: middle;\n",
              "    }\n",
              "\n",
              "    .dataframe tbody tr th {\n",
              "        vertical-align: top;\n",
              "    }\n",
              "\n",
              "    .dataframe thead th {\n",
              "        text-align: right;\n",
              "    }\n",
              "</style>\n",
              "<table border=\"1\" class=\"dataframe\">\n",
              "  <thead>\n",
              "    <tr style=\"text-align: right;\">\n",
              "      <th></th>\n",
              "      <th>news</th>\n",
              "      <th>date</th>\n",
              "    </tr>\n",
              "  </thead>\n",
              "  <tbody>\n",
              "    <tr>\n",
              "      <th>0</th>\n",
              "      <td>\\n수도권만 대상, 내년 지역 확대\\t\\t\\t\\t\\t\\t\\t네이버가 수도권에서 라면...</td>\n",
              "      <td>2024.04.19.</td>\n",
              "    </tr>\n",
              "    <tr>\n",
              "      <th>1</th>\n",
              "      <td>\\n‘도착보장’ 앞세워 영토 확장…네이버플러스 이용자엔 3개월간 무료네이버가 물류 ...</td>\n",
              "      <td>2024.04.18.</td>\n",
              "    </tr>\n",
              "    <tr>\n",
              "      <th>2</th>\n",
              "      <td>\\n'알테쉬' 개인정보 유출 우려국내법 위반 확인 쉽지 않지만글로벌 업체 처벌사례도...</td>\n",
              "      <td>2024.04.18.</td>\n",
              "    </tr>\n",
              "    <tr>\n",
              "      <th>3</th>\n",
              "      <td>\\n수도권부터 도입…내년 확대일요배송·무료 반품 등 지원네이버가 물류 솔루션 ‘네이...</td>\n",
              "      <td>2024.04.18.</td>\n",
              "    </tr>\n",
              "    <tr>\n",
              "      <th>4</th>\n",
              "      <td>\\n이커머스 멤버십 강화 '속도전'네이버가 전자상거래(이커머스) 물류 서비스인 '네...</td>\n",
              "      <td>2024.04.18.</td>\n",
              "    </tr>\n",
              "    <tr>\n",
              "      <th>5</th>\n",
              "      <td>\\n\\n\\n\\n\\n서울 시내의 쿠팡 캠프에서 배송 기사들이 배송준비 작업을 하고 있...</td>\n",
              "      <td>2024.04.18.</td>\n",
              "    </tr>\n",
              "    <tr>\n",
              "      <th>6</th>\n",
              "      <td>\\n업계, 140만명 겨냥 정책 펼쳐국내 이커머스(전자상거래) 1위 업체인 쿠팡의 ...</td>\n",
              "      <td>2024.04.17.</td>\n",
              "    </tr>\n",
              "    <tr>\n",
              "      <th>7</th>\n",
              "      <td>\\n\\n\\n\\n\\n이석우 베이징특파원·대기자 \"18위안(3430원) 맞아요?\" 베이...</td>\n",
              "      <td>2024.04.16.</td>\n",
              "    </tr>\n",
              "    <tr>\n",
              "      <th>8</th>\n",
              "      <td>\\n와우 회원에 월 8만원 혜택쿠플 콘텐츠·특가 행사도 강화‘8만원’. 쿠팡 ‘와우...</td>\n",
              "      <td>2024.04.16.</td>\n",
              "    </tr>\n",
              "    <tr>\n",
              "      <th>9</th>\n",
              "      <td>\\n와우요금 4980원→7890원 인상에 ‘시끌’무료배달 추진하더니 결국 소비자 전...</td>\n",
              "      <td>2024.04.16.</td>\n",
              "    </tr>\n",
              "    <tr>\n",
              "      <th>10</th>\n",
              "      <td>\\n월 4990→7890원… 58.1% 인상  “시장 장악한 플랫폼의 전형” 반발 ...</td>\n",
              "      <td>2024.04.15.</td>\n",
              "    </tr>\n",
              "    <tr>\n",
              "      <th>11</th>\n",
              "      <td>\\n월 회비 58% 인상 발표모기업 주가 10% 상승멤버십 탈퇴 여부 이슈로\\n\\n...</td>\n",
              "      <td>2024.04.14.</td>\n",
              "    </tr>\n",
              "    <tr>\n",
              "      <th>12</th>\n",
              "      <td>\\nG마켓 통한 가입 고객 대상5월 한달간 80% 할인 행사이마트·스타벅스 등 6개...</td>\n",
              "      <td>2024.04.14.</td>\n",
              "    </tr>\n",
              "    <tr>\n",
              "      <th>13</th>\n",
              "      <td>\\n\\n\\n\\n\\n알리익스프레스 CI\\n\\n\\n\\n테무 CI알리익스프레스와 테무 등...</td>\n",
              "      <td>2024.04.14.</td>\n",
              "    </tr>\n",
              "    <tr>\n",
              "      <th>14</th>\n",
              "      <td>\\n\\n\\n\\n\\n〈사진=알리익스프레스〉# 알리익스프레스·테무 등 중국계 e커머스(...</td>\n",
              "      <td>2024.04.14.</td>\n",
              "    </tr>\n",
              "    <tr>\n",
              "      <th>15</th>\n",
              "      <td>\\n멤버십 요금 단번에 58% 인상\\n\\n\\n\\n서울 시내의 한 쿠팡 캠프에서 배송...</td>\n",
              "      <td>2024.04.12.</td>\n",
              "    </tr>\n",
              "    <tr>\n",
              "      <th>16</th>\n",
              "      <td>\\n■월 7890원 '58% 인상' 논란알테쉬 대응 수조원 자금 필요한데영업이익률은...</td>\n",
              "      <td>2024.04.12.</td>\n",
              "    </tr>\n",
              "    <tr>\n",
              "      <th>17</th>\n",
              "      <td>\\n와우 멤버십 58% 전격 인상\"회원 1인당 年 87만원 이득\" VS \"혜택 늘었...</td>\n",
              "      <td>2024.04.12.</td>\n",
              "    </tr>\n",
              "    <tr>\n",
              "      <th>18</th>\n",
              "      <td>\\n한달 4990원서 7890원으로中기업 공세에 수익성 방어연간 4900억원 추가 ...</td>\n",
              "      <td>2024.04.12.</td>\n",
              "    </tr>\n",
              "    <tr>\n",
              "      <th>19</th>\n",
              "      <td>\\n\\n\\n\\n\\n■ 와우멤버십 요금 논란유통가 가격인상 신호탄 우려알리·테무 대응...</td>\n",
              "      <td>2024.04.12.</td>\n",
              "    </tr>\n",
              "    <tr>\n",
              "      <th>20</th>\n",
              "      <td>\\n이연섭 논설위원 \\n\\n\\n\\n “백만장자처럼 쇼핑하라.”   중국 해외 직구 ...</td>\n",
              "      <td>2024.04.09.</td>\n",
              "    </tr>\n",
              "    <tr>\n",
              "      <th>21</th>\n",
              "      <td>\\n아마존·월마트·타깃…배송·할인 혜택 유치 경쟁미국 대형 유통사들이 '유료 회원제...</td>\n",
              "      <td>2024.04.08.</td>\n",
              "    </tr>\n",
              "    <tr>\n",
              "      <th>22</th>\n",
              "      <td>\\n알리, 국내 판매자 육성 행보국내 업체들 지원 강화 움직임전통시장·소상공인 입점...</td>\n",
              "      <td>2024.04.08.</td>\n",
              "    </tr>\n",
              "    <tr>\n",
              "      <th>23</th>\n",
              "      <td>\\n김지원 한세엠케이 대표모이몰른 日 백화점서 러브콜회사도 5년 만에 흑자전환'의류...</td>\n",
              "      <td>2024.04.07.</td>\n",
              "    </tr>\n",
              "    <tr>\n",
              "      <th>24</th>\n",
              "      <td>\\n알리·테무 등 중국 이커머스 국내 이용자 급증상인들 “기존 온라인 시장과 급이 ...</td>\n",
              "      <td>2024.04.05.</td>\n",
              "    </tr>\n",
              "    <tr>\n",
              "      <th>25</th>\n",
              "      <td>\\n한경협, 日게이단렌 손잡고도쿄서 스타트업 협력포럼한일 미래기금 사업 일환로톡·뤼...</td>\n",
              "      <td>2024.04.02.</td>\n",
              "    </tr>\n",
              "  </tbody>\n",
              "</table>\n",
              "</div>\n",
              "    <div class=\"colab-df-buttons\">\n",
              "\n",
              "  <div class=\"colab-df-container\">\n",
              "    <button class=\"colab-df-convert\" onclick=\"convertToInteractive('df-2ba2c0e5-6c09-4dfa-83e8-6e37834e08a5')\"\n",
              "            title=\"Convert this dataframe to an interactive table.\"\n",
              "            style=\"display:none;\">\n",
              "\n",
              "  <svg xmlns=\"http://www.w3.org/2000/svg\" height=\"24px\" viewBox=\"0 -960 960 960\">\n",
              "    <path d=\"M120-120v-720h720v720H120Zm60-500h600v-160H180v160Zm220 220h160v-160H400v160Zm0 220h160v-160H400v160ZM180-400h160v-160H180v160Zm440 0h160v-160H620v160ZM180-180h160v-160H180v160Zm440 0h160v-160H620v160Z\"/>\n",
              "  </svg>\n",
              "    </button>\n",
              "\n",
              "  <style>\n",
              "    .colab-df-container {\n",
              "      display:flex;\n",
              "      gap: 12px;\n",
              "    }\n",
              "\n",
              "    .colab-df-convert {\n",
              "      background-color: #E8F0FE;\n",
              "      border: none;\n",
              "      border-radius: 50%;\n",
              "      cursor: pointer;\n",
              "      display: none;\n",
              "      fill: #1967D2;\n",
              "      height: 32px;\n",
              "      padding: 0 0 0 0;\n",
              "      width: 32px;\n",
              "    }\n",
              "\n",
              "    .colab-df-convert:hover {\n",
              "      background-color: #E2EBFA;\n",
              "      box-shadow: 0px 1px 2px rgba(60, 64, 67, 0.3), 0px 1px 3px 1px rgba(60, 64, 67, 0.15);\n",
              "      fill: #174EA6;\n",
              "    }\n",
              "\n",
              "    .colab-df-buttons div {\n",
              "      margin-bottom: 4px;\n",
              "    }\n",
              "\n",
              "    [theme=dark] .colab-df-convert {\n",
              "      background-color: #3B4455;\n",
              "      fill: #D2E3FC;\n",
              "    }\n",
              "\n",
              "    [theme=dark] .colab-df-convert:hover {\n",
              "      background-color: #434B5C;\n",
              "      box-shadow: 0px 1px 3px 1px rgba(0, 0, 0, 0.15);\n",
              "      filter: drop-shadow(0px 1px 2px rgba(0, 0, 0, 0.3));\n",
              "      fill: #FFFFFF;\n",
              "    }\n",
              "  </style>\n",
              "\n",
              "    <script>\n",
              "      const buttonEl =\n",
              "        document.querySelector('#df-2ba2c0e5-6c09-4dfa-83e8-6e37834e08a5 button.colab-df-convert');\n",
              "      buttonEl.style.display =\n",
              "        google.colab.kernel.accessAllowed ? 'block' : 'none';\n",
              "\n",
              "      async function convertToInteractive(key) {\n",
              "        const element = document.querySelector('#df-2ba2c0e5-6c09-4dfa-83e8-6e37834e08a5');\n",
              "        const dataTable =\n",
              "          await google.colab.kernel.invokeFunction('convertToInteractive',\n",
              "                                                    [key], {});\n",
              "        if (!dataTable) return;\n",
              "\n",
              "        const docLinkHtml = 'Like what you see? Visit the ' +\n",
              "          '<a target=\"_blank\" href=https://colab.research.google.com/notebooks/data_table.ipynb>data table notebook</a>'\n",
              "          + ' to learn more about interactive tables.';\n",
              "        element.innerHTML = '';\n",
              "        dataTable['output_type'] = 'display_data';\n",
              "        await google.colab.output.renderOutput(dataTable, element);\n",
              "        const docLink = document.createElement('div');\n",
              "        docLink.innerHTML = docLinkHtml;\n",
              "        element.appendChild(docLink);\n",
              "      }\n",
              "    </script>\n",
              "  </div>\n",
              "\n",
              "\n",
              "<div id=\"df-eefc1560-a1fa-4b02-aa43-0252f2b83c66\">\n",
              "  <button class=\"colab-df-quickchart\" onclick=\"quickchart('df-eefc1560-a1fa-4b02-aa43-0252f2b83c66')\"\n",
              "            title=\"Suggest charts\"\n",
              "            style=\"display:none;\">\n",
              "\n",
              "<svg xmlns=\"http://www.w3.org/2000/svg\" height=\"24px\"viewBox=\"0 0 24 24\"\n",
              "     width=\"24px\">\n",
              "    <g>\n",
              "        <path d=\"M19 3H5c-1.1 0-2 .9-2 2v14c0 1.1.9 2 2 2h14c1.1 0 2-.9 2-2V5c0-1.1-.9-2-2-2zM9 17H7v-7h2v7zm4 0h-2V7h2v10zm4 0h-2v-4h2v4z\"/>\n",
              "    </g>\n",
              "</svg>\n",
              "  </button>\n",
              "\n",
              "<style>\n",
              "  .colab-df-quickchart {\n",
              "      --bg-color: #E8F0FE;\n",
              "      --fill-color: #1967D2;\n",
              "      --hover-bg-color: #E2EBFA;\n",
              "      --hover-fill-color: #174EA6;\n",
              "      --disabled-fill-color: #AAA;\n",
              "      --disabled-bg-color: #DDD;\n",
              "  }\n",
              "\n",
              "  [theme=dark] .colab-df-quickchart {\n",
              "      --bg-color: #3B4455;\n",
              "      --fill-color: #D2E3FC;\n",
              "      --hover-bg-color: #434B5C;\n",
              "      --hover-fill-color: #FFFFFF;\n",
              "      --disabled-bg-color: #3B4455;\n",
              "      --disabled-fill-color: #666;\n",
              "  }\n",
              "\n",
              "  .colab-df-quickchart {\n",
              "    background-color: var(--bg-color);\n",
              "    border: none;\n",
              "    border-radius: 50%;\n",
              "    cursor: pointer;\n",
              "    display: none;\n",
              "    fill: var(--fill-color);\n",
              "    height: 32px;\n",
              "    padding: 0;\n",
              "    width: 32px;\n",
              "  }\n",
              "\n",
              "  .colab-df-quickchart:hover {\n",
              "    background-color: var(--hover-bg-color);\n",
              "    box-shadow: 0 1px 2px rgba(60, 64, 67, 0.3), 0 1px 3px 1px rgba(60, 64, 67, 0.15);\n",
              "    fill: var(--button-hover-fill-color);\n",
              "  }\n",
              "\n",
              "  .colab-df-quickchart-complete:disabled,\n",
              "  .colab-df-quickchart-complete:disabled:hover {\n",
              "    background-color: var(--disabled-bg-color);\n",
              "    fill: var(--disabled-fill-color);\n",
              "    box-shadow: none;\n",
              "  }\n",
              "\n",
              "  .colab-df-spinner {\n",
              "    border: 2px solid var(--fill-color);\n",
              "    border-color: transparent;\n",
              "    border-bottom-color: var(--fill-color);\n",
              "    animation:\n",
              "      spin 1s steps(1) infinite;\n",
              "  }\n",
              "\n",
              "  @keyframes spin {\n",
              "    0% {\n",
              "      border-color: transparent;\n",
              "      border-bottom-color: var(--fill-color);\n",
              "      border-left-color: var(--fill-color);\n",
              "    }\n",
              "    20% {\n",
              "      border-color: transparent;\n",
              "      border-left-color: var(--fill-color);\n",
              "      border-top-color: var(--fill-color);\n",
              "    }\n",
              "    30% {\n",
              "      border-color: transparent;\n",
              "      border-left-color: var(--fill-color);\n",
              "      border-top-color: var(--fill-color);\n",
              "      border-right-color: var(--fill-color);\n",
              "    }\n",
              "    40% {\n",
              "      border-color: transparent;\n",
              "      border-right-color: var(--fill-color);\n",
              "      border-top-color: var(--fill-color);\n",
              "    }\n",
              "    60% {\n",
              "      border-color: transparent;\n",
              "      border-right-color: var(--fill-color);\n",
              "    }\n",
              "    80% {\n",
              "      border-color: transparent;\n",
              "      border-right-color: var(--fill-color);\n",
              "      border-bottom-color: var(--fill-color);\n",
              "    }\n",
              "    90% {\n",
              "      border-color: transparent;\n",
              "      border-bottom-color: var(--fill-color);\n",
              "    }\n",
              "  }\n",
              "</style>\n",
              "\n",
              "  <script>\n",
              "    async function quickchart(key) {\n",
              "      const quickchartButtonEl =\n",
              "        document.querySelector('#' + key + ' button');\n",
              "      quickchartButtonEl.disabled = true;  // To prevent multiple clicks.\n",
              "      quickchartButtonEl.classList.add('colab-df-spinner');\n",
              "      try {\n",
              "        const charts = await google.colab.kernel.invokeFunction(\n",
              "            'suggestCharts', [key], {});\n",
              "      } catch (error) {\n",
              "        console.error('Error during call to suggestCharts:', error);\n",
              "      }\n",
              "      quickchartButtonEl.classList.remove('colab-df-spinner');\n",
              "      quickchartButtonEl.classList.add('colab-df-quickchart-complete');\n",
              "    }\n",
              "    (() => {\n",
              "      let quickchartButtonEl =\n",
              "        document.querySelector('#df-eefc1560-a1fa-4b02-aa43-0252f2b83c66 button');\n",
              "      quickchartButtonEl.style.display =\n",
              "        google.colab.kernel.accessAllowed ? 'block' : 'none';\n",
              "    })();\n",
              "  </script>\n",
              "</div>\n",
              "\n",
              "  <div id=\"id_aba87b83-b49c-4f8d-ae52-3bca776e5574\">\n",
              "    <style>\n",
              "      .colab-df-generate {\n",
              "        background-color: #E8F0FE;\n",
              "        border: none;\n",
              "        border-radius: 50%;\n",
              "        cursor: pointer;\n",
              "        display: none;\n",
              "        fill: #1967D2;\n",
              "        height: 32px;\n",
              "        padding: 0 0 0 0;\n",
              "        width: 32px;\n",
              "      }\n",
              "\n",
              "      .colab-df-generate:hover {\n",
              "        background-color: #E2EBFA;\n",
              "        box-shadow: 0px 1px 2px rgba(60, 64, 67, 0.3), 0px 1px 3px 1px rgba(60, 64, 67, 0.15);\n",
              "        fill: #174EA6;\n",
              "      }\n",
              "\n",
              "      [theme=dark] .colab-df-generate {\n",
              "        background-color: #3B4455;\n",
              "        fill: #D2E3FC;\n",
              "      }\n",
              "\n",
              "      [theme=dark] .colab-df-generate:hover {\n",
              "        background-color: #434B5C;\n",
              "        box-shadow: 0px 1px 3px 1px rgba(0, 0, 0, 0.15);\n",
              "        filter: drop-shadow(0px 1px 2px rgba(0, 0, 0, 0.3));\n",
              "        fill: #FFFFFF;\n",
              "      }\n",
              "    </style>\n",
              "    <button class=\"colab-df-generate\" onclick=\"generateWithVariable('df5')\"\n",
              "            title=\"Generate code using this dataframe.\"\n",
              "            style=\"display:none;\">\n",
              "\n",
              "  <svg xmlns=\"http://www.w3.org/2000/svg\" height=\"24px\"viewBox=\"0 0 24 24\"\n",
              "       width=\"24px\">\n",
              "    <path d=\"M7,19H8.4L18.45,9,17,7.55,7,17.6ZM5,21V16.75L18.45,3.32a2,2,0,0,1,2.83,0l1.4,1.43a1.91,1.91,0,0,1,.58,1.4,1.91,1.91,0,0,1-.58,1.4L9.25,21ZM18.45,9,17,7.55Zm-12,3A5.31,5.31,0,0,0,4.9,8.1,5.31,5.31,0,0,0,1,6.5,5.31,5.31,0,0,0,4.9,4.9,5.31,5.31,0,0,0,6.5,1,5.31,5.31,0,0,0,8.1,4.9,5.31,5.31,0,0,0,12,6.5,5.46,5.46,0,0,0,6.5,12Z\"/>\n",
              "  </svg>\n",
              "    </button>\n",
              "    <script>\n",
              "      (() => {\n",
              "      const buttonEl =\n",
              "        document.querySelector('#id_aba87b83-b49c-4f8d-ae52-3bca776e5574 button.colab-df-generate');\n",
              "      buttonEl.style.display =\n",
              "        google.colab.kernel.accessAllowed ? 'block' : 'none';\n",
              "\n",
              "      buttonEl.onclick = () => {\n",
              "        google.colab.notebook.generateWithVariable('df5');\n",
              "      }\n",
              "      })();\n",
              "    </script>\n",
              "  </div>\n",
              "\n",
              "    </div>\n",
              "  </div>\n"
            ],
            "application/vnd.google.colaboratory.intrinsic+json": {
              "type": "dataframe",
              "variable_name": "df5",
              "summary": "{\n  \"name\": \"df5\",\n  \"rows\": 26,\n  \"fields\": [\n    {\n      \"column\": \"news\",\n      \"properties\": {\n        \"dtype\": \"string\",\n        \"num_unique_values\": 26,\n        \"samples\": [\n          \"\\n\\uc640\\uc6b0 \\ud68c\\uc6d0\\uc5d0 \\uc6d4 8\\ub9cc\\uc6d0 \\ud61c\\ud0dd\\ucfe0\\ud50c \\ucf58\\ud150\\uce20\\u00b7\\ud2b9\\uac00 \\ud589\\uc0ac\\ub3c4 \\uac15\\ud654\\u20188\\ub9cc\\uc6d0\\u2019. \\ucfe0\\ud321 \\u2018\\uc640\\uc6b0 \\uba64\\ubc84\\uc2ed\\u2019 \\uac00\\uc785\\uc790\\ub4e4\\uc774 \\ub9e4\\ub2ec \\ubc1b\\ub294 \\ud61c\\ud0dd\\uc758 \\ud3c9\\uade0 \\uae08\\uc561\\uc774\\ub2e4. \\ucd5c\\uadfc \\uba64\\ubc84\\uc2ed \\uc694\\uae08\\uc744 4990\\uc6d0\\uc5d0\\uc11c 7890\\uc6d0\\uc73c\\ub85c \\ubcc0\\uacbd\\ud55c \\ucfe0\\ud321\\uc774 \\uba64\\ubc84\\uc2ed\\uc744 \\uc591\\uc801\\u00b7\\uc9c8\\uc801\\uc73c\\ub85c \\uac15\\ud654\\ud574 \\ud61c\\ud0dd\\uc744 \\ub354 \\ub298\\ub9ac\\uaca0\\ub2e4\\uace0 \\ubc1d\\ud78c \\uac00\\uc6b4\\ub370 \\uc18c\\ube44\\uc790\\uac00 \\ub204\\ub9b4 \\uc218 \\uc788\\ub294 \\uc2e4\\uc775\\uc5d0 \\uad00\\uc2ec\\uc774 \\uc3e0\\ub9b0\\ub2e4.16\\uc77c \\uc5c5\\uacc4\\uc5d0 \\ub530\\ub974\\uba74 \\ucfe0\\ud321 \\uc640\\uc6b0 \\uba64\\ubc84\\uc2ed \\uac00\\uc785\\uc790\\uac00 \\ubc1b\\uc744 \\uc218 \\uc788\\ub294 \\ud61c\\ud0dd\\uc740 \\ud06c\\uac8c 5\\uac00\\uc9c0\\ub2e4. \\ubb34\\ub8cc \\ubc30\\uc1a1\\uacfc \\ubc18\\ud488, \\ubb34\\ub8cc OTT(\\ucfe0\\ud321\\ud50c\\ub808\\uc774), \\ubb34\\ub8cc \\ubc30\\ub2ec(\\ucfe0\\ud321\\uc787\\uce20), \\ubb34\\ub8cc \\uc9c1\\uad6c \\ub4f1\\uc774\\ub2e4. \\uc640\\uc6b0 \\uba64\\ubc84\\uc2ed\\uc5d0 \\uac00\\uc785\\ud558\\uc9c0 \\uc54a\\uc740 \\uc18c\\ube44\\uc790\\ub4e4\\uc740 \\ubb34\\ub8cc \\ubc30\\uc1a1\\uacfc \\ubc18\\ud488\\uc5d0 \\ud68c\\ub2f9 3000\\uc6d0\\u00b75000\\uc6d0\\uc529, \\ubb34\\ub8cc \\ubc30\\ub2ec\\uacfc \\ubb34\\ub8cc \\uc9c1\\uad6c\\ub294 3000\\uc6d0\\u00b72500\\uc6d0 \\uc815\\ub3c4\\ub97c \\ub0b4\\uc57c \\ud55c\\ub2e4. \\ucfe0\\ud321\\ud50c\\ub808\\uc774\\ub294 \\uc6d4 1\\ub9cc2000\\uc6d0\\uc758 \\uc815\\uae30\\uad8c\\uc744 \\ub530\\ub85c \\ub04a\\uc5b4\\uc57c \\ub41c\\ub2e4.\\ud1b5\\uacc4\\uccad \\ub4f1 \\uc790\\ub8cc\\ub97c \\ud1a0\\ub300\\ub85c \\ucd94\\uc0b0\\ud558\\uba74 \\uba64\\ubc84\\uc2ed \\uac00\\uc785\\uc790\\ub294 \\ub9e4\\ub2ec \\ubb34\\ub8cc\\ubc30\\uc1a1(\\uc6d4 13\\ud68c \\uc774\\uc6a9 \\uc2dc)\\uc73c\\ub85c 4\\ub9cc\\uc6d0, \\ubb34\\ub8cc \\ubc18\\ud488(\\uc6d4 2\\ud68c \\uc774\\uc6a9 \\uc2dc)\\uc73c\\ub85c 1\\ub9cc3000\\uc6d0, \\ucfe0\\ud321\\ud50c\\ub808\\uc774\\uc640 \\ucfe0\\ud321\\uc774\\uce20(\\uc6d4 5\\ud68c \\uc8fc\\ubb38 \\uc2dc)\\uc5d0\\uc11c \\uac01\\uac01 1\\ub9cc2000\\uc6d0\\u00b71\\ub9cc5000\\uc6d0\\uc744 \\ud560\\uc778\\ubc1b\\ub294\\ub2e4. \\ubb34\\ub8cc \\uc9c1\\uad6c\\ub3c4 \\uc5f0\\ud3c9\\uade0 4.5\\ud68c \\uc774\\uc6a9\\ud558\\ub294 \\uac83\\uc744 \\uace0\\ub824\\ud558\\uba74 \\uc57d 800\\uc6d0 \\uc815\\ub3c4\\uac00 \\uc774\\ub4dd\\uc774\\ub2e4. \\uc774\\ub97c \\uc885\\ud569\\ud558\\uba74 \\uc640\\uc6b0 \\uba64\\ubc84\\uc2ed \\uac00\\uc785\\uc790\\uac00 \\uc6d4\\ud3c9\\uade0 \\ubc1b\\uc744 \\uc218 \\uc788\\ub294 \\ud61c\\ud0dd\\uc774 \\uc57d 8\\ub9cc\\uc6d0 \\uc218\\uc900\\uc774\\ub77c\\ub294 \\uacb0\\ub860\\uc774 \\ub098\\uc628\\ub2e4.\\ucfe0\\ud321 \\uad00\\uacc4\\uc790\\ub294 \\u201c\\uc9c0\\ub09c\\ud574 1\\ub144\\uac04 \\ucfe0\\ud321\\uc740 \\uc640\\uc6b0 \\ud68c\\uc6d0\\uc5d0\\uac8c \\uc57d 4\\uc870\\uc6d0\\uc758 \\ube44\\uc6a9\\uc808\\uc57d \\ud61c\\ud0dd\\uc744 \\uc81c\\uacf5\\ud588\\ub2e4\\u201d\\uba70 \\u201c\\uc9c0\\ub09c 3\\ub144\\uac04 \\uba64\\ubc84\\uc2ed\\uc73c\\ub85c 3000\\ub9cc\\uc6d0\\uc774 \\ub118\\ub294 \\ud560\\uc778\\uacfc \\ube44\\uc6a9\\uc808\\uc57d \\ud61c\\ud0dd\\uc744 \\ubc1b\\uc740 \\ud68c\\uc6d0\\ub3c4 \\uc788\\ub2e4\\u201d\\uace0 \\uc124\\uba85\\ud588\\ub2e4.\\ucfe0\\ud321\\uc740 \\uc55e\\uc73c\\ub85c \\ub354 \\ub9ce\\uc740 \\ud61c\\ud0dd\\uc744 \\uc81c\\uacf5\\ud558\\uba70 \\uc640\\uc6b0 \\uba64\\ubc84\\uc2ed\\uc758 \\uac00\\uc131\\ube44\\ub97c \\uac15\\ud654\\ud558\\uaca0\\ub2e4\\uace0 \\uac15\\uc870\\ud588\\ub2e4. \\uac00\\uaca9 \\uc778\\uc0c1\\uc73c\\ub85c \\uc778\\ud55c \\uace0\\uac1d \\uc774\\ud0c8\\uc744 \\ub9c9\\uace0, \\ub9cc\\uc871\\ub3c4\\ub97c \\ub192\\uc774\\ub824\\ub294 \\uc804\\ub7b5\\uc774\\ub2e4. \\ubc30\\uc1a1 \\ubd80\\ubb38 \\uc678\\uc5d0 \\uad00\\ub828 \\ucf58\\ud150\\uce20\\ub97c \\ub300\\ud3ed \\ub298\\ub824 \\uc624\\ub974\\ub294 \\uac00\\uaca9\\uc73c\\ub85c \\uccb4\\uac10\\ud560 \\uc218 \\uc788\\ub294 \\uc7a5\\uc810\\uc744 \\uadf9\\ub300\\ud654\\ud558\\uaca0\\ub2e4\\ub294 \\ucde8\\uc9c0\\ub2e4.\\ub300\\ud45c\\uc801\\uc778 \\uac83\\uc774 \\ucfe0\\ud321\\ud50c\\ub808\\uc774\\ub2e4. \\ucfe0\\ud321\\ud50c\\ub808\\uc774\\ub294 \\uc62c\\uc5ec\\ub984 \\ucd95\\uad6c\\uc120\\uc218 \\uae40\\ubbfc\\uc7ac\\uac00 \\uc18d\\ud55c \\ub3c5\\uc77c \\ubd84\\ub370\\uc2a4\\ub9ac\\uac00 \\ud300 \\ubc14\\uc774\\uc5d0\\ub978 \\ubb8c\\ud5e8\\uc744 \\ucc98\\uc74c\\uc73c\\ub85c \\ud55c\\uad6d\\uc5d0 \\ucd08\\uccad\\ud574 \\ucfe0\\ud321\\ud50c\\ub808\\uc774 \\uc2dc\\ub9ac\\uc988 \\uacbd\\uae30\\ub97c \\uc120\\ubcf4\\uc778\\ub2e4. \\ubaa8\\ub4e0 \\uacbd\\uae30 \\uc608\\ub9e4\\ub294 \\uc640\\uc6b0 \\ud68c\\uc6d0\\ub9cc \\uac00\\ub2a5\\ud558\\ub2e4. \\ud558\\ubc18\\uae30\\ubd80\\ud130\\ub294 \\ubd84\\ub370\\uc2a4\\ub9ac\\uac00 \\ubaa8\\ub4e0 \\uacbd\\uae30\\ub97c \\uc0dd\\uc911\\uacc4\\ud560 \\uacc4\\ud68d\\uc774\\ub2e4.\\uc624\\ub9ac\\uc9c0\\ub110 \\ucf58\\ud150\\uce20\\ub3c4 \\ud655\\ub300\\ud55c\\ub2e4. \\ud604\\uc7ac \\ubc29\\uc601 \\uc911\\uc778 \\uc774\\ubcf4\\uc601 \\uc8fc\\uc5f0\\uc758 \\u2018\\ud558\\uc774\\ub4dc\\u2019\\uc5d0 \\uc774\\uc5b4 \\ub958\\uc2b9\\ubc94\\u00b7\\ubc31\\uc724\\uc2dd\\uc774 \\ucd9c\\uc5f0\\ud558\\ub294 \\u2018\\uac00\\uc871\\uacc4\\ud68d\\u2019, \\u2018\\uc0ac\\ub791 \\ud6c4\\uc5d0 \\uc624\\ub294 \\uac83\\ub4e4\\u2019 \\ub4f1\\uc744 \\uc62c\\ud574 \\uc120\\ubcf4\\uc778\\ub2e4. \\ubc15\\ucc2c\\uc6b1 \\uac10\\ub3c5\\uc758 \\uc2e0\\uc791 \\uc2dc\\ub9ac\\uc988 \\u2018\\ub3d9\\uc870\\uc790\\u2019\\ub3c4 15\\uc77c \\ub3c5\\uc810 \\uacf5\\uac1c\\ud588\\ub2e4.\\uc640\\uc6b0 \\ud68c\\uc6d0 \\ud2b9\\uac00 \\ud589\\uc0ac\\ub3c4 \\uac15\\ud654\\ud55c\\ub2e4. \\ucfe0\\ud321\\uc740 5\\uc6d4 \\ud669\\uae08\\uc5f0\\ud734\\ub97c \\uc55e\\ub450\\uace0 \\ub0b4\\ub2ec 7\\uc77c\\uae4c\\uc9c0 \\ud14c\\ub9c8\\ud30c\\ud06c, \\ud2b9\\uae09\\ud638\\ud154 \\ub4f1 \\uc778\\uae30 \\uc5ec\\ud589 \\uc0c1\\ud488 130\\uc5ec \\uac1c\\ub97c \\uc640\\uc6b0 \\uba64\\ubc84\\uc2ed \\ud68c\\uc6d0\\uc5d0\\uac8c \\ucd5c\\ub300 52% \\ud560\\uc778 \\ud310\\ub9e4\\ud558\\uace0 \\uc788\\ub2e4.\\ucfe0\\ud321 \\uad00\\uacc4\\uc790\\ub294 \\u201c\\uc9c0\\ub09c\\ud574 \\uad6d\\ubbfc 1\\uc778\\ub2f9 OTT\\uc5d0 \\ud3c9\\uade0 \\uc6d4 1\\ub9cc2000\\uc6d0\\uc744 \\ub0c8\\ub2e4\\ub294 \\ud1b5\\uacc4\\ub97c \\uace0\\ub824\\ud558\\uba74 \\ucfe0\\ud321\\ud50c\\ub808\\uc774 \\ud558\\ub098\\ub9cc \\ubd10\\ub3c4 \\uc640\\uc6b0 \\uba64\\ubc84\\uc2ed\\uc758 \\uac00\\uc131\\ube44\\ub294 \\ub192\\ub2e4\\u201d\\uba70 \\u201c\\uc55e\\uc73c\\ub85c \\uc640\\uc6b0 \\ud68c\\uc6d0 \\ud2b9\\uac00 \\ub4f1 \\ud61c\\ud0dd\\uc744 \\uc9c0\\uc18d\\uc801\\uc73c\\ub85c \\ub298\\ub9b4 \\uac83\\u201d\\uc774\\ub77c\\uace0 \\uac15\\uc870\\ud588\\ub2e4.\\uc774\\uc5d0 \\ub354\\ud574 \\ucfe0\\ud321\\uc740 3\\uc870\\uc6d0\\uc744 \\ud22c\\uc790\\ud574 \\uc804\\uad6d \\uac01\\uc9c0\\uc5d0 \\ub85c\\ucf13\\ubc30\\uc1a1\\uc744 \\ud655\\ub300\\ud558\\ub294 \\uc0ac\\uc5c5\\uc744 \\uc9c4\\ud589 \\uc911\\uc774\\ub2e4. \\ubb3c\\ub958\\uc13c\\ud130\\ub97c \\ub298\\ub824 \\ud604\\uc7ac \\ub85c\\ucf13\\ubc30\\uc1a1\\uc774 \\uac00\\ub2a5\\ud55c \\uc2dc\\uad70\\uad6c 182\\uacf3\\uc744 2027\\ub144\\uae4c\\uc9c0 230\\uac1c \\uc774\\uc0c1\\uc73c\\ub85c \\ub298\\ub9b4 \\uacc4\\ud68d\\uc774\\ub2e4. \\ub300\\ubd80\\ubd84 \\ud589\\uc815\\uc548\\uc804\\ubd80\\uac00 \\uc9c0\\uc815\\ud55c \\uc778\\uad6c\\uac10\\uc18c\\uc9c0\\uc5ed\\ub4e4\\uc774\\ub2e4. \\uc774\\ub97c \\ud1b5\\ud574 \\uc804\\uad6d\\uc774 \\ucfe0\\uc138\\uad8c(\\ub85c\\ucf13\\ubc30\\uc1a1\\uc774 \\uac00\\ub2a5\\ud55c \\uc9c0\\uc5ed)\\uc774 \\ub41c\\ub2e4\\uba74 \\uc640\\uc6b0 \\uba64\\ubc84\\uc2ed \\ud61c\\ud0dd\\uc740 \\ub354 \\ud655\\ub300\\ub420 \\uac83\\uc73c\\ub85c \\ubcf4\\uc778\\ub2e4. \\uae40\\ubcbc\\ub9ac \\uae30\\uc790\\n\",\n          \"\\n\\u25a0\\uc6d4 7890\\uc6d0 '58% \\uc778\\uc0c1' \\ub17c\\ub780\\uc54c\\ud14c\\uc26c \\ub300\\uc751 \\uc218\\uc870\\uc6d0 \\uc790\\uae08 \\ud544\\uc694\\ud55c\\ub370\\uc601\\uc5c5\\uc774\\uc775\\ub960\\uc740 2%\\ub3c4 \\uc548\\ub3fc '\\uace0\\uc721\\ucc45'\\uace0\\ubb3c\\uac00\\uc5d0 \\ud68c\\uc6d0 \\uc774\\ud0c8\\ub85c \\uc774\\uc5b4\\uc9c8\\uc218\\ub3c4\\ucfe0\\ud321 \\\"\\uc5f097\\ub9cc\\uc6d0 \\uc808\\uc57d\\u00b7\\u00b7\\u00b7\\ud61c\\ud0dd \\ub298\\ub9b4\\uac83\\\"\\n\\n\\n\\n\\ucfe0\\ud321\\uc774 \\uc640\\uc6b0 \\uba64\\ubc84\\uc2ed \\uc11c\\ube44\\uc2a4 \\uc774\\uc6a9\\ub8cc\\ub97c \\uc6d4\\uac04 7890\\uc6d0\\uc73c\\ub85c \\uc804\\uaca9 \\uc778\\uc0c1\\ud588\\ub2e4. \\uac70\\ub9ac\\uc5d0 \\uc8fc\\ucc28\\ub3fc \\uc788\\ub294 \\ucfe0\\ud321 \\ubc30\\ub2ec \\ucc28\\ub7c9. \\uc5f0\\ud569\\ub274\\uc2a4\\n\\n\\n\\n[\\uc11c\\uc6b8\\uacbd\\uc81c] \\ucfe0\\ud321\\uc774 \\uc720\\ub8cc \\uba64\\ubc84\\uc2ed \\uc640\\uc6b0 \\uc11c\\ube44\\uc2a4 \\uc6d4\\uac04 \\uc774\\uc6a9\\ub8cc\\ub97c \\ud604\\ud589 4990\\uc6d0\\uc5d0\\uc11c 7890\\uc6d0\\uc73c\\ub85c \\uc804\\uaca9 \\uc778\\uc0c1\\ud55c\\ub2e4. \\uc9c0\\ub09c\\ud574 \\ucc3d\\ub9bd \\ud6c4 \\ucc98\\uc74c\\uc73c\\ub85c \\uc601\\uc5c5\\uc774\\uc775 \\ud751\\uc790\\ub97c \\uae30\\ub85d\\ud588\\uc9c0\\ub9cc \\uc5ec\\uc804\\ud788 \\uc5c5\\uacc4 \\ucd5c\\uc800 \\uc218\\uc900\\uc778 \\uc218\\uc775\\uc131\\uc744 \\ub04c\\uc5b4\\uc62c\\ub9ac\\ub294 \\ud55c\\ud3b8 \\uc54c\\ub9ac\\uc775\\uc2a4\\ud504\\ub808\\uc2a4\\u00b7\\ud14c\\ubb34 \\ub4f1 \\uc911\\uad6d e\\ucee4\\uba38\\uc2a4\\uc640\\uc758 \\ubcf8\\uaca9\\uc801\\uc778 \\uacbd\\uc7c1\\uc744 \\uc55e\\ub450\\uace0 \\ud22c\\uc790 \\uc5ec\\ub825\\uc744 \\ud655\\ubcf4\\ud558\\uae30 \\uc704\\ud55c \\uac83\\uc73c\\ub85c \\ud480\\uc774\\ub41c\\ub2e4. \\ub2e4\\ub9cc 1400\\ub9cc \\uba85\\uc5d0 \\ub2ec\\ud558\\ub294 \\uc640\\uc6b0 \\ud68c\\uc6d0\\uc744 \\ud655\\ubcf4\\ud574 \\uac15\\ub825\\ud55c \\uc2dc\\uc7a5 \\uc9c0\\ubc30\\ub825\\uc744 \\ubcf4\\uc720\\ud55c \\ucfe0\\ud321\\uc774 \\ubc30\\uc9f1 \\uac00\\uaca9 \\uc778\\uc0c1\\uc5d0 \\ub098\\uc11c\\uba74\\uc11c \\ud68c\\uc6d0\\ub4e4\\uc758 \\uc774\\ud0c8\\uc774 \\uc774\\uc5b4\\uc9c8 \\uc218 \\uc788\\ub2e4\\ub294 \\uad00\\uce21\\ub3c4 \\uc81c\\uae30\\ub418\\uace0 \\uc788\\ub2e4.12\\uc77c \\ucfe0\\ud321\\uc740 \\uc790\\uc0ac \\uc720\\ub8cc \\ud68c\\uc6d0 \\uc11c\\ube44\\uc2a4 \\u2018\\uc640\\uc6b0 \\uba64\\ubc84\\uc2ed\\u2019 \\uc6d4\\uac04 \\uc694\\uae08\\uc744 \\uae30\\uc874 4990\\uc6d0\\uc5d0\\uc11c 7890\\uc6d0\\uc73c\\ub85c \\ubcc0\\uacbd\\ud55c\\ub2e4\\uace0 \\ubc1c\\ud45c\\ud588\\ub2e4. \\ud574\\ub2f9 \\uc694\\uae08\\uc740 \\ub2f9\\uc7a5 13\\uc77c\\ubd80\\ud130 \\uc2e0\\uaddc \\ud68c\\uc6d0\\uc5d0\\uac8c \\uc801\\uc6a9\\ub41c\\ub2e4. \\uae30\\uc874 \\ud68c\\uc6d0\\uc740 \\uc21c\\ucc28\\uc801\\uc73c\\ub85c \\uc548\\ub0b4\\ub97c \\ud1b5\\ud574 \\uc62c 8\\uc6d4\\ubd80\\ud130 \\uc0c8 \\uc694\\uae08\\uc774 \\uc801\\uc6a9\\ub41c\\ub2e4. \\uc640\\uc6b0 \\uba64\\ubc84\\uc2ed\\uc740 \\ucfe0\\ud321\\uc774 2018\\ub144 10\\uc6d4 \\ub860\\uce6d\\ud55c \\uc11c\\ube44\\uc2a4\\ub85c \\ubb34\\ub8cc \\ubc30\\uc1a1\\u00b7\\ubc18\\ud488 \\ubc0f \\uc628\\ub77c\\uc778\\ub3d9\\uc601\\uc0c1\\uc11c\\ube44\\uc2a4(OTT) \\ub4f1 \\ub2e4\\uc591\\ud55c \\ud61c\\ud0dd\\uc744 \\uc81c\\uacf5\\ud55c\\ub2e4. \\ucfe0\\ud321\\uc740 \\ub860\\uce6d \\ub2f9\\uc2dc 2900\\uc6d0\\uc774\\ub358 \\uc694\\uae08\\uc744 2021\\ub144 12\\uc6d4 72.1% \\uc778\\uc0c1\\ud55c 4990\\uc6d0\\uc73c\\ub85c \\ubcc0\\uacbd\\ud588\\uace0 \\uc774\\ubc88\\uc5d0 \\ub610 58.1% \\uc62c\\ub838\\ub2e4.\\uc5c5\\uacc4\\uc5d0\\uc11c\\ub294 \\ucfe0\\ud321\\uc774 4\\u00b710 \\ucd1d\\uc120 \\uc9c1\\ud6c4 \\uae30\\ub2e4\\ub838\\ub2e4\\ub294 \\ub4ef \\uc694\\uae08\\uc744 \\uc62c\\ub9b0 \\uac83\\uc744 \\ub450\\uace0 \\uadf8\\ub3d9\\uc548 \\ub208\\uce58\\ub9cc \\ubcf4\\ub358 \\uc18c\\ube44\\uc7ac\\u00b7\\uc720\\ud1b5 \\uc5c5\\uacc4\\uac00 \\uc904\\uc904\\uc774 \\uac00\\uaca9 \\uc778\\uc0c1\\uc5d0 \\ub098\\uc124 \\uac83\\uc774\\ub77c\\ub294 \\uc6b0\\ub824\\uac00 \\ud604\\uc2e4\\ud654\\ud560 \\uac83\\uc73c\\ub85c \\ubcf4\\uace0 \\uc788\\ub2e4. \\ub2e4\\ub9cc \\ucfe0\\ud321 \\uc785\\uc7a5\\uc5d0\\uc11c\\ub294 \\uc774\\uc6a9\\uc790\\ub4e4\\uc758 \\uac70\\uc13c \\ubc18\\ubc1c\\uc774 \\uc608\\uc0c1\\ub418\\ub294\\ub370\\ub3c4 \\uc218\\uc775\\uc131 \\uac1c\\uc120 \\ubc0f \\uc790\\uae08 \\ud655\\ubcf4\\ub97c \\uc704\\ud574\\uc11c\\ub294 \\uc694\\uae08 \\uc778\\uc0c1\\uc774 \\ubd88\\uac00\\ud53c\\ud558\\ub2e4\\uace0 \\ud310\\ub2e8\\ud588\\uc744 \\uac83\\uc73c\\ub85c \\ubcf4\\uc778\\ub2e4.\\ucfe0\\ud321\\uc740 \\ucd5c\\uadfc \\uc911\\uad6d\\uc758 \\uc720\\ud1b5 \\uacf5\\ub8e1 \\uc54c\\ub9ac\\ubc14\\ubc14\\uac00 \\uc54c\\ub9ac\\uc775\\uc2a4\\ud504\\ub808\\uc2a4\\ub97c \\ud1b5\\ud574 \\uad6d\\ub0b4\\uc2dc\\uc7a5\\uc5d0 \\uc57d 1\\uc870 5000\\uc5b5 \\uc6d0\\uc744 \\ud22c\\uc790\\ud558\\uaca0\\ub2e4\\uace0 \\ubc1d\\ud788\\uc790 \\uadf8 2\\ubc30\\uc778 3\\uc870 \\uc6d0\\uc744 \\ud22c\\uc790\\ud558\\uaca0\\ub2e4\\uba70 \\ub9de\\ubd88\\uc744 \\ub193\\uc558\\ub2e4. \\uc5ec\\uae30\\uc5d0 \\ub354\\ud574 \\ucfe0\\ud321\\uc740 \\uc9c0\\ub09c\\ub2ec 18\\uc77c \\uc640\\uc6b0 \\ud68c\\uc6d0\\uc5d0\\uac8c\\ub294 \\uc74c\\uc2dd \\ubc30\\ub2ec \\uc11c\\ube44\\uc2a4\\uc778 \\ucfe0\\ud321\\uc774\\uce20\\uc758 \\ubc30\\ub2ec\\ub8cc\\ub97c \\ubb34\\ub8cc\\ub85c \\ud558\\uaca0\\ub2e4\\uace0 \\ubc1c\\ud45c\\ud588\\ub2e4. \\ud5a5\\ud6c4 \\uc54c\\ub9ac\\uc775\\uc2a4\\ud504\\ub808\\uc2a4\\uc5d0 \\ub354\\ud574 \\ud14c\\ubb34\\uae4c\\uc9c0 \\uad6d\\ub0b4\\uc2dc\\uc7a5\\uc5d0 \\ud22c\\uc790\\ub97c \\ud558\\uac8c \\ub418\\uba74 \\u2018\\uca50\\uc758 \\uc804\\uc7c1\\u2019\\uc774 \\uac00\\uc18d\\ud654\\ub418\\ub294 \\ub9cc\\ud07c \\uc694\\uae08\\uc744 \\uc62c\\ub824 \\uc790\\uae08\\uc744 \\ub9c8\\ub828\\ud560 \\ud544\\uc694\\uc131\\uc774 \\ucee4\\uc9c4 \\uac83\\uc774\\ub2e4.\\uc774\\ubc88 \\uc778\\uc0c1\\uc5d0 \\ub530\\ub77c \\ucfe0\\ud321 \\uc720\\ub8cc \\uba64\\ubc84\\uc2ed \\uc218\\uc785\\uc740 \\uc5f0\\uac04 8388\\uc5b5 \\uc6d0\\uc5d0\\uc11c 1\\uc870 3260\\uc5b5 \\uc6d0\\uc73c\\ub85c \\ub298\\uc5b4\\ub0a0 \\uac83\\uc73c\\ub85c \\uc804\\ub9dd\\ub41c\\ub2e4. \\ub2e4\\ub9cc \\uc694\\uae08 \\uc778\\uc0c1\\uc5d0 \\ub530\\ub978 \\ud68c\\uc6d0 \\uc774\\ud0c8\\uc774\\ub098 \\ud22c\\uc790 \\uacc4\\ud68d\\uc73c\\ub85c \\uc778\\ud55c \\ube44\\uc6a9 \\uc99d\\uac00\\ubd84\\uc744 \\uace0\\ub824\\ud558\\uba74 \\uba64\\ubc84\\uc2ed \\uc694\\uae08 \\uc778\\uc0c1\\uc5d0 \\ub530\\ub978 \\uc218\\uc775\\uc131 \\uac1c\\uc120 \\ud6a8\\uacfc\\ub294 \\uc9c0\\ucf1c\\ubd10\\uc57c \\ud55c\\ub2e4\\ub294 \\uc9c0\\uc801\\ub3c4 \\ub098\\uc628\\ub2e4.\\ucfe0\\ud321\\uc758 \\uc5f0\\uac04 \\uc601\\uc5c5\\uc774\\uc775\\ub960\\uc740 \\uc9c0\\ub09c\\ud574 \\uae30\\uc900 1.9%\\ub85c \\uad6d\\ub0b4 \\uc8fc\\uc694 \\uc720\\ud1b5 \\uc5c5\\uccb4\\ub4e4 \\uc911 \\ucd5c\\uc800 \\uc218\\uc900\\uc774\\ub2e4. \\uad6d\\ub0b4 \\ucd5c\\uace0 \\uc218\\uc900\\uc758 \\ubb3c\\ub958 \\uc778\\ud504\\ub77c\\ub97c \\uad6c\\ucd95\\ud558\\uae30 \\uc704\\ud574 \\ub300\\uaddc\\ubaa8 \\ud22c\\uc790\\ub97c \\uc774\\uc5b4\\uc624\\ub294 \\uc0c1\\ud669\\uc5d0\\uc11c \\ubb34\\ub8cc \\ubc30\\uc1a1 \\ub4f1\\uc758 \\uc11c\\ube44\\uc2a4\\ub97c \\uc81c\\uacf5\\ud558\\uace0 \\uc788\\ub294 \\ud0d3\\uc774\\ub2e4. \\ub2e4\\ub978 \\uc720\\ud1b5 \\uc5c5\\uccb4\\uc758 \\uacbd\\uc6b0 \\ub7ed\\uc154\\ub9ac\\uc5d0 \\ud2b9\\ud654\\ub41c \\ubc31\\ud654\\uc810 \\uc5c5\\uacc4\\uac00 \\ud604\\ub300\\ubc31\\ud654\\uc810(069960) 7.2%, \\uc2e0\\uc138\\uacc4(004170) 5.7%\\ub85c \\ub192\\uc740 \\ud3b8\\uc774\\ub2e4. \\uc720\\ud1b5 \\uc804\\ubc18\\uc744 \\uc544\\uc6b0\\ub974\\ub294 \\ub86f\\ub370\\uc1fc\\ud551(023530)(3.5%)\\uc774\\ub098 \\uc9c0\\uc810\\uc774 \\ub9ce\\uc544 \\ube44\\uc6a9\\uc774 \\ub9ce\\uc774 \\ub4dc\\ub294 \\ud3b8\\uc758\\uc810 \\uc5c5\\uacc4 GS\\ub9ac\\ud14c\\uc77c(007070)(3.5%)\\ub3c4 \\ucfe0\\ud321\\ubcf4\\ub2e4 \\ub192\\ub2e4. \\uc9c0\\ub09c\\ud574 \\uc601\\uc5c5\\uc774\\uc775\\ub960\\uc774 \\ucfe0\\ud321\\ubcf4\\ub2e4 \\ubd80\\uc9c4\\ud55c \\uc720\\ud1b5 \\uc5c5\\uccb4\\ub294 \\uc774\\ub9c8\\ud2b8 1.1%(\\ubcc4\\ub3c4\\uae30\\uc900\\u00b7\\uc5f0\\uacb0\\uae30\\uc900\\uc740 \\uc601\\uc5c5\\uc801\\uc790) \\uc815\\ub3c4\\ub2e4.\\ub2e4\\ub9cc \\uc774\\ubc88 \\uacb0\\uc815\\uc73c\\ub85c \\uba64\\ubc84\\uc2ed \\ud68c\\uc6d0 \\uc218\\uac00 \\uc904\\uc5b4\\ub4e4 \\ub9ac\\uc2a4\\ud06c\\ub294 \\ucfe0\\ud321\\uc774 \\uac10\\uc218\\ud574\\uc57c \\ud560 \\uac83\\uc73c\\ub85c \\ubcf4\\uc778\\ub2e4. 2021\\ub144 12\\uc6d4 \\uccab \\ubc88\\uc9f8 \\uc778\\uc0c1 \\ub2f9\\uc2dc\\uc5d0\\ub294 \\uac00\\uaca9\\uc744 \\uc62c\\ub824\\ub3c4 5000\\uc6d0 \\uc774\\ud558\\ub77c \\ud68c\\uc6d0 \\uc785\\uc7a5\\uc5d0\\uc11c \\ud070 \\ubd80\\ub2f4\\uc774 \\uc5c6\\uc5c8\\uc9c0\\ub9cc \\uc774\\ubc88\\uc5d0\\ub294 \\uc778\\uc0c1\\ub960\\uc740 \\ub0ae\\uc544\\uc84c\\uc5c8\\uc5b4\\ub3c4 \\uc778\\uc0c1 \\uae08\\uc561\\uc774 \\ucee4\\uc84c\\uae30 \\ub54c\\ubb38\\uc774\\ub2e4. \\ud2b9\\ud788 \\uacbd\\uae30 \\ub454\\ud654\\ub85c \\uad6d\\ub0b4 \\uacbd\\uc81c\\uac00 \\uadf9\\uc2ec\\ud55c \\uc704\\uae30\\uc778 \\uc0c1\\ud669\\uc5d0\\uc11c \\uc720\\ud1b5 \\uc5c5\\uacc4\\ub97c \\ub300\\ud45c\\ud558\\ub294 \\ucfe0\\ud321\\uc758 \\uc694\\uae08 \\uc778\\uc0c1 \\uc18c\\uc2dd\\uc5d0 \\uc628\\ub77c\\uc778\\uc5d0\\uc11c\\ub294 \\uc18c\\ube44\\uc790\\ub4e4\\uc758 \\ubd88\\ub9cc\\uc774 \\uc3df\\uc544\\uc9c0\\uace0 \\uc788\\ub2e4. \\ud2b9\\ud788 \\ucfe0\\ud321\\uc774 \\uc640\\uc6b0 \\ud68c\\uc6d0\\uc5d0\\uac8c \\ubb34\\ub8cc\\ub85c \\uc81c\\uacf5\\ud55c\\ub2e4\\uace0 \\uac15\\uc870\\ud558\\ub294 \\ucfe0\\ud321\\ud50c\\ub808\\uc774\\ub098 \\ucfe0\\ud321\\uc774\\uce20 \\ubc30\\ub2ec \\uc11c\\ube44\\uc2a4\\uc5d0 \\ub300\\ud574 \\u201c\\uc6d0\\ud558\\uc9c0\\ub3c4 \\uc54a\\ub294\\ub370 \\ubb36\\uc5b4\\uc11c \\ud68c\\ube44\\ub97c \\ub0b4\\uac8c \\ud558\\ub294 \\uac83\\uc740 \\uc18c\\ube44\\uc790\\uc758 \\uc11c\\ube44\\uc2a4 \\uc120\\ud0dd\\uad8c \\ubc15\\ud0c8\\u201d\\uc774\\ub77c\\ub294 \\uc9c0\\uc801\\ub3c4 \\ub098\\uc628\\ub2e4. \\uc640\\uc6b0 \\uba64\\ubc84\\uc2ed\\uc744 \\uc774\\uc6a9\\ud558\\ub294 \\ud55c \\ud68c\\uc6d0\\uc740 \\u201c\\uc5f0\\uac04\\uc73c\\ub85c \\uacc4\\uc0b0\\ud558\\uba74 \\uc774\\uc6a9\\ub8cc\\uac00 10\\ub9cc \\uc6d0\\uc5d0 \\uc721\\ubc15\\ud558\\uac8c \\ub41c\\ub2e4\\u201d\\uba70 \\u201c\\uc77c\\ub2e8\\uc740 \\ud574\\uc9c0\\ub97c \\ud558\\uace0 \\ub098\\uc911\\uc5d0 \\ub2e4\\uc2dc \\uac00\\uc785\\uc744 \\uace0\\ubbfc\\ud574\\ubcfc \\uac83\\u201d\\uc774\\ub77c\\uace0 \\ub9d0\\ud588\\ub2e4. \\ud55c \\uc720\\ud1b5 \\uc5c5\\uacc4 \\uad00\\uacc4\\uc790\\ub294 \\u201c\\uc11c\\ube44\\uc2a4 \\uc218\\uc900\\uc744 \\ub192\\uc774\\ub294 \\ud22c\\uc790\\ub97c \\uc704\\ud574 \\uba64\\ubc84\\uc2ed \\ube44\\uc6a9\\uc744 \\uc62c\\ub9b4 \\uc218 \\uc788\\uc9c0\\ub9cc \\ud0c0\\uc774\\ubc0d\\uc774 \\uc88b\\uc9c0 \\uc54a\\ub2e4\\u201d\\uba70 \\u201c\\uc54c\\ub9ac\\uc775\\uc2a4\\ud504\\ub808\\uc2a4\\uac00 \\ucd08\\uc800\\uac00 \\ubc29\\uc2dd\\uc73c\\ub85c \\uc720\\ud1b5 \\ub9c8\\uc9c4\\uc744 \\uc0ac\\uc2e4\\uc0c1 \\ud3ec\\uae30\\ud558\\ub294 \\uc0c1\\ud669\\uc5d0\\uc11c \\u2018\\ucfe0\\ud321\\uc740 \\ube44\\uc2f8\\ub2e4\\u2019\\ub294 \\uc778\\uc2dd\\uc744 \\uc2ec\\uc5b4\\uc904 \\uc218 \\uc788\\ub2e4\\u201d\\uace0 \\uc124\\uba85\\ud588\\ub2e4.\\uc774\\uc5d0 \\ub300\\ud574 \\ucfe0\\ud321 \\uce21\\uc740 \\u201c\\ubb34\\ub8cc \\ubc30\\uc1a1\\u00b7\\ubc18\\ud488, \\uc9c1\\uad6c, OTT, \\uc74c\\uc2dd \\ubc30\\ub2ec \\ub4f1 \\ub2e4\\uc12f \\uac00\\uc9c0 \\uc11c\\ube44\\uc2a4\\ub97c \\ubaa8\\ub450 \\uc77c\\uc0c1\\uc801\\uc73c\\ub85c \\uc0ac\\uc6a9\\ud558\\ub294 \\uc640\\uc6b0 \\ud68c\\uc6d0\\uc740 \\ube44\\uba64\\ubc84\\uc2ed \\ud68c\\uc6d0\\uacfc \\ube44\\uad50\\ud574 \\uc5f0\\ud3c9\\uade0 97\\ub9cc \\uc6d0 \\uc0c1\\ub2f9\\uc758 \\ube44\\uc6a9 \\uc808\\uc57d \\ud61c\\ud0dd\\uc744 \\ub204\\ub9b4 \\uc218 \\uc788\\uc744 \\uac83\\uc73c\\ub85c \\ucd94\\uc815\\ub41c\\ub2e4\\u201d\\uba74\\uc11c \\u201c\\uc640\\uc6b0 \\uba64\\ubc84\\uc2ed\\uc774 \\uc9c0\\uad6c\\uc0c1 \\ucd5c\\uace0\\uc758 \\uc11c\\ube44\\uc2a4\\uac00 \\ub420 \\uc218 \\uc788\\ub3c4\\ub85d \\uace0\\uac1d\\ub4e4\\uc774 \\ub180\\ub784 \\ub9cc\\ud55c \\ud61c\\ud0dd\\uc744 \\uc9c0\\uc18d\\uc801\\uc73c\\ub85c \\uc120\\ubcf4\\uc774\\uaca0\\ub2e4\\u201d\\uace0 \\uc804\\ud588\\ub2e4.\\n\",\n          \"\\n\\uc218\\ub3c4\\uad8c\\ub9cc \\ub300\\uc0c1, \\ub0b4\\ub144 \\uc9c0\\uc5ed \\ud655\\ub300\\t\\t\\t\\t\\t\\t\\t\\ub124\\uc774\\ubc84\\uac00 \\uc218\\ub3c4\\uad8c\\uc5d0\\uc11c \\ub77c\\uba74\\u00b7\\uc989\\uc11d\\ubc25 \\ub4f1 \\uac00\\uacf5\\uc2dd\\ud488\\uacfc \\ud654\\uc7a5\\uc9c0 \\uac19\\uc740 \\uc0dd\\ud544\\ud488\\uc744 \\uc8fc\\ubb38 \\ub2f9\\uc77c \\ubc30\\uc1a1\\ud558\\ub294 \\uc11c\\ube44\\uc2a4\\ub97c \\uc2dc\\uc791\\ud588\\ub2e4. \\uc774\\ucee4\\uba38\\uc2a4 \\uc5c5\\uccb4\\ub4e4\\uc758 \\u2018\\uace0\\uac1d \\uc7a1\\uae30\\u2019 \\uacbd\\uc7c1\\uc774 \\uce58\\uc5f4\\ud574\\uc9c0\\ub294 \\uac00\\uc6b4\\ub370 \\ub124\\uc774\\ubc84\\ub3c4 \\u2018\\ube60\\ub978 \\ubc30\\uc1a1\\u2019\\uc73c\\ub85c \\ub300\\uc751\\uc5d0 \\ub098\\uc11c\\ub294 \\uac83\\uc774\\ub2e4.\\ub124\\uc774\\ubc84\\ub294 \\uc624\\uc804 11\\uc2dc\\uae4c\\uc9c0 \\uc0c1\\ud488\\uc744 \\uc8fc\\ubb38\\ud558\\uba74 \\uadf8\\ub0a0 \\ub3c4\\ucc29\\uc744 \\ubcf4\\uc7a5\\ud558\\ub294 \\u2018\\ub124\\uc774\\ubc84 \\ub3c4\\ucc29\\ubcf4\\uc7a5\\u2019 \\ub2f9\\uc77c \\ubc30\\uc1a1 \\uc11c\\ube44\\uc2a4\\ub97c \\uc9c0\\ub09c 15\\uc77c\\ubd80\\ud130 \\uc2dc\\uc791\\ud588\\ub2e4\\uace0 18\\uc77c \\ubc1d\\ud614\\ub2e4. \\ub300\\uc0c1 \\ud488\\ubaa9\\uc740 \\ud654\\uc7a5\\uc9c0, \\ub77c\\uba74, \\uc989\\uc11d\\ubc25, \\uc138\\uc81c, \\uc758\\ub958, \\uae30\\uc800\\uadc0, \\uc870\\ubbf8\\ub8cc \\uac19\\uc740 \\uc18c\\ube44\\uc7ac \\uc911\\uc2ec\\uc73c\\ub85c, \\uc804\\uccb4 \\ub3c4\\ucc29 \\ubcf4\\uc7a5 \\uc0c1\\ud488\\uc758 50%\\uc5d0 \\ud574\\ub2f9\\ud55c\\ub2e4\\uace0 \\ub124\\uc774\\ubc84 \\uce21\\uc740 \\ubc1d\\ud614\\ub2e4. \\ub9cc\\uc57d \\uad6c\\ub9e4\\uc790\\uac00 \\uc0c1\\ud488\\uc744 \\uc81c\\ub54c \\uc804\\ub2ec\\ubc1b\\uc9c0 \\ubabb\\ud55c\\ub2e4\\uba74 \\ub124\\uc774\\ubc84\\ud398\\uc774 \\ud3ec\\uc778\\ud2b8 1000\\uc6d0\\uc744 \\ubc1b\\ub294\\ub2e4.\\ub2e4\\ub9cc \\uc774\\ubc88 \\uc11c\\ube44\\uc2a4 \\uc9c0\\uc5ed\\uc740 \\uc11c\\uc6b8 \\ubc0f \\uc218\\ub3c4\\uad8c\\uc73c\\ub85c \\ud55c\\uc815\\ub418\\uba70, \\ub124\\uc774\\ubc84\\ub294 \\ub0b4\\ub144\\ubd80\\ud130 \\ub300\\uc0c1 \\uc9c0\\uc5ed\\uc744 \\ud655\\ub300\\ud560 \\uc608\\uc815\\uc774\\ub2e4. \\ub124\\uc774\\ubc84\\ub294 2022\\ub144 CJ\\ub300\\ud55c\\ud1b5\\uc6b4 \\ub4f1\\uacfc \\uc190\\uc7a1\\uace0 \\uc815\\ud574\\uc9c4 \\ub0a0\\uc9dc\\uc5d0 \\ubc30\\uc1a1\\ud558\\ub294 \\u2018\\ub124\\uc774\\ubc84 \\ub3c4\\ucc29\\ubcf4\\uc7a5\\u2019 \\uc11c\\ube44\\uc2a4\\ub97c \\uc2dc\\uc791\\ud588\\uc9c0\\ub9cc, \\ub2f9\\uc77c \\ubc30\\uc1a1 \\ubcf4\\uc7a5\\uc740 \\uc774\\ubc88\\uc774 \\ucc98\\uc74c\\uc774\\ub2e4. \\ub124\\uc774\\ubc84\\ub294 \\ub610 \\ub0b4\\ub2ec 22\\uc77c\\ubd80\\ud130\\ub294 \\ud310\\ub9e4\\uc790\\uc5d0\\uac8c \\uad50\\ud658\\u00b7\\ubc18\\ud488 \\ubc30\\uc1a1\\ube44\\ub97c \\ubcf4\\uc0c1\\ud574\\uc8fc\\ub294 \\ubcf4\\ud5d8 \\uc11c\\ube44\\uc2a4\\uc778 \\u2018\\ubc18\\ud488\\uc548\\uc2ec\\ucf00\\uc5b4\\u2019\\uc758 \\uc774\\uc6a9\\ub8cc\\ub97c \\uc9c0\\uc6d0\\ud574, \\ud310\\ub9e4\\uc790\\uc758 \\ube44\\uc6a9 \\ubd80\\ub2f4\\uc744 \\uc904\\uc5ec\\uc8fc\\uae30\\ub85c \\ud588\\ub2e4.\\ucd5c\\uadfc \\uc54c\\ub9ac\\u00b7\\ud14c\\ubb34 \\ub4f1 \\uc911\\uad6d \\uc774\\ucee4\\uba38\\uc2a4 \\uc5c5\\uccb4\\uc758 \\uacf5\\uc138\\uac00 \\uac70\\uc138\\uc9c0\\uba74\\uc11c \\uad6d\\ub0b4 \\uc5c5\\uccb4\\ub4e4\\uc740 \\ubc30\\ub2ec\\ub8cc\\u00b7\\uc6d4\\ud68c\\ube44 \\ud560\\uc778 \\ub4f1\\uc758 \\ud61c\\ud0dd\\uc744 \\ub0b4\\uc138\\uc6cc \\uace0\\uac1d \\uc720\\uce58 \\uacbd\\uc7c1\\uc744 \\ubc8c\\uc774\\uace0 \\uc788\\ub2e4. \\uc774\\ubc88\\uc5d0 \\ub124\\uc774\\ubc84\\uac00 \\uc8fc\\ubb38 \\ub2e4\\uc74c \\ub0a0 \\ub3c4\\ucc29\\uc744 \\ubcf4\\uc7a5\\ud558\\ub294 \\ucfe0\\ud321\\uc758 \\u2018\\ub85c\\ucf13\\ubc30\\uc1a1\\u2019\\uc744 \\uaca8\\ub0e5\\ud55c \\ub2f9\\uc77c \\ubc30\\uc1a1 \\uc11c\\ube44\\uc2a4\\ub97c \\uc120\\ubcf4\\uc774\\uba74\\uc11c \\uace0\\uac1d \\uc7c1\\ud0c8\\uc804\\uc740 \\ub354\\uc6b1 \\uce58\\uc5f4\\ud574\\uc9c8 \\uc804\\ub9dd\\uc774\\ub2e4.\\n\"\n        ],\n        \"semantic_type\": \"\",\n        \"description\": \"\"\n      }\n    },\n    {\n      \"column\": \"date\",\n      \"properties\": {\n        \"dtype\": \"object\",\n        \"num_unique_values\": 12,\n        \"samples\": [\n          \"2024.04.05.\",\n          \"2024.04.07.\",\n          \"2024.04.19.\"\n        ],\n        \"semantic_type\": \"\",\n        \"description\": \"\"\n      }\n    }\n  ]\n}"
            }
          },
          "metadata": {},
          "execution_count": 135
        }
      ]
    },
    {
      "cell_type": "markdown",
      "source": [
        "- 전처리 및 명사 추출"
      ],
      "metadata": {
        "id": "pS8kL3ZJg0_6"
      }
    },
    {
      "cell_type": "code",
      "source": [
        "df5_1 = df5.dropna(how = 'any') # Null 값이 존재하는 행 제거"
      ],
      "metadata": {
        "colab": {
          "base_uri": "https://localhost:8080/"
        },
        "outputId": "6ba30946-6c47-4c1d-fecd-e9e51fdd9084",
        "id": "eH6YwyTwg0_7"
      },
      "execution_count": 136,
      "outputs": [
        {
          "output_type": "stream",
          "name": "stderr",
          "text": [
            "/usr/local/lib/python3.10/dist-packages/ipykernel/ipkernel.py:283: DeprecationWarning: `should_run_async` will not call `transform_cell` automatically in the future. Please pass the result to `transformed_cell` argument and any exception that happen during thetransform in `preprocessing_exc_tuple` in IPython 7.17 and above.\n",
            "  and should_run_async(code)\n"
          ]
        }
      ]
    },
    {
      "cell_type": "code",
      "source": [
        "df5_1['news'] = df5_1['news'].str.replace(\"[^ㄱ-ㅎㅏ-ㅣ가-힣 ]\",\"\")"
      ],
      "metadata": {
        "id": "I1608qgirVqB",
        "colab": {
          "base_uri": "https://localhost:8080/"
        },
        "outputId": "19d48217-24cc-41b7-a60e-d8b68375d6ec"
      },
      "execution_count": 137,
      "outputs": [
        {
          "output_type": "stream",
          "name": "stderr",
          "text": [
            "/usr/local/lib/python3.10/dist-packages/ipykernel/ipkernel.py:283: DeprecationWarning: `should_run_async` will not call `transform_cell` automatically in the future. Please pass the result to `transformed_cell` argument and any exception that happen during thetransform in `preprocessing_exc_tuple` in IPython 7.17 and above.\n",
            "  and should_run_async(code)\n"
          ]
        }
      ]
    },
    {
      "cell_type": "code",
      "source": [
        "#값을 저장할 비어있는 리스트를 만듬.\n",
        "tokenized_data5 = []\n",
        "# 불용어 정의\n",
        "stopwords = ['을', 'ㅋㅋ',\n",
        "             '부터', '까지' '적', '의','가','이','은',\n",
        "             '들','는','좀','잘','걍','과','도','를','으로',\n",
        "             '자','에','와','한','하다', '점', '나']\n",
        "# 형태소 분석기 OKT를 사용한 토큰화 작업 (다소 시간 소요)\n",
        "okt = Okt()\n",
        "for sentence in tqdm(df5_1['news']): #각각에 대해서 아래작업 반복\n",
        "    tokenized_sentence = okt.nouns(sentence)  #각 문헌에서 명사만 뽑아서 리스트\n",
        "    #stopwords 아닌 명사만 사용함\n",
        "    stopwords_removed_sentence = [word for word in tokenized_sentence\n",
        "                                  if not word in stopwords] # 불용어 제거\n",
        "    tokenized_data5.append(stopwords_removed_sentence)\n",
        "\n",
        "len(tokenized_data5)"
      ],
      "metadata": {
        "colab": {
          "base_uri": "https://localhost:8080/"
        },
        "outputId": "64c63f80-01c9-4e3f-d469-d6e0f74355ae",
        "id": "3CpdxkUtg0_7"
      },
      "execution_count": 138,
      "outputs": [
        {
          "output_type": "stream",
          "name": "stderr",
          "text": [
            "/usr/local/lib/python3.10/dist-packages/ipykernel/ipkernel.py:283: DeprecationWarning: `should_run_async` will not call `transform_cell` automatically in the future. Please pass the result to `transformed_cell` argument and any exception that happen during thetransform in `preprocessing_exc_tuple` in IPython 7.17 and above.\n",
            "  and should_run_async(code)\n",
            "100%|██████████| 26/26 [00:02<00:00, 11.07it/s]\n"
          ]
        },
        {
          "output_type": "execute_result",
          "data": {
            "text/plain": [
              "26"
            ]
          },
          "metadata": {},
          "execution_count": 138
        }
      ]
    },
    {
      "cell_type": "code",
      "source": [
        "dictionary5 = corpora.Dictionary(tokenized_data5) #사전 구성\n",
        "corpus5 = [dictionary5.doc2bow(text) for text in tokenized_data5]\n",
        "\n",
        "NUM_TOPICS = 3\n",
        "ldamodel5 = gensim.models.ldamodel.LdaModel(corpus5, num_topics = NUM_TOPICS,\n",
        "                                           id2word=dictionary5, passes=15)\n",
        "\n",
        "#각 토픽의 출현확률이 높은 단어를 지정된 갯수만큼 반환\n",
        "topics5 = ldamodel5.print_topics(num_words=20)\n",
        "\n",
        "#위 내용을 출력\n",
        "for topic in topics5:\n",
        "    print(topic)"
      ],
      "metadata": {
        "colab": {
          "base_uri": "https://localhost:8080/"
        },
        "outputId": "52cd8d3a-00f6-4f8a-f163-aa663384a5c1",
        "id": "Pr6VmnZVg0_8"
      },
      "execution_count": 139,
      "outputs": [
        {
          "output_type": "stream",
          "name": "stderr",
          "text": [
            "/usr/local/lib/python3.10/dist-packages/ipykernel/ipkernel.py:283: DeprecationWarning: `should_run_async` will not call `transform_cell` automatically in the future. Please pass the result to `transformed_cell` argument and any exception that happen during thetransform in `preprocessing_exc_tuple` in IPython 7.17 and above.\n",
            "  and should_run_async(code)\n"
          ]
        },
        {
          "output_type": "stream",
          "name": "stdout",
          "text": [
            "(0, '0.025*\"배송\" + 0.023*\"네이버\" + 0.015*\"멤버십\" + 0.014*\"쿠팡\" + 0.013*\"서비스\" + 0.012*\"상품\" + 0.012*\"무료\" + 0.010*\"등\" + 0.009*\"보장\" + 0.009*\"도착\" + 0.008*\"고객\" + 0.008*\"반품\" + 0.008*\"할인\" + 0.008*\"마켓\" + 0.008*\"판매\" + 0.007*\"신세계\" + 0.007*\"수\" + 0.007*\"회원\" + 0.007*\"회비\" + 0.007*\"주문\"')\n",
            "(1, '0.017*\"국내\" + 0.014*\"알리\" + 0.014*\"익스\" + 0.014*\"스\" + 0.014*\"프레\" + 0.013*\"커머스\" + 0.011*\"등\" + 0.009*\"것\" + 0.009*\"수\" + 0.008*\"한국\" + 0.007*\"중국\" + 0.007*\"매출\" + 0.007*\"테무\" + 0.006*\"위\" + 0.006*\"시장\" + 0.006*\"지난해\" + 0.005*\"고\" + 0.005*\"며\" + 0.005*\"경쟁\" + 0.004*\"이커머스\"')\n",
            "(2, '0.034*\"쿠팡\" + 0.018*\"멤버십\" + 0.016*\"등\" + 0.016*\"인상\" + 0.015*\"회원\" + 0.013*\"것\" + 0.012*\"와우\" + 0.011*\"무료\" + 0.011*\"배송\" + 0.011*\"혜택\" + 0.009*\"요금\" + 0.009*\"서비스\" + 0.008*\"중국\" + 0.008*\"소비자\" + 0.007*\"가격\" + 0.007*\"배달\" + 0.006*\"월\" + 0.006*\"수\" + 0.006*\"알리\" + 0.006*\"국내\"')\n"
          ]
        }
      ]
    },
    {
      "cell_type": "code",
      "source": [
        "pyLDAvis.enable_notebook()\n",
        "vis5 = pyLDAvis.gensim_models.prepare(ldamodel5, corpus5, dictionary5)\n",
        "pyLDAvis.display(vis5)"
      ],
      "metadata": {
        "colab": {
          "base_uri": "https://localhost:8080/",
          "height": 916
        },
        "outputId": "5c043620-2f46-45e7-bbc8-7aec1f2a066d",
        "id": "AaO56G-wg0_8"
      },
      "execution_count": 140,
      "outputs": [
        {
          "output_type": "stream",
          "name": "stderr",
          "text": [
            "/usr/local/lib/python3.10/dist-packages/ipykernel/ipkernel.py:283: DeprecationWarning: `should_run_async` will not call `transform_cell` automatically in the future. Please pass the result to `transformed_cell` argument and any exception that happen during thetransform in `preprocessing_exc_tuple` in IPython 7.17 and above.\n",
            "  and should_run_async(code)\n"
          ]
        },
        {
          "output_type": "execute_result",
          "data": {
            "text/plain": [
              "<IPython.core.display.HTML object>"
            ],
            "text/html": [
              "\n",
              "<link rel=\"stylesheet\" type=\"text/css\" href=\"https://cdn.jsdelivr.net/gh/bmabey/pyLDAvis@3.4.0/pyLDAvis/js/ldavis.v1.0.0.css\">\n",
              "\n",
              "\n",
              "<div id=\"ldavis_el4351388952304414405649566340\" style=\"background-color:white;\"></div>\n",
              "<script type=\"text/javascript\">\n",
              "\n",
              "var ldavis_el4351388952304414405649566340_data = {\"mdsDat\": {\"x\": [-0.030749546678022717, -0.08941485294232494, 0.12016439962034767], \"y\": [-0.09224777318428362, 0.06642582850281979, 0.025821944681463895], \"topics\": [1, 2, 3], \"cluster\": [1, 1, 1], \"Freq\": [53.968044096512045, 27.054762015847512, 18.977193887640436]}, \"tinfo\": {\"Term\": [\"\\ub124\\uc774\\ubc84\", \"\\ubc30\\uc1a1\", \"\\uad6d\\ub0b4\", \"\\ucee4\\uba38\\uc2a4\", \"\\uc775\\uc2a4\", \"\\uc2a4\", \"\\ud504\\ub808\", \"\\uba64\\ubc84\\uc2ed\", \"\\ubcf4\\uc7a5\", \"\\uc54c\\ub9ac\", \"\\ub3c4\\ucc29\", \"\\uc0c1\\ud488\", \"\\ub9c8\\ucf13\", \"\\uc778\\uc0c1\", \"\\uc2e0\\uc138\\uacc4\", \"\\uace0\\uac1d\", \"\\uceec\\ub9ac\", \"\\ub9e4\\ucd9c\", \"\\ud560\\uc778\", \"\\ud68c\\uc6d0\", \"\\uc640\\uc6b0\", \"\\uc140\\ub7ec\", \"\\ucfe0\\ud321\", \"\\ud68c\\ube44\", \"\\ud55c\\uad6d\", \"\\ud310\\ub9e4\", \"\\ucfe0\\ud3f0\", \"\\uc218\\ub3c4\\uad8c\", \"\\uc9c0\\uae09\", \"\\uc720\\ub8cc\", \"\\uc6d0\", \"\\uc5f0\\uac04\", \"\\uce20\", \"\\uac1c\\uc778\\uc815\\ubcf4\", \"\\ucf00\\uc774\", \"\\uc5e0\", \"\\ubaa8\\uc774\", \"\\uc6b0\\ub824\", \"\\uc808\\uc57d\", \"\\ub960\", \"\\ubc30\\ub2ec\", \"\\ube44\\ud310\", \"\\uc8fc\\uac00\", \"\\uc218\\uc9d1\", \"\\ub17c\\ub780\", \"\\ud3ed\", \"\\uc0ac\\uc2e4\", \"\\uc2e4\\uc81c\", \"\\uc790\\uae08\", \"\\ub9cc\\ud07c\", \"\\ubcc0\\uacbd\", \"\\uccab\", \"\\uc778\\uc0c1\", \"\\uc640\\uc6b0\", \"\\uc0ac\\uc774\", \"\\uc5f0\", \"\\uac1c\\uc778\\uc815\\ubcf4\\ubcf4\\ud638\\ubc95\", \"\\uc608\\uc2a4\", \"\\uc900\\uc218\", \"\\ud504\\ub9ac\\ubbf8\\uc5c4\", \"\\ud3c9\\uade0\", \"\\uc74c\\uc2dd\", \"\\ucfe0\\ud321\", \"\\uc694\\uae08\", \"\\uae30\\uc900\", \"\\uac00\\uc785\\uc790\", \"\\ud68c\\uc6d0\", \"\\uc218\\uc775\", \"\\ud61c\\ud0dd\", \"\\uac00\\uaca9\", \"\\uc26c\", \"\\uc18c\\ube44\\uc790\", \"\\uba64\\ubc84\\uc2ed\", \"\\uac83\", \"\\uba85\", \"\\ub4f1\", \"\\ud22c\\uc790\", \"\\uc911\\uad6d\", \"\\ubb34\\ub8cc\", \"\\uc6d4\", \"\\uadf8\", \"\\uc11c\\ube44\\uc2a4\", \"\\ud50c\\ub808\\uc774\", \"\\ube44\\uc6a9\", \"\\ubc30\\uc1a1\", \"\\uc57d\", \"\\uc218\", \"\\uc2dc\\uc7a5\", \"\\ud55c\\uad6d\", \"\\uc54c\\ub9ac\", \"\\uc5c5\\uccb4\", \"\\uace0\", \"\\uc774\\ucee4\\uba38\\uc2a4\", \"\\uad6d\\ub0b4\", \"\\ud14c\\ubb34\", \"\\ud68c\\ube44\", \"\\uc774\\uc6a9\", \"\\ub124\\uc774\\ubc84\", \"\\ubcf4\\uc7a5\", \"\\uceec\\ub9ac\", \"\\uc218\\ub3c4\\uad8c\", \"\\uc9c0\\uae09\", \"\\uc720\\ub2c8\\ubc84\\uc2a4\", \"\\uc625\\uc158\", \"\\uc77c\\uc694\", \"\\uad50\\ud658\", \"\\ubc84\\uc2a4\", \"\\ub9c8\\ucf13\", \"\\uc2e0\\uc138\\uacc4\", \"\\uc801\\ub9bd\\uae08\", \"\\ud074\\ub7fd\", \"\\ucf00\\uc5b4\", \"\\uc548\\uc2ec\", \"\\ud0c0\\uae43\", \"\\ucfe0\\ud3f0\", \"\\ub2f9\\uc77c\", \"\\uc9c0\\uc6d0\", \"\\uc6d4\\ub9c8\\ud2b8\", \"\\ubcf4\\uc0c1\", \"\\ud488\\ubaa9\", \"\\uc81c\\ub54c\", \"\\ud3ec\\uc778\\ud2b8\", \"\\ucc3d\\uace0\", \"\\uc2a4\\ub9c8\\uc77c\", \"\\uc624\\ud508\\ub9c8\\ucf13\", \"\\ub3c4\\ucc29\", \"\\uc778\\ud558\", \"\\ud50c\\ub7ec\\uc2a4\", \"\\ub300\\uc0c1\", \"\\uc140\\ub7ec\", \"\\uace0\\uac1d\", \"\\ubc30\\uc1a1\\ube44\", \"\\ub0b4\\ub144\", \"\\uc0c1\\ud488\", \"\\ud560\\uc778\", \"\\ubc30\\uc1a1\", \"\\ud310\\ub9e4\", \"\\uc8fc\\ubb38\", \"\\uc2dc\\uc791\", \"\\uac00\\uc785\", \"\\ubc18\\ud488\", \"\\uc11c\\ube44\\uc2a4\", \"\\ub2ec\", \"\\uba64\\ubc84\\uc2ed\", \"\\ubb34\\ub8cc\", \"\\ud68c\\ube44\", \"\\uc720\\ub8cc\", \"\\ucfe0\\ud321\", \"\\ub4f1\", \"\\uc218\", \"\\ubb3c\\ub958\", \"\\uacbd\\uc7c1\", \"\\uc81c\\uacf5\", \"\\ud68c\\uc6d0\", \"\\uc774\\ucee4\\uba38\\uc2a4\", \"\\ud61c\\ud0dd\", \"\\uc2a4\\ud0c0\\ud2b8\\uc5c5\", \"\\ub9e4\\uc7a5\", \"\\ud55c\\uc77c\", \"\\ub2e8\\ub80c\", \"\\uac8c\\uc774\", \"\\ud611\\ub825\", \"\\ub3c4\\ucfc4\", \"\\uc591\\uad6d\", \"\\uad6c\\uc870\", \"\\uad50\\uc218\", \"\\ub300\\uae30\\uc5c5\", \"\\ubbf8\\ub798\", \"\\ud3ec\\ub7fc\", \"\\ud611\", \"\\uc6cd\\uc2a4\", \"\\uae30\\uae08\", \"\\uac01\\uc790\", \"\\uc0ac\\ud68c\", \"\\ubca0\\ub274\", \"\\uc0ac\\uc9c4\", \"\\uac70\\uc810\", \"\\uc0c1\\uc778\", \"\\uc124\\ub9bd\", \"\\uc544\\uc0ac\\ud788\", \"\\ucfe0\\ub77c\", \"\\uae40\\ucc3d\\ubc94\", \"\\ubd80\\ud68c\\uc7a5\", \"\\ub9c8\\uc0ac\\uce74\", \"\\uc18c\\uac1c\", \"\\ub77c\\ucfe0\\ud150\", \"\\ucee4\\uba38\\uc2a4\", \"\\ub9e4\\ucd9c\", \"\\uc775\\uc2a4\", \"\\uc2a4\", \"\\ud504\\ub808\", \"\\ucd94\\uc0b0\", \"\\ubaa8\\ubc14\\uc77c\", \"\\uad6d\\ub0b4\", \"\\uc194\\ub8e8\\uc158\", \"\\uc54c\\ub9ac\", \"\\uc0ac\\uc5c5\", \"\\uc785\\uc810\", \"\\uc637\", \"\\uc0ac\\uc6a9\\uc790\", \"\\ud55c\\uad6d\", \"\\uc77c\\ubcf8\", \"\\uc2dc\\uac04\", \"\\ud14c\\ubb34\", \"\\uba70\", \"\\uc218\", \"\\uc704\", \"\\uc9c0\\ub09c\\ud574\", \"\\uac83\", \"\\ub4f1\", \"\\uc911\\uad6d\", \"\\uc2dc\\uc7a5\", \"\\uc720\\ud1b5\", \"\\uace0\", \"\\uacbd\\uc7c1\", \"\\uc774\\ucee4\\uba38\\uc2a4\", \"\\ubb3c\\ub958\", \"\\uc5c5\\uccb4\", \"\\uc18c\\ube44\\uc790\", \"\\ubc30\\uc1a1\", \"\\uac00\\uaca9\", \"\\ub9d0\", \"\\uc11c\\ube44\\uc2a4\"], \"Freq\": [53.0, 113.0, 64.0, 30.0, 42.0, 42.0, 42.0, 117.0, 21.0, 62.0, 23.0, 40.0, 19.0, 79.0, 18.0, 26.0, 15.0, 18.0, 27.0, 83.0, 62.0, 18.0, 190.0, 35.0, 39.0, 28.0, 11.0, 10.0, 10.0, 32.0, 14.38871567835314, 11.747267234243264, 10.86665951529811, 24.092639489147672, 9.107377976135599, 9.10734833784092, 9.10564731142846, 9.104623731751515, 9.102470721345203, 8.224699810605024, 30.2471118260092, 7.337163081768167, 6.4641115402003315, 6.462107250522675, 6.460347476776119, 6.459267266786127, 6.453763541315318, 5.580980861420642, 5.580462191263762, 5.579941404085834, 5.579560340297106, 5.563147605363435, 72.15324286385541, 56.605476156133584, 4.7004149536411965, 4.699622129258538, 4.699471291508833, 4.699132568141074, 4.698864235723178, 4.698661530957786, 9.985457971948856, 9.983893493394023, 152.94831807315745, 43.1699968378361, 13.513441793939656, 13.51381968219681, 67.21395331095272, 13.513347586502997, 49.34078717293938, 32.01691813531428, 15.274099396783685, 34.67227858324429, 82.15880936023333, 58.59779619678216, 11.744471707948735, 72.68537727460355, 17.04093340853668, 38.05013809162361, 50.31579815298927, 29.21777808585509, 14.382310631170938, 41.710120293008735, 14.39233895987763, 14.3922765077567, 49.937740534150144, 17.924618217575812, 28.70408716248139, 22.338454678159394, 22.337908486728885, 28.23456153222126, 21.16948646368906, 21.452820092734605, 22.339936592893338, 26.145063874383897, 19.52338827935243, 19.657641286163393, 17.57662759017785, 52.26991370106776, 20.759274292934112, 15.139918470529954, 9.722980563139064, 9.72137271566309, 8.919560935746695, 8.894135189274316, 7.358191925968147, 6.569504002083368, 6.55161232111062, 17.51666514165172, 16.726698368784405, 5.761553747050778, 5.761172214926941, 4.993330590743036, 4.993229768624081, 4.992828602719184, 10.450571344222283, 9.725207140039787, 9.72149900863315, 3.4163521943792547, 3.416165673459187, 3.416133304252575, 3.415960845364888, 3.4158276540393206, 3.4142232557411, 3.413257751291418, 3.412707474779014, 19.977962303015023, 4.075045649831512, 8.066890764530035, 10.252088675704668, 14.075337716479002, 19.18787560489042, 6.470333243307829, 5.764994434520816, 27.413389809173115, 18.48153918776848, 56.74139802502364, 17.245825091573412, 15.228686509200212, 12.095782436196018, 13.352905844029914, 18.836186828264438, 29.350174224024258, 11.861247900510845, 35.068437606409205, 27.281452923022506, 16.065501606247025, 15.051030506602412, 31.647386040001166, 23.530235449171823, 16.598294501939087, 13.326931943616056, 13.34808124031653, 12.857596489594577, 16.110392920033323, 13.404423824245242, 13.161465865842704, 5.394802092535881, 5.392985697449483, 4.658767909922687, 3.924177910288022, 3.924010414839481, 3.923737211152306, 3.9230988673873117, 3.1879304501370194, 3.1876025312699876, 3.187566426695524, 2.4526295253763264, 2.4525070675928378, 2.4523862847638345, 2.4523592993860137, 2.4523993121876098, 2.4521337388486457, 2.451452032373085, 2.4512041391092443, 2.449981422334897, 2.4494649780352296, 2.44837886310447, 4.235920439112061, 4.23541236958482, 1.7168177394975837, 1.7168179256036376, 1.7167980122558666, 1.7167933596045184, 1.7167812627110126, 1.716751671848437, 1.7167155672739738, 20.11230109800484, 11.290082074159946, 22.401177767585033, 22.394312687467508, 22.387575648315092, 3.190212854782468, 3.1889715274027273, 26.972984646110117, 3.9235685990674414, 22.91428258022054, 7.12395587181849, 5.76692300843778, 3.9251817663429427, 3.9235406831593513, 12.538395130741288, 6.872715676704233, 4.661586300003465, 10.551226895981218, 7.866685778040128, 14.300328141515429, 9.433511901687634, 9.08664222739563, 15.083496659984313, 17.505561243698818, 11.420450853789259, 9.265704539400494, 6.8666017206203875, 8.35049898663483, 7.659897386120153, 7.12946833313602, 6.466046405162103, 6.2974224095102995, 6.284156025561656, 6.964674400074181, 5.57452508103221, 5.498960067741214, 5.528739269643327], \"Total\": [53.0, 113.0, 64.0, 30.0, 42.0, 42.0, 42.0, 117.0, 21.0, 62.0, 23.0, 40.0, 19.0, 79.0, 18.0, 26.0, 15.0, 18.0, 27.0, 83.0, 62.0, 18.0, 190.0, 35.0, 39.0, 28.0, 11.0, 10.0, 10.0, 32.0, 14.912694059148404, 12.26714026640596, 11.385257474373345, 25.35238924107384, 9.621762540377208, 9.621735705639335, 9.621537333034503, 9.62142883441816, 9.621020133496824, 8.739649253794955, 32.36440318973597, 7.856964553959363, 6.976001130988132, 6.975722837882422, 6.975413928412907, 6.975214689721723, 6.974682517037824, 6.093762781760537, 6.093675548661749, 6.093573659673665, 6.0935345295897045, 6.091749972582757, 79.39060249852108, 62.75965173443956, 5.211833276087124, 5.211738350174939, 5.211760602377371, 5.2116526935112235, 5.2117047910242, 5.211590393095994, 11.239724247353765, 11.29157106488509, 190.10931519388973, 51.87365475249929, 15.504564270967451, 15.608927441152474, 83.60230318309515, 15.60893692773265, 62.780712733132646, 40.06288998123222, 18.00505769003044, 44.23736120639737, 117.52355285903324, 84.79450855689726, 13.84353297520744, 113.7211739674742, 21.294363877236943, 56.06209445642325, 80.81805529951572, 41.67012526826989, 17.894229031697044, 76.58903378667631, 18.068119566582272, 18.068041628664474, 113.64381295924798, 26.063364784298486, 59.60270980593591, 38.777567547762814, 39.33376464596481, 62.09624987830931, 36.498429057547, 38.749013108349395, 42.8738287502746, 64.74235064474846, 34.444396778721384, 35.97939459787153, 29.3430536044261, 53.60769827906449, 21.312820072336745, 15.802128745977306, 10.26870905649234, 10.268657138828157, 9.48166969176823, 9.484209831869304, 7.902069928496049, 7.113166346604367, 7.115099438942446, 19.048936096165622, 18.26080190015771, 6.326426915244756, 6.326541131597153, 5.535391831337621, 5.535394573696594, 5.53554495950143, 11.945789628784416, 11.149559778694222, 11.148954953658517, 3.957739961740113, 3.957657283410258, 3.9576813061925136, 3.9576661779120945, 3.957677041776268, 3.957484571330179, 3.9574974172495176, 3.9574328917509916, 23.168182897753063, 4.7615054727462285, 9.581600168026691, 12.851641482484588, 18.65951785962056, 26.789521671796393, 8.006139318512785, 7.062611656411157, 40.952870643567586, 27.754967013602005, 113.64381295924798, 28.910953909198604, 25.343451242621796, 18.662029382401734, 22.77665880935492, 38.59566161586155, 76.58903378667631, 19.716785323355012, 117.52355285903324, 80.81805529951572, 35.97939459787153, 32.57174003688646, 190.10931519388973, 113.7211739674742, 59.60270980593591, 31.54702534292921, 33.07272703923761, 29.887595902035386, 83.60230318309515, 42.8738287502746, 62.780712733132646, 5.958601552959104, 5.958924843694562, 5.222031056833282, 4.485254065073043, 4.485379122139361, 4.485329018962964, 4.485486962824558, 3.7487711818963154, 3.7488348584940483, 3.7488687518446975, 3.012070742318117, 3.0120935998971996, 3.01213688844525, 3.012117269981652, 3.012178373297726, 3.0121728083592476, 3.0122845867249772, 3.0122887751999374, 3.012511727913616, 3.012584289282558, 3.0126424393405937, 5.251872191506259, 5.252180936996631, 2.275487946950955, 2.2754947629926265, 2.275479698311726, 2.275475830213587, 2.2754918910891746, 2.2754942594842404, 2.2754946170746306, 30.112647832143317, 18.023915185739646, 42.34185512615633, 42.34310157338951, 42.343273393259096, 4.629875682556561, 4.6297680759763535, 64.74235064474846, 6.062952363082976, 62.09624987830931, 14.282725038131009, 10.851203408885748, 6.155150825780202, 6.248612718135209, 39.33376464596481, 15.368689008524736, 8.655898638664944, 34.444396778721384, 21.18048334008092, 59.60270980593591, 29.512859932842442, 28.764120955146616, 84.79450855689726, 113.7211739674742, 56.06209445642325, 38.777567547762814, 21.357245057755996, 38.749013108349395, 33.07272703923761, 42.8738287502746, 31.54702534292921, 36.498429057547, 44.23736120639737, 113.64381295924798, 40.06288998123222, 26.632759304414044, 76.58903378667631], \"Category\": [\"Default\", \"Default\", \"Default\", \"Default\", \"Default\", \"Default\", \"Default\", \"Default\", \"Default\", \"Default\", \"Default\", \"Default\", \"Default\", \"Default\", \"Default\", \"Default\", \"Default\", \"Default\", \"Default\", \"Default\", \"Default\", \"Default\", \"Default\", \"Default\", \"Default\", \"Default\", \"Default\", \"Default\", \"Default\", \"Default\", \"Topic1\", \"Topic1\", \"Topic1\", \"Topic1\", \"Topic1\", \"Topic1\", \"Topic1\", \"Topic1\", \"Topic1\", \"Topic1\", \"Topic1\", \"Topic1\", \"Topic1\", \"Topic1\", \"Topic1\", \"Topic1\", \"Topic1\", \"Topic1\", \"Topic1\", \"Topic1\", \"Topic1\", \"Topic1\", \"Topic1\", \"Topic1\", \"Topic1\", \"Topic1\", \"Topic1\", \"Topic1\", \"Topic1\", \"Topic1\", \"Topic1\", \"Topic1\", \"Topic1\", \"Topic1\", \"Topic1\", \"Topic1\", \"Topic1\", \"Topic1\", \"Topic1\", \"Topic1\", \"Topic1\", \"Topic1\", \"Topic1\", \"Topic1\", \"Topic1\", \"Topic1\", \"Topic1\", \"Topic1\", \"Topic1\", \"Topic1\", \"Topic1\", \"Topic1\", \"Topic1\", \"Topic1\", \"Topic1\", \"Topic1\", \"Topic1\", \"Topic1\", \"Topic1\", \"Topic1\", \"Topic1\", \"Topic1\", \"Topic1\", \"Topic1\", \"Topic1\", \"Topic1\", \"Topic1\", \"Topic2\", \"Topic2\", \"Topic2\", \"Topic2\", \"Topic2\", \"Topic2\", \"Topic2\", \"Topic2\", \"Topic2\", \"Topic2\", \"Topic2\", \"Topic2\", \"Topic2\", \"Topic2\", \"Topic2\", \"Topic2\", \"Topic2\", \"Topic2\", \"Topic2\", \"Topic2\", \"Topic2\", \"Topic2\", \"Topic2\", \"Topic2\", \"Topic2\", \"Topic2\", \"Topic2\", \"Topic2\", \"Topic2\", \"Topic2\", \"Topic2\", \"Topic2\", \"Topic2\", \"Topic2\", \"Topic2\", \"Topic2\", \"Topic2\", \"Topic2\", \"Topic2\", \"Topic2\", \"Topic2\", \"Topic2\", \"Topic2\", \"Topic2\", \"Topic2\", \"Topic2\", \"Topic2\", \"Topic2\", \"Topic2\", \"Topic2\", \"Topic2\", \"Topic2\", \"Topic2\", \"Topic2\", \"Topic2\", \"Topic2\", \"Topic2\", \"Topic2\", \"Topic2\", \"Topic3\", \"Topic3\", \"Topic3\", \"Topic3\", \"Topic3\", \"Topic3\", \"Topic3\", \"Topic3\", \"Topic3\", \"Topic3\", \"Topic3\", \"Topic3\", \"Topic3\", \"Topic3\", \"Topic3\", \"Topic3\", \"Topic3\", \"Topic3\", \"Topic3\", \"Topic3\", \"Topic3\", \"Topic3\", \"Topic3\", \"Topic3\", \"Topic3\", \"Topic3\", \"Topic3\", \"Topic3\", \"Topic3\", \"Topic3\", \"Topic3\", \"Topic3\", \"Topic3\", \"Topic3\", \"Topic3\", \"Topic3\", \"Topic3\", \"Topic3\", \"Topic3\", \"Topic3\", \"Topic3\", \"Topic3\", \"Topic3\", \"Topic3\", \"Topic3\", \"Topic3\", \"Topic3\", \"Topic3\", \"Topic3\", \"Topic3\", \"Topic3\", \"Topic3\", \"Topic3\", \"Topic3\", \"Topic3\", \"Topic3\", \"Topic3\", \"Topic3\", \"Topic3\", \"Topic3\", \"Topic3\", \"Topic3\", \"Topic3\", \"Topic3\", \"Topic3\", \"Topic3\", \"Topic3\"], \"logprob\": [30.0, 29.0, 28.0, 27.0, 26.0, 25.0, 24.0, 23.0, 22.0, 21.0, 20.0, 19.0, 18.0, 17.0, 16.0, 15.0, 14.0, 13.0, 12.0, 11.0, 10.0, 9.0, 8.0, 7.0, 6.0, 5.0, 4.0, 3.0, 2.0, 1.0, -5.7556, -5.9584, -6.0364, -5.2402, -6.213, -6.213, -6.2132, -6.2133, -6.2135, -6.3149, -5.0127, -6.4291, -6.5558, -6.5561, -6.5564, -6.5565, -6.5574, -6.7027, -6.7028, -6.7029, -6.703, -6.7059, -4.1433, -4.386, -6.8744, -6.8746, -6.8746, -6.8747, -6.8747, -6.8748, -6.1209, -6.1211, -3.392, -4.6569, -5.8184, -5.8183, -4.2142, -5.8184, -4.5233, -4.9558, -5.6959, -4.8761, -4.0134, -4.3514, -5.9587, -4.1359, -5.5864, -4.7832, -4.5037, -5.0473, -5.7561, -4.6913, -5.7554, -5.7554, -4.5113, -5.5359, -5.065, -5.3158, -5.3158, -5.0815, -5.3695, -5.3562, -5.3157, -5.1584, -5.4504, -5.4436, -5.5555, -3.7751, -4.6985, -5.0142, -5.457, -5.4572, -5.5433, -5.5461, -5.7357, -5.8491, -5.8518, -4.8684, -4.9145, -5.9803, -5.9804, -6.1234, -6.1234, -6.1235, -5.3849, -5.4568, -5.4572, -6.503, -6.503, -6.503, -6.5031, -6.5031, -6.5036, -6.5039, -6.504, -4.7369, -6.3267, -5.6438, -5.4041, -5.0871, -4.7773, -5.8643, -5.9797, -4.4205, -4.8148, -3.693, -4.884, -5.0084, -5.2387, -5.1398, -4.7958, -4.3522, -5.2583, -4.1742, -4.4253, -4.9549, -5.0201, -4.2769, -4.5732, -4.9222, -5.1417, -5.1402, -5.1776, -4.9521, -5.1359, -5.1542, -5.6915, -5.6918, -5.8382, -6.0098, -6.0098, -6.0099, -6.01, -6.2175, -6.2176, -6.2177, -6.4797, -6.4798, -6.4798, -6.4799, -6.4798, -6.4799, -6.4802, -6.4803, -6.4808, -6.481, -6.4815, -5.9333, -5.9334, -6.8364, -6.8364, -6.8364, -6.8364, -6.8365, -6.8365, -6.8365, -4.3756, -4.953, -4.2678, -4.2681, -4.2684, -6.2168, -6.2172, -4.0821, -6.0099, -4.2451, -5.4134, -5.6248, -6.0095, -6.0099, -4.8481, -5.4493, -5.8376, -5.0207, -5.3143, -4.7166, -5.1326, -5.1701, -4.6633, -4.5144, -4.9415, -5.1506, -5.4502, -5.2546, -5.3409, -5.4127, -5.5103, -5.5368, -5.5389, -5.4361, -5.6587, -5.6723, -5.6669], \"loglift\": [30.0, 29.0, 28.0, 27.0, 26.0, 25.0, 24.0, 23.0, 22.0, 21.0, 20.0, 19.0, 18.0, 17.0, 16.0, 15.0, 14.0, 13.0, 12.0, 11.0, 10.0, 9.0, 8.0, 7.0, 6.0, 5.0, 4.0, 3.0, 2.0, 1.0, 0.581, 0.5735, 0.5702, 0.5658, 0.5618, 0.5618, 0.5617, 0.5616, 0.5614, 0.556, 0.5491, 0.5483, 0.5406, 0.5403, 0.5401, 0.5399, 0.5392, 0.5289, 0.5288, 0.5287, 0.5287, 0.526, 0.5212, 0.5136, 0.5135, 0.5133, 0.5133, 0.5133, 0.5132, 0.5132, 0.4985, 0.4937, 0.3993, 0.4331, 0.4793, 0.4726, 0.3986, 0.4726, 0.3759, 0.3926, 0.4523, 0.3731, 0.2588, 0.2472, 0.4523, 0.1692, 0.394, 0.2292, 0.1429, 0.2618, 0.3983, 0.0091, 0.3893, 0.3893, -0.2055, 0.2424, -0.1139, 0.0652, 0.051, -0.1714, 0.0721, 0.0255, -0.0351, -0.29, 0.049, 0.0123, 0.1043, 1.282, 1.281, 1.2645, 1.2527, 1.2525, 1.2462, 1.2431, 1.236, 1.2278, 1.2248, 1.2234, 1.2196, 1.2138, 1.2137, 1.2042, 1.2042, 1.2041, 1.1736, 1.1706, 1.1703, 1.1602, 1.1602, 1.1602, 1.1601, 1.1601, 1.1596, 1.1594, 1.1592, 1.1592, 1.1516, 1.1352, 1.0813, 1.0254, 0.9736, 1.0943, 1.1043, 0.9059, 0.9007, 0.6127, 0.7907, 0.798, 0.8737, 0.7733, 0.5899, 0.3482, 0.7991, 0.098, 0.2213, 0.501, 0.5353, -0.4856, -0.2682, 0.0289, 0.4456, 0.4, 0.4638, -0.3393, 0.1446, -0.255, 1.5625, 1.5621, 1.5478, 1.5283, 1.5282, 1.5282, 1.528, 1.4999, 1.4998, 1.4997, 1.4565, 1.4564, 1.4563, 1.4563, 1.4563, 1.4562, 1.4559, 1.4558, 1.4552, 1.455, 1.4545, 1.4469, 1.4468, 1.3802, 1.3802, 1.3802, 1.3802, 1.3802, 1.3802, 1.3801, 1.2583, 1.1942, 1.0253, 1.0249, 1.0246, 1.2895, 1.2891, 0.7864, 1.2267, 0.665, 0.9663, 1.0298, 1.2121, 1.1966, 0.5186, 0.8572, 1.043, 0.4788, 0.6715, 0.2345, 0.5214, 0.5096, -0.0647, -0.2093, 0.0709, 0.2304, 0.5272, 0.1271, 0.1992, -0.1321, 0.077, -0.0952, -0.2896, -1.1303, -0.3103, 0.0843, -0.9666]}, \"token.table\": {\"Topic\": [1, 2, 3, 1, 2, 3, 1, 2, 3, 1, 3, 1, 3, 1, 2, 3, 3, 1, 2, 3, 1, 2, 3, 1, 2, 3, 2, 3, 1, 2, 3, 1, 2, 3, 3, 1, 3, 3, 2, 3, 2, 3, 1, 3, 1, 2, 1, 2, 3, 1, 2, 1, 2, 3, 1, 2, 3, 3, 1, 3, 1, 2, 1, 1, 2, 3, 3, 1, 3, 1, 2, 1, 2, 3, 1, 2, 1, 3, 1, 1, 2, 3, 1, 2, 3, 3, 1, 2, 3, 1, 2, 1, 2, 3, 1, 2, 2, 3, 1, 2, 2, 3, 1, 2, 1, 1, 1, 2, 3, 1, 3, 1, 3, 3, 2, 3, 1, 2, 3, 1, 2, 3, 2, 3, 2, 3, 3, 1, 2, 3, 2, 3, 1, 2, 3, 2, 1, 2, 1, 1, 3, 1, 2, 3, 2, 3, 1, 2, 3, 1, 2, 3, 1, 2, 3, 1, 2, 1, 3, 2, 1, 2, 3, 1, 2, 3, 3, 1, 2, 3, 1, 1, 1, 1, 2, 2, 1, 2, 3, 1, 2, 1, 2, 1, 3, 1, 1, 2, 3, 2, 1, 2, 3, 2, 1, 2, 1, 2, 3, 1, 2, 1, 2, 3, 1, 2, 3, 1, 2, 3, 1, 2, 2, 1, 3, 2, 1, 2, 3, 1, 2, 1, 1, 2, 3, 2, 1, 1, 2, 3, 1, 1, 2, 3, 2, 1, 2, 3, 1, 2, 2, 1, 1, 3, 1, 1, 2, 3, 2, 2, 1, 3, 1, 2, 3, 1, 2, 2, 2, 1, 2, 3, 1, 2, 3, 1, 2, 3, 1, 3, 3, 2, 1, 2, 1, 2, 3, 1, 1, 2, 1, 2, 1, 2, 3, 3, 1, 2, 3, 3, 1, 2, 1, 2, 1, 2], \"Freq\": [0.798744174845865, 0.049921510927866564, 0.1497645327835997, 0.35123676685687577, 0.5707597461424231, 0.08780919171421894, 0.8969226138555437, 0.12813180197936339, 0.6639478915152717, 0.9466563396367073, 0.03944401415152947, 0.9593687011869318, 0.6638690253722109, 0.69579977529336, 0.12972538183435525, 0.17689824795593898, 0.8917863777125148, 0.3628367260360222, 0.3930731198723573, 0.24189115069068143, 0.5419492863284059, 0.2322639798550311, 0.20645687098224988, 0.2612961920618947, 0.709232521310857, 0.8002414057637511, 0.9840905806092403, 0.8002486407750529, 0.4015918443039877, 0.18535008198645586, 0.4170376844695257, 0.7823751431369869, 0.05588393879549906, 0.16765181638649718, 0.6639725298793248, 0.9029599126636036, 0.12899427323765766, 0.8789355499343211, 0.8495440910379717, 0.14159068183966195, 0.9700099364330972, 0.01865403723909802, 0.8601640076956925, 0.8918112423437176, 0.40574565624162906, 0.6086184843624436, 0.08968963975698015, 0.8968963975698014, 0.6639950290346707, 0.15562214388922893, 0.7781107194461446, 0.1294879280451015, 0.86325285363401, 0.8917649372636139, 0.6419209145772535, 0.2110424924637546, 0.15828186934781596, 0.8789297873932984, 0.9153685425677944, 0.8789308403303915, 0.05249637013593063, 0.9449346624467514, 0.9846438781411766, 0.6383116298874245, 0.15019097173821755, 0.18773871467277192, 0.8390775401859198, 0.3328910471542356, 0.6103002531160986, 0.6977324800447199, 0.2978126439215268, 0.5665593087430532, 0.09442655145717553, 0.3777062058287021, 0.8668307448316086, 0.1444717908052681, 0.21599354084040462, 0.6479806225212138, 0.9354014528530152, 0.6186736344335126, 0.33408376259409683, 0.03712041806601076, 0.3803845170679339, 0.4120832268235951, 0.19019225853396696, 0.6639899902407609, 0.4404640130074505, 0.49228330865538583, 0.07772894347190303, 0.926944329055763, 0.06179628860371753, 0.4399711581124941, 0.5015671202482432, 0.06159596213574917, 0.12490414670747439, 0.7494248802448463, 0.9838232142881261, 0.6638978303281646, 0.9846502011048746, 0.7580242009775394, 0.9853224457732473, 0.8789370440433422, 0.774848779282718, 0.166039024132011, 0.8909293088858963, 0.8602542101870788, 0.42008790227226417, 0.1400293007574214, 0.4901025526509749, 0.32007104460089914, 0.6401420892017983, 0.9593553237669641, 0.6638818396268995, 0.663946968320543, 0.1904082893748402, 0.7616331574993608, 0.24418312667345793, 0.6592944420183364, 0.09767325066938316, 0.5483813794672321, 0.3786442858226126, 0.07834019706674744, 0.1903970963673298, 0.7615883854693192, 0.7502873388972274, 0.21436781111349357, 0.8789299255157499, 0.7911864325880833, 0.06781597993612143, 0.13563195987224286, 0.32987229327050355, 0.6597445865410071, 0.4865550592317508, 0.2852219312737849, 0.23488864928429348, 0.9738322456100312, 0.8969220687365309, 0.1281317241052187, 0.8601259166170345, 0.8330992467913965, 0.11107989957218618, 0.30701577156477927, 0.1653161846887273, 0.5195651518788572, 0.7580548219498312, 0.8391230652965791, 0.34658446514141594, 0.11552815504713865, 0.5776407752356932, 0.32150844246649785, 0.6430168849329957, 0.05358474041108297, 0.5673383193234678, 0.18051673796655793, 0.2320929488141459, 0.054762107681117965, 0.9309558305790054, 0.9846133193695721, 0.8789323637947212, 0.9032779747552753, 0.45091289820032454, 0.1771443528644132, 0.37039273780740944, 0.6906245662817815, 0.1534721258403959, 0.1534721258403959, 0.8002622337921543, 0.575367229282371, 0.24658595540673048, 0.1643906369378203, 0.9353821675568439, 0.9593727973377958, 0.9782231016679956, 0.9593885652098917, 0.7580671819485058, 0.9489456854653048, 0.1624655558092265, 0.1624655558092265, 0.649862223236906, 0.9082268372232071, 0.0956028249708639, 0.82893715904851, 0.15422086679972277, 0.9354120011577532, 0.6639713032035366, 0.9387975066390839, 0.6959422323139096, 0.26397808811906914, 0.023998008010824468, 0.7580083656332438, 0.5760200820484392, 0.10165060271443047, 0.30495180814329137, 0.9491999080935708, 0.521924833636399, 0.4605219120321167, 0.6086927393886404, 0.0936450368290216, 0.3277576289015756, 0.8856163542288936, 0.08856163542288936, 0.6134330885482513, 0.34079616030458404, 0.06815923206091681, 0.5131335511960567, 0.30321528025221534, 0.16326976628965442, 0.30702480940589105, 0.16532105121855672, 0.5195804466868926, 0.9069083460015466, 0.08817164475015037, 0.8400704405140533, 0.520538869357207, 0.4554715106875561, 0.8858438438714583, 0.18431135466157197, 0.27646703199235795, 0.5529340639847159, 0.984627414453938, 0.948402641867534, 0.9354517374582075, 0.5018804472988234, 0.4349630543256469, 0.06691739297317645, 0.7580224973857395, 0.8600916036764055, 0.3551213255779501, 0.5918688759632502, 0.039457925064216685, 0.9593789749202974, 0.6778198418815262, 0.12486154982028115, 0.19621100686044182, 0.9738371692426752, 0.5910140631973069, 0.10429659938776004, 0.3128897981632801, 0.08969450537351495, 0.8969450537351495, 0.7580572825813059, 0.9849386509630734, 0.215988520764733, 0.6479655622941989, 0.9661617249113156, 0.2324604610999352, 0.09962591189997223, 0.6641727459998149, 0.9492391968910201, 0.9032784222597221, 0.9353795588107673, 0.8789297310311941, 0.8048001216771389, 0.16832420845534932, 0.031560789085377995, 0.08371150263607634, 0.8371150263607634, 0.9483855198591403, 0.9032534351324888, 0.580645964813509, 0.1161291929627018, 0.31935528064742996, 0.7983333100723664, 0.04696078294543332, 0.14088234883629996, 0.27671172750390083, 0.5880124209457892, 0.13835586375195041, 0.889701542487073, 0.0889701542487073, 0.6639804477917747, 0.7580204166061899, 0.8601885772550136, 0.7580195998363873, 0.30701452576100446, 0.1653155138713101, 0.5195630435955461, 0.9594000339366086, 0.1043667010169083, 0.8349336081352664, 0.7748454369260194, 0.16603830791271842, 0.5593159006776369, 0.10169380012320671, 0.33050485040042177, 0.9574818582239675, 0.32426628342196656, 0.6485325668439331, 0.6639847724163086, 0.8917963393741904, 0.7804944841624927, 0.20706996518596746, 0.5558737222661094, 0.4446989778128876, 0.8014133277317147, 0.19138228721951395], \"Term\": [\"\\uac00\\uaca9\", \"\\uac00\\uaca9\", \"\\uac00\\uaca9\", \"\\uac00\\uc785\", \"\\uac00\\uc785\", \"\\uac00\\uc785\", \"\\uac00\\uc785\\uc790\", \"\\uac00\\uc785\\uc790\", \"\\uac01\\uc790\", \"\\uac1c\\uc778\\uc815\\ubcf4\", \"\\uac1c\\uc778\\uc815\\ubcf4\", \"\\uac1c\\uc778\\uc815\\ubcf4\\ubcf4\\ud638\\ubc95\", \"\\uac70\\uc810\", \"\\uac83\", \"\\uac83\", \"\\uac83\", \"\\uac8c\\uc774\", \"\\uacbd\\uc7c1\", \"\\uacbd\\uc7c1\", \"\\uacbd\\uc7c1\", \"\\uace0\", \"\\uace0\", \"\\uace0\", \"\\uace0\\uac1d\", \"\\uace0\\uac1d\", \"\\uad50\\uc218\", \"\\uad50\\ud658\", \"\\uad6c\\uc870\", \"\\uad6d\\ub0b4\", \"\\uad6d\\ub0b4\", \"\\uad6d\\ub0b4\", \"\\uadf8\", \"\\uadf8\", \"\\uadf8\", \"\\uae30\\uae08\", \"\\uae30\\uc900\", \"\\uae30\\uc900\", \"\\uae40\\ucc3d\\ubc94\", \"\\ub0b4\\ub144\", \"\\ub0b4\\ub144\", \"\\ub124\\uc774\\ubc84\", \"\\ub124\\uc774\\ubc84\", \"\\ub17c\\ub780\", \"\\ub2e8\\ub80c\", \"\\ub2ec\", \"\\ub2ec\", \"\\ub2f9\\uc77c\", \"\\ub2f9\\uc77c\", \"\\ub300\\uae30\\uc5c5\", \"\\ub300\\uc0c1\", \"\\ub300\\uc0c1\", \"\\ub3c4\\ucc29\", \"\\ub3c4\\ucc29\", \"\\ub3c4\\ucfc4\", \"\\ub4f1\", \"\\ub4f1\", \"\\ub4f1\", \"\\ub77c\\ucfe0\\ud150\", \"\\ub960\", \"\\ub9c8\\uc0ac\\uce74\", \"\\ub9c8\\ucf13\", \"\\ub9c8\\ucf13\", \"\\ub9cc\\ud07c\", \"\\ub9d0\", \"\\ub9d0\", \"\\ub9d0\", \"\\ub9e4\\uc7a5\", \"\\ub9e4\\ucd9c\", \"\\ub9e4\\ucd9c\", \"\\uba64\\ubc84\\uc2ed\", \"\\uba64\\ubc84\\uc2ed\", \"\\uba70\", \"\\uba70\", \"\\uba70\", \"\\uba85\", \"\\uba85\", \"\\ubaa8\\ubc14\\uc77c\", \"\\ubaa8\\ubc14\\uc77c\", \"\\ubaa8\\uc774\", \"\\ubb34\\ub8cc\", \"\\ubb34\\ub8cc\", \"\\ubb34\\ub8cc\", \"\\ubb3c\\ub958\", \"\\ubb3c\\ub958\", \"\\ubb3c\\ub958\", \"\\ubbf8\\ub798\", \"\\ubc18\\ud488\", \"\\ubc18\\ud488\", \"\\ubc18\\ud488\", \"\\ubc30\\ub2ec\", \"\\ubc30\\ub2ec\", \"\\ubc30\\uc1a1\", \"\\ubc30\\uc1a1\", \"\\ubc30\\uc1a1\", \"\\ubc30\\uc1a1\\ube44\", \"\\ubc30\\uc1a1\\ube44\", \"\\ubc84\\uc2a4\", \"\\ubca0\\ub274\", \"\\ubcc0\\uacbd\", \"\\ubcf4\\uc0c1\", \"\\ubcf4\\uc7a5\", \"\\ubd80\\ud68c\\uc7a5\", \"\\ube44\\uc6a9\", \"\\ube44\\uc6a9\", \"\\ube44\\ud310\", \"\\uc0ac\\uc2e4\", \"\\uc0ac\\uc5c5\", \"\\uc0ac\\uc5c5\", \"\\uc0ac\\uc5c5\", \"\\uc0ac\\uc6a9\\uc790\", \"\\uc0ac\\uc6a9\\uc790\", \"\\uc0ac\\uc774\", \"\\uc0ac\\uc9c4\", \"\\uc0ac\\ud68c\", \"\\uc0c1\\uc778\", \"\\uc0c1\\uc778\", \"\\uc0c1\\ud488\", \"\\uc0c1\\ud488\", \"\\uc0c1\\ud488\", \"\\uc11c\\ube44\\uc2a4\", \"\\uc11c\\ube44\\uc2a4\", \"\\uc11c\\ube44\\uc2a4\", \"\\uc124\\ub9bd\", \"\\uc124\\ub9bd\", \"\\uc140\\ub7ec\", \"\\uc140\\ub7ec\", \"\\uc18c\\uac1c\", \"\\uc18c\\ube44\\uc790\", \"\\uc18c\\ube44\\uc790\", \"\\uc18c\\ube44\\uc790\", \"\\uc194\\ub8e8\\uc158\", \"\\uc194\\ub8e8\\uc158\", \"\\uc218\", \"\\uc218\", \"\\uc218\", \"\\uc218\\ub3c4\\uad8c\", \"\\uc218\\uc775\", \"\\uc218\\uc775\", \"\\uc218\\uc9d1\", \"\\uc26c\", \"\\uc26c\", \"\\uc2a4\", \"\\uc2a4\", \"\\uc2a4\", \"\\uc2a4\\ub9c8\\uc77c\", \"\\uc2a4\\ud0c0\\ud2b8\\uc5c5\", \"\\uc2dc\\uac04\", \"\\uc2dc\\uac04\", \"\\uc2dc\\uac04\", \"\\uc2dc\\uc791\", \"\\uc2dc\\uc791\", \"\\uc2dc\\uc791\", \"\\uc2dc\\uc7a5\", \"\\uc2dc\\uc7a5\", \"\\uc2dc\\uc7a5\", \"\\uc2e0\\uc138\\uacc4\", \"\\uc2e0\\uc138\\uacc4\", \"\\uc2e4\\uc81c\", \"\\uc544\\uc0ac\\ud788\", \"\\uc548\\uc2ec\", \"\\uc54c\\ub9ac\", \"\\uc54c\\ub9ac\", \"\\uc54c\\ub9ac\", \"\\uc57d\", \"\\uc57d\", \"\\uc57d\", \"\\uc591\\uad6d\", \"\\uc5c5\\uccb4\", \"\\uc5c5\\uccb4\", \"\\uc5c5\\uccb4\", \"\\uc5e0\", \"\\uc5f0\", \"\\uc5f0\\uac04\", \"\\uc608\\uc2a4\", \"\\uc624\\ud508\\ub9c8\\ucf13\", \"\\uc625\\uc158\", \"\\uc637\", \"\\uc637\", \"\\uc637\", \"\\uc640\\uc6b0\", \"\\uc640\\uc6b0\", \"\\uc694\\uae08\", \"\\uc694\\uae08\", \"\\uc6b0\\ub824\", \"\\uc6cd\\uc2a4\", \"\\uc6d0\", \"\\uc6d4\", \"\\uc6d4\", \"\\uc6d4\", \"\\uc6d4\\ub9c8\\ud2b8\", \"\\uc704\", \"\\uc704\", \"\\uc704\", \"\\uc720\\ub2c8\\ubc84\\uc2a4\", \"\\uc720\\ub8cc\", \"\\uc720\\ub8cc\", \"\\uc720\\ud1b5\", \"\\uc720\\ud1b5\", \"\\uc720\\ud1b5\", \"\\uc74c\\uc2dd\", \"\\uc74c\\uc2dd\", \"\\uc774\\uc6a9\", \"\\uc774\\uc6a9\", \"\\uc774\\uc6a9\", \"\\uc774\\ucee4\\uba38\\uc2a4\", \"\\uc774\\ucee4\\uba38\\uc2a4\", \"\\uc774\\ucee4\\uba38\\uc2a4\", \"\\uc775\\uc2a4\", \"\\uc775\\uc2a4\", \"\\uc775\\uc2a4\", \"\\uc778\\uc0c1\", \"\\uc778\\uc0c1\", \"\\uc778\\ud558\", \"\\uc77c\\ubcf8\", \"\\uc77c\\ubcf8\", \"\\uc77c\\uc694\", \"\\uc785\\uc810\", \"\\uc785\\uc810\", \"\\uc785\\uc810\", \"\\uc790\\uae08\", \"\\uc801\\ub9bd\\uae08\", \"\\uc808\\uc57d\", \"\\uc81c\\uacf5\", \"\\uc81c\\uacf5\", \"\\uc81c\\uacf5\", \"\\uc81c\\ub54c\", \"\\uc8fc\\uac00\", \"\\uc8fc\\ubb38\", \"\\uc8fc\\ubb38\", \"\\uc8fc\\ubb38\", \"\\uc900\\uc218\", \"\\uc911\\uad6d\", \"\\uc911\\uad6d\", \"\\uc911\\uad6d\", \"\\uc9c0\\uae09\", \"\\uc9c0\\ub09c\\ud574\", \"\\uc9c0\\ub09c\\ud574\", \"\\uc9c0\\ub09c\\ud574\", \"\\uc9c0\\uc6d0\", \"\\uc9c0\\uc6d0\", \"\\ucc3d\\uace0\", \"\\uccab\", \"\\ucd94\\uc0b0\", \"\\ucd94\\uc0b0\", \"\\uce20\", \"\\ucee4\\uba38\\uc2a4\", \"\\ucee4\\uba38\\uc2a4\", \"\\ucee4\\uba38\\uc2a4\", \"\\uceec\\ub9ac\", \"\\ucf00\\uc5b4\", \"\\ucf00\\uc774\", \"\\ucfe0\\ub77c\", \"\\ucfe0\\ud321\", \"\\ucfe0\\ud321\", \"\\ucfe0\\ud321\", \"\\ucfe0\\ud3f0\", \"\\ucfe0\\ud3f0\", \"\\ud074\\ub7fd\", \"\\ud0c0\\uae43\", \"\\ud14c\\ubb34\", \"\\ud14c\\ubb34\", \"\\ud14c\\ubb34\", \"\\ud22c\\uc790\", \"\\ud22c\\uc790\", \"\\ud22c\\uc790\", \"\\ud310\\ub9e4\", \"\\ud310\\ub9e4\", \"\\ud310\\ub9e4\", \"\\ud3c9\\uade0\", \"\\ud3c9\\uade0\", \"\\ud3ec\\ub7fc\", \"\\ud3ec\\uc778\\ud2b8\", \"\\ud3ed\", \"\\ud488\\ubaa9\", \"\\ud504\\ub808\", \"\\ud504\\ub808\", \"\\ud504\\ub808\", \"\\ud504\\ub9ac\\ubbf8\\uc5c4\", \"\\ud50c\\ub7ec\\uc2a4\", \"\\ud50c\\ub7ec\\uc2a4\", \"\\ud50c\\ub808\\uc774\", \"\\ud50c\\ub808\\uc774\", \"\\ud55c\\uad6d\", \"\\ud55c\\uad6d\", \"\\ud55c\\uad6d\", \"\\ud55c\\uc77c\", \"\\ud560\\uc778\", \"\\ud560\\uc778\", \"\\ud611\", \"\\ud611\\ub825\", \"\\ud61c\\ud0dd\", \"\\ud61c\\ud0dd\", \"\\ud68c\\ube44\", \"\\ud68c\\ube44\", \"\\ud68c\\uc6d0\", \"\\ud68c\\uc6d0\"]}, \"R\": 30, \"lambda.step\": 0.01, \"plot.opts\": {\"xlab\": \"PC1\", \"ylab\": \"PC2\"}, \"topic.order\": [3, 1, 2]};\n",
              "\n",
              "function LDAvis_load_lib(url, callback){\n",
              "  var s = document.createElement('script');\n",
              "  s.src = url;\n",
              "  s.async = true;\n",
              "  s.onreadystatechange = s.onload = callback;\n",
              "  s.onerror = function(){console.warn(\"failed to load library \" + url);};\n",
              "  document.getElementsByTagName(\"head\")[0].appendChild(s);\n",
              "}\n",
              "\n",
              "if(typeof(LDAvis) !== \"undefined\"){\n",
              "   // already loaded: just create the visualization\n",
              "   !function(LDAvis){\n",
              "       new LDAvis(\"#\" + \"ldavis_el4351388952304414405649566340\", ldavis_el4351388952304414405649566340_data);\n",
              "   }(LDAvis);\n",
              "}else if(typeof define === \"function\" && define.amd){\n",
              "   // require.js is available: use it to load d3/LDAvis\n",
              "   require.config({paths: {d3: \"https://d3js.org/d3.v5\"}});\n",
              "   require([\"d3\"], function(d3){\n",
              "      window.d3 = d3;\n",
              "      LDAvis_load_lib(\"https://cdn.jsdelivr.net/gh/bmabey/pyLDAvis@3.4.0/pyLDAvis/js/ldavis.v3.0.0.js\", function(){\n",
              "        new LDAvis(\"#\" + \"ldavis_el4351388952304414405649566340\", ldavis_el4351388952304414405649566340_data);\n",
              "      });\n",
              "    });\n",
              "}else{\n",
              "    // require.js not available: dynamically load d3 & LDAvis\n",
              "    LDAvis_load_lib(\"https://d3js.org/d3.v5.js\", function(){\n",
              "         LDAvis_load_lib(\"https://cdn.jsdelivr.net/gh/bmabey/pyLDAvis@3.4.0/pyLDAvis/js/ldavis.v3.0.0.js\", function(){\n",
              "                 new LDAvis(\"#\" + \"ldavis_el4351388952304414405649566340\", ldavis_el4351388952304414405649566340_data);\n",
              "            })\n",
              "         });\n",
              "}\n",
              "</script>"
            ]
          },
          "metadata": {},
          "execution_count": 140
        }
      ]
    },
    {
      "cell_type": "code",
      "source": [
        "coherence_values5 = []\n",
        "model_list5 = []\n",
        "iters5 = [5,6,7,8]\n",
        "\n",
        "for num_topics in iters5:\n",
        "     model5 = LdaModel(corpus=corpus5, id2word=dictionary5, num_topics=num_topics)\n",
        "     model_list5.append(model5)\n",
        "     coherencemodel5 = CoherenceModel(model=model5, texts=tokenized_data5, dictionary=dictionary5, coherence='c_v')\n",
        "     coherence_values5.append(coherencemodel5.get_coherence())\n",
        "\n",
        "for i in range(0, len(iters)):\n",
        "  print(model_list5[i], coherence_values5[i])  #topic num별로 coherence 가 높은 것을 찾기"
      ],
      "metadata": {
        "colab": {
          "base_uri": "https://localhost:8080/"
        },
        "outputId": "bd098334-a9e8-4c9a-d9c6-4e5e38377ce3",
        "id": "AxZapnygg0_8"
      },
      "execution_count": 144,
      "outputs": [
        {
          "output_type": "stream",
          "name": "stderr",
          "text": [
            "/usr/local/lib/python3.10/dist-packages/ipykernel/ipkernel.py:283: DeprecationWarning: `should_run_async` will not call `transform_cell` automatically in the future. Please pass the result to `transformed_cell` argument and any exception that happen during thetransform in `preprocessing_exc_tuple` in IPython 7.17 and above.\n",
            "  and should_run_async(code)\n",
            "WARNING:gensim.models.ldamodel:too few updates, training might not converge; consider increasing the number of passes or iterations to improve accuracy\n",
            "WARNING:gensim.models.ldamodel:too few updates, training might not converge; consider increasing the number of passes or iterations to improve accuracy\n",
            "WARNING:gensim.models.ldamodel:too few updates, training might not converge; consider increasing the number of passes or iterations to improve accuracy\n",
            "WARNING:gensim.models.ldamodel:too few updates, training might not converge; consider increasing the number of passes or iterations to improve accuracy\n"
          ]
        },
        {
          "output_type": "stream",
          "name": "stdout",
          "text": [
            "LdaModel<num_terms=1791, num_topics=5, decay=0.5, chunksize=2000> 0.40122704918344204\n",
            "LdaModel<num_terms=1791, num_topics=6, decay=0.5, chunksize=2000> 0.36731047669184486\n",
            "LdaModel<num_terms=1791, num_topics=7, decay=0.5, chunksize=2000> 0.41840666024810735\n",
            "LdaModel<num_terms=1791, num_topics=8, decay=0.5, chunksize=2000> 0.3729271149096494\n"
          ]
        }
      ]
    }
  ]
}