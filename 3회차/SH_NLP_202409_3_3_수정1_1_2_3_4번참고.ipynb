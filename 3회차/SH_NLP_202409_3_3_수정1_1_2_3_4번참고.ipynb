{
  "nbformat": 4,
  "nbformat_minor": 0,
  "metadata": {
    "colab": {
      "provenance": []
    },
    "kernelspec": {
      "name": "python3",
      "display_name": "Python 3"
    },
    "language_info": {
      "name": "python"
    }
  },
  "cells": [
    {
      "cell_type": "code",
      "source": [
        "!pip install konlpy\n",
        "!pip install pyLDAvis"
      ],
      "metadata": {
        "colab": {
          "base_uri": "https://localhost:8080/"
        },
        "id": "YXV5sVFFcr01",
        "outputId": "ec5b358d-e91b-4568-85cc-32b4a7416674"
      },
      "execution_count": null,
      "outputs": [
        {
          "output_type": "stream",
          "name": "stdout",
          "text": [
            "Collecting konlpy\n",
            "  Downloading konlpy-0.6.0-py2.py3-none-any.whl.metadata (1.9 kB)\n",
            "Collecting JPype1>=0.7.0 (from konlpy)\n",
            "  Downloading JPype1-1.5.0-cp310-cp310-manylinux_2_17_x86_64.manylinux2014_x86_64.whl.metadata (4.9 kB)\n",
            "Requirement already satisfied: lxml>=4.1.0 in /usr/local/lib/python3.10/dist-packages (from konlpy) (4.9.4)\n",
            "Requirement already satisfied: numpy>=1.6 in /usr/local/lib/python3.10/dist-packages (from konlpy) (1.26.4)\n",
            "Requirement already satisfied: packaging in /usr/local/lib/python3.10/dist-packages (from JPype1>=0.7.0->konlpy) (24.1)\n",
            "Downloading konlpy-0.6.0-py2.py3-none-any.whl (19.4 MB)\n",
            "\u001b[2K   \u001b[90m━━━━━━━━━━━━━━━━━━━━━━━━━━━━━━━━━━━━━━━━\u001b[0m \u001b[32m19.4/19.4 MB\u001b[0m \u001b[31m58.8 MB/s\u001b[0m eta \u001b[36m0:00:00\u001b[0m\n",
            "\u001b[?25hDownloading JPype1-1.5.0-cp310-cp310-manylinux_2_17_x86_64.manylinux2014_x86_64.whl (488 kB)\n",
            "\u001b[2K   \u001b[90m━━━━━━━━━━━━━━━━━━━━━━━━━━━━━━━━━━━━━━━━\u001b[0m \u001b[32m488.6/488.6 kB\u001b[0m \u001b[31m27.0 MB/s\u001b[0m eta \u001b[36m0:00:00\u001b[0m\n",
            "\u001b[?25hInstalling collected packages: JPype1, konlpy\n",
            "Successfully installed JPype1-1.5.0 konlpy-0.6.0\n",
            "Collecting pyLDAvis\n",
            "  Downloading pyLDAvis-3.4.1-py3-none-any.whl.metadata (4.2 kB)\n",
            "Requirement already satisfied: numpy>=1.24.2 in /usr/local/lib/python3.10/dist-packages (from pyLDAvis) (1.26.4)\n",
            "Requirement already satisfied: scipy in /usr/local/lib/python3.10/dist-packages (from pyLDAvis) (1.13.1)\n",
            "Requirement already satisfied: pandas>=2.0.0 in /usr/local/lib/python3.10/dist-packages (from pyLDAvis) (2.1.4)\n",
            "Requirement already satisfied: joblib>=1.2.0 in /usr/local/lib/python3.10/dist-packages (from pyLDAvis) (1.4.2)\n",
            "Requirement already satisfied: jinja2 in /usr/local/lib/python3.10/dist-packages (from pyLDAvis) (3.1.4)\n",
            "Requirement already satisfied: numexpr in /usr/local/lib/python3.10/dist-packages (from pyLDAvis) (2.10.1)\n",
            "Collecting funcy (from pyLDAvis)\n",
            "  Downloading funcy-2.0-py2.py3-none-any.whl.metadata (5.9 kB)\n",
            "Requirement already satisfied: scikit-learn>=1.0.0 in /usr/local/lib/python3.10/dist-packages (from pyLDAvis) (1.3.2)\n",
            "Requirement already satisfied: gensim in /usr/local/lib/python3.10/dist-packages (from pyLDAvis) (4.3.3)\n",
            "Requirement already satisfied: setuptools in /usr/local/lib/python3.10/dist-packages (from pyLDAvis) (71.0.4)\n",
            "Requirement already satisfied: python-dateutil>=2.8.2 in /usr/local/lib/python3.10/dist-packages (from pandas>=2.0.0->pyLDAvis) (2.8.2)\n",
            "Requirement already satisfied: pytz>=2020.1 in /usr/local/lib/python3.10/dist-packages (from pandas>=2.0.0->pyLDAvis) (2024.1)\n",
            "Requirement already satisfied: tzdata>=2022.1 in /usr/local/lib/python3.10/dist-packages (from pandas>=2.0.0->pyLDAvis) (2024.1)\n",
            "Requirement already satisfied: threadpoolctl>=2.0.0 in /usr/local/lib/python3.10/dist-packages (from scikit-learn>=1.0.0->pyLDAvis) (3.5.0)\n",
            "Requirement already satisfied: smart-open>=1.8.1 in /usr/local/lib/python3.10/dist-packages (from gensim->pyLDAvis) (7.0.4)\n",
            "Requirement already satisfied: MarkupSafe>=2.0 in /usr/local/lib/python3.10/dist-packages (from jinja2->pyLDAvis) (2.1.5)\n",
            "Requirement already satisfied: six>=1.5 in /usr/local/lib/python3.10/dist-packages (from python-dateutil>=2.8.2->pandas>=2.0.0->pyLDAvis) (1.16.0)\n",
            "Requirement already satisfied: wrapt in /usr/local/lib/python3.10/dist-packages (from smart-open>=1.8.1->gensim->pyLDAvis) (1.16.0)\n",
            "Downloading pyLDAvis-3.4.1-py3-none-any.whl (2.6 MB)\n",
            "\u001b[2K   \u001b[90m━━━━━━━━━━━━━━━━━━━━━━━━━━━━━━━━━━━━━━━━\u001b[0m \u001b[32m2.6/2.6 MB\u001b[0m \u001b[31m18.1 MB/s\u001b[0m eta \u001b[36m0:00:00\u001b[0m\n",
            "\u001b[?25hDownloading funcy-2.0-py2.py3-none-any.whl (30 kB)\n",
            "Installing collected packages: funcy, pyLDAvis\n",
            "Successfully installed funcy-2.0 pyLDAvis-3.4.1\n"
          ]
        }
      ]
    },
    {
      "cell_type": "code",
      "source": [
        "from konlpy.tag import Okt\n",
        "import pandas as pd\n",
        "import numpy as np\n",
        "from sklearn.feature_extraction.text import CountVectorizer\n",
        "from sklearn.feature_extraction.text import TfidfVectorizer\n",
        "from sklearn.model_selection import GridSearchCV, train_test_split\n",
        "from sklearn.tree import DecisionTreeClassifier\n",
        "from sklearn.metrics import classification_report"
      ],
      "metadata": {
        "id": "VzmYBvSfcwEG"
      },
      "execution_count": null,
      "outputs": []
    },
    {
      "cell_type": "markdown",
      "source": [
        "###1번"
      ],
      "metadata": {
        "id": "nQZDh7QoewEn"
      }
    },
    {
      "cell_type": "code",
      "execution_count": null,
      "metadata": {
        "id": "cCX5D-pm4PpZ",
        "colab": {
          "base_uri": "https://localhost:8080/",
          "height": 206
        },
        "outputId": "86981bf4-b2b8-4517-ceae-ee8b35d4df65"
      },
      "outputs": [
        {
          "output_type": "execute_result",
          "data": {
            "text/plain": [
              "    연령 감정_대분류   감정_소분류                                           sentence\n",
              "0   청년     기쁨     신이 난  아내가 드디어 출산하게 되어서 정말 신이 나. 아 지금 정말 신이 나. 아기가 점점...\n",
              "1   노년     불안  스트레스 받는  당뇨랑 합병증 때문에 먹어야 할 약이 열 가지가 넘어가니까 스트레스야. 건강할 때 ...\n",
              "2  청소년     당황       당황  고등학교에 올라오니 중학교 때보다 수업이 갑자기 어려워져서 당황스러워. 아직 학기 ...\n",
              "3   노년     기쁨     신이 난  재취업이 돼서 받게 된 첫 월급으로 온 가족이 외식을 할 예정이야. 너무 행복해. ...\n",
              "4   노년     기쁨       안도  빚을 드디어 다 갚게 되어서 이제야 안도감이 들어. 빚도 다 갚았으니 당분간은 아무..."
            ],
            "text/html": [
              "\n",
              "  <div id=\"df-db210970-f1fa-4313-8faa-0ff97e13cc8c\" class=\"colab-df-container\">\n",
              "    <div>\n",
              "<style scoped>\n",
              "    .dataframe tbody tr th:only-of-type {\n",
              "        vertical-align: middle;\n",
              "    }\n",
              "\n",
              "    .dataframe tbody tr th {\n",
              "        vertical-align: top;\n",
              "    }\n",
              "\n",
              "    .dataframe thead th {\n",
              "        text-align: right;\n",
              "    }\n",
              "</style>\n",
              "<table border=\"1\" class=\"dataframe\">\n",
              "  <thead>\n",
              "    <tr style=\"text-align: right;\">\n",
              "      <th></th>\n",
              "      <th>연령</th>\n",
              "      <th>감정_대분류</th>\n",
              "      <th>감정_소분류</th>\n",
              "      <th>sentence</th>\n",
              "    </tr>\n",
              "  </thead>\n",
              "  <tbody>\n",
              "    <tr>\n",
              "      <th>0</th>\n",
              "      <td>청년</td>\n",
              "      <td>기쁨</td>\n",
              "      <td>신이 난</td>\n",
              "      <td>아내가 드디어 출산하게 되어서 정말 신이 나. 아 지금 정말 신이 나. 아기가 점점...</td>\n",
              "    </tr>\n",
              "    <tr>\n",
              "      <th>1</th>\n",
              "      <td>노년</td>\n",
              "      <td>불안</td>\n",
              "      <td>스트레스 받는</td>\n",
              "      <td>당뇨랑 합병증 때문에 먹어야 할 약이 열 가지가 넘어가니까 스트레스야. 건강할 때 ...</td>\n",
              "    </tr>\n",
              "    <tr>\n",
              "      <th>2</th>\n",
              "      <td>청소년</td>\n",
              "      <td>당황</td>\n",
              "      <td>당황</td>\n",
              "      <td>고등학교에 올라오니 중학교 때보다 수업이 갑자기 어려워져서 당황스러워. 아직 학기 ...</td>\n",
              "    </tr>\n",
              "    <tr>\n",
              "      <th>3</th>\n",
              "      <td>노년</td>\n",
              "      <td>기쁨</td>\n",
              "      <td>신이 난</td>\n",
              "      <td>재취업이 돼서 받게 된 첫 월급으로 온 가족이 외식을 할 예정이야. 너무 행복해. ...</td>\n",
              "    </tr>\n",
              "    <tr>\n",
              "      <th>4</th>\n",
              "      <td>노년</td>\n",
              "      <td>기쁨</td>\n",
              "      <td>안도</td>\n",
              "      <td>빚을 드디어 다 갚게 되어서 이제야 안도감이 들어. 빚도 다 갚았으니 당분간은 아무...</td>\n",
              "    </tr>\n",
              "  </tbody>\n",
              "</table>\n",
              "</div>\n",
              "    <div class=\"colab-df-buttons\">\n",
              "\n",
              "  <div class=\"colab-df-container\">\n",
              "    <button class=\"colab-df-convert\" onclick=\"convertToInteractive('df-db210970-f1fa-4313-8faa-0ff97e13cc8c')\"\n",
              "            title=\"Convert this dataframe to an interactive table.\"\n",
              "            style=\"display:none;\">\n",
              "\n",
              "  <svg xmlns=\"http://www.w3.org/2000/svg\" height=\"24px\" viewBox=\"0 -960 960 960\">\n",
              "    <path d=\"M120-120v-720h720v720H120Zm60-500h600v-160H180v160Zm220 220h160v-160H400v160Zm0 220h160v-160H400v160ZM180-400h160v-160H180v160Zm440 0h160v-160H620v160ZM180-180h160v-160H180v160Zm440 0h160v-160H620v160Z\"/>\n",
              "  </svg>\n",
              "    </button>\n",
              "\n",
              "  <style>\n",
              "    .colab-df-container {\n",
              "      display:flex;\n",
              "      gap: 12px;\n",
              "    }\n",
              "\n",
              "    .colab-df-convert {\n",
              "      background-color: #E8F0FE;\n",
              "      border: none;\n",
              "      border-radius: 50%;\n",
              "      cursor: pointer;\n",
              "      display: none;\n",
              "      fill: #1967D2;\n",
              "      height: 32px;\n",
              "      padding: 0 0 0 0;\n",
              "      width: 32px;\n",
              "    }\n",
              "\n",
              "    .colab-df-convert:hover {\n",
              "      background-color: #E2EBFA;\n",
              "      box-shadow: 0px 1px 2px rgba(60, 64, 67, 0.3), 0px 1px 3px 1px rgba(60, 64, 67, 0.15);\n",
              "      fill: #174EA6;\n",
              "    }\n",
              "\n",
              "    .colab-df-buttons div {\n",
              "      margin-bottom: 4px;\n",
              "    }\n",
              "\n",
              "    [theme=dark] .colab-df-convert {\n",
              "      background-color: #3B4455;\n",
              "      fill: #D2E3FC;\n",
              "    }\n",
              "\n",
              "    [theme=dark] .colab-df-convert:hover {\n",
              "      background-color: #434B5C;\n",
              "      box-shadow: 0px 1px 3px 1px rgba(0, 0, 0, 0.15);\n",
              "      filter: drop-shadow(0px 1px 2px rgba(0, 0, 0, 0.3));\n",
              "      fill: #FFFFFF;\n",
              "    }\n",
              "  </style>\n",
              "\n",
              "    <script>\n",
              "      const buttonEl =\n",
              "        document.querySelector('#df-db210970-f1fa-4313-8faa-0ff97e13cc8c button.colab-df-convert');\n",
              "      buttonEl.style.display =\n",
              "        google.colab.kernel.accessAllowed ? 'block' : 'none';\n",
              "\n",
              "      async function convertToInteractive(key) {\n",
              "        const element = document.querySelector('#df-db210970-f1fa-4313-8faa-0ff97e13cc8c');\n",
              "        const dataTable =\n",
              "          await google.colab.kernel.invokeFunction('convertToInteractive',\n",
              "                                                    [key], {});\n",
              "        if (!dataTable) return;\n",
              "\n",
              "        const docLinkHtml = 'Like what you see? Visit the ' +\n",
              "          '<a target=\"_blank\" href=https://colab.research.google.com/notebooks/data_table.ipynb>data table notebook</a>'\n",
              "          + ' to learn more about interactive tables.';\n",
              "        element.innerHTML = '';\n",
              "        dataTable['output_type'] = 'display_data';\n",
              "        await google.colab.output.renderOutput(dataTable, element);\n",
              "        const docLink = document.createElement('div');\n",
              "        docLink.innerHTML = docLinkHtml;\n",
              "        element.appendChild(docLink);\n",
              "      }\n",
              "    </script>\n",
              "  </div>\n",
              "\n",
              "\n",
              "<div id=\"df-373f8734-041c-44bd-a553-7f7e67d16878\">\n",
              "  <button class=\"colab-df-quickchart\" onclick=\"quickchart('df-373f8734-041c-44bd-a553-7f7e67d16878')\"\n",
              "            title=\"Suggest charts\"\n",
              "            style=\"display:none;\">\n",
              "\n",
              "<svg xmlns=\"http://www.w3.org/2000/svg\" height=\"24px\"viewBox=\"0 0 24 24\"\n",
              "     width=\"24px\">\n",
              "    <g>\n",
              "        <path d=\"M19 3H5c-1.1 0-2 .9-2 2v14c0 1.1.9 2 2 2h14c1.1 0 2-.9 2-2V5c0-1.1-.9-2-2-2zM9 17H7v-7h2v7zm4 0h-2V7h2v10zm4 0h-2v-4h2v4z\"/>\n",
              "    </g>\n",
              "</svg>\n",
              "  </button>\n",
              "\n",
              "<style>\n",
              "  .colab-df-quickchart {\n",
              "      --bg-color: #E8F0FE;\n",
              "      --fill-color: #1967D2;\n",
              "      --hover-bg-color: #E2EBFA;\n",
              "      --hover-fill-color: #174EA6;\n",
              "      --disabled-fill-color: #AAA;\n",
              "      --disabled-bg-color: #DDD;\n",
              "  }\n",
              "\n",
              "  [theme=dark] .colab-df-quickchart {\n",
              "      --bg-color: #3B4455;\n",
              "      --fill-color: #D2E3FC;\n",
              "      --hover-bg-color: #434B5C;\n",
              "      --hover-fill-color: #FFFFFF;\n",
              "      --disabled-bg-color: #3B4455;\n",
              "      --disabled-fill-color: #666;\n",
              "  }\n",
              "\n",
              "  .colab-df-quickchart {\n",
              "    background-color: var(--bg-color);\n",
              "    border: none;\n",
              "    border-radius: 50%;\n",
              "    cursor: pointer;\n",
              "    display: none;\n",
              "    fill: var(--fill-color);\n",
              "    height: 32px;\n",
              "    padding: 0;\n",
              "    width: 32px;\n",
              "  }\n",
              "\n",
              "  .colab-df-quickchart:hover {\n",
              "    background-color: var(--hover-bg-color);\n",
              "    box-shadow: 0 1px 2px rgba(60, 64, 67, 0.3), 0 1px 3px 1px rgba(60, 64, 67, 0.15);\n",
              "    fill: var(--button-hover-fill-color);\n",
              "  }\n",
              "\n",
              "  .colab-df-quickchart-complete:disabled,\n",
              "  .colab-df-quickchart-complete:disabled:hover {\n",
              "    background-color: var(--disabled-bg-color);\n",
              "    fill: var(--disabled-fill-color);\n",
              "    box-shadow: none;\n",
              "  }\n",
              "\n",
              "  .colab-df-spinner {\n",
              "    border: 2px solid var(--fill-color);\n",
              "    border-color: transparent;\n",
              "    border-bottom-color: var(--fill-color);\n",
              "    animation:\n",
              "      spin 1s steps(1) infinite;\n",
              "  }\n",
              "\n",
              "  @keyframes spin {\n",
              "    0% {\n",
              "      border-color: transparent;\n",
              "      border-bottom-color: var(--fill-color);\n",
              "      border-left-color: var(--fill-color);\n",
              "    }\n",
              "    20% {\n",
              "      border-color: transparent;\n",
              "      border-left-color: var(--fill-color);\n",
              "      border-top-color: var(--fill-color);\n",
              "    }\n",
              "    30% {\n",
              "      border-color: transparent;\n",
              "      border-left-color: var(--fill-color);\n",
              "      border-top-color: var(--fill-color);\n",
              "      border-right-color: var(--fill-color);\n",
              "    }\n",
              "    40% {\n",
              "      border-color: transparent;\n",
              "      border-right-color: var(--fill-color);\n",
              "      border-top-color: var(--fill-color);\n",
              "    }\n",
              "    60% {\n",
              "      border-color: transparent;\n",
              "      border-right-color: var(--fill-color);\n",
              "    }\n",
              "    80% {\n",
              "      border-color: transparent;\n",
              "      border-right-color: var(--fill-color);\n",
              "      border-bottom-color: var(--fill-color);\n",
              "    }\n",
              "    90% {\n",
              "      border-color: transparent;\n",
              "      border-bottom-color: var(--fill-color);\n",
              "    }\n",
              "  }\n",
              "</style>\n",
              "\n",
              "  <script>\n",
              "    async function quickchart(key) {\n",
              "      const quickchartButtonEl =\n",
              "        document.querySelector('#' + key + ' button');\n",
              "      quickchartButtonEl.disabled = true;  // To prevent multiple clicks.\n",
              "      quickchartButtonEl.classList.add('colab-df-spinner');\n",
              "      try {\n",
              "        const charts = await google.colab.kernel.invokeFunction(\n",
              "            'suggestCharts', [key], {});\n",
              "      } catch (error) {\n",
              "        console.error('Error during call to suggestCharts:', error);\n",
              "      }\n",
              "      quickchartButtonEl.classList.remove('colab-df-spinner');\n",
              "      quickchartButtonEl.classList.add('colab-df-quickchart-complete');\n",
              "    }\n",
              "    (() => {\n",
              "      let quickchartButtonEl =\n",
              "        document.querySelector('#df-373f8734-041c-44bd-a553-7f7e67d16878 button');\n",
              "      quickchartButtonEl.style.display =\n",
              "        google.colab.kernel.accessAllowed ? 'block' : 'none';\n",
              "    })();\n",
              "  </script>\n",
              "</div>\n",
              "\n",
              "    </div>\n",
              "  </div>\n"
            ],
            "application/vnd.google.colaboratory.intrinsic+json": {
              "type": "dataframe",
              "variable_name": "df1",
              "summary": "{\n  \"name\": \"df1\",\n  \"rows\": 69218,\n  \"fields\": [\n    {\n      \"column\": \"\\uc5f0\\ub839\",\n      \"properties\": {\n        \"dtype\": \"category\",\n        \"num_unique_values\": 4,\n        \"samples\": [\n          \"\\ub178\\ub144\",\n          \"\\uc911\\ub144\",\n          \"\\uccad\\ub144\"\n        ],\n        \"semantic_type\": \"\",\n        \"description\": \"\"\n      }\n    },\n    {\n      \"column\": \"\\uac10\\uc815_\\ub300\\ubd84\\ub958\",\n      \"properties\": {\n        \"dtype\": \"category\",\n        \"num_unique_values\": 8,\n        \"samples\": [\n          \"\\ubd88\\uc548\",\n          \"\\uc0c1\\ucc98\",\n          \"\\uae30\\uc068\"\n        ],\n        \"semantic_type\": \"\",\n        \"description\": \"\"\n      }\n    },\n    {\n      \"column\": \"\\uac10\\uc815_\\uc18c\\ubd84\\ub958\",\n      \"properties\": {\n        \"dtype\": \"category\",\n        \"num_unique_values\": 58,\n        \"samples\": [\n          \"\\uc2e0\\uc774 \\ub09c\",\n          \"\\uc6b0\\uc6b8\\ud55c\",\n          \"\\uc5b5\\uc6b8\\ud55c\"\n        ],\n        \"semantic_type\": \"\",\n        \"description\": \"\"\n      }\n    },\n    {\n      \"column\": \"sentence\",\n      \"properties\": {\n        \"dtype\": \"string\",\n        \"num_unique_values\": 40851,\n        \"samples\": [\n          \"\\uc81c\\uc77c \\uce5c\\ud55c \\uce5c\\uad6c\\uac00 \\uc54c\\uace0 \\ubcf4\\ub2c8 \\uad34\\ub86d\\ud798\\uc744 \\ub2f9\\ud558\\uace0 \\uc788\\uc5c8\\ub294\\ub370 \\uadf8\\uac78 \\ubab0\\ub790\\ub2e4\\ub294 \\uac8c \\ub108\\ubb34 \\ubd80\\ub044\\ub7ec\\uc6cc. \\ub0b4\\uac00 \\ub354 \\uc798 \\uc54c\\uc544 \\uc92c\\uc5b4\\uc57c \\ud588\\ub294\\ub370 \\uadf8 \\uce5c\\uad6c\\uc5d0\\uac8c \\ub108\\ubb34 \\ubbf8\\uc548\\ud574\\uc11c \\ub098 \\uc790\\uc2e0\\uc5d0\\uac8c \\ud654\\uac00 \\ub098. \\uc77c\\ub2e8 \\uce5c\\uad6c\\uac00 \\uad34\\ub86d\\ud798\\uc744 \\ub2f9\\ud558\\uc9c0 \\ubabb\\ud558\\uac8c \\uac19\\uc774 \\uc788\\uc5b4\\uc918\\uc57c\\uaca0\\uc5b4. \",\n          \"\\uc606\\uc9d1 \\ud560\\uba38\\ub2c8\\uac00 \\ud070\\uc77c\\uc774 \\ub09c \\uc904 \\uc54c\\uc558\\ub294\\ub370 \\ub0a0\\uc774 \\ub354\\uc6cc\\uc11c \\uc7a0\\uc2dc \\uae30\\uc808\\ud55c \\uac83\\uc774\\ub77c \\ud558\\ub2c8 \\ub2e4\\ud589\\uc774\\uc57c. \\uc606\\uc9d1 \\ud560\\uba38\\ub2c8\\uac00 \\uc6b0\\ub9ac \\uc9d1 \\uc55e\\uc5d0\\uc11c \\uc4f0\\ub7ec\\uc838\\uc788\\uc5b4\\uc11c \\uc5bc\\ub9c8\\ub098 \\ub180\\ub790\\ub294\\uc9c0 \\ubab0\\ub77c. \\uc606\\uc9d1 \\ud560\\uba38\\ub2c8\\ub098 \\ub098\\ub098 \\ub098\\uc774\\uac00 \\uc788\\uc5b4\\uc11c \\ud56d\\uc0c1 \\uac74\\uac15\\uc744 \\uc2e0\\uacbd \\uc4f8 \\uc218\\ubc16\\uc5d0 \\uc5c6\\uc5b4. \",\n          \"\\ud68c\\uc0ac \\uc790\\uae08\\ub09c \\ub54c\\ubb38\\uc5d0 \\ub124 \\ub2ec\\uc9f8 \\uc6d4\\uae09\\uc774 \\ub4e4\\uc5b4\\uc624\\uc9c0 \\uc54a\\uc544 \\uc0dd\\ud65c\\uc774 \\ud798\\ub4e4\\uace0 \\ud654\\uac00 \\ub098. \\ub124 \\ub2ec\\uc9f8 \\ub4e4\\uc5b4\\uc624\\uc9c0 \\uc54a\\uc544 \\uc138\\uae08\\ub3c4 \\ubabb \\ub0b4\\uace0 \\uc788\\uc73c\\ub2c8 \\ub354\\uc6b1 \\uc88c\\uc808\\uc2a4\\ub7ec\\uc6cc. \\uce5c\\uad6c\\ub4e4\\uc5d0\\uac8c \\ub3c8\\uc744 \\ube4c\\ub824\\uc57c \\ud560 \\uac83 \\uac19\\uc544. \"\n        ],\n        \"semantic_type\": \"\",\n        \"description\": \"\"\n      }\n    }\n  ]\n}"
            }
          },
          "metadata": {},
          "execution_count": 6
        }
      ],
      "source": [
        "df1 = pd.read_csv(\"data_sent_new.csv\", encoding=\"cp949\")\n",
        "df1.head()"
      ]
    },
    {
      "cell_type": "code",
      "source": [
        "df1.감정_대분류.value_counts()\n",
        "df1_2 = df1.query(\"(감정_대분류=='불안') or (감정_대분류=='당황')\")\n",
        "df1_2 = df1_2.sample(2000)"
      ],
      "metadata": {
        "id": "7frTAdN0dQ1D"
      },
      "execution_count": null,
      "outputs": []
    },
    {
      "cell_type": "code",
      "source": [
        "okt = Okt()\n",
        "def token(text):\n",
        "    return okt.nouns(text)\n",
        "\n",
        "vect1 = CountVectorizer(tokenizer=token)\n",
        "dtm1 = vect1.fit_transform(df1_2[\"sentence\"])\n"
      ],
      "metadata": {
        "colab": {
          "base_uri": "https://localhost:8080/"
        },
        "id": "NKd_I9TwcqS4",
        "outputId": "6a33bbe5-153f-47a9-b735-8f156941c532"
      },
      "execution_count": null,
      "outputs": [
        {
          "output_type": "stream",
          "name": "stderr",
          "text": [
            "/usr/local/lib/python3.10/dist-packages/sklearn/feature_extraction/text.py:525: UserWarning: The parameter 'token_pattern' will not be used since 'tokenizer' is not None'\n",
            "  warnings.warn(\n"
          ]
        }
      ]
    },
    {
      "cell_type": "code",
      "source": [
        "X_train1, X_test1, y_train1, y_test1 = train_test_split( dtm1, df1_2.감정_대분류)\n",
        "dt1 = DecisionTreeClassifier()\n",
        "dt1.fit(X_train1, y_train1)\n",
        "pred1 = dt1.predict(X_test1)\n",
        "print(classification_report(y_test1, pred1))\n"
      ],
      "metadata": {
        "colab": {
          "base_uri": "https://localhost:8080/"
        },
        "id": "2PH6ZPxIeT4u",
        "outputId": "bcfe0e57-91e2-4123-e150-5bfb4763b471"
      },
      "execution_count": null,
      "outputs": [
        {
          "output_type": "stream",
          "name": "stdout",
          "text": [
            "              precision    recall  f1-score   support\n",
            "\n",
            "          당황       0.62      0.64      0.63       230\n",
            "          불안       0.69      0.67      0.68       270\n",
            "\n",
            "    accuracy                           0.66       500\n",
            "   macro avg       0.65      0.66      0.65       500\n",
            "weighted avg       0.66      0.66      0.66       500\n",
            "\n"
          ]
        }
      ]
    },
    {
      "cell_type": "markdown",
      "source": [
        "###2번"
      ],
      "metadata": {
        "id": "1jX_w_qlezRt"
      }
    },
    {
      "cell_type": "code",
      "execution_count": null,
      "metadata": {
        "colab": {
          "base_uri": "https://localhost:8080/",
          "height": 206
        },
        "outputId": "44967bb6-b2ae-4003-f825-d7a2ffe086c8",
        "id": "obOHpgDzfaG5"
      },
      "outputs": [
        {
          "output_type": "execute_result",
          "data": {
            "text/plain": [
              "     번호  분류                           제목  \\\n",
              "0  2645  복지                  아빠 육아휴직 장려금   \n",
              "1  2644  경제            [서울산업진흥원] 서울메이드란?   \n",
              "2  2643  환경                    (강북구) 정비중   \n",
              "3  2642  복지  광진맘택시 운영(임산부,영아 양육가정 전용 택시)   \n",
              "4  2641  복지               마포 뇌병변장애인 비전센터   \n",
              "\n",
              "                                                  내용      내용번호  \n",
              "0     업무개요  남성근로자의 육아휴직을 장려하고 양육에 따른 경제적 부담을 완화함으...  23522464  \n",
              "1   서울의 감성을 담은 다양하고 새로운 경험을 제공하기 위해 만들어진 라이프스타일 플...  23194045  \n",
              "2  업무개요  투명 폐트병을 교환 보상하므로 수거율을 높이고 폐기물을 감량하여 환경 보...  23032485  \n",
              "3  업무개요 교통약자인 임산부와 영아가정 주민이 병원 진료를 받으러 갈 떄 쾌적하고 안...  22904492  \n",
              "4    마포뇌병변장애인 비전센터 운영   구분 내용  목적  학령기 이후 갈 곳이 없는...  22477798  "
            ],
            "text/html": [
              "\n",
              "  <div id=\"df-a94e760c-6c5f-4e6f-bf91-3804a5c651e4\" class=\"colab-df-container\">\n",
              "    <div>\n",
              "<style scoped>\n",
              "    .dataframe tbody tr th:only-of-type {\n",
              "        vertical-align: middle;\n",
              "    }\n",
              "\n",
              "    .dataframe tbody tr th {\n",
              "        vertical-align: top;\n",
              "    }\n",
              "\n",
              "    .dataframe thead th {\n",
              "        text-align: right;\n",
              "    }\n",
              "</style>\n",
              "<table border=\"1\" class=\"dataframe\">\n",
              "  <thead>\n",
              "    <tr style=\"text-align: right;\">\n",
              "      <th></th>\n",
              "      <th>번호</th>\n",
              "      <th>분류</th>\n",
              "      <th>제목</th>\n",
              "      <th>내용</th>\n",
              "      <th>내용번호</th>\n",
              "    </tr>\n",
              "  </thead>\n",
              "  <tbody>\n",
              "    <tr>\n",
              "      <th>0</th>\n",
              "      <td>2645</td>\n",
              "      <td>복지</td>\n",
              "      <td>아빠 육아휴직 장려금</td>\n",
              "      <td>업무개요  남성근로자의 육아휴직을 장려하고 양육에 따른 경제적 부담을 완화함으...</td>\n",
              "      <td>23522464</td>\n",
              "    </tr>\n",
              "    <tr>\n",
              "      <th>1</th>\n",
              "      <td>2644</td>\n",
              "      <td>경제</td>\n",
              "      <td>[서울산업진흥원] 서울메이드란?</td>\n",
              "      <td>서울의 감성을 담은 다양하고 새로운 경험을 제공하기 위해 만들어진 라이프스타일 플...</td>\n",
              "      <td>23194045</td>\n",
              "    </tr>\n",
              "    <tr>\n",
              "      <th>2</th>\n",
              "      <td>2643</td>\n",
              "      <td>환경</td>\n",
              "      <td>(강북구) 정비중</td>\n",
              "      <td>업무개요  투명 폐트병을 교환 보상하므로 수거율을 높이고 폐기물을 감량하여 환경 보...</td>\n",
              "      <td>23032485</td>\n",
              "    </tr>\n",
              "    <tr>\n",
              "      <th>3</th>\n",
              "      <td>2642</td>\n",
              "      <td>복지</td>\n",
              "      <td>광진맘택시 운영(임산부,영아 양육가정 전용 택시)</td>\n",
              "      <td>업무개요 교통약자인 임산부와 영아가정 주민이 병원 진료를 받으러 갈 떄 쾌적하고 안...</td>\n",
              "      <td>22904492</td>\n",
              "    </tr>\n",
              "    <tr>\n",
              "      <th>4</th>\n",
              "      <td>2641</td>\n",
              "      <td>복지</td>\n",
              "      <td>마포 뇌병변장애인 비전센터</td>\n",
              "      <td>마포뇌병변장애인 비전센터 운영   구분 내용  목적  학령기 이후 갈 곳이 없는...</td>\n",
              "      <td>22477798</td>\n",
              "    </tr>\n",
              "  </tbody>\n",
              "</table>\n",
              "</div>\n",
              "    <div class=\"colab-df-buttons\">\n",
              "\n",
              "  <div class=\"colab-df-container\">\n",
              "    <button class=\"colab-df-convert\" onclick=\"convertToInteractive('df-a94e760c-6c5f-4e6f-bf91-3804a5c651e4')\"\n",
              "            title=\"Convert this dataframe to an interactive table.\"\n",
              "            style=\"display:none;\">\n",
              "\n",
              "  <svg xmlns=\"http://www.w3.org/2000/svg\" height=\"24px\" viewBox=\"0 -960 960 960\">\n",
              "    <path d=\"M120-120v-720h720v720H120Zm60-500h600v-160H180v160Zm220 220h160v-160H400v160Zm0 220h160v-160H400v160ZM180-400h160v-160H180v160Zm440 0h160v-160H620v160ZM180-180h160v-160H180v160Zm440 0h160v-160H620v160Z\"/>\n",
              "  </svg>\n",
              "    </button>\n",
              "\n",
              "  <style>\n",
              "    .colab-df-container {\n",
              "      display:flex;\n",
              "      gap: 12px;\n",
              "    }\n",
              "\n",
              "    .colab-df-convert {\n",
              "      background-color: #E8F0FE;\n",
              "      border: none;\n",
              "      border-radius: 50%;\n",
              "      cursor: pointer;\n",
              "      display: none;\n",
              "      fill: #1967D2;\n",
              "      height: 32px;\n",
              "      padding: 0 0 0 0;\n",
              "      width: 32px;\n",
              "    }\n",
              "\n",
              "    .colab-df-convert:hover {\n",
              "      background-color: #E2EBFA;\n",
              "      box-shadow: 0px 1px 2px rgba(60, 64, 67, 0.3), 0px 1px 3px 1px rgba(60, 64, 67, 0.15);\n",
              "      fill: #174EA6;\n",
              "    }\n",
              "\n",
              "    .colab-df-buttons div {\n",
              "      margin-bottom: 4px;\n",
              "    }\n",
              "\n",
              "    [theme=dark] .colab-df-convert {\n",
              "      background-color: #3B4455;\n",
              "      fill: #D2E3FC;\n",
              "    }\n",
              "\n",
              "    [theme=dark] .colab-df-convert:hover {\n",
              "      background-color: #434B5C;\n",
              "      box-shadow: 0px 1px 3px 1px rgba(0, 0, 0, 0.15);\n",
              "      filter: drop-shadow(0px 1px 2px rgba(0, 0, 0, 0.3));\n",
              "      fill: #FFFFFF;\n",
              "    }\n",
              "  </style>\n",
              "\n",
              "    <script>\n",
              "      const buttonEl =\n",
              "        document.querySelector('#df-a94e760c-6c5f-4e6f-bf91-3804a5c651e4 button.colab-df-convert');\n",
              "      buttonEl.style.display =\n",
              "        google.colab.kernel.accessAllowed ? 'block' : 'none';\n",
              "\n",
              "      async function convertToInteractive(key) {\n",
              "        const element = document.querySelector('#df-a94e760c-6c5f-4e6f-bf91-3804a5c651e4');\n",
              "        const dataTable =\n",
              "          await google.colab.kernel.invokeFunction('convertToInteractive',\n",
              "                                                    [key], {});\n",
              "        if (!dataTable) return;\n",
              "\n",
              "        const docLinkHtml = 'Like what you see? Visit the ' +\n",
              "          '<a target=\"_blank\" href=https://colab.research.google.com/notebooks/data_table.ipynb>data table notebook</a>'\n",
              "          + ' to learn more about interactive tables.';\n",
              "        element.innerHTML = '';\n",
              "        dataTable['output_type'] = 'display_data';\n",
              "        await google.colab.output.renderOutput(dataTable, element);\n",
              "        const docLink = document.createElement('div');\n",
              "        docLink.innerHTML = docLinkHtml;\n",
              "        element.appendChild(docLink);\n",
              "      }\n",
              "    </script>\n",
              "  </div>\n",
              "\n",
              "\n",
              "<div id=\"df-f02674f2-a511-4602-802a-9ecd272077d8\">\n",
              "  <button class=\"colab-df-quickchart\" onclick=\"quickchart('df-f02674f2-a511-4602-802a-9ecd272077d8')\"\n",
              "            title=\"Suggest charts\"\n",
              "            style=\"display:none;\">\n",
              "\n",
              "<svg xmlns=\"http://www.w3.org/2000/svg\" height=\"24px\"viewBox=\"0 0 24 24\"\n",
              "     width=\"24px\">\n",
              "    <g>\n",
              "        <path d=\"M19 3H5c-1.1 0-2 .9-2 2v14c0 1.1.9 2 2 2h14c1.1 0 2-.9 2-2V5c0-1.1-.9-2-2-2zM9 17H7v-7h2v7zm4 0h-2V7h2v10zm4 0h-2v-4h2v4z\"/>\n",
              "    </g>\n",
              "</svg>\n",
              "  </button>\n",
              "\n",
              "<style>\n",
              "  .colab-df-quickchart {\n",
              "      --bg-color: #E8F0FE;\n",
              "      --fill-color: #1967D2;\n",
              "      --hover-bg-color: #E2EBFA;\n",
              "      --hover-fill-color: #174EA6;\n",
              "      --disabled-fill-color: #AAA;\n",
              "      --disabled-bg-color: #DDD;\n",
              "  }\n",
              "\n",
              "  [theme=dark] .colab-df-quickchart {\n",
              "      --bg-color: #3B4455;\n",
              "      --fill-color: #D2E3FC;\n",
              "      --hover-bg-color: #434B5C;\n",
              "      --hover-fill-color: #FFFFFF;\n",
              "      --disabled-bg-color: #3B4455;\n",
              "      --disabled-fill-color: #666;\n",
              "  }\n",
              "\n",
              "  .colab-df-quickchart {\n",
              "    background-color: var(--bg-color);\n",
              "    border: none;\n",
              "    border-radius: 50%;\n",
              "    cursor: pointer;\n",
              "    display: none;\n",
              "    fill: var(--fill-color);\n",
              "    height: 32px;\n",
              "    padding: 0;\n",
              "    width: 32px;\n",
              "  }\n",
              "\n",
              "  .colab-df-quickchart:hover {\n",
              "    background-color: var(--hover-bg-color);\n",
              "    box-shadow: 0 1px 2px rgba(60, 64, 67, 0.3), 0 1px 3px 1px rgba(60, 64, 67, 0.15);\n",
              "    fill: var(--button-hover-fill-color);\n",
              "  }\n",
              "\n",
              "  .colab-df-quickchart-complete:disabled,\n",
              "  .colab-df-quickchart-complete:disabled:hover {\n",
              "    background-color: var(--disabled-bg-color);\n",
              "    fill: var(--disabled-fill-color);\n",
              "    box-shadow: none;\n",
              "  }\n",
              "\n",
              "  .colab-df-spinner {\n",
              "    border: 2px solid var(--fill-color);\n",
              "    border-color: transparent;\n",
              "    border-bottom-color: var(--fill-color);\n",
              "    animation:\n",
              "      spin 1s steps(1) infinite;\n",
              "  }\n",
              "\n",
              "  @keyframes spin {\n",
              "    0% {\n",
              "      border-color: transparent;\n",
              "      border-bottom-color: var(--fill-color);\n",
              "      border-left-color: var(--fill-color);\n",
              "    }\n",
              "    20% {\n",
              "      border-color: transparent;\n",
              "      border-left-color: var(--fill-color);\n",
              "      border-top-color: var(--fill-color);\n",
              "    }\n",
              "    30% {\n",
              "      border-color: transparent;\n",
              "      border-left-color: var(--fill-color);\n",
              "      border-top-color: var(--fill-color);\n",
              "      border-right-color: var(--fill-color);\n",
              "    }\n",
              "    40% {\n",
              "      border-color: transparent;\n",
              "      border-right-color: var(--fill-color);\n",
              "      border-top-color: var(--fill-color);\n",
              "    }\n",
              "    60% {\n",
              "      border-color: transparent;\n",
              "      border-right-color: var(--fill-color);\n",
              "    }\n",
              "    80% {\n",
              "      border-color: transparent;\n",
              "      border-right-color: var(--fill-color);\n",
              "      border-bottom-color: var(--fill-color);\n",
              "    }\n",
              "    90% {\n",
              "      border-color: transparent;\n",
              "      border-bottom-color: var(--fill-color);\n",
              "    }\n",
              "  }\n",
              "</style>\n",
              "\n",
              "  <script>\n",
              "    async function quickchart(key) {\n",
              "      const quickchartButtonEl =\n",
              "        document.querySelector('#' + key + ' button');\n",
              "      quickchartButtonEl.disabled = true;  // To prevent multiple clicks.\n",
              "      quickchartButtonEl.classList.add('colab-df-spinner');\n",
              "      try {\n",
              "        const charts = await google.colab.kernel.invokeFunction(\n",
              "            'suggestCharts', [key], {});\n",
              "      } catch (error) {\n",
              "        console.error('Error during call to suggestCharts:', error);\n",
              "      }\n",
              "      quickchartButtonEl.classList.remove('colab-df-spinner');\n",
              "      quickchartButtonEl.classList.add('colab-df-quickchart-complete');\n",
              "    }\n",
              "    (() => {\n",
              "      let quickchartButtonEl =\n",
              "        document.querySelector('#df-f02674f2-a511-4602-802a-9ecd272077d8 button');\n",
              "      quickchartButtonEl.style.display =\n",
              "        google.colab.kernel.accessAllowed ? 'block' : 'none';\n",
              "    })();\n",
              "  </script>\n",
              "</div>\n",
              "\n",
              "    </div>\n",
              "  </div>\n"
            ],
            "application/vnd.google.colaboratory.intrinsic+json": {
              "type": "dataframe",
              "variable_name": "df2",
              "summary": "{\n  \"name\": \"df2\",\n  \"rows\": 2645,\n  \"fields\": [\n    {\n      \"column\": \"\\ubc88\\ud638\",\n      \"properties\": {\n        \"dtype\": \"number\",\n        \"std\": 763,\n        \"min\": 1,\n        \"max\": 2645,\n        \"num_unique_values\": 2645,\n        \"samples\": [\n          1755,\n          241,\n          1608\n        ],\n        \"semantic_type\": \"\",\n        \"description\": \"\"\n      }\n    },\n    {\n      \"column\": \"\\ubd84\\ub958\",\n      \"properties\": {\n        \"dtype\": \"category\",\n        \"num_unique_values\": 10,\n        \"samples\": [\n          \"\\uac74\\uac15\",\n          \"\\uacbd\\uc81c\",\n          \"\\uc8fc\\ud0dd\\ub3c4\\uc2dc\\uacc4\\ud68d\"\n        ],\n        \"semantic_type\": \"\",\n        \"description\": \"\"\n      }\n    },\n    {\n      \"column\": \"\\uc81c\\ubaa9\",\n      \"properties\": {\n        \"dtype\": \"string\",\n        \"num_unique_values\": 2638,\n        \"samples\": [\n          \"\\uc0ac\\ud68c\\ub2e8\\uccb4\\ubcf4\\uc870\\uae08 \\uc9c0\\uc6d0\\uc2ec\\uc758\\uc704\\uc6d0\\ud68c\\ub294 \\uc5b4\\ub5bb\\uac8c \\uad6c\\uc131\\ub418\\ub098\\uc694?\",\n          \"\\uacbd\\uc758\\uc81c2\\ub179\\uc9c0\\uc870\\uc131\\uc0ac\\uc5c5 \\uc138\\uc785\\uc790 \\ubcf4\\uc0c1\\uc740 \\uc644\\ub8cc\\ub418\\uc5c8\\ub098\\uc694?\",\n          \"\\uc6b0\\uc218\\ud604\\uc7a5 \\uad00\\uacc4\\uc790 \\uc2dc\\uc0c1\\uad00\\ub828 \\ubb38\\uc758\"\n        ],\n        \"semantic_type\": \"\",\n        \"description\": \"\"\n      }\n    },\n    {\n      \"column\": \"\\ub0b4\\uc6a9\",\n      \"properties\": {\n        \"dtype\": \"string\",\n        \"num_unique_values\": 2619,\n        \"samples\": [\n          \"                                                                                                          \\uc5c5\\ubb34\\uac1c\\uc694   \\uc11c\\uc6b8\\uc2dc\\uc5d0\\uc11c\\ub294 \\ubcf4\\uc721\\uad50\\uc9c1\\uc6d0 \\ubc0f \\uc77c\\ubc18\\uc2dc\\ubbfc\\uc5d0 \\ub300\\ud574 \\ub2e4\\uc591\\ud558\\uace0 \\uc804\\ubb38\\ud654\\ub41c \\ubcf4\\uc721\\uc815\\ubcf4\\ub97c \\uc81c\\uacf5\\ud558\\uace0 \\uc0c1\\ub2f4\\uacfc \\uad50\\uc721\\uc744 \\ud1b5\\ud574 \\ubcf4\\uc721\\uc11c\\ube44\\uc2a4  \\uc218\\uc900\\uc744 \\ud5a5\\uc0c1\\uc2dc\\ud0a4\\uae30 \\uc704\\ud558\\uc5ec \\uc721\\uc544\\uc885\\ud569\\uc9c0\\uc6d0\\uc13c\\ud130\\ub97c \\uc124\\uce58 \\uc6b4\\uc601\\ud558\\uace0 \\uc788\\uc74c   \\uc5c5\\ubb34\\uc124\\uba85    \\uc11c\\uc6b8\\ud2b9\\ubcc4\\uc2dc\\uc721\\uc544\\uc885\\ud569\\uc9c0\\uc6d0\\uc13c\\ud130   \\ud648\\ud398\\uc774\\uc9c0                   \\ub300\\ud45c\\ubc88\\ud638       \\uc11c\\uc6b8\\ud2b9\\ubcc4\\uc2dc\\uc721\\uc544\\uc885\\ud569\\uc9c0\\uc6d0\\uc13c\\ud130 \\uc774\\uc6a9\\uc548\\ub0b4                                  \\uad6c\\ubd84   \\ub0b4 \\uc6a9      \\uc13c\\ud130\\uac15\\uc88c    \\uad50\\uc721\\ub0b4\\uc6a9  \\ubcf4\\uc721\\ud604\\uc7a5\\uc5d0 \\uc801\\uc6a9 \\uac00\\ub2a5\\ud55c \\uc2e4\\ubb34\\uc704\\uc8fc\\uc758 \\uad50\\uc721 \\ubc0f \\ubd80\\ubaa8\\uad50\\uc721 \\uc81c\\uacf5   \\uc11c\\uc6b8\\ud2b9\\ubcc4\\uc2dc\\uc721\\uc544\\uc885\\ud569\\uc9c0\\uc6d0\\uc13c\\ud130 \\ud648\\ud398\\uc774\\uc9c0                 \\uc815\\ubcf4\\ub9c8\\ub2f9  \\uad50\\uc721\\uc2e0\\uccad  \\uc2e0\\uccad\\ubc29\\ubc95  \\uc628\\ub77c\\uc778 \\uc2e0\\uccad      \\uc0c1\\ub2f4\\uc2e4    \\uc5b4\\ub9b0\\uc774\\uc9d1 \\uc774\\uc6a9 \\uc721\\uc544 \\uc5b4\\ub9b0\\uc774\\uc9d1 \\uc124\\uce58 \\ubc0f \\uc6b4\\uc601 \\ud2b9\\uc218\\uc544\\ub3d9\\uc0c1\\ub2f4   \\uc774\\uc6a9\\ubc29\\ubc95  \\uc628\\ub77c\\uc778 \\uc774\\uba54\\uc77c \\uc804\\ud654 \\ubc29\\ubb38\\uc0c1\\ub2f4    \\ubc29\\ubb38\\uc0c1\\ub2f4\\uc2dc \\uc0c1\\ub2f4\\uc2e0\\uccad\\uc11c\\ub97c \\uc791\\uc131\\ud558\\uc5ec \\uc774\\uba54\\uc77c             \\ub85c \\ubc1c\\uc1a1 \\ud6c4 \\uc0c1\\ub2f4\\uc77c \\uc870\\uc815    \\uc0c1\\ub2f4\\uc2e0\\uccad\\uc11c \\ub2e4\\uc6b4\\ub85c\\ub4dc \\uacbd\\ub85c  \\uc11c\\uc6b8\\ud2b9\\ubcc4\\uc2dc\\uc721\\uc544\\uc885\\ud569\\uc9c0\\uc6d0\\uc13c\\ud130 \\ud648\\ud398\\uc774\\uc9c0                 \\uc13c\\ud130\\uc18c\\uac1c     \\uc774\\uc6a9\\uc548\\ub0b4  \\uc0c1\\ub2f4\\uc2e4  \\ubc29\\ubb38\\uc0c1\\ub2f4 \\uc2e0\\uccad\\uc11c \\ub2e4\\uc6b4\\ub85c\\ub4dc \\ubd80\\ubaa8 \\uad50\\uc721\\uad50\\uc9c1\\uc6d0      \\uad50\\uc721\\uc2e4    \\uc774\\uc6a9\\ub300\\uc0c1  \\ubcf4\\uc721\\uad00\\ub828 \\uae30\\uad00 \\ubcf4\\uc721\\uad00\\ub828 \\ub2e8\\uccb4\\ub9cc \\uc774\\uc6a9\\uac00\\ub2a5 \\uc774\\uc775\\uc744 \\ubaa9\\uc801\\uc73c\\ub85c \\ud558\\ub294 \\ub2e8\\uccb4 \\ub300\\uc5ec \\ubd88\\uac00   \\uc774\\uc6a9\\uc2dc\\uac04  \\ud3c9\\uc77c     \\uc2e0\\uccad\\ubc29\\ubc95     \\uc0ac\\uc804\\uc5d0 \\ub300\\uc5ec \\uac00\\ub2a5\\ud55c\\uc9c0 \\uc804\\ud654   \\ub85c \\ud655\\uc778 \\ud6c4 \\uc0ac\\uc6a9 \\uc77c\\uc8fc\\uc77c \\uc804\\uae4c\\uc9c0 \\uc2e0\\uccad\\uc11c\\ub97c    \\uc73c\\ub85c \\uc81c\\ucd9c    \\ucde8\\uc18c \\ubc0f \\ubcc0\\uacbd\\uc740 \\uc77c\\uc804 \\uae4c\\uc9c0 \\uac00\\ub2a5    \\uc2e0\\uccad\\uc11c \\ub2e4\\uc6b4\\ub85c\\ub4dc \\uacbd\\ub85c  \\uc11c\\uc6b8\\ud2b9\\ubcc4\\uc2dc\\uc721\\uc544\\uc885\\ud569\\uc9c0\\uc6d0\\uc13c\\ud130 \\ud648\\ud398\\uc774\\uc9c0                 \\uc13c\\ud130\\uc18c\\uac1c     \\uc774\\uc6a9\\uc548\\ub0b4  \\uad50\\uc721\\uc2e4  \\uad50\\uc721\\uc2e4\\ub300\\uc5ec\\uc2e0\\uccad\\uc11c \\ub2e4\\uc6b4\\ub85c\\ub4dc  \\uc774\\uc6a9\\ub8cc    \\uad50\\uc721\\uc2e4 \\ub300\\uc5ec\\ube44  \\uc6d0 \\uae30\\ubcf8 \\uc2dc\\uac04 \\uae30\\uc900  \\ubd84\\ub2f9 \\uc6d0 \\uc529 \\ucd94\\uac00\\ube44\\uc6a9 \\ubc1c\\uc0dd    \\uae30\\uc790\\uc7ac \\ud504\\ub85c\\uc81d\\ud130 \\uc0ac\\uc6a9  \\uc6d0      \\uc815\\ubcf4\\uc2e4    \\ub3c4\\uc11c \\ubc0f \\uc790\\ub8cc\\uc758 \\uc5f4\\ub78c  \\uc790\\ub8cc \\uc5f4\\ub78c\\uc774 \\uc5b4\\ub824\\uc6b4 \\uacbd\\uc6b0\\uac00 \\uc788\\uc5b4 \\uc774\\uc6a9 \\uac00\\ub2a5\\uc5ec\\ubd80 \\ud655\\uc778 \\ud6c4 \\ubc29\\ubb38 \\uc548\\ub0b4   \\uc774\\uc6a9\\uc2dc\\uac04  \\ud3c9\\uc77c        \\uc7a5\\ub09c\\uac10\\ub3c4\\uc11c\\uad00    \\uc774\\uc6a9\\ub0b4\\uc6a9  \\uc7a5\\ub09c\\uac10 \\ubb34\\ub8cc\\ub300\\uc5ec \\uc790\\uc720\\ub180\\uc774\\uc2e4 \\uc6b4\\uc601 \\uc7a5\\ub09c\\uac10 \\uad50\\ud658\\uc0ac\\uc5c5 \\ubd80\\ubaa8\\ubaa8\\uc784 \\uc591\\uc721\\uc0c1\\ub2f4   \\uc704\\uce58  \\ud638\\uc120 \\uc744\\uc9c0\\ub85c\\uc785\\uad6c\\uc5ed \\ub0b4  \\uc11c\\uc6b8\\ud2b9\\ubcc4\\uc2dc\\uc721\\uc544\\uc885\\ud569\\uc9c0\\uc6d0\\uc13c\\ud130\\uc640 \\ub2e4\\ub978 \\uacf3\\uc5d0 \\uc704\\uce58\\ud568   \\uc11c\\uc6b8\\uc2dc \\uc5c5\\ubb34\\ub9e4\\ub274\\uc5bc \\ub179\\uc0c9\\uc7a5\\ub09c\\uac10\\ub3c4\\uc11c\\uad00 \\ud0a4\\uc988\\ubc45\\ud06c \\uc774\\uc6a9\\uc548\\ub0b4 \\ucc38\\uc870      \\uc804\\uc790\\ucc45\\ub3c4\\uc11c\\uad00    \\uc774\\uc6a9\\ub300\\uc0c1  \\uc11c\\uc6b8\\ud2b9\\ubcc4\\uc2dc\\uc721\\uc544\\uc885\\ud569\\uc9c0\\uc6d0\\uc13c\\ud130 \\ud648\\ud398\\uc774\\uc9c0 \\ud68c\\uc6d0\\uc774\\uba74 \\ub204\\uad6c\\ub098 \\uc774\\uc6a9\\uac00\\ub2a5   \\uc774\\uc6a9\\ub0b4\\uc6a9  \\uc601\\uc720\\uc544 \\ubc0f \\uc131\\uc778\\uc744 \\uc704\\ud55c \\uc804\\uc790\\ucc45 \\uc5ec\\uad8c\\uacfc \\ub3d9\\ud654\\uad00\\ub828 \\uc0c9\\uce60\\ud558\\uae30   \\uc774\\uc6a9\\ubc29\\ubc95  \\uc11c\\uc6b8\\ud2b9\\ubcc4\\uc2dc\\uc721\\uc544\\uc885\\ud569\\uc9c0\\uc6d0\\uc13c\\ud130 \\ud648\\ud398\\uc774\\uc9c0 \\ub85c\\uadf8\\uc778 \\ud6c4 \\uc774\\uc6a9\\uac00\\ub2a5      \\uc11c\\uc6b8\\uc2dc \\uc5b4\\ub9b0\\uc774\\uc9d1 \\uc544\\ub3d9\\uc778\\uad8c \\ud559\\ub300\\uc608\\ubc29 \\uc0c1\\ub2f4\\uc804\\ud654  \\ucd9c\\ubc94                    \\uad6c\\ubd84  \\ub0b4\\uc6a9   \\uc0c1\\ub2f4\\uc804\\ud654   \\ucf54\\ub4dc   \\uc11c\\uc6b8\\uc2dc \\uc5b4\\ub9b0\\uc774\\uc9d1 \\uc544\\ub3d9\\uc778\\uad8c \\ud559\\ub300\\uc608\\ubc29 \\uc0c1\\ub2f4\\uc804\\ud654   \\uad00\\ud560 \\uc721\\uc544\\uc885\\ud569\\uc9c0\\uc6d0\\uc13c\\ud130 \\ub0b4 \\uc804\\ubb38 \\uc544\\ub3d9\\uc778\\uad8c \\uc0c1\\ub2f4\\uc0ac \\uc5f0\\uacb0                  \\ubc88  \\ub3d9\\ub0a8\\uad8c  \\ubc88  \\ub3d9\\ubd81\\uad8c  \\ubc88  \\ub3c4\\uc2ec\\uad8c  \\ubc88  \\uc11c\\ub0a8\\uad8c  \\ubc88  \\uc11c\\ubd81\\uad8c  \\ubc88    \\uc11c\\ucd08\\uad6c  \\uac15\\ub0a8\\uad6c  \\uc1a1\\ud30c\\uad6c  \\uac15\\ub3d9\\uad6c    \\ub3c4\\ubd09\\uad6c  \\ub3d9\\ub300\\ubb38   \\ub178\\uc6d0\\uad6c  \\uc131\\ub3d9\\uad6c   \\uac15\\ubd81\\uad6c  \\uad11\\uc9c4\\uad6c   \\uc131\\ubd81\\uad6c  \\uc911\\ub791\\uad6c    \\uc885\\ub85c\\uad6c   \\uc911\\uad6c    \\uc6a9\\uc0b0\\uad6c    \\uac15\\uc11c\\uad6c  \\uae08\\ucc9c\\uad6c   \\uc591\\ucc9c\\uad6c  \\ub3d9\\uc791\\uad6c   \\uad6c\\ub85c\\uad6c  \\uad00\\uc545\\uad6c   \\uc601\\ub4f1\\ud3ec   \\uc740\\ud3c9\\uad6c  \\uc11c\\ub300\\ubb38  \\ub9c8\\ud3ec\\uad6c  \\uc11c\\uc6b8\\uc2dc \\uc721\\uc544\\uc885\\ud569\\uc9c0\\uc6d0\\uc13c\\ud130       \\uc544\\ub3d9\\uc778\\uad8c \\uc0c1\\ub2f4\\uc0ac \\uc5ed\\ud560    \\uc804\\ubb38\\uc0c1\\ub2f4  \\uc804\\ud654\\uc0c1\\ub2f4\\uacfc \\uc628\\ub77c\\uc778 \\uc0c1\\ub2f4 \\ud544\\uc694\\uc2dc \\uc5b4\\ub9b0\\uc774\\uc9d1 \\ub4f1 \\ud604\\uc7a5\\uc744 \\ucc3e\\uc544\\uac00\\ub294 \\uc0c1\\ub2f4\\uc73c\\ub85c \\uc9c4\\ud589   \\uc18c\\uadf8\\ub8f9\\uad50\\uc721  \\uc9c0\\uc5ed\\ubcc4 \\uc5b4\\ub9b0\\uc774\\uc9d1 \\ubcf4\\uc721\\uad50\\uc0ac\\ub4e4\\uacfc \\uba85 \\uc774\\ub0b4\\uc758 \\uc18c\\uadf8\\ub8f9\\uad50\\uc721\\uc744 \\uc218\\uc2dc\\ub85c \\uc2e4\\uc2dc  \\uc5b4\\ub9b0\\uc774\\uc9d1 \\ubcf4\\uc721\\uad50\\uc0ac\\ub4e4\\uc774 \\uc544\\ub3d9\\uacfc\\uc758    \\uae0d\\uc815\\uc801 \\uad00\\uacc4\\ud615\\uc131   \\ud6c8\\uc721\\uac00\\uc774\\ub4dc \\uad50\\uc721 \\uc6d4\\uc911 \\ubc30\\ud3ec\\uc608\\uc815  \\ud6c8\\uc721 \\uac00\\uc774\\ub4dc\\ubd81\\uc758 \\uc8fc\\uc694 \\ub0b4\\uc6a9\\uc744 \\ubcf4\\uc721\\uad50\\uc0ac\\ub4e4\\uc5d0\\uac8c \\ube60\\ub974\\uac8c \\uc804\\ud30c\\ud574 \\uc2e4\\ucc9c\\ub418\\ub3c4\\ub85d \\ud560 \\uc608\\uc815   \\uc544\\ub3d9\\ud559\\ub300\\uc2e0\\uace0  \\uc544\\ub3d9\\ud559\\ub300\\uac00 \\uc758\\uc2ec\\ub420 \\uacbd\\uc6b0 \\uc544\\ub3d9\\ud559\\ub300 \\uc2e0\\uace0 \\uc548\\ub0b4 \\ubc0f \\uc544\\ub3d9\\ubcf4\\ud638\\uc804\\ubb38\\uae30\\uad00\\uacfc\\uacfc \\uae34\\ubc00\\ud788 \\ud611\\uc870\\ud558\\uc5ec \\uc870\\uae30 \\ud574\\uacb0\\ub418\\ub3c4\\ub85d \\uc9c0\\uc6d0   \\uae30\\ud0c0   \\uc778\\uad8c\\ubcf4\\ud638 \\ubc0f \\ud559\\ub300\\uc608\\ubc29\\uc744 \\uc704\\ud55c \\uc0c1\\ub2f4\\uc740 \\uc544\\ub3d9\\uc778\\uad8c\\uc0c1\\ub2f4\\uc804\\ud654 \\uc774\\ub098 \\uc544\\ub3d9\\ud559\\ub300\\uc2e0\\uace0\\ub294 \\uacbd\\ucc30\\uccad  \\uad00\\ud560 \\uc544\\ub3d9\\ubcf4\\ud638\\uc804\\ubb38\\uae30\\uad00\\uc784     \\uc704\\uce58 \\ubc0f \\uc8fc\\uc18c  \\uad50\\ud1b5\\ud3b8    \\uc8fc\\uc18c  \\uc11c\\uc6b8\\ud2b9\\ubcc4\\uc2dc \\uc911\\uad6c \\uc11c\\uc18c\\ubb38\\ub85c\\uae38  \\uc11c\\uc18c\\ubb38\\ub3d9 \\ubc88\\uc9c0  \\uce35 \\uc11c\\uc6b8\\ud2b9\\ubcc4\\uc2dc\\uc721\\uc544\\uc885\\ud569\\uc9c0\\uc6d0\\uc13c\\ud130    \\uad50\\ud1b5\\ud3b8   \\uc9c0\\ud558\\ucca0 \\ud638\\uc120 \\uc2dc\\uccad\\uc5ed \\ubc88 \\ucd9c\\uad6c\\ub85c \\ub098\\uc640 \\uc0c1\\uc5c5\\ub4f1\\uae30\\uc18c \\ubc29\\ud5a5\\uc73c\\ub85c  \\uc62c\\ub77c\\uc624\\uba74 \\uc624\\ub978\\ucabd\\uc5d0 \\uc704\\uce58\\ud568   \\uad00\\ub828     \\uc790\\uce58\\uad6c\\uacf5\\ud1b5 \\uc721\\uc544\\uc885\\ud569\\uc9c0\\uc6d0\\uc13c\\ud130 \\uad6c \\ubcf4\\uc721\\uc815\\ubcf4\\uc13c\\ud130  \\uc601\\uc720\\uc544\\ud50c\\ub77c\\uc790   \\uae30\\ud0c0\\uc0ac\\ud56d    \\uc11c\\uc6b8\\ud2b9\\ubcc4\\uc2dc\\uc721\\uc544\\uc885\\ud569\\uc9c0\\uc6d0\\uc13c\\ud130 \\ud648\\ud398\\uc774\\uc9c0 \\uc624\\ub958 \\ubc0f \\uc544\\uc774\\ub514 \\ube44\\ubc00\\ubc88\\ud638 \\uad00\\ub828 \\ubb38\\uc758\\ucc98      \\uc804\\uad6d \\ucd5c\\ucd08 \\uc5b4\\ub9b0\\uc774\\uc9d1 \\ub3cc\\ubd04 \\uc548\\ub0b4\\uc11c \\ubc1c\\uac04 \\uad8c    \\uc81c \\uad8c  \\uc120\\uc0dd\\ub2d8 \\uc544\\uc774 \\uc5c4\\ub9c8\\uc544\\ube60 \\ud568\\uaed8 \\ubc30\\uc6cc\\uc694 \\uc720\\uc544\\ub97c \\uc874\\uc911\\ud558\\ub294 \\ud6c8\\uc721 \\uc774\\ud574\\ud558\\uae30    \\uc601\\uc720\\uc544\\ub97c \\uc874\\uc911\\ud558\\ub294 \\ud6c8\\uc721\\uc758 \\uc6d0\\ub9ac\\uc640 \\ubc29\\ubc95\\uc744 \\uc81c\\uc2dc\\ud558\\uace0 \\uad50\\uc0ac \\ub0b4\\uba74\\uc758 \\uc870\\uc808\\ub2a5\\ub825\\uc744 \\ud0a4\\uc6b0\\ub294 \\ubc29\\ubc95 \\ubd80\\ubaa8\\uc640 \\uc18c\\ud1b5 \\ud611\\ub825\\ud558\\ub294 \\ubc29\\ubc95 \\ub4f1 \\uc81c\\uc2dc   \\uc81c \\uad8c  \\uc120\\uc0dd\\ub2d8 \\uc544\\uc774 \\uc5c4\\ub9c8\\uc544\\ube60 \\ud568\\uaed8 \\ubc30\\uc6cc\\uc694 \\uc601\\uc720\\uc544\\ub97c \\uc874\\uc911\\ud558\\ub294 \\ud6c8\\uc721 \\uc2e4\\ucc9c\\ud558\\uae30     \\uac08\\ub4f1\\uc0c1\\ud669\\uc5d0 \\ub300\\ud55c \\uc601\\uc720\\uc544 \\uad50\\uc0ac\\uc758 \\ub9c8\\uc74c\\uc744 \\uc774\\ud574\\ud558\\uace0 \\uc804\\ubb38\\uac00\\uc758 \\uc870\\uc5b8\\uacfc \\uc2e4\\ucc9c\\ubc29\\ubc95 \\ubc0f \\uac00\\uc815\\uacfc\\uc758 \\ud611\\ub825\\ubc29\\ubc95\\uc744 \\uad6c\\uccb4\\uc801\\uc73c\\ub85c \\uc81c\\uc2dc   \\ub2e4\\uc6b4\\ub85c\\ub4dc \\uacbd\\ub85c  \\uc11c\\uc6b8\\uc2dc\\uc721\\uc544\\uc885\\ud569\\uc9c0\\uc6d0\\uc13c\\ud130                 \\uc815\\ubcf4\\ub9c8\\ub2f9  \\uc790\\ub8cc\\uc2e4  \\uc804\\uc790\\ucc45      \\uc120\\uc0dd\\ub2d8 \\uac80\\uc0c9                                \\uc11c\\uc6b8\\uc2dc \\ubcf4\\uc721\\uc11c\\ube44\\uc2a4 \\uc774\\uc6a9 \\uc2a4\\ud1a0\\ub9ac\\ud154\\ub9c1 \\uacf5\\ubaa8\\uc804   \\uad6c\\ubd84  \\ub0b4\\uc6a9   \\uacf5\\ubaa8\\uae30\\uac04   \\ub144 \\uc6d4 \\uc77c  \\uc6d4 \\uc77c \\uac1c\\uc6d4    \\uacf5\\ubaa8\\ub300\\uc0c1   \\uc11c\\uc6b8\\uc2dc \\ubcf4\\uc721\\uc11c\\ube44\\uc2a4 \\uc774\\uc6a9\\ubd80\\ubaa8 \\ubcf4\\uc721\\uad50\\uc9c1\\uc6d0 \\ub4f1 \\uc2dc\\ubbfc   \\uc811\\uc218\\ubc29\\ubc95    \\uc774\\uba54\\uc77c               \\uc790\\uc720 \\uc591\\uc2dd\\uc758 \\uc0b0\\ubb38\\ud615 \\uc5d0\\uc138\\uc774 \\ud615\\ud0dc \\uc790 \\uc774\\ub0b4    \\uacf5\\ubaa8\\ub0b4\\uc6a9    \\uc11c\\uc6b8\\uc2dc \\ubcf4\\uc721\\uc11c\\ube44\\uc2a4 \\uc774\\uc6a9 \\ud6c4 \\ub098\\ud0c0\\ub09c \\uae0d\\uc815\\uc801\\uc778 \\ud6a8\\uacfc \\uac00\\uc871\\uad00\\uacc4\\uc5d0\\uc11c\\uc758 \\ubcc0\\ud654 \\uc0dd\\ud65c\\uc5d0 \\ub3c4\\uc6c0\\uc774 \\ub418\\uc5c8\\ub358 \\uc0ac\\ub840 \\ub4f1   \\uad6d\\uacf5\\ub9bd\\uc5b4\\ub9b0\\uc774\\uc9d1 \\uc774\\uc6a9\\uc0ac\\ub840  \\uad6d\\uacf5\\ub9bd\\uc5b4\\ub9b0\\uc774\\uc9d1\\uc73c\\ub85c \\uc804\\ud658 \\ud6c4 \\uae0d\\uc815\\uc801\\uc778 \\ubcc0\\ud654\\uc0ac\\ub840 \\uc721\\uc544\\ubd80\\ub2f4\\uc744 \\uc904\\uc778 \\uc0ac\\ub840 \\ub4f1   \\uc5f4\\ub9b0\\uc5b4\\ub9b0\\uc774\\uc9d1 \\ucc38\\uc5ec\\ub85c \\uc5b4\\ub9b0\\uc774\\uc9d1\\uacfc \\uae0d\\uc815\\uc801\\uc778 \\uad00\\uacc4\\ub97c \\uc774\\ub8ec \\uc0ac\\ub840   \\uc544\\uc774\\uc870\\uc544 \\uc11c\\uc6b8 \\ucee8\\uc124\\ud305 \\ubcf4\\uc721\\uc11c\\ube44\\uc2a4\\uc9c0\\uc6d0\\uc13c\\ud130 \\ubcf4\\uc721\\uad50\\uc0ac \\uc778\\ub825\\ud480 \\uc774\\uc6a9\\uc0ac\\ub840   \\uc6b0\\ub9ac\\ub3d9\\ub124 \\ubcf4\\uc721\\ubc18\\uc7a5 \\uc774\\uc6a9\\uc0ac\\ub840   \\ubd80\\ubaa8\\uad50\\uc721 \\uc544\\uc774\\uc870\\uc544 \\uc544\\ube60\\uad50\\uc2e4 \\ub4f1 \\uc774\\uc6a9 \\ud6c4 \\uae0d\\uc815\\uc801\\uc778 \\uac00\\uc871\\uad00\\uacc4 \\ubcc0\\ud654 \\uc0ac\\ub840   \\uc5b4\\ub9b0\\uc774\\uc9d1\\uc744 \\uc774\\uc6a9\\ud558\\uba74\\uc11c \\ubcf4\\uc721\\uad50\\uc0ac\\uc5d0\\uac8c \\uace0\\ub9c8\\uc6c0\\uc744 \\ub290\\ub080 \\uc0ac\\ub840   \\uae30\\ud0c0 \\uc5b4\\ub9b0\\uc774\\uc9d1\\uc744 \\uc774\\uc6a9\\ud558\\uba74\\uc11c \\uc788\\uc5c8\\ub358 \\uac10\\ub3d9\\uc801\\uc778 \\uc774\\uc6a9\\uc0ac\\ub840   \\ub2f9\\uc120\\ubc1c\\ud45c    \\ub144 \\uc6d4 \\uc77c \\uc218 \\uc608\\uc815  \\uc11c\\uc6b8\\uc2dc\\uc721\\uc544\\uc885\\ud569\\uc9c0\\uc6d0\\uc13c\\ud130 \\ud648\\ud398\\uc774\\uc9c0 \\ube14\\ub85c\\uadf8 \\uac8c\\uc7ac \\ubc0f \\ub2f9\\uc120\\uc790 \\uac1c\\ubcc4 \\uc548\\ub0b4   \\ub2f9\\uc120\\uc791 \\uc2dc\\uc0c1  \\ucd1d \\uba85 \\ub9cc\\uc6d0    \\uae08\\uc0c1 \\uba85 \\uac01 \\ub9cc\\uc6d0  \\uc740\\uc0c1 \\uba85 \\uac01 \\ub9cc\\uc6d0  \\ub3d9\\uc0c1 \\uba85 \\uac01 \\ub9cc\\uc6d0  \\uc7a5\\ub824\\uc0c1 \\uba85 \\uac01 \\ub9cc\\uc6d0    \\uc2dc\\uc0c1\\uaddc\\ubaa8\\ub294 \\uc811\\uc218\\uc0c1\\ud669\\uc5d0 \\ub530\\ub77c \\ubcc0\\ub3d9\\uac00\\ub2a5   \\uae30\\ud0c0\\uc0ac\\ud56d    \\uc778 \\uac1c \\uc791\\ud488\\uae4c\\uc9c0 \\uc751\\ubaa8 \\uac00\\ub2a5   \\ud0c0 \\uacf5\\ubaa8\\uc804 \\ub2f9\\uc120\\uc791\\uc774\\uac70\\ub098 \\ud45c\\uc808 \\ub4f1 \\uc800\\uc791\\uad8c \\uad00\\ub828 \\ubb38\\uc81c\\uac00 \\uc788\\ub294 \\uac83\\uc73c\\ub85c \\ud310\\uba85\\ub420 \\uacbd\\uc6b0 \\ud574\\ub2f9 \\uc791\\ud488\\uc740 \\uc2ec\\uc0ac\\uc5d0\\uc11c \\uc81c\\uc678    \\ub2f9\\uc120 \\ud6c4\\uc5d0\\ub3c4 \\ub2f9\\uc120 \\ucde8\\uc18c   \\ub2f9\\uc120\\uc791\\uc758 \\uc9c0\\uc801\\uc7ac\\uc0b0\\uad8c\\uc740 \\uc11c\\uc6b8\\uc2dc \\ubc0f \\uc11c\\uc6b8\\uc2dc\\uc721\\uc544\\uc885\\ud569\\uc9c0\\uc6d0\\uc13c\\ud130\\uc5d0 \\uadc0\\uc18d\\ub418\\uba70 \\ud64d\\ubcf4\\ubb3c\\ub85c \\uc81c\\uc791 \\ud65c\\uc6a9   \\uc2dc\\uc0c1\\uc2dd\\uc740 \\ubcc4\\ub3c4\\ub85c \\uc2dc\\ud589\\ud558\\uc9c0 \\uc54a\\uc73c\\uba70 \\uc2ec\\uc0ac\\uc704\\uc6d0 \\uba85\\ub2e8 \\ubc0f \\uc2ec\\uc0ac\\uacfc\\uc815\\uc740 \\ube44\\uacf5\\uac1c   \\ubb38\\uc758   \\uc11c\\uc6b8\\uc2dc\\uc721\\uc544\\uc885\\ud569\\uc9c0\\uc6d0\\uc13c\\ud130           \",\n          \"\\u3147 \\uac1c\\uad00\\uc77c  \\ub144 \\uc6d4 \\uc77c\\u3147 \\uc704  \\uce58  \\uc1a1\\ud30c\\uad6c\\uccad \\ubcc4\\uad00 \\ud589\\ubcf5\\ub098\\ub214\\uc77c\\uc790\\ub9ac\\uc13c\\ud130 \\uce35\\u3147 \\uaddc  \\ubaa8   \\uac15\\uc758\\uc2e4 \\uc0c1\\ub2f4\\uc2e4 \\ud734\\uac8c\\uc2e4 \\u3147 \\uc6b4\\uc601\\uc2dc\\uac04  \\ud654 \\ud1a0\\uc694\\uc77c     \\ub9e4\\uc8fc \\uc6d4\\uc694\\uc77c \\ubc0f \\uc77c\\uc694\\uc77c \\uacf5\\ud734\\uc77c \\ud3ec\\ud568 \\uc740 \\ud734\\uad00\\uc77c  \\uc2e0\\uccad\\ubc29\\ubc95\\u3147 \\uc0c1\\ub2f4 \\ubc0f \\ud504\\ub85c\\uadf8\\ub7a8 \\uc608\\uc57d  \\ubc29\\ubb38\\uc744 \\ud1b5\\ud55c \\ud504\\ub85c\\uadf8\\ub7a8 \\ucc38\\uc5ec\\u3147 \\uc804\\ud654\\ubc88\\ud638  \\uc1a1\\ud30c\\uad6c\\uc790\\uae30\\uc8fc\\ub3c4\\ud559\\uc2b5\\uad00   \",\n          \"\\uc774\\uc2dd\\uacf5\\uc0ac\\uc2dc \\uac74\\uc124\\uacf5\\uc0ac \\ud45c\\uc900\\ud488\\uc148\\uc5d0 \\uc758\\uac70 \\ubfcc\\ub9ac\\ubd84\\uc744 \\uc0b4\\ub9ac\\uc9c0 \\uc54a\\uc73c\\ubbc0\\ub85c  \\uac10\\ud574\\uc57c \\ud569\\ub2c8\\ub2e4    \"\n        ],\n        \"semantic_type\": \"\",\n        \"description\": \"\"\n      }\n    },\n    {\n      \"column\": \"\\ub0b4\\uc6a9\\ubc88\\ud638\",\n      \"properties\": {\n        \"dtype\": \"number\",\n        \"std\": 2586622,\n        \"min\": 2894089,\n        \"max\": 23734948,\n        \"num_unique_values\": 2645,\n        \"samples\": [\n          2896062,\n          2894196,\n          2897323\n        ],\n        \"semantic_type\": \"\",\n        \"description\": \"\"\n      }\n    }\n  ]\n}"
            }
          },
          "metadata": {},
          "execution_count": 32
        }
      ],
      "source": [
        "df2 = pd.read_csv(\"seoul-120-text.csv\")\n",
        "df2.head()"
      ]
    },
    {
      "cell_type": "code",
      "source": [
        "df2.분류.value_counts()\n",
        "df2_2 = df2.query(\"(분류=='복지') or (분류=='경제')\")\n",
        "df2_2 = df2_2.sample(1000)"
      ],
      "metadata": {
        "id": "T9-dcZJbfaG6"
      },
      "execution_count": null,
      "outputs": []
    },
    {
      "cell_type": "code",
      "source": [
        "okt = Okt()\n",
        "def token(text):\n",
        "    return okt.nouns(text)\n",
        "\n",
        "vect2 = CountVectorizer(tokenizer=token)\n",
        "dtm2 = vect2.fit_transform(df2_2[\"내용\"])\n"
      ],
      "metadata": {
        "colab": {
          "base_uri": "https://localhost:8080/"
        },
        "outputId": "31c72c99-8e3c-4e46-93c7-61a9a616b63f",
        "id": "VrtrE8j5faG7"
      },
      "execution_count": null,
      "outputs": [
        {
          "output_type": "stream",
          "name": "stderr",
          "text": [
            "/usr/local/lib/python3.10/dist-packages/sklearn/feature_extraction/text.py:525: UserWarning: The parameter 'token_pattern' will not be used since 'tokenizer' is not None'\n",
            "  warnings.warn(\n"
          ]
        }
      ]
    },
    {
      "cell_type": "code",
      "source": [
        "X_train2, X_test2, y_train2, y_test2 = train_test_split( dtm2, df2_2.분류)\n",
        "dt2 = DecisionTreeClassifier()\n",
        "dt2.fit(X_train2, y_train2)\n",
        "pred2 = dt2.predict(X_test2)\n",
        "print(classification_report(y_test2, pred2))\n"
      ],
      "metadata": {
        "colab": {
          "base_uri": "https://localhost:8080/"
        },
        "outputId": "10325678-9999-45af-88ff-d3c8102eb892",
        "id": "mJ46DvCzfaG7"
      },
      "execution_count": null,
      "outputs": [
        {
          "output_type": "stream",
          "name": "stdout",
          "text": [
            "              precision    recall  f1-score   support\n",
            "\n",
            "          경제       0.91      0.95      0.93       191\n",
            "          복지       0.80      0.69      0.75        59\n",
            "\n",
            "    accuracy                           0.89       250\n",
            "   macro avg       0.86      0.82      0.84       250\n",
            "weighted avg       0.88      0.89      0.89       250\n",
            "\n"
          ]
        }
      ]
    },
    {
      "cell_type": "markdown",
      "source": [
        "###3번"
      ],
      "metadata": {
        "id": "3o6gq29CgCRq"
      }
    },
    {
      "cell_type": "code",
      "source": [
        "df3 = pd.read_csv(\"train_df.csv\", encoding=\"cp949\")\n",
        "df3.head()"
      ],
      "metadata": {
        "colab": {
          "base_uri": "https://localhost:8080/",
          "height": 206
        },
        "id": "1mduA9XJe1an",
        "outputId": "1a6dbc23-5411-44f5-9578-ff2b018586a3"
      },
      "execution_count": null,
      "outputs": [
        {
          "output_type": "execute_result",
          "data": {
            "text/plain": [
              "     IDX 발화자                                                발화문  \\\n",
              "0  28414   c                     혹시 플라워 스마트 톡 케이스 블루로 바꿀 수 있나요?   \n",
              "1  28415   s                               현재 배송 중으로 교환이 어렵습니다.   \n",
              "2  28416   c  USB1.0 속도 밖에 나오질 않네요리더 기만 교환 바랍니다. 불량 리더기도 택배로...   \n",
              "3  28417   s                           네.리더기만 불량이 여교환 문의해주셨는데요.   \n",
              "4  28418   c        빨리 챙겨서 보내주시기 바랍니다 아니면 다시 1개는 교환으로 보내야 하는지요?   \n",
              "\n",
              "              인텐트    상담번호  상담내순번  \n",
              "0  교환|반품|환불_일반_요청  389321      1  \n",
              "1  교환|반품|환불_일반_요청  389321      2  \n",
              "2  교환|반품|환불_일반_요청  179614      1  \n",
              "3  교환|반품|환불_일반_요청  179614      2  \n",
              "4  교환|반품|환불_일반_요청  325053      1  "
            ],
            "text/html": [
              "\n",
              "  <div id=\"df-d4562c20-a2a2-4c6a-a5e1-36a23425efc4\" class=\"colab-df-container\">\n",
              "    <div>\n",
              "<style scoped>\n",
              "    .dataframe tbody tr th:only-of-type {\n",
              "        vertical-align: middle;\n",
              "    }\n",
              "\n",
              "    .dataframe tbody tr th {\n",
              "        vertical-align: top;\n",
              "    }\n",
              "\n",
              "    .dataframe thead th {\n",
              "        text-align: right;\n",
              "    }\n",
              "</style>\n",
              "<table border=\"1\" class=\"dataframe\">\n",
              "  <thead>\n",
              "    <tr style=\"text-align: right;\">\n",
              "      <th></th>\n",
              "      <th>IDX</th>\n",
              "      <th>발화자</th>\n",
              "      <th>발화문</th>\n",
              "      <th>인텐트</th>\n",
              "      <th>상담번호</th>\n",
              "      <th>상담내순번</th>\n",
              "    </tr>\n",
              "  </thead>\n",
              "  <tbody>\n",
              "    <tr>\n",
              "      <th>0</th>\n",
              "      <td>28414</td>\n",
              "      <td>c</td>\n",
              "      <td>혹시 플라워 스마트 톡 케이스 블루로 바꿀 수 있나요?</td>\n",
              "      <td>교환|반품|환불_일반_요청</td>\n",
              "      <td>389321</td>\n",
              "      <td>1</td>\n",
              "    </tr>\n",
              "    <tr>\n",
              "      <th>1</th>\n",
              "      <td>28415</td>\n",
              "      <td>s</td>\n",
              "      <td>현재 배송 중으로 교환이 어렵습니다.</td>\n",
              "      <td>교환|반품|환불_일반_요청</td>\n",
              "      <td>389321</td>\n",
              "      <td>2</td>\n",
              "    </tr>\n",
              "    <tr>\n",
              "      <th>2</th>\n",
              "      <td>28416</td>\n",
              "      <td>c</td>\n",
              "      <td>USB1.0 속도 밖에 나오질 않네요리더 기만 교환 바랍니다. 불량 리더기도 택배로...</td>\n",
              "      <td>교환|반품|환불_일반_요청</td>\n",
              "      <td>179614</td>\n",
              "      <td>1</td>\n",
              "    </tr>\n",
              "    <tr>\n",
              "      <th>3</th>\n",
              "      <td>28417</td>\n",
              "      <td>s</td>\n",
              "      <td>네.리더기만 불량이 여교환 문의해주셨는데요.</td>\n",
              "      <td>교환|반품|환불_일반_요청</td>\n",
              "      <td>179614</td>\n",
              "      <td>2</td>\n",
              "    </tr>\n",
              "    <tr>\n",
              "      <th>4</th>\n",
              "      <td>28418</td>\n",
              "      <td>c</td>\n",
              "      <td>빨리 챙겨서 보내주시기 바랍니다 아니면 다시 1개는 교환으로 보내야 하는지요?</td>\n",
              "      <td>교환|반품|환불_일반_요청</td>\n",
              "      <td>325053</td>\n",
              "      <td>1</td>\n",
              "    </tr>\n",
              "  </tbody>\n",
              "</table>\n",
              "</div>\n",
              "    <div class=\"colab-df-buttons\">\n",
              "\n",
              "  <div class=\"colab-df-container\">\n",
              "    <button class=\"colab-df-convert\" onclick=\"convertToInteractive('df-d4562c20-a2a2-4c6a-a5e1-36a23425efc4')\"\n",
              "            title=\"Convert this dataframe to an interactive table.\"\n",
              "            style=\"display:none;\">\n",
              "\n",
              "  <svg xmlns=\"http://www.w3.org/2000/svg\" height=\"24px\" viewBox=\"0 -960 960 960\">\n",
              "    <path d=\"M120-120v-720h720v720H120Zm60-500h600v-160H180v160Zm220 220h160v-160H400v160Zm0 220h160v-160H400v160ZM180-400h160v-160H180v160Zm440 0h160v-160H620v160ZM180-180h160v-160H180v160Zm440 0h160v-160H620v160Z\"/>\n",
              "  </svg>\n",
              "    </button>\n",
              "\n",
              "  <style>\n",
              "    .colab-df-container {\n",
              "      display:flex;\n",
              "      gap: 12px;\n",
              "    }\n",
              "\n",
              "    .colab-df-convert {\n",
              "      background-color: #E8F0FE;\n",
              "      border: none;\n",
              "      border-radius: 50%;\n",
              "      cursor: pointer;\n",
              "      display: none;\n",
              "      fill: #1967D2;\n",
              "      height: 32px;\n",
              "      padding: 0 0 0 0;\n",
              "      width: 32px;\n",
              "    }\n",
              "\n",
              "    .colab-df-convert:hover {\n",
              "      background-color: #E2EBFA;\n",
              "      box-shadow: 0px 1px 2px rgba(60, 64, 67, 0.3), 0px 1px 3px 1px rgba(60, 64, 67, 0.15);\n",
              "      fill: #174EA6;\n",
              "    }\n",
              "\n",
              "    .colab-df-buttons div {\n",
              "      margin-bottom: 4px;\n",
              "    }\n",
              "\n",
              "    [theme=dark] .colab-df-convert {\n",
              "      background-color: #3B4455;\n",
              "      fill: #D2E3FC;\n",
              "    }\n",
              "\n",
              "    [theme=dark] .colab-df-convert:hover {\n",
              "      background-color: #434B5C;\n",
              "      box-shadow: 0px 1px 3px 1px rgba(0, 0, 0, 0.15);\n",
              "      filter: drop-shadow(0px 1px 2px rgba(0, 0, 0, 0.3));\n",
              "      fill: #FFFFFF;\n",
              "    }\n",
              "  </style>\n",
              "\n",
              "    <script>\n",
              "      const buttonEl =\n",
              "        document.querySelector('#df-d4562c20-a2a2-4c6a-a5e1-36a23425efc4 button.colab-df-convert');\n",
              "      buttonEl.style.display =\n",
              "        google.colab.kernel.accessAllowed ? 'block' : 'none';\n",
              "\n",
              "      async function convertToInteractive(key) {\n",
              "        const element = document.querySelector('#df-d4562c20-a2a2-4c6a-a5e1-36a23425efc4');\n",
              "        const dataTable =\n",
              "          await google.colab.kernel.invokeFunction('convertToInteractive',\n",
              "                                                    [key], {});\n",
              "        if (!dataTable) return;\n",
              "\n",
              "        const docLinkHtml = 'Like what you see? Visit the ' +\n",
              "          '<a target=\"_blank\" href=https://colab.research.google.com/notebooks/data_table.ipynb>data table notebook</a>'\n",
              "          + ' to learn more about interactive tables.';\n",
              "        element.innerHTML = '';\n",
              "        dataTable['output_type'] = 'display_data';\n",
              "        await google.colab.output.renderOutput(dataTable, element);\n",
              "        const docLink = document.createElement('div');\n",
              "        docLink.innerHTML = docLinkHtml;\n",
              "        element.appendChild(docLink);\n",
              "      }\n",
              "    </script>\n",
              "  </div>\n",
              "\n",
              "\n",
              "<div id=\"df-1856ff6b-5d8a-4c53-ba32-39b5484735a6\">\n",
              "  <button class=\"colab-df-quickchart\" onclick=\"quickchart('df-1856ff6b-5d8a-4c53-ba32-39b5484735a6')\"\n",
              "            title=\"Suggest charts\"\n",
              "            style=\"display:none;\">\n",
              "\n",
              "<svg xmlns=\"http://www.w3.org/2000/svg\" height=\"24px\"viewBox=\"0 0 24 24\"\n",
              "     width=\"24px\">\n",
              "    <g>\n",
              "        <path d=\"M19 3H5c-1.1 0-2 .9-2 2v14c0 1.1.9 2 2 2h14c1.1 0 2-.9 2-2V5c0-1.1-.9-2-2-2zM9 17H7v-7h2v7zm4 0h-2V7h2v10zm4 0h-2v-4h2v4z\"/>\n",
              "    </g>\n",
              "</svg>\n",
              "  </button>\n",
              "\n",
              "<style>\n",
              "  .colab-df-quickchart {\n",
              "      --bg-color: #E8F0FE;\n",
              "      --fill-color: #1967D2;\n",
              "      --hover-bg-color: #E2EBFA;\n",
              "      --hover-fill-color: #174EA6;\n",
              "      --disabled-fill-color: #AAA;\n",
              "      --disabled-bg-color: #DDD;\n",
              "  }\n",
              "\n",
              "  [theme=dark] .colab-df-quickchart {\n",
              "      --bg-color: #3B4455;\n",
              "      --fill-color: #D2E3FC;\n",
              "      --hover-bg-color: #434B5C;\n",
              "      --hover-fill-color: #FFFFFF;\n",
              "      --disabled-bg-color: #3B4455;\n",
              "      --disabled-fill-color: #666;\n",
              "  }\n",
              "\n",
              "  .colab-df-quickchart {\n",
              "    background-color: var(--bg-color);\n",
              "    border: none;\n",
              "    border-radius: 50%;\n",
              "    cursor: pointer;\n",
              "    display: none;\n",
              "    fill: var(--fill-color);\n",
              "    height: 32px;\n",
              "    padding: 0;\n",
              "    width: 32px;\n",
              "  }\n",
              "\n",
              "  .colab-df-quickchart:hover {\n",
              "    background-color: var(--hover-bg-color);\n",
              "    box-shadow: 0 1px 2px rgba(60, 64, 67, 0.3), 0 1px 3px 1px rgba(60, 64, 67, 0.15);\n",
              "    fill: var(--button-hover-fill-color);\n",
              "  }\n",
              "\n",
              "  .colab-df-quickchart-complete:disabled,\n",
              "  .colab-df-quickchart-complete:disabled:hover {\n",
              "    background-color: var(--disabled-bg-color);\n",
              "    fill: var(--disabled-fill-color);\n",
              "    box-shadow: none;\n",
              "  }\n",
              "\n",
              "  .colab-df-spinner {\n",
              "    border: 2px solid var(--fill-color);\n",
              "    border-color: transparent;\n",
              "    border-bottom-color: var(--fill-color);\n",
              "    animation:\n",
              "      spin 1s steps(1) infinite;\n",
              "  }\n",
              "\n",
              "  @keyframes spin {\n",
              "    0% {\n",
              "      border-color: transparent;\n",
              "      border-bottom-color: var(--fill-color);\n",
              "      border-left-color: var(--fill-color);\n",
              "    }\n",
              "    20% {\n",
              "      border-color: transparent;\n",
              "      border-left-color: var(--fill-color);\n",
              "      border-top-color: var(--fill-color);\n",
              "    }\n",
              "    30% {\n",
              "      border-color: transparent;\n",
              "      border-left-color: var(--fill-color);\n",
              "      border-top-color: var(--fill-color);\n",
              "      border-right-color: var(--fill-color);\n",
              "    }\n",
              "    40% {\n",
              "      border-color: transparent;\n",
              "      border-right-color: var(--fill-color);\n",
              "      border-top-color: var(--fill-color);\n",
              "    }\n",
              "    60% {\n",
              "      border-color: transparent;\n",
              "      border-right-color: var(--fill-color);\n",
              "    }\n",
              "    80% {\n",
              "      border-color: transparent;\n",
              "      border-right-color: var(--fill-color);\n",
              "      border-bottom-color: var(--fill-color);\n",
              "    }\n",
              "    90% {\n",
              "      border-color: transparent;\n",
              "      border-bottom-color: var(--fill-color);\n",
              "    }\n",
              "  }\n",
              "</style>\n",
              "\n",
              "  <script>\n",
              "    async function quickchart(key) {\n",
              "      const quickchartButtonEl =\n",
              "        document.querySelector('#' + key + ' button');\n",
              "      quickchartButtonEl.disabled = true;  // To prevent multiple clicks.\n",
              "      quickchartButtonEl.classList.add('colab-df-spinner');\n",
              "      try {\n",
              "        const charts = await google.colab.kernel.invokeFunction(\n",
              "            'suggestCharts', [key], {});\n",
              "      } catch (error) {\n",
              "        console.error('Error during call to suggestCharts:', error);\n",
              "      }\n",
              "      quickchartButtonEl.classList.remove('colab-df-spinner');\n",
              "      quickchartButtonEl.classList.add('colab-df-quickchart-complete');\n",
              "    }\n",
              "    (() => {\n",
              "      let quickchartButtonEl =\n",
              "        document.querySelector('#df-1856ff6b-5d8a-4c53-ba32-39b5484735a6 button');\n",
              "      quickchartButtonEl.style.display =\n",
              "        google.colab.kernel.accessAllowed ? 'block' : 'none';\n",
              "    })();\n",
              "  </script>\n",
              "</div>\n",
              "\n",
              "    </div>\n",
              "  </div>\n"
            ],
            "application/vnd.google.colaboratory.intrinsic+json": {
              "type": "dataframe",
              "variable_name": "df3",
              "summary": "{\n  \"name\": \"df3\",\n  \"rows\": 29360,\n  \"fields\": [\n    {\n      \"column\": \"IDX\",\n      \"properties\": {\n        \"dtype\": \"number\",\n        \"std\": 252049,\n        \"min\": 28414,\n        \"max\": 742995,\n        \"num_unique_values\": 29360,\n        \"samples\": [\n          106462,\n          105817,\n          670962\n        ],\n        \"semantic_type\": \"\",\n        \"description\": \"\"\n      }\n    },\n    {\n      \"column\": \"\\ubc1c\\ud654\\uc790\",\n      \"properties\": {\n        \"dtype\": \"category\",\n        \"num_unique_values\": 2,\n        \"samples\": [\n          \"s\",\n          \"c\"\n        ],\n        \"semantic_type\": \"\",\n        \"description\": \"\"\n      }\n    },\n    {\n      \"column\": \"\\ubc1c\\ud654\\ubb38\",\n      \"properties\": {\n        \"dtype\": \"string\",\n        \"num_unique_values\": 28603,\n        \"samples\": [\n          \"\\uc624\\ubc30\\uc1a1\\ub41c \\ucf00\\uc774\\ube14\\uc740 \\uc800\\ud76c \\ucabd\\uc5d0\\uc11c \\uc8fc\\ubb38 \\ub2f9\\uc2dc \\ubc30\\uc1a1\\uc9c0\\ub85c \\uc218\\uac70\\uc694\\uccad\\ud558\\uaca0\\uc2b5\\ub2c8\\ub2e4. \\uc81c\\ud488 \\uac04\\ub2e8\\ud788 \\ud3ec\\uc7a5\\ud558\\uc2dc\\uc5b4\\ud0dd\\ubc30\\uae30\\uc0ac\\ub2d8 \\ubc29\\ubb38 \\uc2dc \\uc804\\ub2ec\\ubd80\\ud0c1\\ub4dc\\ub9ac\\uba70 \\uc8fc\\ubb38\\ud574 \\uc8fc\\uc2e0 \\ucf00\\uc774\\ube14\\uc740 \\uae08\\uc77c \\uc7ac\\ubc1c\\uc1a1\\ud558\\ub3c4\\ub85d \\ud558\\uaca0\\uc2b5\\ub2c8\\ub2e4.\",\n          \"\\ubc29\\uae08 \\uc804\\uc5d0 \\uc0b0 \\ub85c\\ubd07\\uccad\\uc18c\\uae30 \\uc0c9\\uae54 \\ub2e4\\ub978 \\uac78\\ub85c \\ubc14\\uafc0 \\uc218 \\uc788\\uc744\\uae4c\\uc694?\"\n        ],\n        \"semantic_type\": \"\",\n        \"description\": \"\"\n      }\n    },\n    {\n      \"column\": \"\\uc778\\ud150\\ud2b8\",\n      \"properties\": {\n        \"dtype\": \"category\",\n        \"num_unique_values\": 16,\n        \"samples\": [\n          \"\\uad50\\ud658|\\ubc18\\ud488|\\ud658\\ubd88_\\uc77c\\ubc18_\\uc694\\uccad\",\n          \"\\uad50\\ud658|\\ubc18\\ud488|\\ud658\\ubd88_\\uc2dc\\uac04_\\ud655\\uc778\"\n        ],\n        \"semantic_type\": \"\",\n        \"description\": \"\"\n      }\n    },\n    {\n      \"column\": \"\\uc0c1\\ub2f4\\ubc88\\ud638\",\n      \"properties\": {\n        \"dtype\": \"number\",\n        \"std\": 127281,\n        \"min\": 111,\n        \"max\": 422302,\n        \"num_unique_values\": 14639,\n        \"samples\": [\n          84532,\n          322233\n        ],\n        \"semantic_type\": \"\",\n        \"description\": \"\"\n      }\n    },\n    {\n      \"column\": \"\\uc0c1\\ub2f4\\ub0b4\\uc21c\\ubc88\",\n      \"properties\": {\n        \"dtype\": \"number\",\n        \"std\": 11,\n        \"min\": 1,\n        \"max\": 530,\n        \"num_unique_values\": 94,\n        \"samples\": [\n          436,\n          47\n        ],\n        \"semantic_type\": \"\",\n        \"description\": \"\"\n      }\n    }\n  ]\n}"
            }
          },
          "metadata": {},
          "execution_count": 40
        }
      ]
    },
    {
      "cell_type": "code",
      "source": [
        "df3_1 = df3.query(\"발화자=='s'\").sample(50)"
      ],
      "metadata": {
        "id": "dgFkP4A_e1dd"
      },
      "execution_count": null,
      "outputs": []
    },
    {
      "cell_type": "code",
      "source": [
        "dtm3_1 = vect1.transform(df3_1[\"발화문\"])\n",
        "dtm3_2 = vect2.transform(df3_1[\"발화문\"])"
      ],
      "metadata": {
        "id": "-_3RKfNQe1gD"
      },
      "execution_count": null,
      "outputs": []
    },
    {
      "cell_type": "code",
      "source": [
        "pred3_1 = dt1.predict(dtm3_1)\n",
        "pred3_2 = dt2.predict(dtm3_2)"
      ],
      "metadata": {
        "id": "pqmBfq0vggWl"
      },
      "execution_count": null,
      "outputs": []
    },
    {
      "cell_type": "code",
      "source": [
        "pred3_1"
      ],
      "metadata": {
        "colab": {
          "base_uri": "https://localhost:8080/"
        },
        "id": "vP2VWEmpglBm",
        "outputId": "7b108189-24ca-4680-fde9-056e5bec2a5a"
      },
      "execution_count": null,
      "outputs": [
        {
          "output_type": "execute_result",
          "data": {
            "text/plain": [
              "array(['불안', '불안', '불안', '불안', '불안', '불안', '불안', '불안', '당황', '불안', '불안',\n",
              "       '불안', '불안', '당황', '불안', '불안', '불안', '불안', '불안', '불안', '불안', '불안',\n",
              "       '불안', '불안', '불안', '불안', '불안', '불안', '불안', '불안', '불안', '불안', '불안',\n",
              "       '불안', '불안', '불안', '불안', '불안', '불안', '불안', '불안', '불안', '불안', '불안',\n",
              "       '불안', '불안', '불안', '불안', '당황', '불안'], dtype=object)"
            ]
          },
          "metadata": {},
          "execution_count": 47
        }
      ]
    },
    {
      "cell_type": "code",
      "source": [
        "pred3_2"
      ],
      "metadata": {
        "colab": {
          "base_uri": "https://localhost:8080/"
        },
        "id": "Plq4aIXEgmuO",
        "outputId": "8cb17cbf-43aa-4c59-a958-c5dbe04a9dbe"
      },
      "execution_count": null,
      "outputs": [
        {
          "output_type": "execute_result",
          "data": {
            "text/plain": [
              "array(['경제', '경제', '경제', '경제', '경제', '경제', '경제', '경제', '경제', '경제', '경제',\n",
              "       '경제', '경제', '경제', '경제', '경제', '경제', '경제', '경제', '경제', '경제', '경제',\n",
              "       '경제', '경제', '경제', '경제', '경제', '경제', '경제', '경제', '경제', '경제', '경제',\n",
              "       '경제', '경제', '경제', '경제', '경제', '경제', '경제', '경제', '경제', '경제', '경제',\n",
              "       '경제', '경제', '경제', '경제', '복지', '경제'], dtype=object)"
            ]
          },
          "metadata": {},
          "execution_count": 48
        }
      ]
    },
    {
      "cell_type": "code",
      "source": [
        "df3_1[\"모형1예측\"] = pred3_1\n",
        "df3_1[\"모형2예측\"] = pred3_2\n",
        "df3_1.head()"
      ],
      "metadata": {
        "colab": {
          "base_uri": "https://localhost:8080/",
          "height": 206
        },
        "id": "2tA02-0Wgp5h",
        "outputId": "dd56d49b-8d24-4e2b-f120-76027c527308"
      },
      "execution_count": null,
      "outputs": [
        {
          "output_type": "execute_result",
          "data": {
            "text/plain": [
              "          IDX 발화자                                                발화문  \\\n",
              "15014  539675   s                            네, 환불 신청서  작성 부탁드리겠습니다.   \n",
              "21176  648709   s  반송하신 상품 아직 업체 입고 중으로 확인됩니다. 입고 확인 후 환불 처리 진행하겠...   \n",
              "3376   106243   s  기존 주문건환 불완료 진행되었으며 본사 발주건은 4/2 설치 예정으로 조회되어 기존...   \n",
              "22456  649989   s  제품 수거가 아직 진행되지 않은 상태입니다. 담당 부서 입고 확인되는 대로 처리해드...   \n",
              "153     28567   s    고객님의 제품은 금일 재발송 처리 처리 및 안내드린 대로 수거 진행하도록 하겠습니다.   \n",
              "\n",
              "                  인텐트    상담번호  상담내순번 모형1예측 모형2예측  \n",
              "15014  교환|반품|환불_방법_요청   81905      2    불안    경제  \n",
              "21176  교환|반품|환불_시간_질문  322344      2    불안    경제  \n",
              "3376   교환|반품|환불_일반_질문  191548      2    불안    경제  \n",
              "22456  교환|반품|환불_시간_질문  148661      2    불안    경제  \n",
              "153    교환|반품|환불_일반_요청  197708      2    불안    경제  "
            ],
            "text/html": [
              "\n",
              "  <div id=\"df-31ed8b9a-5c24-4396-b46f-e6a386396d78\" class=\"colab-df-container\">\n",
              "    <div>\n",
              "<style scoped>\n",
              "    .dataframe tbody tr th:only-of-type {\n",
              "        vertical-align: middle;\n",
              "    }\n",
              "\n",
              "    .dataframe tbody tr th {\n",
              "        vertical-align: top;\n",
              "    }\n",
              "\n",
              "    .dataframe thead th {\n",
              "        text-align: right;\n",
              "    }\n",
              "</style>\n",
              "<table border=\"1\" class=\"dataframe\">\n",
              "  <thead>\n",
              "    <tr style=\"text-align: right;\">\n",
              "      <th></th>\n",
              "      <th>IDX</th>\n",
              "      <th>발화자</th>\n",
              "      <th>발화문</th>\n",
              "      <th>인텐트</th>\n",
              "      <th>상담번호</th>\n",
              "      <th>상담내순번</th>\n",
              "      <th>모형1예측</th>\n",
              "      <th>모형2예측</th>\n",
              "    </tr>\n",
              "  </thead>\n",
              "  <tbody>\n",
              "    <tr>\n",
              "      <th>15014</th>\n",
              "      <td>539675</td>\n",
              "      <td>s</td>\n",
              "      <td>네, 환불 신청서  작성 부탁드리겠습니다.</td>\n",
              "      <td>교환|반품|환불_방법_요청</td>\n",
              "      <td>81905</td>\n",
              "      <td>2</td>\n",
              "      <td>불안</td>\n",
              "      <td>경제</td>\n",
              "    </tr>\n",
              "    <tr>\n",
              "      <th>21176</th>\n",
              "      <td>648709</td>\n",
              "      <td>s</td>\n",
              "      <td>반송하신 상품 아직 업체 입고 중으로 확인됩니다. 입고 확인 후 환불 처리 진행하겠...</td>\n",
              "      <td>교환|반품|환불_시간_질문</td>\n",
              "      <td>322344</td>\n",
              "      <td>2</td>\n",
              "      <td>불안</td>\n",
              "      <td>경제</td>\n",
              "    </tr>\n",
              "    <tr>\n",
              "      <th>3376</th>\n",
              "      <td>106243</td>\n",
              "      <td>s</td>\n",
              "      <td>기존 주문건환 불완료 진행되었으며 본사 발주건은 4/2 설치 예정으로 조회되어 기존...</td>\n",
              "      <td>교환|반품|환불_일반_질문</td>\n",
              "      <td>191548</td>\n",
              "      <td>2</td>\n",
              "      <td>불안</td>\n",
              "      <td>경제</td>\n",
              "    </tr>\n",
              "    <tr>\n",
              "      <th>22456</th>\n",
              "      <td>649989</td>\n",
              "      <td>s</td>\n",
              "      <td>제품 수거가 아직 진행되지 않은 상태입니다. 담당 부서 입고 확인되는 대로 처리해드...</td>\n",
              "      <td>교환|반품|환불_시간_질문</td>\n",
              "      <td>148661</td>\n",
              "      <td>2</td>\n",
              "      <td>불안</td>\n",
              "      <td>경제</td>\n",
              "    </tr>\n",
              "    <tr>\n",
              "      <th>153</th>\n",
              "      <td>28567</td>\n",
              "      <td>s</td>\n",
              "      <td>고객님의 제품은 금일 재발송 처리 처리 및 안내드린 대로 수거 진행하도록 하겠습니다.</td>\n",
              "      <td>교환|반품|환불_일반_요청</td>\n",
              "      <td>197708</td>\n",
              "      <td>2</td>\n",
              "      <td>불안</td>\n",
              "      <td>경제</td>\n",
              "    </tr>\n",
              "  </tbody>\n",
              "</table>\n",
              "</div>\n",
              "    <div class=\"colab-df-buttons\">\n",
              "\n",
              "  <div class=\"colab-df-container\">\n",
              "    <button class=\"colab-df-convert\" onclick=\"convertToInteractive('df-31ed8b9a-5c24-4396-b46f-e6a386396d78')\"\n",
              "            title=\"Convert this dataframe to an interactive table.\"\n",
              "            style=\"display:none;\">\n",
              "\n",
              "  <svg xmlns=\"http://www.w3.org/2000/svg\" height=\"24px\" viewBox=\"0 -960 960 960\">\n",
              "    <path d=\"M120-120v-720h720v720H120Zm60-500h600v-160H180v160Zm220 220h160v-160H400v160Zm0 220h160v-160H400v160ZM180-400h160v-160H180v160Zm440 0h160v-160H620v160ZM180-180h160v-160H180v160Zm440 0h160v-160H620v160Z\"/>\n",
              "  </svg>\n",
              "    </button>\n",
              "\n",
              "  <style>\n",
              "    .colab-df-container {\n",
              "      display:flex;\n",
              "      gap: 12px;\n",
              "    }\n",
              "\n",
              "    .colab-df-convert {\n",
              "      background-color: #E8F0FE;\n",
              "      border: none;\n",
              "      border-radius: 50%;\n",
              "      cursor: pointer;\n",
              "      display: none;\n",
              "      fill: #1967D2;\n",
              "      height: 32px;\n",
              "      padding: 0 0 0 0;\n",
              "      width: 32px;\n",
              "    }\n",
              "\n",
              "    .colab-df-convert:hover {\n",
              "      background-color: #E2EBFA;\n",
              "      box-shadow: 0px 1px 2px rgba(60, 64, 67, 0.3), 0px 1px 3px 1px rgba(60, 64, 67, 0.15);\n",
              "      fill: #174EA6;\n",
              "    }\n",
              "\n",
              "    .colab-df-buttons div {\n",
              "      margin-bottom: 4px;\n",
              "    }\n",
              "\n",
              "    [theme=dark] .colab-df-convert {\n",
              "      background-color: #3B4455;\n",
              "      fill: #D2E3FC;\n",
              "    }\n",
              "\n",
              "    [theme=dark] .colab-df-convert:hover {\n",
              "      background-color: #434B5C;\n",
              "      box-shadow: 0px 1px 3px 1px rgba(0, 0, 0, 0.15);\n",
              "      filter: drop-shadow(0px 1px 2px rgba(0, 0, 0, 0.3));\n",
              "      fill: #FFFFFF;\n",
              "    }\n",
              "  </style>\n",
              "\n",
              "    <script>\n",
              "      const buttonEl =\n",
              "        document.querySelector('#df-31ed8b9a-5c24-4396-b46f-e6a386396d78 button.colab-df-convert');\n",
              "      buttonEl.style.display =\n",
              "        google.colab.kernel.accessAllowed ? 'block' : 'none';\n",
              "\n",
              "      async function convertToInteractive(key) {\n",
              "        const element = document.querySelector('#df-31ed8b9a-5c24-4396-b46f-e6a386396d78');\n",
              "        const dataTable =\n",
              "          await google.colab.kernel.invokeFunction('convertToInteractive',\n",
              "                                                    [key], {});\n",
              "        if (!dataTable) return;\n",
              "\n",
              "        const docLinkHtml = 'Like what you see? Visit the ' +\n",
              "          '<a target=\"_blank\" href=https://colab.research.google.com/notebooks/data_table.ipynb>data table notebook</a>'\n",
              "          + ' to learn more about interactive tables.';\n",
              "        element.innerHTML = '';\n",
              "        dataTable['output_type'] = 'display_data';\n",
              "        await google.colab.output.renderOutput(dataTable, element);\n",
              "        const docLink = document.createElement('div');\n",
              "        docLink.innerHTML = docLinkHtml;\n",
              "        element.appendChild(docLink);\n",
              "      }\n",
              "    </script>\n",
              "  </div>\n",
              "\n",
              "\n",
              "<div id=\"df-d7c49fef-44b5-4f8f-a969-cfa5c907d8f5\">\n",
              "  <button class=\"colab-df-quickchart\" onclick=\"quickchart('df-d7c49fef-44b5-4f8f-a969-cfa5c907d8f5')\"\n",
              "            title=\"Suggest charts\"\n",
              "            style=\"display:none;\">\n",
              "\n",
              "<svg xmlns=\"http://www.w3.org/2000/svg\" height=\"24px\"viewBox=\"0 0 24 24\"\n",
              "     width=\"24px\">\n",
              "    <g>\n",
              "        <path d=\"M19 3H5c-1.1 0-2 .9-2 2v14c0 1.1.9 2 2 2h14c1.1 0 2-.9 2-2V5c0-1.1-.9-2-2-2zM9 17H7v-7h2v7zm4 0h-2V7h2v10zm4 0h-2v-4h2v4z\"/>\n",
              "    </g>\n",
              "</svg>\n",
              "  </button>\n",
              "\n",
              "<style>\n",
              "  .colab-df-quickchart {\n",
              "      --bg-color: #E8F0FE;\n",
              "      --fill-color: #1967D2;\n",
              "      --hover-bg-color: #E2EBFA;\n",
              "      --hover-fill-color: #174EA6;\n",
              "      --disabled-fill-color: #AAA;\n",
              "      --disabled-bg-color: #DDD;\n",
              "  }\n",
              "\n",
              "  [theme=dark] .colab-df-quickchart {\n",
              "      --bg-color: #3B4455;\n",
              "      --fill-color: #D2E3FC;\n",
              "      --hover-bg-color: #434B5C;\n",
              "      --hover-fill-color: #FFFFFF;\n",
              "      --disabled-bg-color: #3B4455;\n",
              "      --disabled-fill-color: #666;\n",
              "  }\n",
              "\n",
              "  .colab-df-quickchart {\n",
              "    background-color: var(--bg-color);\n",
              "    border: none;\n",
              "    border-radius: 50%;\n",
              "    cursor: pointer;\n",
              "    display: none;\n",
              "    fill: var(--fill-color);\n",
              "    height: 32px;\n",
              "    padding: 0;\n",
              "    width: 32px;\n",
              "  }\n",
              "\n",
              "  .colab-df-quickchart:hover {\n",
              "    background-color: var(--hover-bg-color);\n",
              "    box-shadow: 0 1px 2px rgba(60, 64, 67, 0.3), 0 1px 3px 1px rgba(60, 64, 67, 0.15);\n",
              "    fill: var(--button-hover-fill-color);\n",
              "  }\n",
              "\n",
              "  .colab-df-quickchart-complete:disabled,\n",
              "  .colab-df-quickchart-complete:disabled:hover {\n",
              "    background-color: var(--disabled-bg-color);\n",
              "    fill: var(--disabled-fill-color);\n",
              "    box-shadow: none;\n",
              "  }\n",
              "\n",
              "  .colab-df-spinner {\n",
              "    border: 2px solid var(--fill-color);\n",
              "    border-color: transparent;\n",
              "    border-bottom-color: var(--fill-color);\n",
              "    animation:\n",
              "      spin 1s steps(1) infinite;\n",
              "  }\n",
              "\n",
              "  @keyframes spin {\n",
              "    0% {\n",
              "      border-color: transparent;\n",
              "      border-bottom-color: var(--fill-color);\n",
              "      border-left-color: var(--fill-color);\n",
              "    }\n",
              "    20% {\n",
              "      border-color: transparent;\n",
              "      border-left-color: var(--fill-color);\n",
              "      border-top-color: var(--fill-color);\n",
              "    }\n",
              "    30% {\n",
              "      border-color: transparent;\n",
              "      border-left-color: var(--fill-color);\n",
              "      border-top-color: var(--fill-color);\n",
              "      border-right-color: var(--fill-color);\n",
              "    }\n",
              "    40% {\n",
              "      border-color: transparent;\n",
              "      border-right-color: var(--fill-color);\n",
              "      border-top-color: var(--fill-color);\n",
              "    }\n",
              "    60% {\n",
              "      border-color: transparent;\n",
              "      border-right-color: var(--fill-color);\n",
              "    }\n",
              "    80% {\n",
              "      border-color: transparent;\n",
              "      border-right-color: var(--fill-color);\n",
              "      border-bottom-color: var(--fill-color);\n",
              "    }\n",
              "    90% {\n",
              "      border-color: transparent;\n",
              "      border-bottom-color: var(--fill-color);\n",
              "    }\n",
              "  }\n",
              "</style>\n",
              "\n",
              "  <script>\n",
              "    async function quickchart(key) {\n",
              "      const quickchartButtonEl =\n",
              "        document.querySelector('#' + key + ' button');\n",
              "      quickchartButtonEl.disabled = true;  // To prevent multiple clicks.\n",
              "      quickchartButtonEl.classList.add('colab-df-spinner');\n",
              "      try {\n",
              "        const charts = await google.colab.kernel.invokeFunction(\n",
              "            'suggestCharts', [key], {});\n",
              "      } catch (error) {\n",
              "        console.error('Error during call to suggestCharts:', error);\n",
              "      }\n",
              "      quickchartButtonEl.classList.remove('colab-df-spinner');\n",
              "      quickchartButtonEl.classList.add('colab-df-quickchart-complete');\n",
              "    }\n",
              "    (() => {\n",
              "      let quickchartButtonEl =\n",
              "        document.querySelector('#df-d7c49fef-44b5-4f8f-a969-cfa5c907d8f5 button');\n",
              "      quickchartButtonEl.style.display =\n",
              "        google.colab.kernel.accessAllowed ? 'block' : 'none';\n",
              "    })();\n",
              "  </script>\n",
              "</div>\n",
              "\n",
              "    </div>\n",
              "  </div>\n"
            ],
            "application/vnd.google.colaboratory.intrinsic+json": {
              "type": "dataframe",
              "variable_name": "df3_1",
              "summary": "{\n  \"name\": \"df3_1\",\n  \"rows\": 50,\n  \"fields\": [\n    {\n      \"column\": \"IDX\",\n      \"properties\": {\n        \"dtype\": \"number\",\n        \"std\": 268795,\n        \"min\": 28567,\n        \"max\": 671093,\n        \"num_unique_values\": 50,\n        \"samples\": [\n          669717,\n          308159,\n          665003\n        ],\n        \"semantic_type\": \"\",\n        \"description\": \"\"\n      }\n    },\n    {\n      \"column\": \"\\ubc1c\\ud654\\uc790\",\n      \"properties\": {\n        \"dtype\": \"category\",\n        \"num_unique_values\": 1,\n        \"samples\": [\n          \"s\"\n        ],\n        \"semantic_type\": \"\",\n        \"description\": \"\"\n      }\n    },\n    {\n      \"column\": \"\\ubc1c\\ud654\\ubb38\",\n      \"properties\": {\n        \"dtype\": \"string\",\n        \"num_unique_values\": 50,\n        \"samples\": [\n          \"\\ubc18\\ud488 \\uc811\\uc218\\ub418\\uc5c8\\uc73c\\uba70 \\uc81c\\ud488 \\uc218\\uac70\\ub420 \\uc218 \\uc788\\ub3c4\\ub85d \\ud68c\\uc218 \\uc811\\uc218\\uc694\\uccad\\ud558\\uc600\\uc2b5\\ub2c8\\ub2e4. \\ubc1b\\uc73c\\uc2e0 \\uadf8\\ub300\\ub85c \\ubaa8\\ub450 \\uc7ac\\ud3ec\\uc7a5\\ud558\\uc154\\uc11c \\uae30\\uc0ac\\ub2d8 \\uc218\\uac70 \\ubc29\\ubb38 \\uc2dc \\uc81c\\ud488 \\uc804\\ub2ec\\ubd80\\ud0c1\\ub4dc\\ub9ac\\uba70 \\uc218\\uac70\\uc811\\uc218 \\ud6c4 5\\uc77c \\ub0b4\\uc218\\uac70 \\uc608\\uc815\\uc778 \\uc810\\uc2dc \\uac04 \\uc591\\ud574\\ubd80\\ud0c1\\ub4dc\\ub9bd\\ub2c8\\ub2e4.\"\n        ],\n        \"semantic_type\": \"\",\n        \"description\": \"\"\n      }\n    },\n    {\n      \"column\": \"\\uc778\\ud150\\ud2b8\",\n      \"properties\": {\n        \"dtype\": \"category\",\n        \"num_unique_values\": 7,\n        \"samples\": [\n          \"\\uad50\\ud658|\\ubc18\\ud488|\\ud658\\ubd88_\\ubc29\\ubc95_\\uc694\\uccad\"\n        ],\n        \"semantic_type\": \"\",\n        \"description\": \"\"\n      }\n    },\n    {\n      \"column\": \"\\uc0c1\\ub2f4\\ubc88\\ud638\",\n      \"properties\": {\n        \"dtype\": \"number\",\n        \"std\": 105834,\n        \"min\": 59401,\n        \"max\": 419993,\n        \"num_unique_values\": 50,\n        \"samples\": [\n          168216\n        ],\n        \"semantic_type\": \"\",\n        \"description\": \"\"\n      }\n    },\n    {\n      \"column\": \"\\uc0c1\\ub2f4\\ub0b4\\uc21c\\ubc88\",\n      \"properties\": {\n        \"dtype\": \"number\",\n        \"std\": 0,\n        \"min\": 2,\n        \"max\": 2,\n        \"num_unique_values\": 1,\n        \"samples\": [\n          2\n        ],\n        \"semantic_type\": \"\",\n        \"description\": \"\"\n      }\n    },\n    {\n      \"column\": \"\\ubaa8\\ud6151\\uc608\\uce21\",\n      \"properties\": {\n        \"dtype\": \"category\",\n        \"num_unique_values\": 2,\n        \"samples\": [\n          \"\\ub2f9\\ud669\"\n        ],\n        \"semantic_type\": \"\",\n        \"description\": \"\"\n      }\n    },\n    {\n      \"column\": \"\\ubaa8\\ud6152\\uc608\\uce21\",\n      \"properties\": {\n        \"dtype\": \"category\",\n        \"num_unique_values\": 2,\n        \"samples\": [\n          \"\\ubcf5\\uc9c0\"\n        ],\n        \"semantic_type\": \"\",\n        \"description\": \"\"\n      }\n    }\n  ]\n}"
            }
          },
          "metadata": {},
          "execution_count": 51
        }
      ]
    },
    {
      "cell_type": "markdown",
      "source": [
        "###4번"
      ],
      "metadata": {
        "id": "_O5AfUKDg2Q_"
      }
    },
    {
      "cell_type": "code",
      "source": [
        "!pip install tqdm #진행상태를 알려주는 기능 제공"
      ],
      "metadata": {
        "colab": {
          "base_uri": "https://localhost:8080/"
        },
        "id": "sp6FuRdljRs-",
        "outputId": "6b78d3ea-6aed-4d9d-fc64-964c7cd31146"
      },
      "execution_count": null,
      "outputs": [
        {
          "output_type": "stream",
          "name": "stdout",
          "text": [
            "Requirement already satisfied: tqdm in /usr/local/lib/python3.10/dist-packages (4.66.5)\n"
          ]
        }
      ]
    },
    {
      "cell_type": "code",
      "source": [
        "from gensim import corpora\n",
        "from tqdm import tqdm\n",
        "import pyLDAvis\n",
        "import pyLDAvis.gensim_models\n",
        "from gensim.models.ldamodel import LdaModel\n",
        "from gensim.models.coherencemodel import CoherenceModel\n",
        "import gensim"
      ],
      "metadata": {
        "colab": {
          "base_uri": "https://localhost:8080/"
        },
        "id": "HiwZM3f7jG5O",
        "outputId": "3f25b085-ad01-4ae5-c658-666626dc5537"
      },
      "execution_count": null,
      "outputs": [
        {
          "output_type": "stream",
          "name": "stderr",
          "text": [
            "/usr/local/lib/python3.10/dist-packages/ipykernel/ipkernel.py:283: DeprecationWarning: `should_run_async` will not call `transform_cell` automatically in the future. Please pass the result to `transformed_cell` argument and any exception that happen during thetransform in `preprocessing_exc_tuple` in IPython 7.17 and above.\n",
            "  and should_run_async(code)\n"
          ]
        }
      ]
    },
    {
      "cell_type": "code",
      "source": [
        "df4 = df3_1.query(\"모형1예측=='불안'\")"
      ],
      "metadata": {
        "colab": {
          "base_uri": "https://localhost:8080/"
        },
        "id": "La5B1O4Ji5b4",
        "outputId": "aa1f620f-afc4-4a12-d092-89d109488462"
      },
      "execution_count": null,
      "outputs": [
        {
          "output_type": "stream",
          "name": "stderr",
          "text": [
            "/usr/local/lib/python3.10/dist-packages/ipykernel/ipkernel.py:283: DeprecationWarning: `should_run_async` will not call `transform_cell` automatically in the future. Please pass the result to `transformed_cell` argument and any exception that happen during thetransform in `preprocessing_exc_tuple` in IPython 7.17 and above.\n",
            "  and should_run_async(code)\n"
          ]
        }
      ]
    },
    {
      "cell_type": "code",
      "source": [
        "train_data = df4.dropna(how = 'any') # Null 값이 존재하는 행 제거\n",
        "train_data['발화문'] = train_data['발화문'].str.replace(\"[^ㄱ-ㅎㅏ-ㅣ가-힣A-Za-z ]\",\"\", regex=True)"
      ],
      "metadata": {
        "id": "Kkvvmdsy8K0L",
        "colab": {
          "base_uri": "https://localhost:8080/"
        },
        "outputId": "dcaa84dc-bd5f-4952-a4cc-b8cd0ec27f7b"
      },
      "execution_count": null,
      "outputs": [
        {
          "output_type": "stream",
          "name": "stderr",
          "text": [
            "/usr/local/lib/python3.10/dist-packages/ipykernel/ipkernel.py:283: DeprecationWarning: `should_run_async` will not call `transform_cell` automatically in the future. Please pass the result to `transformed_cell` argument and any exception that happen during thetransform in `preprocessing_exc_tuple` in IPython 7.17 and above.\n",
            "  and should_run_async(code)\n"
          ]
        }
      ]
    },
    {
      "cell_type": "code",
      "source": [
        "#값을 저장할 비어있는 리스트를 만듬.\n",
        "tokenized_data4 = []\n",
        "\n",
        "# 불용어 정의\n",
        "stopwords = ['을', 'ㅋㅋ',\n",
        "             '부터', '까지' '적', '의','가','이','은',\n",
        "             '들','는','좀','잘','걍','과','도','를','으로',\n",
        "             '자','에','와','한','하다', '점', '나']\n",
        "\n",
        "# 형태소 분석기 OKT를 사용한 토큰화 작업 (다소 시간 소요)\n",
        "okt = Okt()\n",
        "\n",
        "for sentence in tqdm(train_data['발화문']): #리뷰 각각에 대해서 아래작업 반복\n",
        "    tokenized_sentence = okt.nouns(sentence)  #각 리뷰에서 명사만 뽑아서 리스트\n",
        "    #위에서 명사만 추출한 결과에서, 각 명사가 stopwords인지 체크하고\n",
        "    #stopwords 아닌 명사만 사용함\n",
        "    stopwords_removed_sentence = [word for word in tokenized_sentence if not word in stopwords] # 불용어 제거\n",
        "    tokenized_data4.append(stopwords_removed_sentence)\n",
        "\n",
        "len(tokenized_data4)"
      ],
      "metadata": {
        "colab": {
          "base_uri": "https://localhost:8080/"
        },
        "id": "nJdDH5YU9Tjn",
        "outputId": "83012a70-317f-4a2c-80a1-482fb5060bf6"
      },
      "execution_count": null,
      "outputs": [
        {
          "output_type": "stream",
          "name": "stderr",
          "text": [
            "/usr/local/lib/python3.10/dist-packages/ipykernel/ipkernel.py:283: DeprecationWarning: `should_run_async` will not call `transform_cell` automatically in the future. Please pass the result to `transformed_cell` argument and any exception that happen during thetransform in `preprocessing_exc_tuple` in IPython 7.17 and above.\n",
            "  and should_run_async(code)\n",
            "100%|██████████| 47/47 [00:00<00:00, 268.94it/s]\n"
          ]
        },
        {
          "output_type": "execute_result",
          "data": {
            "text/plain": [
              "47"
            ]
          },
          "metadata": {},
          "execution_count": 82
        }
      ]
    },
    {
      "cell_type": "code",
      "source": [
        "dictionary4 = corpora.Dictionary(tokenized_data4) #사전 구성\n",
        "corpus4 = [dictionary4.doc2bow(text) for text in tokenized_data4]"
      ],
      "metadata": {
        "id": "s0tWuLZkVqJl",
        "colab": {
          "base_uri": "https://localhost:8080/"
        },
        "outputId": "da6c8c1e-25ad-4d28-c259-443466e0ec59"
      },
      "execution_count": null,
      "outputs": [
        {
          "output_type": "stream",
          "name": "stderr",
          "text": [
            "/usr/local/lib/python3.10/dist-packages/ipykernel/ipkernel.py:283: DeprecationWarning: `should_run_async` will not call `transform_cell` automatically in the future. Please pass the result to `transformed_cell` argument and any exception that happen during thetransform in `preprocessing_exc_tuple` in IPython 7.17 and above.\n",
            "  and should_run_async(code)\n"
          ]
        }
      ]
    },
    {
      "cell_type": "code",
      "source": [
        "NUM_TOPICS = 3\n",
        "ldamodel4 = gensim.models.ldamodel.LdaModel(corpus4, num_topics = NUM_TOPICS,\n",
        "                                           id2word=dictionary4, passes=15)"
      ],
      "metadata": {
        "id": "GBHWShWAWMsQ",
        "colab": {
          "base_uri": "https://localhost:8080/"
        },
        "outputId": "23bb62ed-0ef8-4a95-b4ba-2d66f535a1d1"
      },
      "execution_count": null,
      "outputs": [
        {
          "output_type": "stream",
          "name": "stderr",
          "text": [
            "/usr/local/lib/python3.10/dist-packages/ipykernel/ipkernel.py:283: DeprecationWarning: `should_run_async` will not call `transform_cell` automatically in the future. Please pass the result to `transformed_cell` argument and any exception that happen during thetransform in `preprocessing_exc_tuple` in IPython 7.17 and above.\n",
            "  and should_run_async(code)\n"
          ]
        }
      ]
    },
    {
      "cell_type": "code",
      "source": [
        "#각 토픽의 출현확률이 높은 단어를 지정된 갯수만큼 반환\n",
        "topics4 = ldamodel4.print_topics(num_words=15)\n",
        "#위 내용을 출력\n",
        "for topic in topics4:\n",
        "    print(topic)"
      ],
      "metadata": {
        "id": "Kt3S4JR19H0Q",
        "colab": {
          "base_uri": "https://localhost:8080/"
        },
        "outputId": "4feba195-ff86-4406-a88a-6468ad857ead"
      },
      "execution_count": null,
      "outputs": [
        {
          "output_type": "stream",
          "name": "stdout",
          "text": [
            "(0, '0.051*\"반품\" + 0.050*\"제품\" + 0.050*\"환불\" + 0.037*\"처리\" + 0.020*\"교환\" + 0.016*\"고객\" + 0.015*\"주문\" + 0.015*\"결제\" + 0.011*\"해당\" + 0.011*\"문제\" + 0.011*\"금일\" + 0.011*\"충전\" + 0.011*\"때문\" + 0.011*\"및\" + 0.011*\"출고\"')\n",
            "(1, '0.043*\"확인\" + 0.037*\"교환\" + 0.031*\"제품\" + 0.023*\"일\" + 0.023*\"택배\" + 0.019*\"처리\" + 0.019*\"접수\" + 0.017*\"경우\" + 0.017*\"사용\" + 0.016*\"주시\" + 0.012*\"중\" + 0.012*\"주문\" + 0.012*\"빛\" + 0.012*\"필름\" + 0.012*\"세탁기\"')\n",
            "(2, '0.040*\"진행\" + 0.038*\"확인\" + 0.032*\"환불\" + 0.025*\"후\" + 0.024*\"상품\" + 0.022*\"처리\" + 0.021*\"교환\" + 0.019*\"접수\" + 0.015*\"건\" + 0.015*\"사진\" + 0.015*\"첨부\" + 0.015*\"것\" + 0.015*\"일\" + 0.014*\"저희\" + 0.014*\"쪽\"')\n"
          ]
        },
        {
          "output_type": "stream",
          "name": "stderr",
          "text": [
            "/usr/local/lib/python3.10/dist-packages/ipykernel/ipkernel.py:283: DeprecationWarning: `should_run_async` will not call `transform_cell` automatically in the future. Please pass the result to `transformed_cell` argument and any exception that happen during thetransform in `preprocessing_exc_tuple` in IPython 7.17 and above.\n",
            "  and should_run_async(code)\n"
          ]
        }
      ]
    },
    {
      "cell_type": "code",
      "source": [
        "pyLDAvis.enable_notebook()\n",
        "vis4 = pyLDAvis.gensim_models.prepare(ldamodel4, corpus4, dictionary4, sort_topics=True)\n",
        "pyLDAvis.display(vis4)"
      ],
      "metadata": {
        "colab": {
          "base_uri": "https://localhost:8080/",
          "height": 916
        },
        "id": "uzVe1els_fuR",
        "outputId": "0a961d52-a481-4f89-b3e4-bb1fa3f8b651"
      },
      "execution_count": null,
      "outputs": [
        {
          "output_type": "stream",
          "name": "stderr",
          "text": [
            "/usr/local/lib/python3.10/dist-packages/ipykernel/ipkernel.py:283: DeprecationWarning: `should_run_async` will not call `transform_cell` automatically in the future. Please pass the result to `transformed_cell` argument and any exception that happen during thetransform in `preprocessing_exc_tuple` in IPython 7.17 and above.\n",
            "  and should_run_async(code)\n"
          ]
        },
        {
          "output_type": "execute_result",
          "data": {
            "text/plain": [
              "<IPython.core.display.HTML object>"
            ],
            "text/html": [
              "\n",
              "<link rel=\"stylesheet\" type=\"text/css\" href=\"https://cdn.jsdelivr.net/gh/bmabey/pyLDAvis@3.4.0/pyLDAvis/js/ldavis.v1.0.0.css\">\n",
              "\n",
              "\n",
              "<div id=\"ldavis_el4351388952340696969253969092\" style=\"background-color:white;\"></div>\n",
              "<script type=\"text/javascript\">\n",
              "\n",
              "var ldavis_el4351388952340696969253969092_data = {\"mdsDat\": {\"x\": [0.06402186810416793, -0.11280785558380485, 0.04878598747963692], \"y\": [0.0755141372134866, 0.007119852825069784, -0.08263399003855636], \"topics\": [1, 2, 3], \"cluster\": [1, 1, 1], \"Freq\": [36.0680489992765, 34.36465160856944, 29.567299392154062]}, \"tinfo\": {\"Term\": [\"\\ubc18\\ud488\", \"\\uc81c\\ud488\", \"\\ud655\\uc778\", \"\\ud658\\ubd88\", \"\\ud0dd\\ubc30\", \"\\uc0c1\\ud488\", \"\\uc9c4\\ud589\", \"\\uc77c\", \"\\ud6c4\", \"\\uc0ac\\uc6a9\", \"\\uac74\", \"\\uc0ac\\uc9c4\", \"\\ucca8\\ubd80\", \"\\uc8fc\\uc2dc\", \"\\ube5b\", \"\\ud544\\ub984\", \"\\uc138\\ud0c1\\uae30\", \"\\uae30\\uc0ac\", \"\\uacb0\\uc81c\", \"\\uae30\\uc900\", \"\\ubaa8\\ub450\", \"\\uace0\\uac1d\", \"\\uac83\", \"\\uc644\\ub8cc\", \"\\ucda9\\uc804\", \"\\ub54c\\ubb38\", \"\\ubc0f\", \"\\ucd9c\\uace0\", \"\\ud30c\\uc190\", \"\\uc218\\ub2e8\", \"\\uc0c1\\ud488\", \"\\uac74\", \"\\uc0ac\\uc9c4\", \"\\ucca8\\ubd80\", \"\\ubc1c\\uc8fc\", \"\\uae30\\uc874\", \"\\ub538\", \"\\uc18c\\ub9ac\", \"\\uc0c1\\ud0dc\", \"\\ud658\", \"\\uc800\\ud76c\", \"\\ucabd\", \"\\uc9c4\\ud589\", \"\\ud6c4\", \"\\uc124\\uce58\", \"\\uc608\\uc815\", \"\\ucde8\\uc18c\", \"\\ubd88\", \"\\ubcf8\\uc0ac\", \"\\ubb38\\uac74\", \"\\uc870\\ud68c\", \"\\ucc38\\uace0\", \"\\uba85\", \"\\uce74\\ud1a1\", \"\\uc811\", \"\\uc0ac\\uc774\\ud2b8\", \"\\uc778\\uba85\", \"\\uc218\\ucde8\", \"\\uae30\\uc7ac\", \"\\ucd9c\\uc7a5\", \"\\uac83\", \"\\ud655\\uc778\", \"\\ub124\", \"\\ud658\\ubd88\", \"\\uc811\\uc218\", \"\\uc77c\", \"\\uc7ac\", \"\\uc644\\ub8cc\", \"\\ucc98\\ub9ac\", \"\\uad50\\ud658\", \"\\ubc14\\ub85c\", \"\\uc548\", \"\\uc2dc\", \"\\ubc18\\ud488\", \"\\uc8fc\\uc2dc\", \"\\uc8fc\\ubb38\", \"\\ubc18\\ud488\", \"\\ucda9\\uc804\", \"\\ub54c\\ubb38\", \"\\ubc0f\", \"\\ucd9c\\uace0\", \"\\ud30c\\uc190\", \"\\uc218\\ub2e8\", \"\\uc790\\ub3d9\", \"\\uacb0\\uc81c\", \"\\uc2e0\\uccad\", \"\\uc218\", \"\\uace0\\uac1d\", \"\\ud504\\ub86c\", \"\\uc791\\ub3d9\", \"\\uc804\\uc555\", \"\\ub2ec\\ub77c\", \"\\uc81c\\ub300\\ub85c\", \"\\ucd9c\\ub825\", \"\\ubbf8\\ub2c8\", \"\\uc815\\uc0c1\", \"\\uc815\\uaca9\\ucd9c\\ub825\", \"\\ub178\\ud2b8\\ubd81\", \"\\uac00\\uc2b5\\uae30\", \"\\uad00\\ub9ac\", \"\\uace0\\uc720\", \"\\ud6c4\\uc6d0\", \"\\uc8fc\\uc2e0\", \"\\ubc88\\ud638\", \"\\uc2dc\\ub9ac\\uc5bc\", \"\\uc601\\uc5c5\\uc77c\", \"\\uc81c\\ud488\", \"\\ud658\\ubd88\", \"\\ucc98\\ub9ac\", \"\\uae08\\uc77c\", \"\\ud574\\ub2f9\", \"\\ubb38\\uc81c\", \"\\uad6c\\ub9e4\", \"\\uc8fc\\ubb38\", \"\\uad50\\ud658\", \"\\uc548\", \"\\ubc14\\ub85c\", \"\\uc2dc\", \"\\ub300\\ub85c\", \"\\uc811\\uc218\", \"\\uc218\\uac70\", \"\\uc9c4\\ud589\", \"\\uc0ac\\uc6a9\", \"\\ubb38\\uc758\", \"\\ud0dd\\ubc30\", \"\\ube5b\", \"\\ud544\\ub984\", \"\\uc138\\ud0c1\\uae30\", \"\\uae30\\uc0ac\", \"\\uae30\\uc900\", \"\\ubaa8\\ub450\", \"\\uac70\", \"\\uc9c1\\uc811\", \"\\ub3c4\\ucc29\", \"\\uc557\", \"\\ud130\\ubbf8\\ub110\", \"\\uc0ac\\ubb34\\uc2e4\", \"\\ucee4\\ubc84\", \"\\ud604\\uc0c1\", \"\\ucd2c\\uc601\", \"\\ub864\", \"\\ub4dc\\ub837\\uc73c\", \"\\uae30\\ubcf8\", \"\\ud3c9\\uc77c\", \"\\uc0c1\", \"\\ubcc0\\uacbd\", \"\\ub4f1\", \"\\ub3d9\\uc77c\", \"\\uc0ac\\uc720\", \"\\uc0c9\\uc0c1\", \"\\ubc30\\uc1a1\", \"\\uc774\\uc5b4\\ud3f0\", \"\\uc18c\\uc694\", \"\\uc798\\ubabb\", \"\\uc0ac\\uc6a9\", \"\\uc8fc\\uc2dc\", \"\\uc77c\", \"\\ud655\\uc778\", \"\\uacbd\\uc6b0\", \"\\uad50\\ud658\", \"\\uc9c0\\uc5f0\", \"\\uc81c\\ud488\", \"\\uc911\", \"\\uc811\\uc218\", \"\\uc644\\ub8cc\", \"\\ucc98\\ub9ac\", \"\\uc8fc\\ubb38\", \"\\uc2dc\", \"\\ud6c4\", \"\\uc9c4\\ud589\", \"\\uc815\\ub3c4\", \"\\ubd88\\ub7c9\", \"\\uae30\\uac04\", \"\\ub0b4\\uc77c\", \"\\ub0b4\", \"\\ucc28\\uac10\", \"\\uc218\\uac70\"], \"Freq\": [8.0, 11.0, 11.0, 12.0, 3.0, 4.0, 8.0, 5.0, 5.0, 3.0, 2.0, 2.0, 2.0, 3.0, 1.0, 1.0, 1.0, 1.0, 2.0, 1.0, 1.0, 3.0, 3.0, 3.0, 2.0, 2.0, 2.0, 2.0, 2.0, 2.0, 3.664237757228761, 2.3271556336733887, 2.327130684974811, 2.327059524482277, 1.6290611373828283, 1.6290544749462763, 1.6284297652040503, 1.6284256543389437, 1.624380988336009, 1.5598001480359702, 2.0654911314193947, 2.0631533249594924, 6.117258724702653, 3.8219492542398386, 0.9307851251347184, 0.9307849833807493, 0.930783991102965, 0.9307838493489957, 0.9307823609323193, 0.9307818647934271, 0.9307798802378584, 0.9307411814042692, 0.9307402600034694, 0.9307402600034694, 0.9307399764955311, 0.9307372831701164, 0.9307372122931318, 0.9307333849359637, 0.9305788731095451, 0.9305731320737929, 2.2983405955860317, 5.8087329118054685, 1.6473988560993194, 4.8394623636821485, 2.9578408727166368, 2.259263845914949, 1.646598796697204, 1.631262718278338, 3.299122058782788, 3.222805407373403, 1.1950579712988163, 1.1764346892113893, 1.1521304750546528, 1.2787860872333978, 1.0704930175346887, 1.0821933192747522, 7.373383061581436, 1.602727477429492, 1.6023922602252028, 1.6023236500963636, 1.6021837286525105, 1.6021388889620094, 1.6019873524176047, 1.6019673636399114, 2.117487394501837, 1.5788210343676088, 1.5077557974141806, 2.2887825755376943, 0.9157432388068226, 0.9157399298537585, 0.9157391194979061, 0.9157389169089429, 0.9157389169089429, 0.9157387143199799, 0.9157379039641275, 0.9157372961972381, 0.9157366884303488, 0.9157358780744963, 0.9157298004056031, 0.9156378925460066, 0.9156354614784492, 0.9156264125047637, 0.915623171081354, 0.9156165531752258, 0.9156002109988685, 0.9155900815507131, 7.323008640608135, 7.294493838872784, 5.299909875085785, 1.6047374300621389, 1.6169253171420135, 1.605289012279027, 1.493591992647461, 2.1410202635157494, 2.9590357345234874, 1.3609191818943294, 1.3426648358438455, 1.5390129784134674, 1.1087279994109285, 1.516180121796747, 1.109091984247979, 1.1592422742984285, 0.9515811588509402, 0.9224134804171473, 2.8105385179844484, 1.5167184208087547, 1.5167078461678505, 1.5165797884285477, 1.5165392329376068, 1.5111484901733092, 1.5105716493222212, 0.8665956568683634, 0.8665921707230103, 0.8665907181624466, 0.8665892656018828, 0.8665888007825023, 0.8665842106911208, 0.8665811312627256, 0.8665739846647518, 0.8665704404169762, 0.866567883910384, 0.8665460955019273, 0.8665389489039534, 0.8665388908015309, 0.8665340683004592, 0.8665326738423179, 0.8665322090229375, 0.8665308145647963, 0.8665294782090777, 0.8665279675460913, 0.8665236679668225, 0.8665033902213521, 0.866503157811662, 0.8665006013050697, 2.1326082832256015, 2.036868970623302, 2.8777360613520906, 5.39050849533001, 2.177346218951243, 4.601159195809514, 1.4798519688806557, 3.853580657499817, 1.5243337891276918, 2.3125115113998658, 1.51468634668245, 2.314777041059981, 1.5171181654759067, 1.3715850767472528, 1.3982886015372362, 1.0089654173036413, 0.8892541491027567, 0.8690185278887472, 0.8689728593846221, 0.8685090858478186, 0.8680636726765413, 0.8680267776382213, 0.8672257195385084], \"Total\": [8.0, 11.0, 11.0, 12.0, 3.0, 4.0, 8.0, 5.0, 5.0, 3.0, 2.0, 2.0, 2.0, 3.0, 1.0, 1.0, 1.0, 1.0, 2.0, 1.0, 1.0, 3.0, 3.0, 3.0, 2.0, 2.0, 2.0, 2.0, 2.0, 2.0, 4.168799376912626, 2.7732488199456045, 2.773242848495895, 2.773238214508992, 2.0749815895985924, 2.074981315736542, 2.074940605961933, 2.074940593002755, 2.0748885385776186, 2.0738407746766283, 2.7574513801620646, 2.757382089013482, 8.285466416304722, 5.478363206638175, 1.3767063991538775, 1.3767062517237347, 1.3767064374155833, 1.3767062873403952, 1.376706237439956, 1.3767062037153757, 1.37670615472122, 1.3767041250128624, 1.3767040850569119, 1.3767041958751463, 1.3767040677717515, 1.3767040350854973, 1.376704050592631, 1.3767038912880465, 1.376696313531595, 1.3766960606262502, 3.423120733645593, 11.467077623589361, 2.7621926454179824, 12.42725136324857, 6.78653250591325, 5.369257635726479, 3.413026099493466, 3.3754064568304285, 10.913808974928555, 10.783000337706405, 2.7549020802727995, 2.7545979139113954, 4.062728530215373, 8.935344232906989, 3.3367418897492422, 4.740331748266408, 8.935344232906989, 2.0524016928156033, 2.052390937070371, 2.0523899843803592, 2.0523859034261482, 2.0524079738919947, 2.0523721017056946, 2.0523708900991267, 2.7301733128900767, 2.052649646568728, 2.0473361048122207, 3.3901462497067527, 1.3654198042565808, 1.3654196059517871, 1.3654196078957002, 1.3654196878893354, 1.3654197127219296, 1.3654197021594805, 1.3654196846331037, 1.365419632341316, 1.3654195646982188, 1.3654197424015335, 1.3654195000163, 1.3654136649684652, 1.3654136663823144, 1.36541303195291, 1.3654130219192169, 1.3654126838105982, 1.3654117161122867, 1.3654162914188313, 11.464902146749461, 12.42725136324857, 10.913808974928555, 2.702647820426379, 2.750391028349833, 2.750582185384589, 2.7452891539951088, 4.740331748266408, 10.783000337706405, 2.7545979139113954, 2.7549020802727995, 4.062728530215373, 2.060456388398167, 6.78653250591325, 2.7105893723083225, 8.285466416304722, 3.3177831854584174, 2.7142077780074993, 3.279478051756678, 1.9787348035015493, 1.9787354058175335, 1.978743319249435, 1.978745536587105, 1.979055642870458, 1.979085593272564, 1.3285970210586902, 1.328597188133849, 1.3285973651283451, 1.3285974979490143, 1.328597514605085, 1.3285977588498392, 1.3285978981046123, 1.328598333308522, 1.328598602121483, 1.3285986790879067, 1.3286005620591959, 1.3286010523482918, 1.3286011409830918, 1.3286005344522576, 1.3286006628666902, 1.3286007056480749, 1.3286008415562582, 1.3286008516094643, 1.3286010115766111, 1.3286021842705855, 1.3286022357895475, 1.3286036426710617, 1.3286024350227286, 3.3177831854584174, 3.3367418897492422, 5.369257635726479, 11.467077623589361, 4.0133550215677385, 10.783000337706405, 2.6791799639795117, 11.464902146749461, 3.3634088993124553, 6.78653250591325, 3.3754064568304285, 10.913808974928555, 4.740331748266408, 4.062728530215373, 5.478363206638175, 8.285466416304722, 2.0251610742017423, 2.0266661026260495, 2.026669361949001, 2.015456449948906, 2.0154771119956014, 2.0162147458950814, 2.7105893723083225], \"Category\": [\"Default\", \"Default\", \"Default\", \"Default\", \"Default\", \"Default\", \"Default\", \"Default\", \"Default\", \"Default\", \"Default\", \"Default\", \"Default\", \"Default\", \"Default\", \"Default\", \"Default\", \"Default\", \"Default\", \"Default\", \"Default\", \"Default\", \"Default\", \"Default\", \"Default\", \"Default\", \"Default\", \"Default\", \"Default\", \"Default\", \"Topic1\", \"Topic1\", \"Topic1\", \"Topic1\", \"Topic1\", \"Topic1\", \"Topic1\", \"Topic1\", \"Topic1\", \"Topic1\", \"Topic1\", \"Topic1\", \"Topic1\", \"Topic1\", \"Topic1\", \"Topic1\", \"Topic1\", \"Topic1\", \"Topic1\", \"Topic1\", \"Topic1\", \"Topic1\", \"Topic1\", \"Topic1\", \"Topic1\", \"Topic1\", \"Topic1\", \"Topic1\", \"Topic1\", \"Topic1\", \"Topic1\", \"Topic1\", \"Topic1\", \"Topic1\", \"Topic1\", \"Topic1\", \"Topic1\", \"Topic1\", \"Topic1\", \"Topic1\", \"Topic1\", \"Topic1\", \"Topic1\", \"Topic1\", \"Topic1\", \"Topic1\", \"Topic2\", \"Topic2\", \"Topic2\", \"Topic2\", \"Topic2\", \"Topic2\", \"Topic2\", \"Topic2\", \"Topic2\", \"Topic2\", \"Topic2\", \"Topic2\", \"Topic2\", \"Topic2\", \"Topic2\", \"Topic2\", \"Topic2\", \"Topic2\", \"Topic2\", \"Topic2\", \"Topic2\", \"Topic2\", \"Topic2\", \"Topic2\", \"Topic2\", \"Topic2\", \"Topic2\", \"Topic2\", \"Topic2\", \"Topic2\", \"Topic2\", \"Topic2\", \"Topic2\", \"Topic2\", \"Topic2\", \"Topic2\", \"Topic2\", \"Topic2\", \"Topic2\", \"Topic2\", \"Topic2\", \"Topic2\", \"Topic2\", \"Topic2\", \"Topic2\", \"Topic2\", \"Topic2\", \"Topic2\", \"Topic3\", \"Topic3\", \"Topic3\", \"Topic3\", \"Topic3\", \"Topic3\", \"Topic3\", \"Topic3\", \"Topic3\", \"Topic3\", \"Topic3\", \"Topic3\", \"Topic3\", \"Topic3\", \"Topic3\", \"Topic3\", \"Topic3\", \"Topic3\", \"Topic3\", \"Topic3\", \"Topic3\", \"Topic3\", \"Topic3\", \"Topic3\", \"Topic3\", \"Topic3\", \"Topic3\", \"Topic3\", \"Topic3\", \"Topic3\", \"Topic3\", \"Topic3\", \"Topic3\", \"Topic3\", \"Topic3\", \"Topic3\", \"Topic3\", \"Topic3\", \"Topic3\", \"Topic3\", \"Topic3\", \"Topic3\", \"Topic3\", \"Topic3\", \"Topic3\", \"Topic3\", \"Topic3\", \"Topic3\", \"Topic3\", \"Topic3\", \"Topic3\", \"Topic3\", \"Topic3\"], \"logprob\": [30.0, 29.0, 28.0, 27.0, 26.0, 25.0, 24.0, 23.0, 22.0, 21.0, 20.0, 19.0, 18.0, 17.0, 16.0, 15.0, 14.0, 13.0, 12.0, 11.0, 10.0, 9.0, 8.0, 7.0, 6.0, 5.0, 4.0, 3.0, 2.0, 1.0, -3.7266, -4.1806, -4.1806, -4.1806, -4.5372, -4.5372, -4.5376, -4.5376, -4.5401, -4.5807, -4.2999, -4.301, -3.2141, -3.6845, -5.097, -5.097, -5.097, -5.097, -5.097, -5.097, -5.097, -5.097, -5.097, -5.097, -5.097, -5.097, -5.097, -5.097, -5.0972, -5.0972, -4.1931, -3.2659, -4.526, -3.4484, -3.9408, -4.2102, -4.5265, -4.5359, -3.8316, -3.855, -4.847, -4.8628, -4.8836, -4.7793, -4.9571, -4.9463, -2.979, -4.5052, -4.5054, -4.5054, -4.5055, -4.5055, -4.5056, -4.5056, -4.2266, -4.5202, -4.5662, -4.1488, -5.0649, -5.0649, -5.0649, -5.0649, -5.0649, -5.0649, -5.0649, -5.0649, -5.0649, -5.0649, -5.0649, -5.065, -5.065, -5.065, -5.065, -5.065, -5.065, -5.0651, -2.9858, -2.9897, -3.3092, -4.5039, -4.4963, -4.5036, -4.5757, -4.2156, -3.892, -4.6687, -4.6822, -4.5457, -4.8737, -4.5607, -4.8733, -4.8291, -5.0265, -5.0576, -3.7931, -4.41, -4.41, -4.41, -4.4101, -4.4136, -4.414, -4.9697, -4.9697, -4.9697, -4.9697, -4.9697, -4.9697, -4.9697, -4.9697, -4.9697, -4.9697, -4.9697, -4.9698, -4.9698, -4.9698, -4.9698, -4.9698, -4.9698, -4.9698, -4.9698, -4.9698, -4.9698, -4.9698, -4.9698, -4.0692, -4.1151, -3.7695, -3.1419, -4.0484, -3.3002, -4.4346, -3.4775, -4.4049, -3.9882, -4.4113, -3.9872, -4.4097, -4.5105, -4.4913, -4.8176, -4.9439, -4.9669, -4.9669, -4.9675, -4.968, -4.968, -4.969], \"loglift\": [30.0, 29.0, 28.0, 27.0, 26.0, 25.0, 24.0, 23.0, 22.0, 21.0, 20.0, 19.0, 18.0, 17.0, 16.0, 15.0, 14.0, 13.0, 12.0, 11.0, 10.0, 9.0, 8.0, 7.0, 6.0, 5.0, 4.0, 3.0, 2.0, 1.0, 0.8908, 0.8444, 0.8444, 0.8444, 0.7778, 0.7778, 0.7774, 0.7774, 0.775, 0.7349, 0.7308, 0.7297, 0.7164, 0.6597, 0.6283, 0.6283, 0.6283, 0.6283, 0.6283, 0.6283, 0.6283, 0.6283, 0.6283, 0.6283, 0.6283, 0.6283, 0.6283, 0.6283, 0.6281, 0.6281, 0.6214, 0.3396, 0.5029, 0.0767, 0.1893, 0.1541, 0.2909, 0.2926, -0.1766, -0.188, 0.1846, 0.169, -0.2405, -0.9243, -0.1171, -0.4574, 0.876, 0.8208, 0.8206, 0.8206, 0.8205, 0.8205, 0.8204, 0.8204, 0.814, 0.8057, 0.7622, 0.6753, 0.6687, 0.6687, 0.6687, 0.6687, 0.6687, 0.6687, 0.6687, 0.6687, 0.6687, 0.6687, 0.6686, 0.6685, 0.6685, 0.6685, 0.6685, 0.6685, 0.6685, 0.6685, 0.6199, 0.5354, 0.3458, 0.5469, 0.5369, 0.5296, 0.4594, 0.2733, -0.225, 0.363, 0.3494, 0.0974, 0.4484, -0.4306, 0.1745, -0.8986, -0.1808, -0.0111, 1.0642, 0.9526, 0.9526, 0.9525, 0.9525, 0.9488, 0.9484, 0.7912, 0.7912, 0.7912, 0.7912, 0.7912, 0.7912, 0.7912, 0.7912, 0.7912, 0.7912, 0.7911, 0.7911, 0.7911, 0.7911, 0.7911, 0.7911, 0.7911, 0.7911, 0.7911, 0.7911, 0.7911, 0.7911, 0.7911, 0.7766, 0.7249, 0.5948, 0.4637, 0.607, 0.3668, 0.6249, 0.1282, 0.4271, 0.1419, 0.4172, -0.3322, 0.0792, 0.1326, -0.1471, -0.8871, 0.3955, 0.3717, 0.3717, 0.3767, 0.3762, 0.3757, 0.0789]}, \"token.table\": {\"Topic\": [2, 3, 1, 1, 3, 2, 1, 2, 3, 2, 3, 2, 2, 1, 2, 3, 1, 2, 2, 3, 1, 3, 3, 3, 1, 1, 3, 2, 3, 2, 3, 1, 2, 2, 2, 1, 2, 3, 3, 3, 3, 1, 2, 3, 1, 3, 1, 1, 2, 3, 1, 2, 2, 2, 1, 2, 1, 2, 1, 3, 2, 3, 1, 1, 1, 3, 3, 3, 2, 3, 3, 1, 1, 3, 1, 1, 3, 1, 3, 1, 3, 2, 1, 2, 3, 2, 1, 1, 2, 3, 2, 2, 1, 2, 3, 2, 1, 1, 3, 3, 1, 1, 3, 2, 2, 3, 1, 2, 3, 1, 2, 1, 1, 2, 3, 2, 1, 3, 2, 2, 2, 3, 1, 1, 2, 3, 1, 3, 2, 1, 2, 3, 1, 3, 3, 1, 2, 3, 1, 2, 3, 1, 1, 2, 3, 1, 3, 2, 2, 1, 2, 1, 1, 3, 3, 3, 2, 3, 2, 3, 1, 2, 3, 1, 3, 1, 1, 2, 1, 3, 2], \"Freq\": [0.7323756545062248, 0.752673673167769, 0.7211758229610384, 0.5842621851873795, 0.29213109259368975, 0.732554226706898, 0.24916808870035365, 0.24916808870035365, 0.4983361774007073, 0.5899450503567508, 0.2949725251783754, 0.732378783529768, 0.7323787842881266, 0.27821570120048, 0.27821570120048, 0.46369283533413336, 0.36426035433999376, 0.36426035433999376, 0.7400150270724037, 0.37000751353620187, 0.49342039642733, 0.49342039642733, 0.7526713893779535, 1.010741382871066, 0.7263766091119486, 0.9638641007666489, 1.0105830056901097, 0.49616043469224097, 0.49616043469224097, 0.496165521227388, 0.496165521227388, 0.7240624593355814, 0.3620312296677907, 0.7323755244970866, 0.7323755537360086, 0.4853293695662332, 0.4853293695662332, 0.7526734782462842, 0.752671508794657, 0.752671667133801, 0.7526715857886079, 0.9638830115201342, 0.9744732174927867, 0.752672733866112, 0.7263725086997623, 1.010567712078007, 0.7263713908612146, 0.3684316315437355, 0.3684316315437355, 0.3684316315437355, 0.3635593967391958, 0.7271187934783916, 0.7323755554825664, 0.9744736698292862, 0.3629893080994649, 0.3629893080994649, 0.11191510633884824, 0.7834057443719377, 0.963863973553087, 0.7526707481284242, 0.73237931056067, 0.7526716100248841, 0.7263713730676071, 0.7263713467393693, 0.493421189955391, 0.493421189955391, 1.0107468653509404, 0.752673255196287, 0.30140607270026604, 0.6028121454005321, 0.7526715030993711, 0.7263725350655321, 0.7211773758236595, 0.752671682773536, 0.963907199261433, 0.9595088749419173, 0.7526714124756911, 0.7263712877448664, 1.0107425154863583, 0.9638830175401288, 0.75266992192613, 0.976879172549657, 0.3689234563582774, 0.3689234563582774, 0.3689234563582774, 0.974482160587659, 0.7263726109355283, 0.24613999989484606, 0.4922799997896921, 0.24613999989484606, 0.7323798296145303, 0.9743503979567391, 0.3630293898611317, 0.3630293898611317, 0.7526734030010762, 0.7323773755188464, 0.726371365531266, 0.5925212342806379, 0.5925212342806379, 0.7526707189422503, 0.726372526883704, 0.3724909728101347, 0.5587364592152021, 0.9744827358681758, 0.7323755976851778, 0.7526706060740381, 0.585990244931565, 0.2929951224657825, 0.2929951224657825, 0.7253074394669665, 0.7323755966425133, 0.7263725178197072, 0.4420519606125862, 0.2947013070750575, 0.2947013070750575, 0.7323756198125205, 0.4937878832152499, 0.4937878832152499, 0.7323755835305205, 0.7323755404164521, 0.6105590706663507, 0.34889089752362895, 0.7263714167112864, 0.21095569953847873, 0.42191139907695746, 0.42191139907695746, 0.29969354329505854, 0.5993870865901171, 0.7323791292061984, 0.2973174032465749, 0.2973174032465749, 0.5946348064931498, 0.3732485362852046, 0.3732485362852046, 0.7526735785167531, 0.7241595944668582, 0.12069326574447636, 0.12069326574447636, 0.7253256659527902, 0.49597891397032634, 0.49597891397032634, 0.7263724876183233, 0.27488111683937905, 0.4581351947322984, 0.18325407789291936, 0.7211785808865699, 0.7526727774688439, 0.9744756074680215, 0.7323755460818745, 0.7263767425506443, 0.9744681107021913, 0.7263712675574076, 0.7263724502301803, 0.752673176306095, 0.9147797157517266, 0.752673393565125, 0.9744651284936234, 0.7526713391650823, 0.7323754913196546, 1.010746557685251, 0.36358466475945983, 0.7271693295189197, 0.7526729297558014, 0.5232370615209905, 0.4360308846008254, 0.9643941928530447, 0.4023415841403698, 0.5632782177965177, 0.7301450906272825, 0.18253627265682063, 0.7323791238243342], \"Term\": [\"\\uac00\\uc2b5\\uae30\", \"\\uac70\", \"\\uac74\", \"\\uac83\", \"\\uac83\", \"\\uacb0\\uc81c\", \"\\uacbd\\uc6b0\", \"\\uacbd\\uc6b0\", \"\\uacbd\\uc6b0\", \"\\uace0\\uac1d\", \"\\uace0\\uac1d\", \"\\uace0\\uc720\", \"\\uad00\\ub9ac\", \"\\uad50\\ud658\", \"\\uad50\\ud658\", \"\\uad50\\ud658\", \"\\uad6c\\ub9e4\", \"\\uad6c\\ub9e4\", \"\\uae08\\uc77c\", \"\\uae08\\uc77c\", \"\\uae30\\uac04\", \"\\uae30\\uac04\", \"\\uae30\\ubcf8\", \"\\uae30\\uc0ac\", \"\\uae30\\uc7ac\", \"\\uae30\\uc874\", \"\\uae30\\uc900\", \"\\ub0b4\", \"\\ub0b4\", \"\\ub0b4\\uc77c\", \"\\ub0b4\\uc77c\", \"\\ub124\", \"\\ub124\", \"\\ub178\\ud2b8\\ubd81\", \"\\ub2ec\\ub77c\", \"\\ub300\\ub85c\", \"\\ub300\\ub85c\", \"\\ub3c4\\ucc29\", \"\\ub3d9\\uc77c\", \"\\ub4dc\\ub837\\uc73c\", \"\\ub4f1\", \"\\ub538\", \"\\ub54c\\ubb38\", \"\\ub864\", \"\\uba85\", \"\\ubaa8\\ub450\", \"\\ubb38\\uac74\", \"\\ubb38\\uc758\", \"\\ubb38\\uc758\", \"\\ubb38\\uc758\", \"\\ubb38\\uc81c\", \"\\ubb38\\uc81c\", \"\\ubbf8\\ub2c8\", \"\\ubc0f\", \"\\ubc14\\ub85c\", \"\\ubc14\\ub85c\", \"\\ubc18\\ud488\", \"\\ubc18\\ud488\", \"\\ubc1c\\uc8fc\", \"\\ubc30\\uc1a1\", \"\\ubc88\\ud638\", \"\\ubcc0\\uacbd\", \"\\ubcf8\\uc0ac\", \"\\ubd88\", \"\\ubd88\\ub7c9\", \"\\ubd88\\ub7c9\", \"\\ube5b\", \"\\uc0ac\\ubb34\\uc2e4\", \"\\uc0ac\\uc6a9\", \"\\uc0ac\\uc6a9\", \"\\uc0ac\\uc720\", \"\\uc0ac\\uc774\\ud2b8\", \"\\uc0ac\\uc9c4\", \"\\uc0c1\", \"\\uc0c1\\ud0dc\", \"\\uc0c1\\ud488\", \"\\uc0c9\\uc0c1\", \"\\uc124\\uce58\", \"\\uc138\\ud0c1\\uae30\", \"\\uc18c\\ub9ac\", \"\\uc18c\\uc694\", \"\\uc218\", \"\\uc218\\uac70\", \"\\uc218\\uac70\", \"\\uc218\\uac70\", \"\\uc218\\ub2e8\", \"\\uc218\\ucde8\", \"\\uc2dc\", \"\\uc2dc\", \"\\uc2dc\", \"\\uc2dc\\ub9ac\\uc5bc\", \"\\uc2e0\\uccad\", \"\\uc548\", \"\\uc548\", \"\\uc557\", \"\\uc601\\uc5c5\\uc77c\", \"\\uc608\\uc815\", \"\\uc644\\ub8cc\", \"\\uc644\\ub8cc\", \"\\uc774\\uc5b4\\ud3f0\", \"\\uc778\\uba85\", \"\\uc77c\", \"\\uc77c\", \"\\uc790\\ub3d9\", \"\\uc791\\ub3d9\", \"\\uc798\\ubabb\", \"\\uc7ac\", \"\\uc7ac\", \"\\uc7ac\", \"\\uc800\\ud76c\", \"\\uc804\\uc555\", \"\\uc811\", \"\\uc811\\uc218\", \"\\uc811\\uc218\", \"\\uc811\\uc218\", \"\\uc815\\uaca9\\ucd9c\\ub825\", \"\\uc815\\ub3c4\", \"\\uc815\\ub3c4\", \"\\uc815\\uc0c1\", \"\\uc81c\\ub300\\ub85c\", \"\\uc81c\\ud488\", \"\\uc81c\\ud488\", \"\\uc870\\ud68c\", \"\\uc8fc\\ubb38\", \"\\uc8fc\\ubb38\", \"\\uc8fc\\ubb38\", \"\\uc8fc\\uc2dc\", \"\\uc8fc\\uc2dc\", \"\\uc8fc\\uc2e0\", \"\\uc911\", \"\\uc911\", \"\\uc911\", \"\\uc9c0\\uc5f0\", \"\\uc9c0\\uc5f0\", \"\\uc9c1\\uc811\", \"\\uc9c4\\ud589\", \"\\uc9c4\\ud589\", \"\\uc9c4\\ud589\", \"\\ucabd\", \"\\ucc28\\uac10\", \"\\ucc28\\uac10\", \"\\ucc38\\uace0\", \"\\ucc98\\ub9ac\", \"\\ucc98\\ub9ac\", \"\\ucc98\\ub9ac\", \"\\ucca8\\ubd80\", \"\\ucd2c\\uc601\", \"\\ucd9c\\uace0\", \"\\ucd9c\\ub825\", \"\\ucd9c\\uc7a5\", \"\\ucda9\\uc804\", \"\\ucde8\\uc18c\", \"\\uce74\\ud1a1\", \"\\ucee4\\ubc84\", \"\\ud0dd\\ubc30\", \"\\ud130\\ubbf8\\ub110\", \"\\ud30c\\uc190\", \"\\ud3c9\\uc77c\", \"\\ud504\\ub86c\", \"\\ud544\\ub984\", \"\\ud574\\ub2f9\", \"\\ud574\\ub2f9\", \"\\ud604\\uc0c1\", \"\\ud655\\uc778\", \"\\ud655\\uc778\", \"\\ud658\", \"\\ud658\\ubd88\", \"\\ud658\\ubd88\", \"\\ud6c4\", \"\\ud6c4\", \"\\ud6c4\\uc6d0\"]}, \"R\": 30, \"lambda.step\": 0.01, \"plot.opts\": {\"xlab\": \"PC1\", \"ylab\": \"PC2\"}, \"topic.order\": [3, 1, 2]};\n",
              "\n",
              "function LDAvis_load_lib(url, callback){\n",
              "  var s = document.createElement('script');\n",
              "  s.src = url;\n",
              "  s.async = true;\n",
              "  s.onreadystatechange = s.onload = callback;\n",
              "  s.onerror = function(){console.warn(\"failed to load library \" + url);};\n",
              "  document.getElementsByTagName(\"head\")[0].appendChild(s);\n",
              "}\n",
              "\n",
              "if(typeof(LDAvis) !== \"undefined\"){\n",
              "   // already loaded: just create the visualization\n",
              "   !function(LDAvis){\n",
              "       new LDAvis(\"#\" + \"ldavis_el4351388952340696969253969092\", ldavis_el4351388952340696969253969092_data);\n",
              "   }(LDAvis);\n",
              "}else if(typeof define === \"function\" && define.amd){\n",
              "   // require.js is available: use it to load d3/LDAvis\n",
              "   require.config({paths: {d3: \"https://d3js.org/d3.v5\"}});\n",
              "   require([\"d3\"], function(d3){\n",
              "      window.d3 = d3;\n",
              "      LDAvis_load_lib(\"https://cdn.jsdelivr.net/gh/bmabey/pyLDAvis@3.4.0/pyLDAvis/js/ldavis.v3.0.0.js\", function(){\n",
              "        new LDAvis(\"#\" + \"ldavis_el4351388952340696969253969092\", ldavis_el4351388952340696969253969092_data);\n",
              "      });\n",
              "    });\n",
              "}else{\n",
              "    // require.js not available: dynamically load d3 & LDAvis\n",
              "    LDAvis_load_lib(\"https://d3js.org/d3.v5.js\", function(){\n",
              "         LDAvis_load_lib(\"https://cdn.jsdelivr.net/gh/bmabey/pyLDAvis@3.4.0/pyLDAvis/js/ldavis.v3.0.0.js\", function(){\n",
              "                 new LDAvis(\"#\" + \"ldavis_el4351388952340696969253969092\", ldavis_el4351388952340696969253969092_data);\n",
              "            })\n",
              "         });\n",
              "}\n",
              "</script>"
            ]
          },
          "metadata": {},
          "execution_count": 86
        }
      ]
    },
    {
      "cell_type": "code",
      "source": [
        "coherence_values4 = []\n",
        "model_list4 = []\n",
        "iters = [3,4,5,6]\n",
        "for num_topics in iters:\n",
        "     model4 = LdaModel(corpus=corpus4, id2word=dictionary4, num_topics=num_topics)\n",
        "     model_list4.append(model4)\n",
        "     coherencemodel4 = CoherenceModel(model=model4, texts=tokenized_data4, dictionary=dictionary4, coherence='c_v')\n",
        "     coherence_values4.append(coherencemodel4.get_coherence())\n",
        "\n",
        "for i in range(0, len(iters)):\n",
        "  print(model_list4[i], coherence_values4[i])  #topic num별로 coherence 가 높은 것을 찾기"
      ],
      "metadata": {
        "id": "1Lrya84gAGs4",
        "colab": {
          "base_uri": "https://localhost:8080/"
        },
        "outputId": "35490ae9-aa2d-4d1a-934a-953ba7a31877"
      },
      "execution_count": null,
      "outputs": [
        {
          "output_type": "stream",
          "name": "stderr",
          "text": [
            "/usr/local/lib/python3.10/dist-packages/ipykernel/ipkernel.py:283: DeprecationWarning: `should_run_async` will not call `transform_cell` automatically in the future. Please pass the result to `transformed_cell` argument and any exception that happen during thetransform in `preprocessing_exc_tuple` in IPython 7.17 and above.\n",
            "  and should_run_async(code)\n",
            "WARNING:gensim.models.ldamodel:too few updates, training might not converge; consider increasing the number of passes or iterations to improve accuracy\n",
            "WARNING:gensim.models.ldamodel:too few updates, training might not converge; consider increasing the number of passes or iterations to improve accuracy\n",
            "WARNING:gensim.models.ldamodel:too few updates, training might not converge; consider increasing the number of passes or iterations to improve accuracy\n",
            "WARNING:gensim.models.ldamodel:too few updates, training might not converge; consider increasing the number of passes or iterations to improve accuracy\n"
          ]
        },
        {
          "output_type": "stream",
          "name": "stdout",
          "text": [
            "LdaModel<num_terms=199, num_topics=3, decay=0.5, chunksize=2000> 0.4172162910766753\n",
            "LdaModel<num_terms=199, num_topics=4, decay=0.5, chunksize=2000> 0.44642768926585197\n",
            "LdaModel<num_terms=199, num_topics=5, decay=0.5, chunksize=2000> 0.38398373312139267\n",
            "LdaModel<num_terms=199, num_topics=6, decay=0.5, chunksize=2000> 0.3598216130381957\n"
          ]
        }
      ]
    },
    {
      "cell_type": "code",
      "source": [
        "topics = model_list[0].get_document_topics(corpus)\n",
        "df4['topics'] = topics\n",
        "df4.topics.head()"
      ],
      "metadata": {
        "id": "WZanPDf7nb77",
        "colab": {
          "base_uri": "https://localhost:8080/",
          "height": 406
        },
        "outputId": "84b971fe-e3f0-4bdb-b14e-5eb1c2363cba"
      },
      "execution_count": null,
      "outputs": [
        {
          "output_type": "stream",
          "name": "stderr",
          "text": [
            "/usr/local/lib/python3.10/dist-packages/ipykernel/ipkernel.py:283: DeprecationWarning: `should_run_async` will not call `transform_cell` automatically in the future. Please pass the result to `transformed_cell` argument and any exception that happen during thetransform in `preprocessing_exc_tuple` in IPython 7.17 and above.\n",
            "  and should_run_async(code)\n",
            "<ipython-input-88-69706b9c63ce>:2: SettingWithCopyWarning: \n",
            "A value is trying to be set on a copy of a slice from a DataFrame.\n",
            "Try using .loc[row_indexer,col_indexer] = value instead\n",
            "\n",
            "See the caveats in the documentation: https://pandas.pydata.org/pandas-docs/stable/user_guide/indexing.html#returning-a-view-versus-a-copy\n",
            "  df4['topics'] = topics\n"
          ]
        },
        {
          "output_type": "execute_result",
          "data": {
            "text/plain": [
              "15014    [(0, 0.068093956), (1, 0.8630584), (2, 0.06884...\n",
              "21176    [(0, 0.93036133), (1, 0.034251843), (2, 0.0353...\n",
              "3376     [(0, 0.020191094), (1, 0.95935935), (2, 0.0204...\n",
              "22456    [(0, 0.03704165), (1, 0.035928078), (2, 0.9270...\n",
              "153      [(0, 0.9347803), (1, 0.03046328), (2, 0.034756...\n",
              "Name: topics, dtype: object"
            ],
            "text/html": [
              "<div>\n",
              "<style scoped>\n",
              "    .dataframe tbody tr th:only-of-type {\n",
              "        vertical-align: middle;\n",
              "    }\n",
              "\n",
              "    .dataframe tbody tr th {\n",
              "        vertical-align: top;\n",
              "    }\n",
              "\n",
              "    .dataframe thead th {\n",
              "        text-align: right;\n",
              "    }\n",
              "</style>\n",
              "<table border=\"1\" class=\"dataframe\">\n",
              "  <thead>\n",
              "    <tr style=\"text-align: right;\">\n",
              "      <th></th>\n",
              "      <th>topics</th>\n",
              "    </tr>\n",
              "  </thead>\n",
              "  <tbody>\n",
              "    <tr>\n",
              "      <th>15014</th>\n",
              "      <td>[(0, 0.068093956), (1, 0.8630584), (2, 0.06884...</td>\n",
              "    </tr>\n",
              "    <tr>\n",
              "      <th>21176</th>\n",
              "      <td>[(0, 0.93036133), (1, 0.034251843), (2, 0.0353...</td>\n",
              "    </tr>\n",
              "    <tr>\n",
              "      <th>3376</th>\n",
              "      <td>[(0, 0.020191094), (1, 0.95935935), (2, 0.0204...</td>\n",
              "    </tr>\n",
              "    <tr>\n",
              "      <th>22456</th>\n",
              "      <td>[(0, 0.03704165), (1, 0.035928078), (2, 0.9270...</td>\n",
              "    </tr>\n",
              "    <tr>\n",
              "      <th>153</th>\n",
              "      <td>[(0, 0.9347803), (1, 0.03046328), (2, 0.034756...</td>\n",
              "    </tr>\n",
              "  </tbody>\n",
              "</table>\n",
              "</div><br><label><b>dtype:</b> object</label>"
            ]
          },
          "metadata": {},
          "execution_count": 88
        }
      ]
    },
    {
      "cell_type": "code",
      "source": [
        "def get_max(doc):\n",
        "    idx,l = zip(*doc)\n",
        "    return idx[np.argmax(l)]\n",
        "\n",
        "df4[\"topic\"] = df4.topics.apply(get_max)\n",
        "df4.topic.value_counts()"
      ],
      "metadata": {
        "colab": {
          "base_uri": "https://localhost:8080/",
          "height": 374
        },
        "id": "VRNMpoQSo4Jp",
        "outputId": "f404b6d7-c5ab-4b48-d5f8-f77df411894e"
      },
      "execution_count": null,
      "outputs": [
        {
          "output_type": "stream",
          "name": "stderr",
          "text": [
            "/usr/local/lib/python3.10/dist-packages/ipykernel/ipkernel.py:283: DeprecationWarning: `should_run_async` will not call `transform_cell` automatically in the future. Please pass the result to `transformed_cell` argument and any exception that happen during thetransform in `preprocessing_exc_tuple` in IPython 7.17 and above.\n",
            "  and should_run_async(code)\n",
            "<ipython-input-89-a74fbaf46310>:5: SettingWithCopyWarning: \n",
            "A value is trying to be set on a copy of a slice from a DataFrame.\n",
            "Try using .loc[row_indexer,col_indexer] = value instead\n",
            "\n",
            "See the caveats in the documentation: https://pandas.pydata.org/pandas-docs/stable/user_guide/indexing.html#returning-a-view-versus-a-copy\n",
            "  df4[\"topic\"] = df4.topics.apply(get_max)\n"
          ]
        },
        {
          "output_type": "execute_result",
          "data": {
            "text/plain": [
              "topic\n",
              "2    18\n",
              "1    15\n",
              "0    14\n",
              "Name: count, dtype: int64"
            ],
            "text/html": [
              "<div>\n",
              "<style scoped>\n",
              "    .dataframe tbody tr th:only-of-type {\n",
              "        vertical-align: middle;\n",
              "    }\n",
              "\n",
              "    .dataframe tbody tr th {\n",
              "        vertical-align: top;\n",
              "    }\n",
              "\n",
              "    .dataframe thead th {\n",
              "        text-align: right;\n",
              "    }\n",
              "</style>\n",
              "<table border=\"1\" class=\"dataframe\">\n",
              "  <thead>\n",
              "    <tr style=\"text-align: right;\">\n",
              "      <th></th>\n",
              "      <th>count</th>\n",
              "    </tr>\n",
              "    <tr>\n",
              "      <th>topic</th>\n",
              "      <th></th>\n",
              "    </tr>\n",
              "  </thead>\n",
              "  <tbody>\n",
              "    <tr>\n",
              "      <th>2</th>\n",
              "      <td>18</td>\n",
              "    </tr>\n",
              "    <tr>\n",
              "      <th>1</th>\n",
              "      <td>15</td>\n",
              "    </tr>\n",
              "    <tr>\n",
              "      <th>0</th>\n",
              "      <td>14</td>\n",
              "    </tr>\n",
              "  </tbody>\n",
              "</table>\n",
              "</div><br><label><b>dtype:</b> int64</label>"
            ]
          },
          "metadata": {},
          "execution_count": 89
        }
      ]
    },
    {
      "cell_type": "markdown",
      "source": [
        "- 해석\n",
        " - (0): 진행, 처리, 사용 등의 단어는 아마도 제품 처리 과정이나 절차와 관련된 주제를 나타냅니다.\n",
        " - (1): 제품, 교환, 환불 등의 단어는 제품의 교환, 환불과 같은 고객 서비스 관련 문제를 다루는 주제를 반영하는 것 같습니다.\n",
        " - (2): 확인, 처리, 환불, 반품 등의 단어는 주문 후 제품 확인 및 처리 과정에 대한 주제를 나타내는 것처럼 보입니다."
      ],
      "metadata": {
        "id": "XWVaSOFEkcLE"
      }
    }
  ]
}