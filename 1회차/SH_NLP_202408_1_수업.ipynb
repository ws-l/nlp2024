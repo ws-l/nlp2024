{
  "nbformat": 4,
  "nbformat_minor": 0,
  "metadata": {
    "colab": {
      "provenance": []
    },
    "kernelspec": {
      "name": "python3",
      "display_name": "Python 3"
    },
    "language_info": {
      "name": "python"
    }
  },
  "cells": [
    {
      "cell_type": "markdown",
      "source": [
        "# NLP란?\n"
      ],
      "metadata": {
        "id": "fPuiF1Dpja3i"
      }
    },
    {
      "cell_type": "code",
      "source": [
        "list1 = [ 20,10,5]   #객체\n",
        "#print(list1)    #함수이름( 입력값)\n",
        "#list2라는 자료구조, \"홍길동\", \"임꺽정\" print 출력\n",
        "list2 = [\"홍길동\", \"임꺽정\", \"장길산\"]\n",
        "#print(list2)\n",
        "\n",
        "list2[ 0 ] #특정 순서의 값을 선택, 인덱싱\n",
        "list2[0:2] #슬라이싱, 특정 범위의 값을 선택\n",
        "\n",
        "list1 * 3"
      ],
      "metadata": {
        "colab": {
          "base_uri": "https://localhost:8080/"
        },
        "id": "RQOkesil9qyR",
        "outputId": "64818b23-74ce-4969-ab59-9ac0217197a3"
      },
      "execution_count": 26,
      "outputs": [
        {
          "output_type": "execute_result",
          "data": {
            "text/plain": [
              "[20, 10, 5, 20, 10, 5, 20, 10, 5]"
            ]
          },
          "metadata": {},
          "execution_count": 26
        }
      ]
    },
    {
      "cell_type": "code",
      "source": [
        "import numpy as np\n",
        "a1 = np.array(list1)    #array자료구조를 만드는 numpy의 array함수\n",
        "a1 * 3\n"
      ],
      "metadata": {
        "colab": {
          "base_uri": "https://localhost:8080/"
        },
        "id": "ypWaEH47EnVh",
        "outputId": "2706194d-8af9-4a48-d7d6-a0284b0e6fdd"
      },
      "execution_count": 31,
      "outputs": [
        {
          "output_type": "execute_result",
          "data": {
            "text/plain": [
              "array([60, 30, 15])"
            ]
          },
          "metadata": {},
          "execution_count": 31
        }
      ]
    },
    {
      "cell_type": "code",
      "source": [
        "list3 = [  list1, list1     ]\n",
        "list3\n",
        "a2 = np.array( list3 )\n",
        "pd.DataFrame( a2 )"
      ],
      "metadata": {
        "colab": {
          "base_uri": "https://localhost:8080/",
          "height": 112
        },
        "id": "cos-OPEbcu1q",
        "outputId": "fd1c7521-f356-4a16-bddc-162c922d9776"
      },
      "execution_count": 37,
      "outputs": [
        {
          "output_type": "execute_result",
          "data": {
            "text/plain": [
              "    0   1  2\n",
              "0  20  10  5\n",
              "1  20  10  5"
            ],
            "text/html": [
              "\n",
              "  <div id=\"df-0adab992-360d-4f73-a214-5519a255db65\" class=\"colab-df-container\">\n",
              "    <div>\n",
              "<style scoped>\n",
              "    .dataframe tbody tr th:only-of-type {\n",
              "        vertical-align: middle;\n",
              "    }\n",
              "\n",
              "    .dataframe tbody tr th {\n",
              "        vertical-align: top;\n",
              "    }\n",
              "\n",
              "    .dataframe thead th {\n",
              "        text-align: right;\n",
              "    }\n",
              "</style>\n",
              "<table border=\"1\" class=\"dataframe\">\n",
              "  <thead>\n",
              "    <tr style=\"text-align: right;\">\n",
              "      <th></th>\n",
              "      <th>0</th>\n",
              "      <th>1</th>\n",
              "      <th>2</th>\n",
              "    </tr>\n",
              "  </thead>\n",
              "  <tbody>\n",
              "    <tr>\n",
              "      <th>0</th>\n",
              "      <td>20</td>\n",
              "      <td>10</td>\n",
              "      <td>5</td>\n",
              "    </tr>\n",
              "    <tr>\n",
              "      <th>1</th>\n",
              "      <td>20</td>\n",
              "      <td>10</td>\n",
              "      <td>5</td>\n",
              "    </tr>\n",
              "  </tbody>\n",
              "</table>\n",
              "</div>\n",
              "    <div class=\"colab-df-buttons\">\n",
              "\n",
              "  <div class=\"colab-df-container\">\n",
              "    <button class=\"colab-df-convert\" onclick=\"convertToInteractive('df-0adab992-360d-4f73-a214-5519a255db65')\"\n",
              "            title=\"Convert this dataframe to an interactive table.\"\n",
              "            style=\"display:none;\">\n",
              "\n",
              "  <svg xmlns=\"http://www.w3.org/2000/svg\" height=\"24px\" viewBox=\"0 -960 960 960\">\n",
              "    <path d=\"M120-120v-720h720v720H120Zm60-500h600v-160H180v160Zm220 220h160v-160H400v160Zm0 220h160v-160H400v160ZM180-400h160v-160H180v160Zm440 0h160v-160H620v160ZM180-180h160v-160H180v160Zm440 0h160v-160H620v160Z\"/>\n",
              "  </svg>\n",
              "    </button>\n",
              "\n",
              "  <style>\n",
              "    .colab-df-container {\n",
              "      display:flex;\n",
              "      gap: 12px;\n",
              "    }\n",
              "\n",
              "    .colab-df-convert {\n",
              "      background-color: #E8F0FE;\n",
              "      border: none;\n",
              "      border-radius: 50%;\n",
              "      cursor: pointer;\n",
              "      display: none;\n",
              "      fill: #1967D2;\n",
              "      height: 32px;\n",
              "      padding: 0 0 0 0;\n",
              "      width: 32px;\n",
              "    }\n",
              "\n",
              "    .colab-df-convert:hover {\n",
              "      background-color: #E2EBFA;\n",
              "      box-shadow: 0px 1px 2px rgba(60, 64, 67, 0.3), 0px 1px 3px 1px rgba(60, 64, 67, 0.15);\n",
              "      fill: #174EA6;\n",
              "    }\n",
              "\n",
              "    .colab-df-buttons div {\n",
              "      margin-bottom: 4px;\n",
              "    }\n",
              "\n",
              "    [theme=dark] .colab-df-convert {\n",
              "      background-color: #3B4455;\n",
              "      fill: #D2E3FC;\n",
              "    }\n",
              "\n",
              "    [theme=dark] .colab-df-convert:hover {\n",
              "      background-color: #434B5C;\n",
              "      box-shadow: 0px 1px 3px 1px rgba(0, 0, 0, 0.15);\n",
              "      filter: drop-shadow(0px 1px 2px rgba(0, 0, 0, 0.3));\n",
              "      fill: #FFFFFF;\n",
              "    }\n",
              "  </style>\n",
              "\n",
              "    <script>\n",
              "      const buttonEl =\n",
              "        document.querySelector('#df-0adab992-360d-4f73-a214-5519a255db65 button.colab-df-convert');\n",
              "      buttonEl.style.display =\n",
              "        google.colab.kernel.accessAllowed ? 'block' : 'none';\n",
              "\n",
              "      async function convertToInteractive(key) {\n",
              "        const element = document.querySelector('#df-0adab992-360d-4f73-a214-5519a255db65');\n",
              "        const dataTable =\n",
              "          await google.colab.kernel.invokeFunction('convertToInteractive',\n",
              "                                                    [key], {});\n",
              "        if (!dataTable) return;\n",
              "\n",
              "        const docLinkHtml = 'Like what you see? Visit the ' +\n",
              "          '<a target=\"_blank\" href=https://colab.research.google.com/notebooks/data_table.ipynb>data table notebook</a>'\n",
              "          + ' to learn more about interactive tables.';\n",
              "        element.innerHTML = '';\n",
              "        dataTable['output_type'] = 'display_data';\n",
              "        await google.colab.output.renderOutput(dataTable, element);\n",
              "        const docLink = document.createElement('div');\n",
              "        docLink.innerHTML = docLinkHtml;\n",
              "        element.appendChild(docLink);\n",
              "      }\n",
              "    </script>\n",
              "  </div>\n",
              "\n",
              "\n",
              "<div id=\"df-2b402f9a-957d-4991-8b9f-deb66e836c4c\">\n",
              "  <button class=\"colab-df-quickchart\" onclick=\"quickchart('df-2b402f9a-957d-4991-8b9f-deb66e836c4c')\"\n",
              "            title=\"Suggest charts\"\n",
              "            style=\"display:none;\">\n",
              "\n",
              "<svg xmlns=\"http://www.w3.org/2000/svg\" height=\"24px\"viewBox=\"0 0 24 24\"\n",
              "     width=\"24px\">\n",
              "    <g>\n",
              "        <path d=\"M19 3H5c-1.1 0-2 .9-2 2v14c0 1.1.9 2 2 2h14c1.1 0 2-.9 2-2V5c0-1.1-.9-2-2-2zM9 17H7v-7h2v7zm4 0h-2V7h2v10zm4 0h-2v-4h2v4z\"/>\n",
              "    </g>\n",
              "</svg>\n",
              "  </button>\n",
              "\n",
              "<style>\n",
              "  .colab-df-quickchart {\n",
              "      --bg-color: #E8F0FE;\n",
              "      --fill-color: #1967D2;\n",
              "      --hover-bg-color: #E2EBFA;\n",
              "      --hover-fill-color: #174EA6;\n",
              "      --disabled-fill-color: #AAA;\n",
              "      --disabled-bg-color: #DDD;\n",
              "  }\n",
              "\n",
              "  [theme=dark] .colab-df-quickchart {\n",
              "      --bg-color: #3B4455;\n",
              "      --fill-color: #D2E3FC;\n",
              "      --hover-bg-color: #434B5C;\n",
              "      --hover-fill-color: #FFFFFF;\n",
              "      --disabled-bg-color: #3B4455;\n",
              "      --disabled-fill-color: #666;\n",
              "  }\n",
              "\n",
              "  .colab-df-quickchart {\n",
              "    background-color: var(--bg-color);\n",
              "    border: none;\n",
              "    border-radius: 50%;\n",
              "    cursor: pointer;\n",
              "    display: none;\n",
              "    fill: var(--fill-color);\n",
              "    height: 32px;\n",
              "    padding: 0;\n",
              "    width: 32px;\n",
              "  }\n",
              "\n",
              "  .colab-df-quickchart:hover {\n",
              "    background-color: var(--hover-bg-color);\n",
              "    box-shadow: 0 1px 2px rgba(60, 64, 67, 0.3), 0 1px 3px 1px rgba(60, 64, 67, 0.15);\n",
              "    fill: var(--button-hover-fill-color);\n",
              "  }\n",
              "\n",
              "  .colab-df-quickchart-complete:disabled,\n",
              "  .colab-df-quickchart-complete:disabled:hover {\n",
              "    background-color: var(--disabled-bg-color);\n",
              "    fill: var(--disabled-fill-color);\n",
              "    box-shadow: none;\n",
              "  }\n",
              "\n",
              "  .colab-df-spinner {\n",
              "    border: 2px solid var(--fill-color);\n",
              "    border-color: transparent;\n",
              "    border-bottom-color: var(--fill-color);\n",
              "    animation:\n",
              "      spin 1s steps(1) infinite;\n",
              "  }\n",
              "\n",
              "  @keyframes spin {\n",
              "    0% {\n",
              "      border-color: transparent;\n",
              "      border-bottom-color: var(--fill-color);\n",
              "      border-left-color: var(--fill-color);\n",
              "    }\n",
              "    20% {\n",
              "      border-color: transparent;\n",
              "      border-left-color: var(--fill-color);\n",
              "      border-top-color: var(--fill-color);\n",
              "    }\n",
              "    30% {\n",
              "      border-color: transparent;\n",
              "      border-left-color: var(--fill-color);\n",
              "      border-top-color: var(--fill-color);\n",
              "      border-right-color: var(--fill-color);\n",
              "    }\n",
              "    40% {\n",
              "      border-color: transparent;\n",
              "      border-right-color: var(--fill-color);\n",
              "      border-top-color: var(--fill-color);\n",
              "    }\n",
              "    60% {\n",
              "      border-color: transparent;\n",
              "      border-right-color: var(--fill-color);\n",
              "    }\n",
              "    80% {\n",
              "      border-color: transparent;\n",
              "      border-right-color: var(--fill-color);\n",
              "      border-bottom-color: var(--fill-color);\n",
              "    }\n",
              "    90% {\n",
              "      border-color: transparent;\n",
              "      border-bottom-color: var(--fill-color);\n",
              "    }\n",
              "  }\n",
              "</style>\n",
              "\n",
              "  <script>\n",
              "    async function quickchart(key) {\n",
              "      const quickchartButtonEl =\n",
              "        document.querySelector('#' + key + ' button');\n",
              "      quickchartButtonEl.disabled = true;  // To prevent multiple clicks.\n",
              "      quickchartButtonEl.classList.add('colab-df-spinner');\n",
              "      try {\n",
              "        const charts = await google.colab.kernel.invokeFunction(\n",
              "            'suggestCharts', [key], {});\n",
              "      } catch (error) {\n",
              "        console.error('Error during call to suggestCharts:', error);\n",
              "      }\n",
              "      quickchartButtonEl.classList.remove('colab-df-spinner');\n",
              "      quickchartButtonEl.classList.add('colab-df-quickchart-complete');\n",
              "    }\n",
              "    (() => {\n",
              "      let quickchartButtonEl =\n",
              "        document.querySelector('#df-2b402f9a-957d-4991-8b9f-deb66e836c4c button');\n",
              "      quickchartButtonEl.style.display =\n",
              "        google.colab.kernel.accessAllowed ? 'block' : 'none';\n",
              "    })();\n",
              "  </script>\n",
              "</div>\n",
              "\n",
              "    </div>\n",
              "  </div>\n"
            ],
            "application/vnd.google.colaboratory.intrinsic+json": {
              "type": "dataframe",
              "summary": "{\n  \"name\": \"pd\",\n  \"rows\": 2,\n  \"fields\": [\n    {\n      \"column\": 0,\n      \"properties\": {\n        \"dtype\": \"number\",\n        \"std\": 0,\n        \"min\": 20,\n        \"max\": 20,\n        \"num_unique_values\": 1,\n        \"samples\": [\n          20\n        ],\n        \"semantic_type\": \"\",\n        \"description\": \"\"\n      }\n    },\n    {\n      \"column\": 1,\n      \"properties\": {\n        \"dtype\": \"number\",\n        \"std\": 0,\n        \"min\": 10,\n        \"max\": 10,\n        \"num_unique_values\": 1,\n        \"samples\": [\n          10\n        ],\n        \"semantic_type\": \"\",\n        \"description\": \"\"\n      }\n    },\n    {\n      \"column\": 2,\n      \"properties\": {\n        \"dtype\": \"number\",\n        \"std\": 0,\n        \"min\": 5,\n        \"max\": 5,\n        \"num_unique_values\": 1,\n        \"samples\": [\n          5\n        ],\n        \"semantic_type\": \"\",\n        \"description\": \"\"\n      }\n    }\n  ]\n}"
            }
          },
          "metadata": {},
          "execution_count": 37
        }
      ]
    },
    {
      "cell_type": "code",
      "source": [
        "import pandas as pd\n",
        "df1 = pd.read_csv(\"news.csv\")\n",
        "df1  #pandas의 2차원 자료구조, 데이터프레임, DataFrame\n",
        "#df1.info()\n",
        "df1[ \"articles\"  ]  #특정 컬럼 선택\n",
        "\n",
        "# data_sent_new.csv를 읽으셔서, sentence라는 컬럼을 선택해보세요\n",
        "# 1. 파일업로드 2, pd.read_csv.... 3.컬럼선택\n",
        "df2 = pd.read_csv(\"data_sent_new.csv\", encoding = \"cp949\")\n",
        "df2[\"sentence\"]\n",
        "df2.sentence    #위와 같은 결과"
      ],
      "metadata": {
        "id": "u-tz5q4rF4M0"
      },
      "execution_count": null,
      "outputs": []
    },
    {
      "cell_type": "code",
      "source": [
        "!pip install konlpy\n",
        "\n",
        "# mlxtend 설치해보세요\n",
        "!pip install mlxtend"
      ],
      "metadata": {
        "id": "XvoCbQE7h1Ss"
      },
      "execution_count": null,
      "outputs": []
    },
    {
      "cell_type": "code",
      "source": [
        "from konlpy.tag import Okt, Kkma\n",
        "okt = Okt()   #형태소 분석기, Okt 형태소 분석기를 만드는 함수\n",
        "okt.morphs(\"한글로 아무거나 입력하세요\")   #nouns,   morphs(형태소분석함수)\n",
        "okt.nouns(\"한글로 아무거나 입력하세요\")   #nouns,   morphs(형태소분석함수"
      ],
      "metadata": {
        "colab": {
          "base_uri": "https://localhost:8080/"
        },
        "id": "xY-2ICZYkAUF",
        "outputId": "0737a208-6f1f-41c5-f952-66422661e860"
      },
      "execution_count": 68,
      "outputs": [
        {
          "output_type": "execute_result",
          "data": {
            "text/plain": [
              "['한글', '거나', '입력']"
            ]
          },
          "metadata": {},
          "execution_count": 68
        }
      ]
    },
    {
      "cell_type": "code",
      "source": [
        "kkma = Kkma()\n",
        "kkma.morphs(\"한글로 아무거나 입력하세요\")\n",
        "kkma.nouns(\"한글로 아무거나 입력하세요\")"
      ],
      "metadata": {
        "colab": {
          "base_uri": "https://localhost:8080/"
        },
        "id": "oFfkfFlMuF_g",
        "outputId": "1704d60d-ee03-4cf6-d968-19a9b0c05b7f"
      },
      "execution_count": 69,
      "outputs": [
        {
          "output_type": "execute_result",
          "data": {
            "text/plain": [
              "['한글', '거', '입력']"
            ]
          },
          "metadata": {},
          "execution_count": 69
        }
      ]
    },
    {
      "cell_type": "code",
      "source": [
        "df2.sentence[0]   #첫번째 글만 선택해서 출력\n",
        "#첫번째 글->명사->result1, 두번째 글->명사->result2\n",
        "result1 = okt.nouns( df2.sentence[0] )"
      ],
      "metadata": {
        "id": "rW-jKpRTl0GO"
      },
      "execution_count": 56,
      "outputs": []
    },
    {
      "cell_type": "code",
      "source": [
        "from konlpy.tag import Kkma\n",
        "total = []\n",
        "total.append( okt.nouns( df2.sentence[0] ) )  #첫번째 글->형태소분석->리스트에 추가"
      ],
      "metadata": {
        "id": "PHbGvaPrmqp8"
      },
      "execution_count": null,
      "outputs": []
    },
    {
      "cell_type": "code",
      "source": [
        "for i in df2.sentence[0:10] :\n",
        "  total.append(okt.nouns(i) )\n",
        "#전체 글들을 각각 형태소분석->리스트에 추가\n",
        "\n",
        "# Open Korean Text: Okt\n",
        "# Kkma\n",
        "# train_df.csv 를 읽으세요-> 발화문 컬럼을 선택-> 1~100개의 글들에 대해서\n",
        "# Kkma로 명사만 뽑아서 total2라는 리스트에 추가해주세요\n",
        "df3 = pd.read_csv(\"train_df.csv\", encoding=\"cp949\")\n",
        "total2 = []\n",
        "kkma = Kkma()\n",
        "for i in df3.발화문[0:100]:\n",
        "  total2.append(kkma.nouns(i))"
      ],
      "metadata": {
        "id": "0akwCYb2nbId"
      },
      "execution_count": 73,
      "outputs": []
    },
    {
      "cell_type": "code",
      "source": [
        "df3.인텐트.value_counts()\n",
        "df3.query(\" 발화자== 'c' \")  #발화자가 c인 것만 선택\n",
        "\n",
        "#발화자가 s인 행들의 인텐트 값의 빈도를 구해보세요.\n",
        "df4 = df3.query(  \" 발화자== 's' \" ).인텐트.value_counts()\n",
        "df3.query( \"인텐트=='교환|반품|환불_시간_요청'\"\t)"
      ],
      "metadata": {
        "id": "s_zFxqE6wvCt"
      },
      "execution_count": null,
      "outputs": []
    },
    {
      "cell_type": "code",
      "source": [
        "total4 = []\n",
        "for i in [1,2,3]:\n",
        "  total4.append(i+3)\n",
        "\n",
        "[ i+3  for i in [1,2,3] ]\n",
        "\n",
        "[ kkma.nouns(i) for i in df3.발화문[0:4] ]\n",
        "\n",
        "#df3 발화문의 10~14번째 글들에 대해서 okt로 형태소 분석한 결과를 리스트로.....\n",
        "[ okt.morphs(i) for i in df3.발화문[10:14] ]\n"
      ],
      "metadata": {
        "id": "1xq8JggGz2MN"
      },
      "execution_count": null,
      "outputs": []
    },
    {
      "cell_type": "code",
      "source": [
        "df3.발화문[10:14].replace(\"[0-9]\", \"\", regex=True)\n",
        "df3.발화문[10:14].replace(\"[A-Z]\", \"\", regex=True)\n",
        "df3.발화문[10:14].replace(\"[^ㄱ-ㅎㅏ-ㅣ가-힣]\", \"\", regex=True)   #한글만 남기고 지우기(치환)\n"
      ],
      "metadata": {
        "id": "RD5zAdVG17E8"
      },
      "execution_count": null,
      "outputs": []
    },
    {
      "cell_type": "code",
      "source": [],
      "metadata": {
        "id": "ibMbxdAP58DS"
      },
      "execution_count": null,
      "outputs": []
    },
    {
      "cell_type": "markdown",
      "source": [
        "\n",
        "#1. NLP를 위한 Python 기초: 자료구조, 기본 문법"
      ],
      "metadata": {
        "id": "ji8Fqfvwjo7J"
      }
    },
    {
      "cell_type": "markdown",
      "source": [
        "-기본 자료구조: List, Tuple, Set, Dictionary"
      ],
      "metadata": {
        "id": "mj6vnufoMPgQ"
      }
    },
    {
      "cell_type": "code",
      "execution_count": 1,
      "metadata": {
        "id": "DXMrz8wqjsmG",
        "colab": {
          "base_uri": "https://localhost:8080/"
        },
        "outputId": "a809b305-20a0-4ca3-bf53-c8311f47b02d"
      },
      "outputs": [
        {
          "output_type": "stream",
          "name": "stdout",
          "text": [
            "[20, 10, 5]\n"
          ]
        }
      ],
      "source": [
        "list1 = [ 20,10,5]  #리스트\n",
        "#실행: 플레이버튼, 또는  ctrl+enter\n",
        "print( list1 )\n",
        "list1[ 1 ]#인덱싱\n",
        "list1[ 1:3 ] #슬라이싱\n",
        "list1[ 2 ] = 40\n",
        "list1[ 0 ] = \"data\"\n",
        "list1.append( 1000000000 )\n",
        "list1.append( list1 )"
      ]
    },
    {
      "cell_type": "code",
      "source": [
        "tuple1 = ( 10,20,5 )\n",
        "tuple1[1] = 40  #tuple의 값은은 수정 불가"
      ],
      "metadata": {
        "id": "qw9YDsUGlB4s",
        "colab": {
          "base_uri": "https://localhost:8080/",
          "height": 194
        },
        "outputId": "5c7080b4-ba84-4126-8821-802c3f119e6c"
      },
      "execution_count": null,
      "outputs": [
        {
          "output_type": "error",
          "ename": "TypeError",
          "evalue": "ignored",
          "traceback": [
            "\u001b[0;31m---------------------------------------------------------------------------\u001b[0m",
            "\u001b[0;31mTypeError\u001b[0m                                 Traceback (most recent call last)",
            "\u001b[0;32m<ipython-input-2-fb1bf66feb5f>\u001b[0m in \u001b[0;36m<module>\u001b[0;34m\u001b[0m\n\u001b[1;32m      1\u001b[0m \u001b[0mtuple1\u001b[0m \u001b[0;34m=\u001b[0m \u001b[0;34m(\u001b[0m \u001b[0;36m10\u001b[0m\u001b[0;34m,\u001b[0m\u001b[0;36m20\u001b[0m\u001b[0;34m,\u001b[0m\u001b[0;36m5\u001b[0m \u001b[0;34m)\u001b[0m\u001b[0;34m\u001b[0m\u001b[0;34m\u001b[0m\u001b[0m\n\u001b[0;32m----> 2\u001b[0;31m \u001b[0mtuple1\u001b[0m\u001b[0;34m[\u001b[0m\u001b[0;36m1\u001b[0m\u001b[0;34m]\u001b[0m \u001b[0;34m=\u001b[0m \u001b[0;36m40\u001b[0m  \u001b[0;31m#tuple의 값은은 수정 불가\u001b[0m\u001b[0;34m\u001b[0m\u001b[0;34m\u001b[0m\u001b[0m\n\u001b[0m",
            "\u001b[0;31mTypeError\u001b[0m: 'tuple' object does not support item assignment"
          ]
        }
      ]
    },
    {
      "cell_type": "code",
      "source": [
        "set1 = { 10,20, 5}\n",
        "#set1[ 1 ]#인덱싱 불가\n",
        "dict1 = {  'a':10,  'b':20,  'c':5}\n",
        "dict1 #key-value\n",
        "dict1['a']"
      ],
      "metadata": {
        "colab": {
          "base_uri": "https://localhost:8080/"
        },
        "id": "Ne_x9Xohq5iK",
        "outputId": "faae19be-8dc4-4ecf-d508-788c38e3335a"
      },
      "execution_count": null,
      "outputs": [
        {
          "output_type": "execute_result",
          "data": {
            "text/plain": [
              "10"
            ]
          },
          "metadata": {},
          "execution_count": 3
        }
      ]
    },
    {
      "cell_type": "code",
      "source": [
        "list3 = [ 3, 2.1, \"A\", 10]\n",
        "list3[ 1:3 ]\n",
        "list3[  2 ] = 100\n",
        "list3.append( 99 )\n",
        "list3"
      ],
      "metadata": {
        "colab": {
          "base_uri": "https://localhost:8080/"
        },
        "id": "YXieC5ditC9G",
        "outputId": "5d72f06d-4f34-4874-ec69-bc603180cf34"
      },
      "execution_count": null,
      "outputs": [
        {
          "output_type": "execute_result",
          "data": {
            "text/plain": [
              "[3, 2.1, 100, 10, 99]"
            ]
          },
          "metadata": {},
          "execution_count": 4
        }
      ]
    },
    {
      "cell_type": "code",
      "source": [
        "list4 = [1,2,3]\n",
        "list5 = [ [1,2], [3,4]    ]\n",
        "list5"
      ],
      "metadata": {
        "id": "KSVVmkmDtnAd",
        "colab": {
          "base_uri": "https://localhost:8080/"
        },
        "outputId": "58037bf6-1b30-4c17-feee-4bba7755469f"
      },
      "execution_count": null,
      "outputs": [
        {
          "output_type": "execute_result",
          "data": {
            "text/plain": [
              "[[1, 2], [3, 4]]"
            ]
          },
          "metadata": {},
          "execution_count": 5
        }
      ]
    },
    {
      "cell_type": "code",
      "source": [
        "dict2 = {'A':[1,2,3]  , 'B':[4,5,6] }\n",
        "dict2"
      ],
      "metadata": {
        "id": "j2PrgBiGvG-r",
        "colab": {
          "base_uri": "https://localhost:8080/"
        },
        "outputId": "e54908e0-d81e-4175-a0e0-d9d7acf0d379"
      },
      "execution_count": null,
      "outputs": [
        {
          "output_type": "execute_result",
          "data": {
            "text/plain": [
              "{'A': [1, 2, 3], 'B': [4, 5, 6]}"
            ]
          },
          "metadata": {},
          "execution_count": 6
        }
      ]
    },
    {
      "cell_type": "code",
      "source": [
        "list6 = []\n",
        "list6.append( dict2 )\n",
        "list6"
      ],
      "metadata": {
        "colab": {
          "base_uri": "https://localhost:8080/"
        },
        "id": "CzgnVY8YvjP8",
        "outputId": "16460ad4-301c-4a60-9428-afd9f3fe90b2"
      },
      "execution_count": null,
      "outputs": [
        {
          "output_type": "execute_result",
          "data": {
            "text/plain": [
              "[{'A': [1, 2, 3], 'B': [4, 5, 6]}]"
            ]
          },
          "metadata": {},
          "execution_count": 7
        }
      ]
    },
    {
      "cell_type": "markdown",
      "source": [
        "-조건문과 반복문문"
      ],
      "metadata": {
        "id": "QcEptfSXMYjr"
      }
    },
    {
      "cell_type": "code",
      "source": [
        "a = 75\n",
        "if a > 70 :\n",
        "  print(\"탕수육\")"
      ],
      "metadata": {
        "colab": {
          "base_uri": "https://localhost:8080/"
        },
        "id": "v1kzWKqZvrIW",
        "outputId": "0a4a0951-42ba-4b39-db07-3c2d1ea99891"
      },
      "execution_count": null,
      "outputs": [
        {
          "output_type": "stream",
          "name": "stdout",
          "text": [
            "탕수육\n"
          ]
        }
      ]
    },
    {
      "cell_type": "code",
      "source": [
        "c=91\n",
        "d=50\n",
        "if (c > 90) | (d > 90):\n",
        "  print(\"pizza\")"
      ],
      "metadata": {
        "colab": {
          "base_uri": "https://localhost:8080/"
        },
        "id": "DglZE1gm0n8d",
        "outputId": "0e23d917-22c3-4696-c888-0ab4d7c50c78"
      },
      "execution_count": null,
      "outputs": [
        {
          "output_type": "stream",
          "name": "stdout",
          "text": [
            "pizza\n"
          ]
        }
      ]
    },
    {
      "cell_type": "code",
      "source": [
        "# sales3 = [ 10, 11, 8, 9, 12]\n",
        "# sales3의 값 중에서 10보다 작은 숫자들만 선택을해서,\n",
        "# 5를 더해서 리스트로 만드세요\n",
        "sales3 = [ 10, 11, 8, 9, 12]\n",
        "[ i+5 for i in sales3 if i < 10  ]\n",
        "#위와 같은 작업을 하는 ....\n",
        "result = []\n",
        "for i in sales3:\n",
        "  if i < 10:\n",
        "    result.append(i+5)"
      ],
      "metadata": {
        "id": "cOV0hL-o23SK"
      },
      "execution_count": null,
      "outputs": []
    },
    {
      "cell_type": "markdown",
      "source": [
        "- Numpy array생성 및 차원 확인"
      ],
      "metadata": {
        "id": "JFDAUxXFaZ5y"
      }
    },
    {
      "cell_type": "code",
      "execution_count": null,
      "metadata": {
        "colab": {
          "base_uri": "https://localhost:8080/"
        },
        "id": "mNOQ6If1ZXzP",
        "outputId": "4075defe-5ff8-41d9-de24-c37a298deef4"
      },
      "outputs": [
        {
          "output_type": "execute_result",
          "data": {
            "text/plain": [
              "dtype('float64')"
            ]
          },
          "metadata": {},
          "execution_count": 12
        }
      ],
      "source": [
        "import numpy as np\n",
        "a = np.array( [0,1,2,3,4, 5.0])\n",
        "a.shape #차원, 값의 개수\n",
        "a.ndim\n",
        "a.dtype #값의 종류, array->단일한 type의 값, 정수와 실수->실수"
      ]
    },
    {
      "cell_type": "code",
      "source": [
        "a.reshape( (3,2)  ) #a가 변경되지는 않음"
      ],
      "metadata": {
        "colab": {
          "base_uri": "https://localhost:8080/"
        },
        "id": "5i5lHU-PskiX",
        "outputId": "426f8f78-b6c7-4db1-d4f5-34e2837aef23"
      },
      "execution_count": null,
      "outputs": [
        {
          "output_type": "execute_result",
          "data": {
            "text/plain": [
              "array([[0., 1.],\n",
              "       [2., 3.],\n",
              "       [4., 5.]])"
            ]
          },
          "metadata": {},
          "execution_count": 13
        }
      ]
    },
    {
      "cell_type": "markdown",
      "source": [
        "- array 연산과 인덱싱"
      ],
      "metadata": {
        "id": "YNugRnswaj5f"
      }
    },
    {
      "cell_type": "code",
      "source": [
        "b = a.reshape( (3,2)  ) #a가 변경되지는 않음\n",
        "b[  1  , 1     ]\n",
        "b[ [0,2], 1]\n",
        "b[ 0:2, 0]\n",
        "b[ : , 0]  #1열만\n",
        "b[  1 ,  :  ] #2행만"
      ],
      "metadata": {
        "colab": {
          "base_uri": "https://localhost:8080/"
        },
        "id": "hljstZ5jukVV",
        "outputId": "dc40109d-aa7c-4def-b39d-fe7c0916c8b9"
      },
      "execution_count": null,
      "outputs": [
        {
          "output_type": "execute_result",
          "data": {
            "text/plain": [
              "array([2., 3.])"
            ]
          },
          "metadata": {},
          "execution_count": 14
        }
      ]
    },
    {
      "cell_type": "code",
      "source": [
        "a > 3\n",
        "a[  [False, False, False, False,  True,  True] ]\n",
        "a[   a>3   ] #3보다 큰 값만 출력"
      ],
      "metadata": {
        "colab": {
          "base_uri": "https://localhost:8080/"
        },
        "id": "s1bnLemJzrlk",
        "outputId": "0be52156-a6ee-4248-9a20-dc7e10f39232"
      },
      "execution_count": null,
      "outputs": [
        {
          "output_type": "execute_result",
          "data": {
            "text/plain": [
              "array([4., 5.])"
            ]
          },
          "metadata": {},
          "execution_count": 15
        }
      ]
    },
    {
      "cell_type": "markdown",
      "source": [
        "- NaN 값의 처리"
      ],
      "metadata": {
        "id": "0POFAVYwaTFL"
      }
    },
    {
      "cell_type": "code",
      "source": [
        "import numpy as np\n",
        "np.array( [ 1,2,np.NAN,4])\n",
        "np.NAN # not a number"
      ],
      "metadata": {
        "colab": {
          "base_uri": "https://localhost:8080/"
        },
        "id": "cNAk2Da50ppZ",
        "outputId": "dde35186-2d1b-4d5c-f7ae-580029e83bd3"
      },
      "execution_count": null,
      "outputs": [
        {
          "output_type": "execute_result",
          "data": {
            "text/plain": [
              "nan"
            ]
          },
          "metadata": {},
          "execution_count": 16
        }
      ]
    },
    {
      "cell_type": "code",
      "source": [
        "#numpy.NAN:  숫자로 표현안되는 값\n",
        "c = np.array( [1,2,np.NAN, 3,4])\n",
        "np.isnan(c)\n",
        "c[ ~np.isnan(c) ]\n",
        "\n",
        "np.mean( c[~np.isnan(c) ])"
      ],
      "metadata": {
        "colab": {
          "base_uri": "https://localhost:8080/"
        },
        "id": "MQqNQhUOaTRz",
        "outputId": "65b8a853-1c04-497f-e838-c5c2c84bb089"
      },
      "execution_count": null,
      "outputs": [
        {
          "output_type": "execute_result",
          "data": {
            "text/plain": [
              "2.5"
            ]
          },
          "metadata": {},
          "execution_count": 17
        }
      ]
    },
    {
      "cell_type": "markdown",
      "source": [
        "- Pandas DataFrame"
      ],
      "metadata": {
        "id": "2D39eSe1bVBi"
      }
    },
    {
      "cell_type": "code",
      "source": [
        "import pandas as pd\n",
        "import numpy as np\n",
        "s1 = pd.Series( [1,2,3], index=[\"r1\",\"r2\",\"r3\"]   )\n",
        "s1.index\n",
        "s1.values\n",
        "s2 = pd.Series( [1,2,3], index=[\"r3\",\"r2\",\"r1\"]   )\n",
        "s1+s2\n",
        "\n",
        "df1=pd.DataFrame([[1,2],[3,4]],index=[\"r1\",\"r2\"],columns=[\"c1\",\"c2\"] )\n",
        "df1.index # df1.columns #df1.values\n",
        "#df1.info()\n",
        "df1.describe()\n",
        "df2=pd.DataFrame([[1,2], [3,4]],index=[\"r3\",\"r2\"],columns=[\"c3\",\"c2\"])\n",
        "df1+df2\n",
        "df1.columns=[\"c3\", \"c2\"]\n"
      ],
      "metadata": {
        "id": "JLFDT1FZMLc0"
      },
      "execution_count": null,
      "outputs": []
    },
    {
      "cell_type": "markdown",
      "source": [
        "#2. 텍스트 읽고 처리하기"
      ],
      "metadata": {
        "id": "5tfpoKDojdCf"
      }
    },
    {
      "cell_type": "markdown",
      "source": [
        "- CSV 읽기기"
      ],
      "metadata": {
        "id": "Y7GK9ZHSOGYZ"
      }
    },
    {
      "cell_type": "code",
      "source": [
        "!wget https://github.com/rickiepark/python-machine-learning-book-3rd-edition/raw/master/ch08/ratings_train.txt -O ratings_train.txt\n",
        "!wget https://github.com/rickiepark/python-machine-learning-book-3rd-edition/raw/master/ch08/ratings_train.txt -O ratings_test.txt"
      ],
      "metadata": {
        "id": "gmFPAUmAOZVo",
        "colab": {
          "base_uri": "https://localhost:8080/"
        },
        "outputId": "2c2a3b81-9f32-4717-cd02-6ebb9b885e95"
      },
      "execution_count": null,
      "outputs": [
        {
          "output_type": "stream",
          "name": "stdout",
          "text": [
            "--2023-03-28 21:58:48--  https://github.com/rickiepark/python-machine-learning-book-3rd-edition/raw/master/ch08/ratings_train.txt\n",
            "Resolving github.com (github.com)... 140.82.121.3\n",
            "Connecting to github.com (github.com)|140.82.121.3|:443... connected.\n",
            "HTTP request sent, awaiting response... 302 Found\n",
            "Location: https://raw.githubusercontent.com/rickiepark/python-machine-learning-book-3rd-edition/master/ch08/ratings_train.txt [following]\n",
            "--2023-03-28 21:58:48--  https://raw.githubusercontent.com/rickiepark/python-machine-learning-book-3rd-edition/master/ch08/ratings_train.txt\n",
            "Resolving raw.githubusercontent.com (raw.githubusercontent.com)... 185.199.108.133, 185.199.109.133, 185.199.110.133, ...\n",
            "Connecting to raw.githubusercontent.com (raw.githubusercontent.com)|185.199.108.133|:443... connected.\n",
            "HTTP request sent, awaiting response... 200 OK\n",
            "Length: 14628807 (14M) [text/plain]\n",
            "Saving to: ‘ratings_train.txt’\n",
            "\n",
            "ratings_train.txt   100%[===================>]  13.95M  --.-KB/s    in 0.05s   \n",
            "\n",
            "2023-03-28 21:58:49 (275 MB/s) - ‘ratings_train.txt’ saved [14628807/14628807]\n",
            "\n",
            "--2023-03-28 21:58:49--  https://github.com/rickiepark/python-machine-learning-book-3rd-edition/raw/master/ch08/ratings_train.txt\n",
            "Resolving github.com (github.com)... 140.82.121.3\n",
            "Connecting to github.com (github.com)|140.82.121.3|:443... connected.\n",
            "HTTP request sent, awaiting response... 302 Found\n",
            "Location: https://raw.githubusercontent.com/rickiepark/python-machine-learning-book-3rd-edition/master/ch08/ratings_train.txt [following]\n",
            "--2023-03-28 21:58:49--  https://raw.githubusercontent.com/rickiepark/python-machine-learning-book-3rd-edition/master/ch08/ratings_train.txt\n",
            "Resolving raw.githubusercontent.com (raw.githubusercontent.com)... 185.199.108.133, 185.199.109.133, 185.199.110.133, ...\n",
            "Connecting to raw.githubusercontent.com (raw.githubusercontent.com)|185.199.108.133|:443... connected.\n",
            "HTTP request sent, awaiting response... 200 OK\n",
            "Length: 14628807 (14M) [text/plain]\n",
            "Saving to: ‘ratings_test.txt’\n",
            "\n",
            "ratings_test.txt    100%[===================>]  13.95M  --.-KB/s    in 0.05s   \n",
            "\n",
            "2023-03-28 21:58:49 (276 MB/s) - ‘ratings_test.txt’ saved [14628807/14628807]\n",
            "\n"
          ]
        }
      ]
    },
    {
      "cell_type": "code",
      "source": [
        "import pandas as pd\n",
        "\n",
        "train_df = pd.read_csv('ratings_train.txt', sep='\\t')\n",
        "train_df.head(3)\n",
        "train_df['label'].value_counts( )"
      ],
      "metadata": {
        "colab": {
          "base_uri": "https://localhost:8080/"
        },
        "outputId": "b84b582e-0ad2-40b7-f4bc-b9f4c7185030",
        "id": "QHaT0uUuOZVo"
      },
      "execution_count": null,
      "outputs": [
        {
          "output_type": "execute_result",
          "data": {
            "text/plain": [
              "0    75173\n",
              "1    74827\n",
              "Name: label, dtype: int64"
            ]
          },
          "metadata": {},
          "execution_count": 20
        }
      ]
    },
    {
      "cell_type": "markdown",
      "source": [
        "- 폴더 내 여러 파일 읽기"
      ],
      "metadata": {
        "id": "9RKHdmlUyk4P"
      }
    },
    {
      "cell_type": "code",
      "source": [
        "!unzip news_small.zip"
      ],
      "metadata": {
        "id": "bt3hN8eda67N"
      },
      "execution_count": null,
      "outputs": []
    },
    {
      "cell_type": "code",
      "source": [
        "import os\n",
        "import pandas as pd\n",
        "\n",
        "files1 = os.listdir('103')   #압축이 풀린 103폴더의 파일들을 읽음\n",
        "files2 = os.listdir('105')   #압축이 풀린 105폴더의 파일들을 읽음"
      ],
      "metadata": {
        "id": "7Hyus-Ae_edv"
      },
      "execution_count": null,
      "outputs": []
    },
    {
      "cell_type": "code",
      "source": [
        "y = []\n",
        "x = []\n",
        "\n",
        "#txt파일을 읽어서 파일 내용을 x라는 리스트에 추가\n",
        "def add_file(path):\n",
        "    with open(path, \"r\", encoding=\"utf-8\") as f:\n",
        "        s = f.read()\n",
        "        x.append(s)"
      ],
      "metadata": {
        "id": "8guqyYBLt5e8"
      },
      "execution_count": null,
      "outputs": []
    },
    {
      "cell_type": "code",
      "source": [
        "#반복문, 똑같은 작업을 여러 대상에 적용\n",
        "for f in files1:  #파일갯수만큼 반복\n",
        "     add_file(\"103/\"+f) #103폴더 신문기사가 X에 추가\n",
        "     y.append(0)#103폴더 신문기사만큼 y에 0값을 추가, 0은 103을 나타내는 범주\n",
        "\n",
        "for f in files2:\n",
        "     add_file(\"105/\"+f)\n",
        "     y.append(1)  #105를 나타내는 범주 1"
      ],
      "metadata": {
        "id": "ihpJqPx5ukp3"
      },
      "execution_count": null,
      "outputs": []
    },
    {
      "cell_type": "code",
      "source": [
        "len(y)"
      ],
      "metadata": {
        "colab": {
          "base_uri": "https://localhost:8080/"
        },
        "id": "EetU1_nCvrqY",
        "outputId": "fd218498-b917-4d6e-d2d2-4c35f1ab9d17"
      },
      "execution_count": null,
      "outputs": [
        {
          "output_type": "execute_result",
          "data": {
            "text/plain": [
              "400"
            ]
          },
          "metadata": {},
          "execution_count": 31
        }
      ]
    },
    {
      "cell_type": "code",
      "source": [
        "x[0]"
      ],
      "metadata": {
        "id": "LDATsgxEMfkl",
        "colab": {
          "base_uri": "https://localhost:8080/",
          "height": 315
        },
        "outputId": "ae5b5d97-5eaa-4319-98b1-6ef7fd80e765"
      },
      "execution_count": null,
      "outputs": [
        {
          "output_type": "execute_result",
          "data": {
            "text/plain": [
              "'정무비서관 보좌… 박정희 대통령 온통 경제개발만 생각, 말석 사람 챙기고 야근자에 밤참 보내박정희 대통령(오른쪽)이 1970년 청와대에서 열린 수출확대회의를 마치고 재무부 이재1과장이던 이용만 장로를 격려하고 있다.1966년 7월부터 청와대 비서실에서 일했다. 당시 청와대 비서실 조직은 비서실장 밑에 정무비서관이 있고 그 밑에 비서관(지금의 수석비서관)들이 소속된 체계였다. 오늘날엔 정무비서관이 국회와 정당 관계만 조율하지만, 그땐 모든 비서관을 통제하는 국정 총괄 기능을 맡았다. 재무부 차관을 지내고 막 청와대에 발탁된 서봉균 정무비서관을 보좌하는 게 내 역할이었다. 나는 청와대에서 열리는 대통령 주재 회의의 안건, 참석자 선정과 연락, 회의 후 속기록 작성 등을 맡았다. 가장 중요한 일은 회의 결과를 대통령 지시 각서 형태로 정리해 정무비서관과 비서실장을 거쳐 대통령의 결재를 받은 다음 각 부서에 전달하는 업무였다. 박정희 대통령이 일하는 모습을 가까운 거리에서 지켜봤다. 박 대통령은 ‘기획 및 계획, 집행, 평가와 분석’ 이라는 공식에 입각해 일했다. 체계적·과학적·능률적 프로젝트 수행을 강조했다. 나는 대통령 집무실 바로 옆에 있는 상황실에서 높이 5m, 길이 8m 되는 직사각형 상황판을 통해 부처별 주요 프로젝트의 완공 계획, 진행 실적, 문제점을 일목요연하게 표시하고 관리하는 일을 했다. 수출입 동향, 세수 현황, 산업시설 건설 현황 등을 담은 통계와 도표뿐 아니라 완공된 공장, 건설 중인 공정, 건설 계획 중인 공장을 표시하는 굴뚝 그림으로 지도 곳곳이 가득 찼다. 나는 대통령이 상황실에 들어올 기미가 있으면 언제든 답할 준비를 하면서 대기했다. 덕분에 리더의 입장에서 문제를 바라봤고 경제개발계획을 한눈에 익힐 수 있었다. 박 대통령은 상황실에 들어와 빨간 줄이 길게 늘어나지 않은 프로젝트에 대해 “왜 이렇게 더디게 진행되고 있나”라고 물었다. 그러면 나는 주저 없이 “네, 이 프로젝트는 이런저런 이유로 지체되고 있습니다”라고 답할 수 있어야 했다. 이때 박 대통령은 그 이유를 메모로 남겼다. 장관을 채근하고 독촉하기 위해서였다. 놔두면 알아서 할 리가 없다고 그는 생각했다. 점검하고 독려하는 게 몸에 뱄다. 박 대통령은 1년 열두 달 스물네 시간을 경제개발과 수출만 생각하는 것 같았다. 자기 일에 전부를 걸고 사는 분이었다. 보통사람 같으면 큼직한 상황판에 적힌 작은 숫자가 눈에 들어올 리 없는데, 대통령의 머리엔 깨알 같은 숫자가 일사불란하게 움직이는 듯했다. 항상 숫자 중심으로 질문을 던졌다. 대충 답하고 슬쩍 넘어갈 수가 없었다. 회의가 시작되기 전엔 이후락 비서실장이 상황실에 들어와 점검하는데 박 대통령의 키가 작으니까 자리에 두꺼운 방석을 갖다 놓고 나갔다. 그러면 박 대통령은 들어와서 착석하기 전에 방석을 치워버리곤 했다. ‘키가 작으면 작은 대로 앉으면 되지, 이런 게 왜 필요해’ 라고 말하는 것 같았다. 내가 인상 깊었던 점은 박 대통령의 인간적 모습이다. 박 대통령은 보고만 받은 뒤 휑하고 나가지 않았다. 말석에 앉은 사람들과도 일일이 악수를 하며 “수고가 많네”라고 격려했다. 각 부처 직원들이 상황실 정리를 위해 야간작업을 하는 것을 보면 경호실에 지시해 국수와 커피 등 밤참을 보내주는 것도 잊지 않았다. 사람을 어떻게 움직여야 하는지 알고 있었다.정리=우성규 기자 mainport@kmib.co.kr[미션라이프 홈페이지 바로가기][미션라이프 페이스북] [미션라이프 유튜브]GoodNews paper ⓒ 국민일보(www.kmib.co.kr), 무단전재 및 재배포금지'"
            ],
            "application/vnd.google.colaboratory.intrinsic+json": {
              "type": "string"
            }
          },
          "metadata": {},
          "execution_count": 32
        }
      ]
    },
    {
      "cell_type": "code",
      "source": [
        "df = pd.DataFrame( {'label':y, 'articles':x })\n",
        "df.to_csv(\"news.csv\")"
      ],
      "metadata": {
        "id": "iskunXAwBRkA"
      },
      "execution_count": null,
      "outputs": []
    },
    {
      "cell_type": "markdown",
      "source": [
        "#3. 패키지 설치 및 형태소 분석"
      ],
      "metadata": {
        "id": "abeUp4qDjdWZ"
      }
    },
    {
      "cell_type": "markdown",
      "source": [
        "- KoNLPy 제공 형태소 분석기 활용\n",
        " - Hannanum: 한나눔. KAIST Semantic Web Research Center 개발.\n",
        " - Kkma: 꼬꼬마. 서울대학교 IDS(Intelligent Data Systems) 연구실 개발.\n",
        " - Komoran: 코모란. Shineware에서 개발.\n",
        " - Mecab: 메카브. 일본어용 형태소 분석기를 한국어를 사용할 수 있도록 수정.\n",
        " - Open Korean Text: 오픈 소스 한국어 분석기. 과거 트위터 형태소 분석기."
      ],
      "metadata": {
        "id": "ZG5P0ztTCzzo"
      }
    },
    {
      "cell_type": "code",
      "execution_count": null,
      "metadata": {
        "id": "hjYQy0pYCv1J",
        "colab": {
          "base_uri": "https://localhost:8080/"
        },
        "outputId": "545d575d-b0b6-4b97-c902-c080e36be4b1"
      },
      "outputs": [
        {
          "output_type": "stream",
          "name": "stdout",
          "text": [
            "Looking in indexes: https://pypi.org/simple, https://us-python.pkg.dev/colab-wheels/public/simple/\n",
            "Requirement already satisfied: konlpy in /usr/local/lib/python3.9/dist-packages (0.6.0)\n",
            "Requirement already satisfied: numpy>=1.6 in /usr/local/lib/python3.9/dist-packages (from konlpy) (1.22.4)\n",
            "Requirement already satisfied: lxml>=4.1.0 in /usr/local/lib/python3.9/dist-packages (from konlpy) (4.9.2)\n",
            "Requirement already satisfied: JPype1>=0.7.0 in /usr/local/lib/python3.9/dist-packages (from konlpy) (1.4.1)\n",
            "Requirement already satisfied: packaging in /usr/local/lib/python3.9/dist-packages (from JPype1>=0.7.0->konlpy) (23.0)\n"
          ]
        }
      ],
      "source": [
        "!pip install konlpy"
      ]
    },
    {
      "cell_type": "code",
      "source": [
        "from konlpy.tag import Okt #Okt라는 함수만 부르기기\n",
        "okt=Okt()  #형태소 분석 객체가 만들어짐"
      ],
      "metadata": {
        "id": "2ZkaLszmF_ml"
      },
      "execution_count": null,
      "outputs": []
    },
    {
      "cell_type": "code",
      "source": [
        "okt.nouns(\"반찬들은 다양해서 맘에 드는데\")"
      ],
      "metadata": {
        "colab": {
          "base_uri": "https://localhost:8080/"
        },
        "id": "BAD1z85vGESi",
        "outputId": "8ad0cb23-fb2c-45ad-ffa0-fbe37546c791"
      },
      "execution_count": null,
      "outputs": [
        {
          "output_type": "execute_result",
          "data": {
            "text/plain": [
              "['반찬', '맘']"
            ]
          },
          "metadata": {},
          "execution_count": 38
        }
      ]
    },
    {
      "cell_type": "code",
      "source": [
        "print(okt.morphs(\"열심히 코딩한 당신, 연휴에는 여행을 가봐요\"))\n",
        "# 텍스트를 형태로 단위로 나누는데,이때 각 단어에서 어간을 추출\n",
        "\n",
        "print(okt.pos('열심히 코딩한 당신, 연휴에는 여행을 가봐요'))\n",
        "# 품사추출.\n",
        "\n",
        "print(okt.nouns('열심히 코딩한 당신, 연휴에는 여행을 가봐요'))\n",
        "# 명사추출.\n"
      ],
      "metadata": {
        "colab": {
          "base_uri": "https://localhost:8080/"
        },
        "id": "zDLs7VFvDjGn",
        "outputId": "6d0dc3ed-9e4b-4ed2-a791-2946bbb0ad7a"
      },
      "execution_count": null,
      "outputs": [
        {
          "output_type": "stream",
          "name": "stdout",
          "text": [
            "['열심히', '코딩', '한', '당신', ',', '연휴', '에는', '여행', '을', '가봐요']\n",
            "[('열심히', 'Adverb'), ('코딩', 'Noun'), ('한', 'Josa'), ('당신', 'Noun'), (',', 'Punctuation'), ('연휴', 'Noun'), ('에는', 'Josa'), ('여행', 'Noun'), ('을', 'Josa'), ('가봐요', 'Verb')]\n",
            "['코딩', '당신', '연휴', '여행']\n"
          ]
        }
      ]
    },
    {
      "cell_type": "code",
      "source": [
        "from konlpy.tag import Kkma\n",
        "kkma=Kkma()\n",
        "print(kkma.morphs(\"열심히 코딩한 당신, 연휴에는 여행을 가봐요\"))\n",
        "print(kkma.pos(\"열심히 코딩한 당신, 연휴에는 여행을 가봐요\"))\n",
        "print(kkma.nouns(\"열심히 코딩한 당신, 연휴에는 여행을 가봐요\"))"
      ],
      "metadata": {
        "colab": {
          "base_uri": "https://localhost:8080/"
        },
        "id": "okNJATTKymu5",
        "outputId": "0a9b09c5-e604-46d8-f440-e13b5dcde8c8"
      },
      "execution_count": null,
      "outputs": [
        {
          "output_type": "stream",
          "name": "stdout",
          "text": [
            "['열심히', '코딩', '하', 'ㄴ', '당신', ',', '연휴', '에', '는', '여행', '을', '가보', '아요']\n",
            "[('열심히', 'MAG'), ('코딩', 'NNG'), ('하', 'XSV'), ('ㄴ', 'ETD'), ('당신', 'NP'), (',', 'SP'), ('연휴', 'NNG'), ('에', 'JKM'), ('는', 'JX'), ('여행', 'NNG'), ('을', 'JKO'), ('가보', 'VV'), ('아요', 'EFN')]\n",
            "['코딩', '당신', '연휴', '여행']\n"
          ]
        }
      ]
    },
    {
      "cell_type": "markdown",
      "source": [
        "- 예제 데이터 다운로드"
      ],
      "metadata": {
        "id": "EDn-jIzp0z0W"
      }
    },
    {
      "cell_type": "code",
      "source": [
        "!wget https://github.com/rickiepark/python-machine-learning-book-3rd-edition/raw/master/ch08/ratings_train.txt -O ratings_train.txt\n",
        "!wget https://github.com/rickiepark/python-machine-learning-book-3rd-edition/raw/master/ch08/ratings_train.txt -O ratings_test.txt\n",
        "\n",
        "import pandas as pd\n",
        "train_df = pd.read_csv('ratings_train.txt', sep='\\t')"
      ],
      "metadata": {
        "id": "3l2-B2I4z4FI",
        "colab": {
          "base_uri": "https://localhost:8080/"
        },
        "outputId": "d9541f1f-1d84-4f1e-825a-38397ff8c3d9"
      },
      "execution_count": null,
      "outputs": [
        {
          "output_type": "stream",
          "name": "stdout",
          "text": [
            "--2023-03-28 22:02:06--  https://github.com/rickiepark/python-machine-learning-book-3rd-edition/raw/master/ch08/ratings_train.txt\n",
            "Resolving github.com (github.com)... 140.82.121.3\n",
            "Connecting to github.com (github.com)|140.82.121.3|:443... connected.\n",
            "HTTP request sent, awaiting response... 302 Found\n",
            "Location: https://raw.githubusercontent.com/rickiepark/python-machine-learning-book-3rd-edition/master/ch08/ratings_train.txt [following]\n",
            "--2023-03-28 22:02:06--  https://raw.githubusercontent.com/rickiepark/python-machine-learning-book-3rd-edition/master/ch08/ratings_train.txt\n",
            "Resolving raw.githubusercontent.com (raw.githubusercontent.com)... 185.199.109.133, 185.199.110.133, 185.199.111.133, ...\n",
            "Connecting to raw.githubusercontent.com (raw.githubusercontent.com)|185.199.109.133|:443... connected.\n",
            "HTTP request sent, awaiting response... 200 OK\n",
            "Length: 14628807 (14M) [text/plain]\n",
            "Saving to: ‘ratings_train.txt’\n",
            "\n",
            "ratings_train.txt   100%[===================>]  13.95M  --.-KB/s    in 0.1s    \n",
            "\n",
            "2023-03-28 22:02:06 (113 MB/s) - ‘ratings_train.txt’ saved [14628807/14628807]\n",
            "\n",
            "--2023-03-28 22:02:06--  https://github.com/rickiepark/python-machine-learning-book-3rd-edition/raw/master/ch08/ratings_train.txt\n",
            "Resolving github.com (github.com)... 140.82.121.4\n",
            "Connecting to github.com (github.com)|140.82.121.4|:443... connected.\n",
            "HTTP request sent, awaiting response... 302 Found\n",
            "Location: https://raw.githubusercontent.com/rickiepark/python-machine-learning-book-3rd-edition/master/ch08/ratings_train.txt [following]\n",
            "--2023-03-28 22:02:06--  https://raw.githubusercontent.com/rickiepark/python-machine-learning-book-3rd-edition/master/ch08/ratings_train.txt\n",
            "Resolving raw.githubusercontent.com (raw.githubusercontent.com)... 185.199.108.133, 185.199.109.133, 185.199.110.133, ...\n",
            "Connecting to raw.githubusercontent.com (raw.githubusercontent.com)|185.199.108.133|:443... connected.\n",
            "HTTP request sent, awaiting response... 200 OK\n",
            "Length: 14628807 (14M) [text/plain]\n",
            "Saving to: ‘ratings_test.txt’\n",
            "\n",
            "ratings_test.txt    100%[===================>]  13.95M  71.0MB/s    in 0.2s    \n",
            "\n",
            "2023-03-28 22:02:07 (71.0 MB/s) - ‘ratings_test.txt’ saved [14628807/14628807]\n",
            "\n"
          ]
        }
      ]
    },
    {
      "cell_type": "code",
      "source": [
        "def func1(text):\n",
        "   result = okt.nouns( text )\n",
        "   return result\n",
        "\n",
        "func1(\"5분 있으면 쉬는 시간\" )\n"
      ],
      "metadata": {
        "colab": {
          "base_uri": "https://localhost:8080/"
        },
        "id": "jBGXwEA7CMDt",
        "outputId": "28cac6e5-2d35-413c-b95d-8a2939985f04"
      },
      "execution_count": 102,
      "outputs": [
        {
          "output_type": "execute_result",
          "data": {
            "text/plain": [
              "['시간']"
            ]
          },
          "metadata": {},
          "execution_count": 102
        }
      ]
    },
    {
      "cell_type": "code",
      "source": [
        "from konlpy.tag import Okt\n",
        "Okt = Okt()\n",
        "\n",
        "def tokenizer(text):\n",
        "    # 입력 인자로 들어온 text 를 형태소 단어로 토큰화 하여 list 객체 반환\n",
        "    tokens_ko = Okt.morphs(text)\n",
        "    return tokens_ko"
      ],
      "metadata": {
        "id": "4IVNC5QfQTjk"
      },
      "execution_count": 103,
      "outputs": []
    },
    {
      "cell_type": "markdown",
      "source": [
        "#4. DTM 만들기"
      ],
      "metadata": {
        "id": "3inarWvRmUYA"
      }
    },
    {
      "cell_type": "markdown",
      "source": [
        "- 형태소 분석 후 Document Term Matrix 구성"
      ],
      "metadata": {
        "id": "WdJQBk8SLEJM"
      }
    },
    {
      "cell_type": "code",
      "source": [
        "import pandas as pd\n",
        "df = pd.read_csv(\"news.csv\")\n",
        "from sklearn.model_selection import train_test_split\n",
        "train_df, test_df = train_test_split( df, test_size=0.3)"
      ],
      "metadata": {
        "id": "vknIBkPf1pmx"
      },
      "execution_count": 104,
      "outputs": []
    },
    {
      "cell_type": "code",
      "source": [
        "from sklearn.feature_extraction.text import CountVectorizer, TfidfVectorizer #TF, DTM\n",
        "\n",
        "# Okt 객체의 morphs( ) 객체를 이용한 tokenizer 사용\n",
        "tf_vect = CountVectorizer(tokenizer=tokenizer)\n",
        "dtm = tf_vect.fit_transform( train_df['articles'][0:10] )\n"
      ],
      "metadata": {
        "colab": {
          "base_uri": "https://localhost:8080/"
        },
        "id": "93p4N-98LKGI",
        "outputId": "5f8828a0-d66e-4459-c627-2c9dfdfc7b86"
      },
      "execution_count": 117,
      "outputs": [
        {
          "output_type": "stream",
          "name": "stderr",
          "text": [
            "/usr/local/lib/python3.10/dist-packages/sklearn/feature_extraction/text.py:525: UserWarning: The parameter 'token_pattern' will not be used since 'tokenizer' is not None'\n",
            "  warnings.warn(\n"
          ]
        }
      ]
    },
    {
      "cell_type": "code",
      "source": [
        "from sklearn.feature_extraction.text import TfidfVectorizer\n",
        "# csv를 읽기\n",
        "news = pd.read_csv(\"news.csv\")\n",
        "#news1 = news.query( \"label==1\")\n",
        "# tokenizer 함수를 만들기\n",
        "def func2(text):\n",
        "   result = okt.nouns( text )\n",
        "   return result\n",
        "#스탑워즈: 불용어\n",
        "words = ['기술', '제품', '서비스', '이용자', '사용자', '정보', '소비자', '시장', '업체', '인터넷']\n",
        "# CountVectorizer로 DTM 만드는 객체 생성(tokenizer 지정)\n",
        "vect = TfidfVectorizer(tokenizer=func2, stop_words=words, min_df=3)  #TfidfVectorizer\n",
        "# dtm 생성 (객체.fit_transform(데이터프레임의 텍스트컬럼))\n",
        "news.articles.replace(\"[^ㄱ-ㅎㅏ-ㅣ가-힣]\", \"\", regex=True, inplace=True  )\n",
        "dtm_news = vect.fit_transform(  news.articles )"
      ],
      "metadata": {
        "colab": {
          "base_uri": "https://localhost:8080/"
        },
        "id": "kvOjc4fDEDkj",
        "outputId": "c252a48b-71b4-4bb0-b9fe-e43d2a546f31"
      },
      "execution_count": null,
      "outputs": [
        {
          "output_type": "stream",
          "name": "stderr",
          "text": [
            "/usr/local/lib/python3.10/dist-packages/sklearn/feature_extraction/text.py:525: UserWarning: The parameter 'token_pattern' will not be used since 'tokenizer' is not None'\n",
            "  warnings.warn(\n"
          ]
        }
      ]
    },
    {
      "cell_type": "code",
      "source": [
        "vect.get_feature_names_out()\n",
        "\n",
        "vect.get_stop_words()\n",
        "vect.vocabulary_"
      ],
      "metadata": {
        "id": "QSGSETVOHJvw"
      },
      "execution_count": null,
      "outputs": []
    },
    {
      "cell_type": "code",
      "source": [
        "dic1 = { 1:'abc', 2:'def'    }\n",
        "dic1[1]"
      ],
      "metadata": {
        "colab": {
          "base_uri": "https://localhost:8080/",
          "height": 35
        },
        "id": "J3vPWe8vNdze",
        "outputId": "e6d55964-f5d5-4fb3-8f0a-cf7f243f0245"
      },
      "execution_count": 133,
      "outputs": [
        {
          "output_type": "execute_result",
          "data": {
            "text/plain": [
              "'abc'"
            ],
            "application/vnd.google.colaboratory.intrinsic+json": {
              "type": "string"
            }
          },
          "metadata": {},
          "execution_count": 133
        }
      ]
    },
    {
      "cell_type": "markdown",
      "source": [
        "\n",
        "- Tfidf로 DTM 만들기"
      ],
      "metadata": {
        "id": "CjjStRoyy-xa"
      }
    },
    {
      "cell_type": "code",
      "source": [
        "from sklearn.feature_extraction.text import TfidfVectorizer\n",
        "import numpy as np\n",
        "tfidf_vect = TfidfVectorizer(tokenizer=tokenizer, min_df=10)\n",
        "tfidf_vect.fit(train_df['articles'])  #train의 명사를 뽑은 것까지"
      ],
      "metadata": {
        "id": "_8j0QiXtb_EW",
        "colab": {
          "base_uri": "https://localhost:8080/",
          "height": 74
        },
        "outputId": "3cc00048-829c-494a-f36a-14ca217c3b5e"
      },
      "execution_count": null,
      "outputs": [
        {
          "output_type": "execute_result",
          "data": {
            "text/plain": [
              "TfidfVectorizer(min_df=10, tokenizer=<function tokenizer at 0x7feef21b4940>)"
            ],
            "text/html": [
              "<style>#sk-container-id-1 {color: black;background-color: white;}#sk-container-id-1 pre{padding: 0;}#sk-container-id-1 div.sk-toggleable {background-color: white;}#sk-container-id-1 label.sk-toggleable__label {cursor: pointer;display: block;width: 100%;margin-bottom: 0;padding: 0.3em;box-sizing: border-box;text-align: center;}#sk-container-id-1 label.sk-toggleable__label-arrow:before {content: \"▸\";float: left;margin-right: 0.25em;color: #696969;}#sk-container-id-1 label.sk-toggleable__label-arrow:hover:before {color: black;}#sk-container-id-1 div.sk-estimator:hover label.sk-toggleable__label-arrow:before {color: black;}#sk-container-id-1 div.sk-toggleable__content {max-height: 0;max-width: 0;overflow: hidden;text-align: left;background-color: #f0f8ff;}#sk-container-id-1 div.sk-toggleable__content pre {margin: 0.2em;color: black;border-radius: 0.25em;background-color: #f0f8ff;}#sk-container-id-1 input.sk-toggleable__control:checked~div.sk-toggleable__content {max-height: 200px;max-width: 100%;overflow: auto;}#sk-container-id-1 input.sk-toggleable__control:checked~label.sk-toggleable__label-arrow:before {content: \"▾\";}#sk-container-id-1 div.sk-estimator input.sk-toggleable__control:checked~label.sk-toggleable__label {background-color: #d4ebff;}#sk-container-id-1 div.sk-label input.sk-toggleable__control:checked~label.sk-toggleable__label {background-color: #d4ebff;}#sk-container-id-1 input.sk-hidden--visually {border: 0;clip: rect(1px 1px 1px 1px);clip: rect(1px, 1px, 1px, 1px);height: 1px;margin: -1px;overflow: hidden;padding: 0;position: absolute;width: 1px;}#sk-container-id-1 div.sk-estimator {font-family: monospace;background-color: #f0f8ff;border: 1px dotted black;border-radius: 0.25em;box-sizing: border-box;margin-bottom: 0.5em;}#sk-container-id-1 div.sk-estimator:hover {background-color: #d4ebff;}#sk-container-id-1 div.sk-parallel-item::after {content: \"\";width: 100%;border-bottom: 1px solid gray;flex-grow: 1;}#sk-container-id-1 div.sk-label:hover label.sk-toggleable__label {background-color: #d4ebff;}#sk-container-id-1 div.sk-serial::before {content: \"\";position: absolute;border-left: 1px solid gray;box-sizing: border-box;top: 0;bottom: 0;left: 50%;z-index: 0;}#sk-container-id-1 div.sk-serial {display: flex;flex-direction: column;align-items: center;background-color: white;padding-right: 0.2em;padding-left: 0.2em;position: relative;}#sk-container-id-1 div.sk-item {position: relative;z-index: 1;}#sk-container-id-1 div.sk-parallel {display: flex;align-items: stretch;justify-content: center;background-color: white;position: relative;}#sk-container-id-1 div.sk-item::before, #sk-container-id-1 div.sk-parallel-item::before {content: \"\";position: absolute;border-left: 1px solid gray;box-sizing: border-box;top: 0;bottom: 0;left: 50%;z-index: -1;}#sk-container-id-1 div.sk-parallel-item {display: flex;flex-direction: column;z-index: 1;position: relative;background-color: white;}#sk-container-id-1 div.sk-parallel-item:first-child::after {align-self: flex-end;width: 50%;}#sk-container-id-1 div.sk-parallel-item:last-child::after {align-self: flex-start;width: 50%;}#sk-container-id-1 div.sk-parallel-item:only-child::after {width: 0;}#sk-container-id-1 div.sk-dashed-wrapped {border: 1px dashed gray;margin: 0 0.4em 0.5em 0.4em;box-sizing: border-box;padding-bottom: 0.4em;background-color: white;}#sk-container-id-1 div.sk-label label {font-family: monospace;font-weight: bold;display: inline-block;line-height: 1.2em;}#sk-container-id-1 div.sk-label-container {text-align: center;}#sk-container-id-1 div.sk-container {/* jupyter's `normalize.less` sets `[hidden] { display: none; }` but bootstrap.min.css set `[hidden] { display: none !important; }` so we also need the `!important` here to be able to override the default hidden behavior on the sphinx rendered scikit-learn.org. See: https://github.com/scikit-learn/scikit-learn/issues/21755 */display: inline-block !important;position: relative;}#sk-container-id-1 div.sk-text-repr-fallback {display: none;}</style><div id=\"sk-container-id-1\" class=\"sk-top-container\"><div class=\"sk-text-repr-fallback\"><pre>TfidfVectorizer(min_df=10, tokenizer=&lt;function tokenizer at 0x7feef21b4940&gt;)</pre><b>In a Jupyter environment, please rerun this cell to show the HTML representation or trust the notebook. <br />On GitHub, the HTML representation is unable to render, please try loading this page with nbviewer.org.</b></div><div class=\"sk-container\" hidden><div class=\"sk-item\"><div class=\"sk-estimator sk-toggleable\"><input class=\"sk-toggleable__control sk-hidden--visually\" id=\"sk-estimator-id-1\" type=\"checkbox\" checked><label for=\"sk-estimator-id-1\" class=\"sk-toggleable__label sk-toggleable__label-arrow\">TfidfVectorizer</label><div class=\"sk-toggleable__content\"><pre>TfidfVectorizer(min_df=10, tokenizer=&lt;function tokenizer at 0x7feef21b4940&gt;)</pre></div></div></div></div></div>"
            ]
          },
          "metadata": {},
          "execution_count": 56
        }
      ]
    },
    {
      "cell_type": "code",
      "source": [
        "tfidf_matrix_train = tfidf_vect.transform(train_df['articles'])\n",
        "tfidf_matrix_test = tfidf_vect.transform(test_df['articles'])"
      ],
      "metadata": {
        "id": "_WKWkWkK0VVj"
      },
      "execution_count": null,
      "outputs": []
    },
    {
      "cell_type": "code",
      "source": [
        "tfidf_matrix_train"
      ],
      "metadata": {
        "colab": {
          "base_uri": "https://localhost:8080/"
        },
        "id": "xMjMH7t0xWuz",
        "outputId": "f5223a0c-a3bc-47ae-eadd-399be4dd0f01"
      },
      "execution_count": null,
      "outputs": [
        {
          "output_type": "execute_result",
          "data": {
            "text/plain": [
              "<280x1890 sparse matrix of type '<class 'numpy.float64'>'\n",
              "\twith 62404 stored elements in Compressed Sparse Row format>"
            ]
          },
          "metadata": {},
          "execution_count": 58
        }
      ]
    },
    {
      "cell_type": "code",
      "source": [
        "tfidf_matrix_train.todense()"
      ],
      "metadata": {
        "id": "XgW4-FzaSUtL",
        "colab": {
          "base_uri": "https://localhost:8080/"
        },
        "outputId": "66819130-813e-4184-ee99-fc211c159175"
      },
      "execution_count": null,
      "outputs": [
        {
          "output_type": "execute_result",
          "data": {
            "text/plain": [
              "matrix([[0.00515071, 0.        , 0.        , ..., 0.        , 0.        ,\n",
              "         0.        ],\n",
              "        [0.0143323 , 0.        , 0.        , ..., 0.        , 0.02287888,\n",
              "         0.02287888],\n",
              "        [0.        , 0.        , 0.        , ..., 0.        , 0.        ,\n",
              "         0.        ],\n",
              "        ...,\n",
              "        [0.        , 0.        , 0.        , ..., 0.02409341, 0.        ,\n",
              "         0.        ],\n",
              "        [0.03412783, 0.        , 0.        , ..., 0.        , 0.        ,\n",
              "         0.        ],\n",
              "        [0.        , 0.        , 0.        , ..., 0.        , 0.        ,\n",
              "         0.        ]])"
            ]
          },
          "metadata": {},
          "execution_count": 60
        }
      ]
    },
    {
      "cell_type": "code",
      "source": [
        "#시간 소요\n",
        "\n",
        "def token(text):\n",
        "    # 입력 인자로 들어온 text 를 형태소 단어로 토큰화 하여 list 객체 반환\n",
        "    tokens_ko = Okt.nouns(text)\n",
        "    return tokens_ko\n",
        "\n",
        "from sklearn.feature_extraction.text import CountVectorizer\n",
        "tf_vect = CountVectorizer(tokenizer=token, min_df=10)\n",
        "tf_vect.fit_transform( df['articles'])"
      ],
      "metadata": {
        "id": "wJDOuMqOQTle",
        "colab": {
          "base_uri": "https://localhost:8080/"
        },
        "outputId": "21e80a1c-e2fb-4e87-a426-fe5219a83b6d"
      },
      "execution_count": null,
      "outputs": [
        {
          "output_type": "stream",
          "name": "stderr",
          "text": [
            "/usr/local/lib/python3.9/dist-packages/sklearn/feature_extraction/text.py:528: UserWarning: The parameter 'token_pattern' will not be used since 'tokenizer' is not None'\n",
            "  warnings.warn(\n"
          ]
        },
        {
          "output_type": "execute_result",
          "data": {
            "text/plain": [
              "<400x1730 sparse matrix of type '<class 'numpy.int64'>'\n",
              "\twith 54834 stored elements in Compressed Sparse Row format>"
            ]
          },
          "metadata": {},
          "execution_count": 61
        }
      ]
    },
    {
      "cell_type": "markdown",
      "source": [
        "- 리스트로 형태소 구성"
      ],
      "metadata": {
        "id": "2zhWhONeSK_O"
      }
    },
    {
      "cell_type": "code",
      "source": [
        "!pip install tqdm #진행상태를 알려주는 기능 제공\n",
        "!pip install konlpy\n",
        "\n",
        "import tqdm\n",
        "#값을 저장할 비어있는 리스트를 만듬.\n",
        "tokenized_data = []\n",
        "\n",
        "# 불용어 정의\n",
        "stopwords = ['을', 'ㅋㅋ',\n",
        "             '부터', '까지' '적', '의','가','이','은',\n",
        "             '들','는','좀','잘','걍','과','도','를','으로',\n",
        "             '자','에','와','한','하다', '점', '나']\n",
        "\n"
      ],
      "metadata": {
        "id": "aWW7fKrzSOpk",
        "colab": {
          "base_uri": "https://localhost:8080/"
        },
        "outputId": "03613079-0c5c-4130-e02b-13adf575d48b"
      },
      "execution_count": null,
      "outputs": [
        {
          "output_type": "stream",
          "name": "stdout",
          "text": [
            "Looking in indexes: https://pypi.org/simple, https://us-python.pkg.dev/colab-wheels/public/simple/\n",
            "Requirement already satisfied: tqdm in /usr/local/lib/python3.9/dist-packages (4.65.0)\n",
            "Looking in indexes: https://pypi.org/simple, https://us-python.pkg.dev/colab-wheels/public/simple/\n",
            "Requirement already satisfied: konlpy in /usr/local/lib/python3.9/dist-packages (0.6.0)\n",
            "Requirement already satisfied: lxml>=4.1.0 in /usr/local/lib/python3.9/dist-packages (from konlpy) (4.9.2)\n",
            "Requirement already satisfied: JPype1>=0.7.0 in /usr/local/lib/python3.9/dist-packages (from konlpy) (1.4.1)\n",
            "Requirement already satisfied: numpy>=1.6 in /usr/local/lib/python3.9/dist-packages (from konlpy) (1.22.4)\n",
            "Requirement already satisfied: packaging in /usr/local/lib/python3.9/dist-packages (from JPype1>=0.7.0->konlpy) (23.0)\n"
          ]
        }
      ]
    },
    {
      "cell_type": "code",
      "source": [
        "# 형태소 분석기 OKT를 사용한 토큰화 작업\n",
        "from konlpy.tag import Okt\n",
        "okt = Okt()"
      ],
      "metadata": {
        "id": "Z-DcaivuRUyM"
      },
      "execution_count": null,
      "outputs": []
    },
    {
      "cell_type": "code",
      "source": [
        "texts = df[\"articles\"].values.tolist()\n",
        "\n",
        "for sentence in texts: #리뷰 각각에 대해서 아래작업 반복\n",
        "    tokenized_sentence = okt.nouns(sentence)  #각 리뷰에서 명사만 뽑아서 리스트\n",
        "    #위에서 명사만 추출한 결과에서, 각 명사가 stopwords인지 체크하고\n",
        "    #stopwords 아닌 명사만 사용함\n",
        "    stopwords_removed_sentence = [word for word in tokenized_sentence if not word in stopwords] # 불용어 제거\n",
        "    tokenized_data.append(stopwords_removed_sentence)\n",
        "\n",
        "len(tokenized_data)"
      ],
      "metadata": {
        "colab": {
          "base_uri": "https://localhost:8080/"
        },
        "id": "oG0NBGcQRSqN",
        "outputId": "62823006-f4ca-4eae-a7e7-e76066e5126c"
      },
      "execution_count": null,
      "outputs": [
        {
          "output_type": "execute_result",
          "data": {
            "text/plain": [
              "400"
            ]
          },
          "metadata": {},
          "execution_count": 73
        }
      ]
    },
    {
      "cell_type": "code",
      "source": [
        "!pip install konlpy"
      ],
      "metadata": {
        "id": "2M9Q89dxUXqi"
      },
      "execution_count": null,
      "outputs": []
    },
    {
      "cell_type": "code",
      "source": [
        "import pandas as pd\n",
        "news = pd.read_csv(\"news.csv\")\n",
        "news.articles.replace(\"[^ㄱ-ㅎㅏ-ㅣ가-힣]\", \" \", regex=True, inplace=True  )\n",
        "from konlpy.tag import Okt\n",
        "okt = Okt()"
      ],
      "metadata": {
        "id": "Tkrpd8GOUMPY"
      },
      "execution_count": 13,
      "outputs": []
    },
    {
      "cell_type": "code",
      "source": [
        "result = []\n",
        "stopwords =  ['을', '부터']\n",
        "for i in news.articles[0:10]:\n",
        "  tmp = okt.nouns( i )\n",
        "  tmp2 = [   i      for i in tmp if not i in stopwords  ]\n",
        "  result.append( tmp2 )"
      ],
      "metadata": {
        "id": "HVuH1LBhUzIr"
      },
      "execution_count": 15,
      "outputs": []
    },
    {
      "cell_type": "code",
      "source": [
        "#data_sent_new.csv 파일->1~100행으로 제한->한글만 남기시고->\n",
        "sent = pd.read_csv(\"data_sent_new.csv\", encoding=\"cp949\")\n",
        "sent1 = sent[0:100]\n",
        "sent1.sentence.replace(\"[^ㄱ-ㅎㅏ-ㅣ가-힣]\", \" \", regex=True, inplace=True  )\n",
        "#1) CountVectorizer로 dtm\n",
        "def func1(text):\n",
        "  result = okt.nouns( text )\n",
        "  return result\n",
        "stops = ['사람', '생활', '시간', '사회', '문제', '이야기', '경우', '상황', '이용', '대상']\n",
        "from sklearn.feature_extraction.text import CountVectorizer\n",
        "vect = CountVectorizer(tokenizer=func1, stop_words=stops)\n",
        "dtm = vect.fit_transform( sent1.sentence )\n",
        "#2) list의 list형태로 표현\n",
        "result = []\n",
        "for i in sent1.sentence:\n",
        "  tmp = okt.nouns(i)\n",
        "  tmp2 = [i for i in tmp if not i in stops]\n",
        "  result.append( tmp2 )\n"
      ],
      "metadata": {
        "colab": {
          "base_uri": "https://localhost:8080/"
        },
        "id": "r2nVmKJYWrML",
        "outputId": "8d94d8fc-d699-4f12-9c94-5bfc19a7b506"
      },
      "execution_count": 25,
      "outputs": [
        {
          "output_type": "stream",
          "name": "stderr",
          "text": [
            "<ipython-input-25-632b577c103e>:4: SettingWithCopyWarning: \n",
            "A value is trying to be set on a copy of a slice from a DataFrame\n",
            "\n",
            "See the caveats in the documentation: https://pandas.pydata.org/pandas-docs/stable/user_guide/indexing.html#returning-a-view-versus-a-copy\n",
            "  sent1.sentence.replace(\"[^ㄱ-ㅎㅏ-ㅣ가-힣]\", \" \", regex=True, inplace=True  )\n",
            "/usr/local/lib/python3.10/dist-packages/sklearn/feature_extraction/text.py:525: UserWarning: The parameter 'token_pattern' will not be used since 'tokenizer' is not None'\n",
            "  warnings.warn(\n"
          ]
        }
      ]
    }
  ]
}